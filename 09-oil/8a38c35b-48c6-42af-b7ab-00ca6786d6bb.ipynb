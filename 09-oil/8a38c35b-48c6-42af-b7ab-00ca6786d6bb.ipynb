{
 "cells": [
  {
   "cell_type": "markdown",
   "metadata": {},
   "source": [
    "# Выбор локации для скважины"
   ]
  },
  {
   "cell_type": "markdown",
   "metadata": {},
   "source": [
    "Допустим, вы работаете в добывающей компании «ГлавРосГосНефть». Нужно решить, где бурить новую скважину.\n",
    "\n",
    "Вам предоставлены пробы нефти в трёх регионах: в каждом 100 000 месторождений, где измерили качество нефти и объём её запасов. Постройте модель машинного обучения, которая поможет определить регион, где добыча принесёт наибольшую прибыль. Проанализируйте возможную прибыль и риски техникой *Bootstrap.*\n",
    "\n",
    "Шаги для выбора локации:\n",
    "\n",
    "- В избранном регионе ищут месторождения, для каждого определяют значения признаков;\n",
    "- Строят модель и оценивают объём запасов;\n",
    "- Выбирают месторождения с самым высокими оценками значений. Количество месторождений зависит от бюджета компании и стоимости разработки одной скважины;\n",
    "- Прибыль равна суммарной прибыли отобранных месторождений."
   ]
  },
  {
   "cell_type": "markdown",
   "metadata": {},
   "source": [
    "## Загрузка и подготовка данных"
   ]
  },
  {
   "cell_type": "markdown",
   "metadata": {},
   "source": [
    "Загрузим необходимые библиотеки"
   ]
  },
  {
   "cell_type": "code",
   "execution_count": 1,
   "metadata": {},
   "outputs": [],
   "source": [
    "!pip install scikit-learn==1.1.3 -q\n",
    "!pip install matplotlib==3.5.2 -q"
   ]
  },
  {
   "cell_type": "markdown",
   "metadata": {},
   "source": [
    "Импортируем библиотеки"
   ]
  },
  {
   "cell_type": "code",
   "execution_count": 2,
   "metadata": {},
   "outputs": [],
   "source": [
    "import pandas as pd\n",
    "import numpy as np\n",
    "import matplotlib.pyplot as plt\n",
    "import seaborn as sns\n",
    "import math\n",
    "import scipy.stats\n",
    "from sklearn.metrics import mean_squared_error\n",
    "from sklearn.preprocessing import StandardScaler, MinMaxScaler\n",
    "from sklearn.model_selection import train_test_split\n",
    "from sklearn.linear_model import LinearRegression, Lasso\n",
    "from sklearn.pipeline import Pipeline\n",
    "from sklearn.compose import ColumnTransformer"
   ]
  },
  {
   "cell_type": "markdown",
   "metadata": {},
   "source": [
    "### Загрузка данных"
   ]
  },
  {
   "cell_type": "code",
   "execution_count": 3,
   "metadata": {},
   "outputs": [],
   "source": [
    "try:\n",
    "    f_location_df = pd.read_csv('/datasets/geo_data_0.csv')\n",
    "    s_location_df = pd.read_csv('/datasets/geo_data_1.csv')\n",
    "    t_location_df = pd.read_csv('/datasets/geo_data_2.csv')\n",
    "except:\n",
    "    f_location_df = pd.read_csv('F:\\\\Учеба яндекс\\\\projects\\\\9_GRGN\\\\geo_data_0.csv')\n",
    "    s_location_df = pd.read_csv('F:\\\\Учеба яндекс\\\\projects\\\\9_GRGN\\\\geo_data_1.csv')\n",
    "    t_location_df = pd.read_csv('F:\\\\Учеба яндекс\\\\projects\\\\9_GRGN\\\\geo_data_2.csv')"
   ]
  },
  {
   "cell_type": "markdown",
   "metadata": {},
   "source": [
    "Сохраним все ключевые значения для расчётов в отдельных переменных"
   ]
  },
  {
   "cell_type": "code",
   "execution_count": 4,
   "metadata": {},
   "outputs": [],
   "source": [
    "NUM_OF_RES_POINTS = 500\n",
    "NUM_OF_BEST_POINTS = 200\n",
    "BUDGET = 10000000\n",
    "BARREL_COST = 450"
   ]
  },
  {
   "cell_type": "markdown",
   "metadata": {},
   "source": [
    "**Изучим данные**"
   ]
  },
  {
   "cell_type": "code",
   "execution_count": 5,
   "metadata": {},
   "outputs": [],
   "source": [
    "def first_look(df):\n",
    "    df.info()\n",
    "    return display(df.describe(),df.head(10))"
   ]
  },
  {
   "cell_type": "markdown",
   "metadata": {},
   "source": [
    "Изучим данные с первой локации"
   ]
  },
  {
   "cell_type": "code",
   "execution_count": 6,
   "metadata": {
    "scrolled": true
   },
   "outputs": [
    {
     "name": "stdout",
     "output_type": "stream",
     "text": [
      "<class 'pandas.core.frame.DataFrame'>\n",
      "RangeIndex: 100000 entries, 0 to 99999\n",
      "Data columns (total 5 columns):\n",
      " #   Column   Non-Null Count   Dtype  \n",
      "---  ------   --------------   -----  \n",
      " 0   id       100000 non-null  object \n",
      " 1   f0       100000 non-null  float64\n",
      " 2   f1       100000 non-null  float64\n",
      " 3   f2       100000 non-null  float64\n",
      " 4   product  100000 non-null  float64\n",
      "dtypes: float64(4), object(1)\n",
      "memory usage: 3.8+ MB\n"
     ]
    },
    {
     "data": {
      "text/html": [
       "<div>\n",
       "<style scoped>\n",
       "    .dataframe tbody tr th:only-of-type {\n",
       "        vertical-align: middle;\n",
       "    }\n",
       "\n",
       "    .dataframe tbody tr th {\n",
       "        vertical-align: top;\n",
       "    }\n",
       "\n",
       "    .dataframe thead th {\n",
       "        text-align: right;\n",
       "    }\n",
       "</style>\n",
       "<table border=\"1\" class=\"dataframe\">\n",
       "  <thead>\n",
       "    <tr style=\"text-align: right;\">\n",
       "      <th></th>\n",
       "      <th>f0</th>\n",
       "      <th>f1</th>\n",
       "      <th>f2</th>\n",
       "      <th>product</th>\n",
       "    </tr>\n",
       "  </thead>\n",
       "  <tbody>\n",
       "    <tr>\n",
       "      <th>count</th>\n",
       "      <td>100000.000000</td>\n",
       "      <td>100000.000000</td>\n",
       "      <td>100000.000000</td>\n",
       "      <td>100000.000000</td>\n",
       "    </tr>\n",
       "    <tr>\n",
       "      <th>mean</th>\n",
       "      <td>0.500419</td>\n",
       "      <td>0.250143</td>\n",
       "      <td>2.502647</td>\n",
       "      <td>92.500000</td>\n",
       "    </tr>\n",
       "    <tr>\n",
       "      <th>std</th>\n",
       "      <td>0.871832</td>\n",
       "      <td>0.504433</td>\n",
       "      <td>3.248248</td>\n",
       "      <td>44.288691</td>\n",
       "    </tr>\n",
       "    <tr>\n",
       "      <th>min</th>\n",
       "      <td>-1.408605</td>\n",
       "      <td>-0.848218</td>\n",
       "      <td>-12.088328</td>\n",
       "      <td>0.000000</td>\n",
       "    </tr>\n",
       "    <tr>\n",
       "      <th>25%</th>\n",
       "      <td>-0.072580</td>\n",
       "      <td>-0.200881</td>\n",
       "      <td>0.287748</td>\n",
       "      <td>56.497507</td>\n",
       "    </tr>\n",
       "    <tr>\n",
       "      <th>50%</th>\n",
       "      <td>0.502360</td>\n",
       "      <td>0.250252</td>\n",
       "      <td>2.515969</td>\n",
       "      <td>91.849972</td>\n",
       "    </tr>\n",
       "    <tr>\n",
       "      <th>75%</th>\n",
       "      <td>1.073581</td>\n",
       "      <td>0.700646</td>\n",
       "      <td>4.715088</td>\n",
       "      <td>128.564089</td>\n",
       "    </tr>\n",
       "    <tr>\n",
       "      <th>max</th>\n",
       "      <td>2.362331</td>\n",
       "      <td>1.343769</td>\n",
       "      <td>16.003790</td>\n",
       "      <td>185.364347</td>\n",
       "    </tr>\n",
       "  </tbody>\n",
       "</table>\n",
       "</div>"
      ],
      "text/plain": [
       "                  f0             f1             f2        product\n",
       "count  100000.000000  100000.000000  100000.000000  100000.000000\n",
       "mean        0.500419       0.250143       2.502647      92.500000\n",
       "std         0.871832       0.504433       3.248248      44.288691\n",
       "min        -1.408605      -0.848218     -12.088328       0.000000\n",
       "25%        -0.072580      -0.200881       0.287748      56.497507\n",
       "50%         0.502360       0.250252       2.515969      91.849972\n",
       "75%         1.073581       0.700646       4.715088     128.564089\n",
       "max         2.362331       1.343769      16.003790     185.364347"
      ]
     },
     "metadata": {},
     "output_type": "display_data"
    },
    {
     "data": {
      "text/html": [
       "<div>\n",
       "<style scoped>\n",
       "    .dataframe tbody tr th:only-of-type {\n",
       "        vertical-align: middle;\n",
       "    }\n",
       "\n",
       "    .dataframe tbody tr th {\n",
       "        vertical-align: top;\n",
       "    }\n",
       "\n",
       "    .dataframe thead th {\n",
       "        text-align: right;\n",
       "    }\n",
       "</style>\n",
       "<table border=\"1\" class=\"dataframe\">\n",
       "  <thead>\n",
       "    <tr style=\"text-align: right;\">\n",
       "      <th></th>\n",
       "      <th>id</th>\n",
       "      <th>f0</th>\n",
       "      <th>f1</th>\n",
       "      <th>f2</th>\n",
       "      <th>product</th>\n",
       "    </tr>\n",
       "  </thead>\n",
       "  <tbody>\n",
       "    <tr>\n",
       "      <th>0</th>\n",
       "      <td>txEyH</td>\n",
       "      <td>0.705745</td>\n",
       "      <td>-0.497823</td>\n",
       "      <td>1.221170</td>\n",
       "      <td>105.280062</td>\n",
       "    </tr>\n",
       "    <tr>\n",
       "      <th>1</th>\n",
       "      <td>2acmU</td>\n",
       "      <td>1.334711</td>\n",
       "      <td>-0.340164</td>\n",
       "      <td>4.365080</td>\n",
       "      <td>73.037750</td>\n",
       "    </tr>\n",
       "    <tr>\n",
       "      <th>2</th>\n",
       "      <td>409Wp</td>\n",
       "      <td>1.022732</td>\n",
       "      <td>0.151990</td>\n",
       "      <td>1.419926</td>\n",
       "      <td>85.265647</td>\n",
       "    </tr>\n",
       "    <tr>\n",
       "      <th>3</th>\n",
       "      <td>iJLyR</td>\n",
       "      <td>-0.032172</td>\n",
       "      <td>0.139033</td>\n",
       "      <td>2.978566</td>\n",
       "      <td>168.620776</td>\n",
       "    </tr>\n",
       "    <tr>\n",
       "      <th>4</th>\n",
       "      <td>Xdl7t</td>\n",
       "      <td>1.988431</td>\n",
       "      <td>0.155413</td>\n",
       "      <td>4.751769</td>\n",
       "      <td>154.036647</td>\n",
       "    </tr>\n",
       "    <tr>\n",
       "      <th>5</th>\n",
       "      <td>wX4Hy</td>\n",
       "      <td>0.969570</td>\n",
       "      <td>0.489775</td>\n",
       "      <td>-0.735383</td>\n",
       "      <td>64.741541</td>\n",
       "    </tr>\n",
       "    <tr>\n",
       "      <th>6</th>\n",
       "      <td>tL6pL</td>\n",
       "      <td>0.645075</td>\n",
       "      <td>0.530656</td>\n",
       "      <td>1.780266</td>\n",
       "      <td>49.055285</td>\n",
       "    </tr>\n",
       "    <tr>\n",
       "      <th>7</th>\n",
       "      <td>BYPU6</td>\n",
       "      <td>-0.400648</td>\n",
       "      <td>0.808337</td>\n",
       "      <td>-5.624670</td>\n",
       "      <td>72.943292</td>\n",
       "    </tr>\n",
       "    <tr>\n",
       "      <th>8</th>\n",
       "      <td>j9Oui</td>\n",
       "      <td>0.643105</td>\n",
       "      <td>-0.551583</td>\n",
       "      <td>2.372141</td>\n",
       "      <td>113.356160</td>\n",
       "    </tr>\n",
       "    <tr>\n",
       "      <th>9</th>\n",
       "      <td>OLuZU</td>\n",
       "      <td>2.173381</td>\n",
       "      <td>0.563698</td>\n",
       "      <td>9.441852</td>\n",
       "      <td>127.910945</td>\n",
       "    </tr>\n",
       "  </tbody>\n",
       "</table>\n",
       "</div>"
      ],
      "text/plain": [
       "      id        f0        f1        f2     product\n",
       "0  txEyH  0.705745 -0.497823  1.221170  105.280062\n",
       "1  2acmU  1.334711 -0.340164  4.365080   73.037750\n",
       "2  409Wp  1.022732  0.151990  1.419926   85.265647\n",
       "3  iJLyR -0.032172  0.139033  2.978566  168.620776\n",
       "4  Xdl7t  1.988431  0.155413  4.751769  154.036647\n",
       "5  wX4Hy  0.969570  0.489775 -0.735383   64.741541\n",
       "6  tL6pL  0.645075  0.530656  1.780266   49.055285\n",
       "7  BYPU6 -0.400648  0.808337 -5.624670   72.943292\n",
       "8  j9Oui  0.643105 -0.551583  2.372141  113.356160\n",
       "9  OLuZU  2.173381  0.563698  9.441852  127.910945"
      ]
     },
     "metadata": {},
     "output_type": "display_data"
    }
   ],
   "source": [
    "first_look(f_location_df)"
   ]
  },
  {
   "cell_type": "markdown",
   "metadata": {},
   "source": [
    "Изучим данные со второй локации"
   ]
  },
  {
   "cell_type": "code",
   "execution_count": 7,
   "metadata": {
    "scrolled": true
   },
   "outputs": [
    {
     "name": "stdout",
     "output_type": "stream",
     "text": [
      "<class 'pandas.core.frame.DataFrame'>\n",
      "RangeIndex: 100000 entries, 0 to 99999\n",
      "Data columns (total 5 columns):\n",
      " #   Column   Non-Null Count   Dtype  \n",
      "---  ------   --------------   -----  \n",
      " 0   id       100000 non-null  object \n",
      " 1   f0       100000 non-null  float64\n",
      " 2   f1       100000 non-null  float64\n",
      " 3   f2       100000 non-null  float64\n",
      " 4   product  100000 non-null  float64\n",
      "dtypes: float64(4), object(1)\n",
      "memory usage: 3.8+ MB\n"
     ]
    },
    {
     "data": {
      "text/html": [
       "<div>\n",
       "<style scoped>\n",
       "    .dataframe tbody tr th:only-of-type {\n",
       "        vertical-align: middle;\n",
       "    }\n",
       "\n",
       "    .dataframe tbody tr th {\n",
       "        vertical-align: top;\n",
       "    }\n",
       "\n",
       "    .dataframe thead th {\n",
       "        text-align: right;\n",
       "    }\n",
       "</style>\n",
       "<table border=\"1\" class=\"dataframe\">\n",
       "  <thead>\n",
       "    <tr style=\"text-align: right;\">\n",
       "      <th></th>\n",
       "      <th>f0</th>\n",
       "      <th>f1</th>\n",
       "      <th>f2</th>\n",
       "      <th>product</th>\n",
       "    </tr>\n",
       "  </thead>\n",
       "  <tbody>\n",
       "    <tr>\n",
       "      <th>count</th>\n",
       "      <td>100000.000000</td>\n",
       "      <td>100000.000000</td>\n",
       "      <td>100000.000000</td>\n",
       "      <td>100000.000000</td>\n",
       "    </tr>\n",
       "    <tr>\n",
       "      <th>mean</th>\n",
       "      <td>1.141296</td>\n",
       "      <td>-4.796579</td>\n",
       "      <td>2.494541</td>\n",
       "      <td>68.825000</td>\n",
       "    </tr>\n",
       "    <tr>\n",
       "      <th>std</th>\n",
       "      <td>8.965932</td>\n",
       "      <td>5.119872</td>\n",
       "      <td>1.703572</td>\n",
       "      <td>45.944423</td>\n",
       "    </tr>\n",
       "    <tr>\n",
       "      <th>min</th>\n",
       "      <td>-31.609576</td>\n",
       "      <td>-26.358598</td>\n",
       "      <td>-0.018144</td>\n",
       "      <td>0.000000</td>\n",
       "    </tr>\n",
       "    <tr>\n",
       "      <th>25%</th>\n",
       "      <td>-6.298551</td>\n",
       "      <td>-8.267985</td>\n",
       "      <td>1.000021</td>\n",
       "      <td>26.953261</td>\n",
       "    </tr>\n",
       "    <tr>\n",
       "      <th>50%</th>\n",
       "      <td>1.153055</td>\n",
       "      <td>-4.813172</td>\n",
       "      <td>2.011479</td>\n",
       "      <td>57.085625</td>\n",
       "    </tr>\n",
       "    <tr>\n",
       "      <th>75%</th>\n",
       "      <td>8.621015</td>\n",
       "      <td>-1.332816</td>\n",
       "      <td>3.999904</td>\n",
       "      <td>107.813044</td>\n",
       "    </tr>\n",
       "    <tr>\n",
       "      <th>max</th>\n",
       "      <td>29.421755</td>\n",
       "      <td>18.734063</td>\n",
       "      <td>5.019721</td>\n",
       "      <td>137.945408</td>\n",
       "    </tr>\n",
       "  </tbody>\n",
       "</table>\n",
       "</div>"
      ],
      "text/plain": [
       "                  f0             f1             f2        product\n",
       "count  100000.000000  100000.000000  100000.000000  100000.000000\n",
       "mean        1.141296      -4.796579       2.494541      68.825000\n",
       "std         8.965932       5.119872       1.703572      45.944423\n",
       "min       -31.609576     -26.358598      -0.018144       0.000000\n",
       "25%        -6.298551      -8.267985       1.000021      26.953261\n",
       "50%         1.153055      -4.813172       2.011479      57.085625\n",
       "75%         8.621015      -1.332816       3.999904     107.813044\n",
       "max        29.421755      18.734063       5.019721     137.945408"
      ]
     },
     "metadata": {},
     "output_type": "display_data"
    },
    {
     "data": {
      "text/html": [
       "<div>\n",
       "<style scoped>\n",
       "    .dataframe tbody tr th:only-of-type {\n",
       "        vertical-align: middle;\n",
       "    }\n",
       "\n",
       "    .dataframe tbody tr th {\n",
       "        vertical-align: top;\n",
       "    }\n",
       "\n",
       "    .dataframe thead th {\n",
       "        text-align: right;\n",
       "    }\n",
       "</style>\n",
       "<table border=\"1\" class=\"dataframe\">\n",
       "  <thead>\n",
       "    <tr style=\"text-align: right;\">\n",
       "      <th></th>\n",
       "      <th>id</th>\n",
       "      <th>f0</th>\n",
       "      <th>f1</th>\n",
       "      <th>f2</th>\n",
       "      <th>product</th>\n",
       "    </tr>\n",
       "  </thead>\n",
       "  <tbody>\n",
       "    <tr>\n",
       "      <th>0</th>\n",
       "      <td>kBEdx</td>\n",
       "      <td>-15.001348</td>\n",
       "      <td>-8.276000</td>\n",
       "      <td>-0.005876</td>\n",
       "      <td>3.179103</td>\n",
       "    </tr>\n",
       "    <tr>\n",
       "      <th>1</th>\n",
       "      <td>62mP7</td>\n",
       "      <td>14.272088</td>\n",
       "      <td>-3.475083</td>\n",
       "      <td>0.999183</td>\n",
       "      <td>26.953261</td>\n",
       "    </tr>\n",
       "    <tr>\n",
       "      <th>2</th>\n",
       "      <td>vyE1P</td>\n",
       "      <td>6.263187</td>\n",
       "      <td>-5.948386</td>\n",
       "      <td>5.001160</td>\n",
       "      <td>134.766305</td>\n",
       "    </tr>\n",
       "    <tr>\n",
       "      <th>3</th>\n",
       "      <td>KcrkZ</td>\n",
       "      <td>-13.081196</td>\n",
       "      <td>-11.506057</td>\n",
       "      <td>4.999415</td>\n",
       "      <td>137.945408</td>\n",
       "    </tr>\n",
       "    <tr>\n",
       "      <th>4</th>\n",
       "      <td>AHL4O</td>\n",
       "      <td>12.702195</td>\n",
       "      <td>-8.147433</td>\n",
       "      <td>5.004363</td>\n",
       "      <td>134.766305</td>\n",
       "    </tr>\n",
       "    <tr>\n",
       "      <th>5</th>\n",
       "      <td>HHckp</td>\n",
       "      <td>-3.327590</td>\n",
       "      <td>-2.205276</td>\n",
       "      <td>3.003647</td>\n",
       "      <td>84.038886</td>\n",
       "    </tr>\n",
       "    <tr>\n",
       "      <th>6</th>\n",
       "      <td>h5Ujo</td>\n",
       "      <td>-11.142655</td>\n",
       "      <td>-10.133399</td>\n",
       "      <td>4.002382</td>\n",
       "      <td>110.992147</td>\n",
       "    </tr>\n",
       "    <tr>\n",
       "      <th>7</th>\n",
       "      <td>muH9x</td>\n",
       "      <td>4.234715</td>\n",
       "      <td>-0.001354</td>\n",
       "      <td>2.004588</td>\n",
       "      <td>53.906522</td>\n",
       "    </tr>\n",
       "    <tr>\n",
       "      <th>8</th>\n",
       "      <td>YiRkx</td>\n",
       "      <td>13.355129</td>\n",
       "      <td>-0.332068</td>\n",
       "      <td>4.998647</td>\n",
       "      <td>134.766305</td>\n",
       "    </tr>\n",
       "    <tr>\n",
       "      <th>9</th>\n",
       "      <td>jG6Gi</td>\n",
       "      <td>1.069227</td>\n",
       "      <td>-11.025667</td>\n",
       "      <td>4.997844</td>\n",
       "      <td>137.945408</td>\n",
       "    </tr>\n",
       "  </tbody>\n",
       "</table>\n",
       "</div>"
      ],
      "text/plain": [
       "      id         f0         f1        f2     product\n",
       "0  kBEdx -15.001348  -8.276000 -0.005876    3.179103\n",
       "1  62mP7  14.272088  -3.475083  0.999183   26.953261\n",
       "2  vyE1P   6.263187  -5.948386  5.001160  134.766305\n",
       "3  KcrkZ -13.081196 -11.506057  4.999415  137.945408\n",
       "4  AHL4O  12.702195  -8.147433  5.004363  134.766305\n",
       "5  HHckp  -3.327590  -2.205276  3.003647   84.038886\n",
       "6  h5Ujo -11.142655 -10.133399  4.002382  110.992147\n",
       "7  muH9x   4.234715  -0.001354  2.004588   53.906522\n",
       "8  YiRkx  13.355129  -0.332068  4.998647  134.766305\n",
       "9  jG6Gi   1.069227 -11.025667  4.997844  137.945408"
      ]
     },
     "metadata": {},
     "output_type": "display_data"
    }
   ],
   "source": [
    "first_look(s_location_df)"
   ]
  },
  {
   "cell_type": "markdown",
   "metadata": {},
   "source": [
    "Изучим данные с третьей локации"
   ]
  },
  {
   "cell_type": "code",
   "execution_count": 8,
   "metadata": {
    "scrolled": true
   },
   "outputs": [
    {
     "name": "stdout",
     "output_type": "stream",
     "text": [
      "<class 'pandas.core.frame.DataFrame'>\n",
      "RangeIndex: 100000 entries, 0 to 99999\n",
      "Data columns (total 5 columns):\n",
      " #   Column   Non-Null Count   Dtype  \n",
      "---  ------   --------------   -----  \n",
      " 0   id       100000 non-null  object \n",
      " 1   f0       100000 non-null  float64\n",
      " 2   f1       100000 non-null  float64\n",
      " 3   f2       100000 non-null  float64\n",
      " 4   product  100000 non-null  float64\n",
      "dtypes: float64(4), object(1)\n",
      "memory usage: 3.8+ MB\n"
     ]
    },
    {
     "data": {
      "text/html": [
       "<div>\n",
       "<style scoped>\n",
       "    .dataframe tbody tr th:only-of-type {\n",
       "        vertical-align: middle;\n",
       "    }\n",
       "\n",
       "    .dataframe tbody tr th {\n",
       "        vertical-align: top;\n",
       "    }\n",
       "\n",
       "    .dataframe thead th {\n",
       "        text-align: right;\n",
       "    }\n",
       "</style>\n",
       "<table border=\"1\" class=\"dataframe\">\n",
       "  <thead>\n",
       "    <tr style=\"text-align: right;\">\n",
       "      <th></th>\n",
       "      <th>f0</th>\n",
       "      <th>f1</th>\n",
       "      <th>f2</th>\n",
       "      <th>product</th>\n",
       "    </tr>\n",
       "  </thead>\n",
       "  <tbody>\n",
       "    <tr>\n",
       "      <th>count</th>\n",
       "      <td>100000.000000</td>\n",
       "      <td>100000.000000</td>\n",
       "      <td>100000.000000</td>\n",
       "      <td>100000.000000</td>\n",
       "    </tr>\n",
       "    <tr>\n",
       "      <th>mean</th>\n",
       "      <td>0.002023</td>\n",
       "      <td>-0.002081</td>\n",
       "      <td>2.495128</td>\n",
       "      <td>95.000000</td>\n",
       "    </tr>\n",
       "    <tr>\n",
       "      <th>std</th>\n",
       "      <td>1.732045</td>\n",
       "      <td>1.730417</td>\n",
       "      <td>3.473445</td>\n",
       "      <td>44.749921</td>\n",
       "    </tr>\n",
       "    <tr>\n",
       "      <th>min</th>\n",
       "      <td>-8.760004</td>\n",
       "      <td>-7.084020</td>\n",
       "      <td>-11.970335</td>\n",
       "      <td>0.000000</td>\n",
       "    </tr>\n",
       "    <tr>\n",
       "      <th>25%</th>\n",
       "      <td>-1.162288</td>\n",
       "      <td>-1.174820</td>\n",
       "      <td>0.130359</td>\n",
       "      <td>59.450441</td>\n",
       "    </tr>\n",
       "    <tr>\n",
       "      <th>50%</th>\n",
       "      <td>0.009424</td>\n",
       "      <td>-0.009482</td>\n",
       "      <td>2.484236</td>\n",
       "      <td>94.925613</td>\n",
       "    </tr>\n",
       "    <tr>\n",
       "      <th>75%</th>\n",
       "      <td>1.158535</td>\n",
       "      <td>1.163678</td>\n",
       "      <td>4.858794</td>\n",
       "      <td>130.595027</td>\n",
       "    </tr>\n",
       "    <tr>\n",
       "      <th>max</th>\n",
       "      <td>7.238262</td>\n",
       "      <td>7.844801</td>\n",
       "      <td>16.739402</td>\n",
       "      <td>190.029838</td>\n",
       "    </tr>\n",
       "  </tbody>\n",
       "</table>\n",
       "</div>"
      ],
      "text/plain": [
       "                  f0             f1             f2        product\n",
       "count  100000.000000  100000.000000  100000.000000  100000.000000\n",
       "mean        0.002023      -0.002081       2.495128      95.000000\n",
       "std         1.732045       1.730417       3.473445      44.749921\n",
       "min        -8.760004      -7.084020     -11.970335       0.000000\n",
       "25%        -1.162288      -1.174820       0.130359      59.450441\n",
       "50%         0.009424      -0.009482       2.484236      94.925613\n",
       "75%         1.158535       1.163678       4.858794     130.595027\n",
       "max         7.238262       7.844801      16.739402     190.029838"
      ]
     },
     "metadata": {},
     "output_type": "display_data"
    },
    {
     "data": {
      "text/html": [
       "<div>\n",
       "<style scoped>\n",
       "    .dataframe tbody tr th:only-of-type {\n",
       "        vertical-align: middle;\n",
       "    }\n",
       "\n",
       "    .dataframe tbody tr th {\n",
       "        vertical-align: top;\n",
       "    }\n",
       "\n",
       "    .dataframe thead th {\n",
       "        text-align: right;\n",
       "    }\n",
       "</style>\n",
       "<table border=\"1\" class=\"dataframe\">\n",
       "  <thead>\n",
       "    <tr style=\"text-align: right;\">\n",
       "      <th></th>\n",
       "      <th>id</th>\n",
       "      <th>f0</th>\n",
       "      <th>f1</th>\n",
       "      <th>f2</th>\n",
       "      <th>product</th>\n",
       "    </tr>\n",
       "  </thead>\n",
       "  <tbody>\n",
       "    <tr>\n",
       "      <th>0</th>\n",
       "      <td>fwXo0</td>\n",
       "      <td>-1.146987</td>\n",
       "      <td>0.963328</td>\n",
       "      <td>-0.828965</td>\n",
       "      <td>27.758673</td>\n",
       "    </tr>\n",
       "    <tr>\n",
       "      <th>1</th>\n",
       "      <td>WJtFt</td>\n",
       "      <td>0.262778</td>\n",
       "      <td>0.269839</td>\n",
       "      <td>-2.530187</td>\n",
       "      <td>56.069697</td>\n",
       "    </tr>\n",
       "    <tr>\n",
       "      <th>2</th>\n",
       "      <td>ovLUW</td>\n",
       "      <td>0.194587</td>\n",
       "      <td>0.289035</td>\n",
       "      <td>-5.586433</td>\n",
       "      <td>62.871910</td>\n",
       "    </tr>\n",
       "    <tr>\n",
       "      <th>3</th>\n",
       "      <td>q6cA6</td>\n",
       "      <td>2.236060</td>\n",
       "      <td>-0.553760</td>\n",
       "      <td>0.930038</td>\n",
       "      <td>114.572842</td>\n",
       "    </tr>\n",
       "    <tr>\n",
       "      <th>4</th>\n",
       "      <td>WPMUX</td>\n",
       "      <td>-0.515993</td>\n",
       "      <td>1.716266</td>\n",
       "      <td>5.899011</td>\n",
       "      <td>149.600746</td>\n",
       "    </tr>\n",
       "    <tr>\n",
       "      <th>5</th>\n",
       "      <td>LzZXx</td>\n",
       "      <td>-0.758092</td>\n",
       "      <td>0.710691</td>\n",
       "      <td>2.585887</td>\n",
       "      <td>90.222465</td>\n",
       "    </tr>\n",
       "    <tr>\n",
       "      <th>6</th>\n",
       "      <td>WBHRv</td>\n",
       "      <td>-0.574891</td>\n",
       "      <td>0.317727</td>\n",
       "      <td>1.773745</td>\n",
       "      <td>45.641478</td>\n",
       "    </tr>\n",
       "    <tr>\n",
       "      <th>7</th>\n",
       "      <td>XO8fn</td>\n",
       "      <td>-1.906649</td>\n",
       "      <td>-2.458350</td>\n",
       "      <td>-0.177097</td>\n",
       "      <td>72.480640</td>\n",
       "    </tr>\n",
       "    <tr>\n",
       "      <th>8</th>\n",
       "      <td>ybmQ5</td>\n",
       "      <td>1.776292</td>\n",
       "      <td>-0.279356</td>\n",
       "      <td>3.004156</td>\n",
       "      <td>106.616832</td>\n",
       "    </tr>\n",
       "    <tr>\n",
       "      <th>9</th>\n",
       "      <td>OilcN</td>\n",
       "      <td>-1.214452</td>\n",
       "      <td>-0.439314</td>\n",
       "      <td>5.922514</td>\n",
       "      <td>52.954532</td>\n",
       "    </tr>\n",
       "  </tbody>\n",
       "</table>\n",
       "</div>"
      ],
      "text/plain": [
       "      id        f0        f1        f2     product\n",
       "0  fwXo0 -1.146987  0.963328 -0.828965   27.758673\n",
       "1  WJtFt  0.262778  0.269839 -2.530187   56.069697\n",
       "2  ovLUW  0.194587  0.289035 -5.586433   62.871910\n",
       "3  q6cA6  2.236060 -0.553760  0.930038  114.572842\n",
       "4  WPMUX -0.515993  1.716266  5.899011  149.600746\n",
       "5  LzZXx -0.758092  0.710691  2.585887   90.222465\n",
       "6  WBHRv -0.574891  0.317727  1.773745   45.641478\n",
       "7  XO8fn -1.906649 -2.458350 -0.177097   72.480640\n",
       "8  ybmQ5  1.776292 -0.279356  3.004156  106.616832\n",
       "9  OilcN -1.214452 -0.439314  5.922514   52.954532"
      ]
     },
     "metadata": {},
     "output_type": "display_data"
    }
   ],
   "source": [
    "first_look(t_location_df)"
   ]
  },
  {
   "cell_type": "markdown",
   "metadata": {},
   "source": [
    "**Вывод:** пропуски не обнаружены, данные логичны, порядок значений во всех столбцах тождественен для всех датасетов, при проведении предварительного анализа выбивающихся значений не обнаружено."
   ]
  },
  {
   "cell_type": "markdown",
   "metadata": {},
   "source": [
    "### Подготовка данных"
   ]
  },
  {
   "cell_type": "markdown",
   "metadata": {},
   "source": [
    "#### Установим id в качестве индекса"
   ]
  },
  {
   "cell_type": "code",
   "execution_count": 9,
   "metadata": {},
   "outputs": [],
   "source": [
    "f_location_df = f_location_df.set_index('id')\n",
    "s_location_df = s_location_df.set_index('id')\n",
    "t_location_df = t_location_df.set_index('id')"
   ]
  },
  {
   "cell_type": "markdown",
   "metadata": {},
   "source": [
    "#### Проверим наличие строк-дубликатов"
   ]
  },
  {
   "cell_type": "code",
   "execution_count": 10,
   "metadata": {},
   "outputs": [
    {
     "data": {
      "text/plain": [
       "0"
      ]
     },
     "execution_count": 10,
     "metadata": {},
     "output_type": "execute_result"
    }
   ],
   "source": [
    "f_location_df.duplicated().sum()"
   ]
  },
  {
   "cell_type": "code",
   "execution_count": 11,
   "metadata": {},
   "outputs": [
    {
     "data": {
      "text/plain": [
       "0"
      ]
     },
     "execution_count": 11,
     "metadata": {},
     "output_type": "execute_result"
    }
   ],
   "source": [
    "s_location_df.duplicated().sum()"
   ]
  },
  {
   "cell_type": "code",
   "execution_count": 12,
   "metadata": {},
   "outputs": [
    {
     "data": {
      "text/plain": [
       "0"
      ]
     },
     "execution_count": 12,
     "metadata": {},
     "output_type": "execute_result"
    }
   ],
   "source": [
    "t_location_df.duplicated().sum()"
   ]
  },
  {
   "cell_type": "markdown",
   "metadata": {},
   "source": [
    "### Проанализируем распределеине признаков более точно"
   ]
  },
  {
   "cell_type": "code",
   "execution_count": 13,
   "metadata": {},
   "outputs": [],
   "source": [
    "def num_feature(feature):\n",
    "    \n",
    "#Построение диаграмм размаха\n",
    "    fig, (ax1,ax2,ax3) = plt.subplots(1, 3,figsize=(20,10))\n",
    "    plt.title(f'Диаграмма размаха для {feature}')\n",
    "\n",
    "    ax1.boxplot(f_location_df[feature])\n",
    "    ax1.set_title(f'Диаграмма размаха 1-ой локации')\n",
    "    \n",
    "    ax2.boxplot(s_location_df[feature])\n",
    "    ax2.set_title(f'Диаграмма размаха 2-ой локации')\n",
    "    \n",
    "    ax3.boxplot(t_location_df[feature])\n",
    "    ax3.set_title(f'Диаграмма размаха 3-ей локации')\n",
    "    \n",
    "    plt.show()\n",
    "#------------------------------------------------------------------\n",
    "# Построение гистограмм\n",
    "\n",
    "    f_location_df[feature].hist(bins = 15,\n",
    "                                figsize = (9,7),\n",
    "                                edgecolor='black',\n",
    "                                label = 'first',\n",
    "                                alpha = 0.5)\n",
    "    s_location_df[feature].hist(bins = 15,\n",
    "                                figsize = (9,7),\n",
    "                                edgecolor='black',\n",
    "                                label = 'second',\n",
    "                                alpha = 0.5)\n",
    "    t_location_df[feature].hist(bins = 15,\n",
    "                                figsize = (9,7),\n",
    "                                edgecolor='black',\n",
    "                                label = 'third',\n",
    "                                alpha = 0.5)\n",
    "    plt.title(f'Гистограмма {feature}', size = 15)\n",
    "    plt.ylabel('Количество записей', size = 12)\n",
    "    plt.xlabel(feature, size = 12)\n",
    "    plt.legend()\n",
    "    plt.show()"
   ]
  },
  {
   "cell_type": "markdown",
   "metadata": {},
   "source": [
    "#### Рассмотрим признак f0"
   ]
  },
  {
   "cell_type": "code",
   "execution_count": 14,
   "metadata": {},
   "outputs": [
    {
     "data": {
      "image/png": "[encoded data removed]",
      "text/plain": [
       "<Figure size 1440x720 with 3 Axes>"
      ]
     },
     "metadata": {
      "needs_background": "light"
     },
     "output_type": "display_data"
    },
    {
     "data": {
      "image/png": "[encoded data removed]",
      "text/plain": [
       "<Figure size 648x504 with 1 Axes>"
      ]
     },
     "metadata": {
      "needs_background": "light"
     },
     "output_type": "display_data"
    }
   ],
   "source": [
    "num_feature('f0')"
   ]
  },
  {
   "cell_type": "markdown",
   "metadata": {},
   "source": [
    "Можно заметить, что для второй и третьей локации значения признака f0 распределены вокруг 0. Для первой локации сосредоточение вокруг 0.5 самое плотное, для третьей локации - сосредоточение менее плотное, для второй - наименее плотное."
   ]
  },
  {
   "cell_type": "markdown",
   "metadata": {},
   "source": [
    "#### Рассмотрим признак f1"
   ]
  },
  {
   "cell_type": "code",
   "execution_count": 15,
   "metadata": {},
   "outputs": [
    {
     "data": {
      "image/png": "[encoded data removed]",
      "text/plain": [
       "<Figure size 1440x720 with 3 Axes>"
      ]
     },
     "metadata": {
      "needs_background": "light"
     },
     "output_type": "display_data"
    },
    {
     "data": {
      "image/png": "[encoded data removed]",
      "text/plain": [
       "<Figure size 648x504 with 1 Axes>"
      ]
     },
     "metadata": {
      "needs_background": "light"
     },
     "output_type": "display_data"
    }
   ],
   "source": [
    "num_feature('f1')"
   ]
  },
  {
   "cell_type": "markdown",
   "metadata": {},
   "source": [
    "Из анализа видно, что признак f1 для первой и третеьй локации распределены вокруг 0 с достаточно высокой плотностью, на второй локации признак распределен вокруг ~-5 с наименьшей плотностью."
   ]
  },
  {
   "cell_type": "markdown",
   "metadata": {},
   "source": [
    "#### Рассмотрим признак f2"
   ]
  },
  {
   "cell_type": "code",
   "execution_count": 16,
   "metadata": {},
   "outputs": [
    {
     "data": {
      "image/png": "[encoded data removed]",
      "text/plain": [
       "<Figure size 1440x720 with 3 Axes>"
      ]
     },
     "metadata": {
      "needs_background": "light"
     },
     "output_type": "display_data"
    },
    {
     "data": {
      "image/png": "[encoded data removed]",
      "text/plain": [
       "<Figure size 648x504 with 1 Axes>"
      ]
     },
     "metadata": {
      "needs_background": "light"
     },
     "output_type": "display_data"
    }
   ],
   "source": [
    "num_feature('f2')"
   ]
  },
  {
   "cell_type": "markdown",
   "metadata": {},
   "source": [
    "Признак f2 для первой и третьей локации распределен достаточно свободно вокруг ~2.5, для второй - наиболее плотно вокруг 2."
   ]
  },
  {
   "cell_type": "markdown",
   "metadata": {},
   "source": [
    "#### Рассмотрим целевой признак"
   ]
  },
  {
   "cell_type": "code",
   "execution_count": 17,
   "metadata": {},
   "outputs": [
    {
     "data": {
      "image/png": "[encoded data removed]",
      "text/plain": [
       "<Figure size 1440x720 with 3 Axes>"
      ]
     },
     "metadata": {
      "needs_background": "light"
     },
     "output_type": "display_data"
    },
    {
     "data": {
      "image/png": "[encoded data removed]",
      "text/plain": [
       "<Figure size 648x504 with 1 Axes>"
      ]
     },
     "metadata": {
      "needs_background": "light"
     },
     "output_type": "display_data"
    }
   ],
   "source": [
    "num_feature('product')"
   ]
  },
  {
   "cell_type": "markdown",
   "metadata": {},
   "source": [
    "Распределеине объема запасов нефти в скважине для первой и третьей локации довольно схожее, близко к нормальному со средним около 93.75. Для второй локации можно заметить большУю часть скважин с околонулевым запасом, также наблюдается пик числа скважин с запасом около 130 тыс. баррелей."
   ]
  },
  {
   "cell_type": "markdown",
   "metadata": {},
   "source": [
    "### Корреляционный анализ"
   ]
  },
  {
   "cell_type": "markdown",
   "metadata": {},
   "source": [
    "Проведем корреляционный анализ с целью обнаружения высокой корреляции между входными признаками и утечки целевого."
   ]
  },
  {
   "cell_type": "code",
   "execution_count": 18,
   "metadata": {},
   "outputs": [],
   "source": [
    "dfs = [f_location_df, s_location_df, t_location_df]"
   ]
  },
  {
   "cell_type": "code",
   "execution_count": 19,
   "metadata": {},
   "outputs": [
    {
     "data": {
      "image/png": "[encoded data removed]",
      "text/plain": [
       "<Figure size 432x288 with 2 Axes>"
      ]
     },
     "metadata": {
      "needs_background": "light"
     },
     "output_type": "display_data"
    },
    {
     "data": {
      "image/png": "[encoded data removed]",
      "text/plain": [
       "<Figure size 432x288 with 2 Axes>"
      ]
     },
     "metadata": {
      "needs_background": "light"
     },
     "output_type": "display_data"
    },
    {
     "data": {
      "image/png": "[encoded data removed]",
      "text/plain": [
       "<Figure size 432x288 with 2 Axes>"
      ]
     },
     "metadata": {
      "needs_background": "light"
     },
     "output_type": "display_data"
    }
   ],
   "source": [
    "for i in range(len(dfs)):\n",
    "    sns.heatmap(dfs[i].corr(), annot = True, vmin=-1, vmax=1, center= 0, cmap= 'coolwarm')\n",
    "    plt.title(f'Матрица корреляции {i}-ого датасета')\n",
    "    plt.show()"
   ]
  },
  {
   "cell_type": "markdown",
   "metadata": {},
   "source": [
    "Из проведенного анализа видно, что для 2-ого датасета наблюдается прямая корреляция между входным и целевым признаком."
   ]
  },
  {
   "cell_type": "markdown",
   "metadata": {},
   "source": [
    "## Обучение и проверка модели"
   ]
  },
  {
   "cell_type": "code",
   "execution_count": 20,
   "metadata": {},
   "outputs": [],
   "source": [
    "RANDOM_STATE = 42\n",
    "TEST_SIZE = 0.25\n",
    "num_columns = f_location_df.drop(['product'],axis = 1).columns.to_list()"
   ]
  },
  {
   "cell_type": "code",
   "execution_count": 21,
   "metadata": {},
   "outputs": [],
   "source": [
    "preprocessor = ColumnTransformer(\n",
    "[('num', StandardScaler(),num_columns)])"
   ]
  },
  {
   "cell_type": "code",
   "execution_count": 22,
   "metadata": {},
   "outputs": [],
   "source": [
    "model = Pipeline(\n",
    "[('preprocessor', preprocessor),\n",
    "('model', LinearRegression())])"
   ]
  },
  {
   "cell_type": "code",
   "execution_count": 23,
   "metadata": {},
   "outputs": [],
   "source": [
    "def remain_analize(truth,prediction):\n",
    "    data = truth - prediction\n",
    "    display(data.describe())\n",
    "    data.plot(x = prediction, style ='o', grid = True, figsize = (9,7))\n",
    "    plt.title('Диаграмма рассеяния остатков', size = 15)\n",
    "    plt.ylabel('Ошибка, тыс. баррелей', size = 12)\n",
    "    plt.xlabel('Предсказанные значения, тыс. баррелей', size =12)\n",
    "    plt.show()\n",
    "    data.hist(bins = 15, figsize = (9,7), edgecolor='black')\n",
    "    plt.title('Гистограмма остатков', size = 15)\n",
    "    plt.ylabel('Количество ошибок', size = 12)\n",
    "    plt.xlabel('Ошибка, тыс. баррелей', size = 12)\n",
    "    plt.axvline(data.mean(), color='r', label = 'Среднее')\n",
    "    plt.legend()\n",
    "    plt.show()"
   ]
  },
  {
   "cell_type": "markdown",
   "metadata": {},
   "source": [
    "### Первый регион"
   ]
  },
  {
   "cell_type": "code",
   "execution_count": 24,
   "metadata": {},
   "outputs": [],
   "source": [
    "X_train,X_valid,y_train,y_valid = train_test_split(\n",
    "    f_location_df.drop(['product'],axis = 1),\n",
    "    f_location_df['product'],\n",
    "    random_state = RANDOM_STATE,\n",
    "    test_size = TEST_SIZE)"
   ]
  },
  {
   "cell_type": "code",
   "execution_count": 25,
   "metadata": {},
   "outputs": [
    {
     "data": {
      "text/plain": [
       "(75000, 3)"
      ]
     },
     "execution_count": 25,
     "metadata": {},
     "output_type": "execute_result"
    }
   ],
   "source": [
    "X_train.shape"
   ]
  },
  {
   "cell_type": "code",
   "execution_count": 26,
   "metadata": {
    "scrolled": true
   },
   "outputs": [
    {
     "data": {
      "text/html": [
       "<style>#sk-container-id-1 {color: black;background-color: white;}#sk-container-id-1 pre{padding: 0;}#sk-container-id-1 div.sk-toggleable {background-color: white;}#sk-container-id-1 label.sk-toggleable__label {cursor: pointer;display: block;width: 100%;margin-bottom: 0;padding: 0.3em;box-sizing: border-box;text-align: center;}#sk-container-id-1 label.sk-toggleable__label-arrow:before {content: \"▸\";float: left;margin-right: 0.25em;color: #696969;}#sk-container-id-1 label.sk-toggleable__label-arrow:hover:before {color: black;}#sk-container-id-1 div.sk-estimator:hover label.sk-toggleable__label-arrow:before {color: black;}#sk-container-id-1 div.sk-toggleable__content {max-height: 0;max-width: 0;overflow: hidden;text-align: left;background-color: #f0f8ff;}#sk-container-id-1 div.sk-toggleable__content pre {margin: 0.2em;color: black;border-radius: 0.25em;background-color: #f0f8ff;}#sk-container-id-1 input.sk-toggleable__control:checked~div.sk-toggleable__content {max-height: 200px;max-width: 100%;overflow: auto;}#sk-container-id-1 input.sk-toggleable__control:checked~label.sk-toggleable__label-arrow:before {content: \"▾\";}#sk-container-id-1 div.sk-estimator input.sk-toggleable__control:checked~label.sk-toggleable__label {background-color: #d4ebff;}#sk-container-id-1 div.sk-label input.sk-toggleable__control:checked~label.sk-toggleable__label {background-color: #d4ebff;}#sk-container-id-1 input.sk-hidden--visually {border: 0;clip: rect(1px 1px 1px 1px);clip: rect(1px, 1px, 1px, 1px);height: 1px;margin: -1px;overflow: hidden;padding: 0;position: absolute;width: 1px;}#sk-container-id-1 div.sk-estimator {font-family: monospace;background-color: #f0f8ff;border: 1px dotted black;border-radius: 0.25em;box-sizing: border-box;margin-bottom: 0.5em;}#sk-container-id-1 div.sk-estimator:hover {background-color: #d4ebff;}#sk-container-id-1 div.sk-parallel-item::after {content: \"\";width: 100%;border-bottom: 1px solid gray;flex-grow: 1;}#sk-container-id-1 div.sk-label:hover label.sk-toggleable__label {background-color: #d4ebff;}#sk-container-id-1 div.sk-serial::before {content: \"\";position: absolute;border-left: 1px solid gray;box-sizing: border-box;top: 0;bottom: 0;left: 50%;z-index: 0;}#sk-container-id-1 div.sk-serial {display: flex;flex-direction: column;align-items: center;background-color: white;padding-right: 0.2em;padding-left: 0.2em;position: relative;}#sk-container-id-1 div.sk-item {position: relative;z-index: 1;}#sk-container-id-1 div.sk-parallel {display: flex;align-items: stretch;justify-content: center;background-color: white;position: relative;}#sk-container-id-1 div.sk-item::before, #sk-container-id-1 div.sk-parallel-item::before {content: \"\";position: absolute;border-left: 1px solid gray;box-sizing: border-box;top: 0;bottom: 0;left: 50%;z-index: -1;}#sk-container-id-1 div.sk-parallel-item {display: flex;flex-direction: column;z-index: 1;position: relative;background-color: white;}#sk-container-id-1 div.sk-parallel-item:first-child::after {align-self: flex-end;width: 50%;}#sk-container-id-1 div.sk-parallel-item:last-child::after {align-self: flex-start;width: 50%;}#sk-container-id-1 div.sk-parallel-item:only-child::after {width: 0;}#sk-container-id-1 div.sk-dashed-wrapped {border: 1px dashed gray;margin: 0 0.4em 0.5em 0.4em;box-sizing: border-box;padding-bottom: 0.4em;background-color: white;}#sk-container-id-1 div.sk-label label {font-family: monospace;font-weight: bold;display: inline-block;line-height: 1.2em;}#sk-container-id-1 div.sk-label-container {text-align: center;}#sk-container-id-1 div.sk-container {/* jupyter's `normalize.less` sets `[hidden] { display: none; }` but bootstrap.min.css set `[hidden] { display: none !important; }` so we also need the `!important` here to be able to override the default hidden behavior on the sphinx rendered scikit-learn.org. See: https://github.com/scikit-learn/scikit-learn/issues/21755 */display: inline-block !important;position: relative;}#sk-container-id-1 div.sk-text-repr-fallback {display: none;}</style><div id=\"sk-container-id-1\" class=\"sk-top-container\"><div class=\"sk-text-repr-fallback\"><pre>Pipeline(steps=[(&#x27;preprocessor&#x27;,\n",
       "                 ColumnTransformer(transformers=[(&#x27;num&#x27;, StandardScaler(),\n",
       "                                                  [&#x27;f0&#x27;, &#x27;f1&#x27;, &#x27;f2&#x27;])])),\n",
       "                (&#x27;model&#x27;, LinearRegression())])</pre><b>In a Jupyter environment, please rerun this cell to show the HTML representation or trust the notebook. <br />On GitHub, the HTML representation is unable to render, please try loading this page with nbviewer.org.</b></div><div class=\"sk-container\" hidden><div class=\"sk-item sk-dashed-wrapped\"><div class=\"sk-label-container\"><div class=\"sk-label sk-toggleable\"><input class=\"sk-toggleable__control sk-hidden--visually\" id=\"sk-estimator-id-1\" type=\"checkbox\" ><label for=\"sk-estimator-id-1\" class=\"sk-toggleable__label sk-toggleable__label-arrow\">Pipeline</label><div class=\"sk-toggleable__content\"><pre>Pipeline(steps=[(&#x27;preprocessor&#x27;,\n",
       "                 ColumnTransformer(transformers=[(&#x27;num&#x27;, StandardScaler(),\n",
       "                                                  [&#x27;f0&#x27;, &#x27;f1&#x27;, &#x27;f2&#x27;])])),\n",
       "                (&#x27;model&#x27;, LinearRegression())])</pre></div></div></div><div class=\"sk-serial\"><div class=\"sk-item sk-dashed-wrapped\"><div class=\"sk-label-container\"><div class=\"sk-label sk-toggleable\"><input class=\"sk-toggleable__control sk-hidden--visually\" id=\"sk-estimator-id-2\" type=\"checkbox\" ><label for=\"sk-estimator-id-2\" class=\"sk-toggleable__label sk-toggleable__label-arrow\">preprocessor: ColumnTransformer</label><div class=\"sk-toggleable__content\"><pre>ColumnTransformer(transformers=[(&#x27;num&#x27;, StandardScaler(), [&#x27;f0&#x27;, &#x27;f1&#x27;, &#x27;f2&#x27;])])</pre></div></div></div><div class=\"sk-parallel\"><div class=\"sk-parallel-item\"><div class=\"sk-item\"><div class=\"sk-label-container\"><div class=\"sk-label sk-toggleable\"><input class=\"sk-toggleable__control sk-hidden--visually\" id=\"sk-estimator-id-3\" type=\"checkbox\" ><label for=\"sk-estimator-id-3\" class=\"sk-toggleable__label sk-toggleable__label-arrow\">num</label><div class=\"sk-toggleable__content\"><pre>[&#x27;f0&#x27;, &#x27;f1&#x27;, &#x27;f2&#x27;]</pre></div></div></div><div class=\"sk-serial\"><div class=\"sk-item\"><div class=\"sk-estimator sk-toggleable\"><input class=\"sk-toggleable__control sk-hidden--visually\" id=\"sk-estimator-id-4\" type=\"checkbox\" ><label for=\"sk-estimator-id-4\" class=\"sk-toggleable__label sk-toggleable__label-arrow\">StandardScaler</label><div class=\"sk-toggleable__content\"><pre>StandardScaler()</pre></div></div></div></div></div></div></div></div><div class=\"sk-item\"><div class=\"sk-estimator sk-toggleable\"><input class=\"sk-toggleable__control sk-hidden--visually\" id=\"sk-estimator-id-5\" type=\"checkbox\" ><label for=\"sk-estimator-id-5\" class=\"sk-toggleable__label sk-toggleable__label-arrow\">LinearRegression</label><div class=\"sk-toggleable__content\"><pre>LinearRegression()</pre></div></div></div></div></div></div></div>"
      ],
      "text/plain": [
       "Pipeline(steps=[('preprocessor',\n",
       "                 ColumnTransformer(transformers=[('num', StandardScaler(),\n",
       "                                                  ['f0', 'f1', 'f2'])])),\n",
       "                ('model', LinearRegression())])"
      ]
     },
     "execution_count": 26,
     "metadata": {},
     "output_type": "execute_result"
    }
   ],
   "source": [
    "model.fit(X = X_train,y = y_train)"
   ]
  },
  {
   "cell_type": "code",
   "execution_count": 27,
   "metadata": {},
   "outputs": [],
   "source": [
    "f_location_predicted_product = pd.Series(model.predict(X_valid), index = y_valid.index)\n",
    "f_location_true_product = y_valid"
   ]
  },
  {
   "cell_type": "code",
   "execution_count": 28,
   "metadata": {},
   "outputs": [
    {
     "name": "stdout",
     "output_type": "stream",
     "text": [
      "Метрика rmse модели:\n",
      "37.8\n",
      "\n",
      "Средний запас предсказанного сырья: 92.4 тыс. баррелей\n"
     ]
    }
   ],
   "source": [
    "print(f'Метрика rmse модели:\\n{mean_squared_error(y_valid, f_location_predicted_product, squared = False):.1f}')\n",
    "print(f'\\nСредний запас предсказанного сырья: {np.mean(model.predict(X_valid)):.1f} тыс. баррелей')"
   ]
  },
  {
   "cell_type": "markdown",
   "metadata": {},
   "source": [
    "Проведем анализ остатков"
   ]
  },
  {
   "cell_type": "code",
   "execution_count": 29,
   "metadata": {},
   "outputs": [
    {
     "data": {
      "text/plain": [
       "count    25000.000000\n",
       "mean        -0.072844\n",
       "std         37.757285\n",
       "min       -119.074439\n",
       "25%        -27.917279\n",
       "50%         -0.098192\n",
       "75%         27.594907\n",
       "max        121.520866\n",
       "Name: product, dtype: float64"
      ]
     },
     "metadata": {},
     "output_type": "display_data"
    },
    {
     "data": {
      "image/png": "[encoded data removed]",
      "text/plain": [
       "<Figure size 648x504 with 1 Axes>"
      ]
     },
     "metadata": {
      "needs_background": "light"
     },
     "output_type": "display_data"
    },
    {
     "data": {
      "image/png": "[encoded data removed]",
      "text/plain": [
       "<Figure size 648x504 with 1 Axes>"
      ]
     },
     "metadata": {
      "needs_background": "light"
     },
     "output_type": "display_data"
    }
   ],
   "source": [
    "remain_analize(y_valid, model.predict(X_valid))"
   ]
  },
  {
   "cell_type": "markdown",
   "metadata": {},
   "source": [
    "### Второй регион"
   ]
  },
  {
   "cell_type": "code",
   "execution_count": 30,
   "metadata": {},
   "outputs": [],
   "source": [
    "X_train,X_valid,y_train,y_valid = train_test_split(\n",
    "    s_location_df.drop(['product'],axis = 1),\n",
    "    s_location_df['product'],\n",
    "    random_state = RANDOM_STATE,\n",
    "    test_size = TEST_SIZE)"
   ]
  },
  {
   "cell_type": "code",
   "execution_count": 31,
   "metadata": {},
   "outputs": [
    {
     "data": {
      "text/plain": [
       "(75000, 3)"
      ]
     },
     "execution_count": 31,
     "metadata": {},
     "output_type": "execute_result"
    }
   ],
   "source": [
    "X_train.shape"
   ]
  },
  {
   "cell_type": "code",
   "execution_count": 32,
   "metadata": {
    "scrolled": true
   },
   "outputs": [
    {
     "data": {
      "text/html": [
       "<style>#sk-container-id-2 {color: black;background-color: white;}#sk-container-id-2 pre{padding: 0;}#sk-container-id-2 div.sk-toggleable {background-color: white;}#sk-container-id-2 label.sk-toggleable__label {cursor: pointer;display: block;width: 100%;margin-bottom: 0;padding: 0.3em;box-sizing: border-box;text-align: center;}#sk-container-id-2 label.sk-toggleable__label-arrow:before {content: \"▸\";float: left;margin-right: 0.25em;color: #696969;}#sk-container-id-2 label.sk-toggleable__label-arrow:hover:before {color: black;}#sk-container-id-2 div.sk-estimator:hover label.sk-toggleable__label-arrow:before {color: black;}#sk-container-id-2 div.sk-toggleable__content {max-height: 0;max-width: 0;overflow: hidden;text-align: left;background-color: #f0f8ff;}#sk-container-id-2 div.sk-toggleable__content pre {margin: 0.2em;color: black;border-radius: 0.25em;background-color: #f0f8ff;}#sk-container-id-2 input.sk-toggleable__control:checked~div.sk-toggleable__content {max-height: 200px;max-width: 100%;overflow: auto;}#sk-container-id-2 input.sk-toggleable__control:checked~label.sk-toggleable__label-arrow:before {content: \"▾\";}#sk-container-id-2 div.sk-estimator input.sk-toggleable__control:checked~label.sk-toggleable__label {background-color: #d4ebff;}#sk-container-id-2 div.sk-label input.sk-toggleable__control:checked~label.sk-toggleable__label {background-color: #d4ebff;}#sk-container-id-2 input.sk-hidden--visually {border: 0;clip: rect(1px 1px 1px 1px);clip: rect(1px, 1px, 1px, 1px);height: 1px;margin: -1px;overflow: hidden;padding: 0;position: absolute;width: 1px;}#sk-container-id-2 div.sk-estimator {font-family: monospace;background-color: #f0f8ff;border: 1px dotted black;border-radius: 0.25em;box-sizing: border-box;margin-bottom: 0.5em;}#sk-container-id-2 div.sk-estimator:hover {background-color: #d4ebff;}#sk-container-id-2 div.sk-parallel-item::after {content: \"\";width: 100%;border-bottom: 1px solid gray;flex-grow: 1;}#sk-container-id-2 div.sk-label:hover label.sk-toggleable__label {background-color: #d4ebff;}#sk-container-id-2 div.sk-serial::before {content: \"\";position: absolute;border-left: 1px solid gray;box-sizing: border-box;top: 0;bottom: 0;left: 50%;z-index: 0;}#sk-container-id-2 div.sk-serial {display: flex;flex-direction: column;align-items: center;background-color: white;padding-right: 0.2em;padding-left: 0.2em;position: relative;}#sk-container-id-2 div.sk-item {position: relative;z-index: 1;}#sk-container-id-2 div.sk-parallel {display: flex;align-items: stretch;justify-content: center;background-color: white;position: relative;}#sk-container-id-2 div.sk-item::before, #sk-container-id-2 div.sk-parallel-item::before {content: \"\";position: absolute;border-left: 1px solid gray;box-sizing: border-box;top: 0;bottom: 0;left: 50%;z-index: -1;}#sk-container-id-2 div.sk-parallel-item {display: flex;flex-direction: column;z-index: 1;position: relative;background-color: white;}#sk-container-id-2 div.sk-parallel-item:first-child::after {align-self: flex-end;width: 50%;}#sk-container-id-2 div.sk-parallel-item:last-child::after {align-self: flex-start;width: 50%;}#sk-container-id-2 div.sk-parallel-item:only-child::after {width: 0;}#sk-container-id-2 div.sk-dashed-wrapped {border: 1px dashed gray;margin: 0 0.4em 0.5em 0.4em;box-sizing: border-box;padding-bottom: 0.4em;background-color: white;}#sk-container-id-2 div.sk-label label {font-family: monospace;font-weight: bold;display: inline-block;line-height: 1.2em;}#sk-container-id-2 div.sk-label-container {text-align: center;}#sk-container-id-2 div.sk-container {/* jupyter's `normalize.less` sets `[hidden] { display: none; }` but bootstrap.min.css set `[hidden] { display: none !important; }` so we also need the `!important` here to be able to override the default hidden behavior on the sphinx rendered scikit-learn.org. See: https://github.com/scikit-learn/scikit-learn/issues/21755 */display: inline-block !important;position: relative;}#sk-container-id-2 div.sk-text-repr-fallback {display: none;}</style><div id=\"sk-container-id-2\" class=\"sk-top-container\"><div class=\"sk-text-repr-fallback\"><pre>Pipeline(steps=[(&#x27;preprocessor&#x27;,\n",
       "                 ColumnTransformer(transformers=[(&#x27;num&#x27;, StandardScaler(),\n",
       "                                                  [&#x27;f0&#x27;, &#x27;f1&#x27;, &#x27;f2&#x27;])])),\n",
       "                (&#x27;model&#x27;, LinearRegression())])</pre><b>In a Jupyter environment, please rerun this cell to show the HTML representation or trust the notebook. <br />On GitHub, the HTML representation is unable to render, please try loading this page with nbviewer.org.</b></div><div class=\"sk-container\" hidden><div class=\"sk-item sk-dashed-wrapped\"><div class=\"sk-label-container\"><div class=\"sk-label sk-toggleable\"><input class=\"sk-toggleable__control sk-hidden--visually\" id=\"sk-estimator-id-6\" type=\"checkbox\" ><label for=\"sk-estimator-id-6\" class=\"sk-toggleable__label sk-toggleable__label-arrow\">Pipeline</label><div class=\"sk-toggleable__content\"><pre>Pipeline(steps=[(&#x27;preprocessor&#x27;,\n",
       "                 ColumnTransformer(transformers=[(&#x27;num&#x27;, StandardScaler(),\n",
       "                                                  [&#x27;f0&#x27;, &#x27;f1&#x27;, &#x27;f2&#x27;])])),\n",
       "                (&#x27;model&#x27;, LinearRegression())])</pre></div></div></div><div class=\"sk-serial\"><div class=\"sk-item sk-dashed-wrapped\"><div class=\"sk-label-container\"><div class=\"sk-label sk-toggleable\"><input class=\"sk-toggleable__control sk-hidden--visually\" id=\"sk-estimator-id-7\" type=\"checkbox\" ><label for=\"sk-estimator-id-7\" class=\"sk-toggleable__label sk-toggleable__label-arrow\">preprocessor: ColumnTransformer</label><div class=\"sk-toggleable__content\"><pre>ColumnTransformer(transformers=[(&#x27;num&#x27;, StandardScaler(), [&#x27;f0&#x27;, &#x27;f1&#x27;, &#x27;f2&#x27;])])</pre></div></div></div><div class=\"sk-parallel\"><div class=\"sk-parallel-item\"><div class=\"sk-item\"><div class=\"sk-label-container\"><div class=\"sk-label sk-toggleable\"><input class=\"sk-toggleable__control sk-hidden--visually\" id=\"sk-estimator-id-8\" type=\"checkbox\" ><label for=\"sk-estimator-id-8\" class=\"sk-toggleable__label sk-toggleable__label-arrow\">num</label><div class=\"sk-toggleable__content\"><pre>[&#x27;f0&#x27;, &#x27;f1&#x27;, &#x27;f2&#x27;]</pre></div></div></div><div class=\"sk-serial\"><div class=\"sk-item\"><div class=\"sk-estimator sk-toggleable\"><input class=\"sk-toggleable__control sk-hidden--visually\" id=\"sk-estimator-id-9\" type=\"checkbox\" ><label for=\"sk-estimator-id-9\" class=\"sk-toggleable__label sk-toggleable__label-arrow\">StandardScaler</label><div class=\"sk-toggleable__content\"><pre>StandardScaler()</pre></div></div></div></div></div></div></div></div><div class=\"sk-item\"><div class=\"sk-estimator sk-toggleable\"><input class=\"sk-toggleable__control sk-hidden--visually\" id=\"sk-estimator-id-10\" type=\"checkbox\" ><label for=\"sk-estimator-id-10\" class=\"sk-toggleable__label sk-toggleable__label-arrow\">LinearRegression</label><div class=\"sk-toggleable__content\"><pre>LinearRegression()</pre></div></div></div></div></div></div></div>"
      ],
      "text/plain": [
       "Pipeline(steps=[('preprocessor',\n",
       "                 ColumnTransformer(transformers=[('num', StandardScaler(),\n",
       "                                                  ['f0', 'f1', 'f2'])])),\n",
       "                ('model', LinearRegression())])"
      ]
     },
     "execution_count": 32,
     "metadata": {},
     "output_type": "execute_result"
    }
   ],
   "source": [
    "model.fit(X = X_train,y = y_train)"
   ]
  },
  {
   "cell_type": "code",
   "execution_count": 33,
   "metadata": {},
   "outputs": [],
   "source": [
    "s_location_predicted_product = pd.Series(model.predict(X_valid), index = y_valid.index)\n",
    "s_location_true_product = y_valid"
   ]
  },
  {
   "cell_type": "code",
   "execution_count": 34,
   "metadata": {},
   "outputs": [
    {
     "name": "stdout",
     "output_type": "stream",
     "text": [
      "Метрика rmse модели:\n",
      "0.9\n",
      "\n",
      "Средний запас предсказанного сырья: 68.7 тыс. баррелей\n"
     ]
    }
   ],
   "source": [
    "print(f'Метрика rmse модели:\\n{mean_squared_error(y_valid, s_location_predicted_product, squared = False):.1f}')\n",
    "print(f'\\nСредний запас предсказанного сырья: {np.mean(model.predict(X_valid)):.1f} тыс. баррелей')"
   ]
  },
  {
   "cell_type": "markdown",
   "metadata": {},
   "source": [
    "Проведем анализ остатков"
   ]
  },
  {
   "cell_type": "code",
   "execution_count": 35,
   "metadata": {},
   "outputs": [
    {
     "data": {
      "text/plain": [
       "count    25000.000000\n",
       "mean         0.012503\n",
       "std          0.890210\n",
       "min         -3.225857\n",
       "25%         -0.600196\n",
       "50%          0.014993\n",
       "75%          0.625869\n",
       "max          3.322995\n",
       "Name: product, dtype: float64"
      ]
     },
     "metadata": {},
     "output_type": "display_data"
    },
    {
     "data": {
      "image/png": "[encoded data removed]",
      "text/plain": [
       "<Figure size 648x504 with 1 Axes>"
      ]
     },
     "metadata": {
      "needs_background": "light"
     },
     "output_type": "display_data"
    },
    {
     "data": {
      "image/png": "[encoded data removed]",
      "text/plain": [
       "<Figure size 648x504 with 1 Axes>"
      ]
     },
     "metadata": {
      "needs_background": "light"
     },
     "output_type": "display_data"
    }
   ],
   "source": [
    "remain_analize(y_valid, model.predict(X_valid))"
   ]
  },
  {
   "cell_type": "markdown",
   "metadata": {},
   "source": [
    "### Третий регион"
   ]
  },
  {
   "cell_type": "code",
   "execution_count": 36,
   "metadata": {},
   "outputs": [],
   "source": [
    "X_train,X_valid,y_train,y_valid = train_test_split(\n",
    "    t_location_df.drop(['product'],axis = 1),\n",
    "    t_location_df['product'],\n",
    "    random_state = RANDOM_STATE,\n",
    "    test_size = TEST_SIZE)"
   ]
  },
  {
   "cell_type": "code",
   "execution_count": 37,
   "metadata": {},
   "outputs": [
    {
     "data": {
      "text/plain": [
       "(75000, 3)"
      ]
     },
     "execution_count": 37,
     "metadata": {},
     "output_type": "execute_result"
    }
   ],
   "source": [
    "X_train.shape"
   ]
  },
  {
   "cell_type": "code",
   "execution_count": 38,
   "metadata": {
    "scrolled": true
   },
   "outputs": [
    {
     "data": {
      "text/html": [
       "<style>#sk-container-id-3 {color: black;background-color: white;}#sk-container-id-3 pre{padding: 0;}#sk-container-id-3 div.sk-toggleable {background-color: white;}#sk-container-id-3 label.sk-toggleable__label {cursor: pointer;display: block;width: 100%;margin-bottom: 0;padding: 0.3em;box-sizing: border-box;text-align: center;}#sk-container-id-3 label.sk-toggleable__label-arrow:before {content: \"▸\";float: left;margin-right: 0.25em;color: #696969;}#sk-container-id-3 label.sk-toggleable__label-arrow:hover:before {color: black;}#sk-container-id-3 div.sk-estimator:hover label.sk-toggleable__label-arrow:before {color: black;}#sk-container-id-3 div.sk-toggleable__content {max-height: 0;max-width: 0;overflow: hidden;text-align: left;background-color: #f0f8ff;}#sk-container-id-3 div.sk-toggleable__content pre {margin: 0.2em;color: black;border-radius: 0.25em;background-color: #f0f8ff;}#sk-container-id-3 input.sk-toggleable__control:checked~div.sk-toggleable__content {max-height: 200px;max-width: 100%;overflow: auto;}#sk-container-id-3 input.sk-toggleable__control:checked~label.sk-toggleable__label-arrow:before {content: \"▾\";}#sk-container-id-3 div.sk-estimator input.sk-toggleable__control:checked~label.sk-toggleable__label {background-color: #d4ebff;}#sk-container-id-3 div.sk-label input.sk-toggleable__control:checked~label.sk-toggleable__label {background-color: #d4ebff;}#sk-container-id-3 input.sk-hidden--visually {border: 0;clip: rect(1px 1px 1px 1px);clip: rect(1px, 1px, 1px, 1px);height: 1px;margin: -1px;overflow: hidden;padding: 0;position: absolute;width: 1px;}#sk-container-id-3 div.sk-estimator {font-family: monospace;background-color: #f0f8ff;border: 1px dotted black;border-radius: 0.25em;box-sizing: border-box;margin-bottom: 0.5em;}#sk-container-id-3 div.sk-estimator:hover {background-color: #d4ebff;}#sk-container-id-3 div.sk-parallel-item::after {content: \"\";width: 100%;border-bottom: 1px solid gray;flex-grow: 1;}#sk-container-id-3 div.sk-label:hover label.sk-toggleable__label {background-color: #d4ebff;}#sk-container-id-3 div.sk-serial::before {content: \"\";position: absolute;border-left: 1px solid gray;box-sizing: border-box;top: 0;bottom: 0;left: 50%;z-index: 0;}#sk-container-id-3 div.sk-serial {display: flex;flex-direction: column;align-items: center;background-color: white;padding-right: 0.2em;padding-left: 0.2em;position: relative;}#sk-container-id-3 div.sk-item {position: relative;z-index: 1;}#sk-container-id-3 div.sk-parallel {display: flex;align-items: stretch;justify-content: center;background-color: white;position: relative;}#sk-container-id-3 div.sk-item::before, #sk-container-id-3 div.sk-parallel-item::before {content: \"\";position: absolute;border-left: 1px solid gray;box-sizing: border-box;top: 0;bottom: 0;left: 50%;z-index: -1;}#sk-container-id-3 div.sk-parallel-item {display: flex;flex-direction: column;z-index: 1;position: relative;background-color: white;}#sk-container-id-3 div.sk-parallel-item:first-child::after {align-self: flex-end;width: 50%;}#sk-container-id-3 div.sk-parallel-item:last-child::after {align-self: flex-start;width: 50%;}#sk-container-id-3 div.sk-parallel-item:only-child::after {width: 0;}#sk-container-id-3 div.sk-dashed-wrapped {border: 1px dashed gray;margin: 0 0.4em 0.5em 0.4em;box-sizing: border-box;padding-bottom: 0.4em;background-color: white;}#sk-container-id-3 div.sk-label label {font-family: monospace;font-weight: bold;display: inline-block;line-height: 1.2em;}#sk-container-id-3 div.sk-label-container {text-align: center;}#sk-container-id-3 div.sk-container {/* jupyter's `normalize.less` sets `[hidden] { display: none; }` but bootstrap.min.css set `[hidden] { display: none !important; }` so we also need the `!important` here to be able to override the default hidden behavior on the sphinx rendered scikit-learn.org. See: https://github.com/scikit-learn/scikit-learn/issues/21755 */display: inline-block !important;position: relative;}#sk-container-id-3 div.sk-text-repr-fallback {display: none;}</style><div id=\"sk-container-id-3\" class=\"sk-top-container\"><div class=\"sk-text-repr-fallback\"><pre>Pipeline(steps=[(&#x27;preprocessor&#x27;,\n",
       "                 ColumnTransformer(transformers=[(&#x27;num&#x27;, StandardScaler(),\n",
       "                                                  [&#x27;f0&#x27;, &#x27;f1&#x27;, &#x27;f2&#x27;])])),\n",
       "                (&#x27;model&#x27;, LinearRegression())])</pre><b>In a Jupyter environment, please rerun this cell to show the HTML representation or trust the notebook. <br />On GitHub, the HTML representation is unable to render, please try loading this page with nbviewer.org.</b></div><div class=\"sk-container\" hidden><div class=\"sk-item sk-dashed-wrapped\"><div class=\"sk-label-container\"><div class=\"sk-label sk-toggleable\"><input class=\"sk-toggleable__control sk-hidden--visually\" id=\"sk-estimator-id-11\" type=\"checkbox\" ><label for=\"sk-estimator-id-11\" class=\"sk-toggleable__label sk-toggleable__label-arrow\">Pipeline</label><div class=\"sk-toggleable__content\"><pre>Pipeline(steps=[(&#x27;preprocessor&#x27;,\n",
       "                 ColumnTransformer(transformers=[(&#x27;num&#x27;, StandardScaler(),\n",
       "                                                  [&#x27;f0&#x27;, &#x27;f1&#x27;, &#x27;f2&#x27;])])),\n",
       "                (&#x27;model&#x27;, LinearRegression())])</pre></div></div></div><div class=\"sk-serial\"><div class=\"sk-item sk-dashed-wrapped\"><div class=\"sk-label-container\"><div class=\"sk-label sk-toggleable\"><input class=\"sk-toggleable__control sk-hidden--visually\" id=\"sk-estimator-id-12\" type=\"checkbox\" ><label for=\"sk-estimator-id-12\" class=\"sk-toggleable__label sk-toggleable__label-arrow\">preprocessor: ColumnTransformer</label><div class=\"sk-toggleable__content\"><pre>ColumnTransformer(transformers=[(&#x27;num&#x27;, StandardScaler(), [&#x27;f0&#x27;, &#x27;f1&#x27;, &#x27;f2&#x27;])])</pre></div></div></div><div class=\"sk-parallel\"><div class=\"sk-parallel-item\"><div class=\"sk-item\"><div class=\"sk-label-container\"><div class=\"sk-label sk-toggleable\"><input class=\"sk-toggleable__control sk-hidden--visually\" id=\"sk-estimator-id-13\" type=\"checkbox\" ><label for=\"sk-estimator-id-13\" class=\"sk-toggleable__label sk-toggleable__label-arrow\">num</label><div class=\"sk-toggleable__content\"><pre>[&#x27;f0&#x27;, &#x27;f1&#x27;, &#x27;f2&#x27;]</pre></div></div></div><div class=\"sk-serial\"><div class=\"sk-item\"><div class=\"sk-estimator sk-toggleable\"><input class=\"sk-toggleable__control sk-hidden--visually\" id=\"sk-estimator-id-14\" type=\"checkbox\" ><label for=\"sk-estimator-id-14\" class=\"sk-toggleable__label sk-toggleable__label-arrow\">StandardScaler</label><div class=\"sk-toggleable__content\"><pre>StandardScaler()</pre></div></div></div></div></div></div></div></div><div class=\"sk-item\"><div class=\"sk-estimator sk-toggleable\"><input class=\"sk-toggleable__control sk-hidden--visually\" id=\"sk-estimator-id-15\" type=\"checkbox\" ><label for=\"sk-estimator-id-15\" class=\"sk-toggleable__label sk-toggleable__label-arrow\">LinearRegression</label><div class=\"sk-toggleable__content\"><pre>LinearRegression()</pre></div></div></div></div></div></div></div>"
      ],
      "text/plain": [
       "Pipeline(steps=[('preprocessor',\n",
       "                 ColumnTransformer(transformers=[('num', StandardScaler(),\n",
       "                                                  ['f0', 'f1', 'f2'])])),\n",
       "                ('model', LinearRegression())])"
      ]
     },
     "execution_count": 38,
     "metadata": {},
     "output_type": "execute_result"
    }
   ],
   "source": [
    "model.fit(X = X_train,y = y_train)"
   ]
  },
  {
   "cell_type": "code",
   "execution_count": 39,
   "metadata": {},
   "outputs": [],
   "source": [
    "t_location_predicted_product = pd.Series(model.predict(X_valid), index = y_valid.index)\n",
    "t_location_true_product = y_valid"
   ]
  },
  {
   "cell_type": "code",
   "execution_count": 40,
   "metadata": {},
   "outputs": [
    {
     "name": "stdout",
     "output_type": "stream",
     "text": [
      "Метрика rmse модели:\n",
      "40.1\n",
      "\n",
      "Средний запас предсказанного сырья: 94.8 тыс. баррелей\n"
     ]
    }
   ],
   "source": [
    "print(f'Метрика rmse модели:\\n{mean_squared_error(y_valid, t_location_predicted_product, squared = False):.1f}')\n",
    "print(f'\\nСредний запас предсказанного сырья: {np.mean(model.predict(X_valid)):.1f} тыс. баррелей')"
   ]
  },
  {
   "cell_type": "markdown",
   "metadata": {},
   "source": [
    "Проведем анализ остатков"
   ]
  },
  {
   "cell_type": "code",
   "execution_count": 41,
   "metadata": {},
   "outputs": [
    {
     "data": {
      "text/plain": [
       "count    25000.000000\n",
       "mean         0.379975\n",
       "std         40.144877\n",
       "min       -131.400392\n",
       "25%        -29.053845\n",
       "50%          0.192387\n",
       "75%         29.254412\n",
       "max        126.349866\n",
       "Name: product, dtype: float64"
      ]
     },
     "metadata": {},
     "output_type": "display_data"
    },
    {
     "data": {
      "image/png": "[encoded data removed]",
      "text/plain": [
       "<Figure size 648x504 with 1 Axes>"
      ]
     },
     "metadata": {
      "needs_background": "light"
     },
     "output_type": "display_data"
    },
    {
     "data": {
      "image/png": "[encoded data removed]",
      "text/plain": [
       "<Figure size 648x504 with 1 Axes>"
      ]
     },
     "metadata": {
      "needs_background": "light"
     },
     "output_type": "display_data"
    }
   ],
   "source": [
    "remain_analize(y_valid, model.predict(X_valid))"
   ]
  },
  {
   "cell_type": "markdown",
   "metadata": {},
   "source": [
    "**Вывод:** проведено обучение трех моделей линейной регрессии для всех предложенных регионов. Вычислена метрика RMSE для моделей, а также средний предсказанный запас нефти."
   ]
  },
  {
   "cell_type": "markdown",
   "metadata": {},
   "source": [
    "## Подготовка к расчёту прибыли"
   ]
  },
  {
   "cell_type": "markdown",
   "metadata": {},
   "source": [
    "Рассчитаем достаточный для безубыточной разработки новых скважин объем сырья"
   ]
  },
  {
   "cell_type": "code",
   "execution_count": 42,
   "metadata": {},
   "outputs": [
    {
     "name": "stdout",
     "output_type": "stream",
     "text": [
      "Достаточный объём сырья для безубыточной разработки новой скважины равен 111.11 тыс. баррелей\n"
     ]
    }
   ],
   "source": [
    "enough_prod = BUDGET / (NUM_OF_BEST_POINTS * BARREL_COST)\n",
    "print(f'Достаточный объём сырья для безубыточной разработки новой скважины равен {enough_prod:.2f} тыс. баррелей')"
   ]
  },
  {
   "cell_type": "markdown",
   "metadata": {},
   "source": [
    "Напишем функцию для определения прибыли от разработки новых скважин"
   ]
  },
  {
   "cell_type": "code",
   "execution_count": 43,
   "metadata": {},
   "outputs": [],
   "source": [
    "def income(y_true, predictions):\n",
    "    return (np.sum(y_true[predictions\n",
    "                          .sort_values(ascending = False)\n",
    "                          .head(NUM_OF_BEST_POINTS).index]\n",
    "                   *BARREL_COST) - BUDGET) * 1000"
   ]
  },
  {
   "cell_type": "markdown",
   "metadata": {},
   "source": [
    "**Вывод:** таким образом, достаточный объём сырья для безубыточной разработки новой скважины равен 111.11 тыс. баррелей."
   ]
  },
  {
   "cell_type": "markdown",
   "metadata": {},
   "source": [
    "## Расчёт прибыли и рисков "
   ]
  },
  {
   "cell_type": "code",
   "execution_count": 44,
   "metadata": {},
   "outputs": [
    {
     "name": "stdout",
     "output_type": "stream",
     "text": [
      "\n",
      "\n",
      "Средняя выручка: 406278783.0\n",
      "\n",
      "Риск убытков = 6.70%\n",
      "\n",
      "95% Доверительный интервал:[-117742136, 911737051]\n",
      "\n",
      "\n",
      "Средняя выручка: 441504278.0\n",
      "\n",
      "Риск убытков = 1.60%\n",
      "\n",
      "95% Доверительный интервал:[35728489, 828006639]\n",
      "\n",
      "\n",
      "Средняя выручка: 385213196.0\n",
      "\n",
      "Риск убытков = 7.80%\n",
      "\n",
      "95% Доверительный интервал:[-164785166, 888206234]\n"
     ]
    }
   ],
   "source": [
    "state = np.random.RandomState(12345)\n",
    "    \n",
    "y_true_ser = [f_location_true_product, s_location_true_product, t_location_true_product]\n",
    "y_pred_ser = [f_location_predicted_product, s_location_predicted_product, t_location_predicted_product]\n",
    "    \n",
    "for i in range(len(y_true_ser)):\n",
    "    for j in range(len(y_pred_ser)):\n",
    "        if i == j:\n",
    "            values = []\n",
    "            count = 0\n",
    "\n",
    "            \n",
    "            for k in range(1000):\n",
    "                sampled_target = y_pred_ser[j].sample(n = NUM_OF_RES_POINTS,\n",
    "                                                      replace = True, random_state = state)\n",
    "                ones_income = income(y_true_ser[i],sampled_target)\n",
    "                values.append(ones_income)\n",
    "                  \n",
    "            values = pd.Series(values)\n",
    "            lower = values.quantile(0.025)\n",
    "            upper = values.quantile(0.975)\n",
    "            mean = values.mean()\n",
    "            \n",
    "            print('\\n\\nСредняя выручка:', round(mean,0))\n",
    "            print(f'\\nРиск убытков = {(values<0).sum()/10:.2f}%')\n",
    "            print(f'\\n95% Доверительный интервал:[{lower:.0f}, {upper:.0f}]')"
   ]
  },
  {
   "cell_type": "markdown",
   "metadata": {},
   "source": [
    "<div class=\"alert alert-info\">    \n",
    "Поправил\n",
    "</div>"
   ]
  },
  {
   "cell_type": "markdown",
   "metadata": {},
   "source": [
    "**Вывод:** на основании проведенного анализа можно рекомендовать к разработке скважины со второй локации, так как с вероятностью 95% доход от реализации проекта будет лежать в диапазоне [35728489, 828006639], средняя выручка при этом составляет 441.5 млн. руб., риск убытков равен 1.6%."
   ]
  },
  {
   "cell_type": "markdown",
   "metadata": {},
   "source": [
    "### Общий вывод"
   ]
  },
  {
   "cell_type": "markdown",
   "metadata": {},
   "source": [
    "В настоящей работе было проведено исследование данных, предоставленных добывающей компании «ГлавРосГосНефть», в ходе которого обучены и применены 3 модели линейной регрессии с целью поиска наилучшей локации для бурения новых скважин.\n",
    "\n",
    "Этапы работы:\n",
    "\n",
    "**Предобработка данных** которая включала анализ наличия пропусков, проверено наличие дубликатов, в качетсве индекса установлены id. Выяснено, что данные логичны, порядок значений во всех столбцах тождественен для всех датасетов, выбивающихся значений не обнаружено.\n",
    "\n",
    "**Исследовательский анализ данных**, в ходе которого были проанализированы: ***f0***: можно заметить, что для второй и третьей локации значения признака распределены вокруг 0, для первой локации сосредоточение вокруг 0.5 самое плотное, для третьей локации - сосредоточение менее плотное, для второй - наименее плотное; ***f1***: признак для первой и третеьй локации распределен вокруг 0 с достаточно высокой плотностью, на второй локации признак распределен вокруг ~-5 с наименьшей плотностью; ***f2***:  для первой и третьей локации распределен достаточно свободно вокруг ~2.5, для второй - наиболее плотно вокруг 2; ***объём запасов в скважине***: распределеине для первой и третьей локации довольно схожее, близко к нормальному со средним около 93.75. Для второй локации можно заметить большУю часть скважин с околонулевым запасом, также наблюдается пик числа скважин с запасом около 130 тыс. баррелей. Корреляционный анализ показал наличие прямой связи между целевым признаком и признаком f2 для второго датасета.\n",
    "\n",
    "**Разработка и применение ML-моделей линейной регрессии для прогнозирования объемов запасов в скважине**: проведено обучение трех моделей линейной регрессии для всех предложенных регионов. Вычислена метрика RMSE для моделей, а также средний предсказанный запас нефти.\n",
    "* Первый регион: метрика rmse модели: 37.8, средний запас предсказанного сырья: 92.4 тыс. баррелей;\n",
    "* Второй регион: метрика rmse модели: 0.9, средний запас предсказанного сырья: 68.7 тыс. баррелей;\n",
    "* Третий регион: метрика rmse модели: 40.1, средний запас предсказанного сырья: 94.8 тыс. баррелей;\n",
    "\n",
    "**Расчет прибыли и рисков безубыточной реализации проекта**: с помощью техники Bootstrap с 1000 выборок найдено распределение прибыли от разработки скважин в регионе, найдена средняя прибыль и 95% интервал прибыли. Определен регион с наибольшей прибылью для соответствующей 2.5% квантилю степени риска. Наилучшей для бурения определена вторая локация, так как с вероятностью 95% доход от реализации проекта будет лежать в диапазоне [35728489, 828006639], средняя выручка при этом составляет 441.5 млн. руб., риск убытков равен 1.6%."
   ]
  }
 ],
 "metadata": {
  "ExecuteTimeLog": [
   {
    "duration": 12,
    "start_time": "2025-03-28T16:34:30.916Z"
   },
   {
    "duration": 15388,
    "start_time": "2025-04-23T16:03:50.697Z"
   },
   {
    "duration": 2044,
    "start_time": "2025-04-23T16:04:06.087Z"
   },
   {
    "duration": 0,
    "start_time": "2025-04-23T16:04:08.133Z"
   },
   {
    "duration": 0,
    "start_time": "2025-04-23T16:04:08.140Z"
   },
   {
    "duration": 0,
    "start_time": "2025-04-23T16:04:08.141Z"
   },
   {
    "duration": 6,
    "start_time": "2025-04-23T16:04:22.147Z"
   },
   {
    "duration": 469,
    "start_time": "2025-04-23T16:06:23.611Z"
   },
   {
    "duration": 2,
    "start_time": "2025-04-23T16:06:28.701Z"
   },
   {
    "duration": 69,
    "start_time": "2025-04-23T16:06:29.623Z"
   },
   {
    "duration": 44,
    "start_time": "2025-04-23T16:08:51.550Z"
   },
   {
    "duration": 33,
    "start_time": "2025-04-23T16:09:17.457Z"
   },
   {
    "duration": 13,
    "start_time": "2025-04-23T16:09:25.547Z"
   },
   {
    "duration": 45,
    "start_time": "2025-04-23T16:09:28.824Z"
   },
   {
    "duration": 63,
    "start_time": "2025-04-23T16:14:42.491Z"
   },
   {
    "duration": 56,
    "start_time": "2025-04-23T16:15:00.909Z"
   },
   {
    "duration": 21,
    "start_time": "2025-04-23T16:24:59.950Z"
   },
   {
    "duration": 42,
    "start_time": "2025-04-23T16:25:16.232Z"
   },
   {
    "duration": 24,
    "start_time": "2025-04-23T16:25:46.451Z"
   },
   {
    "duration": 39,
    "start_time": "2025-04-23T16:25:49.014Z"
   },
   {
    "duration": 5,
    "start_time": "2025-04-23T16:32:27.542Z"
   },
   {
    "duration": 639,
    "start_time": "2025-04-23T16:32:53.882Z"
   },
   {
    "duration": 361,
    "start_time": "2025-04-23T16:35:54.903Z"
   },
   {
    "duration": 345,
    "start_time": "2025-04-23T16:36:34.634Z"
   },
   {
    "duration": 327,
    "start_time": "2025-04-23T16:37:40.845Z"
   },
   {
    "duration": 417,
    "start_time": "2025-04-23T16:38:17.653Z"
   },
   {
    "duration": 354,
    "start_time": "2025-04-23T16:52:31.566Z"
   },
   {
    "duration": 354,
    "start_time": "2025-04-23T16:52:41.805Z"
   },
   {
    "duration": 8,
    "start_time": "2025-04-23T16:55:17.045Z"
   },
   {
    "duration": 9,
    "start_time": "2025-04-23T16:55:22.787Z"
   },
   {
    "duration": 10,
    "start_time": "2025-04-23T16:56:07.323Z"
   },
   {
    "duration": 100,
    "start_time": "2025-04-23T16:56:43.164Z"
   },
   {
    "duration": 159,
    "start_time": "2025-04-23T16:56:48.080Z"
   },
   {
    "duration": 214,
    "start_time": "2025-04-23T16:57:02.826Z"
   },
   {
    "duration": 53,
    "start_time": "2025-04-23T16:58:10.335Z"
   },
   {
    "duration": 363,
    "start_time": "2025-04-23T16:58:15.536Z"
   },
   {
    "duration": 446,
    "start_time": "2025-04-23T16:58:32.017Z"
   },
   {
    "duration": 369,
    "start_time": "2025-04-23T16:58:39.698Z"
   },
   {
    "duration": 343,
    "start_time": "2025-04-23T16:58:50.466Z"
   },
   {
    "duration": 394,
    "start_time": "2025-04-23T16:59:04.479Z"
   },
   {
    "duration": 569,
    "start_time": "2025-04-23T16:59:19.117Z"
   },
   {
    "duration": 212,
    "start_time": "2025-04-23T16:59:32.025Z"
   },
   {
    "duration": 696,
    "start_time": "2025-04-23T16:59:41.769Z"
   },
   {
    "duration": 376,
    "start_time": "2025-04-23T16:59:56.294Z"
   },
   {
    "duration": 385,
    "start_time": "2025-04-23T17:01:25.588Z"
   },
   {
    "duration": 354,
    "start_time": "2025-04-23T17:01:40.941Z"
   },
   {
    "duration": 73,
    "start_time": "2025-04-23T17:02:38.607Z"
   },
   {
    "duration": 358,
    "start_time": "2025-04-23T17:02:43.414Z"
   },
   {
    "duration": 333,
    "start_time": "2025-04-23T17:03:09.744Z"
   },
   {
    "duration": 457,
    "start_time": "2025-04-23T17:03:17.324Z"
   },
   {
    "duration": 352,
    "start_time": "2025-04-23T17:03:22.922Z"
   },
   {
    "duration": 356,
    "start_time": "2025-04-23T17:03:30.416Z"
   },
   {
    "duration": 392,
    "start_time": "2025-04-23T17:03:33.897Z"
   },
   {
    "duration": 322,
    "start_time": "2025-04-23T17:05:26.054Z"
   },
   {
    "duration": 496,
    "start_time": "2025-04-23T17:05:38.007Z"
   },
   {
    "duration": 10,
    "start_time": "2025-04-23T17:08:06.284Z"
   },
   {
    "duration": 213,
    "start_time": "2025-04-23T17:08:12.331Z"
   },
   {
    "duration": 177,
    "start_time": "2025-04-23T17:08:18.871Z"
   },
   {
    "duration": 9,
    "start_time": "2025-04-23T17:08:33.011Z"
   },
   {
    "duration": 10,
    "start_time": "2025-04-23T17:08:40.412Z"
   },
   {
    "duration": 10,
    "start_time": "2025-04-23T17:08:48.677Z"
   },
   {
    "duration": 9,
    "start_time": "2025-04-23T17:08:55.140Z"
   },
   {
    "duration": 214,
    "start_time": "2025-04-23T17:08:59.327Z"
   },
   {
    "duration": 9,
    "start_time": "2025-04-23T17:10:13.978Z"
   },
   {
    "duration": 172,
    "start_time": "2025-04-23T17:10:19.365Z"
   },
   {
    "duration": 359,
    "start_time": "2025-04-23T17:10:28.826Z"
   },
   {
    "duration": 357,
    "start_time": "2025-04-23T17:10:39.066Z"
   },
   {
    "duration": 327,
    "start_time": "2025-04-23T17:10:50.243Z"
   },
   {
    "duration": 495,
    "start_time": "2025-04-23T17:11:06.113Z"
   },
   {
    "duration": 343,
    "start_time": "2025-04-23T17:11:12.756Z"
   },
   {
    "duration": 378,
    "start_time": "2025-04-23T17:11:23.919Z"
   },
   {
    "duration": 345,
    "start_time": "2025-04-23T17:11:37.537Z"
   },
   {
    "duration": 316,
    "start_time": "2025-04-23T17:47:49.249Z"
   },
   {
    "duration": 387,
    "start_time": "2025-04-23T17:48:08.732Z"
   },
   {
    "duration": 459,
    "start_time": "2025-04-23T17:48:17.299Z"
   },
   {
    "duration": 381,
    "start_time": "2025-04-23T17:48:21.608Z"
   },
   {
    "duration": 6,
    "start_time": "2025-04-23T17:58:19.949Z"
   },
   {
    "duration": 723,
    "start_time": "2025-04-23T17:58:27.820Z"
   },
   {
    "duration": 6,
    "start_time": "2025-04-23T17:58:55.264Z"
   },
   {
    "duration": 407,
    "start_time": "2025-04-23T17:58:56.082Z"
   },
   {
    "duration": 6,
    "start_time": "2025-04-23T17:59:32.435Z"
   },
   {
    "duration": 378,
    "start_time": "2025-04-23T17:59:32.640Z"
   },
   {
    "duration": 6,
    "start_time": "2025-04-23T17:59:44.224Z"
   },
   {
    "duration": 806,
    "start_time": "2025-04-23T17:59:44.644Z"
   },
   {
    "duration": 97,
    "start_time": "2025-04-23T18:08:12.939Z"
   },
   {
    "duration": 763,
    "start_time": "2025-04-23T18:08:14.075Z"
   },
   {
    "duration": 5,
    "start_time": "2025-04-23T18:08:20.103Z"
   },
   {
    "duration": 730,
    "start_time": "2025-04-23T18:08:20.512Z"
   },
   {
    "duration": 850,
    "start_time": "2025-04-23T18:08:46.522Z"
   },
   {
    "duration": 6,
    "start_time": "2025-04-23T18:08:59.936Z"
   },
   {
    "duration": 712,
    "start_time": "2025-04-23T18:09:00.559Z"
   },
   {
    "duration": 5,
    "start_time": "2025-04-23T18:09:36.600Z"
   },
   {
    "duration": 756,
    "start_time": "2025-04-23T18:09:37.312Z"
   },
   {
    "duration": 5,
    "start_time": "2025-04-23T18:13:35.188Z"
   },
   {
    "duration": 749,
    "start_time": "2025-04-23T18:13:36.007Z"
   },
   {
    "duration": 821,
    "start_time": "2025-04-23T18:14:40.314Z"
   },
   {
    "duration": 711,
    "start_time": "2025-04-23T18:17:42.530Z"
   },
   {
    "duration": 272,
    "start_time": "2025-04-23T18:19:12.312Z"
   },
   {
    "duration": 213,
    "start_time": "2025-04-23T18:19:24.172Z"
   },
   {
    "duration": 210,
    "start_time": "2025-04-23T18:19:34.851Z"
   },
   {
    "duration": 200,
    "start_time": "2025-04-23T18:19:37.787Z"
   },
   {
    "duration": 198,
    "start_time": "2025-04-23T18:19:41.063Z"
   },
   {
    "duration": 864,
    "start_time": "2025-04-23T18:35:37.676Z"
   },
   {
    "duration": 15,
    "start_time": "2025-04-23T18:43:23.993Z"
   },
   {
    "duration": 14,
    "start_time": "2025-04-23T18:43:55.786Z"
   },
   {
    "duration": 222,
    "start_time": "2025-04-23T18:44:32.667Z"
   },
   {
    "duration": 14,
    "start_time": "2025-04-23T18:44:44.116Z"
   },
   {
    "duration": 14,
    "start_time": "2025-04-23T18:44:58.694Z"
   },
   {
    "duration": 300,
    "start_time": "2025-04-23T18:46:13.784Z"
   },
   {
    "duration": 3,
    "start_time": "2025-04-23T18:50:03.882Z"
   },
   {
    "duration": 3,
    "start_time": "2025-04-23T18:52:44.219Z"
   },
   {
    "duration": 10,
    "start_time": "2025-04-23T18:53:28.714Z"
   },
   {
    "duration": 10,
    "start_time": "2025-04-23T18:54:54.486Z"
   },
   {
    "duration": 10,
    "start_time": "2025-04-23T18:55:01.147Z"
   },
   {
    "duration": 10,
    "start_time": "2025-04-23T18:55:39.045Z"
   },
   {
    "duration": 4,
    "start_time": "2025-04-23T18:56:06.649Z"
   },
   {
    "duration": 9,
    "start_time": "2025-04-23T18:56:15.727Z"
   },
   {
    "duration": 4,
    "start_time": "2025-04-23T18:56:21.948Z"
   },
   {
    "duration": 10,
    "start_time": "2025-04-23T18:56:34.712Z"
   },
   {
    "duration": 37,
    "start_time": "2025-04-23T18:56:53.592Z"
   },
   {
    "duration": 4,
    "start_time": "2025-04-23T18:57:05.657Z"
   },
   {
    "duration": 3,
    "start_time": "2025-04-23T18:59:29.288Z"
   },
   {
    "duration": 2,
    "start_time": "2025-04-23T19:00:02.442Z"
   },
   {
    "duration": 11,
    "start_time": "2025-04-23T19:00:17.286Z"
   },
   {
    "duration": 4,
    "start_time": "2025-04-23T19:01:17.987Z"
   },
   {
    "duration": 4,
    "start_time": "2025-04-23T19:01:52.759Z"
   },
   {
    "duration": 2,
    "start_time": "2025-04-23T19:01:56.091Z"
   },
   {
    "duration": 10,
    "start_time": "2025-04-23T19:01:57.036Z"
   },
   {
    "duration": 2,
    "start_time": "2025-04-23T19:02:09.564Z"
   },
   {
    "duration": 28,
    "start_time": "2025-04-23T19:02:10.280Z"
   },
   {
    "duration": 4,
    "start_time": "2025-04-23T19:02:10.443Z"
   },
   {
    "duration": 11,
    "start_time": "2025-04-23T19:02:10.685Z"
   },
   {
    "duration": 11,
    "start_time": "2025-04-23T19:02:11.982Z"
   },
   {
    "duration": 3,
    "start_time": "2025-04-23T19:02:30.202Z"
   },
   {
    "duration": 29,
    "start_time": "2025-04-23T19:02:31.081Z"
   },
   {
    "duration": 4,
    "start_time": "2025-04-23T19:02:31.239Z"
   },
   {
    "duration": 21,
    "start_time": "2025-04-23T19:02:31.427Z"
   },
   {
    "duration": 2,
    "start_time": "2025-04-23T19:03:05.914Z"
   },
   {
    "duration": 4,
    "start_time": "2025-04-23T19:03:24.797Z"
   },
   {
    "duration": 2,
    "start_time": "2025-04-23T19:03:25.052Z"
   },
   {
    "duration": 28,
    "start_time": "2025-04-23T19:03:25.430Z"
   },
   {
    "duration": 3,
    "start_time": "2025-04-23T19:03:25.629Z"
   },
   {
    "duration": 12,
    "start_time": "2025-04-23T19:03:25.997Z"
   },
   {
    "duration": 2,
    "start_time": "2025-04-23T19:07:11.461Z"
   },
   {
    "duration": 17,
    "start_time": "2025-04-23T19:07:46.455Z"
   },
   {
    "duration": 9,
    "start_time": "2025-04-23T19:08:48.674Z"
   },
   {
    "duration": 16,
    "start_time": "2025-04-23T19:08:53.118Z"
   },
   {
    "duration": 3,
    "start_time": "2025-04-23T19:10:33.468Z"
   },
   {
    "duration": 18,
    "start_time": "2025-04-23T19:11:08.675Z"
   },
   {
    "duration": 17,
    "start_time": "2025-04-23T19:11:19.443Z"
   },
   {
    "duration": 17,
    "start_time": "2025-04-23T19:12:33.362Z"
   },
   {
    "duration": 2,
    "start_time": "2025-04-23T19:14:00.152Z"
   },
   {
    "duration": 3,
    "start_time": "2025-04-23T19:14:01.720Z"
   },
   {
    "duration": 3,
    "start_time": "2025-04-23T19:14:02.123Z"
   },
   {
    "duration": 2,
    "start_time": "2025-04-23T19:14:07.774Z"
   },
   {
    "duration": 29,
    "start_time": "2025-04-23T19:14:08.311Z"
   },
   {
    "duration": 3,
    "start_time": "2025-04-23T19:14:08.635Z"
   },
   {
    "duration": 27,
    "start_time": "2025-04-23T19:14:09.113Z"
   },
   {
    "duration": 16,
    "start_time": "2025-04-23T19:14:26.672Z"
   },
   {
    "duration": 41,
    "start_time": "2025-04-23T19:16:35.630Z"
   },
   {
    "duration": 5,
    "start_time": "2025-04-23T19:16:36.321Z"
   },
   {
    "duration": 29,
    "start_time": "2025-04-23T19:16:36.919Z"
   },
   {
    "duration": 15,
    "start_time": "2025-04-23T19:16:38.189Z"
   },
   {
    "duration": 39,
    "start_time": "2025-04-23T19:16:59.361Z"
   },
   {
    "duration": 4,
    "start_time": "2025-04-23T19:16:59.715Z"
   },
   {
    "duration": 27,
    "start_time": "2025-04-23T19:17:00.152Z"
   },
   {
    "duration": 14,
    "start_time": "2025-04-23T19:17:00.676Z"
   },
   {
    "duration": 48,
    "start_time": "2025-04-23T19:24:37.188Z"
   },
   {
    "duration": 9,
    "start_time": "2025-04-23T19:24:48.170Z"
   },
   {
    "duration": 13,
    "start_time": "2025-04-23T19:25:59.058Z"
   },
   {
    "duration": 51,
    "start_time": "2025-04-23T19:26:11.269Z"
   },
   {
    "duration": 15,
    "start_time": "2025-04-23T19:26:34.967Z"
   },
   {
    "duration": 14,
    "start_time": "2025-04-23T19:26:42.411Z"
   },
   {
    "duration": 29,
    "start_time": "2025-04-23T19:27:15.869Z"
   },
   {
    "duration": 4,
    "start_time": "2025-04-23T19:27:16.243Z"
   },
   {
    "duration": 24,
    "start_time": "2025-04-23T19:27:16.635Z"
   },
   {
    "duration": 97,
    "start_time": "2025-04-23T19:27:17.139Z"
   },
   {
    "duration": 28,
    "start_time": "2025-04-23T19:27:19.078Z"
   },
   {
    "duration": 4,
    "start_time": "2025-04-23T19:27:19.345Z"
   },
   {
    "duration": 26,
    "start_time": "2025-04-23T19:27:19.589Z"
   },
   {
    "duration": 86,
    "start_time": "2025-04-23T19:27:19.854Z"
   },
   {
    "duration": 30,
    "start_time": "2025-04-23T19:27:20.812Z"
   },
   {
    "duration": 4,
    "start_time": "2025-04-23T19:27:21.052Z"
   },
   {
    "duration": 24,
    "start_time": "2025-04-23T19:27:21.308Z"
   },
   {
    "duration": 83,
    "start_time": "2025-04-23T19:27:21.552Z"
   },
   {
    "duration": 13,
    "start_time": "2025-04-23T19:27:36.247Z"
   },
   {
    "duration": 27,
    "start_time": "2025-04-23T19:27:37.795Z"
   },
   {
    "duration": 4,
    "start_time": "2025-04-23T19:27:38.015Z"
   },
   {
    "duration": 24,
    "start_time": "2025-04-23T19:27:38.199Z"
   },
   {
    "duration": 41,
    "start_time": "2025-04-23T19:27:38.396Z"
   },
   {
    "duration": 15831,
    "start_time": "2025-04-24T14:41:48.436Z"
   },
   {
    "duration": 1884,
    "start_time": "2025-04-24T14:42:04.269Z"
   },
   {
    "duration": 421,
    "start_time": "2025-04-24T14:42:06.155Z"
   },
   {
    "duration": 3,
    "start_time": "2025-04-24T14:42:06.578Z"
   },
   {
    "duration": 96,
    "start_time": "2025-04-24T14:42:06.583Z"
   },
   {
    "duration": 68,
    "start_time": "2025-04-24T14:42:06.680Z"
   },
   {
    "duration": 67,
    "start_time": "2025-04-24T14:42:06.750Z"
   },
   {
    "duration": 37,
    "start_time": "2025-04-24T14:42:06.818Z"
   },
   {
    "duration": 42,
    "start_time": "2025-04-24T14:42:06.857Z"
   },
   {
    "duration": 39,
    "start_time": "2025-04-24T14:42:06.903Z"
   },
   {
    "duration": 116,
    "start_time": "2025-04-24T14:42:06.944Z"
   },
   {
    "duration": 8,
    "start_time": "2025-04-24T14:42:07.062Z"
   },
   {
    "duration": 994,
    "start_time": "2025-04-24T14:42:07.072Z"
   },
   {
    "duration": 880,
    "start_time": "2025-04-24T14:42:08.068Z"
   },
   {
    "duration": 729,
    "start_time": "2025-04-24T14:42:08.950Z"
   },
   {
    "duration": 814,
    "start_time": "2025-04-24T14:42:09.680Z"
   },
   {
    "duration": 344,
    "start_time": "2025-04-24T14:42:10.496Z"
   },
   {
    "duration": 286,
    "start_time": "2025-04-24T14:42:29.846Z"
   },
   {
    "duration": 114,
    "start_time": "2025-04-24T14:44:21.525Z"
   },
   {
    "duration": 2,
    "start_time": "2025-04-24T14:44:24.495Z"
   },
   {
    "duration": 1046,
    "start_time": "2025-04-24T14:44:24.801Z"
   },
   {
    "duration": 60,
    "start_time": "2025-04-24T16:26:29.981Z"
   },
   {
    "duration": 45,
    "start_time": "2025-04-24T16:26:35.525Z"
   },
   {
    "duration": 16407,
    "start_time": "2025-04-24T16:27:14.541Z"
   },
   {
    "duration": 1878,
    "start_time": "2025-04-24T16:27:30.950Z"
   },
   {
    "duration": 445,
    "start_time": "2025-04-24T16:27:32.830Z"
   },
   {
    "duration": 3,
    "start_time": "2025-04-24T16:27:33.277Z"
   },
   {
    "duration": 74,
    "start_time": "2025-04-24T16:27:33.283Z"
   },
   {
    "duration": 70,
    "start_time": "2025-04-24T16:27:33.359Z"
   },
   {
    "duration": 78,
    "start_time": "2025-04-24T16:27:33.430Z"
   },
   {
    "duration": 21,
    "start_time": "2025-04-24T16:27:33.509Z"
   },
   {
    "duration": 108,
    "start_time": "2025-04-24T16:27:33.532Z"
   },
   {
    "duration": 24,
    "start_time": "2025-04-24T16:27:33.642Z"
   },
   {
    "duration": 50,
    "start_time": "2025-04-24T16:27:33.668Z"
   },
   {
    "duration": 7,
    "start_time": "2025-04-24T16:27:33.719Z"
   },
   {
    "duration": 916,
    "start_time": "2025-04-24T16:27:33.727Z"
   },
   {
    "duration": 887,
    "start_time": "2025-04-24T16:27:34.646Z"
   },
   {
    "duration": 809,
    "start_time": "2025-04-24T16:27:35.535Z"
   },
   {
    "duration": 810,
    "start_time": "2025-04-24T16:27:36.345Z"
   },
   {
    "duration": 2,
    "start_time": "2025-04-24T16:27:37.157Z"
   },
   {
    "duration": 434,
    "start_time": "2025-04-24T16:27:37.160Z"
   },
   {
    "duration": 1255,
    "start_time": "2025-04-24T16:27:47.615Z"
   },
   {
    "duration": 3,
    "start_time": "2025-04-24T16:29:40.870Z"
   },
   {
    "duration": 11,
    "start_time": "2025-04-24T16:29:41.087Z"
   },
   {
    "duration": 890,
    "start_time": "2025-04-24T16:30:45.936Z"
   },
   {
    "duration": 5,
    "start_time": "2025-04-24T16:42:10.547Z"
   },
   {
    "duration": 950,
    "start_time": "2025-04-24T16:42:11.366Z"
   },
   {
    "duration": 5435,
    "start_time": "2025-04-24T17:02:04.443Z"
   },
   {
    "duration": 5,
    "start_time": "2025-04-24T17:02:09.880Z"
   },
   {
    "duration": 445,
    "start_time": "2025-04-24T17:02:09.888Z"
   },
   {
    "duration": 3,
    "start_time": "2025-04-24T17:02:10.335Z"
   },
   {
    "duration": 80,
    "start_time": "2025-04-24T17:02:10.341Z"
   },
   {
    "duration": 84,
    "start_time": "2025-04-24T17:02:10.426Z"
   },
   {
    "duration": 57,
    "start_time": "2025-04-24T17:02:10.511Z"
   },
   {
    "duration": 49,
    "start_time": "2025-04-24T17:02:10.570Z"
   },
   {
    "duration": 110,
    "start_time": "2025-04-24T17:02:10.621Z"
   },
   {
    "duration": 24,
    "start_time": "2025-04-24T17:02:10.733Z"
   },
   {
    "duration": 48,
    "start_time": "2025-04-24T17:02:10.759Z"
   },
   {
    "duration": 7,
    "start_time": "2025-04-24T17:02:10.809Z"
   },
   {
    "duration": 920,
    "start_time": "2025-04-24T17:02:10.818Z"
   },
   {
    "duration": 915,
    "start_time": "2025-04-24T17:02:11.742Z"
   },
   {
    "duration": 811,
    "start_time": "2025-04-24T17:02:12.658Z"
   },
   {
    "duration": 815,
    "start_time": "2025-04-24T17:02:13.471Z"
   },
   {
    "duration": 17,
    "start_time": "2025-04-24T17:02:14.288Z"
   },
   {
    "duration": 1006,
    "start_time": "2025-04-24T17:02:14.307Z"
   },
   {
    "duration": 6,
    "start_time": "2025-04-24T17:02:15.315Z"
   },
   {
    "duration": 56,
    "start_time": "2025-04-24T17:02:15.322Z"
   },
   {
    "duration": 45,
    "start_time": "2025-04-24T17:02:15.380Z"
   },
   {
    "duration": 65,
    "start_time": "2025-04-24T17:02:15.426Z"
   },
   {
    "duration": 32,
    "start_time": "2025-04-24T17:02:15.493Z"
   },
   {
    "duration": 384,
    "start_time": "2025-04-24T17:02:15.527Z"
   },
   {
    "duration": 93,
    "start_time": "2025-04-24T17:02:15.913Z"
   },
   {
    "duration": 140,
    "start_time": "2025-04-24T17:02:16.009Z"
   },
   {
    "duration": 76,
    "start_time": "2025-04-24T17:02:16.150Z"
   },
   {
    "duration": 54,
    "start_time": "2025-04-24T17:02:16.228Z"
   },
   {
    "duration": 24,
    "start_time": "2025-04-24T17:02:16.284Z"
   },
   {
    "duration": 1208,
    "start_time": "2025-04-24T17:02:16.310Z"
   },
   {
    "duration": 0,
    "start_time": "2025-04-24T17:02:17.520Z"
   },
   {
    "duration": 0,
    "start_time": "2025-04-24T17:02:17.521Z"
   },
   {
    "duration": 0,
    "start_time": "2025-04-24T17:02:17.523Z"
   },
   {
    "duration": 43,
    "start_time": "2025-04-24T17:02:59.024Z"
   },
   {
    "duration": 4,
    "start_time": "2025-04-24T17:03:00.049Z"
   },
   {
    "duration": 1158,
    "start_time": "2025-04-24T17:03:00.573Z"
   },
   {
    "duration": 0,
    "start_time": "2025-04-24T17:03:01.733Z"
   },
   {
    "duration": 37,
    "start_time": "2025-04-24T17:05:11.129Z"
   },
   {
    "duration": 3,
    "start_time": "2025-04-24T17:05:11.336Z"
   },
   {
    "duration": 3,
    "start_time": "2025-04-24T17:05:11.641Z"
   },
   {
    "duration": 4,
    "start_time": "2025-04-24T17:05:11.939Z"
   },
   {
    "duration": 35,
    "start_time": "2025-04-24T17:05:12.451Z"
   },
   {
    "duration": 28,
    "start_time": "2025-04-24T17:05:13.481Z"
   },
   {
    "duration": 254,
    "start_time": "2025-04-24T17:42:51.398Z"
   },
   {
    "duration": 5352,
    "start_time": "2025-04-24T17:43:38.190Z"
   },
   {
    "duration": 10,
    "start_time": "2025-04-24T17:43:54.478Z"
   },
   {
    "duration": 496,
    "start_time": "2025-04-24T17:43:59.086Z"
   },
   {
    "duration": 449,
    "start_time": "2025-04-24T17:44:12.295Z"
   },
   {
    "duration": 375,
    "start_time": "2025-04-24T17:45:44.788Z"
   },
   {
    "duration": 401,
    "start_time": "2025-04-24T17:45:53.155Z"
   },
   {
    "duration": 373,
    "start_time": "2025-04-24T17:45:58.275Z"
   },
   {
    "duration": 361,
    "start_time": "2025-04-24T17:46:14.980Z"
   },
   {
    "duration": 363,
    "start_time": "2025-04-24T17:46:23.717Z"
   },
   {
    "duration": 6,
    "start_time": "2025-04-24T17:53:32.116Z"
   },
   {
    "duration": 5462,
    "start_time": "2025-04-24T17:53:46.557Z"
   },
   {
    "duration": 5,
    "start_time": "2025-04-24T17:53:52.022Z"
   },
   {
    "duration": 450,
    "start_time": "2025-04-24T17:53:52.029Z"
   },
   {
    "duration": 3,
    "start_time": "2025-04-24T17:53:52.481Z"
   },
   {
    "duration": 143,
    "start_time": "2025-04-24T17:53:52.486Z"
   },
   {
    "duration": 57,
    "start_time": "2025-04-24T17:53:52.630Z"
   },
   {
    "duration": 70,
    "start_time": "2025-04-24T17:53:52.689Z"
   },
   {
    "duration": 17,
    "start_time": "2025-04-24T17:53:52.761Z"
   },
   {
    "duration": 59,
    "start_time": "2025-04-24T17:53:52.780Z"
   },
   {
    "duration": 51,
    "start_time": "2025-04-24T17:53:52.841Z"
   },
   {
    "duration": 31,
    "start_time": "2025-04-24T17:53:52.894Z"
   },
   {
    "duration": 7,
    "start_time": "2025-04-24T17:53:52.926Z"
   },
   {
    "duration": 1003,
    "start_time": "2025-04-24T17:53:52.935Z"
   },
   {
    "duration": 825,
    "start_time": "2025-04-24T17:53:53.942Z"
   },
   {
    "duration": 779,
    "start_time": "2025-04-24T17:53:54.769Z"
   },
   {
    "duration": 830,
    "start_time": "2025-04-24T17:53:55.549Z"
   },
   {
    "duration": 4,
    "start_time": "2025-04-24T17:53:56.381Z"
   },
   {
    "duration": 1141,
    "start_time": "2025-04-24T17:53:56.387Z"
   },
   {
    "duration": 5,
    "start_time": "2025-04-24T17:53:57.530Z"
   },
   {
    "duration": 16,
    "start_time": "2025-04-24T17:53:57.537Z"
   },
   {
    "duration": 28,
    "start_time": "2025-04-24T17:53:57.555Z"
   },
   {
    "duration": 24,
    "start_time": "2025-04-24T17:53:57.585Z"
   },
   {
    "duration": 76,
    "start_time": "2025-04-24T17:53:57.611Z"
   },
   {
    "duration": 5,
    "start_time": "2025-04-24T17:53:57.689Z"
   },
   {
    "duration": 110,
    "start_time": "2025-04-24T17:53:57.696Z"
   },
   {
    "duration": 100,
    "start_time": "2025-04-24T17:53:57.810Z"
   },
   {
    "duration": 196,
    "start_time": "2025-04-24T17:53:57.913Z"
   },
   {
    "duration": 619,
    "start_time": "2025-04-24T17:54:15.889Z"
   },
   {
    "duration": 60,
    "start_time": "2025-04-24T17:54:38.886Z"
   },
   {
    "duration": 4,
    "start_time": "2025-04-24T17:54:39.394Z"
   },
   {
    "duration": 29,
    "start_time": "2025-04-24T17:54:39.610Z"
   },
   {
    "duration": 14,
    "start_time": "2025-04-24T17:54:39.959Z"
   },
   {
    "duration": 15,
    "start_time": "2025-04-24T17:54:41.896Z"
   },
   {
    "duration": 632,
    "start_time": "2025-04-24T17:54:49.265Z"
   },
   {
    "duration": 46,
    "start_time": "2025-04-24T17:56:03.683Z"
   },
   {
    "duration": 4,
    "start_time": "2025-04-24T17:56:03.878Z"
   },
   {
    "duration": 3,
    "start_time": "2025-04-24T17:56:04.086Z"
   },
   {
    "duration": 5,
    "start_time": "2025-04-24T17:56:04.181Z"
   },
   {
    "duration": 26,
    "start_time": "2025-04-24T17:56:04.391Z"
   },
   {
    "duration": 14,
    "start_time": "2025-04-24T17:56:04.503Z"
   },
   {
    "duration": 14,
    "start_time": "2025-04-24T17:56:04.836Z"
   },
   {
    "duration": 627,
    "start_time": "2025-04-24T17:56:05.623Z"
   },
   {
    "duration": 6011,
    "start_time": "2025-04-24T17:57:22.929Z"
   },
   {
    "duration": 6,
    "start_time": "2025-04-24T17:57:28.944Z"
   },
   {
    "duration": 774,
    "start_time": "2025-04-24T17:57:28.952Z"
   },
   {
    "duration": 3,
    "start_time": "2025-04-24T17:57:29.728Z"
   },
   {
    "duration": 76,
    "start_time": "2025-04-24T17:57:29.733Z"
   },
   {
    "duration": 60,
    "start_time": "2025-04-24T17:57:29.811Z"
   },
   {
    "duration": 80,
    "start_time": "2025-04-24T17:57:29.873Z"
   },
   {
    "duration": 20,
    "start_time": "2025-04-24T17:57:29.955Z"
   },
   {
    "duration": 61,
    "start_time": "2025-04-24T17:57:29.977Z"
   },
   {
    "duration": 35,
    "start_time": "2025-04-24T17:57:30.040Z"
   },
   {
    "duration": 64,
    "start_time": "2025-04-24T17:57:30.077Z"
   },
   {
    "duration": 11,
    "start_time": "2025-04-24T17:57:30.143Z"
   },
   {
    "duration": 1091,
    "start_time": "2025-04-24T17:57:30.156Z"
   },
   {
    "duration": 779,
    "start_time": "2025-04-24T17:57:31.251Z"
   },
   {
    "duration": 838,
    "start_time": "2025-04-24T17:57:32.032Z"
   },
   {
    "duration": 806,
    "start_time": "2025-04-24T17:57:32.873Z"
   },
   {
    "duration": 10,
    "start_time": "2025-04-24T17:57:33.681Z"
   },
   {
    "duration": 1175,
    "start_time": "2025-04-24T17:57:33.693Z"
   },
   {
    "duration": 5,
    "start_time": "2025-04-24T17:57:34.869Z"
   },
   {
    "duration": 62,
    "start_time": "2025-04-24T17:57:34.876Z"
   },
   {
    "duration": 9,
    "start_time": "2025-04-24T17:57:34.940Z"
   },
   {
    "duration": 6,
    "start_time": "2025-04-24T17:57:34.951Z"
   },
   {
    "duration": 75,
    "start_time": "2025-04-24T17:57:34.958Z"
   },
   {
    "duration": 4,
    "start_time": "2025-04-24T17:57:35.035Z"
   },
   {
    "duration": 76,
    "start_time": "2025-04-24T17:57:35.041Z"
   },
   {
    "duration": 11,
    "start_time": "2025-04-24T17:57:35.206Z"
   },
   {
    "duration": 97,
    "start_time": "2025-04-24T17:57:35.220Z"
   },
   {
    "duration": 725,
    "start_time": "2025-04-24T17:57:35.404Z"
   },
   {
    "duration": 52,
    "start_time": "2025-04-24T17:57:36.131Z"
   },
   {
    "duration": 33,
    "start_time": "2025-04-24T17:57:36.185Z"
   },
   {
    "duration": 63,
    "start_time": "2025-04-24T17:57:36.220Z"
   },
   {
    "duration": 39,
    "start_time": "2025-04-24T17:57:36.285Z"
   },
   {
    "duration": 190,
    "start_time": "2025-04-24T17:57:36.328Z"
   },
   {
    "duration": 791,
    "start_time": "2025-04-24T17:57:36.520Z"
   },
   {
    "duration": 49,
    "start_time": "2025-04-24T17:57:37.313Z"
   },
   {
    "duration": 3,
    "start_time": "2025-04-24T17:57:37.364Z"
   },
   {
    "duration": 21,
    "start_time": "2025-04-24T17:57:37.369Z"
   },
   {
    "duration": 22,
    "start_time": "2025-04-24T17:57:37.392Z"
   },
   {
    "duration": 53,
    "start_time": "2025-04-24T17:57:37.416Z"
   },
   {
    "duration": 16,
    "start_time": "2025-04-24T17:57:37.471Z"
   },
   {
    "duration": 105,
    "start_time": "2025-04-24T17:57:37.510Z"
   },
   {
    "duration": 806,
    "start_time": "2025-04-24T17:57:37.618Z"
   },
   {
    "duration": 5,
    "start_time": "2025-04-24T18:10:57.839Z"
   },
   {
    "duration": 40,
    "start_time": "2025-04-24T18:10:58.247Z"
   },
   {
    "duration": 4,
    "start_time": "2025-04-24T18:10:58.357Z"
   },
   {
    "duration": 27,
    "start_time": "2025-04-24T18:10:58.553Z"
   },
   {
    "duration": 8,
    "start_time": "2025-04-24T18:10:58.759Z"
   },
   {
    "duration": 14,
    "start_time": "2025-04-24T18:10:58.964Z"
   },
   {
    "duration": 636,
    "start_time": "2025-04-24T18:10:59.573Z"
   },
   {
    "duration": 32,
    "start_time": "2025-04-24T18:11:01.211Z"
   },
   {
    "duration": 5,
    "start_time": "2025-04-24T18:11:06.945Z"
   },
   {
    "duration": 3,
    "start_time": "2025-04-24T18:11:07.061Z"
   },
   {
    "duration": 2,
    "start_time": "2025-04-24T18:11:07.253Z"
   },
   {
    "duration": 6,
    "start_time": "2025-04-24T18:11:07.359Z"
   },
   {
    "duration": 32,
    "start_time": "2025-04-24T18:11:07.661Z"
   },
   {
    "duration": 4,
    "start_time": "2025-04-24T18:11:07.728Z"
   },
   {
    "duration": 29,
    "start_time": "2025-04-24T18:11:07.969Z"
   },
   {
    "duration": 16,
    "start_time": "2025-04-24T18:11:08.174Z"
   },
   {
    "duration": 15,
    "start_time": "2025-04-24T18:11:08.307Z"
   },
   {
    "duration": 591,
    "start_time": "2025-04-24T18:11:08.523Z"
   },
   {
    "duration": 38,
    "start_time": "2025-04-24T18:11:09.116Z"
   },
   {
    "duration": 4,
    "start_time": "2025-04-24T18:11:09.156Z"
   },
   {
    "duration": 29,
    "start_time": "2025-04-24T18:11:09.206Z"
   },
   {
    "duration": 11,
    "start_time": "2025-04-24T18:11:09.370Z"
   },
   {
    "duration": 14,
    "start_time": "2025-04-24T18:11:09.525Z"
   },
   {
    "duration": 777,
    "start_time": "2025-04-24T18:11:09.830Z"
   },
   {
    "duration": 31,
    "start_time": "2025-04-24T18:11:10.610Z"
   },
   {
    "duration": 66,
    "start_time": "2025-04-24T18:11:10.643Z"
   },
   {
    "duration": 30,
    "start_time": "2025-04-24T18:11:10.711Z"
   },
   {
    "duration": 26,
    "start_time": "2025-04-24T18:11:10.743Z"
   },
   {
    "duration": 26,
    "start_time": "2025-04-24T18:11:11.412Z"
   },
   {
    "duration": 9,
    "start_time": "2025-04-24T18:11:11.590Z"
   },
   {
    "duration": 14,
    "start_time": "2025-04-24T18:11:12.057Z"
   },
   {
    "duration": 631,
    "start_time": "2025-04-24T18:11:13.590Z"
   },
   {
    "duration": 5,
    "start_time": "2025-04-24T18:11:43.909Z"
   },
   {
    "duration": 33,
    "start_time": "2025-04-24T18:11:44.322Z"
   },
   {
    "duration": 4,
    "start_time": "2025-04-24T18:11:44.526Z"
   },
   {
    "duration": 26,
    "start_time": "2025-04-24T18:11:44.629Z"
   },
   {
    "duration": 12,
    "start_time": "2025-04-24T18:11:44.762Z"
   },
   {
    "duration": 21,
    "start_time": "2025-04-24T18:11:44.936Z"
   },
   {
    "duration": 23,
    "start_time": "2025-04-24T18:11:45.243Z"
   },
   {
    "duration": 30,
    "start_time": "2025-04-24T18:11:45.653Z"
   },
   {
    "duration": 4,
    "start_time": "2025-04-24T18:11:45.858Z"
   },
   {
    "duration": 6,
    "start_time": "2025-04-24T18:11:55.893Z"
   },
   {
    "duration": 41,
    "start_time": "2025-04-24T18:11:56.611Z"
   },
   {
    "duration": 4,
    "start_time": "2025-04-24T18:11:57.023Z"
   },
   {
    "duration": 25,
    "start_time": "2025-04-24T18:11:57.838Z"
   },
   {
    "duration": 7,
    "start_time": "2025-04-24T18:11:59.420Z"
   },
   {
    "duration": 5,
    "start_time": "2025-04-24T18:12:07.362Z"
   },
   {
    "duration": 14,
    "start_time": "2025-04-24T18:12:08.713Z"
   },
   {
    "duration": 587,
    "start_time": "2025-04-24T18:12:10.741Z"
   },
   {
    "duration": 3,
    "start_time": "2025-04-24T18:19:27.770Z"
   },
   {
    "duration": 10,
    "start_time": "2025-04-24T18:23:45.324Z"
   },
   {
    "duration": 4,
    "start_time": "2025-04-24T18:23:52.492Z"
   },
   {
    "duration": 3,
    "start_time": "2025-04-24T18:24:09.495Z"
   },
   {
    "duration": 4,
    "start_time": "2025-04-24T18:24:10.213Z"
   },
   {
    "duration": 4,
    "start_time": "2025-04-24T18:24:23.138Z"
   },
   {
    "duration": 3,
    "start_time": "2025-04-24T18:32:48.047Z"
   },
   {
    "duration": 4,
    "start_time": "2025-04-24T18:32:56.683Z"
   },
   {
    "duration": 20,
    "start_time": "2025-04-24T18:33:10.067Z"
   },
   {
    "duration": 4,
    "start_time": "2025-04-24T18:33:23.073Z"
   },
   {
    "duration": 10,
    "start_time": "2025-04-24T18:33:23.289Z"
   },
   {
    "duration": 4,
    "start_time": "2025-04-24T18:34:34.957Z"
   },
   {
    "duration": 10,
    "start_time": "2025-04-24T18:34:35.362Z"
   },
   {
    "duration": 4,
    "start_time": "2025-04-24T18:35:03.936Z"
   },
   {
    "duration": 9,
    "start_time": "2025-04-24T18:35:04.052Z"
   },
   {
    "duration": 3,
    "start_time": "2025-04-24T18:35:09.159Z"
   },
   {
    "duration": 10,
    "start_time": "2025-04-24T18:35:09.538Z"
   },
   {
    "duration": 4,
    "start_time": "2025-04-24T18:35:15.201Z"
   },
   {
    "duration": 9,
    "start_time": "2025-04-24T18:35:15.504Z"
   },
   {
    "duration": 3,
    "start_time": "2025-04-24T18:35:22.780Z"
   },
   {
    "duration": 10,
    "start_time": "2025-04-24T18:35:23.291Z"
   },
   {
    "duration": 3,
    "start_time": "2025-04-24T18:35:28.509Z"
   },
   {
    "duration": 11,
    "start_time": "2025-04-24T18:35:28.719Z"
   },
   {
    "duration": 4,
    "start_time": "2025-04-24T18:35:34.657Z"
   },
   {
    "duration": 9,
    "start_time": "2025-04-24T18:35:35.179Z"
   },
   {
    "duration": 3,
    "start_time": "2025-04-24T18:36:04.144Z"
   },
   {
    "duration": 10,
    "start_time": "2025-04-24T18:36:04.554Z"
   },
   {
    "duration": 5,
    "start_time": "2025-04-24T18:36:32.428Z"
   },
   {
    "duration": 10,
    "start_time": "2025-04-24T18:36:32.821Z"
   },
   {
    "duration": 4,
    "start_time": "2025-04-24T18:38:14.118Z"
   },
   {
    "duration": 11,
    "start_time": "2025-04-24T18:38:14.500Z"
   },
   {
    "duration": 17,
    "start_time": "2025-04-24T18:44:51.103Z"
   },
   {
    "duration": 5732,
    "start_time": "2025-04-24T18:45:59.113Z"
   },
   {
    "duration": 1773,
    "start_time": "2025-04-24T18:46:04.848Z"
   },
   {
    "duration": 471,
    "start_time": "2025-04-24T18:46:06.623Z"
   },
   {
    "duration": 12,
    "start_time": "2025-04-24T18:46:07.095Z"
   },
   {
    "duration": 73,
    "start_time": "2025-04-24T18:46:07.114Z"
   },
   {
    "duration": 73,
    "start_time": "2025-04-24T18:46:07.189Z"
   },
   {
    "duration": 76,
    "start_time": "2025-04-24T18:46:07.263Z"
   },
   {
    "duration": 22,
    "start_time": "2025-04-24T18:46:07.341Z"
   },
   {
    "duration": 62,
    "start_time": "2025-04-24T18:46:07.364Z"
   },
   {
    "duration": 34,
    "start_time": "2025-04-24T18:46:07.428Z"
   },
   {
    "duration": 66,
    "start_time": "2025-04-24T18:46:07.464Z"
   },
   {
    "duration": 7,
    "start_time": "2025-04-24T18:46:07.532Z"
   },
   {
    "duration": 917,
    "start_time": "2025-04-24T18:46:07.541Z"
   },
   {
    "duration": 900,
    "start_time": "2025-04-24T18:46:08.461Z"
   },
   {
    "duration": 799,
    "start_time": "2025-04-24T18:46:09.363Z"
   },
   {
    "duration": 860,
    "start_time": "2025-04-24T18:46:10.164Z"
   },
   {
    "duration": 2,
    "start_time": "2025-04-24T18:46:11.026Z"
   },
   {
    "duration": 1012,
    "start_time": "2025-04-24T18:46:11.030Z"
   },
   {
    "duration": 4,
    "start_time": "2025-04-24T18:46:12.044Z"
   },
   {
    "duration": 23,
    "start_time": "2025-04-24T18:46:12.050Z"
   },
   {
    "duration": 89,
    "start_time": "2025-04-24T18:46:12.074Z"
   },
   {
    "duration": 6,
    "start_time": "2025-04-24T18:46:12.165Z"
   },
   {
    "duration": 69,
    "start_time": "2025-04-24T18:46:12.172Z"
   },
   {
    "duration": 5,
    "start_time": "2025-04-24T18:46:12.243Z"
   },
   {
    "duration": 40,
    "start_time": "2025-04-24T18:46:12.249Z"
   },
   {
    "duration": 33,
    "start_time": "2025-04-24T18:46:12.291Z"
   },
   {
    "duration": 183,
    "start_time": "2025-04-24T18:46:12.329Z"
   },
   {
    "duration": 1013,
    "start_time": "2025-04-24T18:46:12.515Z"
   },
   {
    "duration": 62,
    "start_time": "2025-04-24T18:46:13.529Z"
   },
   {
    "duration": 20,
    "start_time": "2025-04-24T18:46:13.593Z"
   },
   {
    "duration": 35,
    "start_time": "2025-04-24T18:46:13.617Z"
   },
   {
    "duration": 62,
    "start_time": "2025-04-24T18:46:13.654Z"
   },
   {
    "duration": 109,
    "start_time": "2025-04-24T18:46:13.719Z"
   },
   {
    "duration": 898,
    "start_time": "2025-04-24T18:46:13.830Z"
   },
   {
    "duration": 46,
    "start_time": "2025-04-24T18:46:14.730Z"
   },
   {
    "duration": 117,
    "start_time": "2025-04-24T18:46:14.778Z"
   },
   {
    "duration": 3,
    "start_time": "2025-04-24T18:46:14.901Z"
   },
   {
    "duration": 8,
    "start_time": "2025-04-24T18:46:14.910Z"
   },
   {
    "duration": 26,
    "start_time": "2025-04-24T18:46:14.925Z"
   },
   {
    "duration": 60,
    "start_time": "2025-04-24T18:46:14.952Z"
   },
   {
    "duration": 103,
    "start_time": "2025-04-24T18:46:15.020Z"
   },
   {
    "duration": 917,
    "start_time": "2025-04-24T18:46:15.126Z"
   },
   {
    "duration": 3,
    "start_time": "2025-04-24T18:46:16.044Z"
   },
   {
    "duration": 82,
    "start_time": "2025-04-24T18:46:16.050Z"
   },
   {
    "duration": 26,
    "start_time": "2025-04-24T18:46:16.134Z"
   },
   {
    "duration": 2032,
    "start_time": "2025-04-24T18:46:16.162Z"
   },
   {
    "duration": 2041,
    "start_time": "2025-04-24T18:46:41.902Z"
   },
   {
    "duration": 107,
    "start_time": "2025-04-25T13:01:13.969Z"
   },
   {
    "duration": 16891,
    "start_time": "2025-04-25T13:01:31.785Z"
   },
   {
    "duration": 1948,
    "start_time": "2025-04-25T13:01:48.679Z"
   },
   {
    "duration": 423,
    "start_time": "2025-04-25T13:01:50.629Z"
   },
   {
    "duration": 3,
    "start_time": "2025-04-25T13:01:51.054Z"
   },
   {
    "duration": 71,
    "start_time": "2025-04-25T13:01:51.059Z"
   },
   {
    "duration": 56,
    "start_time": "2025-04-25T13:01:51.132Z"
   },
   {
    "duration": 67,
    "start_time": "2025-04-25T13:01:51.189Z"
   },
   {
    "duration": 19,
    "start_time": "2025-04-25T13:01:51.258Z"
   },
   {
    "duration": 87,
    "start_time": "2025-04-25T13:01:51.279Z"
   },
   {
    "duration": 26,
    "start_time": "2025-04-25T13:01:51.368Z"
   },
   {
    "duration": 34,
    "start_time": "2025-04-25T13:01:51.395Z"
   },
   {
    "duration": 7,
    "start_time": "2025-04-25T13:01:51.432Z"
   },
   {
    "duration": 919,
    "start_time": "2025-04-25T13:01:51.441Z"
   },
   {
    "duration": 853,
    "start_time": "2025-04-25T13:01:52.363Z"
   },
   {
    "duration": 726,
    "start_time": "2025-04-25T13:01:53.218Z"
   },
   {
    "duration": 810,
    "start_time": "2025-04-25T13:01:53.947Z"
   },
   {
    "duration": 2,
    "start_time": "2025-04-25T13:01:54.759Z"
   },
   {
    "duration": 957,
    "start_time": "2025-04-25T13:01:54.763Z"
   },
   {
    "duration": 5,
    "start_time": "2025-04-25T13:01:55.722Z"
   },
   {
    "duration": 8,
    "start_time": "2025-04-25T13:01:55.728Z"
   },
   {
    "duration": 7,
    "start_time": "2025-04-25T13:01:55.738Z"
   },
   {
    "duration": 9,
    "start_time": "2025-04-25T13:01:55.747Z"
   },
   {
    "duration": 62,
    "start_time": "2025-04-25T13:01:55.758Z"
   },
   {
    "duration": 5,
    "start_time": "2025-04-25T13:01:55.822Z"
   },
   {
    "duration": 207,
    "start_time": "2025-04-25T13:01:55.829Z"
   },
   {
    "duration": 76,
    "start_time": "2025-04-25T13:01:56.038Z"
   },
   {
    "duration": 98,
    "start_time": "2025-04-25T13:01:56.119Z"
   },
   {
    "duration": 797,
    "start_time": "2025-04-25T13:01:56.220Z"
   },
   {
    "duration": 46,
    "start_time": "2025-04-25T13:01:57.019Z"
   },
   {
    "duration": 4,
    "start_time": "2025-04-25T13:01:57.067Z"
   },
   {
    "duration": 50,
    "start_time": "2025-04-25T13:01:57.072Z"
   },
   {
    "duration": 81,
    "start_time": "2025-04-25T13:01:57.124Z"
   },
   {
    "duration": 105,
    "start_time": "2025-04-25T13:01:57.208Z"
   },
   {
    "duration": 798,
    "start_time": "2025-04-25T13:01:57.316Z"
   },
   {
    "duration": 44,
    "start_time": "2025-04-25T13:01:58.115Z"
   },
   {
    "duration": 2,
    "start_time": "2025-04-25T13:01:58.161Z"
   },
   {
    "duration": 22,
    "start_time": "2025-04-25T13:01:58.165Z"
   },
   {
    "duration": 12,
    "start_time": "2025-04-25T13:01:58.188Z"
   },
   {
    "duration": 46,
    "start_time": "2025-04-25T13:01:58.202Z"
   },
   {
    "duration": 13,
    "start_time": "2025-04-25T13:01:58.250Z"
   },
   {
    "duration": 151,
    "start_time": "2025-04-25T13:01:58.268Z"
   },
   {
    "duration": 859,
    "start_time": "2025-04-25T13:01:58.421Z"
   },
   {
    "duration": 3,
    "start_time": "2025-04-25T13:01:59.282Z"
   },
   {
    "duration": 61,
    "start_time": "2025-04-25T13:01:59.286Z"
   },
   {
    "duration": 12,
    "start_time": "2025-04-25T13:01:59.348Z"
   },
   {
    "duration": 88,
    "start_time": "2025-04-25T13:01:59.362Z"
   },
   {
    "duration": 83,
    "start_time": "2025-04-25T13:02:52.498Z"
   },
   {
    "duration": 107,
    "start_time": "2025-04-25T13:03:19.718Z"
   },
   {
    "duration": 131,
    "start_time": "2025-04-25T13:04:04.201Z"
   },
   {
    "duration": 84,
    "start_time": "2025-04-25T13:04:23.361Z"
   },
   {
    "duration": 1946,
    "start_time": "2025-04-25T13:04:31.759Z"
   },
   {
    "duration": 1958,
    "start_time": "2025-04-25T13:04:39.207Z"
   },
   {
    "duration": 1974,
    "start_time": "2025-04-25T13:05:55.780Z"
   },
   {
    "duration": 606,
    "start_time": "2025-04-25T13:07:45.312Z"
   },
   {
    "duration": 8,
    "start_time": "2025-04-25T13:07:56.058Z"
   },
   {
    "duration": 6,
    "start_time": "2025-04-25T13:08:08.227Z"
   },
   {
    "duration": 69,
    "start_time": "2025-04-25T13:08:56.219Z"
   },
   {
    "duration": 111,
    "start_time": "2025-04-25T13:09:47.972Z"
   },
   {
    "duration": 201,
    "start_time": "2025-04-25T13:09:52.693Z"
   },
   {
    "duration": 120,
    "start_time": "2025-04-25T13:10:53.080Z"
   },
   {
    "duration": 72,
    "start_time": "2025-04-25T13:11:02.064Z"
   },
   {
    "duration": 6,
    "start_time": "2025-04-25T13:11:18.375Z"
   },
   {
    "duration": 6,
    "start_time": "2025-04-25T13:11:30.117Z"
   },
   {
    "duration": 6,
    "start_time": "2025-04-25T13:11:39.801Z"
   },
   {
    "duration": 6,
    "start_time": "2025-04-25T13:11:57.116Z"
   },
   {
    "duration": 6,
    "start_time": "2025-04-25T13:12:10.651Z"
   },
   {
    "duration": 6,
    "start_time": "2025-04-25T13:12:12.785Z"
   },
   {
    "duration": 6,
    "start_time": "2025-04-25T13:12:15.615Z"
   },
   {
    "duration": 1327,
    "start_time": "2025-04-25T13:12:35.939Z"
   },
   {
    "duration": 11,
    "start_time": "2025-04-25T13:12:53.641Z"
   },
   {
    "duration": 6,
    "start_time": "2025-04-25T13:13:09.323Z"
   },
   {
    "duration": 7,
    "start_time": "2025-04-25T13:13:58.573Z"
   },
   {
    "duration": 1262,
    "start_time": "2025-04-25T13:14:08.135Z"
   },
   {
    "duration": 5,
    "start_time": "2025-04-25T13:14:17.729Z"
   },
   {
    "duration": 4,
    "start_time": "2025-04-25T13:14:26.865Z"
   },
   {
    "duration": 15,
    "start_time": "2025-04-25T13:15:37.780Z"
   },
   {
    "duration": 5291,
    "start_time": "2025-04-25T13:16:10.913Z"
   },
   {
    "duration": 1706,
    "start_time": "2025-04-25T13:16:16.206Z"
   },
   {
    "duration": 418,
    "start_time": "2025-04-25T13:16:17.913Z"
   },
   {
    "duration": 2,
    "start_time": "2025-04-25T13:16:18.333Z"
   },
   {
    "duration": 98,
    "start_time": "2025-04-25T13:16:18.337Z"
   },
   {
    "duration": 112,
    "start_time": "2025-04-25T13:16:18.436Z"
   },
   {
    "duration": 164,
    "start_time": "2025-04-25T13:16:18.550Z"
   },
   {
    "duration": 20,
    "start_time": "2025-04-25T13:16:18.716Z"
   },
   {
    "duration": 94,
    "start_time": "2025-04-25T13:16:18.738Z"
   },
   {
    "duration": 72,
    "start_time": "2025-04-25T13:16:18.835Z"
   },
   {
    "duration": 33,
    "start_time": "2025-04-25T13:16:18.909Z"
   },
   {
    "duration": 63,
    "start_time": "2025-04-25T13:16:18.943Z"
   },
   {
    "duration": 1254,
    "start_time": "2025-04-25T13:16:19.008Z"
   },
   {
    "duration": 851,
    "start_time": "2025-04-25T13:16:20.264Z"
   },
   {
    "duration": 724,
    "start_time": "2025-04-25T13:16:21.116Z"
   },
   {
    "duration": 818,
    "start_time": "2025-04-25T13:16:21.842Z"
   },
   {
    "duration": 2,
    "start_time": "2025-04-25T13:16:22.662Z"
   },
   {
    "duration": 950,
    "start_time": "2025-04-25T13:16:22.665Z"
   },
   {
    "duration": 5,
    "start_time": "2025-04-25T13:16:23.617Z"
   },
   {
    "duration": 41,
    "start_time": "2025-04-25T13:16:23.623Z"
   },
   {
    "duration": 78,
    "start_time": "2025-04-25T13:16:23.665Z"
   },
   {
    "duration": 6,
    "start_time": "2025-04-25T13:16:23.745Z"
   },
   {
    "duration": 47,
    "start_time": "2025-04-25T13:16:23.753Z"
   },
   {
    "duration": 4,
    "start_time": "2025-04-25T13:16:23.802Z"
   },
   {
    "duration": 34,
    "start_time": "2025-04-25T13:16:23.807Z"
   },
   {
    "duration": 63,
    "start_time": "2025-04-25T13:16:23.842Z"
   },
   {
    "duration": 104,
    "start_time": "2025-04-25T13:16:23.907Z"
   },
   {
    "duration": 1005,
    "start_time": "2025-04-25T13:16:24.017Z"
   },
   {
    "duration": 47,
    "start_time": "2025-04-25T13:16:25.023Z"
   },
   {
    "duration": 4,
    "start_time": "2025-04-25T13:16:25.071Z"
   },
   {
    "duration": 53,
    "start_time": "2025-04-25T13:16:25.077Z"
   },
   {
    "duration": 9,
    "start_time": "2025-04-25T13:16:25.131Z"
   },
   {
    "duration": 173,
    "start_time": "2025-04-25T13:16:25.142Z"
   },
   {
    "duration": 996,
    "start_time": "2025-04-25T13:16:25.318Z"
   },
   {
    "duration": 44,
    "start_time": "2025-04-25T13:16:26.316Z"
   },
   {
    "duration": 2,
    "start_time": "2025-04-25T13:16:26.362Z"
   },
   {
    "duration": 15,
    "start_time": "2025-04-25T13:16:26.366Z"
   },
   {
    "duration": 7,
    "start_time": "2025-04-25T13:16:26.383Z"
   },
   {
    "duration": 34,
    "start_time": "2025-04-25T13:16:26.392Z"
   },
   {
    "duration": 9,
    "start_time": "2025-04-25T13:16:26.428Z"
   },
   {
    "duration": 169,
    "start_time": "2025-04-25T13:16:26.439Z"
   },
   {
    "duration": 1001,
    "start_time": "2025-04-25T13:16:26.610Z"
   },
   {
    "duration": 3,
    "start_time": "2025-04-25T13:16:27.612Z"
   },
   {
    "duration": 7,
    "start_time": "2025-04-25T13:16:27.617Z"
   },
   {
    "duration": 13,
    "start_time": "2025-04-25T13:16:27.626Z"
   },
   {
    "duration": 2043,
    "start_time": "2025-04-25T13:16:27.640Z"
   },
   {
    "duration": 5242,
    "start_time": "2025-04-25T13:44:57.751Z"
   },
   {
    "duration": 1730,
    "start_time": "2025-04-25T13:45:02.996Z"
   },
   {
    "duration": 454,
    "start_time": "2025-04-25T13:45:04.727Z"
   },
   {
    "duration": 4,
    "start_time": "2025-04-25T13:45:05.183Z"
   },
   {
    "duration": 105,
    "start_time": "2025-04-25T13:45:05.189Z"
   },
   {
    "duration": 59,
    "start_time": "2025-04-25T13:45:05.297Z"
   },
   {
    "duration": 69,
    "start_time": "2025-04-25T13:45:05.358Z"
   },
   {
    "duration": 21,
    "start_time": "2025-04-25T13:45:05.429Z"
   },
   {
    "duration": 161,
    "start_time": "2025-04-25T13:45:05.452Z"
   },
   {
    "duration": 25,
    "start_time": "2025-04-25T13:45:05.614Z"
   },
   {
    "duration": 33,
    "start_time": "2025-04-25T13:45:05.641Z"
   },
   {
    "duration": 29,
    "start_time": "2025-04-25T13:45:05.676Z"
   },
   {
    "duration": 872,
    "start_time": "2025-04-25T13:45:05.707Z"
   },
   {
    "duration": 838,
    "start_time": "2025-04-25T13:45:06.582Z"
   },
   {
    "duration": 735,
    "start_time": "2025-04-25T13:45:07.421Z"
   },
   {
    "duration": 804,
    "start_time": "2025-04-25T13:45:08.158Z"
   },
   {
    "duration": 3,
    "start_time": "2025-04-25T13:45:08.964Z"
   },
   {
    "duration": 949,
    "start_time": "2025-04-25T13:45:08.968Z"
   },
   {
    "duration": 5,
    "start_time": "2025-04-25T13:45:09.919Z"
   },
   {
    "duration": 30,
    "start_time": "2025-04-25T13:45:09.926Z"
   },
   {
    "duration": 64,
    "start_time": "2025-04-25T13:45:09.957Z"
   },
   {
    "duration": 56,
    "start_time": "2025-04-25T13:45:10.023Z"
   },
   {
    "duration": 70,
    "start_time": "2025-04-25T13:45:10.081Z"
   },
   {
    "duration": 4,
    "start_time": "2025-04-25T13:45:10.153Z"
   },
   {
    "duration": 41,
    "start_time": "2025-04-25T13:45:10.159Z"
   },
   {
    "duration": 9,
    "start_time": "2025-04-25T13:45:10.206Z"
   },
   {
    "duration": 198,
    "start_time": "2025-04-25T13:45:10.217Z"
   },
   {
    "duration": 1088,
    "start_time": "2025-04-25T13:45:10.418Z"
   },
   {
    "duration": 44,
    "start_time": "2025-04-25T13:45:11.508Z"
   },
   {
    "duration": 4,
    "start_time": "2025-04-25T13:45:11.554Z"
   },
   {
    "duration": 46,
    "start_time": "2025-04-25T13:45:11.560Z"
   },
   {
    "duration": 11,
    "start_time": "2025-04-25T13:45:11.608Z"
   },
   {
    "duration": 188,
    "start_time": "2025-04-25T13:45:11.622Z"
   },
   {
    "duration": 885,
    "start_time": "2025-04-25T13:45:11.812Z"
   },
   {
    "duration": 49,
    "start_time": "2025-04-25T13:45:12.699Z"
   },
   {
    "duration": 3,
    "start_time": "2025-04-25T13:45:12.750Z"
   },
   {
    "duration": 96,
    "start_time": "2025-04-25T13:45:12.754Z"
   },
   {
    "duration": 23,
    "start_time": "2025-04-25T13:45:12.851Z"
   },
   {
    "duration": 31,
    "start_time": "2025-04-25T13:45:12.876Z"
   },
   {
    "duration": 9,
    "start_time": "2025-04-25T13:45:12.908Z"
   },
   {
    "duration": 189,
    "start_time": "2025-04-25T13:45:12.923Z"
   },
   {
    "duration": 911,
    "start_time": "2025-04-25T13:45:13.114Z"
   },
   {
    "duration": 3,
    "start_time": "2025-04-25T13:45:14.027Z"
   },
   {
    "duration": 47,
    "start_time": "2025-04-25T13:45:14.031Z"
   },
   {
    "duration": 6,
    "start_time": "2025-04-25T13:45:14.080Z"
   },
   {
    "duration": 1908,
    "start_time": "2025-04-25T13:45:14.088Z"
   },
   {
    "duration": 6046,
    "start_time": "2025-04-25T13:52:10.099Z"
   },
   {
    "duration": 1686,
    "start_time": "2025-04-25T13:52:16.148Z"
   },
   {
    "duration": 449,
    "start_time": "2025-04-25T13:52:17.836Z"
   },
   {
    "duration": 3,
    "start_time": "2025-04-25T13:52:18.287Z"
   },
   {
    "duration": 88,
    "start_time": "2025-04-25T13:52:18.292Z"
   },
   {
    "duration": 59,
    "start_time": "2025-04-25T13:52:18.381Z"
   },
   {
    "duration": 72,
    "start_time": "2025-04-25T13:52:18.442Z"
   },
   {
    "duration": 21,
    "start_time": "2025-04-25T13:52:18.516Z"
   },
   {
    "duration": 39,
    "start_time": "2025-04-25T13:52:18.538Z"
   },
   {
    "duration": 46,
    "start_time": "2025-04-25T13:52:18.579Z"
   },
   {
    "duration": 36,
    "start_time": "2025-04-25T13:52:18.627Z"
   },
   {
    "duration": 6,
    "start_time": "2025-04-25T13:52:18.665Z"
   },
   {
    "duration": 815,
    "start_time": "2025-04-25T13:52:18.673Z"
   },
   {
    "duration": 844,
    "start_time": "2025-04-25T13:52:19.492Z"
   },
   {
    "duration": 793,
    "start_time": "2025-04-25T13:52:20.338Z"
   },
   {
    "duration": 826,
    "start_time": "2025-04-25T13:52:21.133Z"
   },
   {
    "duration": 3,
    "start_time": "2025-04-25T13:52:21.960Z"
   },
   {
    "duration": 1051,
    "start_time": "2025-04-25T13:52:21.965Z"
   },
   {
    "duration": 4,
    "start_time": "2025-04-25T13:52:23.018Z"
   },
   {
    "duration": 12,
    "start_time": "2025-04-25T13:52:23.024Z"
   },
   {
    "duration": 36,
    "start_time": "2025-04-25T13:52:23.037Z"
   },
   {
    "duration": 23,
    "start_time": "2025-04-25T13:52:23.074Z"
   },
   {
    "duration": 70,
    "start_time": "2025-04-25T13:52:23.098Z"
   },
   {
    "duration": 5,
    "start_time": "2025-04-25T13:52:23.169Z"
   },
   {
    "duration": 50,
    "start_time": "2025-04-25T13:52:23.175Z"
   },
   {
    "duration": 10,
    "start_time": "2025-04-25T13:52:23.226Z"
   },
   {
    "duration": 180,
    "start_time": "2025-04-25T13:52:23.239Z"
   },
   {
    "duration": 1086,
    "start_time": "2025-04-25T13:52:23.422Z"
   },
   {
    "duration": 48,
    "start_time": "2025-04-25T13:52:24.509Z"
   },
   {
    "duration": 4,
    "start_time": "2025-04-25T13:52:24.558Z"
   },
   {
    "duration": 47,
    "start_time": "2025-04-25T13:52:24.564Z"
   },
   {
    "duration": 8,
    "start_time": "2025-04-25T13:52:24.613Z"
   },
   {
    "duration": 185,
    "start_time": "2025-04-25T13:52:24.623Z"
   },
   {
    "duration": 995,
    "start_time": "2025-04-25T13:52:24.810Z"
   },
   {
    "duration": 46,
    "start_time": "2025-04-25T13:52:25.807Z"
   },
   {
    "duration": 3,
    "start_time": "2025-04-25T13:52:25.854Z"
   },
   {
    "duration": 18,
    "start_time": "2025-04-25T13:52:25.859Z"
   },
   {
    "duration": 23,
    "start_time": "2025-04-25T13:52:25.879Z"
   },
   {
    "duration": 214,
    "start_time": "2025-04-25T13:52:25.904Z"
   },
   {
    "duration": 14,
    "start_time": "2025-04-25T13:52:26.120Z"
   },
   {
    "duration": 100,
    "start_time": "2025-04-25T13:52:26.210Z"
   },
   {
    "duration": 902,
    "start_time": "2025-04-25T13:52:26.315Z"
   },
   {
    "duration": 3,
    "start_time": "2025-04-25T13:52:27.218Z"
   },
   {
    "duration": 7,
    "start_time": "2025-04-25T13:52:27.222Z"
   },
   {
    "duration": 13,
    "start_time": "2025-04-25T13:52:27.230Z"
   },
   {
    "duration": 1971,
    "start_time": "2025-04-25T13:52:27.245Z"
   },
   {
    "duration": 1502,
    "start_time": "2025-04-25T13:53:30.919Z"
   },
   {
    "duration": 77,
    "start_time": "2025-04-25T13:53:39.433Z"
   },
   {
    "duration": 5908,
    "start_time": "2025-04-25T13:54:00.172Z"
   },
   {
    "duration": 1763,
    "start_time": "2025-04-25T13:54:06.083Z"
   },
   {
    "duration": 522,
    "start_time": "2025-04-25T13:54:07.848Z"
   },
   {
    "duration": 3,
    "start_time": "2025-04-25T13:54:08.372Z"
   },
   {
    "duration": 103,
    "start_time": "2025-04-25T13:54:08.378Z"
   },
   {
    "duration": 66,
    "start_time": "2025-04-25T13:54:08.482Z"
   },
   {
    "duration": 72,
    "start_time": "2025-04-25T13:54:08.549Z"
   },
   {
    "duration": 21,
    "start_time": "2025-04-25T13:54:08.623Z"
   },
   {
    "duration": 60,
    "start_time": "2025-04-25T13:54:08.646Z"
   },
   {
    "duration": 32,
    "start_time": "2025-04-25T13:54:08.707Z"
   },
   {
    "duration": 33,
    "start_time": "2025-04-25T13:54:08.741Z"
   },
   {
    "duration": 32,
    "start_time": "2025-04-25T13:54:08.776Z"
   },
   {
    "duration": 924,
    "start_time": "2025-04-25T13:54:08.810Z"
   },
   {
    "duration": 897,
    "start_time": "2025-04-25T13:54:09.738Z"
   },
   {
    "duration": 800,
    "start_time": "2025-04-25T13:54:10.637Z"
   },
   {
    "duration": 827,
    "start_time": "2025-04-25T13:54:11.439Z"
   },
   {
    "duration": 3,
    "start_time": "2025-04-25T13:54:12.268Z"
   },
   {
    "duration": 954,
    "start_time": "2025-04-25T13:54:12.273Z"
   },
   {
    "duration": 5,
    "start_time": "2025-04-25T13:54:13.228Z"
   },
   {
    "duration": 6,
    "start_time": "2025-04-25T13:54:13.235Z"
   },
   {
    "duration": 9,
    "start_time": "2025-04-25T13:54:13.243Z"
   },
   {
    "duration": 21,
    "start_time": "2025-04-25T13:54:13.253Z"
   },
   {
    "duration": 50,
    "start_time": "2025-04-25T13:54:13.275Z"
   },
   {
    "duration": 4,
    "start_time": "2025-04-25T13:54:13.327Z"
   },
   {
    "duration": 48,
    "start_time": "2025-04-25T13:54:13.332Z"
   },
   {
    "duration": 32,
    "start_time": "2025-04-25T13:54:13.381Z"
   },
   {
    "duration": 192,
    "start_time": "2025-04-25T13:54:13.415Z"
   },
   {
    "duration": 1019,
    "start_time": "2025-04-25T13:54:13.610Z"
   },
   {
    "duration": 58,
    "start_time": "2025-04-25T13:54:14.631Z"
   },
   {
    "duration": 17,
    "start_time": "2025-04-25T13:54:14.691Z"
   },
   {
    "duration": 35,
    "start_time": "2025-04-25T13:54:14.710Z"
   },
   {
    "duration": 62,
    "start_time": "2025-04-25T13:54:14.747Z"
   },
   {
    "duration": 116,
    "start_time": "2025-04-25T13:54:14.813Z"
   },
   {
    "duration": 297,
    "start_time": "2025-04-25T13:54:14.932Z"
   },
   {
    "duration": 0,
    "start_time": "2025-04-25T13:54:15.231Z"
   },
   {
    "duration": 0,
    "start_time": "2025-04-25T13:54:15.233Z"
   },
   {
    "duration": 0,
    "start_time": "2025-04-25T13:54:15.234Z"
   },
   {
    "duration": 0,
    "start_time": "2025-04-25T13:54:15.235Z"
   },
   {
    "duration": 0,
    "start_time": "2025-04-25T13:54:15.237Z"
   },
   {
    "duration": 0,
    "start_time": "2025-04-25T13:54:15.238Z"
   },
   {
    "duration": 0,
    "start_time": "2025-04-25T13:54:15.240Z"
   },
   {
    "duration": 0,
    "start_time": "2025-04-25T13:54:15.242Z"
   },
   {
    "duration": 0,
    "start_time": "2025-04-25T13:54:15.243Z"
   },
   {
    "duration": 0,
    "start_time": "2025-04-25T13:54:15.245Z"
   },
   {
    "duration": 0,
    "start_time": "2025-04-25T13:54:15.246Z"
   },
   {
    "duration": 0,
    "start_time": "2025-04-25T13:54:15.247Z"
   },
   {
    "duration": 5,
    "start_time": "2025-04-25T13:55:29.772Z"
   },
   {
    "duration": 110,
    "start_time": "2025-04-25T13:55:34.798Z"
   },
   {
    "duration": 60,
    "start_time": "2025-04-25T13:55:37.447Z"
   },
   {
    "duration": 111,
    "start_time": "2025-04-25T13:55:39.097Z"
   },
   {
    "duration": 5,
    "start_time": "2025-04-25T13:58:18.369Z"
   },
   {
    "duration": 804,
    "start_time": "2025-04-25T13:58:19.706Z"
   },
   {
    "duration": 5,
    "start_time": "2025-04-25T14:00:26.875Z"
   },
   {
    "duration": 30,
    "start_time": "2025-04-25T14:00:27.306Z"
   },
   {
    "duration": 4,
    "start_time": "2025-04-25T14:00:27.496Z"
   },
   {
    "duration": 30,
    "start_time": "2025-04-25T14:00:27.628Z"
   },
   {
    "duration": 10,
    "start_time": "2025-04-25T14:00:27.794Z"
   },
   {
    "duration": 14,
    "start_time": "2025-04-25T14:00:28.211Z"
   },
   {
    "duration": 762,
    "start_time": "2025-04-25T14:00:28.969Z"
   },
   {
    "duration": 5302,
    "start_time": "2025-04-25T14:03:10.562Z"
   },
   {
    "duration": 1656,
    "start_time": "2025-04-25T14:03:15.866Z"
   },
   {
    "duration": 704,
    "start_time": "2025-04-25T14:03:17.524Z"
   },
   {
    "duration": 3,
    "start_time": "2025-04-25T14:03:18.230Z"
   },
   {
    "duration": 188,
    "start_time": "2025-04-25T14:03:18.235Z"
   },
   {
    "duration": 111,
    "start_time": "2025-04-25T14:03:18.425Z"
   },
   {
    "duration": 111,
    "start_time": "2025-04-25T14:03:18.538Z"
   },
   {
    "duration": 75,
    "start_time": "2025-04-25T14:03:18.650Z"
   },
   {
    "duration": 87,
    "start_time": "2025-04-25T14:03:18.726Z"
   },
   {
    "duration": 24,
    "start_time": "2025-04-25T14:03:18.815Z"
   },
   {
    "duration": 94,
    "start_time": "2025-04-25T14:03:18.841Z"
   },
   {
    "duration": 6,
    "start_time": "2025-04-25T14:03:18.937Z"
   },
   {
    "duration": 993,
    "start_time": "2025-04-25T14:03:18.945Z"
   },
   {
    "duration": 894,
    "start_time": "2025-04-25T14:03:19.942Z"
   },
   {
    "duration": 801,
    "start_time": "2025-04-25T14:03:20.837Z"
   },
   {
    "duration": 822,
    "start_time": "2025-04-25T14:03:21.640Z"
   },
   {
    "duration": 3,
    "start_time": "2025-04-25T14:03:22.463Z"
   },
   {
    "duration": 954,
    "start_time": "2025-04-25T14:03:22.467Z"
   },
   {
    "duration": 5,
    "start_time": "2025-04-25T14:03:23.423Z"
   },
   {
    "duration": 7,
    "start_time": "2025-04-25T14:03:23.430Z"
   },
   {
    "duration": 9,
    "start_time": "2025-04-25T14:03:23.439Z"
   },
   {
    "duration": 10,
    "start_time": "2025-04-25T14:03:23.449Z"
   },
   {
    "duration": 55,
    "start_time": "2025-04-25T14:03:23.461Z"
   },
   {
    "duration": 4,
    "start_time": "2025-04-25T14:03:23.518Z"
   },
   {
    "duration": 102,
    "start_time": "2025-04-25T14:03:23.524Z"
   },
   {
    "duration": 9,
    "start_time": "2025-04-25T14:03:23.628Z"
   },
   {
    "duration": 194,
    "start_time": "2025-04-25T14:03:23.639Z"
   },
   {
    "duration": 1071,
    "start_time": "2025-04-25T14:03:23.838Z"
   },
   {
    "duration": 61,
    "start_time": "2025-04-25T14:03:24.911Z"
   },
   {
    "duration": 6,
    "start_time": "2025-04-25T14:03:24.974Z"
   },
   {
    "duration": 52,
    "start_time": "2025-04-25T14:03:24.982Z"
   },
   {
    "duration": 9,
    "start_time": "2025-04-25T14:03:25.036Z"
   },
   {
    "duration": 109,
    "start_time": "2025-04-25T14:03:25.108Z"
   },
   {
    "duration": 909,
    "start_time": "2025-04-25T14:03:25.220Z"
   },
   {
    "duration": 47,
    "start_time": "2025-04-25T14:03:26.130Z"
   },
   {
    "duration": 4,
    "start_time": "2025-04-25T14:03:26.178Z"
   },
   {
    "duration": 22,
    "start_time": "2025-04-25T14:03:26.183Z"
   },
   {
    "duration": 11,
    "start_time": "2025-04-25T14:03:26.207Z"
   },
   {
    "duration": 56,
    "start_time": "2025-04-25T14:03:26.219Z"
   },
   {
    "duration": 8,
    "start_time": "2025-04-25T14:03:26.277Z"
   },
   {
    "duration": 109,
    "start_time": "2025-04-25T14:03:26.309Z"
   },
   {
    "duration": 897,
    "start_time": "2025-04-25T14:03:26.420Z"
   },
   {
    "duration": 3,
    "start_time": "2025-04-25T14:03:27.319Z"
   },
   {
    "duration": 19,
    "start_time": "2025-04-25T14:03:27.323Z"
   },
   {
    "duration": 6,
    "start_time": "2025-04-25T14:03:27.343Z"
   },
   {
    "duration": 2018,
    "start_time": "2025-04-25T14:03:27.351Z"
   },
   {
    "duration": 39080,
    "start_time": "2025-04-25T17:42:48.251Z"
   },
   {
    "duration": 1810,
    "start_time": "2025-04-25T17:43:27.334Z"
   },
   {
    "duration": 398,
    "start_time": "2025-04-25T17:43:29.146Z"
   },
   {
    "duration": 3,
    "start_time": "2025-04-25T17:43:29.546Z"
   },
   {
    "duration": 86,
    "start_time": "2025-04-25T17:43:29.551Z"
   },
   {
    "duration": 60,
    "start_time": "2025-04-25T17:43:29.639Z"
   },
   {
    "duration": 76,
    "start_time": "2025-04-25T17:43:29.700Z"
   },
   {
    "duration": 20,
    "start_time": "2025-04-25T17:43:29.777Z"
   },
   {
    "duration": 49,
    "start_time": "2025-04-25T17:43:29.799Z"
   },
   {
    "duration": 25,
    "start_time": "2025-04-25T17:43:29.849Z"
   },
   {
    "duration": 30,
    "start_time": "2025-04-25T17:43:29.875Z"
   },
   {
    "duration": 7,
    "start_time": "2025-04-25T17:43:29.907Z"
   },
   {
    "duration": 1012,
    "start_time": "2025-04-25T17:43:29.937Z"
   },
   {
    "duration": 813,
    "start_time": "2025-04-25T17:43:30.953Z"
   },
   {
    "duration": 776,
    "start_time": "2025-04-25T17:43:31.768Z"
   },
   {
    "duration": 735,
    "start_time": "2025-04-25T17:43:32.546Z"
   },
   {
    "duration": 2,
    "start_time": "2025-04-25T17:43:33.283Z"
   },
   {
    "duration": 976,
    "start_time": "2025-04-25T17:43:33.287Z"
   },
   {
    "duration": 5,
    "start_time": "2025-04-25T17:43:34.265Z"
   },
   {
    "duration": 12,
    "start_time": "2025-04-25T17:43:34.271Z"
   },
   {
    "duration": 11,
    "start_time": "2025-04-25T17:43:34.284Z"
   },
   {
    "duration": 11,
    "start_time": "2025-04-25T17:43:34.297Z"
   },
   {
    "duration": 145,
    "start_time": "2025-04-25T17:43:34.310Z"
   },
   {
    "duration": 4,
    "start_time": "2025-04-25T17:43:34.457Z"
   },
   {
    "duration": 144,
    "start_time": "2025-04-25T17:43:34.463Z"
   },
   {
    "duration": 34,
    "start_time": "2025-04-25T17:43:34.608Z"
   },
   {
    "duration": 110,
    "start_time": "2025-04-25T17:43:34.644Z"
   },
   {
    "duration": 872,
    "start_time": "2025-04-25T17:43:34.756Z"
   },
   {
    "duration": 42,
    "start_time": "2025-04-25T17:43:35.637Z"
   },
   {
    "duration": 27,
    "start_time": "2025-04-25T17:43:35.681Z"
   },
   {
    "duration": 26,
    "start_time": "2025-04-25T17:43:35.710Z"
   },
   {
    "duration": 11,
    "start_time": "2025-04-25T17:43:35.738Z"
   },
   {
    "duration": 198,
    "start_time": "2025-04-25T17:43:35.751Z"
   },
   {
    "duration": 968,
    "start_time": "2025-04-25T17:43:35.950Z"
   },
   {
    "duration": 57,
    "start_time": "2025-04-25T17:43:36.920Z"
   },
   {
    "duration": 15,
    "start_time": "2025-04-25T17:43:36.979Z"
   },
   {
    "duration": 37,
    "start_time": "2025-04-25T17:43:36.996Z"
   },
   {
    "duration": 12,
    "start_time": "2025-04-25T17:43:37.035Z"
   },
   {
    "duration": 190,
    "start_time": "2025-04-25T17:43:37.050Z"
   },
   {
    "duration": 877,
    "start_time": "2025-04-25T17:43:37.242Z"
   },
   {
    "duration": 4,
    "start_time": "2025-04-25T17:47:06.708Z"
   },
   {
    "duration": 7,
    "start_time": "2025-04-25T17:47:46.125Z"
   },
   {
    "duration": 5,
    "start_time": "2025-04-25T17:48:05.580Z"
   },
   {
    "duration": 15615,
    "start_time": "2025-04-28T15:33:47.654Z"
   },
   {
    "duration": 1814,
    "start_time": "2025-04-28T15:34:03.272Z"
   },
   {
    "duration": 410,
    "start_time": "2025-04-28T15:34:05.088Z"
   },
   {
    "duration": 3,
    "start_time": "2025-04-28T15:34:05.500Z"
   },
   {
    "duration": 52,
    "start_time": "2025-04-28T15:34:05.505Z"
   },
   {
    "duration": 83,
    "start_time": "2025-04-28T15:34:05.559Z"
   },
   {
    "duration": 94,
    "start_time": "2025-04-28T15:34:05.643Z"
   },
   {
    "duration": 55,
    "start_time": "2025-04-28T15:34:05.739Z"
   },
   {
    "duration": 26,
    "start_time": "2025-04-28T15:34:05.796Z"
   },
   {
    "duration": 84,
    "start_time": "2025-04-28T15:34:05.825Z"
   },
   {
    "duration": 73,
    "start_time": "2025-04-28T15:34:05.912Z"
   },
   {
    "duration": 43,
    "start_time": "2025-04-28T15:34:05.986Z"
   },
   {
    "duration": 12,
    "start_time": "2025-04-28T15:34:06.031Z"
   },
   {
    "duration": 1007,
    "start_time": "2025-04-28T15:34:06.048Z"
   },
   {
    "duration": 854,
    "start_time": "2025-04-28T15:34:07.057Z"
   },
   {
    "duration": 818,
    "start_time": "2025-04-28T15:34:07.912Z"
   },
   {
    "duration": 802,
    "start_time": "2025-04-28T15:34:08.733Z"
   },
   {
    "duration": 3,
    "start_time": "2025-04-28T15:34:09.537Z"
   },
   {
    "duration": 938,
    "start_time": "2025-04-28T15:34:09.541Z"
   },
   {
    "duration": 4,
    "start_time": "2025-04-28T15:34:10.481Z"
   },
   {
    "duration": 26,
    "start_time": "2025-04-28T15:34:10.487Z"
   },
   {
    "duration": 85,
    "start_time": "2025-04-28T15:34:10.515Z"
   },
   {
    "duration": 7,
    "start_time": "2025-04-28T15:34:10.602Z"
   },
   {
    "duration": 44,
    "start_time": "2025-04-28T15:34:10.611Z"
   },
   {
    "duration": 4,
    "start_time": "2025-04-28T15:34:10.656Z"
   },
   {
    "duration": 138,
    "start_time": "2025-04-28T15:34:10.662Z"
   },
   {
    "duration": 15,
    "start_time": "2025-04-28T15:34:10.802Z"
   },
   {
    "duration": 163,
    "start_time": "2025-04-28T15:34:10.819Z"
   },
   {
    "duration": 905,
    "start_time": "2025-04-28T15:34:10.989Z"
   },
   {
    "duration": 45,
    "start_time": "2025-04-28T15:34:11.896Z"
   },
   {
    "duration": 5,
    "start_time": "2025-04-28T15:34:11.942Z"
   },
   {
    "duration": 59,
    "start_time": "2025-04-28T15:34:11.949Z"
   },
   {
    "duration": 16,
    "start_time": "2025-04-28T15:34:12.011Z"
   },
   {
    "duration": 67,
    "start_time": "2025-04-28T15:34:12.030Z"
   },
   {
    "duration": 892,
    "start_time": "2025-04-28T15:34:12.178Z"
   },
   {
    "duration": 50,
    "start_time": "2025-04-28T15:34:13.077Z"
   },
   {
    "duration": 32,
    "start_time": "2025-04-28T15:34:13.129Z"
   },
   {
    "duration": 44,
    "start_time": "2025-04-28T15:34:13.163Z"
   },
   {
    "duration": 13,
    "start_time": "2025-04-28T15:34:13.209Z"
   },
   {
    "duration": 155,
    "start_time": "2025-04-28T15:34:13.225Z"
   },
   {
    "duration": 993,
    "start_time": "2025-04-28T15:34:13.385Z"
   },
   {
    "duration": 121,
    "start_time": "2025-04-28T15:34:14.380Z"
   },
   {
    "duration": 0,
    "start_time": "2025-04-28T15:34:14.502Z"
   },
   {
    "duration": 4,
    "start_time": "2025-04-28T15:34:50.046Z"
   },
   {
    "duration": 4,
    "start_time": "2025-04-28T15:35:22.497Z"
   },
   {
    "duration": 12,
    "start_time": "2025-04-28T15:39:42.080Z"
   },
   {
    "duration": 5183,
    "start_time": "2025-04-28T15:39:53.889Z"
   },
   {
    "duration": 5,
    "start_time": "2025-04-28T15:39:59.075Z"
   },
   {
    "duration": 457,
    "start_time": "2025-04-28T15:39:59.082Z"
   },
   {
    "duration": 3,
    "start_time": "2025-04-28T15:39:59.542Z"
   },
   {
    "duration": 32,
    "start_time": "2025-04-28T15:39:59.548Z"
   },
   {
    "duration": 63,
    "start_time": "2025-04-28T15:39:59.582Z"
   },
   {
    "duration": 83,
    "start_time": "2025-04-28T15:39:59.647Z"
   },
   {
    "duration": 69,
    "start_time": "2025-04-28T15:39:59.732Z"
   },
   {
    "duration": 18,
    "start_time": "2025-04-28T15:39:59.803Z"
   },
   {
    "duration": 51,
    "start_time": "2025-04-28T15:39:59.825Z"
   },
   {
    "duration": 23,
    "start_time": "2025-04-28T15:39:59.878Z"
   },
   {
    "duration": 29,
    "start_time": "2025-04-28T15:39:59.902Z"
   },
   {
    "duration": 7,
    "start_time": "2025-04-28T15:39:59.933Z"
   },
   {
    "duration": 863,
    "start_time": "2025-04-28T15:39:59.942Z"
   },
   {
    "duration": 924,
    "start_time": "2025-04-28T15:40:00.807Z"
   },
   {
    "duration": 795,
    "start_time": "2025-04-28T15:40:01.733Z"
   },
   {
    "duration": 817,
    "start_time": "2025-04-28T15:40:02.530Z"
   },
   {
    "duration": 13,
    "start_time": "2025-04-28T15:40:03.349Z"
   },
   {
    "duration": 1111,
    "start_time": "2025-04-28T15:40:03.376Z"
   },
   {
    "duration": 4,
    "start_time": "2025-04-28T15:40:04.489Z"
   },
   {
    "duration": 14,
    "start_time": "2025-04-28T15:40:04.495Z"
   },
   {
    "duration": 110,
    "start_time": "2025-04-28T15:40:04.511Z"
   },
   {
    "duration": 27,
    "start_time": "2025-04-28T15:40:04.623Z"
   },
   {
    "duration": 55,
    "start_time": "2025-04-28T15:40:04.652Z"
   },
   {
    "duration": 4,
    "start_time": "2025-04-28T15:40:04.709Z"
   },
   {
    "duration": 64,
    "start_time": "2025-04-28T15:40:04.715Z"
   },
   {
    "duration": 104,
    "start_time": "2025-04-28T15:40:04.782Z"
   },
   {
    "duration": 290,
    "start_time": "2025-04-28T15:40:04.891Z"
   },
   {
    "duration": 1057,
    "start_time": "2025-04-28T15:40:05.184Z"
   },
   {
    "duration": 59,
    "start_time": "2025-04-28T15:40:06.243Z"
   },
   {
    "duration": 27,
    "start_time": "2025-04-28T15:40:06.304Z"
   },
   {
    "duration": 61,
    "start_time": "2025-04-28T15:40:06.333Z"
   },
   {
    "duration": 12,
    "start_time": "2025-04-28T15:40:06.397Z"
   },
   {
    "duration": 183,
    "start_time": "2025-04-28T15:40:06.412Z"
   },
   {
    "duration": 1019,
    "start_time": "2025-04-28T15:40:06.599Z"
   },
   {
    "duration": 56,
    "start_time": "2025-04-28T15:40:07.620Z"
   },
   {
    "duration": 46,
    "start_time": "2025-04-28T15:40:07.678Z"
   },
   {
    "duration": 29,
    "start_time": "2025-04-28T15:40:07.726Z"
   },
   {
    "duration": 11,
    "start_time": "2025-04-28T15:40:07.757Z"
   },
   {
    "duration": 211,
    "start_time": "2025-04-28T15:40:07.777Z"
   },
   {
    "duration": 890,
    "start_time": "2025-04-28T15:40:07.991Z"
   },
   {
    "duration": 5,
    "start_time": "2025-04-28T15:40:08.883Z"
   },
   {
    "duration": 9,
    "start_time": "2025-04-28T15:40:08.890Z"
   },
   {
    "duration": 42,
    "start_time": "2025-04-28T15:40:08.901Z"
   },
   {
    "duration": 93,
    "start_time": "2025-04-28T15:51:45.681Z"
   },
   {
    "duration": 2388,
    "start_time": "2025-04-28T15:52:05.895Z"
   },
   {
    "duration": 2348,
    "start_time": "2025-04-28T15:53:14.444Z"
   },
   {
    "duration": 5174,
    "start_time": "2025-04-28T15:53:55.922Z"
   },
   {
    "duration": 5,
    "start_time": "2025-04-28T15:54:01.099Z"
   },
   {
    "duration": 476,
    "start_time": "2025-04-28T15:54:01.107Z"
   },
   {
    "duration": 4,
    "start_time": "2025-04-28T15:54:01.586Z"
   },
   {
    "duration": 60,
    "start_time": "2025-04-28T15:54:01.592Z"
   },
   {
    "duration": 162,
    "start_time": "2025-04-28T15:54:01.654Z"
   },
   {
    "duration": 71,
    "start_time": "2025-04-28T15:54:01.818Z"
   },
   {
    "duration": 54,
    "start_time": "2025-04-28T15:54:01.891Z"
   },
   {
    "duration": 53,
    "start_time": "2025-04-28T15:54:01.947Z"
   },
   {
    "duration": 59,
    "start_time": "2025-04-28T15:54:02.004Z"
   },
   {
    "duration": 66,
    "start_time": "2025-04-28T15:54:02.064Z"
   },
   {
    "duration": 79,
    "start_time": "2025-04-28T15:54:02.132Z"
   },
   {
    "duration": 59,
    "start_time": "2025-04-28T15:54:02.213Z"
   },
   {
    "duration": 919,
    "start_time": "2025-04-28T15:54:02.273Z"
   },
   {
    "duration": 732,
    "start_time": "2025-04-28T15:54:03.194Z"
   },
   {
    "duration": 880,
    "start_time": "2025-04-28T15:54:03.928Z"
   },
   {
    "duration": 813,
    "start_time": "2025-04-28T15:54:04.810Z"
   },
   {
    "duration": 15,
    "start_time": "2025-04-28T15:54:05.624Z"
   },
   {
    "duration": 1060,
    "start_time": "2025-04-28T15:54:05.641Z"
   },
   {
    "duration": 6,
    "start_time": "2025-04-28T15:54:06.704Z"
   },
   {
    "duration": 31,
    "start_time": "2025-04-28T15:54:06.712Z"
   },
   {
    "duration": 23,
    "start_time": "2025-04-28T15:54:06.745Z"
   },
   {
    "duration": 8,
    "start_time": "2025-04-28T15:54:06.771Z"
   },
   {
    "duration": 61,
    "start_time": "2025-04-28T15:54:06.782Z"
   },
   {
    "duration": 4,
    "start_time": "2025-04-28T15:54:06.845Z"
   },
   {
    "duration": 55,
    "start_time": "2025-04-28T15:54:06.851Z"
   },
   {
    "duration": 78,
    "start_time": "2025-04-28T15:54:06.909Z"
   },
   {
    "duration": 183,
    "start_time": "2025-04-28T15:54:06.995Z"
   },
   {
    "duration": 818,
    "start_time": "2025-04-28T15:54:07.180Z"
   },
   {
    "duration": 45,
    "start_time": "2025-04-28T15:54:08.000Z"
   },
   {
    "duration": 4,
    "start_time": "2025-04-28T15:54:08.046Z"
   },
   {
    "duration": 47,
    "start_time": "2025-04-28T15:54:08.052Z"
   },
   {
    "duration": 11,
    "start_time": "2025-04-28T15:54:08.100Z"
   },
   {
    "duration": 177,
    "start_time": "2025-04-28T15:54:08.113Z"
   },
   {
    "duration": 1069,
    "start_time": "2025-04-28T15:54:08.293Z"
   },
   {
    "duration": 72,
    "start_time": "2025-04-28T15:54:09.364Z"
   },
   {
    "duration": 150,
    "start_time": "2025-04-28T15:54:09.438Z"
   },
   {
    "duration": 52,
    "start_time": "2025-04-28T15:54:09.590Z"
   },
   {
    "duration": 134,
    "start_time": "2025-04-28T15:54:09.643Z"
   },
   {
    "duration": 14,
    "start_time": "2025-04-28T15:54:09.779Z"
   },
   {
    "duration": 867,
    "start_time": "2025-04-28T15:54:09.796Z"
   },
   {
    "duration": 12,
    "start_time": "2025-04-28T15:54:10.664Z"
   },
   {
    "duration": 20,
    "start_time": "2025-04-28T15:54:10.678Z"
   },
   {
    "duration": 2417,
    "start_time": "2025-04-28T15:54:10.700Z"
   },
   {
    "duration": 4,
    "start_time": "2025-04-28T15:58:32.539Z"
   },
   {
    "duration": 2569,
    "start_time": "2025-04-28T15:58:33.834Z"
   },
   {
    "duration": 3,
    "start_time": "2025-04-28T15:58:50.504Z"
   },
   {
    "duration": 8,
    "start_time": "2025-04-28T16:02:14.483Z"
   },
   {
    "duration": 7,
    "start_time": "2025-04-28T16:03:15.706Z"
   },
   {
    "duration": 7,
    "start_time": "2025-04-28T16:03:33.913Z"
   },
   {
    "duration": 8,
    "start_time": "2025-04-28T16:03:42.257Z"
   },
   {
    "duration": 11,
    "start_time": "2025-04-28T16:05:01.979Z"
   },
   {
    "duration": 8,
    "start_time": "2025-04-28T16:05:14.014Z"
   },
   {
    "duration": 7,
    "start_time": "2025-04-28T16:05:14.496Z"
   },
   {
    "duration": 8,
    "start_time": "2025-04-28T16:05:15.429Z"
   },
   {
    "duration": 7,
    "start_time": "2025-04-28T16:05:16.172Z"
   },
   {
    "duration": 10,
    "start_time": "2025-04-28T16:05:16.935Z"
   },
   {
    "duration": 7,
    "start_time": "2025-04-28T16:05:17.692Z"
   },
   {
    "duration": 8,
    "start_time": "2025-04-28T16:05:18.443Z"
   },
   {
    "duration": 7,
    "start_time": "2025-04-28T16:05:19.192Z"
   },
   {
    "duration": 7,
    "start_time": "2025-04-28T16:05:19.904Z"
   },
   {
    "duration": 7,
    "start_time": "2025-04-28T16:05:20.729Z"
   },
   {
    "duration": 7,
    "start_time": "2025-04-28T16:05:21.667Z"
   },
   {
    "duration": 6,
    "start_time": "2025-04-28T16:05:22.411Z"
   },
   {
    "duration": 7,
    "start_time": "2025-04-28T16:05:23.181Z"
   },
   {
    "duration": 7,
    "start_time": "2025-04-28T16:05:24.202Z"
   },
   {
    "duration": 8,
    "start_time": "2025-04-28T16:05:25.571Z"
   },
   {
    "duration": 9,
    "start_time": "2025-04-28T16:05:26.636Z"
   },
   {
    "duration": 9,
    "start_time": "2025-04-28T16:05:27.600Z"
   },
   {
    "duration": 9,
    "start_time": "2025-04-28T16:05:30.511Z"
   },
   {
    "duration": 9,
    "start_time": "2025-04-28T16:05:30.685Z"
   },
   {
    "duration": 10,
    "start_time": "2025-04-28T16:05:30.845Z"
   },
   {
    "duration": 10,
    "start_time": "2025-04-28T16:05:33.391Z"
   },
   {
    "duration": 9,
    "start_time": "2025-04-28T16:05:33.549Z"
   },
   {
    "duration": 10,
    "start_time": "2025-04-28T16:05:33.733Z"
   },
   {
    "duration": 9,
    "start_time": "2025-04-28T16:05:36.403Z"
   },
   {
    "duration": 9,
    "start_time": "2025-04-28T16:05:36.577Z"
   },
   {
    "duration": 9,
    "start_time": "2025-04-28T16:05:36.726Z"
   },
   {
    "duration": 10,
    "start_time": "2025-04-28T16:05:38.676Z"
   },
   {
    "duration": 9,
    "start_time": "2025-04-28T16:05:38.843Z"
   },
   {
    "duration": 9,
    "start_time": "2025-04-28T16:05:38.976Z"
   },
   {
    "duration": 9,
    "start_time": "2025-04-28T16:05:41.343Z"
   },
   {
    "duration": 9,
    "start_time": "2025-04-28T16:05:41.622Z"
   },
   {
    "duration": 9,
    "start_time": "2025-04-28T16:05:41.803Z"
   },
   {
    "duration": 9,
    "start_time": "2025-04-28T16:05:43.886Z"
   },
   {
    "duration": 7,
    "start_time": "2025-04-28T16:05:44.030Z"
   },
   {
    "duration": 7,
    "start_time": "2025-04-28T16:05:44.159Z"
   },
   {
    "duration": 10,
    "start_time": "2025-04-28T16:05:46.853Z"
   },
   {
    "duration": 8,
    "start_time": "2025-04-28T16:05:47.015Z"
   },
   {
    "duration": 7,
    "start_time": "2025-04-28T16:05:47.138Z"
   },
   {
    "duration": 7,
    "start_time": "2025-04-28T16:05:49.362Z"
   },
   {
    "duration": 7,
    "start_time": "2025-04-28T16:05:49.510Z"
   },
   {
    "duration": 7,
    "start_time": "2025-04-28T16:05:50.493Z"
   },
   {
    "duration": 7,
    "start_time": "2025-04-28T16:05:52.865Z"
   },
   {
    "duration": 8,
    "start_time": "2025-04-28T16:05:53.022Z"
   },
   {
    "duration": 7,
    "start_time": "2025-04-28T16:05:53.160Z"
   },
   {
    "duration": 7,
    "start_time": "2025-04-28T16:05:54.884Z"
   },
   {
    "duration": 8,
    "start_time": "2025-04-28T16:05:55.080Z"
   },
   {
    "duration": 7,
    "start_time": "2025-04-28T16:05:55.213Z"
   },
   {
    "duration": 10,
    "start_time": "2025-04-28T16:06:32.923Z"
   },
   {
    "duration": 10,
    "start_time": "2025-04-28T16:06:33.126Z"
   },
   {
    "duration": 8,
    "start_time": "2025-04-28T16:06:33.333Z"
   },
   {
    "duration": 8,
    "start_time": "2025-04-28T16:06:34.761Z"
   },
   {
    "duration": 7,
    "start_time": "2025-04-28T16:06:34.929Z"
   },
   {
    "duration": 7,
    "start_time": "2025-04-28T16:06:35.108Z"
   },
   {
    "duration": 7,
    "start_time": "2025-04-28T16:06:36.170Z"
   },
   {
    "duration": 7,
    "start_time": "2025-04-28T16:06:36.319Z"
   },
   {
    "duration": 8,
    "start_time": "2025-04-28T16:06:36.790Z"
   },
   {
    "duration": 8,
    "start_time": "2025-04-28T16:06:37.985Z"
   },
   {
    "duration": 7,
    "start_time": "2025-04-28T16:06:38.127Z"
   },
   {
    "duration": 8,
    "start_time": "2025-04-28T16:06:38.282Z"
   },
   {
    "duration": 10,
    "start_time": "2025-04-28T16:06:40.110Z"
   },
   {
    "duration": 8,
    "start_time": "2025-04-28T16:06:40.271Z"
   },
   {
    "duration": 9,
    "start_time": "2025-04-28T16:06:40.424Z"
   },
   {
    "duration": 9,
    "start_time": "2025-04-28T16:06:42.328Z"
   },
   {
    "duration": 8,
    "start_time": "2025-04-28T16:06:42.493Z"
   },
   {
    "duration": 9,
    "start_time": "2025-04-28T16:06:42.685Z"
   },
   {
    "duration": 9,
    "start_time": "2025-04-28T16:06:43.981Z"
   },
   {
    "duration": 9,
    "start_time": "2025-04-28T16:06:44.154Z"
   },
   {
    "duration": 9,
    "start_time": "2025-04-28T16:06:44.324Z"
   },
   {
    "duration": 9,
    "start_time": "2025-04-28T16:06:46.349Z"
   },
   {
    "duration": 9,
    "start_time": "2025-04-28T16:06:46.474Z"
   },
   {
    "duration": 8,
    "start_time": "2025-04-28T16:06:46.621Z"
   },
   {
    "duration": 8,
    "start_time": "2025-04-28T16:06:47.805Z"
   },
   {
    "duration": 7,
    "start_time": "2025-04-28T16:06:47.967Z"
   },
   {
    "duration": 8,
    "start_time": "2025-04-28T16:06:48.120Z"
   },
   {
    "duration": 8,
    "start_time": "2025-04-28T16:06:57.328Z"
   },
   {
    "duration": 10,
    "start_time": "2025-04-28T16:06:57.495Z"
   },
   {
    "duration": 9,
    "start_time": "2025-04-28T16:06:57.629Z"
   },
   {
    "duration": 10,
    "start_time": "2025-04-28T16:07:00.438Z"
   },
   {
    "duration": 8,
    "start_time": "2025-04-28T16:07:00.578Z"
   },
   {
    "duration": 9,
    "start_time": "2025-04-28T16:07:00.724Z"
   },
   {
    "duration": 7,
    "start_time": "2025-04-28T16:07:02.177Z"
   },
   {
    "duration": 10,
    "start_time": "2025-04-28T16:07:02.326Z"
   },
   {
    "duration": 9,
    "start_time": "2025-04-28T16:07:02.709Z"
   },
   {
    "duration": 9,
    "start_time": "2025-04-28T16:07:03.966Z"
   },
   {
    "duration": 9,
    "start_time": "2025-04-28T16:07:04.121Z"
   },
   {
    "duration": 10,
    "start_time": "2025-04-28T16:07:04.245Z"
   },
   {
    "duration": 2327,
    "start_time": "2025-04-28T16:07:04.378Z"
   },
   {
    "duration": 9,
    "start_time": "2025-04-28T16:07:37.676Z"
   },
   {
    "duration": 7,
    "start_time": "2025-04-28T16:07:37.859Z"
   },
   {
    "duration": 8,
    "start_time": "2025-04-28T16:07:38.030Z"
   },
   {
    "duration": 10,
    "start_time": "2025-04-28T16:07:39.607Z"
   },
   {
    "duration": 9,
    "start_time": "2025-04-28T16:07:39.753Z"
   },
   {
    "duration": 9,
    "start_time": "2025-04-28T16:07:39.927Z"
   },
   {
    "duration": 9,
    "start_time": "2025-04-28T16:07:41.232Z"
   },
   {
    "duration": 9,
    "start_time": "2025-04-28T16:07:41.374Z"
   },
   {
    "duration": 9,
    "start_time": "2025-04-28T16:07:41.530Z"
   },
   {
    "duration": 9,
    "start_time": "2025-04-28T16:07:42.963Z"
   },
   {
    "duration": 7,
    "start_time": "2025-04-28T16:07:43.104Z"
   },
   {
    "duration": 7,
    "start_time": "2025-04-28T16:07:43.259Z"
   },
   {
    "duration": 8,
    "start_time": "2025-04-28T16:07:44.999Z"
   },
   {
    "duration": 8,
    "start_time": "2025-04-28T16:07:45.100Z"
   },
   {
    "duration": 7,
    "start_time": "2025-04-28T16:07:45.251Z"
   },
   {
    "duration": 8,
    "start_time": "2025-04-28T16:07:46.795Z"
   },
   {
    "duration": 7,
    "start_time": "2025-04-28T16:07:46.945Z"
   },
   {
    "duration": 7,
    "start_time": "2025-04-28T16:07:47.090Z"
   },
   {
    "duration": 7,
    "start_time": "2025-04-28T16:07:48.313Z"
   },
   {
    "duration": 7,
    "start_time": "2025-04-28T16:07:48.452Z"
   },
   {
    "duration": 7,
    "start_time": "2025-04-28T16:07:48.613Z"
   },
   {
    "duration": 8,
    "start_time": "2025-04-28T16:07:50.298Z"
   },
   {
    "duration": 8,
    "start_time": "2025-04-28T16:07:50.473Z"
   },
   {
    "duration": 7,
    "start_time": "2025-04-28T16:07:50.631Z"
   },
   {
    "duration": 6,
    "start_time": "2025-04-28T16:08:31.502Z"
   },
   {
    "duration": 25,
    "start_time": "2025-04-28T16:08:31.638Z"
   },
   {
    "duration": 5,
    "start_time": "2025-04-28T16:08:33.605Z"
   },
   {
    "duration": 6,
    "start_time": "2025-04-28T16:08:34.218Z"
   },
   {
    "duration": 8,
    "start_time": "2025-04-28T16:08:34.866Z"
   },
   {
    "duration": 6,
    "start_time": "2025-04-28T16:08:35.460Z"
   },
   {
    "duration": 6,
    "start_time": "2025-04-28T16:08:36.024Z"
   },
   {
    "duration": 8,
    "start_time": "2025-04-28T16:08:36.541Z"
   },
   {
    "duration": 6,
    "start_time": "2025-04-28T16:08:37.137Z"
   },
   {
    "duration": 6,
    "start_time": "2025-04-28T16:08:37.682Z"
   },
   {
    "duration": 6,
    "start_time": "2025-04-28T16:08:38.274Z"
   },
   {
    "duration": 5,
    "start_time": "2025-04-28T16:08:38.881Z"
   },
   {
    "duration": 6,
    "start_time": "2025-04-28T16:08:39.428Z"
   },
   {
    "duration": 6,
    "start_time": "2025-04-28T16:08:40.037Z"
   },
   {
    "duration": 6,
    "start_time": "2025-04-28T16:08:40.624Z"
   },
   {
    "duration": 3,
    "start_time": "2025-04-28T16:08:50.249Z"
   },
   {
    "duration": 6,
    "start_time": "2025-04-28T16:08:55.058Z"
   },
   {
    "duration": 4,
    "start_time": "2025-04-28T16:09:00.471Z"
   },
   {
    "duration": 2314,
    "start_time": "2025-04-28T16:16:47.692Z"
   },
   {
    "duration": 2214,
    "start_time": "2025-04-28T16:16:57.718Z"
   },
   {
    "duration": 2293,
    "start_time": "2025-04-28T16:17:22.627Z"
   },
   {
    "duration": 2363,
    "start_time": "2025-04-28T16:17:30.631Z"
   },
   {
    "duration": 86,
    "start_time": "2025-04-28T16:17:39.853Z"
   },
   {
    "duration": 2286,
    "start_time": "2025-04-28T16:17:48.477Z"
   },
   {
    "duration": 2181,
    "start_time": "2025-04-28T16:19:22.112Z"
   },
   {
    "duration": 7,
    "start_time": "2025-04-28T16:19:31.576Z"
   },
   {
    "duration": 7,
    "start_time": "2025-04-28T16:19:33.195Z"
   },
   {
    "duration": 8,
    "start_time": "2025-04-28T16:19:34.578Z"
   },
   {
    "duration": 8,
    "start_time": "2025-04-28T16:19:35.919Z"
   },
   {
    "duration": 8,
    "start_time": "2025-04-28T16:19:37.351Z"
   },
   {
    "duration": 7,
    "start_time": "2025-04-28T16:19:38.711Z"
   },
   {
    "duration": 7,
    "start_time": "2025-04-28T16:19:40.737Z"
   },
   {
    "duration": 11,
    "start_time": "2025-04-28T16:19:42.001Z"
   },
   {
    "duration": 7,
    "start_time": "2025-04-28T16:19:43.312Z"
   },
   {
    "duration": 7,
    "start_time": "2025-04-28T16:19:44.806Z"
   },
   {
    "duration": 7,
    "start_time": "2025-04-28T16:19:46.124Z"
   },
   {
    "duration": 7,
    "start_time": "2025-04-28T16:19:47.392Z"
   },
   {
    "duration": 7,
    "start_time": "2025-04-28T16:19:48.723Z"
   },
   {
    "duration": 1119,
    "start_time": "2025-04-28T16:23:17.038Z"
   },
   {
    "duration": 1107,
    "start_time": "2025-04-28T16:23:22.369Z"
   },
   {
    "duration": 1180,
    "start_time": "2025-04-28T16:23:25.679Z"
   },
   {
    "duration": 1144,
    "start_time": "2025-04-28T16:23:29.190Z"
   },
   {
    "duration": 1128,
    "start_time": "2025-04-28T16:23:39.805Z"
   },
   {
    "duration": 2283,
    "start_time": "2025-04-28T16:23:41.658Z"
   },
   {
    "duration": 1072,
    "start_time": "2025-04-28T16:24:43.500Z"
   },
   {
    "duration": 3410,
    "start_time": "2025-04-28T16:25:13.897Z"
   },
   {
    "duration": 3478,
    "start_time": "2025-04-28T16:25:29.213Z"
   },
   {
    "duration": 3393,
    "start_time": "2025-04-28T16:26:22.475Z"
   },
   {
    "duration": 97,
    "start_time": "2025-04-28T16:28:59.360Z"
   },
   {
    "duration": 1191,
    "start_time": "2025-04-28T16:29:05.986Z"
   },
   {
    "duration": 1129,
    "start_time": "2025-04-28T16:29:18.111Z"
   },
   {
    "duration": 1171,
    "start_time": "2025-04-28T16:29:28.073Z"
   },
   {
    "duration": 3428,
    "start_time": "2025-04-28T16:31:31.497Z"
   },
   {
    "duration": 3361,
    "start_time": "2025-04-28T16:31:42.753Z"
   },
   {
    "duration": 3425,
    "start_time": "2025-04-28T16:38:34.678Z"
   },
   {
    "duration": 3458,
    "start_time": "2025-04-28T16:38:58.566Z"
   },
   {
    "duration": 3493,
    "start_time": "2025-04-28T16:39:41.791Z"
   },
   {
    "duration": 3513,
    "start_time": "2025-04-28T16:39:59.489Z"
   },
   {
    "duration": 6,
    "start_time": "2025-04-28T16:44:10.677Z"
   },
   {
    "duration": 5,
    "start_time": "2025-04-28T16:44:20.712Z"
   },
   {
    "duration": 3339,
    "start_time": "2025-04-28T16:45:12.020Z"
   },
   {
    "duration": 3419,
    "start_time": "2025-04-28T16:45:29.759Z"
   },
   {
    "duration": 3458,
    "start_time": "2025-04-28T16:45:36.400Z"
   },
   {
    "duration": 3478,
    "start_time": "2025-04-28T16:45:40.955Z"
   },
   {
    "duration": 102,
    "start_time": "2025-04-28T16:56:19.768Z"
   },
   {
    "duration": 4977,
    "start_time": "2025-04-28T18:01:29.652Z"
   },
   {
    "duration": 1573,
    "start_time": "2025-04-28T18:01:34.632Z"
   },
   {
    "duration": 415,
    "start_time": "2025-04-28T18:01:36.207Z"
   },
   {
    "duration": 3,
    "start_time": "2025-04-28T18:01:36.624Z"
   },
   {
    "duration": 24,
    "start_time": "2025-04-28T18:01:36.628Z"
   },
   {
    "duration": 113,
    "start_time": "2025-04-28T18:01:36.654Z"
   },
   {
    "duration": 57,
    "start_time": "2025-04-28T18:01:36.769Z"
   },
   {
    "duration": 77,
    "start_time": "2025-04-28T18:01:36.827Z"
   },
   {
    "duration": 60,
    "start_time": "2025-04-28T18:01:36.905Z"
   },
   {
    "duration": 70,
    "start_time": "2025-04-28T18:01:36.968Z"
   },
   {
    "duration": 24,
    "start_time": "2025-04-28T18:01:37.040Z"
   },
   {
    "duration": 30,
    "start_time": "2025-04-28T18:01:37.066Z"
   },
   {
    "duration": 65,
    "start_time": "2025-04-28T18:01:37.097Z"
   },
   {
    "duration": 842,
    "start_time": "2025-04-28T18:01:37.163Z"
   },
   {
    "duration": 898,
    "start_time": "2025-04-28T18:01:38.007Z"
   },
   {
    "duration": 802,
    "start_time": "2025-04-28T18:01:38.906Z"
   },
   {
    "duration": 829,
    "start_time": "2025-04-28T18:01:39.710Z"
   },
   {
    "duration": 2,
    "start_time": "2025-04-28T18:01:40.541Z"
   },
   {
    "duration": 947,
    "start_time": "2025-04-28T18:01:40.545Z"
   },
   {
    "duration": 4,
    "start_time": "2025-04-28T18:01:41.494Z"
   },
   {
    "duration": 27,
    "start_time": "2025-04-28T18:01:41.500Z"
   },
   {
    "duration": 16,
    "start_time": "2025-04-28T18:01:41.528Z"
   },
   {
    "duration": 13,
    "start_time": "2025-04-28T18:01:41.545Z"
   },
   {
    "duration": 48,
    "start_time": "2025-04-28T18:01:41.559Z"
   },
   {
    "duration": 4,
    "start_time": "2025-04-28T18:01:41.608Z"
   },
   {
    "duration": 47,
    "start_time": "2025-04-28T18:01:41.614Z"
   },
   {
    "duration": 17,
    "start_time": "2025-04-28T18:01:41.662Z"
   },
   {
    "duration": 197,
    "start_time": "2025-04-28T18:01:41.685Z"
   },
   {
    "duration": 979,
    "start_time": "2025-04-28T18:01:41.884Z"
   },
   {
    "duration": 51,
    "start_time": "2025-04-28T18:01:42.865Z"
   },
   {
    "duration": 19,
    "start_time": "2025-04-28T18:01:42.918Z"
   },
   {
    "duration": 29,
    "start_time": "2025-04-28T18:01:42.939Z"
   },
   {
    "duration": 12,
    "start_time": "2025-04-28T18:01:42.970Z"
   },
   {
    "duration": 194,
    "start_time": "2025-04-28T18:01:42.985Z"
   },
   {
    "duration": 969,
    "start_time": "2025-04-28T18:01:43.181Z"
   },
   {
    "duration": 55,
    "start_time": "2025-04-28T18:01:44.152Z"
   },
   {
    "duration": 4,
    "start_time": "2025-04-28T18:01:44.209Z"
   },
   {
    "duration": 114,
    "start_time": "2025-04-28T18:01:44.215Z"
   },
   {
    "duration": 46,
    "start_time": "2025-04-28T18:01:44.331Z"
   },
   {
    "duration": 105,
    "start_time": "2025-04-28T18:01:44.379Z"
   },
   {
    "duration": 793,
    "start_time": "2025-04-28T18:01:44.487Z"
   },
   {
    "duration": 4,
    "start_time": "2025-04-28T18:01:45.281Z"
   },
   {
    "duration": 31,
    "start_time": "2025-04-28T18:01:45.286Z"
   },
   {
    "duration": 3398,
    "start_time": "2025-04-28T18:01:45.319Z"
   }
  ],
  "kernelspec": {
   "display_name": "Python 3 (ipykernel)",
   "language": "python",
   "name": "python3"
  },
  "language_info": {
   "codemirror_mode": {
    "name": "ipython",
    "version": 3
   },
   "file_extension": ".py",
   "mimetype": "text/x-python",
   "name": "python",
   "nbconvert_exporter": "python",
   "pygments_lexer": "ipython3",
   "version": "3.12.7"
  },
  "toc": {
   "base_numbering": 1,
   "nav_menu": {},
   "number_sections": true,
   "sideBar": true,
   "skip_h1_title": true,
   "title_cell": "Table of Contents",
   "title_sidebar": "Contents",
   "toc_cell": false,
   "toc_position": {
    "height": "calc(100% - 180px)",
    "left": "10px",
    "top": "150px",
    "width": "270.766px"
   },
   "toc_section_display": true,
   "toc_window_display": true
  }
 },
 "nbformat": 4,
 "nbformat_minor": 4
}
