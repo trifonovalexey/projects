{
 "cells": [
  {
   "cell_type": "markdown",
   "metadata": {},
   "source": [
    "# Определение стоимости автомобилей"
   ]
  },
  {
   "cell_type": "markdown",
   "metadata": {},
   "source": [
    "Сервис по продаже автомобилей с пробегом «Не бит, не крашен» разрабатывает приложение для привлечения новых клиентов. В нём можно быстро узнать рыночную стоимость своего автомобиля. В вашем распоряжении исторические данные: технические характеристики, комплектации и цены автомобилей. Вам нужно построить модель для определения стоимости. \n",
    "\n",
    "Заказчику важны:\n",
    "\n",
    "- качество предсказания;\n",
    "- скорость предсказания;\n",
    "- время обучения."
   ]
  },
  {
   "cell_type": "markdown",
   "metadata": {},
   "source": [
    "## Подготовка и загрузка данных"
   ]
  },
  {
   "cell_type": "markdown",
   "metadata": {},
   "source": [
    "Загрузим необходимые библиотеки"
   ]
  },
  {
   "cell_type": "code",
   "execution_count": 1,
   "metadata": {},
   "outputs": [],
   "source": [
    "!pip install scikit-learn==1.1.3 -q\n",
    "!pip install matplotlib==3.5.2 -q\n",
    "!pip install optuna -q\n",
    "!pip install lightgbm -q"
   ]
  },
  {
   "cell_type": "markdown",
   "metadata": {},
   "source": [
    "Импортируем библиотеки"
   ]
  },
  {
   "cell_type": "code",
   "execution_count": 2,
   "metadata": {},
   "outputs": [],
   "source": [
    "import pandas as pd\n",
    "import numpy as np\n",
    "import matplotlib.pyplot as plt\n",
    "import seaborn as sns\n",
    "import math\n",
    "import scipy.stats\n",
    "import optuna\n",
    "import lightgbm as lgb\n",
    "from sklearn.metrics import mean_squared_error\n",
    "from sklearn.preprocessing import StandardScaler, OneHotEncoder\n",
    "from sklearn.model_selection import train_test_split\n",
    "from sklearn.tree import DecisionTreeRegressor\n",
    "from sklearn.pipeline import Pipeline\n",
    "from sklearn.compose import ColumnTransformer\n",
    "from sklearn.inspection import permutation_importance\n",
    "from lightgbm import early_stopping\n",
    "\n",
    "\n",
    "import warnings\n",
    "warnings.filterwarnings(\"ignore\")"
   ]
  },
  {
   "cell_type": "markdown",
   "metadata": {},
   "source": [
    "### Загрузка данных"
   ]
  },
  {
   "cell_type": "code",
   "execution_count": 3,
   "metadata": {},
   "outputs": [],
   "source": [
    "try:\n",
    "    auto = pd.read_csv('/datasets/autos.csv')\n",
    "except:\n",
    "    auto = pd.read_csv('F:\\\\Учеба яндекс\\\\projects\\\\10_NBNC\\\\autos.csv')"
   ]
  },
  {
   "cell_type": "markdown",
   "metadata": {},
   "source": [
    "### Подготовка данных"
   ]
  },
  {
   "cell_type": "code",
   "execution_count": 4,
   "metadata": {},
   "outputs": [],
   "source": [
    "def first_look(df):\n",
    "    df.info()\n",
    "    return display(df.describe(),df.head(10))"
   ]
  },
  {
   "cell_type": "markdown",
   "metadata": {},
   "source": [
    "Выполним первоначальный осмотр данных"
   ]
  },
  {
   "cell_type": "code",
   "execution_count": 5,
   "metadata": {},
   "outputs": [
    {
     "name": "stdout",
     "output_type": "stream",
     "text": [
      "<class 'pandas.core.frame.DataFrame'>\n",
      "RangeIndex: 354369 entries, 0 to 354368\n",
      "Data columns (total 16 columns):\n",
      " #   Column             Non-Null Count   Dtype \n",
      "---  ------             --------------   ----- \n",
      " 0   DateCrawled        354369 non-null  object\n",
      " 1   Price              354369 non-null  int64 \n",
      " 2   VehicleType        316879 non-null  object\n",
      " 3   RegistrationYear   354369 non-null  int64 \n",
      " 4   Gearbox            334536 non-null  object\n",
      " 5   Power              354369 non-null  int64 \n",
      " 6   Model              334664 non-null  object\n",
      " 7   Kilometer          354369 non-null  int64 \n",
      " 8   RegistrationMonth  354369 non-null  int64 \n",
      " 9   FuelType           321474 non-null  object\n",
      " 10  Brand              354369 non-null  object\n",
      " 11  Repaired           283215 non-null  object\n",
      " 12  DateCreated        354369 non-null  object\n",
      " 13  NumberOfPictures   354369 non-null  int64 \n",
      " 14  PostalCode         354369 non-null  int64 \n",
      " 15  LastSeen           354369 non-null  object\n",
      "dtypes: int64(7), object(9)\n",
      "memory usage: 43.3+ MB\n"
     ]
    },
    {
     "data": {
      "text/html": [
       "<div>\n",
       "<style scoped>\n",
       "    .dataframe tbody tr th:only-of-type {\n",
       "        vertical-align: middle;\n",
       "    }\n",
       "\n",
       "    .dataframe tbody tr th {\n",
       "        vertical-align: top;\n",
       "    }\n",
       "\n",
       "    .dataframe thead th {\n",
       "        text-align: right;\n",
       "    }\n",
       "</style>\n",
       "<table border=\"1\" class=\"dataframe\">\n",
       "  <thead>\n",
       "    <tr style=\"text-align: right;\">\n",
       "      <th></th>\n",
       "      <th>Price</th>\n",
       "      <th>RegistrationYear</th>\n",
       "      <th>Power</th>\n",
       "      <th>Kilometer</th>\n",
       "      <th>RegistrationMonth</th>\n",
       "      <th>NumberOfPictures</th>\n",
       "      <th>PostalCode</th>\n",
       "    </tr>\n",
       "  </thead>\n",
       "  <tbody>\n",
       "    <tr>\n",
       "      <th>count</th>\n",
       "      <td>354369.000000</td>\n",
       "      <td>354369.000000</td>\n",
       "      <td>354369.000000</td>\n",
       "      <td>354369.000000</td>\n",
       "      <td>354369.000000</td>\n",
       "      <td>354369.0</td>\n",
       "      <td>354369.000000</td>\n",
       "    </tr>\n",
       "    <tr>\n",
       "      <th>mean</th>\n",
       "      <td>4416.656776</td>\n",
       "      <td>2004.234448</td>\n",
       "      <td>110.094337</td>\n",
       "      <td>128211.172535</td>\n",
       "      <td>5.714645</td>\n",
       "      <td>0.0</td>\n",
       "      <td>50508.689087</td>\n",
       "    </tr>\n",
       "    <tr>\n",
       "      <th>std</th>\n",
       "      <td>4514.158514</td>\n",
       "      <td>90.227958</td>\n",
       "      <td>189.850405</td>\n",
       "      <td>37905.341530</td>\n",
       "      <td>3.726421</td>\n",
       "      <td>0.0</td>\n",
       "      <td>25783.096248</td>\n",
       "    </tr>\n",
       "    <tr>\n",
       "      <th>min</th>\n",
       "      <td>0.000000</td>\n",
       "      <td>1000.000000</td>\n",
       "      <td>0.000000</td>\n",
       "      <td>5000.000000</td>\n",
       "      <td>0.000000</td>\n",
       "      <td>0.0</td>\n",
       "      <td>1067.000000</td>\n",
       "    </tr>\n",
       "    <tr>\n",
       "      <th>25%</th>\n",
       "      <td>1050.000000</td>\n",
       "      <td>1999.000000</td>\n",
       "      <td>69.000000</td>\n",
       "      <td>125000.000000</td>\n",
       "      <td>3.000000</td>\n",
       "      <td>0.0</td>\n",
       "      <td>30165.000000</td>\n",
       "    </tr>\n",
       "    <tr>\n",
       "      <th>50%</th>\n",
       "      <td>2700.000000</td>\n",
       "      <td>2003.000000</td>\n",
       "      <td>105.000000</td>\n",
       "      <td>150000.000000</td>\n",
       "      <td>6.000000</td>\n",
       "      <td>0.0</td>\n",
       "      <td>49413.000000</td>\n",
       "    </tr>\n",
       "    <tr>\n",
       "      <th>75%</th>\n",
       "      <td>6400.000000</td>\n",
       "      <td>2008.000000</td>\n",
       "      <td>143.000000</td>\n",
       "      <td>150000.000000</td>\n",
       "      <td>9.000000</td>\n",
       "      <td>0.0</td>\n",
       "      <td>71083.000000</td>\n",
       "    </tr>\n",
       "    <tr>\n",
       "      <th>max</th>\n",
       "      <td>20000.000000</td>\n",
       "      <td>9999.000000</td>\n",
       "      <td>20000.000000</td>\n",
       "      <td>150000.000000</td>\n",
       "      <td>12.000000</td>\n",
       "      <td>0.0</td>\n",
       "      <td>99998.000000</td>\n",
       "    </tr>\n",
       "  </tbody>\n",
       "</table>\n",
       "</div>"
      ],
      "text/plain": [
       "               Price  RegistrationYear          Power      Kilometer  \\\n",
       "count  354369.000000     354369.000000  354369.000000  354369.000000   \n",
       "mean     4416.656776       2004.234448     110.094337  128211.172535   \n",
       "std      4514.158514         90.227958     189.850405   37905.341530   \n",
       "min         0.000000       1000.000000       0.000000    5000.000000   \n",
       "25%      1050.000000       1999.000000      69.000000  125000.000000   \n",
       "50%      2700.000000       2003.000000     105.000000  150000.000000   \n",
       "75%      6400.000000       2008.000000     143.000000  150000.000000   \n",
       "max     20000.000000       9999.000000   20000.000000  150000.000000   \n",
       "\n",
       "       RegistrationMonth  NumberOfPictures     PostalCode  \n",
       "count      354369.000000          354369.0  354369.000000  \n",
       "mean            5.714645               0.0   50508.689087  \n",
       "std             3.726421               0.0   25783.096248  \n",
       "min             0.000000               0.0    1067.000000  \n",
       "25%             3.000000               0.0   30165.000000  \n",
       "50%             6.000000               0.0   49413.000000  \n",
       "75%             9.000000               0.0   71083.000000  \n",
       "max            12.000000               0.0   99998.000000  "
      ]
     },
     "metadata": {},
     "output_type": "display_data"
    },
    {
     "data": {
      "text/html": [
       "<div>\n",
       "<style scoped>\n",
       "    .dataframe tbody tr th:only-of-type {\n",
       "        vertical-align: middle;\n",
       "    }\n",
       "\n",
       "    .dataframe tbody tr th {\n",
       "        vertical-align: top;\n",
       "    }\n",
       "\n",
       "    .dataframe thead th {\n",
       "        text-align: right;\n",
       "    }\n",
       "</style>\n",
       "<table border=\"1\" class=\"dataframe\">\n",
       "  <thead>\n",
       "    <tr style=\"text-align: right;\">\n",
       "      <th></th>\n",
       "      <th>DateCrawled</th>\n",
       "      <th>Price</th>\n",
       "      <th>VehicleType</th>\n",
       "      <th>RegistrationYear</th>\n",
       "      <th>Gearbox</th>\n",
       "      <th>Power</th>\n",
       "      <th>Model</th>\n",
       "      <th>Kilometer</th>\n",
       "      <th>RegistrationMonth</th>\n",
       "      <th>FuelType</th>\n",
       "      <th>Brand</th>\n",
       "      <th>Repaired</th>\n",
       "      <th>DateCreated</th>\n",
       "      <th>NumberOfPictures</th>\n",
       "      <th>PostalCode</th>\n",
       "      <th>LastSeen</th>\n",
       "    </tr>\n",
       "  </thead>\n",
       "  <tbody>\n",
       "    <tr>\n",
       "      <th>0</th>\n",
       "      <td>2016-03-24 11:52:17</td>\n",
       "      <td>480</td>\n",
       "      <td>NaN</td>\n",
       "      <td>1993</td>\n",
       "      <td>manual</td>\n",
       "      <td>0</td>\n",
       "      <td>golf</td>\n",
       "      <td>150000</td>\n",
       "      <td>0</td>\n",
       "      <td>petrol</td>\n",
       "      <td>volkswagen</td>\n",
       "      <td>NaN</td>\n",
       "      <td>2016-03-24 00:00:00</td>\n",
       "      <td>0</td>\n",
       "      <td>70435</td>\n",
       "      <td>2016-04-07 03:16:57</td>\n",
       "    </tr>\n",
       "    <tr>\n",
       "      <th>1</th>\n",
       "      <td>2016-03-24 10:58:45</td>\n",
       "      <td>18300</td>\n",
       "      <td>coupe</td>\n",
       "      <td>2011</td>\n",
       "      <td>manual</td>\n",
       "      <td>190</td>\n",
       "      <td>NaN</td>\n",
       "      <td>125000</td>\n",
       "      <td>5</td>\n",
       "      <td>gasoline</td>\n",
       "      <td>audi</td>\n",
       "      <td>yes</td>\n",
       "      <td>2016-03-24 00:00:00</td>\n",
       "      <td>0</td>\n",
       "      <td>66954</td>\n",
       "      <td>2016-04-07 01:46:50</td>\n",
       "    </tr>\n",
       "    <tr>\n",
       "      <th>2</th>\n",
       "      <td>2016-03-14 12:52:21</td>\n",
       "      <td>9800</td>\n",
       "      <td>suv</td>\n",
       "      <td>2004</td>\n",
       "      <td>auto</td>\n",
       "      <td>163</td>\n",
       "      <td>grand</td>\n",
       "      <td>125000</td>\n",
       "      <td>8</td>\n",
       "      <td>gasoline</td>\n",
       "      <td>jeep</td>\n",
       "      <td>NaN</td>\n",
       "      <td>2016-03-14 00:00:00</td>\n",
       "      <td>0</td>\n",
       "      <td>90480</td>\n",
       "      <td>2016-04-05 12:47:46</td>\n",
       "    </tr>\n",
       "    <tr>\n",
       "      <th>3</th>\n",
       "      <td>2016-03-17 16:54:04</td>\n",
       "      <td>1500</td>\n",
       "      <td>small</td>\n",
       "      <td>2001</td>\n",
       "      <td>manual</td>\n",
       "      <td>75</td>\n",
       "      <td>golf</td>\n",
       "      <td>150000</td>\n",
       "      <td>6</td>\n",
       "      <td>petrol</td>\n",
       "      <td>volkswagen</td>\n",
       "      <td>no</td>\n",
       "      <td>2016-03-17 00:00:00</td>\n",
       "      <td>0</td>\n",
       "      <td>91074</td>\n",
       "      <td>2016-03-17 17:40:17</td>\n",
       "    </tr>\n",
       "    <tr>\n",
       "      <th>4</th>\n",
       "      <td>2016-03-31 17:25:20</td>\n",
       "      <td>3600</td>\n",
       "      <td>small</td>\n",
       "      <td>2008</td>\n",
       "      <td>manual</td>\n",
       "      <td>69</td>\n",
       "      <td>fabia</td>\n",
       "      <td>90000</td>\n",
       "      <td>7</td>\n",
       "      <td>gasoline</td>\n",
       "      <td>skoda</td>\n",
       "      <td>no</td>\n",
       "      <td>2016-03-31 00:00:00</td>\n",
       "      <td>0</td>\n",
       "      <td>60437</td>\n",
       "      <td>2016-04-06 10:17:21</td>\n",
       "    </tr>\n",
       "    <tr>\n",
       "      <th>5</th>\n",
       "      <td>2016-04-04 17:36:23</td>\n",
       "      <td>650</td>\n",
       "      <td>sedan</td>\n",
       "      <td>1995</td>\n",
       "      <td>manual</td>\n",
       "      <td>102</td>\n",
       "      <td>3er</td>\n",
       "      <td>150000</td>\n",
       "      <td>10</td>\n",
       "      <td>petrol</td>\n",
       "      <td>bmw</td>\n",
       "      <td>yes</td>\n",
       "      <td>2016-04-04 00:00:00</td>\n",
       "      <td>0</td>\n",
       "      <td>33775</td>\n",
       "      <td>2016-04-06 19:17:07</td>\n",
       "    </tr>\n",
       "    <tr>\n",
       "      <th>6</th>\n",
       "      <td>2016-04-01 20:48:51</td>\n",
       "      <td>2200</td>\n",
       "      <td>convertible</td>\n",
       "      <td>2004</td>\n",
       "      <td>manual</td>\n",
       "      <td>109</td>\n",
       "      <td>2_reihe</td>\n",
       "      <td>150000</td>\n",
       "      <td>8</td>\n",
       "      <td>petrol</td>\n",
       "      <td>peugeot</td>\n",
       "      <td>no</td>\n",
       "      <td>2016-04-01 00:00:00</td>\n",
       "      <td>0</td>\n",
       "      <td>67112</td>\n",
       "      <td>2016-04-05 18:18:39</td>\n",
       "    </tr>\n",
       "    <tr>\n",
       "      <th>7</th>\n",
       "      <td>2016-03-21 18:54:38</td>\n",
       "      <td>0</td>\n",
       "      <td>sedan</td>\n",
       "      <td>1980</td>\n",
       "      <td>manual</td>\n",
       "      <td>50</td>\n",
       "      <td>other</td>\n",
       "      <td>40000</td>\n",
       "      <td>7</td>\n",
       "      <td>petrol</td>\n",
       "      <td>volkswagen</td>\n",
       "      <td>no</td>\n",
       "      <td>2016-03-21 00:00:00</td>\n",
       "      <td>0</td>\n",
       "      <td>19348</td>\n",
       "      <td>2016-03-25 16:47:58</td>\n",
       "    </tr>\n",
       "    <tr>\n",
       "      <th>8</th>\n",
       "      <td>2016-04-04 23:42:13</td>\n",
       "      <td>14500</td>\n",
       "      <td>bus</td>\n",
       "      <td>2014</td>\n",
       "      <td>manual</td>\n",
       "      <td>125</td>\n",
       "      <td>c_max</td>\n",
       "      <td>30000</td>\n",
       "      <td>8</td>\n",
       "      <td>petrol</td>\n",
       "      <td>ford</td>\n",
       "      <td>NaN</td>\n",
       "      <td>2016-04-04 00:00:00</td>\n",
       "      <td>0</td>\n",
       "      <td>94505</td>\n",
       "      <td>2016-04-04 23:42:13</td>\n",
       "    </tr>\n",
       "    <tr>\n",
       "      <th>9</th>\n",
       "      <td>2016-03-17 10:53:50</td>\n",
       "      <td>999</td>\n",
       "      <td>small</td>\n",
       "      <td>1998</td>\n",
       "      <td>manual</td>\n",
       "      <td>101</td>\n",
       "      <td>golf</td>\n",
       "      <td>150000</td>\n",
       "      <td>0</td>\n",
       "      <td>NaN</td>\n",
       "      <td>volkswagen</td>\n",
       "      <td>NaN</td>\n",
       "      <td>2016-03-17 00:00:00</td>\n",
       "      <td>0</td>\n",
       "      <td>27472</td>\n",
       "      <td>2016-03-31 17:17:06</td>\n",
       "    </tr>\n",
       "  </tbody>\n",
       "</table>\n",
       "</div>"
      ],
      "text/plain": [
       "           DateCrawled  Price  VehicleType  RegistrationYear Gearbox  Power  \\\n",
       "0  2016-03-24 11:52:17    480          NaN              1993  manual      0   \n",
       "1  2016-03-24 10:58:45  18300        coupe              2011  manual    190   \n",
       "2  2016-03-14 12:52:21   9800          suv              2004    auto    163   \n",
       "3  2016-03-17 16:54:04   1500        small              2001  manual     75   \n",
       "4  2016-03-31 17:25:20   3600        small              2008  manual     69   \n",
       "5  2016-04-04 17:36:23    650        sedan              1995  manual    102   \n",
       "6  2016-04-01 20:48:51   2200  convertible              2004  manual    109   \n",
       "7  2016-03-21 18:54:38      0        sedan              1980  manual     50   \n",
       "8  2016-04-04 23:42:13  14500          bus              2014  manual    125   \n",
       "9  2016-03-17 10:53:50    999        small              1998  manual    101   \n",
       "\n",
       "     Model  Kilometer  RegistrationMonth  FuelType       Brand Repaired  \\\n",
       "0     golf     150000                  0    petrol  volkswagen      NaN   \n",
       "1      NaN     125000                  5  gasoline        audi      yes   \n",
       "2    grand     125000                  8  gasoline        jeep      NaN   \n",
       "3     golf     150000                  6    petrol  volkswagen       no   \n",
       "4    fabia      90000                  7  gasoline       skoda       no   \n",
       "5      3er     150000                 10    petrol         bmw      yes   \n",
       "6  2_reihe     150000                  8    petrol     peugeot       no   \n",
       "7    other      40000                  7    petrol  volkswagen       no   \n",
       "8    c_max      30000                  8    petrol        ford      NaN   \n",
       "9     golf     150000                  0       NaN  volkswagen      NaN   \n",
       "\n",
       "           DateCreated  NumberOfPictures  PostalCode             LastSeen  \n",
       "0  2016-03-24 00:00:00                 0       70435  2016-04-07 03:16:57  \n",
       "1  2016-03-24 00:00:00                 0       66954  2016-04-07 01:46:50  \n",
       "2  2016-03-14 00:00:00                 0       90480  2016-04-05 12:47:46  \n",
       "3  2016-03-17 00:00:00                 0       91074  2016-03-17 17:40:17  \n",
       "4  2016-03-31 00:00:00                 0       60437  2016-04-06 10:17:21  \n",
       "5  2016-04-04 00:00:00                 0       33775  2016-04-06 19:17:07  \n",
       "6  2016-04-01 00:00:00                 0       67112  2016-04-05 18:18:39  \n",
       "7  2016-03-21 00:00:00                 0       19348  2016-03-25 16:47:58  \n",
       "8  2016-04-04 00:00:00                 0       94505  2016-04-04 23:42:13  \n",
       "9  2016-03-17 00:00:00                 0       27472  2016-03-31 17:17:06  "
      ]
     },
     "metadata": {},
     "output_type": "display_data"
    }
   ],
   "source": [
    "first_look(auto)"
   ]
  },
  {
   "cell_type": "markdown",
   "metadata": {},
   "source": [
    "Заметно, что в данных присутствуют пропуски, требуется изменение формата столбцов с указанием даты и времени, в столбце с числом фотографий авто в объявлении заполнен нулями, что говорит о неккоректной работе кода, загружающего данную информацию в таблицу, в остальном, данные логичны, требуется проведение дальнейшего анализа."
   ]
  },
  {
   "cell_type": "markdown",
   "metadata": {},
   "source": [
    "#### Приведение к нужному формату"
   ]
  },
  {
   "cell_type": "markdown",
   "metadata": {},
   "source": [
    "Переименование столбцов"
   ]
  },
  {
   "cell_type": "code",
   "execution_count": 6,
   "metadata": {},
   "outputs": [],
   "source": [
    "auto.columns = auto.columns.str.lower()"
   ]
  },
  {
   "cell_type": "code",
   "execution_count": 7,
   "metadata": {},
   "outputs": [],
   "source": [
    "auto.rename(columns = {'datecrawled':'date_crawled', 'vehicletype':'vehicle_type','registrationyear':'registration_year',\\\n",
    "            'registrationmonth':'registration_month','fueltype':'fuel_type','datecreated':'date_created',\\\n",
    "            'numberofpictures':'number_of_pictures','postalcode':'postal_code','lastseen':'last_seen'}, inplace = True)"
   ]
  },
  {
   "cell_type": "markdown",
   "metadata": {},
   "source": [
    "Установление формата для столбцов, содержащих информацию о дате"
   ]
  },
  {
   "cell_type": "code",
   "execution_count": 8,
   "metadata": {},
   "outputs": [],
   "source": [
    "auto['date_crawled'] = pd.to_datetime(auto['date_crawled'], format = '%Y-%m-%d %H:%M:%S')\n",
    "auto['date_created'] = pd.to_datetime(auto['date_created'], format = '%Y-%m-%d %H:%M:%S')\n",
    "auto['last_seen'] = pd.to_datetime(auto['last_seen'], format = '%Y-%m-%d %H:%M:%S')"
   ]
  },
  {
   "cell_type": "markdown",
   "metadata": {},
   "source": [
    "Приведение к нижнему регистру значений в столбцах со строковыми данными"
   ]
  },
  {
   "cell_type": "code",
   "execution_count": 9,
   "metadata": {},
   "outputs": [],
   "source": [
    "columns_list = ['vehicle_type','gearbox','model','fuel_type','brand','repaired']\n",
    "\n",
    "for _column in columns_list:\n",
    "    auto[_column] = auto[_column].str.lower()"
   ]
  },
  {
   "cell_type": "markdown",
   "metadata": {},
   "source": [
    "#### Удаление нерепрезентативных данных"
   ]
  },
  {
   "cell_type": "markdown",
   "metadata": {},
   "source": [
    "Данные о времени и дате скачивания анкеты из базы, почтовый индекс владельца анкеты не дадут никакой нужной информации, которая могла бы помочь решить поставленную задачу. Данные о количестве фотографий авто в анкете отсутствуют. Исключим эти столбцы из дальнейшего анализа."
   ]
  },
  {
   "cell_type": "markdown",
   "metadata": {},
   "source": [
    "Так же имеет смысл заменить столбец с информацией о последней активности на столбец, содержащий информацию о времени активности с момента создания анкеты, так как из предварительного анализа видно, что эти даты располагаются недалеко друг от друга."
   ]
  },
  {
   "cell_type": "code",
   "execution_count": 10,
   "metadata": {},
   "outputs": [],
   "source": [
    "auto['activ_time'] = auto['last_seen'] - auto['date_created']"
   ]
  },
  {
   "cell_type": "raw",
   "metadata": {},
   "source": [
    "auto = auto.drop(['number_of_pictures','postal_code', 'date_crawled','last_seen'], axis = 1)"
   ]
  },
  {
   "cell_type": "markdown",
   "metadata": {},
   "source": [
    "Необходимо сообщить в службу поддержки о неработоспособности действующего механизма выгрузки информации о количестве фото в объявлении."
   ]
  },
  {
   "cell_type": "markdown",
   "metadata": {},
   "source": [
    "#### Пропущенные значения"
   ]
  },
  {
   "cell_type": "markdown",
   "metadata": {},
   "source": [
    "Посмотрим количество пропущенных значений в столбцах"
   ]
  },
  {
   "cell_type": "code",
   "execution_count": 11,
   "metadata": {},
   "outputs": [
    {
     "data": {
      "text/plain": [
       "date_crawled              0\n",
       "price                     0\n",
       "vehicle_type          37490\n",
       "registration_year         0\n",
       "gearbox               19833\n",
       "power                     0\n",
       "model                 19705\n",
       "kilometer                 0\n",
       "registration_month        0\n",
       "fuel_type             32895\n",
       "brand                     0\n",
       "repaired              71154\n",
       "date_created              0\n",
       "number_of_pictures        0\n",
       "postal_code               0\n",
       "last_seen                 0\n",
       "activ_time                0\n",
       "dtype: int64"
      ]
     },
     "execution_count": 11,
     "metadata": {},
     "output_type": "execute_result"
    }
   ],
   "source": [
    "auto.isna().sum()"
   ]
  },
  {
   "cell_type": "markdown",
   "metadata": {},
   "source": [
    "**Тип кузова автомобиля**"
   ]
  },
  {
   "cell_type": "markdown",
   "metadata": {},
   "source": [
    "Пропуски не могут быть восстановлены ввиду того, что у пары бренд, модель может быть не один тип кузова в ассортименте.\n",
    "\n",
    "Заполним пропуски в данных строкой other"
   ]
  },
  {
   "cell_type": "code",
   "execution_count": 12,
   "metadata": {},
   "outputs": [],
   "source": [
    "auto['vehicle_type'].fillna('other', inplace = True)"
   ]
  },
  {
   "cell_type": "markdown",
   "metadata": {},
   "source": [
    "**Коробка передач**"
   ]
  },
  {
   "cell_type": "code",
   "execution_count": 13,
   "metadata": {},
   "outputs": [
    {
     "data": {
      "image/png": "[encoded data removed]",
      "text/plain": [
       "<Figure size 648x504 with 1 Axes>"
      ]
     },
     "metadata": {},
     "output_type": "display_data"
    }
   ],
   "source": [
    "auto['gearbox'].value_counts().plot(kind = 'pie', autopct = '%1.1f%%', figsize = (9, 7))\n",
    "plt.title('Круговая диаграмма коробок передач', size = 15)\n",
    "plt.show()"
   ]
  },
  {
   "cell_type": "markdown",
   "metadata": {},
   "source": [
    "Наиболее вероятной можно считать установку в автомобиль ручной коробки передач\n",
    "Заполним пропуски строкой manual"
   ]
  },
  {
   "cell_type": "code",
   "execution_count": 14,
   "metadata": {},
   "outputs": [],
   "source": [
    "auto['gearbox'].fillna('manual', inplace = True)"
   ]
  },
  {
   "cell_type": "markdown",
   "metadata": {},
   "source": [
    "**Марка авто**\n",
    "\n",
    "Пропуски не могут быть восстановлены по той же причине, что и у типа кузова."
   ]
  },
  {
   "cell_type": "code",
   "execution_count": 15,
   "metadata": {},
   "outputs": [],
   "source": [
    "auto['model'].fillna('other', inplace = True)"
   ]
  },
  {
   "cell_type": "markdown",
   "metadata": {},
   "source": [
    "**Тип топлива**"
   ]
  },
  {
   "cell_type": "code",
   "execution_count": 16,
   "metadata": {},
   "outputs": [
    {
     "data": {
      "text/plain": [
       "petrol      216352\n",
       "gasoline     98720\n",
       "lpg           5310\n",
       "cng            565\n",
       "hybrid         233\n",
       "other          204\n",
       "electric        90\n",
       "Name: fuel_type, dtype: int64"
      ]
     },
     "execution_count": 16,
     "metadata": {},
     "output_type": "execute_result"
    }
   ],
   "source": [
    "auto['fuel_type'].value_counts()"
   ]
  },
  {
   "cell_type": "markdown",
   "metadata": {},
   "source": [
    "Заменим американское обозначение бензина на английское"
   ]
  },
  {
   "cell_type": "code",
   "execution_count": 17,
   "metadata": {},
   "outputs": [],
   "source": [
    "auto['fuel_type'].replace({'gasoline':'petrol'}, inplace = True)"
   ]
  },
  {
   "cell_type": "markdown",
   "metadata": {},
   "source": [
    "Наиболее вероятной можно считать установку в автомобиль двигателя внутреннего сгорания на жидком топливе\n",
    "Заполним пропуски строкой petrol"
   ]
  },
  {
   "cell_type": "code",
   "execution_count": 18,
   "metadata": {},
   "outputs": [],
   "source": [
    "auto['fuel_type'].fillna('petrol', inplace = True)"
   ]
  },
  {
   "cell_type": "markdown",
   "metadata": {},
   "source": [
    "**Наличие ремонтов**"
   ]
  },
  {
   "cell_type": "markdown",
   "metadata": {},
   "source": [
    "Вероятнее всего пропущенное значение означает отсутствие информации о наличии таковых. В дополнение, заменим строковые значения на 1 и 0, наличие и отсутсвие ремонтов соответственно."
   ]
  },
  {
   "cell_type": "code",
   "execution_count": 19,
   "metadata": {},
   "outputs": [],
   "source": [
    "auto['repaired'] = pd.to_numeric(auto['repaired'].map({'yes':1,'no':0}).fillna(0))"
   ]
  },
  {
   "cell_type": "markdown",
   "metadata": {},
   "source": [
    "#### Дубликаты"
   ]
  },
  {
   "cell_type": "code",
   "execution_count": 20,
   "metadata": {},
   "outputs": [
    {
     "data": {
      "text/plain": [
       "5"
      ]
     },
     "execution_count": 20,
     "metadata": {},
     "output_type": "execute_result"
    }
   ],
   "source": [
    "auto.duplicated().sum()"
   ]
  },
  {
   "cell_type": "code",
   "execution_count": 21,
   "metadata": {},
   "outputs": [
    {
     "data": {
      "text/html": [
       "<div>\n",
       "<style scoped>\n",
       "    .dataframe tbody tr th:only-of-type {\n",
       "        vertical-align: middle;\n",
       "    }\n",
       "\n",
       "    .dataframe tbody tr th {\n",
       "        vertical-align: top;\n",
       "    }\n",
       "\n",
       "    .dataframe thead th {\n",
       "        text-align: right;\n",
       "    }\n",
       "</style>\n",
       "<table border=\"1\" class=\"dataframe\">\n",
       "  <thead>\n",
       "    <tr style=\"text-align: right;\">\n",
       "      <th></th>\n",
       "      <th>date_crawled</th>\n",
       "      <th>price</th>\n",
       "      <th>vehicle_type</th>\n",
       "      <th>registration_year</th>\n",
       "      <th>gearbox</th>\n",
       "      <th>power</th>\n",
       "      <th>model</th>\n",
       "      <th>kilometer</th>\n",
       "      <th>registration_month</th>\n",
       "      <th>fuel_type</th>\n",
       "      <th>brand</th>\n",
       "      <th>repaired</th>\n",
       "      <th>date_created</th>\n",
       "      <th>number_of_pictures</th>\n",
       "      <th>postal_code</th>\n",
       "      <th>last_seen</th>\n",
       "      <th>activ_time</th>\n",
       "    </tr>\n",
       "  </thead>\n",
       "  <tbody>\n",
       "    <tr>\n",
       "      <th>41529</th>\n",
       "      <td>2016-03-18 18:46:15</td>\n",
       "      <td>1999</td>\n",
       "      <td>wagon</td>\n",
       "      <td>2001</td>\n",
       "      <td>manual</td>\n",
       "      <td>131</td>\n",
       "      <td>passat</td>\n",
       "      <td>150000</td>\n",
       "      <td>7</td>\n",
       "      <td>petrol</td>\n",
       "      <td>volkswagen</td>\n",
       "      <td>0.0</td>\n",
       "      <td>2016-03-18</td>\n",
       "      <td>0</td>\n",
       "      <td>36391</td>\n",
       "      <td>2016-03-18 18:46:15</td>\n",
       "      <td>0 days 18:46:15</td>\n",
       "    </tr>\n",
       "    <tr>\n",
       "      <th>88087</th>\n",
       "      <td>2016-03-08 18:42:48</td>\n",
       "      <td>1799</td>\n",
       "      <td>coupe</td>\n",
       "      <td>1999</td>\n",
       "      <td>auto</td>\n",
       "      <td>193</td>\n",
       "      <td>clk</td>\n",
       "      <td>20000</td>\n",
       "      <td>7</td>\n",
       "      <td>petrol</td>\n",
       "      <td>mercedes_benz</td>\n",
       "      <td>0.0</td>\n",
       "      <td>2016-03-08</td>\n",
       "      <td>0</td>\n",
       "      <td>89518</td>\n",
       "      <td>2016-03-09 09:46:57</td>\n",
       "      <td>1 days 09:46:57</td>\n",
       "    </tr>\n",
       "    <tr>\n",
       "      <th>90964</th>\n",
       "      <td>2016-03-28 00:56:10</td>\n",
       "      <td>1000</td>\n",
       "      <td>small</td>\n",
       "      <td>2002</td>\n",
       "      <td>manual</td>\n",
       "      <td>83</td>\n",
       "      <td>other</td>\n",
       "      <td>150000</td>\n",
       "      <td>1</td>\n",
       "      <td>petrol</td>\n",
       "      <td>suzuki</td>\n",
       "      <td>0.0</td>\n",
       "      <td>2016-03-28</td>\n",
       "      <td>0</td>\n",
       "      <td>66589</td>\n",
       "      <td>2016-03-28 08:46:21</td>\n",
       "      <td>0 days 08:46:21</td>\n",
       "    </tr>\n",
       "    <tr>\n",
       "      <th>171088</th>\n",
       "      <td>2016-03-08 18:42:48</td>\n",
       "      <td>1799</td>\n",
       "      <td>coupe</td>\n",
       "      <td>1999</td>\n",
       "      <td>auto</td>\n",
       "      <td>193</td>\n",
       "      <td>clk</td>\n",
       "      <td>20000</td>\n",
       "      <td>7</td>\n",
       "      <td>petrol</td>\n",
       "      <td>mercedes_benz</td>\n",
       "      <td>0.0</td>\n",
       "      <td>2016-03-08</td>\n",
       "      <td>0</td>\n",
       "      <td>89518</td>\n",
       "      <td>2016-03-09 09:46:57</td>\n",
       "      <td>1 days 09:46:57</td>\n",
       "    </tr>\n",
       "    <tr>\n",
       "      <th>187735</th>\n",
       "      <td>2016-04-03 09:01:15</td>\n",
       "      <td>4699</td>\n",
       "      <td>coupe</td>\n",
       "      <td>2003</td>\n",
       "      <td>auto</td>\n",
       "      <td>218</td>\n",
       "      <td>clk</td>\n",
       "      <td>125000</td>\n",
       "      <td>6</td>\n",
       "      <td>petrol</td>\n",
       "      <td>mercedes_benz</td>\n",
       "      <td>1.0</td>\n",
       "      <td>2016-04-03</td>\n",
       "      <td>0</td>\n",
       "      <td>75196</td>\n",
       "      <td>2016-04-07 09:44:54</td>\n",
       "      <td>4 days 09:44:54</td>\n",
       "    </tr>\n",
       "    <tr>\n",
       "      <th>189060</th>\n",
       "      <td>2016-04-04 22:50:44</td>\n",
       "      <td>13000</td>\n",
       "      <td>sedan</td>\n",
       "      <td>2008</td>\n",
       "      <td>manual</td>\n",
       "      <td>143</td>\n",
       "      <td>a4</td>\n",
       "      <td>125000</td>\n",
       "      <td>9</td>\n",
       "      <td>petrol</td>\n",
       "      <td>audi</td>\n",
       "      <td>0.0</td>\n",
       "      <td>2016-04-04</td>\n",
       "      <td>0</td>\n",
       "      <td>65428</td>\n",
       "      <td>2016-04-05 12:30:14</td>\n",
       "      <td>1 days 12:30:14</td>\n",
       "    </tr>\n",
       "    <tr>\n",
       "      <th>194008</th>\n",
       "      <td>2016-04-04 22:50:44</td>\n",
       "      <td>13000</td>\n",
       "      <td>sedan</td>\n",
       "      <td>2008</td>\n",
       "      <td>manual</td>\n",
       "      <td>143</td>\n",
       "      <td>a4</td>\n",
       "      <td>125000</td>\n",
       "      <td>9</td>\n",
       "      <td>petrol</td>\n",
       "      <td>audi</td>\n",
       "      <td>0.0</td>\n",
       "      <td>2016-04-04</td>\n",
       "      <td>0</td>\n",
       "      <td>65428</td>\n",
       "      <td>2016-04-05 12:30:14</td>\n",
       "      <td>1 days 12:30:14</td>\n",
       "    </tr>\n",
       "    <tr>\n",
       "      <th>231258</th>\n",
       "      <td>2016-03-28 00:56:10</td>\n",
       "      <td>1000</td>\n",
       "      <td>small</td>\n",
       "      <td>2002</td>\n",
       "      <td>manual</td>\n",
       "      <td>83</td>\n",
       "      <td>other</td>\n",
       "      <td>150000</td>\n",
       "      <td>1</td>\n",
       "      <td>petrol</td>\n",
       "      <td>suzuki</td>\n",
       "      <td>0.0</td>\n",
       "      <td>2016-03-28</td>\n",
       "      <td>0</td>\n",
       "      <td>66589</td>\n",
       "      <td>2016-03-28 08:46:21</td>\n",
       "      <td>0 days 08:46:21</td>\n",
       "    </tr>\n",
       "    <tr>\n",
       "      <th>258109</th>\n",
       "      <td>2016-04-03 09:01:15</td>\n",
       "      <td>4699</td>\n",
       "      <td>coupe</td>\n",
       "      <td>2003</td>\n",
       "      <td>auto</td>\n",
       "      <td>218</td>\n",
       "      <td>clk</td>\n",
       "      <td>125000</td>\n",
       "      <td>6</td>\n",
       "      <td>petrol</td>\n",
       "      <td>mercedes_benz</td>\n",
       "      <td>1.0</td>\n",
       "      <td>2016-04-03</td>\n",
       "      <td>0</td>\n",
       "      <td>75196</td>\n",
       "      <td>2016-04-07 09:44:54</td>\n",
       "      <td>4 days 09:44:54</td>\n",
       "    </tr>\n",
       "    <tr>\n",
       "      <th>325651</th>\n",
       "      <td>2016-03-18 18:46:15</td>\n",
       "      <td>1999</td>\n",
       "      <td>wagon</td>\n",
       "      <td>2001</td>\n",
       "      <td>manual</td>\n",
       "      <td>131</td>\n",
       "      <td>passat</td>\n",
       "      <td>150000</td>\n",
       "      <td>7</td>\n",
       "      <td>petrol</td>\n",
       "      <td>volkswagen</td>\n",
       "      <td>0.0</td>\n",
       "      <td>2016-03-18</td>\n",
       "      <td>0</td>\n",
       "      <td>36391</td>\n",
       "      <td>2016-03-18 18:46:15</td>\n",
       "      <td>0 days 18:46:15</td>\n",
       "    </tr>\n",
       "  </tbody>\n",
       "</table>\n",
       "</div>"
      ],
      "text/plain": [
       "              date_crawled  price vehicle_type  registration_year gearbox  \\\n",
       "41529  2016-03-18 18:46:15   1999        wagon               2001  manual   \n",
       "88087  2016-03-08 18:42:48   1799        coupe               1999    auto   \n",
       "90964  2016-03-28 00:56:10   1000        small               2002  manual   \n",
       "171088 2016-03-08 18:42:48   1799        coupe               1999    auto   \n",
       "187735 2016-04-03 09:01:15   4699        coupe               2003    auto   \n",
       "189060 2016-04-04 22:50:44  13000        sedan               2008  manual   \n",
       "194008 2016-04-04 22:50:44  13000        sedan               2008  manual   \n",
       "231258 2016-03-28 00:56:10   1000        small               2002  manual   \n",
       "258109 2016-04-03 09:01:15   4699        coupe               2003    auto   \n",
       "325651 2016-03-18 18:46:15   1999        wagon               2001  manual   \n",
       "\n",
       "        power   model  kilometer  registration_month fuel_type          brand  \\\n",
       "41529     131  passat     150000                   7    petrol     volkswagen   \n",
       "88087     193     clk      20000                   7    petrol  mercedes_benz   \n",
       "90964      83   other     150000                   1    petrol         suzuki   \n",
       "171088    193     clk      20000                   7    petrol  mercedes_benz   \n",
       "187735    218     clk     125000                   6    petrol  mercedes_benz   \n",
       "189060    143      a4     125000                   9    petrol           audi   \n",
       "194008    143      a4     125000                   9    petrol           audi   \n",
       "231258     83   other     150000                   1    petrol         suzuki   \n",
       "258109    218     clk     125000                   6    petrol  mercedes_benz   \n",
       "325651    131  passat     150000                   7    petrol     volkswagen   \n",
       "\n",
       "        repaired date_created  number_of_pictures  postal_code  \\\n",
       "41529        0.0   2016-03-18                   0        36391   \n",
       "88087        0.0   2016-03-08                   0        89518   \n",
       "90964        0.0   2016-03-28                   0        66589   \n",
       "171088       0.0   2016-03-08                   0        89518   \n",
       "187735       1.0   2016-04-03                   0        75196   \n",
       "189060       0.0   2016-04-04                   0        65428   \n",
       "194008       0.0   2016-04-04                   0        65428   \n",
       "231258       0.0   2016-03-28                   0        66589   \n",
       "258109       1.0   2016-04-03                   0        75196   \n",
       "325651       0.0   2016-03-18                   0        36391   \n",
       "\n",
       "                 last_seen      activ_time  \n",
       "41529  2016-03-18 18:46:15 0 days 18:46:15  \n",
       "88087  2016-03-09 09:46:57 1 days 09:46:57  \n",
       "90964  2016-03-28 08:46:21 0 days 08:46:21  \n",
       "171088 2016-03-09 09:46:57 1 days 09:46:57  \n",
       "187735 2016-04-07 09:44:54 4 days 09:44:54  \n",
       "189060 2016-04-05 12:30:14 1 days 12:30:14  \n",
       "194008 2016-04-05 12:30:14 1 days 12:30:14  \n",
       "231258 2016-03-28 08:46:21 0 days 08:46:21  \n",
       "258109 2016-04-07 09:44:54 4 days 09:44:54  \n",
       "325651 2016-03-18 18:46:15 0 days 18:46:15  "
      ]
     },
     "execution_count": 21,
     "metadata": {},
     "output_type": "execute_result"
    }
   ],
   "source": [
    "auto[auto.duplicated(keep = False)]"
   ]
  },
  {
   "cell_type": "markdown",
   "metadata": {},
   "source": [
    "Какая-либо закономерность в дубликатах не прослеживается.\n",
    "\n",
    "Дубликаты следует исключить из анализа."
   ]
  },
  {
   "cell_type": "code",
   "execution_count": 22,
   "metadata": {},
   "outputs": [],
   "source": [
    "auto.drop_duplicates(inplace = True)"
   ]
  },
  {
   "cell_type": "markdown",
   "metadata": {},
   "source": [
    "#### Обработка аномальных значений"
   ]
  },
  {
   "cell_type": "code",
   "execution_count": 23,
   "metadata": {},
   "outputs": [
    {
     "data": {
      "text/html": [
       "<div>\n",
       "<style scoped>\n",
       "    .dataframe tbody tr th:only-of-type {\n",
       "        vertical-align: middle;\n",
       "    }\n",
       "\n",
       "    .dataframe tbody tr th {\n",
       "        vertical-align: top;\n",
       "    }\n",
       "\n",
       "    .dataframe thead th {\n",
       "        text-align: right;\n",
       "    }\n",
       "</style>\n",
       "<table border=\"1\" class=\"dataframe\">\n",
       "  <thead>\n",
       "    <tr style=\"text-align: right;\">\n",
       "      <th></th>\n",
       "      <th>price</th>\n",
       "      <th>registration_year</th>\n",
       "      <th>power</th>\n",
       "      <th>kilometer</th>\n",
       "      <th>registration_month</th>\n",
       "      <th>repaired</th>\n",
       "      <th>number_of_pictures</th>\n",
       "      <th>postal_code</th>\n",
       "      <th>activ_time</th>\n",
       "    </tr>\n",
       "  </thead>\n",
       "  <tbody>\n",
       "    <tr>\n",
       "      <th>count</th>\n",
       "      <td>354364.000000</td>\n",
       "      <td>354364.000000</td>\n",
       "      <td>354364.000000</td>\n",
       "      <td>354364.000000</td>\n",
       "      <td>354364.000000</td>\n",
       "      <td>354364.000000</td>\n",
       "      <td>354364.0</td>\n",
       "      <td>354364.000000</td>\n",
       "      <td>354364</td>\n",
       "    </tr>\n",
       "    <tr>\n",
       "      <th>mean</th>\n",
       "      <td>4416.655608</td>\n",
       "      <td>2004.234471</td>\n",
       "      <td>110.093723</td>\n",
       "      <td>128211.373051</td>\n",
       "      <td>5.714641</td>\n",
       "      <td>0.101740</td>\n",
       "      <td>0.0</td>\n",
       "      <td>50508.461698</td>\n",
       "      <td>9 days 04:39:02.053890914</td>\n",
       "    </tr>\n",
       "    <tr>\n",
       "      <th>std</th>\n",
       "      <td>4514.159690</td>\n",
       "      <td>90.228593</td>\n",
       "      <td>189.851590</td>\n",
       "      <td>37905.136957</td>\n",
       "      <td>3.726433</td>\n",
       "      <td>0.302307</td>\n",
       "      <td>0.0</td>\n",
       "      <td>25783.124276</td>\n",
       "      <td>8 days 14:31:03.829745740</td>\n",
       "    </tr>\n",
       "    <tr>\n",
       "      <th>min</th>\n",
       "      <td>0.000000</td>\n",
       "      <td>1000.000000</td>\n",
       "      <td>0.000000</td>\n",
       "      <td>5000.000000</td>\n",
       "      <td>0.000000</td>\n",
       "      <td>0.000000</td>\n",
       "      <td>0.0</td>\n",
       "      <td>1067.000000</td>\n",
       "      <td>0 days 00:25:36</td>\n",
       "    </tr>\n",
       "    <tr>\n",
       "      <th>25%</th>\n",
       "      <td>1050.000000</td>\n",
       "      <td>1999.000000</td>\n",
       "      <td>69.000000</td>\n",
       "      <td>125000.000000</td>\n",
       "      <td>3.000000</td>\n",
       "      <td>0.000000</td>\n",
       "      <td>0.0</td>\n",
       "      <td>30165.000000</td>\n",
       "      <td>2 days 12:45:57</td>\n",
       "    </tr>\n",
       "    <tr>\n",
       "      <th>50%</th>\n",
       "      <td>2700.000000</td>\n",
       "      <td>2003.000000</td>\n",
       "      <td>105.000000</td>\n",
       "      <td>150000.000000</td>\n",
       "      <td>6.000000</td>\n",
       "      <td>0.000000</td>\n",
       "      <td>0.0</td>\n",
       "      <td>49409.500000</td>\n",
       "      <td>6 days 10:45:54</td>\n",
       "    </tr>\n",
       "    <tr>\n",
       "      <th>75%</th>\n",
       "      <td>6400.000000</td>\n",
       "      <td>2008.000000</td>\n",
       "      <td>143.000000</td>\n",
       "      <td>150000.000000</td>\n",
       "      <td>9.000000</td>\n",
       "      <td>0.000000</td>\n",
       "      <td>0.0</td>\n",
       "      <td>71083.000000</td>\n",
       "      <td>13 days 22:18:00.250000</td>\n",
       "    </tr>\n",
       "    <tr>\n",
       "      <th>max</th>\n",
       "      <td>20000.000000</td>\n",
       "      <td>9999.000000</td>\n",
       "      <td>20000.000000</td>\n",
       "      <td>150000.000000</td>\n",
       "      <td>12.000000</td>\n",
       "      <td>1.000000</td>\n",
       "      <td>0.0</td>\n",
       "      <td>99998.000000</td>\n",
       "      <td>759 days 04:46:24</td>\n",
       "    </tr>\n",
       "  </tbody>\n",
       "</table>\n",
       "</div>"
      ],
      "text/plain": [
       "               price  registration_year          power      kilometer  \\\n",
       "count  354364.000000      354364.000000  354364.000000  354364.000000   \n",
       "mean     4416.655608        2004.234471     110.093723  128211.373051   \n",
       "std      4514.159690          90.228593     189.851590   37905.136957   \n",
       "min         0.000000        1000.000000       0.000000    5000.000000   \n",
       "25%      1050.000000        1999.000000      69.000000  125000.000000   \n",
       "50%      2700.000000        2003.000000     105.000000  150000.000000   \n",
       "75%      6400.000000        2008.000000     143.000000  150000.000000   \n",
       "max     20000.000000        9999.000000   20000.000000  150000.000000   \n",
       "\n",
       "       registration_month       repaired  number_of_pictures    postal_code  \\\n",
       "count       354364.000000  354364.000000            354364.0  354364.000000   \n",
       "mean             5.714641       0.101740                 0.0   50508.461698   \n",
       "std              3.726433       0.302307                 0.0   25783.124276   \n",
       "min              0.000000       0.000000                 0.0    1067.000000   \n",
       "25%              3.000000       0.000000                 0.0   30165.000000   \n",
       "50%              6.000000       0.000000                 0.0   49409.500000   \n",
       "75%              9.000000       0.000000                 0.0   71083.000000   \n",
       "max             12.000000       1.000000                 0.0   99998.000000   \n",
       "\n",
       "                      activ_time  \n",
       "count                     354364  \n",
       "mean   9 days 04:39:02.053890914  \n",
       "std    8 days 14:31:03.829745740  \n",
       "min              0 days 00:25:36  \n",
       "25%              2 days 12:45:57  \n",
       "50%              6 days 10:45:54  \n",
       "75%      13 days 22:18:00.250000  \n",
       "max            759 days 04:46:24  "
      ]
     },
     "execution_count": 23,
     "metadata": {},
     "output_type": "execute_result"
    }
   ],
   "source": [
    "auto.describe()"
   ]
  },
  {
   "cell_type": "code",
   "execution_count": 24,
   "metadata": {},
   "outputs": [],
   "source": [
    "auto_selected = auto.copy()"
   ]
  },
  {
   "cell_type": "code",
   "execution_count": 25,
   "metadata": {},
   "outputs": [],
   "source": [
    "auto_selected = auto_selected.drop(['number_of_pictures','postal_code', 'date_crawled','last_seen'], axis = 1)"
   ]
  },
  {
   "cell_type": "markdown",
   "metadata": {},
   "source": [
    "Из анализа данных видно, что вибивающиеся или неправдоподобные значения имеют несколько столбцов:\n",
    "* цена авто не может быть равна 0;\n",
    "* год регистрации не может быть меньше ~1800 и больше 2025;\n",
    "* мощность не может быть равна 0, авто с мощностью более 1500 л.с. - редкость, 20000 л.с. - аномалия;"
   ]
  },
  {
   "cell_type": "code",
   "execution_count": 26,
   "metadata": {},
   "outputs": [],
   "source": [
    "def num_feature(data):\n",
    "    display(data.describe())\n",
    "    data.plot(kind = 'box', grid = True, figsize = (9,7))\n",
    "    plt.title(f'Диаграмма размаха {data.name}', size = 15)\n",
    "    plt.xlabel(data.name, size = 12)\n",
    "    plt.show()\n",
    "    data.hist(bins = 15, figsize = (9,7), edgecolor='black')\n",
    "    plt.title(f'Гистограмма {data.name}', size = 15)\n",
    "    plt.ylabel('Количество записей', size = 12)\n",
    "    plt.xlabel(data.name, size = 12)\n",
    "    plt.show()"
   ]
  },
  {
   "cell_type": "markdown",
   "metadata": {},
   "source": [
    "##### Цена"
   ]
  },
  {
   "cell_type": "code",
   "execution_count": 27,
   "metadata": {},
   "outputs": [
    {
     "data": {
      "text/plain": [
       "count    354364.000000\n",
       "mean       4416.655608\n",
       "std        4514.159690\n",
       "min           0.000000\n",
       "25%        1050.000000\n",
       "50%        2700.000000\n",
       "75%        6400.000000\n",
       "max       20000.000000\n",
       "Name: price, dtype: float64"
      ]
     },
     "metadata": {},
     "output_type": "display_data"
    },
    {
     "data": {
      "image/png": "[encoded data removed]",
      "text/plain": [
       "<Figure size 648x504 with 1 Axes>"
      ]
     },
     "metadata": {
      "needs_background": "light"
     },
     "output_type": "display_data"
    },
    {
     "data": {
      "image/png": "[encoded data removed]",
      "text/plain": [
       "<Figure size 648x504 with 1 Axes>"
      ]
     },
     "metadata": {
      "needs_background": "light"
     },
     "output_type": "display_data"
    }
   ],
   "source": [
    "num_feature(auto_selected['price'])"
   ]
  },
  {
   "cell_type": "code",
   "execution_count": 28,
   "metadata": {},
   "outputs": [
    {
     "data": {
      "text/html": [
       "<div>\n",
       "<style scoped>\n",
       "    .dataframe tbody tr th:only-of-type {\n",
       "        vertical-align: middle;\n",
       "    }\n",
       "\n",
       "    .dataframe tbody tr th {\n",
       "        vertical-align: top;\n",
       "    }\n",
       "\n",
       "    .dataframe thead th {\n",
       "        text-align: right;\n",
       "    }\n",
       "</style>\n",
       "<table border=\"1\" class=\"dataframe\">\n",
       "  <thead>\n",
       "    <tr style=\"text-align: right;\">\n",
       "      <th></th>\n",
       "      <th>price</th>\n",
       "      <th>registration_year</th>\n",
       "      <th>power</th>\n",
       "      <th>kilometer</th>\n",
       "      <th>registration_month</th>\n",
       "      <th>repaired</th>\n",
       "      <th>activ_time</th>\n",
       "    </tr>\n",
       "  </thead>\n",
       "  <tbody>\n",
       "    <tr>\n",
       "      <th>count</th>\n",
       "      <td>36054.000000</td>\n",
       "      <td>36054.000000</td>\n",
       "      <td>36054.000000</td>\n",
       "      <td>36054.000000</td>\n",
       "      <td>36054.000000</td>\n",
       "      <td>36054.000000</td>\n",
       "      <td>36054</td>\n",
       "    </tr>\n",
       "    <tr>\n",
       "      <th>mean</th>\n",
       "      <td>192.706357</td>\n",
       "      <td>2004.850807</td>\n",
       "      <td>67.248544</td>\n",
       "      <td>129890.996838</td>\n",
       "      <td>3.991707</td>\n",
       "      <td>0.268042</td>\n",
       "      <td>7 days 18:54:13.079325456</td>\n",
       "    </tr>\n",
       "    <tr>\n",
       "      <th>std</th>\n",
       "      <td>168.061252</td>\n",
       "      <td>205.624369</td>\n",
       "      <td>190.428930</td>\n",
       "      <td>43440.462675</td>\n",
       "      <td>3.987932</td>\n",
       "      <td>0.442946</td>\n",
       "      <td>7 days 22:49:27.180845691</td>\n",
       "    </tr>\n",
       "    <tr>\n",
       "      <th>min</th>\n",
       "      <td>0.000000</td>\n",
       "      <td>1000.000000</td>\n",
       "      <td>0.000000</td>\n",
       "      <td>5000.000000</td>\n",
       "      <td>0.000000</td>\n",
       "      <td>0.000000</td>\n",
       "      <td>0 days 00:36:16</td>\n",
       "    </tr>\n",
       "    <tr>\n",
       "      <th>25%</th>\n",
       "      <td>0.000000</td>\n",
       "      <td>1996.000000</td>\n",
       "      <td>0.000000</td>\n",
       "      <td>150000.000000</td>\n",
       "      <td>0.000000</td>\n",
       "      <td>0.000000</td>\n",
       "      <td>1 days 14:47:12.750000</td>\n",
       "    </tr>\n",
       "    <tr>\n",
       "      <th>50%</th>\n",
       "      <td>200.000000</td>\n",
       "      <td>1998.000000</td>\n",
       "      <td>60.000000</td>\n",
       "      <td>150000.000000</td>\n",
       "      <td>3.000000</td>\n",
       "      <td>0.000000</td>\n",
       "      <td>4 days 16:45:52.500000</td>\n",
       "    </tr>\n",
       "    <tr>\n",
       "      <th>75%</th>\n",
       "      <td>350.000000</td>\n",
       "      <td>2001.000000</td>\n",
       "      <td>95.000000</td>\n",
       "      <td>150000.000000</td>\n",
       "      <td>7.000000</td>\n",
       "      <td>1.000000</td>\n",
       "      <td>11 days 09:44:42.250000</td>\n",
       "    </tr>\n",
       "    <tr>\n",
       "      <th>max</th>\n",
       "      <td>499.000000</td>\n",
       "      <td>9999.000000</td>\n",
       "      <td>15016.000000</td>\n",
       "      <td>150000.000000</td>\n",
       "      <td>12.000000</td>\n",
       "      <td>1.000000</td>\n",
       "      <td>76 days 18:45:27</td>\n",
       "    </tr>\n",
       "  </tbody>\n",
       "</table>\n",
       "</div>"
      ],
      "text/plain": [
       "              price  registration_year         power      kilometer  \\\n",
       "count  36054.000000       36054.000000  36054.000000   36054.000000   \n",
       "mean     192.706357        2004.850807     67.248544  129890.996838   \n",
       "std      168.061252         205.624369    190.428930   43440.462675   \n",
       "min        0.000000        1000.000000      0.000000    5000.000000   \n",
       "25%        0.000000        1996.000000      0.000000  150000.000000   \n",
       "50%      200.000000        1998.000000     60.000000  150000.000000   \n",
       "75%      350.000000        2001.000000     95.000000  150000.000000   \n",
       "max      499.000000        9999.000000  15016.000000  150000.000000   \n",
       "\n",
       "       registration_month      repaired                 activ_time  \n",
       "count        36054.000000  36054.000000                      36054  \n",
       "mean             3.991707      0.268042  7 days 18:54:13.079325456  \n",
       "std              3.987932      0.442946  7 days 22:49:27.180845691  \n",
       "min              0.000000      0.000000            0 days 00:36:16  \n",
       "25%              0.000000      0.000000     1 days 14:47:12.750000  \n",
       "50%              3.000000      0.000000     4 days 16:45:52.500000  \n",
       "75%              7.000000      1.000000    11 days 09:44:42.250000  \n",
       "max             12.000000      1.000000           76 days 18:45:27  "
      ]
     },
     "execution_count": 28,
     "metadata": {},
     "output_type": "execute_result"
    }
   ],
   "source": [
    "auto_selected.query('price < 500').describe()"
   ]
  },
  {
   "cell_type": "markdown",
   "metadata": {},
   "source": [
    "Закономерности в данных по авто с ценой ниже 500 евро не наблюдается, поэтому нельзя однозначно сказать, является ли такая низкая цена ошибкой или действительно продавец расчитывает получить именно указанную сумму. Ограничимся порогом в 200 евро за самый дешевый авто."
   ]
  },
  {
   "cell_type": "code",
   "execution_count": 29,
   "metadata": {},
   "outputs": [],
   "source": [
    "auto_selected = auto_selected.query('price >= 200')"
   ]
  },
  {
   "cell_type": "markdown",
   "metadata": {},
   "source": [
    "##### Год регистрации авто"
   ]
  },
  {
   "cell_type": "code",
   "execution_count": 30,
   "metadata": {},
   "outputs": [
    {
     "data": {
      "text/plain": [
       "count    336902.000000\n",
       "mean       2003.979967\n",
       "std          67.939104\n",
       "min        1000.000000\n",
       "25%        1999.000000\n",
       "50%        2003.000000\n",
       "75%        2008.000000\n",
       "max        9999.000000\n",
       "Name: registration_year, dtype: float64"
      ]
     },
     "metadata": {},
     "output_type": "display_data"
    },
    {
     "data": {
      "image/png": "[encoded data removed]",
      "text/plain": [
       "<Figure size 648x504 with 1 Axes>"
      ]
     },
     "metadata": {
      "needs_background": "light"
     },
     "output_type": "display_data"
    },
    {
     "data": {
      "image/png": "[encoded data removed]",
      "text/plain": [
       "<Figure size 648x504 with 1 Axes>"
      ]
     },
     "metadata": {
      "needs_background": "light"
     },
     "output_type": "display_data"
    }
   ],
   "source": [
    "num_feature(auto_selected['registration_year'])"
   ]
  },
  {
   "cell_type": "markdown",
   "metadata": {},
   "source": [
    "Проверим выбивающиеся данные"
   ]
  },
  {
   "cell_type": "code",
   "execution_count": 31,
   "metadata": {},
   "outputs": [
    {
     "data": {
      "text/html": [
       "<div>\n",
       "<style scoped>\n",
       "    .dataframe tbody tr th:only-of-type {\n",
       "        vertical-align: middle;\n",
       "    }\n",
       "\n",
       "    .dataframe tbody tr th {\n",
       "        vertical-align: top;\n",
       "    }\n",
       "\n",
       "    .dataframe thead th {\n",
       "        text-align: right;\n",
       "    }\n",
       "</style>\n",
       "<table border=\"1\" class=\"dataframe\">\n",
       "  <thead>\n",
       "    <tr style=\"text-align: right;\">\n",
       "      <th></th>\n",
       "      <th>price</th>\n",
       "      <th>vehicle_type</th>\n",
       "      <th>registration_year</th>\n",
       "      <th>gearbox</th>\n",
       "      <th>power</th>\n",
       "      <th>model</th>\n",
       "      <th>kilometer</th>\n",
       "      <th>registration_month</th>\n",
       "      <th>fuel_type</th>\n",
       "      <th>brand</th>\n",
       "      <th>repaired</th>\n",
       "      <th>date_created</th>\n",
       "      <th>activ_time</th>\n",
       "    </tr>\n",
       "  </thead>\n",
       "  <tbody>\n",
       "    <tr>\n",
       "      <th>15</th>\n",
       "      <td>450</td>\n",
       "      <td>small</td>\n",
       "      <td>1910</td>\n",
       "      <td>manual</td>\n",
       "      <td>0</td>\n",
       "      <td>ka</td>\n",
       "      <td>5000</td>\n",
       "      <td>0</td>\n",
       "      <td>petrol</td>\n",
       "      <td>ford</td>\n",
       "      <td>0.0</td>\n",
       "      <td>2016-03-11</td>\n",
       "      <td>8 days 08:46:47</td>\n",
       "    </tr>\n",
       "    <tr>\n",
       "      <th>630</th>\n",
       "      <td>12000</td>\n",
       "      <td>sedan</td>\n",
       "      <td>1969</td>\n",
       "      <td>manual</td>\n",
       "      <td>140</td>\n",
       "      <td>s_klasse</td>\n",
       "      <td>80000</td>\n",
       "      <td>3</td>\n",
       "      <td>petrol</td>\n",
       "      <td>mercedes_benz</td>\n",
       "      <td>0.0</td>\n",
       "      <td>2016-03-18</td>\n",
       "      <td>18 days 22:16:44</td>\n",
       "    </tr>\n",
       "    <tr>\n",
       "      <th>650</th>\n",
       "      <td>15000</td>\n",
       "      <td>coupe</td>\n",
       "      <td>1971</td>\n",
       "      <td>manual</td>\n",
       "      <td>0</td>\n",
       "      <td>other</td>\n",
       "      <td>5000</td>\n",
       "      <td>4</td>\n",
       "      <td>petrol</td>\n",
       "      <td>sonstige_autos</td>\n",
       "      <td>0.0</td>\n",
       "      <td>2016-03-30</td>\n",
       "      <td>8 days 02:45:10</td>\n",
       "    </tr>\n",
       "    <tr>\n",
       "      <th>981</th>\n",
       "      <td>2900</td>\n",
       "      <td>sedan</td>\n",
       "      <td>1971</td>\n",
       "      <td>auto</td>\n",
       "      <td>90</td>\n",
       "      <td>other</td>\n",
       "      <td>90000</td>\n",
       "      <td>6</td>\n",
       "      <td>petrol</td>\n",
       "      <td>opel</td>\n",
       "      <td>0.0</td>\n",
       "      <td>2016-03-05</td>\n",
       "      <td>31 days 11:48:37</td>\n",
       "    </tr>\n",
       "    <tr>\n",
       "      <th>1235</th>\n",
       "      <td>4450</td>\n",
       "      <td>small</td>\n",
       "      <td>1971</td>\n",
       "      <td>manual</td>\n",
       "      <td>23</td>\n",
       "      <td>500</td>\n",
       "      <td>70000</td>\n",
       "      <td>5</td>\n",
       "      <td>petrol</td>\n",
       "      <td>fiat</td>\n",
       "      <td>0.0</td>\n",
       "      <td>2016-03-08</td>\n",
       "      <td>28 days 18:44:51</td>\n",
       "    </tr>\n",
       "    <tr>\n",
       "      <th>...</th>\n",
       "      <td>...</td>\n",
       "      <td>...</td>\n",
       "      <td>...</td>\n",
       "      <td>...</td>\n",
       "      <td>...</td>\n",
       "      <td>...</td>\n",
       "      <td>...</td>\n",
       "      <td>...</td>\n",
       "      <td>...</td>\n",
       "      <td>...</td>\n",
       "      <td>...</td>\n",
       "      <td>...</td>\n",
       "      <td>...</td>\n",
       "    </tr>\n",
       "    <tr>\n",
       "      <th>353531</th>\n",
       "      <td>6000</td>\n",
       "      <td>sedan</td>\n",
       "      <td>1937</td>\n",
       "      <td>manual</td>\n",
       "      <td>38</td>\n",
       "      <td>other</td>\n",
       "      <td>5000</td>\n",
       "      <td>0</td>\n",
       "      <td>petrol</td>\n",
       "      <td>mercedes_benz</td>\n",
       "      <td>0.0</td>\n",
       "      <td>2016-03-16</td>\n",
       "      <td>14 days 18:47:41</td>\n",
       "    </tr>\n",
       "    <tr>\n",
       "      <th>353912</th>\n",
       "      <td>800</td>\n",
       "      <td>other</td>\n",
       "      <td>1970</td>\n",
       "      <td>manual</td>\n",
       "      <td>0</td>\n",
       "      <td>other</td>\n",
       "      <td>150000</td>\n",
       "      <td>0</td>\n",
       "      <td>petrol</td>\n",
       "      <td>trabant</td>\n",
       "      <td>0.0</td>\n",
       "      <td>2016-03-05</td>\n",
       "      <td>7 days 08:17:10</td>\n",
       "    </tr>\n",
       "    <tr>\n",
       "      <th>353961</th>\n",
       "      <td>200</td>\n",
       "      <td>other</td>\n",
       "      <td>1910</td>\n",
       "      <td>manual</td>\n",
       "      <td>0</td>\n",
       "      <td>other</td>\n",
       "      <td>5000</td>\n",
       "      <td>0</td>\n",
       "      <td>petrol</td>\n",
       "      <td>sonstige_autos</td>\n",
       "      <td>0.0</td>\n",
       "      <td>2016-03-17</td>\n",
       "      <td>14 days 22:46:47</td>\n",
       "    </tr>\n",
       "    <tr>\n",
       "      <th>354037</th>\n",
       "      <td>10500</td>\n",
       "      <td>convertible</td>\n",
       "      <td>1968</td>\n",
       "      <td>manual</td>\n",
       "      <td>54</td>\n",
       "      <td>other</td>\n",
       "      <td>20000</td>\n",
       "      <td>4</td>\n",
       "      <td>petrol</td>\n",
       "      <td>renault</td>\n",
       "      <td>0.0</td>\n",
       "      <td>2016-03-23</td>\n",
       "      <td>2 days 00:47:18</td>\n",
       "    </tr>\n",
       "    <tr>\n",
       "      <th>354316</th>\n",
       "      <td>3300</td>\n",
       "      <td>coupe</td>\n",
       "      <td>1957</td>\n",
       "      <td>manual</td>\n",
       "      <td>40</td>\n",
       "      <td>other</td>\n",
       "      <td>100000</td>\n",
       "      <td>11</td>\n",
       "      <td>petrol</td>\n",
       "      <td>trabant</td>\n",
       "      <td>0.0</td>\n",
       "      <td>2016-03-07</td>\n",
       "      <td>1 days 06:45:48</td>\n",
       "    </tr>\n",
       "  </tbody>\n",
       "</table>\n",
       "<p>1570 rows × 13 columns</p>\n",
       "</div>"
      ],
      "text/plain": [
       "        price vehicle_type  registration_year gearbox  power     model  \\\n",
       "15        450        small               1910  manual      0        ka   \n",
       "630     12000        sedan               1969  manual    140  s_klasse   \n",
       "650     15000        coupe               1971  manual      0     other   \n",
       "981      2900        sedan               1971    auto     90     other   \n",
       "1235     4450        small               1971  manual     23       500   \n",
       "...       ...          ...                ...     ...    ...       ...   \n",
       "353531   6000        sedan               1937  manual     38     other   \n",
       "353912    800        other               1970  manual      0     other   \n",
       "353961    200        other               1910  manual      0     other   \n",
       "354037  10500  convertible               1968  manual     54     other   \n",
       "354316   3300        coupe               1957  manual     40     other   \n",
       "\n",
       "        kilometer  registration_month fuel_type           brand  repaired  \\\n",
       "15           5000                   0    petrol            ford       0.0   \n",
       "630         80000                   3    petrol   mercedes_benz       0.0   \n",
       "650          5000                   4    petrol  sonstige_autos       0.0   \n",
       "981         90000                   6    petrol            opel       0.0   \n",
       "1235        70000                   5    petrol            fiat       0.0   \n",
       "...           ...                 ...       ...             ...       ...   \n",
       "353531       5000                   0    petrol   mercedes_benz       0.0   \n",
       "353912     150000                   0    petrol         trabant       0.0   \n",
       "353961       5000                   0    petrol  sonstige_autos       0.0   \n",
       "354037      20000                   4    petrol         renault       0.0   \n",
       "354316     100000                  11    petrol         trabant       0.0   \n",
       "\n",
       "       date_created       activ_time  \n",
       "15       2016-03-11  8 days 08:46:47  \n",
       "630      2016-03-18 18 days 22:16:44  \n",
       "650      2016-03-30  8 days 02:45:10  \n",
       "981      2016-03-05 31 days 11:48:37  \n",
       "1235     2016-03-08 28 days 18:44:51  \n",
       "...             ...              ...  \n",
       "353531   2016-03-16 14 days 18:47:41  \n",
       "353912   2016-03-05  7 days 08:17:10  \n",
       "353961   2016-03-17 14 days 22:46:47  \n",
       "354037   2016-03-23  2 days 00:47:18  \n",
       "354316   2016-03-07  1 days 06:45:48  \n",
       "\n",
       "[1570 rows x 13 columns]"
      ]
     },
     "execution_count": 31,
     "metadata": {},
     "output_type": "execute_result"
    }
   ],
   "source": [
    "auto_selected.query('registration_year < 1972 or registration_year > 2025')"
   ]
  },
  {
   "cell_type": "markdown",
   "metadata": {},
   "source": [
    "Зависимости в данных не наблюдается."
   ]
  },
  {
   "cell_type": "markdown",
   "metadata": {},
   "source": [
    "Ограничимся 99% данных"
   ]
  },
  {
   "cell_type": "code",
   "execution_count": 32,
   "metadata": {},
   "outputs": [
    {
     "data": {
      "text/plain": [
       "2018.0"
      ]
     },
     "execution_count": 32,
     "metadata": {},
     "output_type": "execute_result"
    }
   ],
   "source": [
    "upper_b = np.percentile(auto_selected['registration_year'],99.5)\n",
    "upper_b"
   ]
  },
  {
   "cell_type": "code",
   "execution_count": 33,
   "metadata": {},
   "outputs": [
    {
     "data": {
      "text/plain": [
       "1972.0"
      ]
     },
     "execution_count": 33,
     "metadata": {},
     "output_type": "execute_result"
    }
   ],
   "source": [
    "lower_b = np.percentile(auto_selected['registration_year'],0.5)\n",
    "lower_b"
   ]
  },
  {
   "cell_type": "code",
   "execution_count": 34,
   "metadata": {},
   "outputs": [],
   "source": [
    "auto_selected = auto_selected.query('registration_year > @lower_b and registration_year < @upper_b')"
   ]
  },
  {
   "cell_type": "code",
   "execution_count": 35,
   "metadata": {
    "scrolled": true
   },
   "outputs": [
    {
     "data": {
      "text/html": [
       "<div>\n",
       "<style scoped>\n",
       "    .dataframe tbody tr th:only-of-type {\n",
       "        vertical-align: middle;\n",
       "    }\n",
       "\n",
       "    .dataframe tbody tr th {\n",
       "        vertical-align: top;\n",
       "    }\n",
       "\n",
       "    .dataframe thead th {\n",
       "        text-align: right;\n",
       "    }\n",
       "</style>\n",
       "<table border=\"1\" class=\"dataframe\">\n",
       "  <thead>\n",
       "    <tr style=\"text-align: right;\">\n",
       "      <th></th>\n",
       "      <th>date_crawled</th>\n",
       "      <th>price</th>\n",
       "      <th>registration_year</th>\n",
       "      <th>kilometer</th>\n",
       "      <th>date_created</th>\n",
       "    </tr>\n",
       "  </thead>\n",
       "  <tbody>\n",
       "    <tr>\n",
       "      <th>15</th>\n",
       "      <td>2016-03-11 21:39:15</td>\n",
       "      <td>450</td>\n",
       "      <td>1910</td>\n",
       "      <td>5000</td>\n",
       "      <td>2016-03-11</td>\n",
       "    </tr>\n",
       "    <tr>\n",
       "      <th>622</th>\n",
       "      <td>2016-03-16 16:55:09</td>\n",
       "      <td>0</td>\n",
       "      <td>1111</td>\n",
       "      <td>5000</td>\n",
       "      <td>2016-03-16</td>\n",
       "    </tr>\n",
       "    <tr>\n",
       "      <th>1928</th>\n",
       "      <td>2016-03-25 15:58:21</td>\n",
       "      <td>7000</td>\n",
       "      <td>1945</td>\n",
       "      <td>150000</td>\n",
       "      <td>2016-03-25</td>\n",
       "    </tr>\n",
       "    <tr>\n",
       "      <th>2273</th>\n",
       "      <td>2016-03-15 21:44:32</td>\n",
       "      <td>1800</td>\n",
       "      <td>1925</td>\n",
       "      <td>5000</td>\n",
       "      <td>2016-03-15</td>\n",
       "    </tr>\n",
       "    <tr>\n",
       "      <th>6629</th>\n",
       "      <td>2016-04-02 13:47:16</td>\n",
       "      <td>0</td>\n",
       "      <td>1910</td>\n",
       "      <td>5000</td>\n",
       "      <td>2016-04-02</td>\n",
       "    </tr>\n",
       "    <tr>\n",
       "      <th>6977</th>\n",
       "      <td>2016-03-24 08:37:22</td>\n",
       "      <td>135</td>\n",
       "      <td>1910</td>\n",
       "      <td>5000</td>\n",
       "      <td>2016-03-24</td>\n",
       "    </tr>\n",
       "    <tr>\n",
       "      <th>10183</th>\n",
       "      <td>2016-03-27 13:59:08</td>\n",
       "      <td>1250</td>\n",
       "      <td>1910</td>\n",
       "      <td>5000</td>\n",
       "      <td>2016-03-27</td>\n",
       "    </tr>\n",
       "    <tr>\n",
       "      <th>12946</th>\n",
       "      <td>2016-03-29 18:39:40</td>\n",
       "      <td>49</td>\n",
       "      <td>5000</td>\n",
       "      <td>5000</td>\n",
       "      <td>2016-03-29</td>\n",
       "    </tr>\n",
       "    <tr>\n",
       "      <th>15147</th>\n",
       "      <td>2016-03-14 00:52:02</td>\n",
       "      <td>0</td>\n",
       "      <td>9999</td>\n",
       "      <td>10000</td>\n",
       "      <td>2016-03-13</td>\n",
       "    </tr>\n",
       "    <tr>\n",
       "      <th>15870</th>\n",
       "      <td>2016-04-02 11:55:48</td>\n",
       "      <td>1700</td>\n",
       "      <td>3200</td>\n",
       "      <td>5000</td>\n",
       "      <td>2016-04-02</td>\n",
       "    </tr>\n",
       "    <tr>\n",
       "      <th>16062</th>\n",
       "      <td>2016-03-29 23:42:16</td>\n",
       "      <td>190</td>\n",
       "      <td>1000</td>\n",
       "      <td>5000</td>\n",
       "      <td>2016-03-29</td>\n",
       "    </tr>\n",
       "    <tr>\n",
       "      <th>16635</th>\n",
       "      <td>2016-03-09 10:54:11</td>\n",
       "      <td>9500</td>\n",
       "      <td>1941</td>\n",
       "      <td>40000</td>\n",
       "      <td>2016-03-09</td>\n",
       "    </tr>\n",
       "    <tr>\n",
       "      <th>17271</th>\n",
       "      <td>2016-03-23 16:43:29</td>\n",
       "      <td>700</td>\n",
       "      <td>9999</td>\n",
       "      <td>10000</td>\n",
       "      <td>2016-03-23</td>\n",
       "    </tr>\n",
       "    <tr>\n",
       "      <th>17346</th>\n",
       "      <td>2016-03-06 16:06:20</td>\n",
       "      <td>6500</td>\n",
       "      <td>8888</td>\n",
       "      <td>10000</td>\n",
       "      <td>2016-03-06</td>\n",
       "    </tr>\n",
       "    <tr>\n",
       "      <th>18023</th>\n",
       "      <td>2016-03-24 08:57:13</td>\n",
       "      <td>1</td>\n",
       "      <td>1910</td>\n",
       "      <td>5000</td>\n",
       "      <td>2016-03-24</td>\n",
       "    </tr>\n",
       "    <tr>\n",
       "      <th>18224</th>\n",
       "      <td>2016-03-09 17:49:44</td>\n",
       "      <td>7999</td>\n",
       "      <td>1500</td>\n",
       "      <td>5000</td>\n",
       "      <td>2016-03-09</td>\n",
       "    </tr>\n",
       "    <tr>\n",
       "      <th>18259</th>\n",
       "      <td>2016-03-16 20:37:54</td>\n",
       "      <td>300</td>\n",
       "      <td>2200</td>\n",
       "      <td>5000</td>\n",
       "      <td>2016-03-16</td>\n",
       "    </tr>\n",
       "    <tr>\n",
       "      <th>20159</th>\n",
       "      <td>2016-04-01 21:57:05</td>\n",
       "      <td>1600</td>\n",
       "      <td>4100</td>\n",
       "      <td>5000</td>\n",
       "      <td>2016-04-01</td>\n",
       "    </tr>\n",
       "    <tr>\n",
       "      <th>22621</th>\n",
       "      <td>2016-03-23 11:37:57</td>\n",
       "      <td>14000</td>\n",
       "      <td>1929</td>\n",
       "      <td>5000</td>\n",
       "      <td>2016-03-23</td>\n",
       "    </tr>\n",
       "    <tr>\n",
       "      <th>23750</th>\n",
       "      <td>2016-03-16 19:58:34</td>\n",
       "      <td>3900</td>\n",
       "      <td>1910</td>\n",
       "      <td>150000</td>\n",
       "      <td>2016-03-16</td>\n",
       "    </tr>\n",
       "    <tr>\n",
       "      <th>24458</th>\n",
       "      <td>2016-03-29 19:50:03</td>\n",
       "      <td>50</td>\n",
       "      <td>1910</td>\n",
       "      <td>5000</td>\n",
       "      <td>2016-03-29</td>\n",
       "    </tr>\n",
       "    <tr>\n",
       "      <th>26216</th>\n",
       "      <td>2016-03-16 21:43:10</td>\n",
       "      <td>15000</td>\n",
       "      <td>1940</td>\n",
       "      <td>5000</td>\n",
       "      <td>2016-03-16</td>\n",
       "    </tr>\n",
       "    <tr>\n",
       "      <th>26382</th>\n",
       "      <td>2016-03-07 20:50:57</td>\n",
       "      <td>150</td>\n",
       "      <td>3000</td>\n",
       "      <td>5000</td>\n",
       "      <td>2016-03-07</td>\n",
       "    </tr>\n",
       "    <tr>\n",
       "      <th>26560</th>\n",
       "      <td>2016-03-24 17:45:47</td>\n",
       "      <td>800</td>\n",
       "      <td>2066</td>\n",
       "      <td>5000</td>\n",
       "      <td>2016-03-24</td>\n",
       "    </tr>\n",
       "    <tr>\n",
       "      <th>26579</th>\n",
       "      <td>2016-03-21 00:58:23</td>\n",
       "      <td>0</td>\n",
       "      <td>1910</td>\n",
       "      <td>150000</td>\n",
       "      <td>2016-03-21</td>\n",
       "    </tr>\n",
       "    <tr>\n",
       "      <th>27525</th>\n",
       "      <td>2016-03-12 20:54:39</td>\n",
       "      <td>13300</td>\n",
       "      <td>1949</td>\n",
       "      <td>60000</td>\n",
       "      <td>2016-03-12</td>\n",
       "    </tr>\n",
       "    <tr>\n",
       "      <th>28390</th>\n",
       "      <td>2016-04-05 08:57:08</td>\n",
       "      <td>799</td>\n",
       "      <td>9999</td>\n",
       "      <td>10000</td>\n",
       "      <td>2016-04-05</td>\n",
       "    </tr>\n",
       "    <tr>\n",
       "      <th>28965</th>\n",
       "      <td>2016-04-04 22:54:47</td>\n",
       "      <td>18000</td>\n",
       "      <td>9999</td>\n",
       "      <td>10000</td>\n",
       "      <td>2016-04-04</td>\n",
       "    </tr>\n",
       "    <tr>\n",
       "      <th>29383</th>\n",
       "      <td>2016-03-09 14:54:30</td>\n",
       "      <td>0</td>\n",
       "      <td>1910</td>\n",
       "      <td>5000</td>\n",
       "      <td>2016-03-09</td>\n",
       "    </tr>\n",
       "    <tr>\n",
       "      <th>29426</th>\n",
       "      <td>2016-03-23 21:52:25</td>\n",
       "      <td>7999</td>\n",
       "      <td>9999</td>\n",
       "      <td>10000</td>\n",
       "      <td>2016-03-23</td>\n",
       "    </tr>\n",
       "    <tr>\n",
       "      <th>29516</th>\n",
       "      <td>2016-03-22 08:53:29</td>\n",
       "      <td>80</td>\n",
       "      <td>1910</td>\n",
       "      <td>150000</td>\n",
       "      <td>2016-03-22</td>\n",
       "    </tr>\n",
       "    <tr>\n",
       "      <th>29933</th>\n",
       "      <td>2016-03-09 13:47:22</td>\n",
       "      <td>12900</td>\n",
       "      <td>1940</td>\n",
       "      <td>150000</td>\n",
       "      <td>2016-03-09</td>\n",
       "    </tr>\n",
       "    <tr>\n",
       "      <th>33638</th>\n",
       "      <td>2016-03-16 09:47:50</td>\n",
       "      <td>5400</td>\n",
       "      <td>1937</td>\n",
       "      <td>20000</td>\n",
       "      <td>2016-03-16</td>\n",
       "    </tr>\n",
       "    <tr>\n",
       "      <th>34055</th>\n",
       "      <td>2016-03-25 00:55:47</td>\n",
       "      <td>2900</td>\n",
       "      <td>1937</td>\n",
       "      <td>40000</td>\n",
       "      <td>2016-03-25</td>\n",
       "    </tr>\n",
       "    <tr>\n",
       "      <th>34332</th>\n",
       "      <td>2016-04-01 06:02:10</td>\n",
       "      <td>450</td>\n",
       "      <td>1800</td>\n",
       "      <td>5000</td>\n",
       "      <td>2016-04-01</td>\n",
       "    </tr>\n",
       "    <tr>\n",
       "      <th>35943</th>\n",
       "      <td>2016-03-19 10:57:31</td>\n",
       "      <td>200</td>\n",
       "      <td>1910</td>\n",
       "      <td>150000</td>\n",
       "      <td>2016-03-19</td>\n",
       "    </tr>\n",
       "    <tr>\n",
       "      <th>37953</th>\n",
       "      <td>2016-03-07 22:51:16</td>\n",
       "      <td>9500</td>\n",
       "      <td>1937</td>\n",
       "      <td>20000</td>\n",
       "      <td>2016-03-07</td>\n",
       "    </tr>\n",
       "    <tr>\n",
       "      <th>38875</th>\n",
       "      <td>2016-03-19 23:54:40</td>\n",
       "      <td>1234</td>\n",
       "      <td>1234</td>\n",
       "      <td>5000</td>\n",
       "      <td>2016-03-19</td>\n",
       "    </tr>\n",
       "    <tr>\n",
       "      <th>40133</th>\n",
       "      <td>2016-03-23 18:00:01</td>\n",
       "      <td>0</td>\n",
       "      <td>1910</td>\n",
       "      <td>5000</td>\n",
       "      <td>2016-03-23</td>\n",
       "    </tr>\n",
       "    <tr>\n",
       "      <th>40954</th>\n",
       "      <td>2016-03-07 14:48:23</td>\n",
       "      <td>59</td>\n",
       "      <td>8000</td>\n",
       "      <td>10000</td>\n",
       "      <td>2016-03-07</td>\n",
       "    </tr>\n",
       "    <tr>\n",
       "      <th>41170</th>\n",
       "      <td>2016-03-05 15:52:15</td>\n",
       "      <td>800</td>\n",
       "      <td>5300</td>\n",
       "      <td>10000</td>\n",
       "      <td>2016-03-05</td>\n",
       "    </tr>\n",
       "    <tr>\n",
       "      <th>45662</th>\n",
       "      <td>2016-03-23 17:40:00</td>\n",
       "      <td>999</td>\n",
       "      <td>9000</td>\n",
       "      <td>10000</td>\n",
       "      <td>2016-03-23</td>\n",
       "    </tr>\n",
       "    <tr>\n",
       "      <th>46741</th>\n",
       "      <td>2016-03-12 07:36:23</td>\n",
       "      <td>5000</td>\n",
       "      <td>2900</td>\n",
       "      <td>5000</td>\n",
       "      <td>2016-03-12</td>\n",
       "    </tr>\n",
       "    <tr>\n",
       "      <th>46935</th>\n",
       "      <td>2016-03-27 06:01:00</td>\n",
       "      <td>4900</td>\n",
       "      <td>6000</td>\n",
       "      <td>10000</td>\n",
       "      <td>2016-03-27</td>\n",
       "    </tr>\n",
       "    <tr>\n",
       "      <th>48958</th>\n",
       "      <td>2016-03-09 07:36:58</td>\n",
       "      <td>600</td>\n",
       "      <td>1910</td>\n",
       "      <td>5000</td>\n",
       "      <td>2016-03-09</td>\n",
       "    </tr>\n",
       "    <tr>\n",
       "      <th>50141</th>\n",
       "      <td>2016-03-14 22:54:43</td>\n",
       "      <td>50</td>\n",
       "      <td>9999</td>\n",
       "      <td>10000</td>\n",
       "      <td>2016-03-14</td>\n",
       "    </tr>\n",
       "    <tr>\n",
       "      <th>50269</th>\n",
       "      <td>2016-04-02 11:55:11</td>\n",
       "      <td>200</td>\n",
       "      <td>5900</td>\n",
       "      <td>10000</td>\n",
       "      <td>2016-04-02</td>\n",
       "    </tr>\n",
       "    <tr>\n",
       "      <th>52323</th>\n",
       "      <td>2016-03-31 06:36:59</td>\n",
       "      <td>500</td>\n",
       "      <td>1945</td>\n",
       "      <td>100000</td>\n",
       "      <td>2016-03-31</td>\n",
       "    </tr>\n",
       "    <tr>\n",
       "      <th>53577</th>\n",
       "      <td>2016-03-20 11:44:28</td>\n",
       "      <td>330</td>\n",
       "      <td>1000</td>\n",
       "      <td>5000</td>\n",
       "      <td>2016-03-20</td>\n",
       "    </tr>\n",
       "    <tr>\n",
       "      <th>53678</th>\n",
       "      <td>2016-03-29 22:39:32</td>\n",
       "      <td>7999</td>\n",
       "      <td>5911</td>\n",
       "      <td>10000</td>\n",
       "      <td>2016-03-29</td>\n",
       "    </tr>\n",
       "  </tbody>\n",
       "</table>\n",
       "</div>"
      ],
      "text/plain": [
       "             date_crawled  price  registration_year  kilometer date_created\n",
       "15    2016-03-11 21:39:15    450               1910       5000   2016-03-11\n",
       "622   2016-03-16 16:55:09      0               1111       5000   2016-03-16\n",
       "1928  2016-03-25 15:58:21   7000               1945     150000   2016-03-25\n",
       "2273  2016-03-15 21:44:32   1800               1925       5000   2016-03-15\n",
       "6629  2016-04-02 13:47:16      0               1910       5000   2016-04-02\n",
       "6977  2016-03-24 08:37:22    135               1910       5000   2016-03-24\n",
       "10183 2016-03-27 13:59:08   1250               1910       5000   2016-03-27\n",
       "12946 2016-03-29 18:39:40     49               5000       5000   2016-03-29\n",
       "15147 2016-03-14 00:52:02      0               9999      10000   2016-03-13\n",
       "15870 2016-04-02 11:55:48   1700               3200       5000   2016-04-02\n",
       "16062 2016-03-29 23:42:16    190               1000       5000   2016-03-29\n",
       "16635 2016-03-09 10:54:11   9500               1941      40000   2016-03-09\n",
       "17271 2016-03-23 16:43:29    700               9999      10000   2016-03-23\n",
       "17346 2016-03-06 16:06:20   6500               8888      10000   2016-03-06\n",
       "18023 2016-03-24 08:57:13      1               1910       5000   2016-03-24\n",
       "18224 2016-03-09 17:49:44   7999               1500       5000   2016-03-09\n",
       "18259 2016-03-16 20:37:54    300               2200       5000   2016-03-16\n",
       "20159 2016-04-01 21:57:05   1600               4100       5000   2016-04-01\n",
       "22621 2016-03-23 11:37:57  14000               1929       5000   2016-03-23\n",
       "23750 2016-03-16 19:58:34   3900               1910     150000   2016-03-16\n",
       "24458 2016-03-29 19:50:03     50               1910       5000   2016-03-29\n",
       "26216 2016-03-16 21:43:10  15000               1940       5000   2016-03-16\n",
       "26382 2016-03-07 20:50:57    150               3000       5000   2016-03-07\n",
       "26560 2016-03-24 17:45:47    800               2066       5000   2016-03-24\n",
       "26579 2016-03-21 00:58:23      0               1910     150000   2016-03-21\n",
       "27525 2016-03-12 20:54:39  13300               1949      60000   2016-03-12\n",
       "28390 2016-04-05 08:57:08    799               9999      10000   2016-04-05\n",
       "28965 2016-04-04 22:54:47  18000               9999      10000   2016-04-04\n",
       "29383 2016-03-09 14:54:30      0               1910       5000   2016-03-09\n",
       "29426 2016-03-23 21:52:25   7999               9999      10000   2016-03-23\n",
       "29516 2016-03-22 08:53:29     80               1910     150000   2016-03-22\n",
       "29933 2016-03-09 13:47:22  12900               1940     150000   2016-03-09\n",
       "33638 2016-03-16 09:47:50   5400               1937      20000   2016-03-16\n",
       "34055 2016-03-25 00:55:47   2900               1937      40000   2016-03-25\n",
       "34332 2016-04-01 06:02:10    450               1800       5000   2016-04-01\n",
       "35943 2016-03-19 10:57:31    200               1910     150000   2016-03-19\n",
       "37953 2016-03-07 22:51:16   9500               1937      20000   2016-03-07\n",
       "38875 2016-03-19 23:54:40   1234               1234       5000   2016-03-19\n",
       "40133 2016-03-23 18:00:01      0               1910       5000   2016-03-23\n",
       "40954 2016-03-07 14:48:23     59               8000      10000   2016-03-07\n",
       "41170 2016-03-05 15:52:15    800               5300      10000   2016-03-05\n",
       "45662 2016-03-23 17:40:00    999               9000      10000   2016-03-23\n",
       "46741 2016-03-12 07:36:23   5000               2900       5000   2016-03-12\n",
       "46935 2016-03-27 06:01:00   4900               6000      10000   2016-03-27\n",
       "48958 2016-03-09 07:36:58    600               1910       5000   2016-03-09\n",
       "50141 2016-03-14 22:54:43     50               9999      10000   2016-03-14\n",
       "50269 2016-04-02 11:55:11    200               5900      10000   2016-04-02\n",
       "52323 2016-03-31 06:36:59    500               1945     100000   2016-03-31\n",
       "53577 2016-03-20 11:44:28    330               1000       5000   2016-03-20\n",
       "53678 2016-03-29 22:39:32   7999               5911      10000   2016-03-29"
      ]
     },
     "execution_count": 35,
     "metadata": {},
     "output_type": "execute_result"
    }
   ],
   "source": [
    "auto.query('registration_year < 1950 or registration_year > 2025')[['date_crawled',\\\n",
    "                                                                    'price',\\\n",
    "                                                                    'registration_year',\\\n",
    "                                                                    'kilometer',\\\n",
    "                                                                    'date_created']].head(50)"
   ]
  },
  {
   "cell_type": "code",
   "execution_count": 36,
   "metadata": {},
   "outputs": [
    {
     "data": {
      "text/plain": [
       "count    331349.000000\n",
       "mean       2003.293379\n",
       "std           6.573388\n",
       "min        1973.000000\n",
       "25%        1999.000000\n",
       "50%        2003.000000\n",
       "75%        2008.000000\n",
       "max        2017.000000\n",
       "Name: registration_year, dtype: float64"
      ]
     },
     "metadata": {},
     "output_type": "display_data"
    },
    {
     "data": {
      "image/png": "[encoded data removed]",
      "text/plain": [
       "<Figure size 648x504 with 1 Axes>"
      ]
     },
     "metadata": {
      "needs_background": "light"
     },
     "output_type": "display_data"
    },
    {
     "data": {
      "image/png": "[encoded data removed]",
      "text/plain": [
       "<Figure size 648x504 with 1 Axes>"
      ]
     },
     "metadata": {
      "needs_background": "light"
     },
     "output_type": "display_data"
    }
   ],
   "source": [
    "num_feature(auto_selected['registration_year'])"
   ]
  },
  {
   "cell_type": "markdown",
   "metadata": {},
   "source": [
    "##### Мощность"
   ]
  },
  {
   "cell_type": "code",
   "execution_count": 37,
   "metadata": {},
   "outputs": [
    {
     "data": {
      "text/plain": [
       "count    331349.000000\n",
       "mean        112.557780\n",
       "std         184.448322\n",
       "min           0.000000\n",
       "25%          73.000000\n",
       "50%         105.000000\n",
       "75%         143.000000\n",
       "max       20000.000000\n",
       "Name: power, dtype: float64"
      ]
     },
     "metadata": {},
     "output_type": "display_data"
    },
    {
     "data": {
      "image/png": "[encoded data removed]",
      "text/plain": [
       "<Figure size 648x504 with 1 Axes>"
      ]
     },
     "metadata": {
      "needs_background": "light"
     },
     "output_type": "display_data"
    },
    {
     "data": {
      "image/png": "[encoded data removed]",
      "text/plain": [
       "<Figure size 648x504 with 1 Axes>"
      ]
     },
     "metadata": {
      "needs_background": "light"
     },
     "output_type": "display_data"
    }
   ],
   "source": [
    "num_feature(auto_selected['power'])"
   ]
  },
  {
   "cell_type": "code",
   "execution_count": 38,
   "metadata": {},
   "outputs": [
    {
     "data": {
      "text/html": [
       "<div>\n",
       "<style scoped>\n",
       "    .dataframe tbody tr th:only-of-type {\n",
       "        vertical-align: middle;\n",
       "    }\n",
       "\n",
       "    .dataframe tbody tr th {\n",
       "        vertical-align: top;\n",
       "    }\n",
       "\n",
       "    .dataframe thead th {\n",
       "        text-align: right;\n",
       "    }\n",
       "</style>\n",
       "<table border=\"1\" class=\"dataframe\">\n",
       "  <thead>\n",
       "    <tr style=\"text-align: right;\">\n",
       "      <th></th>\n",
       "      <th>price</th>\n",
       "      <th>vehicle_type</th>\n",
       "      <th>registration_year</th>\n",
       "      <th>gearbox</th>\n",
       "      <th>power</th>\n",
       "      <th>model</th>\n",
       "      <th>kilometer</th>\n",
       "      <th>registration_month</th>\n",
       "      <th>fuel_type</th>\n",
       "      <th>brand</th>\n",
       "      <th>repaired</th>\n",
       "      <th>date_created</th>\n",
       "      <th>activ_time</th>\n",
       "    </tr>\n",
       "  </thead>\n",
       "  <tbody>\n",
       "    <tr>\n",
       "      <th>1816</th>\n",
       "      <td>3200</td>\n",
       "      <td>small</td>\n",
       "      <td>2004</td>\n",
       "      <td>manual</td>\n",
       "      <td>1398</td>\n",
       "      <td>corolla</td>\n",
       "      <td>5000</td>\n",
       "      <td>6</td>\n",
       "      <td>petrol</td>\n",
       "      <td>toyota</td>\n",
       "      <td>0.0</td>\n",
       "      <td>2016-03-22</td>\n",
       "      <td>0 days 21:43:26</td>\n",
       "    </tr>\n",
       "    <tr>\n",
       "      <th>5328</th>\n",
       "      <td>500</td>\n",
       "      <td>wagon</td>\n",
       "      <td>1999</td>\n",
       "      <td>manual</td>\n",
       "      <td>1001</td>\n",
       "      <td>astra</td>\n",
       "      <td>150000</td>\n",
       "      <td>7</td>\n",
       "      <td>petrol</td>\n",
       "      <td>opel</td>\n",
       "      <td>0.0</td>\n",
       "      <td>2016-03-29</td>\n",
       "      <td>8 days 05:44:36</td>\n",
       "    </tr>\n",
       "    <tr>\n",
       "      <th>7661</th>\n",
       "      <td>1499</td>\n",
       "      <td>small</td>\n",
       "      <td>1999</td>\n",
       "      <td>manual</td>\n",
       "      <td>7515</td>\n",
       "      <td>lupo</td>\n",
       "      <td>150000</td>\n",
       "      <td>4</td>\n",
       "      <td>petrol</td>\n",
       "      <td>volkswagen</td>\n",
       "      <td>0.0</td>\n",
       "      <td>2016-04-02</td>\n",
       "      <td>4 days 11:46:49</td>\n",
       "    </tr>\n",
       "    <tr>\n",
       "      <th>7720</th>\n",
       "      <td>1500</td>\n",
       "      <td>small</td>\n",
       "      <td>2000</td>\n",
       "      <td>manual</td>\n",
       "      <td>1400</td>\n",
       "      <td>other</td>\n",
       "      <td>150000</td>\n",
       "      <td>0</td>\n",
       "      <td>petrol</td>\n",
       "      <td>honda</td>\n",
       "      <td>0.0</td>\n",
       "      <td>2016-04-02</td>\n",
       "      <td>2 days 09:15:26</td>\n",
       "    </tr>\n",
       "    <tr>\n",
       "      <th>9664</th>\n",
       "      <td>2599</td>\n",
       "      <td>other</td>\n",
       "      <td>2016</td>\n",
       "      <td>manual</td>\n",
       "      <td>1779</td>\n",
       "      <td>zafira</td>\n",
       "      <td>150000</td>\n",
       "      <td>0</td>\n",
       "      <td>petrol</td>\n",
       "      <td>opel</td>\n",
       "      <td>0.0</td>\n",
       "      <td>2016-03-14</td>\n",
       "      <td>24 days 09:45:27</td>\n",
       "    </tr>\n",
       "    <tr>\n",
       "      <th>...</th>\n",
       "      <td>...</td>\n",
       "      <td>...</td>\n",
       "      <td>...</td>\n",
       "      <td>...</td>\n",
       "      <td>...</td>\n",
       "      <td>...</td>\n",
       "      <td>...</td>\n",
       "      <td>...</td>\n",
       "      <td>...</td>\n",
       "      <td>...</td>\n",
       "      <td>...</td>\n",
       "      <td>...</td>\n",
       "      <td>...</td>\n",
       "    </tr>\n",
       "    <tr>\n",
       "      <th>348883</th>\n",
       "      <td>7500</td>\n",
       "      <td>sedan</td>\n",
       "      <td>2011</td>\n",
       "      <td>manual</td>\n",
       "      <td>1548</td>\n",
       "      <td>scenic</td>\n",
       "      <td>90000</td>\n",
       "      <td>4</td>\n",
       "      <td>petrol</td>\n",
       "      <td>renault</td>\n",
       "      <td>0.0</td>\n",
       "      <td>2016-03-13</td>\n",
       "      <td>24 days 15:17:39</td>\n",
       "    </tr>\n",
       "    <tr>\n",
       "      <th>348968</th>\n",
       "      <td>250</td>\n",
       "      <td>small</td>\n",
       "      <td>1999</td>\n",
       "      <td>manual</td>\n",
       "      <td>1241</td>\n",
       "      <td>ypsilon</td>\n",
       "      <td>150000</td>\n",
       "      <td>5</td>\n",
       "      <td>petrol</td>\n",
       "      <td>lancia</td>\n",
       "      <td>1.0</td>\n",
       "      <td>2016-04-04</td>\n",
       "      <td>0 days 18:53:25</td>\n",
       "    </tr>\n",
       "    <tr>\n",
       "      <th>351947</th>\n",
       "      <td>1500</td>\n",
       "      <td>bus</td>\n",
       "      <td>2001</td>\n",
       "      <td>manual</td>\n",
       "      <td>1001</td>\n",
       "      <td>zafira</td>\n",
       "      <td>5000</td>\n",
       "      <td>7</td>\n",
       "      <td>petrol</td>\n",
       "      <td>opel</td>\n",
       "      <td>0.0</td>\n",
       "      <td>2016-03-07</td>\n",
       "      <td>2 days 12:47:08</td>\n",
       "    </tr>\n",
       "    <tr>\n",
       "      <th>353493</th>\n",
       "      <td>12500</td>\n",
       "      <td>other</td>\n",
       "      <td>2017</td>\n",
       "      <td>manual</td>\n",
       "      <td>2000</td>\n",
       "      <td>other</td>\n",
       "      <td>60000</td>\n",
       "      <td>0</td>\n",
       "      <td>petrol</td>\n",
       "      <td>chrysler</td>\n",
       "      <td>0.0</td>\n",
       "      <td>2016-04-02</td>\n",
       "      <td>4 days 21:44:39</td>\n",
       "    </tr>\n",
       "    <tr>\n",
       "      <th>354260</th>\n",
       "      <td>399</td>\n",
       "      <td>other</td>\n",
       "      <td>1994</td>\n",
       "      <td>manual</td>\n",
       "      <td>1103</td>\n",
       "      <td>3er</td>\n",
       "      <td>150000</td>\n",
       "      <td>0</td>\n",
       "      <td>petrol</td>\n",
       "      <td>bmw</td>\n",
       "      <td>0.0</td>\n",
       "      <td>2016-03-09</td>\n",
       "      <td>8 days 09:17:08</td>\n",
       "    </tr>\n",
       "  </tbody>\n",
       "</table>\n",
       "<p>268 rows × 13 columns</p>\n",
       "</div>"
      ],
      "text/plain": [
       "        price vehicle_type  registration_year gearbox  power    model  \\\n",
       "1816     3200        small               2004  manual   1398  corolla   \n",
       "5328      500        wagon               1999  manual   1001    astra   \n",
       "7661     1499        small               1999  manual   7515     lupo   \n",
       "7720     1500        small               2000  manual   1400    other   \n",
       "9664     2599        other               2016  manual   1779   zafira   \n",
       "...       ...          ...                ...     ...    ...      ...   \n",
       "348883   7500        sedan               2011  manual   1548   scenic   \n",
       "348968    250        small               1999  manual   1241  ypsilon   \n",
       "351947   1500          bus               2001  manual   1001   zafira   \n",
       "353493  12500        other               2017  manual   2000    other   \n",
       "354260    399        other               1994  manual   1103      3er   \n",
       "\n",
       "        kilometer  registration_month fuel_type       brand  repaired  \\\n",
       "1816         5000                   6    petrol      toyota       0.0   \n",
       "5328       150000                   7    petrol        opel       0.0   \n",
       "7661       150000                   4    petrol  volkswagen       0.0   \n",
       "7720       150000                   0    petrol       honda       0.0   \n",
       "9664       150000                   0    petrol        opel       0.0   \n",
       "...           ...                 ...       ...         ...       ...   \n",
       "348883      90000                   4    petrol     renault       0.0   \n",
       "348968     150000                   5    petrol      lancia       1.0   \n",
       "351947       5000                   7    petrol        opel       0.0   \n",
       "353493      60000                   0    petrol    chrysler       0.0   \n",
       "354260     150000                   0    petrol         bmw       0.0   \n",
       "\n",
       "       date_created       activ_time  \n",
       "1816     2016-03-22  0 days 21:43:26  \n",
       "5328     2016-03-29  8 days 05:44:36  \n",
       "7661     2016-04-02  4 days 11:46:49  \n",
       "7720     2016-04-02  2 days 09:15:26  \n",
       "9664     2016-03-14 24 days 09:45:27  \n",
       "...             ...              ...  \n",
       "348883   2016-03-13 24 days 15:17:39  \n",
       "348968   2016-04-04  0 days 18:53:25  \n",
       "351947   2016-03-07  2 days 12:47:08  \n",
       "353493   2016-04-02  4 days 21:44:39  \n",
       "354260   2016-03-09  8 days 09:17:08  \n",
       "\n",
       "[268 rows x 13 columns]"
      ]
     },
     "execution_count": 38,
     "metadata": {},
     "output_type": "execute_result"
    }
   ],
   "source": [
    "auto_selected.query('power > 1000')"
   ]
  },
  {
   "cell_type": "code",
   "execution_count": 39,
   "metadata": {},
   "outputs": [
    {
     "data": {
      "text/html": [
       "<div>\n",
       "<style scoped>\n",
       "    .dataframe tbody tr th:only-of-type {\n",
       "        vertical-align: middle;\n",
       "    }\n",
       "\n",
       "    .dataframe tbody tr th {\n",
       "        vertical-align: top;\n",
       "    }\n",
       "\n",
       "    .dataframe thead th {\n",
       "        text-align: right;\n",
       "    }\n",
       "</style>\n",
       "<table border=\"1\" class=\"dataframe\">\n",
       "  <thead>\n",
       "    <tr style=\"text-align: right;\">\n",
       "      <th></th>\n",
       "      <th>price</th>\n",
       "      <th>vehicle_type</th>\n",
       "      <th>registration_year</th>\n",
       "      <th>gearbox</th>\n",
       "      <th>power</th>\n",
       "      <th>model</th>\n",
       "      <th>kilometer</th>\n",
       "      <th>registration_month</th>\n",
       "      <th>fuel_type</th>\n",
       "      <th>brand</th>\n",
       "      <th>repaired</th>\n",
       "      <th>date_created</th>\n",
       "      <th>activ_time</th>\n",
       "    </tr>\n",
       "  </thead>\n",
       "  <tbody>\n",
       "    <tr>\n",
       "      <th>0</th>\n",
       "      <td>480</td>\n",
       "      <td>other</td>\n",
       "      <td>1993</td>\n",
       "      <td>manual</td>\n",
       "      <td>0</td>\n",
       "      <td>golf</td>\n",
       "      <td>150000</td>\n",
       "      <td>0</td>\n",
       "      <td>petrol</td>\n",
       "      <td>volkswagen</td>\n",
       "      <td>0.0</td>\n",
       "      <td>2016-03-24</td>\n",
       "      <td>14 days 03:16:57</td>\n",
       "    </tr>\n",
       "    <tr>\n",
       "      <th>32</th>\n",
       "      <td>245</td>\n",
       "      <td>sedan</td>\n",
       "      <td>1994</td>\n",
       "      <td>manual</td>\n",
       "      <td>0</td>\n",
       "      <td>golf</td>\n",
       "      <td>150000</td>\n",
       "      <td>2</td>\n",
       "      <td>petrol</td>\n",
       "      <td>volkswagen</td>\n",
       "      <td>0.0</td>\n",
       "      <td>2016-03-15</td>\n",
       "      <td>2 days 18:17:43</td>\n",
       "    </tr>\n",
       "    <tr>\n",
       "      <th>37</th>\n",
       "      <td>1500</td>\n",
       "      <td>other</td>\n",
       "      <td>2016</td>\n",
       "      <td>manual</td>\n",
       "      <td>0</td>\n",
       "      <td>kangoo</td>\n",
       "      <td>150000</td>\n",
       "      <td>1</td>\n",
       "      <td>petrol</td>\n",
       "      <td>renault</td>\n",
       "      <td>0.0</td>\n",
       "      <td>2016-03-28</td>\n",
       "      <td>2 days 09:18:02</td>\n",
       "    </tr>\n",
       "    <tr>\n",
       "      <th>54</th>\n",
       "      <td>4700</td>\n",
       "      <td>wagon</td>\n",
       "      <td>2005</td>\n",
       "      <td>manual</td>\n",
       "      <td>0</td>\n",
       "      <td>signum</td>\n",
       "      <td>150000</td>\n",
       "      <td>0</td>\n",
       "      <td>petrol</td>\n",
       "      <td>opel</td>\n",
       "      <td>0.0</td>\n",
       "      <td>2016-03-17</td>\n",
       "      <td>18 days 04:17:32</td>\n",
       "    </tr>\n",
       "    <tr>\n",
       "      <th>55</th>\n",
       "      <td>550</td>\n",
       "      <td>wagon</td>\n",
       "      <td>1999</td>\n",
       "      <td>manual</td>\n",
       "      <td>0</td>\n",
       "      <td>astra</td>\n",
       "      <td>150000</td>\n",
       "      <td>8</td>\n",
       "      <td>petrol</td>\n",
       "      <td>opel</td>\n",
       "      <td>1.0</td>\n",
       "      <td>2016-03-26</td>\n",
       "      <td>6 days 23:17:27</td>\n",
       "    </tr>\n",
       "    <tr>\n",
       "      <th>...</th>\n",
       "      <td>...</td>\n",
       "      <td>...</td>\n",
       "      <td>...</td>\n",
       "      <td>...</td>\n",
       "      <td>...</td>\n",
       "      <td>...</td>\n",
       "      <td>...</td>\n",
       "      <td>...</td>\n",
       "      <td>...</td>\n",
       "      <td>...</td>\n",
       "      <td>...</td>\n",
       "      <td>...</td>\n",
       "      <td>...</td>\n",
       "    </tr>\n",
       "    <tr>\n",
       "      <th>354336</th>\n",
       "      <td>3299</td>\n",
       "      <td>other</td>\n",
       "      <td>2005</td>\n",
       "      <td>auto</td>\n",
       "      <td>0</td>\n",
       "      <td>outlander</td>\n",
       "      <td>150000</td>\n",
       "      <td>4</td>\n",
       "      <td>petrol</td>\n",
       "      <td>mitsubishi</td>\n",
       "      <td>0.0</td>\n",
       "      <td>2016-03-05</td>\n",
       "      <td>1 days 04:17:37</td>\n",
       "    </tr>\n",
       "    <tr>\n",
       "      <th>354346</th>\n",
       "      <td>2600</td>\n",
       "      <td>other</td>\n",
       "      <td>2005</td>\n",
       "      <td>auto</td>\n",
       "      <td>0</td>\n",
       "      <td>c_klasse</td>\n",
       "      <td>150000</td>\n",
       "      <td>9</td>\n",
       "      <td>petrol</td>\n",
       "      <td>mercedes_benz</td>\n",
       "      <td>0.0</td>\n",
       "      <td>2016-03-07</td>\n",
       "      <td>1 days 21:28:38</td>\n",
       "    </tr>\n",
       "    <tr>\n",
       "      <th>354360</th>\n",
       "      <td>3999</td>\n",
       "      <td>wagon</td>\n",
       "      <td>2005</td>\n",
       "      <td>manual</td>\n",
       "      <td>3</td>\n",
       "      <td>3er</td>\n",
       "      <td>150000</td>\n",
       "      <td>5</td>\n",
       "      <td>petrol</td>\n",
       "      <td>bmw</td>\n",
       "      <td>0.0</td>\n",
       "      <td>2016-04-02</td>\n",
       "      <td>4 days 20:47:12</td>\n",
       "    </tr>\n",
       "    <tr>\n",
       "      <th>354363</th>\n",
       "      <td>1150</td>\n",
       "      <td>bus</td>\n",
       "      <td>2000</td>\n",
       "      <td>manual</td>\n",
       "      <td>0</td>\n",
       "      <td>zafira</td>\n",
       "      <td>150000</td>\n",
       "      <td>3</td>\n",
       "      <td>petrol</td>\n",
       "      <td>opel</td>\n",
       "      <td>0.0</td>\n",
       "      <td>2016-03-27</td>\n",
       "      <td>2 days 10:17:23</td>\n",
       "    </tr>\n",
       "    <tr>\n",
       "      <th>354365</th>\n",
       "      <td>2200</td>\n",
       "      <td>other</td>\n",
       "      <td>2005</td>\n",
       "      <td>manual</td>\n",
       "      <td>0</td>\n",
       "      <td>other</td>\n",
       "      <td>20000</td>\n",
       "      <td>1</td>\n",
       "      <td>petrol</td>\n",
       "      <td>sonstige_autos</td>\n",
       "      <td>0.0</td>\n",
       "      <td>2016-03-14</td>\n",
       "      <td>23 days 00:46:52</td>\n",
       "    </tr>\n",
       "  </tbody>\n",
       "</table>\n",
       "<p>32311 rows × 13 columns</p>\n",
       "</div>"
      ],
      "text/plain": [
       "        price vehicle_type  registration_year gearbox  power      model  \\\n",
       "0         480        other               1993  manual      0       golf   \n",
       "32        245        sedan               1994  manual      0       golf   \n",
       "37       1500        other               2016  manual      0     kangoo   \n",
       "54       4700        wagon               2005  manual      0     signum   \n",
       "55        550        wagon               1999  manual      0      astra   \n",
       "...       ...          ...                ...     ...    ...        ...   \n",
       "354336   3299        other               2005    auto      0  outlander   \n",
       "354346   2600        other               2005    auto      0   c_klasse   \n",
       "354360   3999        wagon               2005  manual      3        3er   \n",
       "354363   1150          bus               2000  manual      0     zafira   \n",
       "354365   2200        other               2005  manual      0      other   \n",
       "\n",
       "        kilometer  registration_month fuel_type           brand  repaired  \\\n",
       "0          150000                   0    petrol      volkswagen       0.0   \n",
       "32         150000                   2    petrol      volkswagen       0.0   \n",
       "37         150000                   1    petrol         renault       0.0   \n",
       "54         150000                   0    petrol            opel       0.0   \n",
       "55         150000                   8    petrol            opel       1.0   \n",
       "...           ...                 ...       ...             ...       ...   \n",
       "354336     150000                   4    petrol      mitsubishi       0.0   \n",
       "354346     150000                   9    petrol   mercedes_benz       0.0   \n",
       "354360     150000                   5    petrol             bmw       0.0   \n",
       "354363     150000                   3    petrol            opel       0.0   \n",
       "354365      20000                   1    petrol  sonstige_autos       0.0   \n",
       "\n",
       "       date_created       activ_time  \n",
       "0        2016-03-24 14 days 03:16:57  \n",
       "32       2016-03-15  2 days 18:17:43  \n",
       "37       2016-03-28  2 days 09:18:02  \n",
       "54       2016-03-17 18 days 04:17:32  \n",
       "55       2016-03-26  6 days 23:17:27  \n",
       "...             ...              ...  \n",
       "354336   2016-03-05  1 days 04:17:37  \n",
       "354346   2016-03-07  1 days 21:28:38  \n",
       "354360   2016-04-02  4 days 20:47:12  \n",
       "354363   2016-03-27  2 days 10:17:23  \n",
       "354365   2016-03-14 23 days 00:46:52  \n",
       "\n",
       "[32311 rows x 13 columns]"
      ]
     },
     "execution_count": 39,
     "metadata": {},
     "output_type": "execute_result"
    }
   ],
   "source": [
    "auto_selected.query('power < 10')"
   ]
  },
  {
   "cell_type": "markdown",
   "metadata": {},
   "source": [
    "Анализ показал, что есть немалое количество данных с авто мощностью 0 л.с., что невозможно. Наиболее вероятно, люди, заполняющие данные по автомобилю указывали 0 в том случае, если не знали точное количество лошадиных сил в своем авто.\n",
    "\n",
    "Для того, чтобы избежать потери около 10% данных датасета, можно сделать категоризацию данного признака, а именно выделить 5 категорий авто:\n",
    "* без двигателя - 0 л.с.,\n",
    "* маломощные - до 100 л.с.,\n",
    "* срдней мощности - 100 - 200 л.с.,\n",
    "* мощные - 200 - 300 л.с.,\n",
    "* особой мощности - более 300 л.с.\n",
    "\n",
    "Людей, которые не заполнили информацию о мощности авто, вероятнее мало волнует количество лошадиных сил. Поэтому, можно предположить, что их авто вероятнее всего попадут в категорию маломощных.\n",
    "\n",
    "Авто с мощностью более 1000 л.с. можно исключить из анализа, так как такие данные могут  лишь зашумить общую картину."
   ]
  },
  {
   "cell_type": "code",
   "execution_count": 40,
   "metadata": {},
   "outputs": [],
   "source": [
    "auto_selected = auto_selected.query('power < 1000')"
   ]
  },
  {
   "cell_type": "code",
   "execution_count": 41,
   "metadata": {},
   "outputs": [],
   "source": [
    "def power_cat(value):\n",
    "    if value == 0:\n",
    "        return 0\n",
    "    if value < 100:\n",
    "        return 1\n",
    "    if value < 200:\n",
    "        return 2\n",
    "    if value < 300:\n",
    "        return 3\n",
    "    else:\n",
    "        return 4"
   ]
  },
  {
   "cell_type": "code",
   "execution_count": 42,
   "metadata": {},
   "outputs": [],
   "source": [
    "auto_selected['power_cat'] = auto_selected['power'].map(power_cat)"
   ]
  },
  {
   "cell_type": "code",
   "execution_count": 43,
   "metadata": {},
   "outputs": [
    {
     "data": {
      "image/png": "[encoded data removed]",
      "text/plain": [
       "<Figure size 648x504 with 1 Axes>"
      ]
     },
     "metadata": {
      "needs_background": "light"
     },
     "output_type": "display_data"
    }
   ],
   "source": [
    "auto_selected.groupby('power_cat')['price'].count().plot(kind = 'bar',\n",
    "                                                         figsize = (9,7),\n",
    "                                                        edgecolor='black',\n",
    "                                                        grid = True)\n",
    "plt.title('Столбчатая диаграмма мощности', size = 12)\n",
    "plt.xlabel('Категория мощности')\n",
    "plt.ylabel('Количество авто в категории')\n",
    "plt.show()"
   ]
  },
  {
   "cell_type": "code",
   "execution_count": 44,
   "metadata": {},
   "outputs": [],
   "source": [
    "auto_selected = auto_selected.drop('power', axis = 1)"
   ]
  },
  {
   "cell_type": "code",
   "execution_count": 45,
   "metadata": {},
   "outputs": [
    {
     "data": {
      "text/html": [
       "<div>\n",
       "<style scoped>\n",
       "    .dataframe tbody tr th:only-of-type {\n",
       "        vertical-align: middle;\n",
       "    }\n",
       "\n",
       "    .dataframe tbody tr th {\n",
       "        vertical-align: top;\n",
       "    }\n",
       "\n",
       "    .dataframe thead th {\n",
       "        text-align: right;\n",
       "    }\n",
       "</style>\n",
       "<table border=\"1\" class=\"dataframe\">\n",
       "  <thead>\n",
       "    <tr style=\"text-align: right;\">\n",
       "      <th></th>\n",
       "      <th>price</th>\n",
       "      <th>registration_year</th>\n",
       "      <th>kilometer</th>\n",
       "      <th>registration_month</th>\n",
       "      <th>repaired</th>\n",
       "      <th>activ_time</th>\n",
       "      <th>power_cat</th>\n",
       "    </tr>\n",
       "  </thead>\n",
       "  <tbody>\n",
       "    <tr>\n",
       "      <th>count</th>\n",
       "      <td>331079.000000</td>\n",
       "      <td>331079.000000</td>\n",
       "      <td>331079.000000</td>\n",
       "      <td>331079.000000</td>\n",
       "      <td>331079.000000</td>\n",
       "      <td>331079</td>\n",
       "      <td>331079.000000</td>\n",
       "    </tr>\n",
       "    <tr>\n",
       "      <th>mean</th>\n",
       "      <td>4638.408785</td>\n",
       "      <td>2003.293851</td>\n",
       "      <td>128729.985895</td>\n",
       "      <td>5.842636</td>\n",
       "      <td>0.095666</td>\n",
       "      <td>9 days 06:13:58.035662183</td>\n",
       "      <td>1.566617</td>\n",
       "    </tr>\n",
       "    <tr>\n",
       "      <th>std</th>\n",
       "      <td>4510.900919</td>\n",
       "      <td>6.573337</td>\n",
       "      <td>36869.914350</td>\n",
       "      <td>3.673778</td>\n",
       "      <td>0.294133</td>\n",
       "      <td>8 days 15:15:07.530165164</td>\n",
       "      <td>0.788367</td>\n",
       "    </tr>\n",
       "    <tr>\n",
       "      <th>min</th>\n",
       "      <td>200.000000</td>\n",
       "      <td>1973.000000</td>\n",
       "      <td>5000.000000</td>\n",
       "      <td>0.000000</td>\n",
       "      <td>0.000000</td>\n",
       "      <td>0 days 00:36:14</td>\n",
       "      <td>0.000000</td>\n",
       "    </tr>\n",
       "    <tr>\n",
       "      <th>25%</th>\n",
       "      <td>1250.000000</td>\n",
       "      <td>1999.000000</td>\n",
       "      <td>125000.000000</td>\n",
       "      <td>3.000000</td>\n",
       "      <td>0.000000</td>\n",
       "      <td>2 days 13:17:30</td>\n",
       "      <td>1.000000</td>\n",
       "    </tr>\n",
       "    <tr>\n",
       "      <th>50%</th>\n",
       "      <td>2950.000000</td>\n",
       "      <td>2003.000000</td>\n",
       "      <td>150000.000000</td>\n",
       "      <td>6.000000</td>\n",
       "      <td>0.000000</td>\n",
       "      <td>6 days 11:45:59</td>\n",
       "      <td>2.000000</td>\n",
       "    </tr>\n",
       "    <tr>\n",
       "      <th>75%</th>\n",
       "      <td>6600.000000</td>\n",
       "      <td>2008.000000</td>\n",
       "      <td>150000.000000</td>\n",
       "      <td>9.000000</td>\n",
       "      <td>0.000000</td>\n",
       "      <td>14 days 00:15:55</td>\n",
       "      <td>2.000000</td>\n",
       "    </tr>\n",
       "    <tr>\n",
       "      <th>max</th>\n",
       "      <td>20000.000000</td>\n",
       "      <td>2017.000000</td>\n",
       "      <td>150000.000000</td>\n",
       "      <td>12.000000</td>\n",
       "      <td>1.000000</td>\n",
       "      <td>759 days 04:46:24</td>\n",
       "      <td>4.000000</td>\n",
       "    </tr>\n",
       "  </tbody>\n",
       "</table>\n",
       "</div>"
      ],
      "text/plain": [
       "               price  registration_year      kilometer  registration_month  \\\n",
       "count  331079.000000      331079.000000  331079.000000       331079.000000   \n",
       "mean     4638.408785        2003.293851  128729.985895            5.842636   \n",
       "std      4510.900919           6.573337   36869.914350            3.673778   \n",
       "min       200.000000        1973.000000    5000.000000            0.000000   \n",
       "25%      1250.000000        1999.000000  125000.000000            3.000000   \n",
       "50%      2950.000000        2003.000000  150000.000000            6.000000   \n",
       "75%      6600.000000        2008.000000  150000.000000            9.000000   \n",
       "max     20000.000000        2017.000000  150000.000000           12.000000   \n",
       "\n",
       "            repaired                 activ_time      power_cat  \n",
       "count  331079.000000                     331079  331079.000000  \n",
       "mean        0.095666  9 days 06:13:58.035662183       1.566617  \n",
       "std         0.294133  8 days 15:15:07.530165164       0.788367  \n",
       "min         0.000000            0 days 00:36:14       0.000000  \n",
       "25%         0.000000            2 days 13:17:30       1.000000  \n",
       "50%         0.000000            6 days 11:45:59       2.000000  \n",
       "75%         0.000000           14 days 00:15:55       2.000000  \n",
       "max         1.000000          759 days 04:46:24       4.000000  "
      ]
     },
     "execution_count": 45,
     "metadata": {},
     "output_type": "execute_result"
    }
   ],
   "source": [
    "auto_selected.describe()"
   ]
  },
  {
   "cell_type": "markdown",
   "metadata": {},
   "source": [
    "**Вывод**: выполнена загрузка данных, подготовка, в ходе которой:\n",
    " \n",
    "1) приведены к змеиному языку названий столбцов;\n",
    "\n",
    "2) приведены столбцы, содержащие информацию о дате и времени, к формату datetime;\n",
    "\n",
    "3) обнаружены и исключены из анализа столбцы, непредоставляющий полезной информации;\n",
    "\n",
    "4) обработаны пропуски в данных;\n",
    "\n",
    "5) исключены строки-дубликаты из анализа;\n",
    "\n",
    "6) обработаны аномальные значения в столбцах цена, год регистрации и мощность."
   ]
  },
  {
   "cell_type": "markdown",
   "metadata": {},
   "source": [
    "## Обучение моделей"
   ]
  },
  {
   "cell_type": "markdown",
   "metadata": {},
   "source": [
    "Зафиксируем необходимые константы"
   ]
  },
  {
   "cell_type": "code",
   "execution_count": null,
   "metadata": {},
   "outputs": [],
   "source": [
    "RANDOM_STATE = 42\n",
    "TEST_SIZE = 0.25"
   ]
  },
  {
   "cell_type": "markdown",
   "metadata": {},
   "source": [
    "Переведем datetime в float для возможности скалирования"
   ]
  },
  {
   "cell_type": "code",
   "execution_count": null,
   "metadata": {},
   "outputs": [],
   "source": [
    "auto_selected['date_created'] = auto_selected['date_created'].map(pd.Timestamp.timestamp)"
   ]
  },
  {
   "cell_type": "code",
   "execution_count": null,
   "metadata": {},
   "outputs": [],
   "source": [
    "auto_selected['activ_time'] = auto_selected['activ_time']/pd.Timedelta(1, unit = 'day')"
   ]
  },
  {
   "cell_type": "markdown",
   "metadata": {},
   "source": [
    "Разобъем данные на тестовую и тренировочную выборки"
   ]
  },
  {
   "cell_type": "code",
   "execution_count": null,
   "metadata": {},
   "outputs": [],
   "source": [
    "X_train,X_test,y_train,y_test = train_test_split(\n",
    "    auto_selected.drop('price', axis = 1),\n",
    "    auto_selected['price'],\n",
    "    test_size = TEST_SIZE,\n",
    "    random_state = RANDOM_STATE)"
   ]
  },
  {
   "cell_type": "code",
   "execution_count": null,
   "metadata": {},
   "outputs": [],
   "source": [
    "X_train,X_val,y_train,y_val = train_test_split(\n",
    "    X_train,\n",
    "    y_train,\n",
    "    test_size = TEST_SIZE,\n",
    "    random_state = RANDOM_STATE)"
   ]
  },
  {
   "cell_type": "markdown",
   "metadata": {},
   "source": [
    "Отделим категорийные признаки от числовых"
   ]
  },
  {
   "cell_type": "code",
   "execution_count": null,
   "metadata": {},
   "outputs": [],
   "source": [
    "num_cols = X_train.select_dtypes('number').columns.tolist()\n",
    "num_cols"
   ]
  },
  {
   "cell_type": "code",
   "execution_count": null,
   "metadata": {},
   "outputs": [],
   "source": [
    "ohe_cols = X_train.columns.drop(num_cols).tolist()\n",
    "\n",
    "ohe_cols"
   ]
  },
  {
   "cell_type": "code",
   "execution_count": null,
   "metadata": {},
   "outputs": [],
   "source": [
    "preprocessor = ColumnTransformer(\n",
    "[\n",
    "    ('ohe', OneHotEncoder(handle_unknown = 'ignore', drop = 'first'), ohe_cols),\n",
    "    ('num', StandardScaler(),num_cols)\n",
    "], remainder = 'passthrough')"
   ]
  },
  {
   "cell_type": "markdown",
   "metadata": {},
   "source": [
    "### Дерево регрессии"
   ]
  },
  {
   "cell_type": "code",
   "execution_count": null,
   "metadata": {},
   "outputs": [],
   "source": [
    "def tree_objective(trial):\n",
    "    max_depth = trial.suggest_int('max_depth', 5, 15)\n",
    "    min_samples_split = trial.suggest_int('min_samples_split', 10, 20)\n",
    "    min_samples_leaf = trial.suggest_int('min_samples_leaf', 5, 10)\n",
    "    reg = Pipeline(steps=[\n",
    "            ('preprocessor', preprocessor),\n",
    "            ('regressor', DecisionTreeRegressor(max_depth=max_depth,\n",
    "                                               min_samples_split=min_samples_split,\n",
    "                                               min_samples_leaf=min_samples_leaf,\n",
    "                                               random_state=RANDOM_STATE))\n",
    "        ])\n",
    "    \n",
    "    \n",
    "    reg.fit(X_train, y_train)\n",
    "    y_pred = reg.predict(X_val)\n",
    "    \n",
    "    mse = mean_squared_error(y_val, y_pred, squared=False)\n",
    "    \n",
    "    return mse"
   ]
  },
  {
   "cell_type": "code",
   "execution_count": null,
   "metadata": {},
   "outputs": [],
   "source": [
    "study = optuna.create_study(direction='minimize')  \n",
    "study.optimize(tree_objective, n_trials=30)"
   ]
  },
  {
   "cell_type": "code",
   "execution_count": null,
   "metadata": {},
   "outputs": [],
   "source": [
    "best_params = study.best_params\n",
    "best_reg = Pipeline(steps=[\n",
    "    ('preprocessor', preprocessor),\n",
    "    ('regressor', DecisionTreeRegressor(max_depth=best_params['max_depth'],\n",
    "                                       min_samples_split=best_params['min_samples_split'],\n",
    "                                       min_samples_leaf=best_params['min_samples_leaf'],\n",
    "                                       random_state=42))\n",
    "])"
   ]
  },
  {
   "cell_type": "code",
   "execution_count": null,
   "metadata": {},
   "outputs": [],
   "source": [
    "%%time\n",
    "best_reg.fit(X_train, y_train)"
   ]
  },
  {
   "cell_type": "code",
   "execution_count": null,
   "metadata": {},
   "outputs": [],
   "source": [
    "tree_time_studing = 6.7"
   ]
  },
  {
   "cell_type": "code",
   "execution_count": null,
   "metadata": {},
   "outputs": [],
   "source": [
    "%%time\n",
    "y_pred_train = best_reg.predict(X_train)"
   ]
  },
  {
   "cell_type": "code",
   "execution_count": null,
   "metadata": {},
   "outputs": [],
   "source": [
    "tree_time_predict = 0.7"
   ]
  },
  {
   "cell_type": "code",
   "execution_count": null,
   "metadata": {},
   "outputs": [],
   "source": [
    "f'Оптимальные гиперпараметры {study.best_params}'"
   ]
  },
  {
   "cell_type": "code",
   "execution_count": null,
   "metadata": {},
   "outputs": [],
   "source": [
    "tree_mse_val = study.best_value\n",
    "f'Достигнутая подбором гиперпараметров величина RMSE для дерева регрессии {tree_mse_val:.2f}'"
   ]
  },
  {
   "cell_type": "raw",
   "metadata": {},
   "source": [
    "tree_time_studing = []\n",
    "for i in range(100):\n",
    "    tic = time.time()\n",
    "    \n",
    "    best_reg.fit(X_train, y_train)\n",
    "    \n",
    "    toc = time.time()\n",
    "    tree_time_studing.append(tic - toc)"
   ]
  },
  {
   "cell_type": "raw",
   "metadata": {},
   "source": [
    "tree_time_predict = []\n",
    "for i in range(100):\n",
    "    tic = time.time()\n",
    "    \n",
    "    y_pred_train = best_reg.predict(X_train)\n",
    "    y_pred_val = best_reg.predict(X_val)\n",
    "    y_pred_test = best_reg.predict(X_test)\n",
    "    \n",
    "    toc = time.time()\n",
    "    tree_time_predict.append(tic - toc)"
   ]
  },
  {
   "cell_type": "markdown",
   "metadata": {},
   "source": [
    "**Результат:** подбор гиперпараметров для дерева регрессии позволил найти оптимальные параметры: 'max_depth': 15, 'min_samples_split': 20, 'min_samples_leaf': 5; RMSE модели с оптимальными параметрами для валидационной выборки - 1931.45 евро, время обучения равно 6.7 с, предсказания - 0.7 с."
   ]
  },
  {
   "cell_type": "markdown",
   "metadata": {},
   "source": [
    "### LGBM"
   ]
  },
  {
   "cell_type": "code",
   "execution_count": null,
   "metadata": {},
   "outputs": [],
   "source": [
    "X_train[ohe_cols] = X_train[ohe_cols].astype('category')\n",
    "X_val[ohe_cols] = X_val[ohe_cols].astype('category')\n",
    "X_test[ohe_cols] = X_test[ohe_cols].astype('category')"
   ]
  },
  {
   "cell_type": "code",
   "execution_count": null,
   "metadata": {},
   "outputs": [],
   "source": [
    "def lgbm_objective(trial):\n",
    "    params = {\n",
    "        'objective': 'regression',\n",
    "        'verbosity': -1,\n",
    "        'boosting_type': 'gbdt',\n",
    "        'random_state': RANDOM_STATE,\n",
    "        'n_estimators': 10000,\n",
    "        \n",
    "        # параметры, которые будем отбирать\n",
    "        'learning_rate': trial.suggest_float('learning_rate', 0.01, 0.3),\n",
    "        'num_leaves': trial.suggest_int('num_leaves', 20, 3000),\n",
    "        'max_depth': trial.suggest_int('max_depth', 3, 15),\n",
    "        'min_child_samples': trial.suggest_int('min_child_samples', 5, 100),\n",
    "        'subsample': trial.suggest_float('subsample', 0.4, 1.0),\n",
    "        'colsample_bytree': trial.suggest_float('colsample_bytree', 0.4, 1.0)\n",
    "\n",
    "    }\n",
    "    \n",
    "    model = lgb.LGBMRegressor(**params)\n",
    "    model.fit(\n",
    "        X_train, y_train,\n",
    "        eval_set=[(X_val, y_val)],\n",
    "        eval_metric='rmse',\n",
    "        callbacks=[early_stopping(stopping_rounds=100)],\n",
    "        categorical_feature=ohe_cols,\n",
    "        \n",
    "    )\n",
    "    \n",
    "    y_pred = model.predict(X_val)\n",
    "    mse = mean_squared_error(y_val, y_pred, squared=False)\n",
    "    return mse"
   ]
  },
  {
   "cell_type": "code",
   "execution_count": null,
   "metadata": {},
   "outputs": [],
   "source": [
    "study = optuna.create_study(direction='minimize')  \n",
    "study.optimize(lgbm_objective, n_trials=10, n_jobs = -1)"
   ]
  },
  {
   "cell_type": "code",
   "execution_count": null,
   "metadata": {},
   "outputs": [],
   "source": [
    "best_params = study.best_params\n",
    "lgbm_reg = lgb.LGBMRegressor(objective = 'regression',\n",
    "                         verbosity = -1,\n",
    "                         boosting_type = 'gbdt',\n",
    "                         random_state = RANDOM_STATE,\n",
    "                         n_estimators = 10000,\n",
    "                        \n",
    "                        learning_rate = best_params['learning_rate'],\n",
    "                        num_leaves = best_params['num_leaves'],\n",
    "                        max_depth = best_params['max_depth'],\n",
    "                        min_child_samples = best_params['min_child_samples'],\n",
    "                        subsample = best_params['subsample'],\n",
    "                        colsample_bytree = best_params['colsample_bytree'])"
   ]
  },
  {
   "cell_type": "code",
   "execution_count": null,
   "metadata": {},
   "outputs": [],
   "source": [
    "%%time\n",
    "lgbm_reg.fit(X_train, \n",
    "                   y_train,\n",
    "                   eval_set=[(X_val, y_val)],\n",
    "                   eval_metric='rmse',\n",
    "                   callbacks=[early_stopping(stopping_rounds=100)],\n",
    "                   categorical_feature=ohe_cols)"
   ]
  },
  {
   "cell_type": "code",
   "execution_count": null,
   "metadata": {},
   "outputs": [],
   "source": [
    "lgbm_time_studing = 79"
   ]
  },
  {
   "cell_type": "code",
   "execution_count": null,
   "metadata": {},
   "outputs": [],
   "source": [
    "%%time\n",
    "y_pred_train = lgbm_reg.predict(X_train)"
   ]
  },
  {
   "cell_type": "code",
   "execution_count": null,
   "metadata": {},
   "outputs": [],
   "source": [
    "lgbm_time_predict = 9.7"
   ]
  },
  {
   "cell_type": "code",
   "execution_count": null,
   "metadata": {},
   "outputs": [],
   "source": [
    "f'Оптимальные гиперпараметры {study.best_params}'"
   ]
  },
  {
   "cell_type": "code",
   "execution_count": null,
   "metadata": {},
   "outputs": [],
   "source": [
    "lgbm_mse_val = study.best_value\n",
    "f'Достигнутая подбором гиперпараметров величина RMSE для градиентного бустинга {lgbm_mse_val:.2f}'"
   ]
  },
  {
   "cell_type": "raw",
   "metadata": {},
   "source": [
    "lgbm_time_studing = []\n",
    "for i in range(100):\n",
    "    tic = time.time()\n",
    "    \n",
    "    lgbm_reg.fit(X_train, \n",
    "                   y_train,\n",
    "                   eval_set=[(X_val, y_val)],\n",
    "                   eval_metric='rmse',\n",
    "                   callbacks=[early_stopping(stopping_rounds=100)],\n",
    "                   categorical_feature=ohe_cols)\n",
    "    \n",
    "    toc = time.time()\n",
    "    lgbm_time_studing.append(toc - tic)"
   ]
  },
  {
   "cell_type": "raw",
   "metadata": {},
   "source": [
    "lgbm_time_predict = []\n",
    "for i in range(100):\n",
    "    tic = time.time()\n",
    "    \n",
    "    y_pred_train = lgbm_reg.predict(X_train)\n",
    "    y_pred_val = lgbm_reg.predict(X_val)\n",
    "    y_pred_test = lgbm_reg.predict(X_test)\n",
    "    \n",
    "    toc = time.time()\n",
    "    lgbm_time_predict.append(toc - tic)"
   ]
  },
  {
   "cell_type": "markdown",
   "metadata": {},
   "source": [
    "**Результат:** подбор гиперпараметров для градиентного бустинга позволил найти оптимальные параметры: 'learning_rate': 0.153, 'num_leaves': 1459, 'max_depth': 8, 'min_child_samples': 25, 'subsample': 0.986, 'colsample_bytree': 0.626; RMSE модели с оптимальными параметрами для валидационной выборки - 1584.39 евро, время обучения равно 79 с, предсказания - 9.7 с"
   ]
  },
  {
   "cell_type": "markdown",
   "metadata": {},
   "source": [
    "**Вывод:** провели обучениемодели дерева регрессии и модели градиентного бустинга, которые показали результаты, удовлетворяющие условию RMSE < 2500: 1931.45 на валидационной выборке для дерева регрессии и 1584.39 - для градиентного бустинга, при этом время обучения и предсказания отличеются на порядок: 6.7 с и 0.7 с - для дерева регрессии; 79 с и 9.7 с - для градиентного бустинга соответственно."
   ]
  },
  {
   "cell_type": "markdown",
   "metadata": {},
   "source": [
    "## Анализ моделей"
   ]
  },
  {
   "cell_type": "code",
   "execution_count": null,
   "metadata": {
    "scrolled": true
   },
   "outputs": [],
   "source": [
    "results = pd.DataFrame(data = {'tree': [round(tree_mse_val,2),\n",
    "                              tree_time_studing,\n",
    "                              tree_time_predict],\n",
    "                             'lgbm':[round(lgbm_mse_val,2),\n",
    "                              lgbm_time_studing,\n",
    "                              lgbm_time_predict]},\n",
    "                      index = ['rmse_val','time_studing','time_predict'])\n",
    "results['%diff'] = round(abs((results['lgbm'] - results['tree'])/results['lgbm'] * 100),2)\n",
    "results"
   ]
  },
  {
   "cell_type": "markdown",
   "metadata": {},
   "source": [
    "Анализ моделей показал, что градиентный бустинг точнее предсказывает целевой показатель как минимум на 20%, однако в то же время, длительность процесса обучения и предсказания на порядок больше, нежели у модели дерева регрессии.\n",
    "Так как обе модели удовлетворяют поставленному условию в RMSE < 2500, к внедрению рекомендуется наиболее быстрая модель: дерево регрессии."
   ]
  },
  {
   "cell_type": "markdown",
   "metadata": {},
   "source": [
    "Предскажем целевой признак выбранной моделью, расчитаем RMSE модели на тестовых данных"
   ]
  },
  {
   "cell_type": "code",
   "execution_count": null,
   "metadata": {},
   "outputs": [],
   "source": [
    "rmse_test = mean_squared_error(y_test,best_reg.predict(X_test), squared = False)"
   ]
  },
  {
   "cell_type": "code",
   "execution_count": null,
   "metadata": {},
   "outputs": [],
   "source": [
    "f'RMSE выбранной модели на тестовой выборке равна {rmse_test:.2f}'"
   ]
  },
  {
   "cell_type": "markdown",
   "metadata": {},
   "source": [
    "**Оценим важность признаков**"
   ]
  },
  {
   "cell_type": "code",
   "execution_count": null,
   "metadata": {},
   "outputs": [],
   "source": [
    "f_imp = pd.Series(index = best_reg.named_steps['preprocessor'].get_feature_names_out(),\n",
    "                  data = abs(best_reg.named_steps['regressor'].feature_importances_))\n",
    "\n",
    "\n",
    "f_imp.sort_values(ascending = False).head(10).plot.bar(figsize = (15,12))\n",
    "plt.title('Анализ важности признаков', size = 15)\n",
    "plt.xlabel('Признаки', size = 12)\n",
    "plt.xticks(rotation=30)\n",
    "plt.ylabel('Коэффициент', size = 12)\n",
    "plt.show()"
   ]
  },
  {
   "cell_type": "markdown",
   "metadata": {},
   "source": [
    "Анализ показывает, что наибольший вес в определении цены за автомобиль игрют признаки, являющиеся общими для всех авто - те, которые задают тренд. Так, в среднем, авто с минимальным возрастом, пробегом и максимальной мощностью будет оценено выше, нежели аналогичное с бОльшим возрастом, пробегом и меньшей мощностью. Также сильное влияние признака категорийной мощности может быть объяснено введением категории 0 - авто без двигателя. Так как он является одной из самых дорогих запчастей, его отсутствие может сильно повлиять на стоимость авто."
   ]
  },
  {
   "cell_type": "markdown",
   "metadata": {},
   "source": [
    "**Вывод:** провели обучениемодели дерева регрессии и модели градиентного бустинга, которые показали результаты, удовлетворяющие условию RMSE < 2500: 1931.45 на валидационной выборке для дерева регрессии и 1584.39 - для градиентного бустинга, при этом время обучения и предсказания отличеются на порядок: 6.7 с и 0.7 с - для дерева регрессии; 27.8 с и 9.7 с - для градиентного бустинга соответственно."
   ]
  },
  {
   "cell_type": "markdown",
   "metadata": {},
   "source": [
    "## Вывод"
   ]
  },
  {
   "cell_type": "markdown",
   "metadata": {},
   "source": [
    "Был проведен исследовательский анализ данных сервиса по продаже автомобилей с пробегом «Не бит, не крашен».\n",
    "\n",
    "**В первой части работы** была выполнена загрузка и предобработка данных при которой были выявлены и устранены пропуски, преобразованы типы данных в некоторых столбцах, найдены и устранены явные дубликаты, проанализированны выбивающиеся значения. В результате предобработки было отсеяно менее 10% данных.\n",
    "\n",
    "Дополнительно исключены из анализа столбцы, непредоставляющие полезной информации: дефектный столбец с количеством фотографий в объявлении, почтовый код владельца, дата выгрузки информации, добавлены новые столбцы: категория мощности авто, разность между созданием объявления и последней активностью в нем - облегчающие дальнейший анализ данных.\n",
    "\n",
    "**Во второй части работы** было проведено обучение моделей, предсказывающих целевой признак - цену авто. \n",
    "\n",
    "*Для дерева регрессии* были найдены оптимальные гиперпараметры: 'max_depth': 15, 'min_samples_split': 20, 'min_samples_leaf': 5, - предсказан целевой признак для валидационной выборки, а также вычислен RMSE модели = 1931.45 евро, время обучения составило 6.7 с, предсказания - 0.7 с.\n",
    "\n",
    "*Для модели градиентного бустинга* аналогично найдены оптимальные гиперпараметры:   'learning_rate': 0.153, 'num_leaves': 1459, 'max_depth': 8, 'min_child_samples': 25, 'subsample': 0.986, 'colsample_bytree': 0.626, - предсказан целевой признак для валидационной выборки, а также вычислен RMSE модели = 1584.39 евро, время обучения составило 27.8 с, предсказания - 9.7 с.\n",
    "\n",
    "Обе модели удовлетворяют условию, поставленному бизнесом: RMSE < 2500.\n",
    "\n",
    "**Анализ моделей** показал, что градиентный бустинг точнее предсказывает целевой показатель на валидационной выборке как минимум на 20%, однако в то же время, длительность процесса обучения и предсказания на порядок больше, нежели у модели дерева регрессии. Так как бизнесом не даны установки по стоимости одного евро в RMSE к 1 с на обучение и предсказание, и обе модели удовлетворяют поставленному условию, рекомендуется для внедрения модель дерева решения, как имеющая большую скорость выполнения операций.\n",
    "\n",
    "Для выбранной модели предсказан целевой признак и вычислена величина RMSE на тестовых данных: 1935.10 евро.\n",
    "\n",
    "Выполлнен анализ важности признаков: наиболее существенными являются год регистрации авто, категория мощности и пробег."
   ]
  }
 ],
 "metadata": {
  "ExecuteTimeLog": [
   {
    "duration": 16123,
    "start_time": "2025-05-28T14:48:51.203Z"
   },
   {
    "duration": 2012,
    "start_time": "2025-05-28T14:49:07.329Z"
   },
   {
    "duration": 966,
    "start_time": "2025-05-28T14:49:09.343Z"
   },
   {
    "duration": 3,
    "start_time": "2025-05-28T14:49:10.312Z"
   },
   {
    "duration": 40,
    "start_time": "2025-05-28T14:49:10.317Z"
   },
   {
    "duration": 415,
    "start_time": "2025-05-28T14:49:10.359Z"
   },
   {
    "duration": 69,
    "start_time": "2025-05-28T16:16:55.744Z"
   },
   {
    "duration": 520,
    "start_time": "2025-05-28T16:17:00.196Z"
   },
   {
    "duration": 542,
    "start_time": "2025-05-28T16:17:06.507Z"
   },
   {
    "duration": 532,
    "start_time": "2025-05-28T16:17:21.218Z"
   },
   {
    "duration": 112,
    "start_time": "2025-05-28T16:17:57.088Z"
   },
   {
    "duration": 787,
    "start_time": "2025-05-28T16:18:27.428Z"
   },
   {
    "duration": 543,
    "start_time": "2025-05-28T16:18:35.239Z"
   },
   {
    "duration": 154,
    "start_time": "2025-05-28T16:30:08.003Z"
   },
   {
    "duration": 13,
    "start_time": "2025-05-28T16:33:24.745Z"
   },
   {
    "duration": 4,
    "start_time": "2025-05-28T16:38:08.451Z"
   },
   {
    "duration": 270,
    "start_time": "2025-05-28T16:38:14.296Z"
   },
   {
    "duration": 106,
    "start_time": "2025-05-28T16:41:10.430Z"
   },
   {
    "duration": 249,
    "start_time": "2025-05-28T16:41:11.789Z"
   },
   {
    "duration": 74,
    "start_time": "2025-05-28T16:42:35.832Z"
   },
   {
    "duration": 80,
    "start_time": "2025-05-28T16:43:57.855Z"
   },
   {
    "duration": 263,
    "start_time": "2025-05-28T16:44:02.091Z"
   },
   {
    "duration": 240,
    "start_time": "2025-05-28T16:44:04.391Z"
   },
   {
    "duration": 234,
    "start_time": "2025-05-28T16:47:05.248Z"
   },
   {
    "duration": 84,
    "start_time": "2025-05-28T16:47:13.850Z"
   },
   {
    "duration": 219,
    "start_time": "2025-05-28T16:47:15.795Z"
   },
   {
    "duration": 1076,
    "start_time": "2025-05-28T16:48:16.314Z"
   },
   {
    "duration": 23,
    "start_time": "2025-05-28T16:48:31.163Z"
   },
   {
    "duration": 640,
    "start_time": "2025-05-28T16:49:59.431Z"
   },
   {
    "duration": 224,
    "start_time": "2025-05-28T16:50:04.039Z"
   },
   {
    "duration": 100,
    "start_time": "2025-05-28T16:51:44.597Z"
   },
   {
    "duration": 895,
    "start_time": "2025-05-28T16:57:56.004Z"
   },
   {
    "duration": 260,
    "start_time": "2025-05-28T16:57:58.154Z"
   },
   {
    "duration": 138,
    "start_time": "2025-05-28T17:03:08.121Z"
   },
   {
    "duration": 3,
    "start_time": "2025-05-28T17:03:41.200Z"
   },
   {
    "duration": 165,
    "start_time": "2025-05-28T17:03:41.707Z"
   },
   {
    "duration": 1070,
    "start_time": "2025-05-28T17:03:42.745Z"
   },
   {
    "duration": 0,
    "start_time": "2025-05-28T17:03:43.816Z"
   },
   {
    "duration": 259,
    "start_time": "2025-05-28T17:03:55.020Z"
   },
   {
    "duration": 4,
    "start_time": "2025-05-28T17:04:17.344Z"
   },
   {
    "duration": 258,
    "start_time": "2025-05-28T17:04:18.469Z"
   },
   {
    "duration": 220,
    "start_time": "2025-05-28T17:04:22.566Z"
   },
   {
    "duration": 661,
    "start_time": "2025-05-28T17:04:34.649Z"
   },
   {
    "duration": 103,
    "start_time": "2025-05-28T17:04:42.022Z"
   },
   {
    "duration": 33,
    "start_time": "2025-05-28T17:06:40.090Z"
   },
   {
    "duration": 1244,
    "start_time": "2025-05-28T17:08:57.102Z"
   },
   {
    "duration": 19,
    "start_time": "2025-05-28T17:09:06.678Z"
   },
   {
    "duration": 1072,
    "start_time": "2025-05-28T17:10:40.527Z"
   },
   {
    "duration": 23,
    "start_time": "2025-05-28T17:10:46.672Z"
   },
   {
    "duration": 830,
    "start_time": "2025-05-28T17:10:57.218Z"
   },
   {
    "duration": 68,
    "start_time": "2025-05-28T17:11:08.278Z"
   },
   {
    "duration": 20,
    "start_time": "2025-05-28T17:11:17.186Z"
   },
   {
    "duration": 180,
    "start_time": "2025-05-28T17:12:27.842Z"
   },
   {
    "duration": 181,
    "start_time": "2025-05-28T17:12:53.545Z"
   },
   {
    "duration": 295,
    "start_time": "2025-05-28T17:20:05.676Z"
   },
   {
    "duration": 283,
    "start_time": "2025-05-28T17:20:16.326Z"
   },
   {
    "duration": 142,
    "start_time": "2025-05-28T17:20:29.957Z"
   },
   {
    "duration": 12,
    "start_time": "2025-05-28T17:22:10.809Z"
   },
   {
    "duration": 86,
    "start_time": "2025-05-28T17:24:42.977Z"
   },
   {
    "duration": 10,
    "start_time": "2025-05-28T17:26:57.634Z"
   },
   {
    "duration": 11,
    "start_time": "2025-05-28T17:27:05.211Z"
   },
   {
    "duration": 169,
    "start_time": "2025-05-28T17:27:10.724Z"
   },
   {
    "duration": 124,
    "start_time": "2025-05-28T17:27:45.761Z"
   },
   {
    "duration": 114,
    "start_time": "2025-05-28T17:28:14.741Z"
   },
   {
    "duration": 112,
    "start_time": "2025-05-28T17:28:34.300Z"
   },
   {
    "duration": 112,
    "start_time": "2025-05-28T17:28:40.853Z"
   },
   {
    "duration": 110,
    "start_time": "2025-05-28T17:28:58.368Z"
   },
   {
    "duration": 112,
    "start_time": "2025-05-28T17:29:02.665Z"
   },
   {
    "duration": 66,
    "start_time": "2025-05-28T17:29:42.090Z"
   },
   {
    "duration": 67,
    "start_time": "2025-05-28T17:32:59.518Z"
   },
   {
    "duration": 71,
    "start_time": "2025-05-28T17:33:03.838Z"
   },
   {
    "duration": 62,
    "start_time": "2025-05-28T17:33:11.912Z"
   },
   {
    "duration": 65,
    "start_time": "2025-05-28T17:34:07.516Z"
   },
   {
    "duration": 64,
    "start_time": "2025-05-28T17:35:15.101Z"
   },
   {
    "duration": 63,
    "start_time": "2025-05-28T17:35:38.852Z"
   },
   {
    "duration": 60,
    "start_time": "2025-05-28T17:35:41.440Z"
   },
   {
    "duration": 92,
    "start_time": "2025-05-28T17:35:48.990Z"
   },
   {
    "duration": 61,
    "start_time": "2025-05-28T17:35:55.243Z"
   },
   {
    "duration": 32,
    "start_time": "2025-05-28T17:35:58.821Z"
   },
   {
    "duration": 62,
    "start_time": "2025-05-28T17:36:05.785Z"
   },
   {
    "duration": 5,
    "start_time": "2025-05-28T17:36:33.334Z"
   },
   {
    "duration": 5,
    "start_time": "2025-05-28T17:36:48.690Z"
   },
   {
    "duration": 50,
    "start_time": "2025-05-28T17:37:13.470Z"
   },
   {
    "duration": 4,
    "start_time": "2025-05-28T17:37:41.734Z"
   },
   {
    "duration": 67,
    "start_time": "2025-05-28T17:37:55.660Z"
   },
   {
    "duration": 68,
    "start_time": "2025-05-28T17:38:47.590Z"
   },
   {
    "duration": 52,
    "start_time": "2025-05-28T17:39:16.352Z"
   },
   {
    "duration": 48,
    "start_time": "2025-05-28T17:39:21.062Z"
   },
   {
    "duration": 48,
    "start_time": "2025-05-28T17:39:51.377Z"
   },
   {
    "duration": 49,
    "start_time": "2025-05-28T17:39:54.546Z"
   },
   {
    "duration": 57,
    "start_time": "2025-05-28T17:40:03.706Z"
   },
   {
    "duration": 49,
    "start_time": "2025-05-28T17:40:14.330Z"
   },
   {
    "duration": 55,
    "start_time": "2025-05-28T17:40:43.494Z"
   },
   {
    "duration": 54,
    "start_time": "2025-05-28T17:40:46.260Z"
   },
   {
    "duration": 49,
    "start_time": "2025-05-28T17:40:51.993Z"
   },
   {
    "duration": 57,
    "start_time": "2025-05-28T17:40:57.527Z"
   },
   {
    "duration": 47,
    "start_time": "2025-05-28T17:41:22.923Z"
   },
   {
    "duration": 34,
    "start_time": "2025-05-28T17:43:11.672Z"
   },
   {
    "duration": 9,
    "start_time": "2025-05-28T17:47:43.030Z"
   },
   {
    "duration": 23,
    "start_time": "2025-05-28T17:48:17.743Z"
   },
   {
    "duration": 23,
    "start_time": "2025-05-28T17:51:55.144Z"
   },
   {
    "duration": 27,
    "start_time": "2025-05-28T17:54:04.165Z"
   },
   {
    "duration": 415,
    "start_time": "2025-05-28T17:59:03.486Z"
   },
   {
    "duration": 209,
    "start_time": "2025-05-28T17:59:11.981Z"
   },
   {
    "duration": 207,
    "start_time": "2025-05-28T18:00:45.678Z"
   },
   {
    "duration": 240,
    "start_time": "2025-05-28T18:00:56.430Z"
   },
   {
    "duration": 23,
    "start_time": "2025-05-28T18:12:20.268Z"
   },
   {
    "duration": 310,
    "start_time": "2025-05-28T18:13:15.353Z"
   },
   {
    "duration": 294,
    "start_time": "2025-05-28T18:15:21.202Z"
   },
   {
    "duration": 101,
    "start_time": "2025-05-28T18:15:43.423Z"
   },
   {
    "duration": 358,
    "start_time": "2025-05-28T18:16:40.767Z"
   },
   {
    "duration": 281,
    "start_time": "2025-05-28T18:16:51.417Z"
   },
   {
    "duration": 210,
    "start_time": "2025-05-28T18:17:02.374Z"
   },
   {
    "duration": 44,
    "start_time": "2025-05-28T18:17:49.170Z"
   },
   {
    "duration": 341,
    "start_time": "2025-05-28T18:17:52.242Z"
   },
   {
    "duration": 309,
    "start_time": "2025-05-28T18:21:09.977Z"
   },
   {
    "duration": 329,
    "start_time": "2025-05-28T18:21:46.432Z"
   },
   {
    "duration": 41,
    "start_time": "2025-05-28T18:23:11.963Z"
   },
   {
    "duration": 57,
    "start_time": "2025-05-28T18:29:09.110Z"
   },
   {
    "duration": 3,
    "start_time": "2025-05-28T18:30:14.851Z"
   },
   {
    "duration": 49,
    "start_time": "2025-05-28T18:30:20.546Z"
   },
   {
    "duration": 12,
    "start_time": "2025-05-28T18:32:35.958Z"
   },
   {
    "duration": 39,
    "start_time": "2025-05-28T18:32:41.488Z"
   },
   {
    "duration": 48,
    "start_time": "2025-05-28T18:33:15.137Z"
   },
   {
    "duration": 42,
    "start_time": "2025-05-28T18:33:18.324Z"
   },
   {
    "duration": 48,
    "start_time": "2025-05-28T18:33:22.857Z"
   },
   {
    "duration": 40,
    "start_time": "2025-05-28T18:33:26.229Z"
   },
   {
    "duration": 133,
    "start_time": "2025-05-28T18:33:44.991Z"
   },
   {
    "duration": 53,
    "start_time": "2025-05-28T18:34:37.098Z"
   },
   {
    "duration": 64,
    "start_time": "2025-05-28T18:35:32.087Z"
   },
   {
    "duration": 41,
    "start_time": "2025-05-28T18:35:42.123Z"
   },
   {
    "duration": 62,
    "start_time": "2025-05-28T18:35:44.888Z"
   },
   {
    "duration": 42,
    "start_time": "2025-05-28T18:35:48.267Z"
   },
   {
    "duration": 42,
    "start_time": "2025-05-28T18:36:26.667Z"
   },
   {
    "duration": 42,
    "start_time": "2025-05-28T18:36:28.306Z"
   },
   {
    "duration": 105,
    "start_time": "2025-05-28T18:36:36.311Z"
   },
   {
    "duration": 24,
    "start_time": "2025-05-28T18:38:05.795Z"
   },
   {
    "duration": 46,
    "start_time": "2025-05-28T18:40:52.499Z"
   },
   {
    "duration": 10,
    "start_time": "2025-05-28T18:41:10.221Z"
   },
   {
    "duration": 57,
    "start_time": "2025-05-28T18:41:38.374Z"
   },
   {
    "duration": 87,
    "start_time": "2025-05-28T18:41:41.139Z"
   },
   {
    "duration": 271,
    "start_time": "2025-05-28T18:43:01.319Z"
   },
   {
    "duration": 274,
    "start_time": "2025-05-28T18:43:05.312Z"
   },
   {
    "duration": 64,
    "start_time": "2025-05-28T18:43:25.485Z"
   },
   {
    "duration": 67,
    "start_time": "2025-05-28T18:43:38.900Z"
   },
   {
    "duration": 65,
    "start_time": "2025-05-28T18:43:47.604Z"
   },
   {
    "duration": 310,
    "start_time": "2025-05-28T18:46:36.266Z"
   },
   {
    "duration": 280,
    "start_time": "2025-05-28T18:46:43.016Z"
   },
   {
    "duration": 120,
    "start_time": "2025-05-28T18:48:19.625Z"
   },
   {
    "duration": 5,
    "start_time": "2025-05-28T18:48:50.094Z"
   },
   {
    "duration": 586,
    "start_time": "2025-05-28T18:49:24.705Z"
   },
   {
    "duration": 10,
    "start_time": "2025-05-28T18:51:46.032Z"
   },
   {
    "duration": 35,
    "start_time": "2025-05-28T18:51:55.545Z"
   },
   {
    "duration": 16,
    "start_time": "2025-05-28T18:52:09.365Z"
   },
   {
    "duration": 109,
    "start_time": "2025-05-28T18:52:12.543Z"
   },
   {
    "duration": 535,
    "start_time": "2025-05-28T18:54:08.563Z"
   },
   {
    "duration": 11,
    "start_time": "2025-05-28T18:55:32.122Z"
   },
   {
    "duration": 9,
    "start_time": "2025-05-28T18:55:37.856Z"
   },
   {
    "duration": 9,
    "start_time": "2025-05-28T18:55:52.192Z"
   },
   {
    "duration": 9,
    "start_time": "2025-05-28T18:55:58.645Z"
   },
   {
    "duration": 9,
    "start_time": "2025-05-28T18:56:03.149Z"
   },
   {
    "duration": 9,
    "start_time": "2025-05-28T18:56:07.552Z"
   },
   {
    "duration": 8,
    "start_time": "2025-05-28T18:56:16.257Z"
   },
   {
    "duration": 8,
    "start_time": "2025-05-28T18:56:39.229Z"
   },
   {
    "duration": 9,
    "start_time": "2025-05-28T18:56:44.002Z"
   },
   {
    "duration": 6,
    "start_time": "2025-05-28T18:56:49.639Z"
   },
   {
    "duration": 9,
    "start_time": "2025-05-28T18:56:56.808Z"
   },
   {
    "duration": 8,
    "start_time": "2025-05-28T18:57:04.591Z"
   },
   {
    "duration": 26,
    "start_time": "2025-05-28T18:59:26.721Z"
   },
   {
    "duration": 27,
    "start_time": "2025-05-28T18:59:50.784Z"
   },
   {
    "duration": 48,
    "start_time": "2025-05-28T19:01:27.776Z"
   },
   {
    "duration": 608,
    "start_time": "2025-05-28T19:01:40.252Z"
   },
   {
    "duration": 540,
    "start_time": "2025-05-28T19:02:40.156Z"
   },
   {
    "duration": 5321,
    "start_time": "2025-05-28T19:05:19.589Z"
   },
   {
    "duration": 4,
    "start_time": "2025-05-28T19:05:24.913Z"
   },
   {
    "duration": 1056,
    "start_time": "2025-05-28T19:05:24.919Z"
   },
   {
    "duration": 2,
    "start_time": "2025-05-28T19:05:25.977Z"
   },
   {
    "duration": 30,
    "start_time": "2025-05-28T19:05:25.982Z"
   },
   {
    "duration": 277,
    "start_time": "2025-05-28T19:05:26.014Z"
   },
   {
    "duration": 3,
    "start_time": "2025-05-28T19:05:26.293Z"
   },
   {
    "duration": 5,
    "start_time": "2025-05-28T19:05:26.298Z"
   },
   {
    "duration": 280,
    "start_time": "2025-05-28T19:05:26.305Z"
   },
   {
    "duration": 636,
    "start_time": "2025-05-28T19:05:26.587Z"
   },
   {
    "duration": 51,
    "start_time": "2025-05-28T19:05:27.224Z"
   },
   {
    "duration": 112,
    "start_time": "2025-05-28T19:05:27.277Z"
   },
   {
    "duration": 28,
    "start_time": "2025-05-28T19:05:27.391Z"
   },
   {
    "duration": 356,
    "start_time": "2025-05-28T19:05:27.423Z"
   },
   {
    "duration": 23,
    "start_time": "2025-05-28T19:05:27.780Z"
   },
   {
    "duration": 26,
    "start_time": "2025-05-28T19:05:27.804Z"
   },
   {
    "duration": 71,
    "start_time": "2025-05-28T19:05:27.832Z"
   },
   {
    "duration": 41,
    "start_time": "2025-05-28T19:05:27.905Z"
   },
   {
    "duration": 31,
    "start_time": "2025-05-28T19:05:27.948Z"
   },
   {
    "duration": 131,
    "start_time": "2025-05-28T19:05:27.981Z"
   },
   {
    "duration": 284,
    "start_time": "2025-05-28T19:05:28.114Z"
   },
   {
    "duration": 290,
    "start_time": "2025-05-28T19:05:28.400Z"
   },
   {
    "duration": 339,
    "start_time": "2025-05-28T19:05:28.692Z"
   },
   {
    "duration": 119,
    "start_time": "2025-05-28T19:05:29.034Z"
   },
   {
    "duration": 9,
    "start_time": "2025-05-28T19:05:29.155Z"
   },
   {
    "duration": 630,
    "start_time": "2025-05-28T19:05:29.166Z"
   },
   {
    "duration": 677,
    "start_time": "2025-05-28T19:05:29.798Z"
   },
   {
    "duration": 12,
    "start_time": "2025-05-28T19:05:30.477Z"
   },
   {
    "duration": 69,
    "start_time": "2025-05-28T19:05:30.491Z"
   },
   {
    "duration": 554,
    "start_time": "2025-05-28T19:05:30.562Z"
   },
   {
    "duration": 636,
    "start_time": "2025-05-28T19:14:18.727Z"
   },
   {
    "duration": 11,
    "start_time": "2025-05-28T19:14:35.630Z"
   },
   {
    "duration": 634,
    "start_time": "2025-05-28T19:14:51.838Z"
   },
   {
    "duration": 12,
    "start_time": "2025-05-28T19:14:55.296Z"
   },
   {
    "duration": 59,
    "start_time": "2025-05-28T19:14:55.774Z"
   },
   {
    "duration": 545,
    "start_time": "2025-05-28T19:14:56.308Z"
   },
   {
    "duration": 676,
    "start_time": "2025-05-28T20:17:06.448Z"
   },
   {
    "duration": 2,
    "start_time": "2025-05-28T20:18:42.926Z"
   },
   {
    "duration": 8,
    "start_time": "2025-05-28T20:28:42.366Z"
   },
   {
    "duration": 115,
    "start_time": "2025-05-28T20:28:50.978Z"
   },
   {
    "duration": 5348,
    "start_time": "2025-05-28T20:32:40.956Z"
   },
   {
    "duration": 5,
    "start_time": "2025-05-28T20:32:46.307Z"
   },
   {
    "duration": 61,
    "start_time": "2025-05-28T20:32:46.314Z"
   },
   {
    "duration": 934,
    "start_time": "2025-05-28T20:32:46.377Z"
   },
   {
    "duration": 3,
    "start_time": "2025-05-28T20:32:47.314Z"
   },
   {
    "duration": 273,
    "start_time": "2025-05-28T20:32:47.318Z"
   },
   {
    "duration": 3,
    "start_time": "2025-05-28T20:32:47.593Z"
   },
   {
    "duration": 5,
    "start_time": "2025-05-28T20:32:47.598Z"
   },
   {
    "duration": 273,
    "start_time": "2025-05-28T20:32:47.604Z"
   },
   {
    "duration": 629,
    "start_time": "2025-05-28T20:32:47.879Z"
   },
   {
    "duration": 8,
    "start_time": "2025-05-28T20:32:48.510Z"
   },
   {
    "duration": 50,
    "start_time": "2025-05-28T20:32:48.520Z"
   },
   {
    "duration": 109,
    "start_time": "2025-05-28T20:32:48.572Z"
   },
   {
    "duration": 59,
    "start_time": "2025-05-28T20:32:48.685Z"
   },
   {
    "duration": 336,
    "start_time": "2025-05-28T20:32:48.746Z"
   },
   {
    "duration": 28,
    "start_time": "2025-05-28T20:32:49.084Z"
   },
   {
    "duration": 27,
    "start_time": "2025-05-28T20:32:49.114Z"
   },
   {
    "duration": 66,
    "start_time": "2025-05-28T20:32:49.161Z"
   },
   {
    "duration": 48,
    "start_time": "2025-05-28T20:32:49.229Z"
   },
   {
    "duration": 23,
    "start_time": "2025-05-28T20:32:49.280Z"
   },
   {
    "duration": 91,
    "start_time": "2025-05-28T20:32:49.305Z"
   },
   {
    "duration": 236,
    "start_time": "2025-05-28T20:32:49.398Z"
   },
   {
    "duration": 247,
    "start_time": "2025-05-28T20:32:49.636Z"
   },
   {
    "duration": 271,
    "start_time": "2025-05-28T20:32:49.886Z"
   },
   {
    "duration": 118,
    "start_time": "2025-05-28T20:32:50.161Z"
   },
   {
    "duration": 5,
    "start_time": "2025-05-28T20:32:50.282Z"
   },
   {
    "duration": 651,
    "start_time": "2025-05-28T20:32:50.289Z"
   },
   {
    "duration": 531,
    "start_time": "2025-05-28T20:32:50.942Z"
   },
   {
    "duration": 9,
    "start_time": "2025-05-28T20:32:51.475Z"
   },
   {
    "duration": 53,
    "start_time": "2025-05-28T20:32:51.486Z"
   },
   {
    "duration": 559,
    "start_time": "2025-05-28T20:32:51.541Z"
   },
   {
    "duration": 584,
    "start_time": "2025-05-28T20:32:52.102Z"
   },
   {
    "duration": 10,
    "start_time": "2025-05-28T20:32:52.688Z"
   },
   {
    "duration": 104,
    "start_time": "2025-05-28T20:32:52.700Z"
   },
   {
    "duration": 690,
    "start_time": "2025-05-28T20:32:52.806Z"
   },
   {
    "duration": 15,
    "start_time": "2025-05-28T20:33:51.333Z"
   },
   {
    "duration": 89,
    "start_time": "2025-05-28T20:33:54.273Z"
   },
   {
    "duration": 3,
    "start_time": "2025-05-28T20:36:49.378Z"
   },
   {
    "duration": 90,
    "start_time": "2025-05-28T20:36:55.167Z"
   },
   {
    "duration": 14,
    "start_time": "2025-05-28T20:37:01.666Z"
   },
   {
    "duration": 44,
    "start_time": "2025-05-28T20:37:52.150Z"
   },
   {
    "duration": 39,
    "start_time": "2025-05-28T20:38:06.691Z"
   },
   {
    "duration": 48,
    "start_time": "2025-05-28T20:38:12.322Z"
   },
   {
    "duration": 207,
    "start_time": "2025-05-28T20:38:54.891Z"
   },
   {
    "duration": 3,
    "start_time": "2025-05-28T20:39:06.391Z"
   },
   {
    "duration": 4,
    "start_time": "2025-05-28T20:39:14.889Z"
   },
   {
    "duration": 6,
    "start_time": "2025-05-28T20:39:24.822Z"
   },
   {
    "duration": 18,
    "start_time": "2025-05-28T20:41:39.786Z"
   },
   {
    "duration": 8830,
    "start_time": "2025-05-28T20:42:43.070Z"
   },
   {
    "duration": 19,
    "start_time": "2025-05-28T20:42:51.903Z"
   },
   {
    "duration": 12,
    "start_time": "2025-05-28T20:43:49.676Z"
   },
   {
    "duration": 161,
    "start_time": "2025-05-28T20:44:02.123Z"
   },
   {
    "duration": 1184,
    "start_time": "2025-05-28T20:44:08.153Z"
   },
   {
    "duration": 8390,
    "start_time": "2025-05-28T20:44:54.758Z"
   },
   {
    "duration": 5,
    "start_time": "2025-05-28T20:45:03.151Z"
   },
   {
    "duration": 70,
    "start_time": "2025-05-28T20:45:03.157Z"
   },
   {
    "duration": 907,
    "start_time": "2025-05-28T20:45:03.229Z"
   },
   {
    "duration": 3,
    "start_time": "2025-05-28T20:45:04.140Z"
   },
   {
    "duration": 278,
    "start_time": "2025-05-28T20:45:04.145Z"
   },
   {
    "duration": 3,
    "start_time": "2025-05-28T20:45:04.426Z"
   },
   {
    "duration": 9,
    "start_time": "2025-05-28T20:45:04.432Z"
   },
   {
    "duration": 288,
    "start_time": "2025-05-28T20:45:04.443Z"
   },
   {
    "duration": 732,
    "start_time": "2025-05-28T20:45:04.733Z"
   },
   {
    "duration": 3,
    "start_time": "2025-05-28T20:45:05.467Z"
   },
   {
    "duration": 45,
    "start_time": "2025-05-28T20:45:05.471Z"
   },
   {
    "duration": 128,
    "start_time": "2025-05-28T20:45:05.518Z"
   },
   {
    "duration": 52,
    "start_time": "2025-05-28T20:45:05.660Z"
   },
   {
    "duration": 367,
    "start_time": "2025-05-28T20:45:05.714Z"
   },
   {
    "duration": 23,
    "start_time": "2025-05-28T20:45:06.083Z"
   },
   {
    "duration": 43,
    "start_time": "2025-05-28T20:45:06.107Z"
   },
   {
    "duration": 75,
    "start_time": "2025-05-28T20:45:06.152Z"
   },
   {
    "duration": 43,
    "start_time": "2025-05-28T20:45:06.229Z"
   },
   {
    "duration": 24,
    "start_time": "2025-05-28T20:45:06.273Z"
   },
   {
    "duration": 105,
    "start_time": "2025-05-28T20:45:06.299Z"
   },
   {
    "duration": 278,
    "start_time": "2025-05-28T20:45:06.405Z"
   },
   {
    "duration": 280,
    "start_time": "2025-05-28T20:45:06.685Z"
   },
   {
    "duration": 306,
    "start_time": "2025-05-28T20:45:06.967Z"
   },
   {
    "duration": 99,
    "start_time": "2025-05-28T20:45:07.275Z"
   },
   {
    "duration": 4,
    "start_time": "2025-05-28T20:45:07.376Z"
   },
   {
    "duration": 657,
    "start_time": "2025-05-28T20:45:07.382Z"
   },
   {
    "duration": 537,
    "start_time": "2025-05-28T20:45:08.040Z"
   },
   {
    "duration": 10,
    "start_time": "2025-05-28T20:45:08.578Z"
   },
   {
    "duration": 72,
    "start_time": "2025-05-28T20:45:08.590Z"
   },
   {
    "duration": 690,
    "start_time": "2025-05-28T20:45:08.664Z"
   },
   {
    "duration": 551,
    "start_time": "2025-05-28T20:45:09.360Z"
   },
   {
    "duration": 11,
    "start_time": "2025-05-28T20:45:09.913Z"
   },
   {
    "duration": 74,
    "start_time": "2025-05-28T20:45:09.925Z"
   },
   {
    "duration": 550,
    "start_time": "2025-05-28T20:45:10.001Z"
   },
   {
    "duration": 12101,
    "start_time": "2025-05-28T20:45:10.560Z"
   },
   {
    "duration": 4,
    "start_time": "2025-05-28T20:49:06.782Z"
   },
   {
    "duration": 5271,
    "start_time": "2025-05-28T20:49:08.505Z"
   },
   {
    "duration": 15351,
    "start_time": "2025-05-29T16:03:05.435Z"
   },
   {
    "duration": 1671,
    "start_time": "2025-05-29T16:03:20.788Z"
   },
   {
    "duration": 3,
    "start_time": "2025-05-29T16:03:22.461Z"
   },
   {
    "duration": 1017,
    "start_time": "2025-05-29T16:03:22.465Z"
   },
   {
    "duration": 5,
    "start_time": "2025-05-29T16:03:23.534Z"
   },
   {
    "duration": 632,
    "start_time": "2025-05-29T16:03:23.541Z"
   },
   {
    "duration": 60,
    "start_time": "2025-05-29T16:03:24.175Z"
   },
   {
    "duration": 4,
    "start_time": "2025-05-29T16:03:24.237Z"
   },
   {
    "duration": 503,
    "start_time": "2025-05-29T16:03:24.243Z"
   },
   {
    "duration": 570,
    "start_time": "2025-05-29T16:03:24.748Z"
   },
   {
    "duration": 17,
    "start_time": "2025-05-29T16:03:25.319Z"
   },
   {
    "duration": 40,
    "start_time": "2025-05-29T16:03:25.338Z"
   },
   {
    "duration": 109,
    "start_time": "2025-05-29T16:03:25.380Z"
   },
   {
    "duration": 21,
    "start_time": "2025-05-29T16:03:25.492Z"
   },
   {
    "duration": 335,
    "start_time": "2025-05-29T16:03:25.515Z"
   },
   {
    "duration": 25,
    "start_time": "2025-05-29T16:03:25.852Z"
   },
   {
    "duration": 26,
    "start_time": "2025-05-29T16:03:25.879Z"
   },
   {
    "duration": 68,
    "start_time": "2025-05-29T16:03:25.907Z"
   },
   {
    "duration": 48,
    "start_time": "2025-05-29T16:03:25.977Z"
   },
   {
    "duration": 22,
    "start_time": "2025-05-29T16:03:26.027Z"
   },
   {
    "duration": 80,
    "start_time": "2025-05-29T16:03:26.050Z"
   },
   {
    "duration": 195,
    "start_time": "2025-05-29T16:03:26.132Z"
   },
   {
    "duration": 250,
    "start_time": "2025-05-29T16:03:26.335Z"
   },
   {
    "duration": 224,
    "start_time": "2025-05-29T16:03:26.586Z"
   },
   {
    "duration": 101,
    "start_time": "2025-05-29T16:03:26.812Z"
   },
   {
    "duration": 4,
    "start_time": "2025-05-29T16:03:26.915Z"
   },
   {
    "duration": 536,
    "start_time": "2025-05-29T16:03:26.920Z"
   },
   {
    "duration": 477,
    "start_time": "2025-05-29T16:03:27.458Z"
   },
   {
    "duration": 8,
    "start_time": "2025-05-29T16:03:27.937Z"
   },
   {
    "duration": 45,
    "start_time": "2025-05-29T16:03:27.947Z"
   },
   {
    "duration": 625,
    "start_time": "2025-05-29T16:03:27.993Z"
   },
   {
    "duration": 529,
    "start_time": "2025-05-29T16:03:28.621Z"
   },
   {
    "duration": 11,
    "start_time": "2025-05-29T16:03:29.152Z"
   },
   {
    "duration": 62,
    "start_time": "2025-05-29T16:03:29.165Z"
   },
   {
    "duration": 635,
    "start_time": "2025-05-29T16:03:29.229Z"
   },
   {
    "duration": 185,
    "start_time": "2025-05-29T16:03:29.865Z"
   },
   {
    "duration": 398,
    "start_time": "2025-05-29T16:03:30.052Z"
   },
   {
    "duration": 37,
    "start_time": "2025-05-29T16:07:44.106Z"
   },
   {
    "duration": 73,
    "start_time": "2025-05-29T16:07:48.627Z"
   },
   {
    "duration": 13250,
    "start_time": "2025-05-29T16:11:53.513Z"
   },
   {
    "duration": 67192,
    "start_time": "2025-05-29T16:12:15.037Z"
   },
   {
    "duration": 20199,
    "start_time": "2025-05-29T16:16:02.081Z"
   },
   {
    "duration": 28077,
    "start_time": "2025-05-29T16:17:32.758Z"
   },
   {
    "duration": 153,
    "start_time": "2025-05-29T16:20:01.882Z"
   },
   {
    "duration": 13,
    "start_time": "2025-05-29T16:20:13.588Z"
   },
   {
    "duration": 19607,
    "start_time": "2025-05-29T16:20:28.167Z"
   },
   {
    "duration": 14281,
    "start_time": "2025-05-29T16:22:18.018Z"
   },
   {
    "duration": 21,
    "start_time": "2025-05-29T16:25:09.987Z"
   },
   {
    "duration": 8,
    "start_time": "2025-05-29T16:30:51.047Z"
   },
   {
    "duration": 47,
    "start_time": "2025-05-29T16:30:53.592Z"
   },
   {
    "duration": 9,
    "start_time": "2025-05-29T16:31:33.221Z"
   },
   {
    "duration": 5168,
    "start_time": "2025-05-29T16:31:59.117Z"
   },
   {
    "duration": 5,
    "start_time": "2025-05-29T16:32:04.288Z"
   },
   {
    "duration": 9,
    "start_time": "2025-05-29T16:32:04.295Z"
   },
   {
    "duration": 913,
    "start_time": "2025-05-29T16:32:04.306Z"
   },
   {
    "duration": 4,
    "start_time": "2025-05-29T16:32:05.221Z"
   },
   {
    "duration": 327,
    "start_time": "2025-05-29T16:32:05.226Z"
   },
   {
    "duration": 4,
    "start_time": "2025-05-29T16:32:05.554Z"
   },
   {
    "duration": 29,
    "start_time": "2025-05-29T16:32:05.559Z"
   },
   {
    "duration": 312,
    "start_time": "2025-05-29T16:32:05.589Z"
   },
   {
    "duration": 696,
    "start_time": "2025-05-29T16:32:05.903Z"
   },
   {
    "duration": 9,
    "start_time": "2025-05-29T16:32:06.600Z"
   },
   {
    "duration": 48,
    "start_time": "2025-05-29T16:32:06.610Z"
   },
   {
    "duration": 112,
    "start_time": "2025-05-29T16:32:06.660Z"
   },
   {
    "duration": 39,
    "start_time": "2025-05-29T16:32:06.775Z"
   },
   {
    "duration": 345,
    "start_time": "2025-05-29T16:32:06.816Z"
   },
   {
    "duration": 30,
    "start_time": "2025-05-29T16:32:07.164Z"
   },
   {
    "duration": 53,
    "start_time": "2025-05-29T16:32:07.196Z"
   },
   {
    "duration": 155,
    "start_time": "2025-05-29T16:32:07.252Z"
   },
   {
    "duration": 44,
    "start_time": "2025-05-29T16:32:07.408Z"
   },
   {
    "duration": 22,
    "start_time": "2025-05-29T16:32:07.453Z"
   },
   {
    "duration": 90,
    "start_time": "2025-05-29T16:32:07.477Z"
   },
   {
    "duration": 219,
    "start_time": "2025-05-29T16:32:07.570Z"
   },
   {
    "duration": 227,
    "start_time": "2025-05-29T16:32:07.791Z"
   },
   {
    "duration": 257,
    "start_time": "2025-05-29T16:32:08.019Z"
   },
   {
    "duration": 111,
    "start_time": "2025-05-29T16:32:08.278Z"
   },
   {
    "duration": 74,
    "start_time": "2025-05-29T16:32:08.391Z"
   },
   {
    "duration": 4,
    "start_time": "2025-05-29T16:32:08.467Z"
   },
   {
    "duration": 657,
    "start_time": "2025-05-29T16:32:08.472Z"
   },
   {
    "duration": 13,
    "start_time": "2025-05-29T16:32:09.135Z"
   },
   {
    "duration": 52,
    "start_time": "2025-05-29T16:32:09.150Z"
   },
   {
    "duration": 551,
    "start_time": "2025-05-29T16:32:09.203Z"
   },
   {
    "duration": 13,
    "start_time": "2025-05-29T16:32:09.756Z"
   },
   {
    "duration": 92,
    "start_time": "2025-05-29T16:32:09.771Z"
   },
   {
    "duration": 481,
    "start_time": "2025-05-29T16:32:09.865Z"
   },
   {
    "duration": 599,
    "start_time": "2025-05-29T16:32:10.352Z"
   },
   {
    "duration": 11,
    "start_time": "2025-05-29T16:32:10.954Z"
   },
   {
    "duration": 99,
    "start_time": "2025-05-29T16:32:10.967Z"
   },
   {
    "duration": 537,
    "start_time": "2025-05-29T16:32:11.068Z"
   },
   {
    "duration": 95,
    "start_time": "2025-05-29T16:35:52.146Z"
   },
   {
    "duration": 550,
    "start_time": "2025-05-29T16:36:12.614Z"
   },
   {
    "duration": 9,
    "start_time": "2025-05-29T16:36:33.950Z"
   },
   {
    "duration": 564,
    "start_time": "2025-05-29T16:36:34.906Z"
   },
   {
    "duration": 5047,
    "start_time": "2025-05-29T16:36:57.952Z"
   },
   {
    "duration": 5,
    "start_time": "2025-05-29T16:37:03.002Z"
   },
   {
    "duration": 40,
    "start_time": "2025-05-29T16:37:03.008Z"
   },
   {
    "duration": 926,
    "start_time": "2025-05-29T16:37:03.051Z"
   },
   {
    "duration": 2,
    "start_time": "2025-05-29T16:37:03.980Z"
   },
   {
    "duration": 312,
    "start_time": "2025-05-29T16:37:03.984Z"
   },
   {
    "duration": 3,
    "start_time": "2025-05-29T16:37:04.298Z"
   },
   {
    "duration": 4,
    "start_time": "2025-05-29T16:37:04.303Z"
   },
   {
    "duration": 293,
    "start_time": "2025-05-29T16:37:04.309Z"
   },
   {
    "duration": 689,
    "start_time": "2025-05-29T16:37:04.604Z"
   },
   {
    "duration": 8,
    "start_time": "2025-05-29T16:37:05.295Z"
   },
   {
    "duration": 91,
    "start_time": "2025-05-29T16:37:05.304Z"
   },
   {
    "duration": 121,
    "start_time": "2025-05-29T16:37:05.397Z"
   },
   {
    "duration": 56,
    "start_time": "2025-05-29T16:37:05.521Z"
   },
   {
    "duration": 276,
    "start_time": "2025-05-29T16:37:05.578Z"
   },
   {
    "duration": 94,
    "start_time": "2025-05-29T16:37:05.860Z"
   },
   {
    "duration": 33,
    "start_time": "2025-05-29T16:37:05.956Z"
   },
   {
    "duration": 69,
    "start_time": "2025-05-29T16:37:05.990Z"
   },
   {
    "duration": 60,
    "start_time": "2025-05-29T16:37:06.061Z"
   },
   {
    "duration": 29,
    "start_time": "2025-05-29T16:37:06.122Z"
   },
   {
    "duration": 94,
    "start_time": "2025-05-29T16:37:06.154Z"
   },
   {
    "duration": 270,
    "start_time": "2025-05-29T16:37:06.250Z"
   },
   {
    "duration": 282,
    "start_time": "2025-05-29T16:37:06.522Z"
   },
   {
    "duration": 298,
    "start_time": "2025-05-29T16:37:06.805Z"
   },
   {
    "duration": 113,
    "start_time": "2025-05-29T16:37:07.105Z"
   },
   {
    "duration": 56,
    "start_time": "2025-05-29T16:37:07.220Z"
   },
   {
    "duration": 5,
    "start_time": "2025-05-29T16:37:07.278Z"
   },
   {
    "duration": 36,
    "start_time": "2025-05-29T16:37:29.021Z"
   },
   {
    "duration": 53,
    "start_time": "2025-05-29T16:37:48.523Z"
   },
   {
    "duration": 61,
    "start_time": "2025-05-29T16:43:32.673Z"
   },
   {
    "duration": 516,
    "start_time": "2025-05-29T16:43:35.099Z"
   },
   {
    "duration": 956,
    "start_time": "2025-05-29T16:43:50.835Z"
   },
   {
    "duration": 38,
    "start_time": "2025-05-29T16:45:28.439Z"
   },
   {
    "duration": 13,
    "start_time": "2025-05-29T16:45:34.483Z"
   },
   {
    "duration": 12,
    "start_time": "2025-05-29T16:46:02.191Z"
   },
   {
    "duration": 4788,
    "start_time": "2025-05-29T16:46:06.668Z"
   },
   {
    "duration": 5,
    "start_time": "2025-05-29T16:46:11.458Z"
   },
   {
    "duration": 7,
    "start_time": "2025-05-29T16:46:11.465Z"
   },
   {
    "duration": 796,
    "start_time": "2025-05-29T16:46:11.473Z"
   },
   {
    "duration": 4,
    "start_time": "2025-05-29T16:46:12.271Z"
   },
   {
    "duration": 236,
    "start_time": "2025-05-29T16:46:12.277Z"
   },
   {
    "duration": 3,
    "start_time": "2025-05-29T16:46:12.515Z"
   },
   {
    "duration": 35,
    "start_time": "2025-05-29T16:46:12.520Z"
   },
   {
    "duration": 244,
    "start_time": "2025-05-29T16:46:12.557Z"
   },
   {
    "duration": 607,
    "start_time": "2025-05-29T16:46:12.803Z"
   },
   {
    "duration": 8,
    "start_time": "2025-05-29T16:46:13.411Z"
   },
   {
    "duration": 81,
    "start_time": "2025-05-29T16:46:13.420Z"
   },
   {
    "duration": 105,
    "start_time": "2025-05-29T16:46:13.503Z"
   },
   {
    "duration": 35,
    "start_time": "2025-05-29T16:46:13.612Z"
   },
   {
    "duration": 300,
    "start_time": "2025-05-29T16:46:13.649Z"
   },
   {
    "duration": 26,
    "start_time": "2025-05-29T16:46:13.951Z"
   },
   {
    "duration": 41,
    "start_time": "2025-05-29T16:46:13.979Z"
   },
   {
    "duration": 58,
    "start_time": "2025-05-29T16:46:14.021Z"
   },
   {
    "duration": 66,
    "start_time": "2025-05-29T16:46:14.080Z"
   },
   {
    "duration": 32,
    "start_time": "2025-05-29T16:46:14.149Z"
   },
   {
    "duration": 133,
    "start_time": "2025-05-29T16:46:14.184Z"
   },
   {
    "duration": 212,
    "start_time": "2025-05-29T16:46:14.319Z"
   },
   {
    "duration": 239,
    "start_time": "2025-05-29T16:46:14.534Z"
   },
   {
    "duration": 269,
    "start_time": "2025-05-29T16:46:14.776Z"
   },
   {
    "duration": 110,
    "start_time": "2025-05-29T16:46:15.046Z"
   },
   {
    "duration": 27,
    "start_time": "2025-05-29T16:46:15.158Z"
   },
   {
    "duration": 5,
    "start_time": "2025-05-29T16:46:15.187Z"
   },
   {
    "duration": 522,
    "start_time": "2025-05-29T16:46:15.193Z"
   },
   {
    "duration": 61,
    "start_time": "2025-05-29T16:46:15.716Z"
   },
   {
    "duration": 70,
    "start_time": "2025-05-29T16:46:15.778Z"
   },
   {
    "duration": 465,
    "start_time": "2025-05-29T16:46:15.849Z"
   },
   {
    "duration": 25,
    "start_time": "2025-05-29T16:46:16.316Z"
   },
   {
    "duration": 23,
    "start_time": "2025-05-29T16:46:35.935Z"
   },
   {
    "duration": 8,
    "start_time": "2025-05-29T16:48:07.040Z"
   },
   {
    "duration": 6,
    "start_time": "2025-05-29T16:48:08.093Z"
   },
   {
    "duration": 26,
    "start_time": "2025-05-29T16:48:28.974Z"
   },
   {
    "duration": 62,
    "start_time": "2025-05-29T16:48:44.091Z"
   },
   {
    "duration": 442,
    "start_time": "2025-05-29T16:48:45.064Z"
   },
   {
    "duration": 14,
    "start_time": "2025-05-29T16:49:30.177Z"
   },
   {
    "duration": 34,
    "start_time": "2025-05-29T16:49:43.325Z"
   },
   {
    "duration": 24,
    "start_time": "2025-05-29T16:49:51.886Z"
   },
   {
    "duration": 33,
    "start_time": "2025-05-29T16:50:58.709Z"
   },
   {
    "duration": 34,
    "start_time": "2025-05-29T16:52:27.640Z"
   },
   {
    "duration": 33,
    "start_time": "2025-05-29T16:52:34.712Z"
   },
   {
    "duration": 24,
    "start_time": "2025-05-29T17:01:55.288Z"
   },
   {
    "duration": 53,
    "start_time": "2025-05-29T17:04:09.555Z"
   },
   {
    "duration": 3,
    "start_time": "2025-05-29T17:06:57.556Z"
   },
   {
    "duration": 101,
    "start_time": "2025-05-29T17:06:58.286Z"
   },
   {
    "duration": 605,
    "start_time": "2025-05-29T17:07:17.150Z"
   },
   {
    "duration": 2566,
    "start_time": "2025-05-29T17:07:40.294Z"
   },
   {
    "duration": 365,
    "start_time": "2025-05-29T17:08:02.037Z"
   },
   {
    "duration": 387,
    "start_time": "2025-05-29T17:08:53.832Z"
   },
   {
    "duration": 277,
    "start_time": "2025-05-29T17:10:45.307Z"
   },
   {
    "duration": 242,
    "start_time": "2025-05-29T17:10:57.853Z"
   },
   {
    "duration": 282,
    "start_time": "2025-05-29T17:11:47.109Z"
   },
   {
    "duration": 258,
    "start_time": "2025-05-29T17:12:08.542Z"
   },
   {
    "duration": 274,
    "start_time": "2025-05-29T17:12:31.347Z"
   },
   {
    "duration": 695,
    "start_time": "2025-05-29T17:15:11.691Z"
   },
   {
    "duration": 0,
    "start_time": "2025-05-29T17:16:49.266Z"
   },
   {
    "duration": 4873,
    "start_time": "2025-05-29T17:16:55.041Z"
   },
   {
    "duration": 5,
    "start_time": "2025-05-29T17:16:59.918Z"
   },
   {
    "duration": 4,
    "start_time": "2025-05-29T17:16:59.924Z"
   },
   {
    "duration": 889,
    "start_time": "2025-05-29T17:16:59.930Z"
   },
   {
    "duration": 3,
    "start_time": "2025-05-29T17:17:00.820Z"
   },
   {
    "duration": 239,
    "start_time": "2025-05-29T17:17:00.824Z"
   },
   {
    "duration": 3,
    "start_time": "2025-05-29T17:17:01.064Z"
   },
   {
    "duration": 14,
    "start_time": "2025-05-29T17:17:01.069Z"
   },
   {
    "duration": 299,
    "start_time": "2025-05-29T17:17:01.084Z"
   },
   {
    "duration": 580,
    "start_time": "2025-05-29T17:17:01.386Z"
   },
   {
    "duration": 7,
    "start_time": "2025-05-29T17:17:01.968Z"
   },
   {
    "duration": 122,
    "start_time": "2025-05-29T17:17:01.977Z"
   },
   {
    "duration": 106,
    "start_time": "2025-05-29T17:17:02.100Z"
   },
   {
    "duration": 42,
    "start_time": "2025-05-29T17:17:02.208Z"
   },
   {
    "duration": 402,
    "start_time": "2025-05-29T17:17:02.251Z"
   },
   {
    "duration": 21,
    "start_time": "2025-05-29T17:17:02.654Z"
   },
   {
    "duration": 25,
    "start_time": "2025-05-29T17:17:02.677Z"
   },
   {
    "duration": 63,
    "start_time": "2025-05-29T17:17:02.704Z"
   },
   {
    "duration": 47,
    "start_time": "2025-05-29T17:17:02.769Z"
   },
   {
    "duration": 25,
    "start_time": "2025-05-29T17:17:02.818Z"
   },
   {
    "duration": 86,
    "start_time": "2025-05-29T17:17:02.845Z"
   },
   {
    "duration": 214,
    "start_time": "2025-05-29T17:17:02.933Z"
   },
   {
    "duration": 225,
    "start_time": "2025-05-29T17:17:03.149Z"
   },
   {
    "duration": 248,
    "start_time": "2025-05-29T17:17:03.376Z"
   },
   {
    "duration": 91,
    "start_time": "2025-05-29T17:17:03.626Z"
   },
   {
    "duration": 64,
    "start_time": "2025-05-29T17:17:03.719Z"
   },
   {
    "duration": 4,
    "start_time": "2025-05-29T17:17:03.785Z"
   },
   {
    "duration": 619,
    "start_time": "2025-05-29T17:17:03.792Z"
   },
   {
    "duration": 66,
    "start_time": "2025-05-29T17:17:04.413Z"
   },
   {
    "duration": 62,
    "start_time": "2025-05-29T17:17:04.481Z"
   },
   {
    "duration": 555,
    "start_time": "2025-05-29T17:17:04.545Z"
   },
   {
    "duration": 41,
    "start_time": "2025-05-29T17:17:05.102Z"
   },
   {
    "duration": 78,
    "start_time": "2025-05-29T17:17:05.145Z"
   },
   {
    "duration": 17,
    "start_time": "2025-05-29T17:17:05.225Z"
   },
   {
    "duration": 53,
    "start_time": "2025-05-29T17:17:05.244Z"
   },
   {
    "duration": 540,
    "start_time": "2025-05-29T17:17:05.299Z"
   },
   {
    "duration": 507,
    "start_time": "2025-05-29T17:17:05.841Z"
   },
   {
    "duration": 23,
    "start_time": "2025-05-29T17:17:06.350Z"
   },
   {
    "duration": 41,
    "start_time": "2025-05-29T17:17:06.374Z"
   },
   {
    "duration": 62,
    "start_time": "2025-05-29T17:17:06.417Z"
   },
   {
    "duration": 4,
    "start_time": "2025-05-29T17:17:06.481Z"
   },
   {
    "duration": 138,
    "start_time": "2025-05-29T17:17:06.487Z"
   },
   {
    "duration": 68,
    "start_time": "2025-05-29T17:17:06.627Z"
   },
   {
    "duration": 2629,
    "start_time": "2025-05-29T17:18:22.726Z"
   },
   {
    "duration": 67,
    "start_time": "2025-05-29T17:19:19.881Z"
   },
   {
    "duration": 0,
    "start_time": "2025-05-29T17:19:59.288Z"
   },
   {
    "duration": 2559,
    "start_time": "2025-05-29T17:20:01.282Z"
   },
   {
    "duration": 0,
    "start_time": "2025-05-29T17:21:39.055Z"
   },
   {
    "duration": 259,
    "start_time": "2025-05-29T17:21:41.316Z"
   },
   {
    "duration": 15,
    "start_time": "2025-05-29T17:22:04.707Z"
   },
   {
    "duration": 226,
    "start_time": "2025-05-29T17:22:09.273Z"
   },
   {
    "duration": 267,
    "start_time": "2025-05-29T17:22:19.212Z"
   },
   {
    "duration": 11,
    "start_time": "2025-05-29T17:25:05.340Z"
   },
   {
    "duration": 519,
    "start_time": "2025-05-29T17:25:12.869Z"
   },
   {
    "duration": 2566,
    "start_time": "2025-05-29T17:25:24.927Z"
   },
   {
    "duration": 199,
    "start_time": "2025-05-29T17:25:55.379Z"
   },
   {
    "duration": 222,
    "start_time": "2025-05-29T17:26:03.170Z"
   },
   {
    "duration": 50,
    "start_time": "2025-05-29T17:27:15.046Z"
   },
   {
    "duration": 3,
    "start_time": "2025-05-29T17:27:15.326Z"
   },
   {
    "duration": 108,
    "start_time": "2025-05-29T17:27:15.695Z"
   },
   {
    "duration": 201,
    "start_time": "2025-05-29T17:27:16.194Z"
   },
   {
    "duration": 40,
    "start_time": "2025-05-29T17:27:55.571Z"
   },
   {
    "duration": 91,
    "start_time": "2025-05-29T17:28:19.563Z"
   },
   {
    "duration": 4905,
    "start_time": "2025-05-29T17:59:33.690Z"
   },
   {
    "duration": 4,
    "start_time": "2025-05-29T17:59:38.598Z"
   },
   {
    "duration": 4,
    "start_time": "2025-05-29T17:59:38.604Z"
   },
   {
    "duration": 865,
    "start_time": "2025-05-29T17:59:38.609Z"
   },
   {
    "duration": 3,
    "start_time": "2025-05-29T17:59:39.476Z"
   },
   {
    "duration": 238,
    "start_time": "2025-05-29T17:59:39.480Z"
   },
   {
    "duration": 3,
    "start_time": "2025-05-29T17:59:39.720Z"
   },
   {
    "duration": 3,
    "start_time": "2025-05-29T17:59:39.735Z"
   },
   {
    "duration": 247,
    "start_time": "2025-05-29T17:59:39.740Z"
   },
   {
    "duration": 597,
    "start_time": "2025-05-29T17:59:39.989Z"
   },
   {
    "duration": 7,
    "start_time": "2025-05-29T17:59:40.588Z"
   },
   {
    "duration": 47,
    "start_time": "2025-05-29T17:59:40.597Z"
   },
   {
    "duration": 104,
    "start_time": "2025-05-29T17:59:40.645Z"
   },
   {
    "duration": 34,
    "start_time": "2025-05-29T17:59:40.751Z"
   },
   {
    "duration": 273,
    "start_time": "2025-05-29T17:59:40.787Z"
   },
   {
    "duration": 21,
    "start_time": "2025-05-29T17:59:41.062Z"
   },
   {
    "duration": 66,
    "start_time": "2025-05-29T17:59:41.085Z"
   },
   {
    "duration": 45,
    "start_time": "2025-05-29T17:59:41.152Z"
   },
   {
    "duration": 51,
    "start_time": "2025-05-29T17:59:41.198Z"
   },
   {
    "duration": 21,
    "start_time": "2025-05-29T17:59:41.251Z"
   },
   {
    "duration": 111,
    "start_time": "2025-05-29T17:59:41.274Z"
   },
   {
    "duration": 202,
    "start_time": "2025-05-29T17:59:41.386Z"
   },
   {
    "duration": 225,
    "start_time": "2025-05-29T17:59:41.589Z"
   },
   {
    "duration": 241,
    "start_time": "2025-05-29T17:59:41.815Z"
   },
   {
    "duration": 96,
    "start_time": "2025-05-29T17:59:42.057Z"
   },
   {
    "duration": 49,
    "start_time": "2025-05-29T17:59:42.154Z"
   },
   {
    "duration": 4,
    "start_time": "2025-05-29T17:59:42.205Z"
   },
   {
    "duration": 506,
    "start_time": "2025-05-29T17:59:42.211Z"
   },
   {
    "duration": 68,
    "start_time": "2025-05-29T17:59:42.719Z"
   },
   {
    "duration": 62,
    "start_time": "2025-05-29T17:59:42.788Z"
   },
   {
    "duration": 455,
    "start_time": "2025-05-29T17:59:42.852Z"
   },
   {
    "duration": 38,
    "start_time": "2025-05-29T17:59:43.309Z"
   },
   {
    "duration": 17,
    "start_time": "2025-05-29T17:59:43.348Z"
   },
   {
    "duration": 5,
    "start_time": "2025-05-29T17:59:43.366Z"
   },
   {
    "duration": 50,
    "start_time": "2025-05-29T17:59:43.373Z"
   },
   {
    "duration": 480,
    "start_time": "2025-05-29T17:59:43.425Z"
   },
   {
    "duration": 551,
    "start_time": "2025-05-29T17:59:43.907Z"
   },
   {
    "duration": 23,
    "start_time": "2025-05-29T17:59:44.460Z"
   },
   {
    "duration": 33,
    "start_time": "2025-05-29T17:59:44.484Z"
   },
   {
    "duration": 54,
    "start_time": "2025-05-29T17:59:44.535Z"
   },
   {
    "duration": 3,
    "start_time": "2025-05-29T17:59:44.592Z"
   },
   {
    "duration": 107,
    "start_time": "2025-05-29T17:59:44.596Z"
   },
   {
    "duration": 273,
    "start_time": "2025-05-29T17:59:44.704Z"
   },
   {
    "duration": 58,
    "start_time": "2025-05-29T17:59:44.979Z"
   },
   {
    "duration": 86,
    "start_time": "2025-05-29T17:59:45.039Z"
   },
   {
    "duration": 88,
    "start_time": "2025-05-29T18:05:23.959Z"
   },
   {
    "duration": 56,
    "start_time": "2025-05-29T18:06:23.913Z"
   },
   {
    "duration": 13,
    "start_time": "2025-05-29T18:06:30.459Z"
   },
   {
    "duration": 10,
    "start_time": "2025-05-29T18:07:05.689Z"
   },
   {
    "duration": 4,
    "start_time": "2025-05-29T18:08:36.851Z"
   },
   {
    "duration": 4,
    "start_time": "2025-05-29T18:11:24.354Z"
   },
   {
    "duration": 10,
    "start_time": "2025-05-29T18:12:39.625Z"
   },
   {
    "duration": 4,
    "start_time": "2025-05-29T18:13:25.898Z"
   },
   {
    "duration": 3,
    "start_time": "2025-05-29T18:13:40.131Z"
   },
   {
    "duration": 21,
    "start_time": "2025-05-29T18:14:57.341Z"
   },
   {
    "duration": 2,
    "start_time": "2025-05-29T18:15:17.822Z"
   },
   {
    "duration": 4,
    "start_time": "2025-05-29T18:22:15.519Z"
   },
   {
    "duration": 4,
    "start_time": "2025-05-29T18:23:14.394Z"
   },
   {
    "duration": 2,
    "start_time": "2025-05-29T18:23:37.639Z"
   },
   {
    "duration": 16,
    "start_time": "2025-05-29T18:24:07.577Z"
   },
   {
    "duration": 3,
    "start_time": "2025-05-29T18:26:27.009Z"
   },
   {
    "duration": 285173,
    "start_time": "2025-05-29T18:26:28.443Z"
   },
   {
    "duration": 3,
    "start_time": "2025-05-29T18:32:59.421Z"
   },
   {
    "duration": 4728,
    "start_time": "2025-05-29T18:33:30.439Z"
   },
   {
    "duration": 2738,
    "start_time": "2025-05-29T18:33:35.170Z"
   },
   {
    "duration": 2,
    "start_time": "2025-05-29T18:33:37.910Z"
   },
   {
    "duration": 869,
    "start_time": "2025-05-29T18:33:37.913Z"
   },
   {
    "duration": 3,
    "start_time": "2025-05-29T18:33:38.784Z"
   },
   {
    "duration": 273,
    "start_time": "2025-05-29T18:33:38.788Z"
   },
   {
    "duration": 3,
    "start_time": "2025-05-29T18:33:39.062Z"
   },
   {
    "duration": 4,
    "start_time": "2025-05-29T18:33:39.067Z"
   },
   {
    "duration": 329,
    "start_time": "2025-05-29T18:33:39.072Z"
   },
   {
    "duration": 604,
    "start_time": "2025-05-29T18:33:39.403Z"
   },
   {
    "duration": 8,
    "start_time": "2025-05-29T18:33:40.008Z"
   },
   {
    "duration": 84,
    "start_time": "2025-05-29T18:33:40.018Z"
   },
   {
    "duration": 95,
    "start_time": "2025-05-29T18:33:40.103Z"
   },
   {
    "duration": 54,
    "start_time": "2025-05-29T18:33:40.215Z"
   },
   {
    "duration": 184,
    "start_time": "2025-05-29T18:33:40.270Z"
   },
   {
    "duration": 90,
    "start_time": "2025-05-29T18:33:40.455Z"
   },
   {
    "duration": 53,
    "start_time": "2025-05-29T18:33:40.547Z"
   },
   {
    "duration": 45,
    "start_time": "2025-05-29T18:33:40.601Z"
   },
   {
    "duration": 40,
    "start_time": "2025-05-29T18:33:40.647Z"
   },
   {
    "duration": 29,
    "start_time": "2025-05-29T18:33:40.689Z"
   },
   {
    "duration": 82,
    "start_time": "2025-05-29T18:33:40.720Z"
   },
   {
    "duration": 209,
    "start_time": "2025-05-29T18:33:40.804Z"
   },
   {
    "duration": 218,
    "start_time": "2025-05-29T18:33:41.014Z"
   },
   {
    "duration": 240,
    "start_time": "2025-05-29T18:33:41.235Z"
   },
   {
    "duration": 105,
    "start_time": "2025-05-29T18:33:41.477Z"
   },
   {
    "duration": 24,
    "start_time": "2025-05-29T18:33:41.584Z"
   },
   {
    "duration": 5,
    "start_time": "2025-05-29T18:33:41.609Z"
   },
   {
    "duration": 542,
    "start_time": "2025-05-29T18:33:41.616Z"
   },
   {
    "duration": 54,
    "start_time": "2025-05-29T18:33:42.159Z"
   },
   {
    "duration": 76,
    "start_time": "2025-05-29T18:33:42.214Z"
   },
   {
    "duration": 523,
    "start_time": "2025-05-29T18:33:42.291Z"
   },
   {
    "duration": 35,
    "start_time": "2025-05-29T18:33:42.815Z"
   },
   {
    "duration": 7,
    "start_time": "2025-05-29T18:33:42.851Z"
   },
   {
    "duration": 6,
    "start_time": "2025-05-29T18:33:42.859Z"
   },
   {
    "duration": 83,
    "start_time": "2025-05-29T18:33:42.866Z"
   },
   {
    "duration": 550,
    "start_time": "2025-05-29T18:33:42.951Z"
   },
   {
    "duration": 523,
    "start_time": "2025-05-29T18:33:43.502Z"
   },
   {
    "duration": 27,
    "start_time": "2025-05-29T18:33:44.026Z"
   },
   {
    "duration": 84,
    "start_time": "2025-05-29T18:33:44.054Z"
   },
   {
    "duration": 55,
    "start_time": "2025-05-29T18:33:44.140Z"
   },
   {
    "duration": 4,
    "start_time": "2025-05-29T18:33:44.200Z"
   },
   {
    "duration": 151,
    "start_time": "2025-05-29T18:33:44.205Z"
   },
   {
    "duration": 234,
    "start_time": "2025-05-29T18:33:44.357Z"
   },
   {
    "duration": 64,
    "start_time": "2025-05-29T18:33:44.593Z"
   },
   {
    "duration": 90,
    "start_time": "2025-05-29T18:33:44.659Z"
   },
   {
    "duration": 95,
    "start_time": "2025-05-29T18:33:44.750Z"
   },
   {
    "duration": 145,
    "start_time": "2025-05-29T18:33:44.847Z"
   },
   {
    "duration": 0,
    "start_time": "2025-05-29T18:33:44.994Z"
   },
   {
    "duration": 0,
    "start_time": "2025-05-29T18:33:44.995Z"
   },
   {
    "duration": 1,
    "start_time": "2025-05-29T18:33:44.996Z"
   },
   {
    "duration": 0,
    "start_time": "2025-05-29T18:33:44.998Z"
   },
   {
    "duration": 0,
    "start_time": "2025-05-29T18:33:44.999Z"
   },
   {
    "duration": 0,
    "start_time": "2025-05-29T18:33:45.000Z"
   },
   {
    "duration": 0,
    "start_time": "2025-05-29T18:33:45.001Z"
   },
   {
    "duration": 253,
    "start_time": "2025-05-29T18:34:35.970Z"
   },
   {
    "duration": 10,
    "start_time": "2025-05-29T18:34:36.936Z"
   },
   {
    "duration": 6,
    "start_time": "2025-05-29T18:34:37.307Z"
   },
   {
    "duration": 3,
    "start_time": "2025-05-29T18:34:37.637Z"
   },
   {
    "duration": 3,
    "start_time": "2025-05-29T18:34:37.921Z"
   },
   {
    "duration": 5,
    "start_time": "2025-05-29T18:34:38.638Z"
   },
   {
    "duration": 3,
    "start_time": "2025-05-29T18:34:39.662Z"
   },
   {
    "duration": 430000,
    "start_time": "2025-05-29T18:34:40.174Z"
   },
   {
    "duration": 13,
    "start_time": "2025-05-29T18:42:37.252Z"
   },
   {
    "duration": 2131,
    "start_time": "2025-05-29T18:42:44.683Z"
   },
   {
    "duration": 1318,
    "start_time": "2025-05-29T18:49:45.606Z"
   },
   {
    "duration": 7,
    "start_time": "2025-05-29T18:49:54.195Z"
   },
   {
    "duration": 8,
    "start_time": "2025-05-29T18:50:22.560Z"
   },
   {
    "duration": 8,
    "start_time": "2025-05-29T18:51:06.401Z"
   },
   {
    "duration": 12,
    "start_time": "2025-05-29T18:51:15.296Z"
   },
   {
    "duration": 78,
    "start_time": "2025-05-29T18:51:24.442Z"
   },
   {
    "duration": 235,
    "start_time": "2025-05-29T18:51:25.012Z"
   },
   {
    "duration": 8,
    "start_time": "2025-05-29T18:51:26.054Z"
   },
   {
    "duration": 11,
    "start_time": "2025-05-29T18:51:26.666Z"
   },
   {
    "duration": 2,
    "start_time": "2025-05-29T18:51:45.406Z"
   },
   {
    "duration": 9,
    "start_time": "2025-05-29T18:51:53.188Z"
   },
   {
    "duration": 8,
    "start_time": "2025-05-29T18:52:06.808Z"
   },
   {
    "duration": 5,
    "start_time": "2025-05-29T18:52:07.934Z"
   },
   {
    "duration": 5,
    "start_time": "2025-05-29T18:52:11.109Z"
   },
   {
    "duration": 9,
    "start_time": "2025-05-29T18:52:28.723Z"
   },
   {
    "duration": 5,
    "start_time": "2025-05-29T18:52:28.838Z"
   },
   {
    "duration": 3,
    "start_time": "2025-05-29T18:52:30.394Z"
   },
   {
    "duration": 3,
    "start_time": "2025-05-29T18:52:30.793Z"
   },
   {
    "duration": 4,
    "start_time": "2025-05-29T18:52:31.384Z"
   },
   {
    "duration": 3,
    "start_time": "2025-05-29T18:52:31.815Z"
   },
   {
    "duration": 1806,
    "start_time": "2025-05-29T18:52:32.409Z"
   },
   {
    "duration": 361594,
    "start_time": "2025-05-29T18:52:39.474Z"
   },
   {
    "duration": 0,
    "start_time": "2025-05-29T18:58:41.071Z"
   },
   {
    "duration": 0,
    "start_time": "2025-05-29T18:58:41.072Z"
   },
   {
    "duration": 0,
    "start_time": "2025-05-29T18:58:41.073Z"
   },
   {
    "duration": 0,
    "start_time": "2025-05-29T18:58:41.074Z"
   },
   {
    "duration": 0,
    "start_time": "2025-05-29T18:58:41.075Z"
   },
   {
    "duration": 0,
    "start_time": "2025-05-29T18:58:41.076Z"
   },
   {
    "duration": 0,
    "start_time": "2025-05-29T18:58:41.077Z"
   },
   {
    "duration": 0,
    "start_time": "2025-05-29T18:58:41.078Z"
   },
   {
    "duration": 0,
    "start_time": "2025-05-29T18:58:41.079Z"
   },
   {
    "duration": 0,
    "start_time": "2025-05-29T18:58:41.080Z"
   },
   {
    "duration": 0,
    "start_time": "2025-05-29T18:58:41.081Z"
   },
   {
    "duration": 0,
    "start_time": "2025-05-29T18:58:41.083Z"
   },
   {
    "duration": 0,
    "start_time": "2025-05-29T18:58:41.083Z"
   },
   {
    "duration": 0,
    "start_time": "2025-05-29T18:58:41.084Z"
   },
   {
    "duration": 0,
    "start_time": "2025-05-29T18:58:41.085Z"
   },
   {
    "duration": 1,
    "start_time": "2025-05-29T18:58:41.086Z"
   },
   {
    "duration": 0,
    "start_time": "2025-05-29T18:58:41.088Z"
   },
   {
    "duration": 0,
    "start_time": "2025-05-29T18:58:41.089Z"
   },
   {
    "duration": 0,
    "start_time": "2025-05-29T18:58:41.089Z"
   },
   {
    "duration": 0,
    "start_time": "2025-05-29T18:58:41.091Z"
   },
   {
    "duration": 0,
    "start_time": "2025-05-29T18:58:41.092Z"
   },
   {
    "duration": 0,
    "start_time": "2025-05-29T18:58:41.092Z"
   },
   {
    "duration": 0,
    "start_time": "2025-05-29T18:58:41.093Z"
   },
   {
    "duration": 0,
    "start_time": "2025-05-29T18:58:41.094Z"
   },
   {
    "duration": 0,
    "start_time": "2025-05-29T18:58:41.095Z"
   },
   {
    "duration": 0,
    "start_time": "2025-05-29T18:58:41.096Z"
   },
   {
    "duration": 0,
    "start_time": "2025-05-29T18:58:41.097Z"
   },
   {
    "duration": 0,
    "start_time": "2025-05-29T18:58:41.135Z"
   },
   {
    "duration": 0,
    "start_time": "2025-05-29T18:58:41.136Z"
   },
   {
    "duration": 0,
    "start_time": "2025-05-29T18:58:41.137Z"
   },
   {
    "duration": 0,
    "start_time": "2025-05-29T18:58:41.138Z"
   },
   {
    "duration": 0,
    "start_time": "2025-05-29T18:58:41.140Z"
   },
   {
    "duration": 0,
    "start_time": "2025-05-29T18:58:41.140Z"
   },
   {
    "duration": 0,
    "start_time": "2025-05-29T18:58:41.142Z"
   },
   {
    "duration": 0,
    "start_time": "2025-05-29T18:58:41.143Z"
   },
   {
    "duration": 0,
    "start_time": "2025-05-29T18:58:41.144Z"
   },
   {
    "duration": 0,
    "start_time": "2025-05-29T18:58:41.145Z"
   },
   {
    "duration": 0,
    "start_time": "2025-05-29T18:58:41.145Z"
   },
   {
    "duration": 0,
    "start_time": "2025-05-29T18:58:41.146Z"
   },
   {
    "duration": 0,
    "start_time": "2025-05-29T18:58:41.148Z"
   },
   {
    "duration": 0,
    "start_time": "2025-05-29T18:58:41.149Z"
   },
   {
    "duration": 0,
    "start_time": "2025-05-29T18:58:41.150Z"
   },
   {
    "duration": 0,
    "start_time": "2025-05-29T18:58:41.151Z"
   },
   {
    "duration": 0,
    "start_time": "2025-05-29T18:58:41.152Z"
   },
   {
    "duration": 0,
    "start_time": "2025-05-29T18:58:41.153Z"
   },
   {
    "duration": 0,
    "start_time": "2025-05-29T18:58:41.154Z"
   },
   {
    "duration": 0,
    "start_time": "2025-05-29T18:58:41.155Z"
   },
   {
    "duration": 4708,
    "start_time": "2025-05-29T18:59:36.650Z"
   },
   {
    "duration": 4,
    "start_time": "2025-05-29T18:59:41.361Z"
   },
   {
    "duration": 9,
    "start_time": "2025-05-29T18:59:41.367Z"
   },
   {
    "duration": 824,
    "start_time": "2025-05-29T18:59:41.378Z"
   },
   {
    "duration": 3,
    "start_time": "2025-05-29T18:59:42.205Z"
   },
   {
    "duration": 249,
    "start_time": "2025-05-29T18:59:42.209Z"
   },
   {
    "duration": 3,
    "start_time": "2025-05-29T18:59:42.460Z"
   },
   {
    "duration": 4,
    "start_time": "2025-05-29T18:59:42.465Z"
   },
   {
    "duration": 253,
    "start_time": "2025-05-29T18:59:42.470Z"
   },
   {
    "duration": 596,
    "start_time": "2025-05-29T18:59:42.725Z"
   },
   {
    "duration": 2,
    "start_time": "2025-05-29T18:59:43.323Z"
   },
   {
    "duration": 36,
    "start_time": "2025-05-29T18:59:43.335Z"
   },
   {
    "duration": 111,
    "start_time": "2025-05-29T18:59:43.373Z"
   },
   {
    "duration": 92,
    "start_time": "2025-05-29T18:59:43.487Z"
   },
   {
    "duration": 274,
    "start_time": "2025-05-29T18:59:43.581Z"
   },
   {
    "duration": 22,
    "start_time": "2025-05-29T18:59:43.856Z"
   },
   {
    "duration": 68,
    "start_time": "2025-05-29T18:59:43.879Z"
   },
   {
    "duration": 46,
    "start_time": "2025-05-29T18:59:43.949Z"
   },
   {
    "duration": 46,
    "start_time": "2025-05-29T18:59:43.996Z"
   },
   {
    "duration": 20,
    "start_time": "2025-05-29T18:59:44.043Z"
   },
   {
    "duration": 101,
    "start_time": "2025-05-29T18:59:44.065Z"
   },
   {
    "duration": 248,
    "start_time": "2025-05-29T18:59:44.168Z"
   },
   {
    "duration": 228,
    "start_time": "2025-05-29T18:59:44.418Z"
   },
   {
    "duration": 258,
    "start_time": "2025-05-29T18:59:44.648Z"
   },
   {
    "duration": 78,
    "start_time": "2025-05-29T18:59:44.908Z"
   },
   {
    "duration": 49,
    "start_time": "2025-05-29T18:59:44.987Z"
   },
   {
    "duration": 4,
    "start_time": "2025-05-29T18:59:45.038Z"
   },
   {
    "duration": 559,
    "start_time": "2025-05-29T18:59:45.043Z"
   },
   {
    "duration": 55,
    "start_time": "2025-05-29T18:59:45.604Z"
   },
   {
    "duration": 50,
    "start_time": "2025-05-29T18:59:45.661Z"
   },
   {
    "duration": 494,
    "start_time": "2025-05-29T18:59:45.713Z"
   },
   {
    "duration": 38,
    "start_time": "2025-05-29T18:59:46.208Z"
   },
   {
    "duration": 6,
    "start_time": "2025-05-29T18:59:46.248Z"
   },
   {
    "duration": 83,
    "start_time": "2025-05-29T18:59:46.256Z"
   },
   {
    "duration": 53,
    "start_time": "2025-05-29T18:59:46.340Z"
   },
   {
    "duration": 604,
    "start_time": "2025-05-29T18:59:46.395Z"
   },
   {
    "duration": 545,
    "start_time": "2025-05-29T18:59:47.001Z"
   },
   {
    "duration": 22,
    "start_time": "2025-05-29T18:59:47.548Z"
   },
   {
    "duration": 36,
    "start_time": "2025-05-29T18:59:47.572Z"
   },
   {
    "duration": 73,
    "start_time": "2025-05-29T18:59:47.610Z"
   },
   {
    "duration": 3,
    "start_time": "2025-05-29T18:59:47.687Z"
   },
   {
    "duration": 105,
    "start_time": "2025-05-29T18:59:47.691Z"
   },
   {
    "duration": 250,
    "start_time": "2025-05-29T18:59:47.798Z"
   },
   {
    "duration": 54,
    "start_time": "2025-05-29T18:59:48.049Z"
   },
   {
    "duration": 90,
    "start_time": "2025-05-29T18:59:48.105Z"
   },
   {
    "duration": 31,
    "start_time": "2025-05-29T18:59:48.197Z"
   },
   {
    "duration": 94,
    "start_time": "2025-05-29T18:59:48.229Z"
   },
   {
    "duration": 243,
    "start_time": "2025-05-29T18:59:54.268Z"
   },
   {
    "duration": 13,
    "start_time": "2025-05-29T18:59:55.797Z"
   },
   {
    "duration": 15,
    "start_time": "2025-05-29T19:00:33.788Z"
   },
   {
    "duration": 15,
    "start_time": "2025-05-29T19:00:36.872Z"
   },
   {
    "duration": 9,
    "start_time": "2025-05-29T19:00:55.497Z"
   },
   {
    "duration": 4835,
    "start_time": "2025-05-29T19:01:25.304Z"
   },
   {
    "duration": 5,
    "start_time": "2025-05-29T19:01:30.142Z"
   },
   {
    "duration": 71,
    "start_time": "2025-05-29T19:01:30.148Z"
   },
   {
    "duration": 908,
    "start_time": "2025-05-29T19:01:30.221Z"
   },
   {
    "duration": 5,
    "start_time": "2025-05-29T19:01:31.131Z"
   },
   {
    "duration": 235,
    "start_time": "2025-05-29T19:01:31.137Z"
   },
   {
    "duration": 3,
    "start_time": "2025-05-29T19:01:31.373Z"
   },
   {
    "duration": 4,
    "start_time": "2025-05-29T19:01:31.378Z"
   },
   {
    "duration": 250,
    "start_time": "2025-05-29T19:01:31.383Z"
   },
   {
    "duration": 657,
    "start_time": "2025-05-29T19:01:31.635Z"
   },
   {
    "duration": 3,
    "start_time": "2025-05-29T19:01:32.293Z"
   },
   {
    "duration": 74,
    "start_time": "2025-05-29T19:01:32.297Z"
   },
   {
    "duration": 138,
    "start_time": "2025-05-29T19:01:32.373Z"
   },
   {
    "duration": 62,
    "start_time": "2025-05-29T19:01:32.514Z"
   },
   {
    "duration": 380,
    "start_time": "2025-05-29T19:01:32.577Z"
   },
   {
    "duration": 36,
    "start_time": "2025-05-29T19:01:32.959Z"
   },
   {
    "duration": 39,
    "start_time": "2025-05-29T19:01:32.997Z"
   },
   {
    "duration": 44,
    "start_time": "2025-05-29T19:01:33.037Z"
   },
   {
    "duration": 53,
    "start_time": "2025-05-29T19:01:33.082Z"
   },
   {
    "duration": 20,
    "start_time": "2025-05-29T19:01:33.137Z"
   },
   {
    "duration": 94,
    "start_time": "2025-05-29T19:01:33.159Z"
   },
   {
    "duration": 270,
    "start_time": "2025-05-29T19:01:33.254Z"
   },
   {
    "duration": 291,
    "start_time": "2025-05-29T19:01:33.525Z"
   },
   {
    "duration": 332,
    "start_time": "2025-05-29T19:01:33.818Z"
   },
   {
    "duration": 94,
    "start_time": "2025-05-29T19:01:34.152Z"
   },
   {
    "duration": 45,
    "start_time": "2025-05-29T19:01:34.248Z"
   },
   {
    "duration": 34,
    "start_time": "2025-05-29T19:01:34.294Z"
   },
   {
    "duration": 575,
    "start_time": "2025-05-29T19:01:34.329Z"
   },
   {
    "duration": 56,
    "start_time": "2025-05-29T19:01:34.906Z"
   },
   {
    "duration": 71,
    "start_time": "2025-05-29T19:01:34.964Z"
   },
   {
    "duration": 470,
    "start_time": "2025-05-29T19:01:35.037Z"
   },
   {
    "duration": 39,
    "start_time": "2025-05-29T19:01:35.509Z"
   },
   {
    "duration": 44,
    "start_time": "2025-05-29T19:01:35.550Z"
   },
   {
    "duration": 19,
    "start_time": "2025-05-29T19:01:35.596Z"
   },
   {
    "duration": 59,
    "start_time": "2025-05-29T19:01:35.617Z"
   },
   {
    "duration": 682,
    "start_time": "2025-05-29T19:01:35.678Z"
   },
   {
    "duration": 539,
    "start_time": "2025-05-29T19:01:36.362Z"
   },
   {
    "duration": 36,
    "start_time": "2025-05-29T19:01:36.903Z"
   },
   {
    "duration": 34,
    "start_time": "2025-05-29T19:01:36.940Z"
   },
   {
    "duration": 86,
    "start_time": "2025-05-29T19:01:36.976Z"
   },
   {
    "duration": 3,
    "start_time": "2025-05-29T19:01:37.068Z"
   },
   {
    "duration": 120,
    "start_time": "2025-05-29T19:01:37.072Z"
   },
   {
    "duration": 262,
    "start_time": "2025-05-29T19:01:37.193Z"
   },
   {
    "duration": 56,
    "start_time": "2025-05-29T19:01:37.457Z"
   },
   {
    "duration": 144,
    "start_time": "2025-05-29T19:01:37.515Z"
   },
   {
    "duration": 9,
    "start_time": "2025-05-29T19:01:37.661Z"
   },
   {
    "duration": 129,
    "start_time": "2025-05-29T19:01:37.671Z"
   },
   {
    "duration": 321,
    "start_time": "2025-05-29T19:01:37.801Z"
   },
   {
    "duration": 13,
    "start_time": "2025-05-29T19:01:38.124Z"
   },
   {
    "duration": 4708,
    "start_time": "2025-05-29T19:01:50.266Z"
   },
   {
    "duration": 5,
    "start_time": "2025-05-29T19:01:54.976Z"
   },
   {
    "duration": 10,
    "start_time": "2025-05-29T19:01:54.983Z"
   },
   {
    "duration": 865,
    "start_time": "2025-05-29T19:01:54.995Z"
   },
   {
    "duration": 3,
    "start_time": "2025-05-29T19:01:55.861Z"
   },
   {
    "duration": 282,
    "start_time": "2025-05-29T19:01:55.866Z"
   },
   {
    "duration": 4,
    "start_time": "2025-05-29T19:01:56.149Z"
   },
   {
    "duration": 111,
    "start_time": "2025-05-29T19:01:56.155Z"
   },
   {
    "duration": 328,
    "start_time": "2025-05-29T19:01:56.268Z"
   },
   {
    "duration": 622,
    "start_time": "2025-05-29T19:01:56.598Z"
   },
   {
    "duration": 3,
    "start_time": "2025-05-29T19:01:57.221Z"
   },
   {
    "duration": 49,
    "start_time": "2025-05-29T19:01:57.234Z"
   },
   {
    "duration": 155,
    "start_time": "2025-05-29T19:01:57.285Z"
   },
   {
    "duration": 183,
    "start_time": "2025-05-29T19:01:57.442Z"
   },
   {
    "duration": 327,
    "start_time": "2025-05-29T19:01:57.627Z"
   },
   {
    "duration": 32,
    "start_time": "2025-05-29T19:01:57.955Z"
   },
   {
    "duration": 48,
    "start_time": "2025-05-29T19:01:57.988Z"
   },
   {
    "duration": 58,
    "start_time": "2025-05-29T19:01:58.037Z"
   },
   {
    "duration": 72,
    "start_time": "2025-05-29T19:01:58.096Z"
   },
   {
    "duration": 64,
    "start_time": "2025-05-29T19:01:58.169Z"
   },
   {
    "duration": 110,
    "start_time": "2025-05-29T19:01:58.235Z"
   },
   {
    "duration": 273,
    "start_time": "2025-05-29T19:01:58.347Z"
   },
   {
    "duration": 300,
    "start_time": "2025-05-29T19:01:58.622Z"
   },
   {
    "duration": 351,
    "start_time": "2025-05-29T19:01:58.924Z"
   },
   {
    "duration": 84,
    "start_time": "2025-05-29T19:01:59.277Z"
   },
   {
    "duration": 46,
    "start_time": "2025-05-29T19:01:59.363Z"
   },
   {
    "duration": 4,
    "start_time": "2025-05-29T19:01:59.411Z"
   },
   {
    "duration": 757,
    "start_time": "2025-05-29T19:01:59.418Z"
   },
   {
    "duration": 47,
    "start_time": "2025-05-29T19:02:00.177Z"
   },
   {
    "duration": 84,
    "start_time": "2025-05-29T19:02:00.225Z"
   },
   {
    "duration": 491,
    "start_time": "2025-05-29T19:02:00.311Z"
   },
   {
    "duration": 34,
    "start_time": "2025-05-29T19:02:00.804Z"
   },
   {
    "duration": 46,
    "start_time": "2025-05-29T19:02:00.839Z"
   },
   {
    "duration": 20,
    "start_time": "2025-05-29T19:02:00.887Z"
   },
   {
    "duration": 67,
    "start_time": "2025-05-29T19:02:00.909Z"
   },
   {
    "duration": 512,
    "start_time": "2025-05-29T19:02:00.978Z"
   },
   {
    "duration": 654,
    "start_time": "2025-05-29T19:02:01.492Z"
   },
   {
    "duration": 25,
    "start_time": "2025-05-29T19:02:02.148Z"
   },
   {
    "duration": 71,
    "start_time": "2025-05-29T19:02:02.176Z"
   },
   {
    "duration": 88,
    "start_time": "2025-05-29T19:02:02.249Z"
   },
   {
    "duration": 12,
    "start_time": "2025-05-29T19:02:02.339Z"
   },
   {
    "duration": 111,
    "start_time": "2025-05-29T19:02:02.352Z"
   },
   {
    "duration": 226,
    "start_time": "2025-05-29T19:02:02.465Z"
   },
   {
    "duration": 73,
    "start_time": "2025-05-29T19:02:02.693Z"
   },
   {
    "duration": 85,
    "start_time": "2025-05-29T19:02:02.768Z"
   },
   {
    "duration": 8,
    "start_time": "2025-05-29T19:02:02.855Z"
   },
   {
    "duration": 209,
    "start_time": "2025-05-29T19:02:02.865Z"
   },
   {
    "duration": 343,
    "start_time": "2025-05-29T19:02:03.076Z"
   },
   {
    "duration": 16,
    "start_time": "2025-05-29T19:02:03.421Z"
   },
   {
    "duration": 5,
    "start_time": "2025-05-29T19:02:05.980Z"
   },
   {
    "duration": 3,
    "start_time": "2025-05-29T19:02:08.202Z"
   },
   {
    "duration": 3,
    "start_time": "2025-05-29T19:02:09.226Z"
   },
   {
    "duration": 5,
    "start_time": "2025-05-29T19:02:10.352Z"
   },
   {
    "duration": 3,
    "start_time": "2025-05-29T19:02:11.627Z"
   },
   {
    "duration": 80493,
    "start_time": "2025-05-29T19:02:15.882Z"
   },
   {
    "duration": 1823,
    "start_time": "2025-05-29T19:03:44.887Z"
   },
   {
    "duration": 4806,
    "start_time": "2025-05-29T19:23:15.743Z"
   },
   {
    "duration": 5,
    "start_time": "2025-05-29T19:23:20.552Z"
   },
   {
    "duration": 12,
    "start_time": "2025-05-29T19:23:20.558Z"
   },
   {
    "duration": 856,
    "start_time": "2025-05-29T19:23:20.571Z"
   },
   {
    "duration": 6,
    "start_time": "2025-05-29T19:23:21.430Z"
   },
   {
    "duration": 235,
    "start_time": "2025-05-29T19:23:21.437Z"
   },
   {
    "duration": 3,
    "start_time": "2025-05-29T19:23:21.673Z"
   },
   {
    "duration": 15,
    "start_time": "2025-05-29T19:23:21.677Z"
   },
   {
    "duration": 229,
    "start_time": "2025-05-29T19:23:21.693Z"
   },
   {
    "duration": 708,
    "start_time": "2025-05-29T19:23:21.924Z"
   },
   {
    "duration": 8,
    "start_time": "2025-05-29T19:23:22.634Z"
   },
   {
    "duration": 49,
    "start_time": "2025-05-29T19:23:22.643Z"
   },
   {
    "duration": 242,
    "start_time": "2025-05-29T19:23:22.694Z"
   },
   {
    "duration": 53,
    "start_time": "2025-05-29T19:23:22.941Z"
   },
   {
    "duration": 431,
    "start_time": "2025-05-29T19:23:22.995Z"
   },
   {
    "duration": 32,
    "start_time": "2025-05-29T19:23:23.437Z"
   },
   {
    "duration": 47,
    "start_time": "2025-05-29T19:23:23.471Z"
   },
   {
    "duration": 157,
    "start_time": "2025-05-29T19:23:23.535Z"
   },
   {
    "duration": 70,
    "start_time": "2025-05-29T19:23:23.693Z"
   },
   {
    "duration": 27,
    "start_time": "2025-05-29T19:23:23.765Z"
   },
   {
    "duration": 127,
    "start_time": "2025-05-29T19:23:23.794Z"
   },
   {
    "duration": 328,
    "start_time": "2025-05-29T19:23:23.923Z"
   },
   {
    "duration": 339,
    "start_time": "2025-05-29T19:23:24.253Z"
   },
   {
    "duration": 372,
    "start_time": "2025-05-29T19:23:24.594Z"
   },
   {
    "duration": 99,
    "start_time": "2025-05-29T19:23:24.968Z"
   },
   {
    "duration": 49,
    "start_time": "2025-05-29T19:23:25.069Z"
   },
   {
    "duration": 16,
    "start_time": "2025-05-29T19:23:25.119Z"
   },
   {
    "duration": 513,
    "start_time": "2025-05-29T19:23:25.137Z"
   },
   {
    "duration": 53,
    "start_time": "2025-05-29T19:23:25.652Z"
   },
   {
    "duration": 96,
    "start_time": "2025-05-29T19:23:25.706Z"
   },
   {
    "duration": 504,
    "start_time": "2025-05-29T19:23:25.804Z"
   },
   {
    "duration": 36,
    "start_time": "2025-05-29T19:23:26.310Z"
   },
   {
    "duration": 40,
    "start_time": "2025-05-29T19:23:26.347Z"
   },
   {
    "duration": 6,
    "start_time": "2025-05-29T19:23:26.388Z"
   },
   {
    "duration": 78,
    "start_time": "2025-05-29T19:23:26.396Z"
   },
   {
    "duration": 524,
    "start_time": "2025-05-29T19:23:26.476Z"
   },
   {
    "duration": 709,
    "start_time": "2025-05-29T19:23:27.002Z"
   },
   {
    "duration": 27,
    "start_time": "2025-05-29T19:23:27.712Z"
   },
   {
    "duration": 31,
    "start_time": "2025-05-29T19:23:27.741Z"
   },
   {
    "duration": 85,
    "start_time": "2025-05-29T19:23:27.773Z"
   },
   {
    "duration": 3,
    "start_time": "2025-05-29T19:23:27.863Z"
   },
   {
    "duration": 111,
    "start_time": "2025-05-29T19:23:27.868Z"
   },
   {
    "duration": 220,
    "start_time": "2025-05-29T19:23:27.980Z"
   },
   {
    "duration": 83,
    "start_time": "2025-05-29T19:23:28.202Z"
   },
   {
    "duration": 90,
    "start_time": "2025-05-29T19:23:28.287Z"
   },
   {
    "duration": 8,
    "start_time": "2025-05-29T19:23:28.379Z"
   },
   {
    "duration": 156,
    "start_time": "2025-05-29T19:23:28.388Z"
   },
   {
    "duration": 15,
    "start_time": "2025-05-29T19:24:12.144Z"
   },
   {
    "duration": 536,
    "start_time": "2025-05-29T19:25:21.682Z"
   },
   {
    "duration": 534,
    "start_time": "2025-05-29T19:25:34.885Z"
   },
   {
    "duration": 1212,
    "start_time": "2025-05-29T19:30:10.970Z"
   },
   {
    "duration": 139,
    "start_time": "2025-05-29T19:30:12.876Z"
   },
   {
    "duration": 329,
    "start_time": "2025-05-29T19:30:18.378Z"
   },
   {
    "duration": 10,
    "start_time": "2025-05-29T19:30:18.877Z"
   },
   {
    "duration": 10,
    "start_time": "2025-05-29T19:30:19.534Z"
   },
   {
    "duration": 10,
    "start_time": "2025-05-29T19:30:30.966Z"
   },
   {
    "duration": 9,
    "start_time": "2025-05-29T19:30:40.474Z"
   },
   {
    "duration": 5,
    "start_time": "2025-05-29T19:30:41.010Z"
   },
   {
    "duration": 5,
    "start_time": "2025-05-29T19:30:47.576Z"
   },
   {
    "duration": 3,
    "start_time": "2025-05-29T19:30:47.989Z"
   },
   {
    "duration": 2,
    "start_time": "2025-05-29T19:30:48.363Z"
   },
   {
    "duration": 4,
    "start_time": "2025-05-29T19:30:48.734Z"
   },
   {
    "duration": 3,
    "start_time": "2025-05-29T19:30:49.321Z"
   },
   {
    "duration": 1860,
    "start_time": "2025-05-29T19:30:52.509Z"
   },
   {
    "duration": 4,
    "start_time": "2025-05-29T19:33:05.960Z"
   },
   {
    "duration": 12,
    "start_time": "2025-05-29T19:33:12.860Z"
   },
   {
    "duration": 4,
    "start_time": "2025-05-29T19:33:17.617Z"
   },
   {
    "duration": 138,
    "start_time": "2025-05-29T19:33:18.625Z"
   },
   {
    "duration": 5,
    "start_time": "2025-05-29T19:33:39.445Z"
   },
   {
    "duration": 273,
    "start_time": "2025-05-29T19:33:45.102Z"
   },
   {
    "duration": 8,
    "start_time": "2025-05-29T19:33:45.377Z"
   },
   {
    "duration": 4,
    "start_time": "2025-05-29T19:33:45.506Z"
   },
   {
    "duration": 2,
    "start_time": "2025-05-29T19:33:45.958Z"
   },
   {
    "duration": 3,
    "start_time": "2025-05-29T19:33:46.572Z"
   },
   {
    "duration": 4,
    "start_time": "2025-05-29T19:33:46.763Z"
   },
   {
    "duration": 3,
    "start_time": "2025-05-29T19:33:47.108Z"
   },
   {
    "duration": 17115,
    "start_time": "2025-05-29T19:33:47.534Z"
   },
   {
    "duration": 0,
    "start_time": "2025-05-29T19:53:39.762Z"
   },
   {
    "duration": 0,
    "start_time": "2025-05-29T19:53:39.767Z"
   },
   {
    "duration": 0,
    "start_time": "2025-05-29T19:53:39.769Z"
   },
   {
    "duration": 0,
    "start_time": "2025-05-29T19:53:39.772Z"
   },
   {
    "duration": 0,
    "start_time": "2025-05-29T19:53:39.774Z"
   },
   {
    "duration": 0,
    "start_time": "2025-05-29T19:53:39.777Z"
   },
   {
    "duration": 0,
    "start_time": "2025-05-29T19:53:39.779Z"
   },
   {
    "duration": 0,
    "start_time": "2025-05-29T19:53:39.781Z"
   },
   {
    "duration": 0,
    "start_time": "2025-05-29T19:53:39.783Z"
   },
   {
    "duration": 0,
    "start_time": "2025-05-29T19:53:39.785Z"
   },
   {
    "duration": 0,
    "start_time": "2025-05-29T19:53:39.835Z"
   },
   {
    "duration": 0,
    "start_time": "2025-05-29T19:53:39.838Z"
   },
   {
    "duration": 0,
    "start_time": "2025-05-29T19:53:39.839Z"
   },
   {
    "duration": 0,
    "start_time": "2025-05-29T19:53:39.842Z"
   },
   {
    "duration": 1,
    "start_time": "2025-05-29T19:53:39.843Z"
   },
   {
    "duration": 0,
    "start_time": "2025-05-29T19:53:39.845Z"
   },
   {
    "duration": 0,
    "start_time": "2025-05-29T19:53:39.847Z"
   },
   {
    "duration": 0,
    "start_time": "2025-05-29T19:53:39.849Z"
   },
   {
    "duration": 0,
    "start_time": "2025-05-29T19:53:39.851Z"
   },
   {
    "duration": 0,
    "start_time": "2025-05-29T19:53:39.853Z"
   },
   {
    "duration": 0,
    "start_time": "2025-05-29T19:53:39.855Z"
   },
   {
    "duration": 0,
    "start_time": "2025-05-29T19:53:39.857Z"
   },
   {
    "duration": 0,
    "start_time": "2025-05-29T19:53:39.858Z"
   },
   {
    "duration": 0,
    "start_time": "2025-05-29T19:53:39.860Z"
   },
   {
    "duration": 0,
    "start_time": "2025-05-29T19:53:39.862Z"
   },
   {
    "duration": 0,
    "start_time": "2025-05-29T19:53:39.863Z"
   },
   {
    "duration": 0,
    "start_time": "2025-05-29T19:53:39.866Z"
   },
   {
    "duration": 0,
    "start_time": "2025-05-29T19:53:39.867Z"
   },
   {
    "duration": 0,
    "start_time": "2025-05-29T19:53:39.870Z"
   },
   {
    "duration": 0,
    "start_time": "2025-05-29T19:53:39.872Z"
   },
   {
    "duration": 0,
    "start_time": "2025-05-29T19:53:39.874Z"
   },
   {
    "duration": 0,
    "start_time": "2025-05-29T19:53:39.937Z"
   },
   {
    "duration": 0,
    "start_time": "2025-05-29T19:53:39.939Z"
   },
   {
    "duration": 0,
    "start_time": "2025-05-29T19:53:39.941Z"
   },
   {
    "duration": 0,
    "start_time": "2025-05-29T19:53:39.943Z"
   },
   {
    "duration": 0,
    "start_time": "2025-05-29T19:53:39.945Z"
   },
   {
    "duration": 0,
    "start_time": "2025-05-29T19:53:39.947Z"
   },
   {
    "duration": 0,
    "start_time": "2025-05-29T19:53:39.949Z"
   },
   {
    "duration": 0,
    "start_time": "2025-05-29T19:53:39.950Z"
   },
   {
    "duration": 0,
    "start_time": "2025-05-29T19:53:39.952Z"
   },
   {
    "duration": 0,
    "start_time": "2025-05-29T19:53:39.954Z"
   },
   {
    "duration": 0,
    "start_time": "2025-05-29T19:53:39.956Z"
   },
   {
    "duration": 0,
    "start_time": "2025-05-29T19:53:39.958Z"
   },
   {
    "duration": 0,
    "start_time": "2025-05-29T19:53:39.960Z"
   },
   {
    "duration": 0,
    "start_time": "2025-05-29T19:53:39.961Z"
   },
   {
    "duration": 0,
    "start_time": "2025-05-29T19:53:39.963Z"
   },
   {
    "duration": 0,
    "start_time": "2025-05-29T19:53:39.966Z"
   },
   {
    "duration": 0,
    "start_time": "2025-05-29T19:53:39.968Z"
   },
   {
    "duration": 0,
    "start_time": "2025-05-29T19:53:39.970Z"
   },
   {
    "duration": 4828,
    "start_time": "2025-05-29T19:54:51.612Z"
   },
   {
    "duration": 4,
    "start_time": "2025-05-29T19:54:56.443Z"
   },
   {
    "duration": 15,
    "start_time": "2025-05-29T19:54:56.449Z"
   },
   {
    "duration": 940,
    "start_time": "2025-05-29T19:54:56.466Z"
   },
   {
    "duration": 3,
    "start_time": "2025-05-29T19:54:57.408Z"
   },
   {
    "duration": 240,
    "start_time": "2025-05-29T19:54:57.412Z"
   },
   {
    "duration": 3,
    "start_time": "2025-05-29T19:54:57.654Z"
   },
   {
    "duration": 54,
    "start_time": "2025-05-29T19:54:57.659Z"
   },
   {
    "duration": 276,
    "start_time": "2025-05-29T19:54:57.714Z"
   },
   {
    "duration": 683,
    "start_time": "2025-05-29T19:54:57.992Z"
   },
   {
    "duration": 7,
    "start_time": "2025-05-29T19:54:58.677Z"
   },
   {
    "duration": 61,
    "start_time": "2025-05-29T19:54:58.686Z"
   },
   {
    "duration": 191,
    "start_time": "2025-05-29T19:54:58.749Z"
   },
   {
    "duration": 37,
    "start_time": "2025-05-29T19:54:58.943Z"
   },
   {
    "duration": 376,
    "start_time": "2025-05-29T19:54:58.981Z"
   },
   {
    "duration": 36,
    "start_time": "2025-05-29T19:54:59.358Z"
   },
   {
    "duration": 48,
    "start_time": "2025-05-29T19:54:59.396Z"
   },
   {
    "duration": 71,
    "start_time": "2025-05-29T19:54:59.446Z"
   },
   {
    "duration": 88,
    "start_time": "2025-05-29T19:54:59.519Z"
   },
   {
    "duration": 44,
    "start_time": "2025-05-29T19:54:59.609Z"
   },
   {
    "duration": 136,
    "start_time": "2025-05-29T19:54:59.657Z"
   },
   {
    "duration": 319,
    "start_time": "2025-05-29T19:54:59.794Z"
   },
   {
    "duration": 321,
    "start_time": "2025-05-29T19:55:00.115Z"
   },
   {
    "duration": 374,
    "start_time": "2025-05-29T19:55:00.438Z"
   },
   {
    "duration": 101,
    "start_time": "2025-05-29T19:55:00.814Z"
   },
   {
    "duration": 59,
    "start_time": "2025-05-29T19:55:00.916Z"
   },
   {
    "duration": 5,
    "start_time": "2025-05-29T19:55:00.977Z"
   },
   {
    "duration": 610,
    "start_time": "2025-05-29T19:55:00.984Z"
   },
   {
    "duration": 63,
    "start_time": "2025-05-29T19:55:01.596Z"
   },
   {
    "duration": 82,
    "start_time": "2025-05-29T19:55:01.661Z"
   },
   {
    "duration": 562,
    "start_time": "2025-05-29T19:55:01.745Z"
   },
   {
    "duration": 39,
    "start_time": "2025-05-29T19:55:02.309Z"
   },
   {
    "duration": 113,
    "start_time": "2025-05-29T19:55:02.349Z"
   },
   {
    "duration": 10,
    "start_time": "2025-05-29T19:55:02.464Z"
   },
   {
    "duration": 97,
    "start_time": "2025-05-29T19:55:02.475Z"
   },
   {
    "duration": 520,
    "start_time": "2025-05-29T19:55:02.574Z"
   },
   {
    "duration": 532,
    "start_time": "2025-05-29T19:55:03.095Z"
   },
   {
    "duration": 28,
    "start_time": "2025-05-29T19:55:03.629Z"
   },
   {
    "duration": 35,
    "start_time": "2025-05-29T19:55:03.658Z"
   },
   {
    "duration": 183,
    "start_time": "2025-05-29T19:55:03.695Z"
   },
   {
    "duration": 3,
    "start_time": "2025-05-29T19:55:03.883Z"
   },
   {
    "duration": 123,
    "start_time": "2025-05-29T19:55:03.887Z"
   },
   {
    "duration": 281,
    "start_time": "2025-05-29T19:55:04.012Z"
   },
   {
    "duration": 81,
    "start_time": "2025-05-29T19:55:04.295Z"
   },
   {
    "duration": 175,
    "start_time": "2025-05-29T19:55:04.378Z"
   },
   {
    "duration": 1366,
    "start_time": "2025-05-29T19:55:04.555Z"
   },
   {
    "duration": 4,
    "start_time": "2025-05-29T19:55:05.922Z"
   },
   {
    "duration": 154,
    "start_time": "2025-05-29T19:55:05.935Z"
   },
   {
    "duration": 65,
    "start_time": "2025-05-29T19:55:06.091Z"
   },
   {
    "duration": 48,
    "start_time": "2025-05-29T19:55:40.454Z"
   },
   {
    "duration": 268,
    "start_time": "2025-05-29T19:56:43.449Z"
   },
   {
    "duration": 8,
    "start_time": "2025-05-29T19:56:43.719Z"
   },
   {
    "duration": 5,
    "start_time": "2025-05-29T19:56:44.190Z"
   },
   {
    "duration": 3,
    "start_time": "2025-05-29T19:56:44.472Z"
   },
   {
    "duration": 2,
    "start_time": "2025-05-29T19:56:44.712Z"
   },
   {
    "duration": 4,
    "start_time": "2025-05-29T19:56:44.944Z"
   },
   {
    "duration": 3,
    "start_time": "2025-05-29T19:56:45.173Z"
   },
   {
    "duration": 16125,
    "start_time": "2025-05-31T19:35:53.955Z"
   },
   {
    "duration": 1736,
    "start_time": "2025-05-31T19:36:10.082Z"
   },
   {
    "duration": 2,
    "start_time": "2025-05-31T19:36:11.820Z"
   },
   {
    "duration": 867,
    "start_time": "2025-05-31T19:36:11.824Z"
   },
   {
    "duration": 3,
    "start_time": "2025-05-31T19:36:12.693Z"
   },
   {
    "duration": 260,
    "start_time": "2025-05-31T19:36:12.697Z"
   },
   {
    "duration": 3,
    "start_time": "2025-05-31T19:36:12.959Z"
   },
   {
    "duration": 10,
    "start_time": "2025-05-31T19:36:12.963Z"
   },
   {
    "duration": 293,
    "start_time": "2025-05-31T19:36:12.975Z"
   },
   {
    "duration": 554,
    "start_time": "2025-05-31T19:36:13.270Z"
   },
   {
    "duration": 10,
    "start_time": "2025-05-31T19:36:13.825Z"
   },
   {
    "duration": 90,
    "start_time": "2025-05-31T19:36:13.837Z"
   },
   {
    "duration": 107,
    "start_time": "2025-05-31T19:36:13.929Z"
   },
   {
    "duration": 20,
    "start_time": "2025-05-31T19:36:14.039Z"
   },
   {
    "duration": 499,
    "start_time": "2025-05-31T19:36:14.061Z"
   },
   {
    "duration": 88,
    "start_time": "2025-05-31T19:36:14.562Z"
   },
   {
    "duration": 100,
    "start_time": "2025-05-31T19:36:14.652Z"
   },
   {
    "duration": 95,
    "start_time": "2025-05-31T19:36:14.754Z"
   },
   {
    "duration": 106,
    "start_time": "2025-05-31T19:36:14.850Z"
   },
   {
    "duration": 20,
    "start_time": "2025-05-31T19:36:14.957Z"
   },
   {
    "duration": 178,
    "start_time": "2025-05-31T19:36:14.978Z"
   },
   {
    "duration": 379,
    "start_time": "2025-05-31T19:36:15.157Z"
   },
   {
    "duration": 204,
    "start_time": "2025-05-31T19:36:15.538Z"
   },
   {
    "duration": 223,
    "start_time": "2025-05-31T19:36:15.744Z"
   },
   {
    "duration": 100,
    "start_time": "2025-05-31T19:36:15.969Z"
   },
   {
    "duration": 21,
    "start_time": "2025-05-31T19:36:16.071Z"
   },
   {
    "duration": 4,
    "start_time": "2025-05-31T19:36:16.094Z"
   },
   {
    "duration": 579,
    "start_time": "2025-05-31T19:36:16.099Z"
   },
   {
    "duration": 58,
    "start_time": "2025-05-31T19:36:16.680Z"
   },
   {
    "duration": 54,
    "start_time": "2025-05-31T19:36:16.740Z"
   },
   {
    "duration": 624,
    "start_time": "2025-05-31T19:36:16.795Z"
   },
   {
    "duration": 35,
    "start_time": "2025-05-31T19:36:17.420Z"
   },
   {
    "duration": 6,
    "start_time": "2025-05-31T19:36:17.456Z"
   },
   {
    "duration": 6,
    "start_time": "2025-05-31T19:36:17.463Z"
   },
   {
    "duration": 70,
    "start_time": "2025-05-31T19:36:17.470Z"
   },
   {
    "duration": 471,
    "start_time": "2025-05-31T19:36:17.545Z"
   },
   {
    "duration": 496,
    "start_time": "2025-05-31T19:36:18.017Z"
   },
   {
    "duration": 33,
    "start_time": "2025-05-31T19:36:18.515Z"
   },
   {
    "duration": 31,
    "start_time": "2025-05-31T19:36:18.549Z"
   },
   {
    "duration": 63,
    "start_time": "2025-05-31T19:36:18.581Z"
   },
   {
    "duration": 35,
    "start_time": "2025-05-31T19:36:18.648Z"
   },
   {
    "duration": 97,
    "start_time": "2025-05-31T19:36:18.685Z"
   },
   {
    "duration": 211,
    "start_time": "2025-05-31T19:36:18.783Z"
   },
   {
    "duration": 62,
    "start_time": "2025-05-31T19:36:18.995Z"
   },
   {
    "duration": 88,
    "start_time": "2025-05-31T19:36:19.059Z"
   },
   {
    "duration": 1231,
    "start_time": "2025-05-31T19:36:19.148Z"
   },
   {
    "duration": 4,
    "start_time": "2025-05-31T19:36:20.381Z"
   },
   {
    "duration": 125,
    "start_time": "2025-05-31T19:36:20.386Z"
   },
   {
    "duration": 202,
    "start_time": "2025-05-31T19:36:20.513Z"
   },
   {
    "duration": 9,
    "start_time": "2025-05-31T19:36:20.717Z"
   },
   {
    "duration": 28,
    "start_time": "2025-05-31T19:36:20.736Z"
   },
   {
    "duration": 8,
    "start_time": "2025-05-31T19:36:20.765Z"
   },
   {
    "duration": 8,
    "start_time": "2025-05-31T19:36:20.774Z"
   },
   {
    "duration": 5,
    "start_time": "2025-05-31T19:36:20.784Z"
   },
   {
    "duration": 104,
    "start_time": "2025-05-31T19:36:20.791Z"
   },
   {
    "duration": 283929,
    "start_time": "2025-05-31T19:36:20.897Z"
   },
   {
    "duration": 0,
    "start_time": "2025-05-31T19:41:04.835Z"
   },
   {
    "duration": 9,
    "start_time": "2025-05-31T19:41:27.664Z"
   },
   {
    "duration": 16133,
    "start_time": "2025-05-31T19:41:37.059Z"
   },
   {
    "duration": 16158,
    "start_time": "2025-05-31T19:42:02.492Z"
   },
   {
    "duration": 14,
    "start_time": "2025-05-31T19:44:07.081Z"
   },
   {
    "duration": 9,
    "start_time": "2025-05-31T19:44:33.086Z"
   },
   {
    "duration": 705,
    "start_time": "2025-05-31T19:47:07.506Z"
   },
   {
    "duration": 2,
    "start_time": "2025-05-31T19:48:24.824Z"
   },
   {
    "duration": 4,
    "start_time": "2025-05-31T19:48:25.856Z"
   },
   {
    "duration": 2,
    "start_time": "2025-05-31T19:48:26.355Z"
   },
   {
    "duration": 11754,
    "start_time": "2025-05-31T19:48:26.559Z"
   },
   {
    "duration": 662,
    "start_time": "2025-05-31T19:48:38.315Z"
   },
   {
    "duration": 3,
    "start_time": "2025-05-31T19:49:10.591Z"
   },
   {
    "duration": 4,
    "start_time": "2025-05-31T19:49:10.906Z"
   },
   {
    "duration": 2,
    "start_time": "2025-05-31T19:49:11.103Z"
   },
   {
    "duration": 13862,
    "start_time": "2025-05-31T19:49:11.410Z"
   },
   {
    "duration": 662,
    "start_time": "2025-05-31T19:49:25.274Z"
   },
   {
    "duration": 15685,
    "start_time": "2025-06-01T07:20:23.823Z"
   },
   {
    "duration": 1908,
    "start_time": "2025-06-01T07:20:39.511Z"
   },
   {
    "duration": 3,
    "start_time": "2025-06-01T07:20:41.421Z"
   },
   {
    "duration": 929,
    "start_time": "2025-06-01T07:20:41.425Z"
   },
   {
    "duration": 5,
    "start_time": "2025-06-01T07:20:42.355Z"
   },
   {
    "duration": 276,
    "start_time": "2025-06-01T07:20:42.362Z"
   },
   {
    "duration": 4,
    "start_time": "2025-06-01T07:20:42.639Z"
   },
   {
    "duration": 11,
    "start_time": "2025-06-01T07:20:42.644Z"
   },
   {
    "duration": 329,
    "start_time": "2025-06-01T07:20:42.660Z"
   },
   {
    "duration": 625,
    "start_time": "2025-06-01T07:20:42.993Z"
   },
   {
    "duration": 9,
    "start_time": "2025-06-01T07:20:43.620Z"
   },
   {
    "duration": 58,
    "start_time": "2025-06-01T07:20:43.630Z"
   },
   {
    "duration": 106,
    "start_time": "2025-06-01T07:20:43.690Z"
   },
   {
    "duration": 23,
    "start_time": "2025-06-01T07:20:43.798Z"
   },
   {
    "duration": 460,
    "start_time": "2025-06-01T07:20:43.822Z"
   },
   {
    "duration": 22,
    "start_time": "2025-06-01T07:20:44.283Z"
   },
   {
    "duration": 33,
    "start_time": "2025-06-01T07:20:44.307Z"
   },
   {
    "duration": 54,
    "start_time": "2025-06-01T07:20:44.342Z"
   },
   {
    "duration": 125,
    "start_time": "2025-06-01T07:20:44.397Z"
   },
   {
    "duration": 22,
    "start_time": "2025-06-01T07:20:44.524Z"
   },
   {
    "duration": 92,
    "start_time": "2025-06-01T07:20:44.548Z"
   },
   {
    "duration": 256,
    "start_time": "2025-06-01T07:20:44.642Z"
   },
   {
    "duration": 231,
    "start_time": "2025-06-01T07:20:44.900Z"
   },
   {
    "duration": 247,
    "start_time": "2025-06-01T07:20:45.133Z"
   },
   {
    "duration": 137,
    "start_time": "2025-06-01T07:20:45.382Z"
   },
   {
    "duration": 23,
    "start_time": "2025-06-01T07:20:45.521Z"
   },
   {
    "duration": 11,
    "start_time": "2025-06-01T07:20:45.546Z"
   },
   {
    "duration": 570,
    "start_time": "2025-06-01T07:20:45.560Z"
   },
   {
    "duration": 66,
    "start_time": "2025-06-01T07:20:46.132Z"
   },
   {
    "duration": 72,
    "start_time": "2025-06-01T07:20:46.200Z"
   },
   {
    "duration": 522,
    "start_time": "2025-06-01T07:20:46.274Z"
   },
   {
    "duration": 33,
    "start_time": "2025-06-01T07:20:46.799Z"
   },
   {
    "duration": 7,
    "start_time": "2025-06-01T07:20:46.834Z"
   },
   {
    "duration": 7,
    "start_time": "2025-06-01T07:20:46.861Z"
   },
   {
    "duration": 63,
    "start_time": "2025-06-01T07:20:46.869Z"
   },
   {
    "duration": 518,
    "start_time": "2025-06-01T07:20:46.934Z"
   },
   {
    "duration": 641,
    "start_time": "2025-06-01T07:20:47.456Z"
   },
   {
    "duration": 25,
    "start_time": "2025-06-01T07:20:48.099Z"
   },
   {
    "duration": 45,
    "start_time": "2025-06-01T07:20:48.126Z"
   },
   {
    "duration": 54,
    "start_time": "2025-06-01T07:20:48.173Z"
   },
   {
    "duration": 3,
    "start_time": "2025-06-01T07:20:48.229Z"
   },
   {
    "duration": 127,
    "start_time": "2025-06-01T07:20:48.234Z"
   },
   {
    "duration": 262,
    "start_time": "2025-06-01T07:20:48.363Z"
   },
   {
    "duration": 58,
    "start_time": "2025-06-01T07:20:48.627Z"
   },
   {
    "duration": 107,
    "start_time": "2025-06-01T07:20:48.686Z"
   },
   {
    "duration": 1528,
    "start_time": "2025-06-01T07:20:48.795Z"
   },
   {
    "duration": 6,
    "start_time": "2025-06-01T07:20:50.324Z"
   },
   {
    "duration": 100,
    "start_time": "2025-06-01T07:20:50.331Z"
   },
   {
    "duration": 255,
    "start_time": "2025-06-01T07:20:50.433Z"
   },
   {
    "duration": 142,
    "start_time": "2025-06-01T07:20:50.690Z"
   },
   {
    "duration": 9,
    "start_time": "2025-06-01T07:20:50.833Z"
   },
   {
    "duration": 83,
    "start_time": "2025-06-01T07:20:50.844Z"
   },
   {
    "duration": 221,
    "start_time": "2025-06-01T07:20:50.928Z"
   },
   {
    "duration": 72,
    "start_time": "2025-06-01T07:20:51.151Z"
   },
   {
    "duration": 0,
    "start_time": "2025-06-01T07:20:51.225Z"
   },
   {
    "duration": 5175,
    "start_time": "2025-06-01T07:21:53.214Z"
   },
   {
    "duration": 129,
    "start_time": "2025-06-01T07:21:58.392Z"
   },
   {
    "duration": 0,
    "start_time": "2025-06-01T07:21:58.525Z"
   },
   {
    "duration": 0,
    "start_time": "2025-06-01T07:21:58.527Z"
   },
   {
    "duration": 0,
    "start_time": "2025-06-01T07:21:58.528Z"
   },
   {
    "duration": 0,
    "start_time": "2025-06-01T07:21:58.530Z"
   },
   {
    "duration": 0,
    "start_time": "2025-06-01T07:21:58.531Z"
   },
   {
    "duration": 0,
    "start_time": "2025-06-01T07:21:58.533Z"
   },
   {
    "duration": 0,
    "start_time": "2025-06-01T07:21:58.535Z"
   },
   {
    "duration": 0,
    "start_time": "2025-06-01T07:21:58.536Z"
   },
   {
    "duration": 0,
    "start_time": "2025-06-01T07:21:58.561Z"
   },
   {
    "duration": 0,
    "start_time": "2025-06-01T07:21:58.562Z"
   },
   {
    "duration": 0,
    "start_time": "2025-06-01T07:21:58.564Z"
   },
   {
    "duration": 0,
    "start_time": "2025-06-01T07:21:58.566Z"
   },
   {
    "duration": 0,
    "start_time": "2025-06-01T07:21:58.567Z"
   },
   {
    "duration": 1,
    "start_time": "2025-06-01T07:21:58.568Z"
   },
   {
    "duration": 0,
    "start_time": "2025-06-01T07:21:58.570Z"
   },
   {
    "duration": 0,
    "start_time": "2025-06-01T07:21:58.572Z"
   },
   {
    "duration": 0,
    "start_time": "2025-06-01T07:21:58.573Z"
   },
   {
    "duration": 0,
    "start_time": "2025-06-01T07:21:58.574Z"
   },
   {
    "duration": 0,
    "start_time": "2025-06-01T07:21:58.576Z"
   },
   {
    "duration": 0,
    "start_time": "2025-06-01T07:21:58.577Z"
   },
   {
    "duration": 0,
    "start_time": "2025-06-01T07:21:58.579Z"
   },
   {
    "duration": 0,
    "start_time": "2025-06-01T07:21:58.580Z"
   },
   {
    "duration": 0,
    "start_time": "2025-06-01T07:21:58.582Z"
   },
   {
    "duration": 0,
    "start_time": "2025-06-01T07:21:58.583Z"
   },
   {
    "duration": 0,
    "start_time": "2025-06-01T07:21:58.585Z"
   },
   {
    "duration": 0,
    "start_time": "2025-06-01T07:21:58.587Z"
   },
   {
    "duration": 0,
    "start_time": "2025-06-01T07:21:58.588Z"
   },
   {
    "duration": 0,
    "start_time": "2025-06-01T07:21:58.590Z"
   },
   {
    "duration": 0,
    "start_time": "2025-06-01T07:21:58.591Z"
   },
   {
    "duration": 0,
    "start_time": "2025-06-01T07:21:58.593Z"
   },
   {
    "duration": 0,
    "start_time": "2025-06-01T07:21:58.594Z"
   },
   {
    "duration": 0,
    "start_time": "2025-06-01T07:21:58.595Z"
   },
   {
    "duration": 0,
    "start_time": "2025-06-01T07:21:58.596Z"
   },
   {
    "duration": 0,
    "start_time": "2025-06-01T07:21:58.598Z"
   },
   {
    "duration": 0,
    "start_time": "2025-06-01T07:21:58.599Z"
   },
   {
    "duration": 0,
    "start_time": "2025-06-01T07:21:58.600Z"
   },
   {
    "duration": 0,
    "start_time": "2025-06-01T07:21:58.660Z"
   },
   {
    "duration": 0,
    "start_time": "2025-06-01T07:21:58.662Z"
   },
   {
    "duration": 0,
    "start_time": "2025-06-01T07:21:58.663Z"
   },
   {
    "duration": 0,
    "start_time": "2025-06-01T07:21:58.664Z"
   },
   {
    "duration": 0,
    "start_time": "2025-06-01T07:21:58.665Z"
   },
   {
    "duration": 0,
    "start_time": "2025-06-01T07:21:58.666Z"
   },
   {
    "duration": 0,
    "start_time": "2025-06-01T07:21:58.667Z"
   },
   {
    "duration": 0,
    "start_time": "2025-06-01T07:21:58.668Z"
   },
   {
    "duration": 0,
    "start_time": "2025-06-01T07:21:58.669Z"
   },
   {
    "duration": 0,
    "start_time": "2025-06-01T07:21:58.670Z"
   },
   {
    "duration": 0,
    "start_time": "2025-06-01T07:21:58.671Z"
   },
   {
    "duration": 0,
    "start_time": "2025-06-01T07:21:58.672Z"
   },
   {
    "duration": 0,
    "start_time": "2025-06-01T07:21:58.673Z"
   },
   {
    "duration": 0,
    "start_time": "2025-06-01T07:21:58.674Z"
   },
   {
    "duration": 0,
    "start_time": "2025-06-01T07:21:58.675Z"
   },
   {
    "duration": 0,
    "start_time": "2025-06-01T07:21:58.676Z"
   },
   {
    "duration": 0,
    "start_time": "2025-06-01T07:21:58.677Z"
   },
   {
    "duration": 10145,
    "start_time": "2025-06-01T07:22:33.661Z"
   },
   {
    "duration": 55,
    "start_time": "2025-06-01T07:22:43.809Z"
   },
   {
    "duration": 3,
    "start_time": "2025-06-01T07:22:43.866Z"
   },
   {
    "duration": 916,
    "start_time": "2025-06-01T07:22:43.870Z"
   },
   {
    "duration": 3,
    "start_time": "2025-06-01T07:22:44.788Z"
   },
   {
    "duration": 274,
    "start_time": "2025-06-01T07:22:44.793Z"
   },
   {
    "duration": 3,
    "start_time": "2025-06-01T07:22:45.069Z"
   },
   {
    "duration": 35,
    "start_time": "2025-06-01T07:22:45.073Z"
   },
   {
    "duration": 253,
    "start_time": "2025-06-01T07:22:45.110Z"
   },
   {
    "duration": 641,
    "start_time": "2025-06-01T07:22:45.366Z"
   },
   {
    "duration": 8,
    "start_time": "2025-06-01T07:22:46.009Z"
   },
   {
    "duration": 125,
    "start_time": "2025-06-01T07:22:46.019Z"
   },
   {
    "duration": 115,
    "start_time": "2025-06-01T07:22:46.146Z"
   },
   {
    "duration": 73,
    "start_time": "2025-06-01T07:22:46.263Z"
   },
   {
    "duration": 348,
    "start_time": "2025-06-01T07:22:46.339Z"
   },
   {
    "duration": 25,
    "start_time": "2025-06-01T07:22:46.689Z"
   },
   {
    "duration": 84,
    "start_time": "2025-06-01T07:22:46.715Z"
   },
   {
    "duration": 78,
    "start_time": "2025-06-01T07:22:46.801Z"
   },
   {
    "duration": 40,
    "start_time": "2025-06-01T07:22:46.881Z"
   },
   {
    "duration": 23,
    "start_time": "2025-06-01T07:22:46.922Z"
   },
   {
    "duration": 287,
    "start_time": "2025-06-01T07:22:46.947Z"
   },
   {
    "duration": 246,
    "start_time": "2025-06-01T07:22:47.236Z"
   },
   {
    "duration": 328,
    "start_time": "2025-06-01T07:22:47.485Z"
   },
   {
    "duration": 251,
    "start_time": "2025-06-01T07:22:47.815Z"
   },
   {
    "duration": 112,
    "start_time": "2025-06-01T07:22:48.068Z"
   },
   {
    "duration": 23,
    "start_time": "2025-06-01T07:22:48.182Z"
   },
   {
    "duration": 5,
    "start_time": "2025-06-01T07:22:48.206Z"
   },
   {
    "duration": 594,
    "start_time": "2025-06-01T07:22:48.214Z"
   },
   {
    "duration": 65,
    "start_time": "2025-06-01T07:22:48.810Z"
   },
   {
    "duration": 57,
    "start_time": "2025-06-01T07:22:48.877Z"
   },
   {
    "duration": 526,
    "start_time": "2025-06-01T07:22:48.936Z"
   },
   {
    "duration": 29,
    "start_time": "2025-06-01T07:22:49.464Z"
   },
   {
    "duration": 16,
    "start_time": "2025-06-01T07:22:49.495Z"
   },
   {
    "duration": 23,
    "start_time": "2025-06-01T07:22:49.513Z"
   },
   {
    "duration": 63,
    "start_time": "2025-06-01T07:22:49.538Z"
   },
   {
    "duration": 551,
    "start_time": "2025-06-01T07:22:49.603Z"
   },
   {
    "duration": 577,
    "start_time": "2025-06-01T07:22:50.160Z"
   },
   {
    "duration": 34,
    "start_time": "2025-06-01T07:22:50.739Z"
   },
   {
    "duration": 40,
    "start_time": "2025-06-01T07:22:50.774Z"
   },
   {
    "duration": 73,
    "start_time": "2025-06-01T07:22:50.816Z"
   },
   {
    "duration": 3,
    "start_time": "2025-06-01T07:22:50.890Z"
   },
   {
    "duration": 142,
    "start_time": "2025-06-01T07:22:50.895Z"
   },
   {
    "duration": 274,
    "start_time": "2025-06-01T07:22:51.039Z"
   },
   {
    "duration": 66,
    "start_time": "2025-06-01T07:22:51.315Z"
   },
   {
    "duration": 106,
    "start_time": "2025-06-01T07:22:51.383Z"
   },
   {
    "duration": 1586,
    "start_time": "2025-06-01T07:22:51.491Z"
   },
   {
    "duration": 5,
    "start_time": "2025-06-01T07:22:53.079Z"
   },
   {
    "duration": 101,
    "start_time": "2025-06-01T07:22:53.085Z"
   },
   {
    "duration": 320,
    "start_time": "2025-06-01T07:22:53.187Z"
   },
   {
    "duration": 170,
    "start_time": "2025-06-01T07:22:53.509Z"
   },
   {
    "duration": 9,
    "start_time": "2025-06-01T07:22:53.681Z"
   },
   {
    "duration": 42,
    "start_time": "2025-06-01T07:22:53.691Z"
   },
   {
    "duration": 7,
    "start_time": "2025-06-01T07:22:53.735Z"
   },
   {
    "duration": 11,
    "start_time": "2025-06-01T07:22:53.743Z"
   },
   {
    "duration": 60,
    "start_time": "2025-06-01T07:22:53.756Z"
   },
   {
    "duration": 10031,
    "start_time": "2025-06-01T07:23:13.802Z"
   },
   {
    "duration": 29,
    "start_time": "2025-06-01T07:24:17.802Z"
   },
   {
    "duration": 12,
    "start_time": "2025-06-01T07:29:50.091Z"
   },
   {
    "duration": 4,
    "start_time": "2025-06-01T07:31:01.479Z"
   },
   {
    "duration": 4,
    "start_time": "2025-06-01T07:31:03.116Z"
   },
   {
    "duration": 147585,
    "start_time": "2025-06-01T07:31:03.308Z"
   },
   {
    "duration": 0,
    "start_time": "2025-06-01T07:33:30.894Z"
   },
   {
    "duration": 292018,
    "start_time": "2025-06-01T07:33:33.032Z"
   },
   {
    "duration": 32,
    "start_time": "2025-06-01T07:55:58.053Z"
   },
   {
    "duration": 33,
    "start_time": "2025-06-01T07:56:21.399Z"
   },
   {
    "duration": 32,
    "start_time": "2025-06-01T07:56:27.262Z"
   },
   {
    "duration": 32,
    "start_time": "2025-06-01T07:56:29.695Z"
   },
   {
    "duration": 35,
    "start_time": "2025-06-01T07:56:34.610Z"
   },
   {
    "duration": 13772,
    "start_time": "2025-06-01T08:08:10.011Z"
   },
   {
    "duration": 8419,
    "start_time": "2025-06-01T08:10:56.548Z"
   },
   {
    "duration": 6,
    "start_time": "2025-06-01T08:11:04.971Z"
   },
   {
    "duration": 1216,
    "start_time": "2025-06-01T08:11:04.980Z"
   },
   {
    "duration": 3,
    "start_time": "2025-06-01T08:11:06.198Z"
   },
   {
    "duration": 415,
    "start_time": "2025-06-01T08:11:06.204Z"
   },
   {
    "duration": 4,
    "start_time": "2025-06-01T08:11:06.620Z"
   },
   {
    "duration": 49,
    "start_time": "2025-06-01T08:11:06.627Z"
   },
   {
    "duration": 446,
    "start_time": "2025-06-01T08:11:06.678Z"
   },
   {
    "duration": 748,
    "start_time": "2025-06-01T08:11:07.127Z"
   },
   {
    "duration": 10,
    "start_time": "2025-06-01T08:11:07.877Z"
   },
   {
    "duration": 63,
    "start_time": "2025-06-01T08:11:07.888Z"
   },
   {
    "duration": 162,
    "start_time": "2025-06-01T08:11:07.953Z"
   },
   {
    "duration": 47,
    "start_time": "2025-06-01T08:11:08.118Z"
   },
   {
    "duration": 400,
    "start_time": "2025-06-01T08:11:08.169Z"
   },
   {
    "duration": 34,
    "start_time": "2025-06-01T08:11:08.571Z"
   },
   {
    "duration": 65,
    "start_time": "2025-06-01T08:11:08.607Z"
   },
   {
    "duration": 67,
    "start_time": "2025-06-01T08:11:08.674Z"
   },
   {
    "duration": 81,
    "start_time": "2025-06-01T08:11:08.744Z"
   },
   {
    "duration": 40,
    "start_time": "2025-06-01T08:11:08.826Z"
   },
   {
    "duration": 104,
    "start_time": "2025-06-01T08:11:08.868Z"
   },
   {
    "duration": 309,
    "start_time": "2025-06-01T08:11:08.974Z"
   },
   {
    "duration": 355,
    "start_time": "2025-06-01T08:11:09.285Z"
   },
   {
    "duration": 377,
    "start_time": "2025-06-01T08:11:09.641Z"
   },
   {
    "duration": 121,
    "start_time": "2025-06-01T08:11:10.020Z"
   },
   {
    "duration": 56,
    "start_time": "2025-06-01T08:11:10.143Z"
   },
   {
    "duration": 5,
    "start_time": "2025-06-01T08:11:10.200Z"
   },
   {
    "duration": 600,
    "start_time": "2025-06-01T08:11:10.207Z"
   },
   {
    "duration": 63,
    "start_time": "2025-06-01T08:11:10.809Z"
   },
   {
    "duration": 87,
    "start_time": "2025-06-01T08:11:10.874Z"
   },
   {
    "duration": 513,
    "start_time": "2025-06-01T08:11:10.963Z"
   },
   {
    "duration": 31,
    "start_time": "2025-06-01T08:11:11.478Z"
   },
   {
    "duration": 138,
    "start_time": "2025-06-01T08:11:11.511Z"
   },
   {
    "duration": 7,
    "start_time": "2025-06-01T08:11:11.650Z"
   },
   {
    "duration": 71,
    "start_time": "2025-06-01T08:11:11.659Z"
   },
   {
    "duration": 709,
    "start_time": "2025-06-01T08:11:11.731Z"
   },
   {
    "duration": 568,
    "start_time": "2025-06-01T08:11:12.442Z"
   },
   {
    "duration": 26,
    "start_time": "2025-06-01T08:11:13.012Z"
   },
   {
    "duration": 55,
    "start_time": "2025-06-01T08:11:13.041Z"
   },
   {
    "duration": 86,
    "start_time": "2025-06-01T08:11:13.098Z"
   },
   {
    "duration": 5,
    "start_time": "2025-06-01T08:11:13.186Z"
   },
   {
    "duration": 164,
    "start_time": "2025-06-01T08:11:13.197Z"
   },
   {
    "duration": 266,
    "start_time": "2025-06-01T08:11:13.363Z"
   },
   {
    "duration": 79,
    "start_time": "2025-06-01T08:11:13.631Z"
   },
   {
    "duration": 113,
    "start_time": "2025-06-01T08:11:13.712Z"
   },
   {
    "duration": 3,
    "start_time": "2025-06-01T08:11:13.827Z"
   },
   {
    "duration": 1556,
    "start_time": "2025-06-01T08:11:13.831Z"
   },
   {
    "duration": 6,
    "start_time": "2025-06-01T08:11:15.389Z"
   },
   {
    "duration": 184,
    "start_time": "2025-06-01T08:11:15.397Z"
   },
   {
    "duration": 369,
    "start_time": "2025-06-01T08:11:15.583Z"
   },
   {
    "duration": 186,
    "start_time": "2025-06-01T08:11:15.954Z"
   },
   {
    "duration": 9,
    "start_time": "2025-06-01T08:11:16.142Z"
   },
   {
    "duration": 6,
    "start_time": "2025-06-01T08:11:16.162Z"
   },
   {
    "duration": 1119,
    "start_time": "2025-06-01T08:11:16.170Z"
   },
   {
    "duration": 0,
    "start_time": "2025-06-01T08:11:17.291Z"
   },
   {
    "duration": 0,
    "start_time": "2025-06-01T08:11:17.294Z"
   },
   {
    "duration": 0,
    "start_time": "2025-06-01T08:11:17.296Z"
   },
   {
    "duration": 4,
    "start_time": "2025-06-01T08:11:18.157Z"
   },
   {
    "duration": 5,
    "start_time": "2025-06-01T08:11:19.375Z"
   },
   {
    "duration": 107,
    "start_time": "2025-06-01T08:11:20.587Z"
   },
   {
    "duration": 7,
    "start_time": "2025-06-01T08:11:49.654Z"
   },
   {
    "duration": 12,
    "start_time": "2025-06-01T08:11:57.931Z"
   },
   {
    "duration": 34,
    "start_time": "2025-06-01T08:12:04.832Z"
   },
   {
    "duration": 81,
    "start_time": "2025-06-01T08:12:12.644Z"
   },
   {
    "duration": 11,
    "start_time": "2025-06-01T08:12:27.739Z"
   },
   {
    "duration": 7,
    "start_time": "2025-06-01T08:12:28.857Z"
   },
   {
    "duration": 354,
    "start_time": "2025-06-01T08:12:30.717Z"
   },
   {
    "duration": 10,
    "start_time": "2025-06-01T08:14:46.359Z"
   },
   {
    "duration": 20,
    "start_time": "2025-06-01T08:14:47.182Z"
   },
   {
    "duration": 4,
    "start_time": "2025-06-01T08:14:48.806Z"
   },
   {
    "duration": 1112,
    "start_time": "2025-06-01T08:14:49.495Z"
   },
   {
    "duration": 3,
    "start_time": "2025-06-01T08:16:37.245Z"
   },
   {
    "duration": 21,
    "start_time": "2025-06-01T08:16:38.135Z"
   },
   {
    "duration": 6,
    "start_time": "2025-06-01T08:16:38.626Z"
   },
   {
    "duration": 157777,
    "start_time": "2025-06-01T08:16:39.112Z"
   },
   {
    "duration": 7888,
    "start_time": "2025-06-01T08:19:16.891Z"
   },
   {
    "duration": 4,
    "start_time": "2025-06-01T08:41:58.636Z"
   },
   {
    "duration": 228490,
    "start_time": "2025-06-01T08:42:17.315Z"
   },
   {
    "duration": 12,
    "start_time": "2025-06-01T08:48:28.381Z"
   },
   {
    "duration": 15592,
    "start_time": "2025-06-01T08:49:12.369Z"
   },
   {
    "duration": 7687,
    "start_time": "2025-06-01T08:51:07.407Z"
   },
   {
    "duration": 5,
    "start_time": "2025-06-01T08:51:15.097Z"
   },
   {
    "duration": 1031,
    "start_time": "2025-06-01T08:51:15.104Z"
   },
   {
    "duration": 3,
    "start_time": "2025-06-01T08:51:16.137Z"
   },
   {
    "duration": 274,
    "start_time": "2025-06-01T08:51:16.142Z"
   },
   {
    "duration": 3,
    "start_time": "2025-06-01T08:51:16.417Z"
   },
   {
    "duration": 25,
    "start_time": "2025-06-01T08:51:16.422Z"
   },
   {
    "duration": 374,
    "start_time": "2025-06-01T08:51:16.449Z"
   },
   {
    "duration": 727,
    "start_time": "2025-06-01T08:51:16.825Z"
   },
   {
    "duration": 12,
    "start_time": "2025-06-01T08:51:17.555Z"
   },
   {
    "duration": 57,
    "start_time": "2025-06-01T08:51:17.569Z"
   },
   {
    "duration": 153,
    "start_time": "2025-06-01T08:51:17.627Z"
   },
   {
    "duration": 77,
    "start_time": "2025-06-01T08:51:17.782Z"
   },
   {
    "duration": 321,
    "start_time": "2025-06-01T08:51:17.861Z"
   },
   {
    "duration": 43,
    "start_time": "2025-06-01T08:51:18.184Z"
   },
   {
    "duration": 46,
    "start_time": "2025-06-01T08:51:18.229Z"
   },
   {
    "duration": 63,
    "start_time": "2025-06-01T08:51:18.277Z"
   },
   {
    "duration": 55,
    "start_time": "2025-06-01T08:51:18.342Z"
   },
   {
    "duration": 43,
    "start_time": "2025-06-01T08:51:18.399Z"
   },
   {
    "duration": 304,
    "start_time": "2025-06-01T08:51:18.443Z"
   },
   {
    "duration": 327,
    "start_time": "2025-06-01T08:51:18.748Z"
   },
   {
    "duration": 312,
    "start_time": "2025-06-01T08:51:19.077Z"
   },
   {
    "duration": 354,
    "start_time": "2025-06-01T08:51:19.390Z"
   },
   {
    "duration": 101,
    "start_time": "2025-06-01T08:51:19.745Z"
   },
   {
    "duration": 35,
    "start_time": "2025-06-01T08:51:19.847Z"
   },
   {
    "duration": 5,
    "start_time": "2025-06-01T08:51:19.883Z"
   },
   {
    "duration": 562,
    "start_time": "2025-06-01T08:51:19.890Z"
   },
   {
    "duration": 56,
    "start_time": "2025-06-01T08:51:20.463Z"
   },
   {
    "duration": 116,
    "start_time": "2025-06-01T08:51:20.521Z"
   },
   {
    "duration": 527,
    "start_time": "2025-06-01T08:51:20.638Z"
   },
   {
    "duration": 28,
    "start_time": "2025-06-01T08:51:21.166Z"
   },
   {
    "duration": 6,
    "start_time": "2025-06-01T08:51:21.196Z"
   },
   {
    "duration": 6,
    "start_time": "2025-06-01T08:51:21.204Z"
   },
   {
    "duration": 98,
    "start_time": "2025-06-01T08:51:21.211Z"
   },
   {
    "duration": 518,
    "start_time": "2025-06-01T08:51:21.311Z"
   },
   {
    "duration": 515,
    "start_time": "2025-06-01T08:51:21.830Z"
   },
   {
    "duration": 32,
    "start_time": "2025-06-01T08:51:22.347Z"
   },
   {
    "duration": 33,
    "start_time": "2025-06-01T08:51:22.380Z"
   },
   {
    "duration": 82,
    "start_time": "2025-06-01T08:51:22.415Z"
   },
   {
    "duration": 3,
    "start_time": "2025-06-01T08:51:22.499Z"
   },
   {
    "duration": 156,
    "start_time": "2025-06-01T08:51:22.504Z"
   },
   {
    "duration": 255,
    "start_time": "2025-06-01T08:51:22.662Z"
   },
   {
    "duration": 80,
    "start_time": "2025-06-01T08:51:22.918Z"
   },
   {
    "duration": 97,
    "start_time": "2025-06-01T08:51:23.000Z"
   },
   {
    "duration": 3,
    "start_time": "2025-06-01T08:51:23.099Z"
   },
   {
    "duration": 1577,
    "start_time": "2025-06-01T08:51:23.103Z"
   },
   {
    "duration": 5,
    "start_time": "2025-06-01T08:51:24.682Z"
   },
   {
    "duration": 362,
    "start_time": "2025-06-01T08:51:24.689Z"
   },
   {
    "duration": 160,
    "start_time": "2025-06-01T08:51:25.053Z"
   },
   {
    "duration": 8,
    "start_time": "2025-06-01T08:51:25.215Z"
   },
   {
    "duration": 27,
    "start_time": "2025-06-01T08:51:25.225Z"
   },
   {
    "duration": 14,
    "start_time": "2025-06-01T08:51:25.253Z"
   },
   {
    "duration": 4,
    "start_time": "2025-06-01T08:51:25.269Z"
   },
   {
    "duration": 148148,
    "start_time": "2025-06-01T08:51:25.275Z"
   },
   {
    "duration": 7938,
    "start_time": "2025-06-01T08:53:53.425Z"
   },
   {
    "duration": 4,
    "start_time": "2025-06-01T08:54:01.365Z"
   },
   {
    "duration": 224553,
    "start_time": "2025-06-01T08:54:01.370Z"
   },
   {
    "duration": 16166,
    "start_time": "2025-06-01T08:57:45.925Z"
   },
   {
    "duration": 5,
    "start_time": "2025-06-01T09:01:22.237Z"
   },
   {
    "duration": 230530,
    "start_time": "2025-06-01T09:01:29.572Z"
   },
   {
    "duration": 99,
    "start_time": "2025-06-01T09:05:20.103Z"
   },
   {
    "duration": 5,
    "start_time": "2025-06-01T09:06:57.343Z"
   },
   {
    "duration": 63186,
    "start_time": "2025-06-01T09:07:05.182Z"
   },
   {
    "duration": 0,
    "start_time": "2025-06-01T09:49:34.451Z"
   },
   {
    "duration": 5,
    "start_time": "2025-06-01T09:49:40.436Z"
   },
   {
    "duration": 920,
    "start_time": "2025-06-01T09:49:46.900Z"
   },
   {
    "duration": 3,
    "start_time": "2025-06-01T09:49:49.406Z"
   },
   {
    "duration": 273,
    "start_time": "2025-06-01T09:49:50.125Z"
   },
   {
    "duration": 4,
    "start_time": "2025-06-01T09:50:45.067Z"
   },
   {
    "duration": 4,
    "start_time": "2025-06-01T09:50:45.253Z"
   },
   {
    "duration": 249,
    "start_time": "2025-06-01T09:50:45.604Z"
   },
   {
    "duration": 695,
    "start_time": "2025-06-01T09:50:45.926Z"
   },
   {
    "duration": 9,
    "start_time": "2025-06-01T09:50:46.827Z"
   },
   {
    "duration": 46,
    "start_time": "2025-06-01T09:50:46.971Z"
   },
   {
    "duration": 146,
    "start_time": "2025-06-01T09:50:47.683Z"
   },
   {
    "duration": 45,
    "start_time": "2025-06-01T09:50:48.183Z"
   },
   {
    "duration": 244,
    "start_time": "2025-06-01T09:50:48.622Z"
   },
   {
    "duration": 64,
    "start_time": "2025-06-01T09:50:48.930Z"
   },
   {
    "duration": 41,
    "start_time": "2025-06-01T09:50:49.248Z"
   },
   {
    "duration": 47,
    "start_time": "2025-06-01T09:50:49.562Z"
   },
   {
    "duration": 40,
    "start_time": "2025-06-01T09:50:49.921Z"
   },
   {
    "duration": 24,
    "start_time": "2025-06-01T09:50:50.263Z"
   },
   {
    "duration": 96,
    "start_time": "2025-06-01T09:50:50.820Z"
   },
   {
    "duration": 289,
    "start_time": "2025-06-01T09:50:51.145Z"
   },
   {
    "duration": 311,
    "start_time": "2025-06-01T09:50:51.435Z"
   },
   {
    "duration": 373,
    "start_time": "2025-06-01T09:50:51.748Z"
   },
   {
    "duration": 109,
    "start_time": "2025-06-01T09:50:52.123Z"
   },
   {
    "duration": 58,
    "start_time": "2025-06-01T09:50:52.234Z"
   },
   {
    "duration": 5,
    "start_time": "2025-06-01T09:50:52.363Z"
   },
   {
    "duration": 593,
    "start_time": "2025-06-01T09:50:52.733Z"
   },
   {
    "duration": 67,
    "start_time": "2025-06-01T09:50:53.328Z"
   },
   {
    "duration": 79,
    "start_time": "2025-06-01T09:50:53.397Z"
   },
   {
    "duration": 652,
    "start_time": "2025-06-01T09:50:53.577Z"
   },
   {
    "duration": 43,
    "start_time": "2025-06-01T09:50:54.230Z"
   },
   {
    "duration": 8,
    "start_time": "2025-06-01T09:50:54.382Z"
   },
   {
    "duration": 7,
    "start_time": "2025-06-01T09:50:54.525Z"
   },
   {
    "duration": 74,
    "start_time": "2025-06-01T09:50:54.683Z"
   },
   {
    "duration": 581,
    "start_time": "2025-06-01T09:50:54.860Z"
   },
   {
    "duration": 547,
    "start_time": "2025-06-01T09:50:55.444Z"
   },
   {
    "duration": 26,
    "start_time": "2025-06-01T09:50:55.994Z"
   },
   {
    "duration": 61,
    "start_time": "2025-06-01T09:50:56.023Z"
   },
   {
    "duration": 79,
    "start_time": "2025-06-01T09:50:56.086Z"
   },
   {
    "duration": 4,
    "start_time": "2025-06-01T09:50:56.167Z"
   },
   {
    "duration": 118,
    "start_time": "2025-06-01T09:50:56.173Z"
   },
   {
    "duration": 237,
    "start_time": "2025-06-01T09:50:56.293Z"
   },
   {
    "duration": 76,
    "start_time": "2025-06-01T09:50:56.532Z"
   },
   {
    "duration": 107,
    "start_time": "2025-06-01T09:50:56.610Z"
   },
   {
    "duration": 3,
    "start_time": "2025-06-01T09:50:57.326Z"
   },
   {
    "duration": 1498,
    "start_time": "2025-06-01T09:50:58.678Z"
   },
   {
    "duration": 5,
    "start_time": "2025-06-01T09:51:00.178Z"
   },
   {
    "duration": 301,
    "start_time": "2025-06-01T09:51:00.184Z"
   },
   {
    "duration": 168,
    "start_time": "2025-06-01T09:51:01.158Z"
   },
   {
    "duration": 10,
    "start_time": "2025-06-01T09:51:01.664Z"
   },
   {
    "duration": 5,
    "start_time": "2025-06-01T09:51:01.971Z"
   },
   {
    "duration": 3,
    "start_time": "2025-06-01T09:51:02.722Z"
   },
   {
    "duration": 6,
    "start_time": "2025-06-01T09:51:03.494Z"
   },
   {
    "duration": 165192,
    "start_time": "2025-06-01T09:51:18.100Z"
   },
   {
    "duration": 8352,
    "start_time": "2025-06-01T09:54:03.295Z"
   },
   {
    "duration": 17,
    "start_time": "2025-06-01T09:54:11.648Z"
   },
   {
    "duration": 230610,
    "start_time": "2025-06-01T09:54:11.674Z"
   },
   {
    "duration": 15322,
    "start_time": "2025-06-01T09:58:02.286Z"
   },
   {
    "duration": 4,
    "start_time": "2025-06-01T09:58:17.610Z"
   },
   {
    "duration": 0,
    "start_time": "2025-06-01T10:39:42.877Z"
   },
   {
    "duration": 10565,
    "start_time": "2025-06-01T11:54:13.992Z"
   },
   {
    "duration": 38,
    "start_time": "2025-06-01T11:54:40.995Z"
   },
   {
    "duration": 976,
    "start_time": "2025-06-01T11:54:41.760Z"
   },
   {
    "duration": 3,
    "start_time": "2025-06-01T11:54:42.739Z"
   },
   {
    "duration": 256,
    "start_time": "2025-06-01T11:54:42.744Z"
   },
   {
    "duration": 4,
    "start_time": "2025-06-01T11:54:43.457Z"
   },
   {
    "duration": 3,
    "start_time": "2025-06-01T11:54:43.665Z"
   },
   {
    "duration": 253,
    "start_time": "2025-06-01T11:54:44.412Z"
   },
   {
    "duration": 781,
    "start_time": "2025-06-01T11:54:44.667Z"
   },
   {
    "duration": 17,
    "start_time": "2025-06-01T11:54:45.450Z"
   },
   {
    "duration": 125,
    "start_time": "2025-06-01T11:54:45.469Z"
   },
   {
    "duration": 168,
    "start_time": "2025-06-01T11:54:45.596Z"
   },
   {
    "duration": 60,
    "start_time": "2025-06-01T11:54:45.765Z"
   },
   {
    "duration": 363,
    "start_time": "2025-06-01T11:54:45.826Z"
   },
   {
    "duration": 97,
    "start_time": "2025-06-01T11:54:46.191Z"
   },
   {
    "duration": 140,
    "start_time": "2025-06-01T11:54:46.289Z"
   },
   {
    "duration": 116,
    "start_time": "2025-06-01T11:54:46.431Z"
   },
   {
    "duration": 47,
    "start_time": "2025-06-01T11:54:46.548Z"
   },
   {
    "duration": 197,
    "start_time": "2025-06-01T11:54:46.597Z"
   },
   {
    "duration": 102,
    "start_time": "2025-06-01T11:54:46.796Z"
   },
   {
    "duration": 327,
    "start_time": "2025-06-01T11:54:46.900Z"
   },
   {
    "duration": 368,
    "start_time": "2025-06-01T11:54:47.229Z"
   },
   {
    "duration": 392,
    "start_time": "2025-06-01T11:54:47.599Z"
   },
   {
    "duration": 105,
    "start_time": "2025-06-01T11:54:47.992Z"
   },
   {
    "duration": 63,
    "start_time": "2025-06-01T11:54:48.099Z"
   },
   {
    "duration": 5,
    "start_time": "2025-06-01T11:54:48.163Z"
   },
   {
    "duration": 567,
    "start_time": "2025-06-01T11:54:48.170Z"
   },
   {
    "duration": 68,
    "start_time": "2025-06-01T11:54:48.739Z"
   },
   {
    "duration": 85,
    "start_time": "2025-06-01T11:54:48.808Z"
   },
   {
    "duration": 533,
    "start_time": "2025-06-01T11:54:48.895Z"
   },
   {
    "duration": 43,
    "start_time": "2025-06-01T11:54:49.430Z"
   },
   {
    "duration": 37,
    "start_time": "2025-06-01T11:54:49.474Z"
   },
   {
    "duration": 9,
    "start_time": "2025-06-01T11:54:49.512Z"
   },
   {
    "duration": 80,
    "start_time": "2025-06-01T11:54:49.523Z"
   },
   {
    "duration": 530,
    "start_time": "2025-06-01T11:54:49.606Z"
   },
   {
    "duration": 625,
    "start_time": "2025-06-01T11:54:50.138Z"
   },
   {
    "duration": 27,
    "start_time": "2025-06-01T11:54:50.765Z"
   },
   {
    "duration": 43,
    "start_time": "2025-06-01T11:54:50.794Z"
   },
   {
    "duration": 91,
    "start_time": "2025-06-01T11:54:50.839Z"
   },
   {
    "duration": 3,
    "start_time": "2025-06-01T11:54:50.932Z"
   },
   {
    "duration": 125,
    "start_time": "2025-06-01T11:54:50.937Z"
   },
   {
    "duration": 278,
    "start_time": "2025-06-01T11:54:51.064Z"
   },
   {
    "duration": 87,
    "start_time": "2025-06-01T11:54:51.344Z"
   },
   {
    "duration": 102,
    "start_time": "2025-06-01T11:54:51.432Z"
   },
   {
    "duration": 3,
    "start_time": "2025-06-01T11:54:51.536Z"
   },
   {
    "duration": 1663,
    "start_time": "2025-06-01T11:54:51.540Z"
   },
   {
    "duration": 58,
    "start_time": "2025-06-01T11:54:53.205Z"
   },
   {
    "duration": 599,
    "start_time": "2025-06-01T11:54:53.265Z"
   },
   {
    "duration": 326,
    "start_time": "2025-06-01T11:54:53.866Z"
   },
   {
    "duration": 8,
    "start_time": "2025-06-01T11:54:54.195Z"
   },
   {
    "duration": 58,
    "start_time": "2025-06-01T11:54:54.204Z"
   },
   {
    "duration": 3,
    "start_time": "2025-06-01T11:54:54.264Z"
   },
   {
    "duration": 94,
    "start_time": "2025-06-01T11:54:54.268Z"
   },
   {
    "duration": 158439,
    "start_time": "2025-06-01T11:54:54.364Z"
   },
   {
    "duration": 8030,
    "start_time": "2025-06-01T11:57:32.804Z"
   },
   {
    "duration": 25,
    "start_time": "2025-06-01T11:57:40.836Z"
   },
   {
    "duration": 0,
    "start_time": "2025-06-01T11:57:40.862Z"
   },
   {
    "duration": 771,
    "start_time": "2025-06-01T11:57:58.941Z"
   },
   {
    "duration": 5,
    "start_time": "2025-06-01T11:58:03.395Z"
   },
   {
    "duration": 6,
    "start_time": "2025-06-01T11:58:56.245Z"
   },
   {
    "duration": 6014774,
    "start_time": "2025-06-01T11:59:00.601Z"
   },
   {
    "duration": 14,
    "start_time": "2025-06-01T13:39:52.773Z"
   },
   {
    "duration": 13,
    "start_time": "2025-06-01T13:40:04.754Z"
   },
   {
    "duration": 4,
    "start_time": "2025-06-01T13:40:11.820Z"
   },
   {
    "duration": 11,
    "start_time": "2025-06-01T13:40:17.657Z"
   },
   {
    "duration": 3,
    "start_time": "2025-06-01T13:40:31.917Z"
   },
   {
    "duration": 278593,
    "start_time": "2025-06-01T13:40:35.884Z"
   },
   {
    "duration": 3,
    "start_time": "2025-06-01T13:46:14.241Z"
   },
   {
    "duration": 6406,
    "start_time": "2025-06-01T13:46:17.800Z"
   },
   {
    "duration": 273,
    "start_time": "2025-06-01T13:46:24.208Z"
   },
   {
    "duration": 559,
    "start_time": "2025-06-01T13:46:46.266Z"
   },
   {
    "duration": 8,
    "start_time": "2025-06-01T13:46:56.369Z"
   },
   {
    "duration": 10326,
    "start_time": "2025-06-01T13:48:28.282Z"
   },
   {
    "duration": 1654,
    "start_time": "2025-06-01T13:48:38.611Z"
   },
   {
    "duration": 955,
    "start_time": "2025-06-01T13:48:40.267Z"
   },
   {
    "duration": 3,
    "start_time": "2025-06-01T13:48:41.225Z"
   },
   {
    "duration": 303,
    "start_time": "2025-06-01T13:48:41.230Z"
   },
   {
    "duration": 3,
    "start_time": "2025-06-01T13:48:41.535Z"
   },
   {
    "duration": 10,
    "start_time": "2025-06-01T13:48:41.539Z"
   },
   {
    "duration": 331,
    "start_time": "2025-06-01T13:48:41.550Z"
   },
   {
    "duration": 632,
    "start_time": "2025-06-01T13:48:41.883Z"
   },
   {
    "duration": 9,
    "start_time": "2025-06-01T13:48:42.518Z"
   },
   {
    "duration": 75,
    "start_time": "2025-06-01T13:48:42.528Z"
   },
   {
    "duration": 103,
    "start_time": "2025-06-01T13:48:42.605Z"
   },
   {
    "duration": 87,
    "start_time": "2025-06-01T13:48:42.710Z"
   },
   {
    "duration": 186,
    "start_time": "2025-06-01T13:48:42.799Z"
   },
   {
    "duration": 99,
    "start_time": "2025-06-01T13:48:42.986Z"
   },
   {
    "duration": 26,
    "start_time": "2025-06-01T13:48:43.087Z"
   },
   {
    "duration": 60,
    "start_time": "2025-06-01T13:48:43.115Z"
   },
   {
    "duration": 52,
    "start_time": "2025-06-01T13:48:43.177Z"
   },
   {
    "duration": 30,
    "start_time": "2025-06-01T13:48:43.232Z"
   },
   {
    "duration": 82,
    "start_time": "2025-06-01T13:48:43.264Z"
   },
   {
    "duration": 234,
    "start_time": "2025-06-01T13:48:43.348Z"
   },
   {
    "duration": 227,
    "start_time": "2025-06-01T13:48:43.583Z"
   },
   {
    "duration": 246,
    "start_time": "2025-06-01T13:48:43.811Z"
   },
   {
    "duration": 106,
    "start_time": "2025-06-01T13:48:44.061Z"
   },
   {
    "duration": 24,
    "start_time": "2025-06-01T13:48:44.169Z"
   },
   {
    "duration": 4,
    "start_time": "2025-06-01T13:48:44.195Z"
   },
   {
    "duration": 628,
    "start_time": "2025-06-01T13:48:44.200Z"
   },
   {
    "duration": 60,
    "start_time": "2025-06-01T13:48:44.832Z"
   },
   {
    "duration": 85,
    "start_time": "2025-06-01T13:48:44.894Z"
   },
   {
    "duration": 625,
    "start_time": "2025-06-01T13:48:44.980Z"
   },
   {
    "duration": 29,
    "start_time": "2025-06-01T13:48:45.607Z"
   },
   {
    "duration": 110,
    "start_time": "2025-06-01T13:48:45.637Z"
   },
   {
    "duration": 15,
    "start_time": "2025-06-01T13:48:45.748Z"
   },
   {
    "duration": 58,
    "start_time": "2025-06-01T13:48:45.765Z"
   },
   {
    "duration": 508,
    "start_time": "2025-06-01T13:48:45.825Z"
   },
   {
    "duration": 554,
    "start_time": "2025-06-01T13:48:46.334Z"
   },
   {
    "duration": 26,
    "start_time": "2025-06-01T13:48:46.891Z"
   },
   {
    "duration": 56,
    "start_time": "2025-06-01T13:48:46.919Z"
   },
   {
    "duration": 61,
    "start_time": "2025-06-01T13:48:46.977Z"
   },
   {
    "duration": 4,
    "start_time": "2025-06-01T13:48:47.040Z"
   },
   {
    "duration": 115,
    "start_time": "2025-06-01T13:48:47.061Z"
   },
   {
    "duration": 250,
    "start_time": "2025-06-01T13:48:47.178Z"
   },
   {
    "duration": 70,
    "start_time": "2025-06-01T13:48:47.430Z"
   },
   {
    "duration": 112,
    "start_time": "2025-06-01T13:48:47.502Z"
   },
   {
    "duration": 3,
    "start_time": "2025-06-01T13:48:47.615Z"
   },
   {
    "duration": 1549,
    "start_time": "2025-06-01T13:48:47.619Z"
   },
   {
    "duration": 4,
    "start_time": "2025-06-01T13:48:49.170Z"
   },
   {
    "duration": 225,
    "start_time": "2025-06-01T13:48:49.176Z"
   },
   {
    "duration": 148,
    "start_time": "2025-06-01T13:48:49.403Z"
   },
   {
    "duration": 12,
    "start_time": "2025-06-01T13:48:49.553Z"
   },
   {
    "duration": 139,
    "start_time": "2025-06-01T13:48:49.567Z"
   },
   {
    "duration": 0,
    "start_time": "2025-06-01T13:48:49.707Z"
   },
   {
    "duration": 0,
    "start_time": "2025-06-01T13:48:49.708Z"
   },
   {
    "duration": 0,
    "start_time": "2025-06-01T13:48:49.709Z"
   },
   {
    "duration": 0,
    "start_time": "2025-06-01T13:48:49.711Z"
   },
   {
    "duration": 0,
    "start_time": "2025-06-01T13:48:49.713Z"
   },
   {
    "duration": 0,
    "start_time": "2025-06-01T13:48:49.714Z"
   },
   {
    "duration": 0,
    "start_time": "2025-06-01T13:48:49.715Z"
   },
   {
    "duration": 0,
    "start_time": "2025-06-01T13:48:49.716Z"
   },
   {
    "duration": 0,
    "start_time": "2025-06-01T13:48:49.717Z"
   },
   {
    "duration": 0,
    "start_time": "2025-06-01T13:48:49.719Z"
   },
   {
    "duration": 0,
    "start_time": "2025-06-01T13:48:49.719Z"
   },
   {
    "duration": 0,
    "start_time": "2025-06-01T13:48:49.721Z"
   },
   {
    "duration": 0,
    "start_time": "2025-06-01T13:48:49.722Z"
   },
   {
    "duration": 0,
    "start_time": "2025-06-01T13:48:49.723Z"
   },
   {
    "duration": 4,
    "start_time": "2025-06-01T13:49:20.687Z"
   },
   {
    "duration": 4,
    "start_time": "2025-06-01T13:49:23.247Z"
   },
   {
    "duration": 4,
    "start_time": "2025-06-01T13:49:24.578Z"
   },
   {
    "duration": 153675,
    "start_time": "2025-06-01T13:49:25.192Z"
   },
   {
    "duration": 4,
    "start_time": "2025-06-01T13:51:58.869Z"
   },
   {
    "duration": 6861,
    "start_time": "2025-06-01T13:52:01.990Z"
   },
   {
    "duration": 1232,
    "start_time": "2025-06-01T13:52:08.861Z"
   },
   {
    "duration": 17,
    "start_time": "2025-06-01T13:52:10.094Z"
   },
   {
    "duration": 8,
    "start_time": "2025-06-01T13:52:25.226Z"
   },
   {
    "duration": 715,
    "start_time": "2025-06-01T13:55:56.362Z"
   },
   {
    "duration": 5,
    "start_time": "2025-06-01T13:55:58.615Z"
   },
   {
    "duration": 775427,
    "start_time": "2025-06-01T13:55:59.844Z"
   },
   {
    "duration": 4,
    "start_time": "2025-06-01T14:08:55.273Z"
   },
   {
    "duration": 67394,
    "start_time": "2025-06-01T14:08:55.279Z"
   },
   {
    "duration": 64403,
    "start_time": "2025-06-01T14:10:02.675Z"
   },
   {
    "duration": 3,
    "start_time": "2025-06-01T14:11:07.080Z"
   },
   {
    "duration": 39,
    "start_time": "2025-06-01T14:11:07.085Z"
   },
   {
    "duration": 33,
    "start_time": "2025-06-01T14:11:07.126Z"
   },
   {
    "duration": 2,
    "start_time": "2025-06-01T14:11:18.191Z"
   },
   {
    "duration": 8,
    "start_time": "2025-06-01T14:11:18.718Z"
   },
   {
    "duration": 11,
    "start_time": "2025-06-01T14:23:59.419Z"
   },
   {
    "duration": 10,
    "start_time": "2025-06-01T14:24:49.405Z"
   },
   {
    "duration": 18,
    "start_time": "2025-06-01T14:25:05.878Z"
   },
   {
    "duration": 9,
    "start_time": "2025-06-01T14:27:46.985Z"
   },
   {
    "duration": 14,
    "start_time": "2025-06-01T14:29:52.617Z"
   },
   {
    "duration": 14,
    "start_time": "2025-06-01T15:00:14.322Z"
   },
   {
    "duration": 10368,
    "start_time": "2025-06-01T15:03:33.216Z"
   },
   {
    "duration": 2458,
    "start_time": "2025-06-01T15:03:43.586Z"
   },
   {
    "duration": 947,
    "start_time": "2025-06-01T15:03:46.046Z"
   },
   {
    "duration": 2,
    "start_time": "2025-06-01T15:03:46.995Z"
   },
   {
    "duration": 285,
    "start_time": "2025-06-01T15:03:46.999Z"
   },
   {
    "duration": 3,
    "start_time": "2025-06-01T15:03:47.285Z"
   },
   {
    "duration": 11,
    "start_time": "2025-06-01T15:03:47.290Z"
   },
   {
    "duration": 366,
    "start_time": "2025-06-01T15:03:47.303Z"
   },
   {
    "duration": 621,
    "start_time": "2025-06-01T15:03:47.671Z"
   },
   {
    "duration": 8,
    "start_time": "2025-06-01T15:03:48.295Z"
   },
   {
    "duration": 76,
    "start_time": "2025-06-01T15:03:48.304Z"
   },
   {
    "duration": 101,
    "start_time": "2025-06-01T15:03:48.381Z"
   },
   {
    "duration": 22,
    "start_time": "2025-06-01T15:03:48.483Z"
   },
   {
    "duration": 184,
    "start_time": "2025-06-01T15:03:48.506Z"
   },
   {
    "duration": 22,
    "start_time": "2025-06-01T15:03:48.762Z"
   },
   {
    "duration": 22,
    "start_time": "2025-06-01T15:03:48.785Z"
   },
   {
    "duration": 79,
    "start_time": "2025-06-01T15:03:48.808Z"
   },
   {
    "duration": 51,
    "start_time": "2025-06-01T15:03:48.889Z"
   },
   {
    "duration": 85,
    "start_time": "2025-06-01T15:03:48.942Z"
   },
   {
    "duration": 89,
    "start_time": "2025-06-01T15:03:49.029Z"
   },
   {
    "duration": 285,
    "start_time": "2025-06-01T15:03:49.120Z"
   },
   {
    "duration": 232,
    "start_time": "2025-06-01T15:03:49.407Z"
   },
   {
    "duration": 252,
    "start_time": "2025-06-01T15:03:49.641Z"
   },
   {
    "duration": 117,
    "start_time": "2025-06-01T15:03:49.895Z"
   },
   {
    "duration": 27,
    "start_time": "2025-06-01T15:03:50.014Z"
   },
   {
    "duration": 17,
    "start_time": "2025-06-01T15:03:50.044Z"
   },
   {
    "duration": 576,
    "start_time": "2025-06-01T15:03:50.062Z"
   },
   {
    "duration": 66,
    "start_time": "2025-06-01T15:03:50.642Z"
   },
   {
    "duration": 76,
    "start_time": "2025-06-01T15:03:50.709Z"
   },
   {
    "duration": 593,
    "start_time": "2025-06-01T15:03:50.786Z"
   },
   {
    "duration": 35,
    "start_time": "2025-06-01T15:03:51.380Z"
   },
   {
    "duration": 6,
    "start_time": "2025-06-01T15:03:51.417Z"
   },
   {
    "duration": 15,
    "start_time": "2025-06-01T15:03:51.425Z"
   },
   {
    "duration": 50,
    "start_time": "2025-06-01T15:03:51.462Z"
   },
   {
    "duration": 520,
    "start_time": "2025-06-01T15:03:51.514Z"
   },
   {
    "duration": 533,
    "start_time": "2025-06-01T15:03:52.036Z"
   },
   {
    "duration": 26,
    "start_time": "2025-06-01T15:03:52.570Z"
   },
   {
    "duration": 43,
    "start_time": "2025-06-01T15:03:52.598Z"
   },
   {
    "duration": 71,
    "start_time": "2025-06-01T15:03:52.643Z"
   },
   {
    "duration": 3,
    "start_time": "2025-06-01T15:03:52.716Z"
   },
   {
    "duration": 127,
    "start_time": "2025-06-01T15:03:52.721Z"
   },
   {
    "duration": 263,
    "start_time": "2025-06-01T15:03:52.849Z"
   },
   {
    "duration": 61,
    "start_time": "2025-06-01T15:03:53.114Z"
   },
   {
    "duration": 101,
    "start_time": "2025-06-01T15:03:53.177Z"
   },
   {
    "duration": 2,
    "start_time": "2025-06-01T15:03:53.280Z"
   },
   {
    "duration": 1479,
    "start_time": "2025-06-01T15:03:53.283Z"
   },
   {
    "duration": 5,
    "start_time": "2025-06-01T15:03:54.764Z"
   },
   {
    "duration": 238,
    "start_time": "2025-06-01T15:03:54.770Z"
   },
   {
    "duration": 151,
    "start_time": "2025-06-01T15:03:55.009Z"
   },
   {
    "duration": 8,
    "start_time": "2025-06-01T15:03:55.162Z"
   },
   {
    "duration": 7,
    "start_time": "2025-06-01T15:03:55.172Z"
   },
   {
    "duration": 5,
    "start_time": "2025-06-01T15:03:55.180Z"
   },
   {
    "duration": 5,
    "start_time": "2025-06-01T15:03:55.187Z"
   },
   {
    "duration": 151154,
    "start_time": "2025-06-01T15:03:55.193Z"
   },
   {
    "duration": 3,
    "start_time": "2025-06-01T15:06:26.349Z"
   },
   {
    "duration": 6837,
    "start_time": "2025-06-01T15:06:26.354Z"
   },
   {
    "duration": 5,
    "start_time": "2025-06-01T15:06:33.192Z"
   },
   {
    "duration": 1245,
    "start_time": "2025-06-01T15:06:33.198Z"
   },
   {
    "duration": 3,
    "start_time": "2025-06-01T15:06:34.445Z"
   },
   {
    "duration": 88,
    "start_time": "2025-06-01T15:06:34.461Z"
   },
   {
    "duration": 719,
    "start_time": "2025-06-01T15:06:34.551Z"
   },
   {
    "duration": 6,
    "start_time": "2025-06-01T15:06:35.272Z"
   },
   {
    "duration": 541403,
    "start_time": "2025-06-01T15:06:35.279Z"
   },
   {
    "duration": 5,
    "start_time": "2025-06-01T15:15:36.684Z"
   },
   {
    "duration": 79192,
    "start_time": "2025-06-01T15:15:36.693Z"
   },
   {
    "duration": 75,
    "start_time": "2025-06-01T15:16:55.886Z"
   },
   {
    "duration": 18329,
    "start_time": "2025-06-01T15:16:55.963Z"
   },
   {
    "duration": 2,
    "start_time": "2025-06-01T15:17:14.294Z"
   },
   {
    "duration": 8,
    "start_time": "2025-06-01T15:17:14.298Z"
   },
   {
    "duration": 63,
    "start_time": "2025-06-01T15:17:14.308Z"
   },
   {
    "duration": 3,
    "start_time": "2025-06-01T15:20:33.897Z"
   },
   {
    "duration": 3,
    "start_time": "2025-06-01T15:20:35.335Z"
   },
   {
    "duration": 13,
    "start_time": "2025-06-01T15:20:38.532Z"
   },
   {
    "duration": 19914,
    "start_time": "2025-06-02T15:37:27.182Z"
   },
   {
    "duration": 1873,
    "start_time": "2025-06-02T15:37:47.098Z"
   },
   {
    "duration": 852,
    "start_time": "2025-06-02T15:37:48.973Z"
   },
   {
    "duration": 2,
    "start_time": "2025-06-02T15:37:49.828Z"
   },
   {
    "duration": 275,
    "start_time": "2025-06-02T15:37:49.832Z"
   },
   {
    "duration": 3,
    "start_time": "2025-06-02T15:37:50.109Z"
   },
   {
    "duration": 65,
    "start_time": "2025-06-02T15:37:50.113Z"
   },
   {
    "duration": 299,
    "start_time": "2025-06-02T15:37:50.180Z"
   },
   {
    "duration": 565,
    "start_time": "2025-06-02T15:37:56.141Z"
   },
   {
    "duration": 8,
    "start_time": "2025-06-02T15:37:58.597Z"
   },
   {
    "duration": 114,
    "start_time": "2025-06-02T15:38:50.925Z"
   },
   {
    "duration": 23,
    "start_time": "2025-06-02T15:38:54.708Z"
   },
   {
    "duration": 286,
    "start_time": "2025-06-02T15:39:01.574Z"
   },
   {
    "duration": 20,
    "start_time": "2025-06-02T15:39:02.707Z"
   },
   {
    "duration": 22,
    "start_time": "2025-06-02T15:39:03.938Z"
   },
   {
    "duration": 43,
    "start_time": "2025-06-02T15:39:09.993Z"
   },
   {
    "duration": 37,
    "start_time": "2025-06-02T15:39:16.929Z"
   },
   {
    "duration": 21,
    "start_time": "2025-06-02T15:39:20.411Z"
   },
   {
    "duration": 92,
    "start_time": "2025-06-02T15:39:23.175Z"
   },
   {
    "duration": 288,
    "start_time": "2025-06-02T15:39:31.398Z"
   },
   {
    "duration": 261,
    "start_time": "2025-06-02T15:39:32.396Z"
   },
   {
    "duration": 298,
    "start_time": "2025-06-02T15:39:35.163Z"
   },
   {
    "duration": 113,
    "start_time": "2025-06-02T15:39:41.612Z"
   },
   {
    "duration": 26,
    "start_time": "2025-06-02T15:39:53.281Z"
   },
   {
    "duration": 4,
    "start_time": "2025-06-02T15:39:54.340Z"
   },
   {
    "duration": 488,
    "start_time": "2025-06-02T15:39:55.329Z"
   },
   {
    "duration": 133,
    "start_time": "2025-06-02T15:39:56.623Z"
   },
   {
    "duration": 71,
    "start_time": "2025-06-02T15:39:58.398Z"
   },
   {
    "duration": 464,
    "start_time": "2025-06-02T15:39:59.937Z"
   },
   {
    "duration": 30,
    "start_time": "2025-06-02T15:40:03.749Z"
   },
   {
    "duration": 9,
    "start_time": "2025-06-02T15:41:33.441Z"
   },
   {
    "duration": 6,
    "start_time": "2025-06-02T15:41:38.548Z"
   },
   {
    "duration": 28,
    "start_time": "2025-06-02T15:41:52.689Z"
   },
   {
    "duration": 26,
    "start_time": "2025-06-02T15:42:12.705Z"
   },
   {
    "duration": 28,
    "start_time": "2025-06-02T15:46:35.101Z"
   },
   {
    "duration": 28,
    "start_time": "2025-06-02T15:49:02.763Z"
   },
   {
    "duration": 9206,
    "start_time": "2025-06-02T15:53:16.513Z"
   },
   {
    "duration": 5,
    "start_time": "2025-06-02T15:53:25.721Z"
   },
   {
    "duration": 853,
    "start_time": "2025-06-02T15:53:25.728Z"
   },
   {
    "duration": 4,
    "start_time": "2025-06-02T15:53:26.582Z"
   },
   {
    "duration": 233,
    "start_time": "2025-06-02T15:53:26.588Z"
   },
   {
    "duration": 3,
    "start_time": "2025-06-02T15:53:26.823Z"
   },
   {
    "duration": 17,
    "start_time": "2025-06-02T15:53:26.827Z"
   },
   {
    "duration": 223,
    "start_time": "2025-06-02T15:53:26.846Z"
   },
   {
    "duration": 608,
    "start_time": "2025-06-02T15:53:27.071Z"
   },
   {
    "duration": 8,
    "start_time": "2025-06-02T15:53:27.680Z"
   },
   {
    "duration": 115,
    "start_time": "2025-06-02T15:53:27.689Z"
   },
   {
    "duration": 137,
    "start_time": "2025-06-02T15:53:27.805Z"
   },
   {
    "duration": 303,
    "start_time": "2025-06-02T15:53:27.944Z"
   },
   {
    "duration": 20,
    "start_time": "2025-06-02T15:53:28.250Z"
   },
   {
    "duration": 22,
    "start_time": "2025-06-02T15:53:28.272Z"
   },
   {
    "duration": 64,
    "start_time": "2025-06-02T15:53:28.295Z"
   },
   {
    "duration": 48,
    "start_time": "2025-06-02T15:53:28.361Z"
   },
   {
    "duration": 19,
    "start_time": "2025-06-02T15:53:28.411Z"
   },
   {
    "duration": 95,
    "start_time": "2025-06-02T15:53:28.432Z"
   },
   {
    "duration": 266,
    "start_time": "2025-06-02T15:53:28.529Z"
   },
   {
    "duration": 279,
    "start_time": "2025-06-02T15:53:28.797Z"
   },
   {
    "duration": 322,
    "start_time": "2025-06-02T15:53:29.078Z"
   },
   {
    "duration": 117,
    "start_time": "2025-06-02T15:53:29.402Z"
   },
   {
    "duration": 61,
    "start_time": "2025-06-02T15:53:29.521Z"
   },
   {
    "duration": 61,
    "start_time": "2025-06-02T15:53:29.583Z"
   },
   {
    "duration": 5,
    "start_time": "2025-06-02T15:53:29.646Z"
   },
   {
    "duration": 489,
    "start_time": "2025-06-02T15:53:29.653Z"
   },
   {
    "duration": 54,
    "start_time": "2025-06-02T15:53:30.144Z"
   },
   {
    "duration": 209,
    "start_time": "2025-06-02T15:53:30.200Z"
   },
   {
    "duration": 789,
    "start_time": "2025-06-02T15:53:30.410Z"
   },
   {
    "duration": 26,
    "start_time": "2025-06-02T15:54:34.950Z"
   },
   {
    "duration": 8,
    "start_time": "2025-06-02T15:54:39.558Z"
   },
   {
    "duration": 6,
    "start_time": "2025-06-02T15:54:40.070Z"
   },
   {
    "duration": 53,
    "start_time": "2025-06-02T15:54:40.685Z"
   },
   {
    "duration": 28,
    "start_time": "2025-06-02T15:57:50.043Z"
   },
   {
    "duration": 1242,
    "start_time": "2025-06-02T15:58:30.984Z"
   },
   {
    "duration": 1240,
    "start_time": "2025-06-02T15:58:35.591Z"
   },
   {
    "duration": 15,
    "start_time": "2025-06-02T15:58:41.224Z"
   },
   {
    "duration": 28,
    "start_time": "2025-06-02T15:58:50.132Z"
   },
   {
    "duration": 18,
    "start_time": "2025-06-02T16:00:19.328Z"
   },
   {
    "duration": 624,
    "start_time": "2025-06-02T16:00:29.256Z"
   },
   {
    "duration": 551,
    "start_time": "2025-06-02T16:00:44.309Z"
   },
   {
    "duration": 18,
    "start_time": "2025-06-02T16:00:52.706Z"
   },
   {
    "duration": 15,
    "start_time": "2025-06-02T16:01:09.309Z"
   },
   {
    "duration": 18,
    "start_time": "2025-06-02T16:01:24.246Z"
   },
   {
    "duration": 24,
    "start_time": "2025-06-02T16:02:04.372Z"
   },
   {
    "duration": 17,
    "start_time": "2025-06-02T16:02:49.825Z"
   },
   {
    "duration": 22,
    "start_time": "2025-06-02T16:03:03.581Z"
   },
   {
    "duration": 19,
    "start_time": "2025-06-02T16:03:34.089Z"
   },
   {
    "duration": 504,
    "start_time": "2025-06-02T16:13:01.286Z"
   },
   {
    "duration": 512,
    "start_time": "2025-06-02T16:13:14.803Z"
   },
   {
    "duration": 22,
    "start_time": "2025-06-02T16:13:16.237Z"
   },
   {
    "duration": 33,
    "start_time": "2025-06-02T16:13:17.025Z"
   },
   {
    "duration": 51,
    "start_time": "2025-06-02T16:13:19.104Z"
   },
   {
    "duration": 3,
    "start_time": "2025-06-02T16:13:22.995Z"
   },
   {
    "duration": 56,
    "start_time": "2025-06-02T16:13:59.556Z"
   },
   {
    "duration": 129,
    "start_time": "2025-06-02T16:14:13.172Z"
   },
   {
    "duration": 31,
    "start_time": "2025-06-02T16:18:22.619Z"
   },
   {
    "duration": 3,
    "start_time": "2025-06-02T16:18:55.592Z"
   },
   {
    "duration": 98,
    "start_time": "2025-06-02T16:18:55.796Z"
   },
   {
    "duration": 244,
    "start_time": "2025-06-02T16:18:56.210Z"
   },
   {
    "duration": 51,
    "start_time": "2025-06-02T16:18:59.825Z"
   },
   {
    "duration": 84,
    "start_time": "2025-06-02T16:19:02.862Z"
   },
   {
    "duration": 3,
    "start_time": "2025-06-02T16:19:34.299Z"
   },
   {
    "duration": 1156,
    "start_time": "2025-06-02T16:19:37.610Z"
   },
   {
    "duration": 4,
    "start_time": "2025-06-02T16:19:39.010Z"
   },
   {
    "duration": 221,
    "start_time": "2025-06-02T16:19:40.648Z"
   },
   {
    "duration": 143,
    "start_time": "2025-06-02T16:19:41.274Z"
   },
   {
    "duration": 8,
    "start_time": "2025-06-02T16:19:42.900Z"
   },
   {
    "duration": 4,
    "start_time": "2025-06-02T16:19:45.666Z"
   },
   {
    "duration": 3,
    "start_time": "2025-06-02T16:27:19.840Z"
   },
   {
    "duration": 4,
    "start_time": "2025-06-02T16:36:02.055Z"
   },
   {
    "duration": 155706,
    "start_time": "2025-06-02T16:36:02.875Z"
   },
   {
    "duration": 4,
    "start_time": "2025-06-02T16:38:56.651Z"
   },
   {
    "duration": 6412,
    "start_time": "2025-06-02T16:39:00.851Z"
   },
   {
    "duration": 2,
    "start_time": "2025-06-02T16:39:07.265Z"
   },
   {
    "duration": 255,
    "start_time": "2025-06-02T16:39:07.268Z"
   },
   {
    "duration": 9,
    "start_time": "2025-06-02T16:40:38.262Z"
   },
   {
    "duration": 15,
    "start_time": "2025-06-02T16:43:50.538Z"
   },
   {
    "duration": 9,
    "start_time": "2025-06-02T16:44:00.778Z"
   },
   {
    "duration": 3,
    "start_time": "2025-06-02T16:45:11.229Z"
   },
   {
    "duration": 691,
    "start_time": "2025-06-02T16:45:49.629Z"
   },
   {
    "duration": 2,
    "start_time": "2025-06-02T16:46:47.826Z"
   },
   {
    "duration": 3,
    "start_time": "2025-06-02T16:50:12.696Z"
   },
   {
    "duration": 4,
    "start_time": "2025-06-02T16:52:21.112Z"
   },
   {
    "duration": 4,
    "start_time": "2025-06-02T16:53:41.593Z"
   },
   {
    "duration": 66,
    "start_time": "2025-06-02T16:54:24.300Z"
   },
   {
    "duration": 3,
    "start_time": "2025-06-02T16:54:26.957Z"
   },
   {
    "duration": 4,
    "start_time": "2025-06-02T16:57:28.717Z"
   },
   {
    "duration": 51743,
    "start_time": "2025-06-02T16:57:37.617Z"
   },
   {
    "duration": 6616,
    "start_time": "2025-06-02T16:58:55.554Z"
   },
   {
    "duration": 699,
    "start_time": "2025-06-02T16:59:11.425Z"
   },
   {
    "duration": 2,
    "start_time": "2025-06-02T17:00:25.973Z"
   },
   {
    "duration": 3,
    "start_time": "2025-06-02T17:00:27.406Z"
   },
   {
    "duration": 700,
    "start_time": "2025-06-02T17:00:34.677Z"
   },
   {
    "duration": 5,
    "start_time": "2025-06-02T17:00:37.032Z"
   },
   {
    "duration": 2294848,
    "start_time": "2025-06-02T17:00:39.699Z"
   },
   {
    "duration": 3,
    "start_time": "2025-06-02T17:38:54.549Z"
   },
   {
    "duration": 353230,
    "start_time": "2025-06-02T17:38:54.554Z"
   },
   {
    "duration": 4,
    "start_time": "2025-06-02T17:45:29.134Z"
   },
   {
    "duration": 2772847,
    "start_time": "2025-06-02T17:45:30.693Z"
   },
   {
    "duration": 3,
    "start_time": "2025-06-02T18:31:43.543Z"
   },
   {
    "duration": 9914,
    "start_time": "2025-06-02T18:32:25.191Z"
   },
   {
    "duration": 1651,
    "start_time": "2025-06-02T18:32:35.108Z"
   },
   {
    "duration": 861,
    "start_time": "2025-06-02T18:32:36.761Z"
   },
   {
    "duration": 3,
    "start_time": "2025-06-02T18:32:37.624Z"
   },
   {
    "duration": 271,
    "start_time": "2025-06-02T18:32:37.629Z"
   },
   {
    "duration": 4,
    "start_time": "2025-06-02T18:32:37.901Z"
   },
   {
    "duration": 51,
    "start_time": "2025-06-02T18:32:37.906Z"
   },
   {
    "duration": 346,
    "start_time": "2025-06-02T18:32:37.958Z"
   },
   {
    "duration": 556,
    "start_time": "2025-06-02T18:32:38.306Z"
   },
   {
    "duration": 8,
    "start_time": "2025-06-02T18:32:38.865Z"
   },
   {
    "duration": 100,
    "start_time": "2025-06-02T18:32:38.874Z"
   },
   {
    "duration": 20,
    "start_time": "2025-06-02T18:32:38.975Z"
   },
   {
    "duration": 261,
    "start_time": "2025-06-02T18:32:38.996Z"
   },
   {
    "duration": 89,
    "start_time": "2025-06-02T18:32:39.258Z"
   },
   {
    "duration": 68,
    "start_time": "2025-06-02T18:32:39.349Z"
   },
   {
    "duration": 116,
    "start_time": "2025-06-02T18:32:39.418Z"
   },
   {
    "duration": 38,
    "start_time": "2025-06-02T18:32:39.536Z"
   },
   {
    "duration": 23,
    "start_time": "2025-06-02T18:32:39.576Z"
   },
   {
    "duration": 101,
    "start_time": "2025-06-02T18:32:39.601Z"
   },
   {
    "duration": 290,
    "start_time": "2025-06-02T18:32:39.704Z"
   },
   {
    "duration": 579,
    "start_time": "2025-06-02T18:32:39.996Z"
   },
   {
    "duration": 785,
    "start_time": "2025-06-02T18:32:40.576Z"
   },
   {
    "duration": 207,
    "start_time": "2025-06-02T18:32:41.363Z"
   },
   {
    "duration": 40,
    "start_time": "2025-06-02T18:32:41.571Z"
   },
   {
    "duration": 79,
    "start_time": "2025-06-02T18:32:41.613Z"
   },
   {
    "duration": 5,
    "start_time": "2025-06-02T18:32:41.694Z"
   },
   {
    "duration": 516,
    "start_time": "2025-06-02T18:32:41.701Z"
   },
   {
    "duration": 138,
    "start_time": "2025-06-02T18:32:42.242Z"
   },
   {
    "duration": 57,
    "start_time": "2025-06-02T18:32:42.382Z"
   },
   {
    "duration": 482,
    "start_time": "2025-06-02T18:32:42.441Z"
   },
   {
    "duration": 37,
    "start_time": "2025-06-02T18:32:42.926Z"
   },
   {
    "duration": 79,
    "start_time": "2025-06-02T18:32:42.965Z"
   },
   {
    "duration": 29,
    "start_time": "2025-06-02T18:32:43.046Z"
   },
   {
    "duration": 68,
    "start_time": "2025-06-02T18:32:43.076Z"
   },
   {
    "duration": 19,
    "start_time": "2025-06-02T18:32:43.145Z"
   },
   {
    "duration": 521,
    "start_time": "2025-06-02T18:32:43.166Z"
   },
   {
    "duration": 550,
    "start_time": "2025-06-02T18:32:43.689Z"
   },
   {
    "duration": 24,
    "start_time": "2025-06-02T18:32:44.240Z"
   },
   {
    "duration": 55,
    "start_time": "2025-06-02T18:32:44.265Z"
   },
   {
    "duration": 61,
    "start_time": "2025-06-02T18:32:44.322Z"
   },
   {
    "duration": 3,
    "start_time": "2025-06-02T18:32:44.385Z"
   },
   {
    "duration": 133,
    "start_time": "2025-06-02T18:32:44.389Z"
   },
   {
    "duration": 255,
    "start_time": "2025-06-02T18:32:44.524Z"
   },
   {
    "duration": 64,
    "start_time": "2025-06-02T18:32:44.780Z"
   },
   {
    "duration": 94,
    "start_time": "2025-06-02T18:32:44.846Z"
   },
   {
    "duration": 3,
    "start_time": "2025-06-02T18:32:44.941Z"
   },
   {
    "duration": 1433,
    "start_time": "2025-06-02T18:32:44.945Z"
   },
   {
    "duration": 4,
    "start_time": "2025-06-02T18:32:46.380Z"
   },
   {
    "duration": 239,
    "start_time": "2025-06-02T18:32:46.385Z"
   },
   {
    "duration": 150,
    "start_time": "2025-06-02T18:32:46.625Z"
   },
   {
    "duration": 7,
    "start_time": "2025-06-02T18:32:46.777Z"
   },
   {
    "duration": 12,
    "start_time": "2025-06-02T18:32:46.786Z"
   },
   {
    "duration": 19,
    "start_time": "2025-06-02T18:32:46.800Z"
   },
   {
    "duration": 6,
    "start_time": "2025-06-02T18:32:46.821Z"
   },
   {
    "duration": 148805,
    "start_time": "2025-06-02T18:32:46.829Z"
   },
   {
    "duration": 3,
    "start_time": "2025-06-02T18:35:15.639Z"
   },
   {
    "duration": 6297,
    "start_time": "2025-06-02T18:35:15.643Z"
   },
   {
    "duration": 3,
    "start_time": "2025-06-02T18:35:21.941Z"
   },
   {
    "duration": 712,
    "start_time": "2025-06-02T18:35:21.945Z"
   },
   {
    "duration": 2,
    "start_time": "2025-06-02T18:35:22.659Z"
   },
   {
    "duration": 94,
    "start_time": "2025-06-02T18:35:22.663Z"
   },
   {
    "duration": 47,
    "start_time": "2025-06-02T18:35:22.759Z"
   },
   {
    "duration": 686,
    "start_time": "2025-06-02T18:35:22.808Z"
   },
   {
    "duration": 6,
    "start_time": "2025-06-02T18:35:23.495Z"
   },
   {
    "duration": 817751,
    "start_time": "2025-06-02T18:35:23.502Z"
   },
   {
    "duration": 4,
    "start_time": "2025-06-02T18:49:01.255Z"
   },
   {
    "duration": 27762,
    "start_time": "2025-06-02T18:49:26.087Z"
   },
   {
    "duration": 2,
    "start_time": "2025-06-02T18:49:53.851Z"
   },
   {
    "duration": 9647,
    "start_time": "2025-06-02T18:49:53.855Z"
   },
   {
    "duration": 2,
    "start_time": "2025-06-02T18:50:59.941Z"
   },
   {
    "duration": 4,
    "start_time": "2025-06-02T18:51:02.650Z"
   },
   {
    "duration": 4,
    "start_time": "2025-06-02T18:51:06.337Z"
   },
   {
    "duration": 13,
    "start_time": "2025-06-02T18:54:53.703Z"
   },
   {
    "duration": 146,
    "start_time": "2025-06-02T18:56:33.255Z"
   },
   {
    "duration": 4,
    "start_time": "2025-06-02T18:56:35.433Z"
   },
   {
    "duration": 263,
    "start_time": "2025-06-02T18:58:18.765Z"
   },
   {
    "duration": 1,
    "start_time": "2025-06-02T18:58:19.029Z"
   },
   {
    "duration": 146,
    "start_time": "2025-06-02T18:59:15.380Z"
   },
   {
    "duration": 4,
    "start_time": "2025-06-02T18:59:16.058Z"
   },
   {
    "duration": 43910,
    "start_time": "2025-06-02T18:59:24.591Z"
   },
   {
    "duration": 6,
    "start_time": "2025-06-02T19:00:17.020Z"
   },
   {
    "duration": 12,
    "start_time": "2025-06-02T19:00:35.725Z"
   },
   {
    "duration": 336,
    "start_time": "2025-06-02T19:01:02.090Z"
   },
   {
    "duration": 11,
    "start_time": "2025-06-02T19:09:56.137Z"
   },
   {
    "duration": 10,
    "start_time": "2025-06-02T19:10:01.867Z"
   },
   {
    "duration": 10,
    "start_time": "2025-06-02T19:10:09.168Z"
   },
   {
    "duration": 10,
    "start_time": "2025-06-02T19:10:32.160Z"
   },
   {
    "duration": 7,
    "start_time": "2025-06-02T19:10:39.025Z"
   },
   {
    "duration": 10,
    "start_time": "2025-06-02T19:10:49.623Z"
   },
   {
    "duration": 10,
    "start_time": "2025-06-02T19:11:00.649Z"
   },
   {
    "duration": 11,
    "start_time": "2025-06-02T19:11:05.428Z"
   },
   {
    "duration": 5,
    "start_time": "2025-06-02T19:11:11.876Z"
   },
   {
    "duration": 10,
    "start_time": "2025-06-02T19:11:24.447Z"
   },
   {
    "duration": 5,
    "start_time": "2025-06-02T19:11:31.530Z"
   },
   {
    "duration": 6,
    "start_time": "2025-06-02T19:14:35.514Z"
   },
   {
    "duration": 17,
    "start_time": "2025-06-02T19:15:11.045Z"
   },
   {
    "duration": 15,
    "start_time": "2025-06-02T19:15:55.369Z"
   },
   {
    "duration": 352,
    "start_time": "2025-06-02T19:18:40.770Z"
   },
   {
    "duration": 40340,
    "start_time": "2025-06-02T19:19:14.220Z"
   },
   {
    "duration": 326,
    "start_time": "2025-06-02T19:19:54.562Z"
   },
   {
    "duration": 10,
    "start_time": "2025-06-02T19:21:28.403Z"
   },
   {
    "duration": 5,
    "start_time": "2025-06-02T19:21:32.609Z"
   },
   {
    "duration": 307,
    "start_time": "2025-06-02T19:21:51.725Z"
   },
   {
    "duration": 315,
    "start_time": "2025-06-02T19:22:32.599Z"
   },
   {
    "duration": 6421,
    "start_time": "2025-06-02T19:23:50.992Z"
   },
   {
    "duration": 5,
    "start_time": "2025-06-02T19:24:36.006Z"
   },
   {
    "duration": 6544,
    "start_time": "2025-06-02T19:24:56.909Z"
   },
   {
    "duration": 296,
    "start_time": "2025-06-02T19:25:45.944Z"
   },
   {
    "duration": 6364,
    "start_time": "2025-06-02T19:25:54.914Z"
   },
   {
    "duration": 6380,
    "start_time": "2025-06-02T19:26:10.645Z"
   },
   {
    "duration": 6511,
    "start_time": "2025-06-02T19:26:28.452Z"
   },
   {
    "duration": 9,
    "start_time": "2025-06-02T19:27:56.185Z"
   },
   {
    "duration": 3,
    "start_time": "2025-06-02T19:30:28.507Z"
   },
   {
    "duration": 3,
    "start_time": "2025-06-02T19:30:29.542Z"
   },
   {
    "duration": 9,
    "start_time": "2025-06-02T19:31:58.440Z"
   },
   {
    "duration": 3,
    "start_time": "2025-06-02T19:32:01.300Z"
   },
   {
    "duration": 3,
    "start_time": "2025-06-02T19:32:51.561Z"
   },
   {
    "duration": 6,
    "start_time": "2025-06-02T19:32:58.174Z"
   },
   {
    "duration": 12,
    "start_time": "2025-06-02T19:33:19.049Z"
   },
   {
    "duration": 7,
    "start_time": "2025-06-02T19:33:23.520Z"
   },
   {
    "duration": 7,
    "start_time": "2025-06-02T19:33:31.944Z"
   },
   {
    "duration": 11,
    "start_time": "2025-06-02T19:33:59.951Z"
   },
   {
    "duration": 6,
    "start_time": "2025-06-02T19:34:05.062Z"
   },
   {
    "duration": 7450,
    "start_time": "2025-06-02T19:34:55.398Z"
   },
   {
    "duration": 325,
    "start_time": "2025-06-02T19:35:19.407Z"
   },
   {
    "duration": 113,
    "start_time": "2025-06-02T19:35:55.198Z"
   },
   {
    "duration": 373,
    "start_time": "2025-06-02T19:36:01.250Z"
   },
   {
    "duration": 312,
    "start_time": "2025-06-02T19:36:30.860Z"
   },
   {
    "duration": 285,
    "start_time": "2025-06-02T19:38:22.872Z"
   },
   {
    "duration": 289,
    "start_time": "2025-06-02T19:40:07.188Z"
   },
   {
    "duration": 321,
    "start_time": "2025-06-02T19:40:23.022Z"
   },
   {
    "duration": 308,
    "start_time": "2025-06-02T19:40:30.154Z"
   },
   {
    "duration": 335,
    "start_time": "2025-06-02T19:41:30.322Z"
   },
   {
    "duration": 311,
    "start_time": "2025-06-02T19:41:45.651Z"
   },
   {
    "duration": 318,
    "start_time": "2025-06-02T19:41:53.911Z"
   },
   {
    "duration": 282,
    "start_time": "2025-06-02T19:45:28.165Z"
   },
   {
    "duration": 9151,
    "start_time": "2025-06-02T19:57:08.258Z"
   },
   {
    "duration": 1571,
    "start_time": "2025-06-02T19:57:17.411Z"
   },
   {
    "duration": 838,
    "start_time": "2025-06-02T19:57:18.984Z"
   },
   {
    "duration": 3,
    "start_time": "2025-06-02T19:57:19.825Z"
   },
   {
    "duration": 260,
    "start_time": "2025-06-02T19:57:19.829Z"
   },
   {
    "duration": 3,
    "start_time": "2025-06-02T19:57:20.090Z"
   },
   {
    "duration": 5,
    "start_time": "2025-06-02T19:57:20.094Z"
   },
   {
    "duration": 312,
    "start_time": "2025-06-02T19:57:20.100Z"
   },
   {
    "duration": 581,
    "start_time": "2025-06-02T19:57:20.413Z"
   },
   {
    "duration": 10,
    "start_time": "2025-06-02T19:57:20.997Z"
   },
   {
    "duration": 110,
    "start_time": "2025-06-02T19:57:21.009Z"
   },
   {
    "duration": 26,
    "start_time": "2025-06-02T19:57:21.121Z"
   },
   {
    "duration": 206,
    "start_time": "2025-06-02T19:57:21.149Z"
   },
   {
    "duration": 88,
    "start_time": "2025-06-02T19:57:21.356Z"
   },
   {
    "duration": 50,
    "start_time": "2025-06-02T19:57:21.446Z"
   },
   {
    "duration": 76,
    "start_time": "2025-06-02T19:57:21.498Z"
   },
   {
    "duration": 162,
    "start_time": "2025-06-02T19:57:21.575Z"
   },
   {
    "duration": 20,
    "start_time": "2025-06-02T19:57:21.739Z"
   },
   {
    "duration": 131,
    "start_time": "2025-06-02T19:57:21.761Z"
   },
   {
    "duration": 292,
    "start_time": "2025-06-02T19:57:21.893Z"
   },
   {
    "duration": 270,
    "start_time": "2025-06-02T19:57:22.187Z"
   },
   {
    "duration": 294,
    "start_time": "2025-06-02T19:57:22.459Z"
   },
   {
    "duration": 118,
    "start_time": "2025-06-02T19:57:22.755Z"
   },
   {
    "duration": 26,
    "start_time": "2025-06-02T19:57:22.875Z"
   },
   {
    "duration": 68,
    "start_time": "2025-06-02T19:57:22.903Z"
   },
   {
    "duration": 158,
    "start_time": "2025-06-02T19:57:22.973Z"
   },
   {
    "duration": 492,
    "start_time": "2025-06-02T19:57:23.132Z"
   },
   {
    "duration": 148,
    "start_time": "2025-06-02T19:57:23.628Z"
   },
   {
    "duration": 50,
    "start_time": "2025-06-02T19:57:23.777Z"
   },
   {
    "duration": 464,
    "start_time": "2025-06-02T19:57:23.839Z"
   },
   {
    "duration": 40,
    "start_time": "2025-06-02T19:57:24.305Z"
   },
   {
    "duration": 8,
    "start_time": "2025-06-02T19:57:24.347Z"
   },
   {
    "duration": 32,
    "start_time": "2025-06-02T19:57:24.357Z"
   },
   {
    "duration": 60,
    "start_time": "2025-06-02T19:57:24.391Z"
   },
   {
    "duration": 19,
    "start_time": "2025-06-02T19:57:24.453Z"
   },
   {
    "duration": 511,
    "start_time": "2025-06-02T19:57:24.474Z"
   },
   {
    "duration": 520,
    "start_time": "2025-06-02T19:57:24.987Z"
   },
   {
    "duration": 35,
    "start_time": "2025-06-02T19:57:25.509Z"
   },
   {
    "duration": 32,
    "start_time": "2025-06-02T19:57:25.546Z"
   },
   {
    "duration": 177,
    "start_time": "2025-06-02T19:57:25.579Z"
   },
   {
    "duration": 4,
    "start_time": "2025-06-02T19:57:25.757Z"
   },
   {
    "duration": 111,
    "start_time": "2025-06-02T19:57:25.762Z"
   },
   {
    "duration": 216,
    "start_time": "2025-06-02T19:57:25.875Z"
   },
   {
    "duration": 67,
    "start_time": "2025-06-02T19:57:26.093Z"
   },
   {
    "duration": 103,
    "start_time": "2025-06-02T19:57:26.162Z"
   },
   {
    "duration": 2,
    "start_time": "2025-06-02T19:57:26.267Z"
   },
   {
    "duration": 1268,
    "start_time": "2025-06-02T19:57:26.271Z"
   },
   {
    "duration": 7,
    "start_time": "2025-06-02T19:57:27.541Z"
   },
   {
    "duration": 261,
    "start_time": "2025-06-02T19:57:27.550Z"
   },
   {
    "duration": 144,
    "start_time": "2025-06-02T19:57:27.813Z"
   },
   {
    "duration": 7,
    "start_time": "2025-06-02T19:57:27.959Z"
   },
   {
    "duration": 18,
    "start_time": "2025-06-02T19:57:27.968Z"
   },
   {
    "duration": 5,
    "start_time": "2025-06-02T19:57:27.988Z"
   },
   {
    "duration": 7,
    "start_time": "2025-06-02T19:57:27.994Z"
   },
   {
    "duration": 148866,
    "start_time": "2025-06-02T19:57:28.002Z"
   },
   {
    "duration": 4,
    "start_time": "2025-06-02T19:59:56.869Z"
   },
   {
    "duration": 6325,
    "start_time": "2025-06-02T19:59:56.874Z"
   },
   {
    "duration": 2,
    "start_time": "2025-06-02T20:00:03.201Z"
   },
   {
    "duration": 935,
    "start_time": "2025-06-02T20:00:03.205Z"
   },
   {
    "duration": 2,
    "start_time": "2025-06-02T20:00:04.142Z"
   },
   {
    "duration": 40,
    "start_time": "2025-06-02T20:00:04.146Z"
   },
   {
    "duration": 52,
    "start_time": "2025-06-02T20:00:04.188Z"
   },
   {
    "duration": 735,
    "start_time": "2025-06-02T20:00:04.241Z"
   },
   {
    "duration": 5,
    "start_time": "2025-06-02T20:00:04.977Z"
   },
   {
    "duration": 2243045,
    "start_time": "2025-06-02T20:00:04.984Z"
   },
   {
    "duration": 0,
    "start_time": "2025-06-02T20:37:28.031Z"
   },
   {
    "duration": 0,
    "start_time": "2025-06-02T20:37:28.032Z"
   },
   {
    "duration": 0,
    "start_time": "2025-06-02T20:37:28.033Z"
   },
   {
    "duration": 0,
    "start_time": "2025-06-02T20:37:28.038Z"
   },
   {
    "duration": 0,
    "start_time": "2025-06-02T20:37:28.039Z"
   },
   {
    "duration": 0,
    "start_time": "2025-06-02T20:37:28.040Z"
   },
   {
    "duration": 0,
    "start_time": "2025-06-02T20:37:28.042Z"
   },
   {
    "duration": 0,
    "start_time": "2025-06-02T20:37:28.043Z"
   },
   {
    "duration": 0,
    "start_time": "2025-06-02T20:37:28.044Z"
   },
   {
    "duration": 0,
    "start_time": "2025-06-02T20:37:28.045Z"
   },
   {
    "duration": 0,
    "start_time": "2025-06-02T20:37:28.045Z"
   },
   {
    "duration": 823056,
    "start_time": "2025-06-02T20:37:47.603Z"
   },
   {
    "duration": 4,
    "start_time": "2025-06-02T20:51:43.084Z"
   },
   {
    "duration": 573960,
    "start_time": "2025-06-02T20:51:43.288Z"
   },
   {
    "duration": 2,
    "start_time": "2025-06-02T21:04:44.503Z"
   },
   {
    "duration": 3046,
    "start_time": "2025-06-02T21:04:44.810Z"
   },
   {
    "duration": 3004,
    "start_time": "2025-06-02T21:04:50.544Z"
   },
   {
    "duration": 2,
    "start_time": "2025-06-02T21:04:53.550Z"
   },
   {
    "duration": 4,
    "start_time": "2025-06-02T21:04:55.255Z"
   },
   {
    "duration": 4,
    "start_time": "2025-06-02T21:04:58.020Z"
   },
   {
    "duration": 11,
    "start_time": "2025-06-02T21:05:02.251Z"
   },
   {
    "duration": 142,
    "start_time": "2025-06-02T21:05:04.881Z"
   },
   {
    "duration": 4,
    "start_time": "2025-06-02T21:05:05.597Z"
   },
   {
    "duration": 260,
    "start_time": "2025-06-02T21:06:04.686Z"
   },
   {
    "duration": 301,
    "start_time": "2025-06-02T21:13:32.791Z"
   },
   {
    "duration": 635161,
    "start_time": "2025-06-02T21:14:46.828Z"
   },
   {
    "duration": 41465,
    "start_time": "2025-07-09T15:37:05.421Z"
   },
   {
    "duration": 1767,
    "start_time": "2025-07-09T15:37:46.889Z"
   },
   {
    "duration": 981,
    "start_time": "2025-07-09T15:37:48.658Z"
   },
   {
    "duration": 3,
    "start_time": "2025-07-09T15:37:49.642Z"
   },
   {
    "duration": 379,
    "start_time": "2025-07-09T15:37:49.647Z"
   },
   {
    "duration": 3,
    "start_time": "2025-07-09T15:37:50.029Z"
   },
   {
    "duration": 108,
    "start_time": "2025-07-09T15:37:50.035Z"
   },
   {
    "duration": 508,
    "start_time": "2025-07-09T15:37:50.145Z"
   },
   {
    "duration": 669,
    "start_time": "2025-07-09T15:37:50.655Z"
   },
   {
    "duration": 8,
    "start_time": "2025-07-09T15:37:51.327Z"
   },
   {
    "duration": 192,
    "start_time": "2025-07-09T15:37:51.337Z"
   },
   {
    "duration": 193,
    "start_time": "2025-07-09T15:37:51.531Z"
   },
   {
    "duration": 341,
    "start_time": "2025-07-09T15:37:51.726Z"
   },
   {
    "duration": 38,
    "start_time": "2025-07-09T15:37:52.069Z"
   },
   {
    "duration": 224,
    "start_time": "2025-07-09T15:37:52.109Z"
   },
   {
    "duration": 188,
    "start_time": "2025-07-09T15:37:52.334Z"
   },
   {
    "duration": 212,
    "start_time": "2025-07-09T15:37:52.524Z"
   },
   {
    "duration": 51,
    "start_time": "2025-07-09T15:37:52.737Z"
   },
   {
    "duration": 197,
    "start_time": "2025-07-09T15:37:52.790Z"
   },
   {
    "duration": 532,
    "start_time": "2025-07-09T15:37:52.990Z"
   },
   {
    "duration": 345,
    "start_time": "2025-07-09T15:37:53.524Z"
   },
   {
    "duration": 376,
    "start_time": "2025-07-09T15:37:53.871Z"
   },
   {
    "duration": 138,
    "start_time": "2025-07-09T15:37:54.248Z"
   },
   {
    "duration": 26,
    "start_time": "2025-07-09T15:37:54.387Z"
   },
   {
    "duration": 72,
    "start_time": "2025-07-09T15:37:54.414Z"
   },
   {
    "duration": 5,
    "start_time": "2025-07-09T15:37:54.487Z"
   },
   {
    "duration": 639,
    "start_time": "2025-07-09T15:37:54.494Z"
   },
   {
    "duration": 173,
    "start_time": "2025-07-09T15:37:55.136Z"
   },
   {
    "duration": 60,
    "start_time": "2025-07-09T15:37:55.311Z"
   },
   {
    "duration": 471,
    "start_time": "2025-07-09T15:37:55.372Z"
   },
   {
    "duration": 28,
    "start_time": "2025-07-09T15:37:55.858Z"
   },
   {
    "duration": 8,
    "start_time": "2025-07-09T15:37:55.888Z"
   },
   {
    "duration": 5,
    "start_time": "2025-07-09T15:37:55.897Z"
   },
   {
    "duration": 80,
    "start_time": "2025-07-09T15:37:55.904Z"
   },
   {
    "duration": 19,
    "start_time": "2025-07-09T15:37:55.987Z"
   },
   {
    "duration": 516,
    "start_time": "2025-07-09T15:37:56.007Z"
   },
   {
    "duration": 548,
    "start_time": "2025-07-09T15:37:56.525Z"
   },
   {
    "duration": 25,
    "start_time": "2025-07-09T15:37:57.075Z"
   },
   {
    "duration": 34,
    "start_time": "2025-07-09T15:37:57.102Z"
   },
   {
    "duration": 77,
    "start_time": "2025-07-09T15:37:57.138Z"
   },
   {
    "duration": 3,
    "start_time": "2025-07-09T15:37:57.217Z"
   },
   {
    "duration": 130,
    "start_time": "2025-07-09T15:37:57.222Z"
   },
   {
    "duration": 278,
    "start_time": "2025-07-09T15:37:57.354Z"
   },
   {
    "duration": 65,
    "start_time": "2025-07-09T15:37:57.634Z"
   },
   {
    "duration": 104,
    "start_time": "2025-07-09T15:37:57.700Z"
   }
  ],
  "kernelspec": {
   "display_name": "Python 3 (ipykernel)",
   "language": "python",
   "name": "python3"
  },
  "language_info": {
   "codemirror_mode": {
    "name": "ipython",
    "version": 3
   },
   "file_extension": ".py",
   "mimetype": "text/x-python",
   "name": "python",
   "nbconvert_exporter": "python",
   "pygments_lexer": "ipython3",
   "version": "3.12.7"
  },
  "toc": {
   "base_numbering": 1,
   "nav_menu": {},
   "number_sections": true,
   "sideBar": true,
   "skip_h1_title": true,
   "title_cell": "Table of Contents",
   "title_sidebar": "Contents",
   "toc_cell": false,
   "toc_position": {
    "height": "calc(100% - 180px)",
    "left": "10px",
    "top": "150px",
    "width": "238.5px"
   },
   "toc_section_display": true,
   "toc_window_display": true
  }
 },
 "nbformat": 4,
 "nbformat_minor": 4
}
