{
 "cells": [
  {
   "cell_type": "markdown",
   "metadata": {
    "toc": true
   },
   "source": [
    "<h1>Содержание<span class=\"tocSkip\"></span></h1>\n",
    "<div class=\"toc\"><ul class=\"toc-item\"><li><span><a href=\"#Загрузка-и-подготовка-данных\" data-toc-modified-id=\"Загрузка-и-подготовка-данных-1\"><span class=\"toc-item-num\">1&nbsp;&nbsp;</span>Загрузка и подготовка данных</a></span><ul class=\"toc-item\"><li><span><a href=\"#Загрузка-данных\" data-toc-modified-id=\"Загрузка-данных-1.1\"><span class=\"toc-item-num\">1.1&nbsp;&nbsp;</span>Загрузка данных</a></span></li><li><span><a href=\"#Подготовка-данных\" data-toc-modified-id=\"Подготовка-данных-1.2\"><span class=\"toc-item-num\">1.2&nbsp;&nbsp;</span>Подготовка данных</a></span><ul class=\"toc-item\"><li><span><a href=\"#Удаление-столбца\" data-toc-modified-id=\"Удаление-столбца-1.2.1\"><span class=\"toc-item-num\">1.2.1&nbsp;&nbsp;</span>Удаление столбца</a></span></li><li><span><a href=\"#Поиск-дубликатов\" data-toc-modified-id=\"Поиск-дубликатов-1.2.2\"><span class=\"toc-item-num\">1.2.2&nbsp;&nbsp;</span>Поиск дубликатов</a></span></li><li><span><a href=\"#Анализ-таргета\" data-toc-modified-id=\"Анализ-таргета-1.2.3\"><span class=\"toc-item-num\">1.2.3&nbsp;&nbsp;</span>Анализ таргета</a></span></li><li><span><a href=\"#Лемматизация-и-очистка-текста\" data-toc-modified-id=\"Лемматизация-и-очистка-текста-1.2.4\"><span class=\"toc-item-num\">1.2.4&nbsp;&nbsp;</span>Лемматизация и очистка текста</a></span></li><li><span><a href=\"#Анализ-текста\" data-toc-modified-id=\"Анализ-текста-1.2.5\"><span class=\"toc-item-num\">1.2.5&nbsp;&nbsp;</span>Анализ текста</a></span><ul class=\"toc-item\"><li><span><a href=\"#Количество-слов-в-комментариях\" data-toc-modified-id=\"Количество-слов-в-комментариях-1.2.5.1\"><span class=\"toc-item-num\">1.2.5.1&nbsp;&nbsp;</span>Количество слов в комментариях</a></span></li><li><span><a href=\"#Самые-популярные-слова\" data-toc-modified-id=\"Самые-популярные-слова-1.2.5.2\"><span class=\"toc-item-num\">1.2.5.2&nbsp;&nbsp;</span>Самые популярные слова</a></span></li></ul></li></ul></li></ul></li><li><span><a href=\"#Обучение\" data-toc-modified-id=\"Обучение-2\"><span class=\"toc-item-num\">2&nbsp;&nbsp;</span>Обучение</a></span><ul class=\"toc-item\"><li><span><a href=\"#Дерево-классификации\" data-toc-modified-id=\"Дерево-классификации-2.1\"><span class=\"toc-item-num\">2.1&nbsp;&nbsp;</span>Дерево классификации</a></span></li><li><span><a href=\"#Логистическая-регрессия\" data-toc-modified-id=\"Логистическая-регрессия-2.2\"><span class=\"toc-item-num\">2.2&nbsp;&nbsp;</span>Логистическая регрессия</a></span></li><li><span><a href=\"#Пассивно-агрессивная-классификация\" data-toc-modified-id=\"Пассивно-агрессивная-классификация-2.3\"><span class=\"toc-item-num\">2.3&nbsp;&nbsp;</span>Пассивно-агрессивная классификация</a></span></li><li><span><a href=\"#Анализ\" data-toc-modified-id=\"Анализ-2.4\"><span class=\"toc-item-num\">2.4&nbsp;&nbsp;</span>Анализ</a></span></li></ul></li><li><span><a href=\"#Тестирование-и-Выводы\" data-toc-modified-id=\"Тестирование-и-Выводы-3\"><span class=\"toc-item-num\">3&nbsp;&nbsp;</span>Тестирование и Выводы</a>"
   ]
  },
  {
   "cell_type": "markdown",
   "metadata": {},
   "source": [
    "# Проект для «Викишоп»"
   ]
  },
  {
   "cell_type": "markdown",
   "metadata": {},
   "source": [
    "Интернет-магазин «Викишоп» запускает новый сервис. Теперь пользователи могут редактировать и дополнять описания товаров, как в вики-сообществах. То есть клиенты предлагают свои правки и комментируют изменения других. Магазину нужен инструмент, который будет искать токсичные комментарии и отправлять их на модерацию. \n",
    "\n",
    "Обучите модель классифицировать комментарии на позитивные и негативные. В вашем распоряжении набор данных с разметкой о токсичности правок.\n",
    "\n",
    "Постройте модель со значением метрики качества *F1* не меньше 0.75. \n",
    "\n",
    "**Инструкция по выполнению проекта**\n",
    "\n",
    "1. Загрузите и подготовьте данные.\n",
    "2. Обучите разные модели. \n",
    "3. Сделайте выводы.\n",
    "\n",
    "Для выполнения проекта применять *BERT* необязательно, но вы можете попробовать.\n",
    "\n",
    "**Описание данных**\n",
    "\n",
    "Данные находятся в файле `toxic_comments.csv`. Столбец *text* в нём содержит текст комментария, а *toxic* — целевой признак."
   ]
  },
  {
   "cell_type": "markdown",
   "metadata": {},
   "source": [
    "## Загрузка и подготовка данных"
   ]
  },
  {
   "cell_type": "markdown",
   "metadata": {},
   "source": [
    "Загрузим необходимые библиотеки"
   ]
  },
  {
   "cell_type": "code",
   "execution_count": 1,
   "metadata": {},
   "outputs": [],
   "source": [
    "!pip install scikit-learn==1.1.3 -q\n",
    "!pip install matplotlib==3.5.2 -q\n",
    "!pip install optuna -q"
   ]
  },
  {
   "cell_type": "markdown",
   "metadata": {},
   "source": [
    "Импортируем библиотеки"
   ]
  },
  {
   "cell_type": "code",
   "execution_count": 2,
   "metadata": {},
   "outputs": [],
   "source": [
    "import pandas as pd\n",
    "import numpy as np\n",
    "import matplotlib.pyplot as plt\n",
    "from sklearn.feature_extraction.text import TfidfVectorizer\n",
    "from sklearn.metrics import f1_score\n",
    "from sklearn.model_selection import train_test_split, cross_val_score\n",
    "from sklearn.linear_model import LogisticRegression, PassiveAggressiveClassifier\n",
    "from sklearn.tree import DecisionTreeClassifier\n",
    "from sklearn.pipeline import Pipeline\n",
    "from sklearn.compose import ColumnTransformer\n",
    "from collections import Counter\n",
    "import optuna\n",
    "import re\n",
    "import nltk\n",
    "from nltk import pos_tag\n",
    "from nltk.corpus import stopwords as nltk_stopwords\n",
    "from nltk.tokenize import word_tokenize\n",
    "from nltk.stem import WordNetLemmatizer\n",
    "import warnings\n",
    "warnings.filterwarnings(\"ignore\")"
   ]
  },
  {
   "cell_type": "markdown",
   "metadata": {},
   "source": [
    "Закрепим необходимые константы:"
   ]
  },
  {
   "cell_type": "code",
   "execution_count": 3,
   "metadata": {},
   "outputs": [],
   "source": [
    "RANDOM_STATE = 42\n",
    "TEST_SIZE = 0.25"
   ]
  },
  {
   "cell_type": "markdown",
   "metadata": {},
   "source": [
    "### Загрузка данных"
   ]
  },
  {
   "cell_type": "code",
   "execution_count": 4,
   "metadata": {},
   "outputs": [],
   "source": [
    "try:\n",
    "    data = pd.read_csv('/datasets/toxic_comments.csv')\n",
    "except:\n",
    "    print('Датасет не найден')"
   ]
  },
  {
   "cell_type": "markdown",
   "metadata": {},
   "source": [
    "### Подготовка данных"
   ]
  },
  {
   "cell_type": "code",
   "execution_count": 5,
   "metadata": {},
   "outputs": [],
   "source": [
    "def first_look(df):\n",
    "    df.info()\n",
    "    return display('Первые 5 строк', df.head(5), 'Последние 5 строк', df.tail(5))"
   ]
  },
  {
   "cell_type": "markdown",
   "metadata": {},
   "source": [
    "Выполним первоначальный осмотр данных"
   ]
  },
  {
   "cell_type": "code",
   "execution_count": 6,
   "metadata": {},
   "outputs": [
    {
     "name": "stdout",
     "output_type": "stream",
     "text": [
      "<class 'pandas.core.frame.DataFrame'>\n",
      "RangeIndex: 159292 entries, 0 to 159291\n",
      "Data columns (total 3 columns):\n",
      " #   Column      Non-Null Count   Dtype \n",
      "---  ------      --------------   ----- \n",
      " 0   Unnamed: 0  159292 non-null  int64 \n",
      " 1   text        159292 non-null  object\n",
      " 2   toxic       159292 non-null  int64 \n",
      "dtypes: int64(2), object(1)\n",
      "memory usage: 3.6+ MB\n"
     ]
    },
    {
     "data": {
      "text/plain": [
       "'Первые 5 строк'"
      ]
     },
     "metadata": {},
     "output_type": "display_data"
    },
    {
     "data": {
      "text/html": [
       "<div>\n",
       "<style scoped>\n",
       "    .dataframe tbody tr th:only-of-type {\n",
       "        vertical-align: middle;\n",
       "    }\n",
       "\n",
       "    .dataframe tbody tr th {\n",
       "        vertical-align: top;\n",
       "    }\n",
       "\n",
       "    .dataframe thead th {\n",
       "        text-align: right;\n",
       "    }\n",
       "</style>\n",
       "<table border=\"1\" class=\"dataframe\">\n",
       "  <thead>\n",
       "    <tr style=\"text-align: right;\">\n",
       "      <th></th>\n",
       "      <th>Unnamed: 0</th>\n",
       "      <th>text</th>\n",
       "      <th>toxic</th>\n",
       "    </tr>\n",
       "  </thead>\n",
       "  <tbody>\n",
       "    <tr>\n",
       "      <th>0</th>\n",
       "      <td>0</td>\n",
       "      <td>Explanation\\nWhy the edits made under my usern...</td>\n",
       "      <td>0</td>\n",
       "    </tr>\n",
       "    <tr>\n",
       "      <th>1</th>\n",
       "      <td>1</td>\n",
       "      <td>D'aww! He matches this background colour I'm s...</td>\n",
       "      <td>0</td>\n",
       "    </tr>\n",
       "    <tr>\n",
       "      <th>2</th>\n",
       "      <td>2</td>\n",
       "      <td>Hey man, I'm really not trying to edit war. It...</td>\n",
       "      <td>0</td>\n",
       "    </tr>\n",
       "    <tr>\n",
       "      <th>3</th>\n",
       "      <td>3</td>\n",
       "      <td>\"\\nMore\\nI can't make any real suggestions on ...</td>\n",
       "      <td>0</td>\n",
       "    </tr>\n",
       "    <tr>\n",
       "      <th>4</th>\n",
       "      <td>4</td>\n",
       "      <td>You, sir, are my hero. Any chance you remember...</td>\n",
       "      <td>0</td>\n",
       "    </tr>\n",
       "  </tbody>\n",
       "</table>\n",
       "</div>"
      ],
      "text/plain": [
       "   Unnamed: 0                                               text  toxic\n",
       "0           0  Explanation\\nWhy the edits made under my usern...      0\n",
       "1           1  D'aww! He matches this background colour I'm s...      0\n",
       "2           2  Hey man, I'm really not trying to edit war. It...      0\n",
       "3           3  \"\\nMore\\nI can't make any real suggestions on ...      0\n",
       "4           4  You, sir, are my hero. Any chance you remember...      0"
      ]
     },
     "metadata": {},
     "output_type": "display_data"
    },
    {
     "data": {
      "text/plain": [
       "'Последние 5 строк'"
      ]
     },
     "metadata": {},
     "output_type": "display_data"
    },
    {
     "data": {
      "text/html": [
       "<div>\n",
       "<style scoped>\n",
       "    .dataframe tbody tr th:only-of-type {\n",
       "        vertical-align: middle;\n",
       "    }\n",
       "\n",
       "    .dataframe tbody tr th {\n",
       "        vertical-align: top;\n",
       "    }\n",
       "\n",
       "    .dataframe thead th {\n",
       "        text-align: right;\n",
       "    }\n",
       "</style>\n",
       "<table border=\"1\" class=\"dataframe\">\n",
       "  <thead>\n",
       "    <tr style=\"text-align: right;\">\n",
       "      <th></th>\n",
       "      <th>Unnamed: 0</th>\n",
       "      <th>text</th>\n",
       "      <th>toxic</th>\n",
       "    </tr>\n",
       "  </thead>\n",
       "  <tbody>\n",
       "    <tr>\n",
       "      <th>159287</th>\n",
       "      <td>159446</td>\n",
       "      <td>\":::::And for the second time of asking, when ...</td>\n",
       "      <td>0</td>\n",
       "    </tr>\n",
       "    <tr>\n",
       "      <th>159288</th>\n",
       "      <td>159447</td>\n",
       "      <td>You should be ashamed of yourself \\n\\nThat is ...</td>\n",
       "      <td>0</td>\n",
       "    </tr>\n",
       "    <tr>\n",
       "      <th>159289</th>\n",
       "      <td>159448</td>\n",
       "      <td>Spitzer \\n\\nUmm, theres no actual article for ...</td>\n",
       "      <td>0</td>\n",
       "    </tr>\n",
       "    <tr>\n",
       "      <th>159290</th>\n",
       "      <td>159449</td>\n",
       "      <td>And it looks like it was actually you who put ...</td>\n",
       "      <td>0</td>\n",
       "    </tr>\n",
       "    <tr>\n",
       "      <th>159291</th>\n",
       "      <td>159450</td>\n",
       "      <td>\"\\nAnd ... I really don't think you understand...</td>\n",
       "      <td>0</td>\n",
       "    </tr>\n",
       "  </tbody>\n",
       "</table>\n",
       "</div>"
      ],
      "text/plain": [
       "        Unnamed: 0                                               text  toxic\n",
       "159287      159446  \":::::And for the second time of asking, when ...      0\n",
       "159288      159447  You should be ashamed of yourself \\n\\nThat is ...      0\n",
       "159289      159448  Spitzer \\n\\nUmm, theres no actual article for ...      0\n",
       "159290      159449  And it looks like it was actually you who put ...      0\n",
       "159291      159450  \"\\nAnd ... I really don't think you understand...      0"
      ]
     },
     "metadata": {},
     "output_type": "display_data"
    }
   ],
   "source": [
    "first_look(data)"
   ]
  },
  {
   "cell_type": "markdown",
   "metadata": {},
   "source": [
    "Помимо необходимых столбцов с меткой комментария и самим комментарием в выгруженном датасете есть столбец с номером строки. Также можно отметить, что столбец с номером строки в некоторый момент прерывается - об этом говорит несовпадение номера и индексом строки. Пропусков в данных нет. Среднее значение столбца toxic говорит о том, что в основной своей массе комментарии не являются токсичными."
   ]
  },
  {
   "cell_type": "markdown",
   "metadata": {},
   "source": [
    "#### Удаление столбца"
   ]
  },
  {
   "cell_type": "code",
   "execution_count": 7,
   "metadata": {},
   "outputs": [],
   "source": [
    "data.drop('Unnamed: 0', axis = 1, inplace = True)"
   ]
  },
  {
   "cell_type": "markdown",
   "metadata": {},
   "source": [
    "#### Поиск дубликатов"
   ]
  },
  {
   "cell_type": "code",
   "execution_count": 8,
   "metadata": {},
   "outputs": [
    {
     "data": {
      "text/plain": [
       "0"
      ]
     },
     "execution_count": 8,
     "metadata": {},
     "output_type": "execute_result"
    }
   ],
   "source": [
    "data.duplicated().sum()"
   ]
  },
  {
   "cell_type": "markdown",
   "metadata": {},
   "source": [
    "Дубликаты отсутствуют."
   ]
  },
  {
   "cell_type": "markdown",
   "metadata": {},
   "source": [
    "#### Анализ таргета"
   ]
  },
  {
   "cell_type": "markdown",
   "metadata": {},
   "source": [
    "Уникальные значения в столбце toxic и частота их появления:"
   ]
  },
  {
   "cell_type": "code",
   "execution_count": 9,
   "metadata": {},
   "outputs": [
    {
     "data": {
      "text/plain": [
       "0    143106\n",
       "1     16186\n",
       "Name: toxic, dtype: int64"
      ]
     },
     "execution_count": 9,
     "metadata": {},
     "output_type": "execute_result"
    }
   ],
   "source": [
    "data['toxic'].value_counts()"
   ]
  },
  {
   "cell_type": "code",
   "execution_count": 10,
   "metadata": {},
   "outputs": [
    {
     "data": {
      "image/png": "[encoded data removed]",
      "text/plain": [
       "<Figure size 648x504 with 1 Axes>"
      ]
     },
     "metadata": {},
     "output_type": "display_data"
    }
   ],
   "source": [
    "data['toxic'].value_counts().plot(kind = 'pie', autopct = '%1.1f%%', figsize = (9, 7))\n",
    "plt.title('Круговая диаграмма целевого признака', size = 15)\n",
    "plt.show()"
   ]
  },
  {
   "cell_type": "markdown",
   "metadata": {},
   "source": [
    "В основной своей массе комментарии не являются токсичными."
   ]
  },
  {
   "cell_type": "markdown",
   "metadata": {},
   "source": [
    "#### Лемматизация и очистка текста"
   ]
  },
  {
   "cell_type": "markdown",
   "metadata": {},
   "source": [
    "Загрузим словарь стоп-слов"
   ]
  },
  {
   "cell_type": "code",
   "execution_count": 11,
   "metadata": {},
   "outputs": [
    {
     "name": "stderr",
     "output_type": "stream",
     "text": [
      "[nltk_data] Downloading package stopwords to /home/jovyan/nltk_data...\n",
      "[nltk_data]   Package stopwords is already up-to-date!\n"
     ]
    }
   ],
   "source": [
    "nltk.download('stopwords')\n",
    "stopwords = set(nltk_stopwords.words('english'))#.add({'I'})"
   ]
  },
  {
   "cell_type": "markdown",
   "metadata": {},
   "source": [
    "Выполним лемматизацию текста"
   ]
  },
  {
   "cell_type": "code",
   "execution_count": 48,
   "metadata": {
    "scrolled": true
   },
   "outputs": [],
   "source": [
    "wordnet = WordNetLemmatizer()"
   ]
  },
  {
   "cell_type": "code",
   "execution_count": 51,
   "metadata": {},
   "outputs": [],
   "source": [
    "def lemmatization(text):\n",
    "    lemmas = []\n",
    "    clear_text = re.sub(r'[^a-zA-Z]',' ',text.lower())\n",
    "    tagged = pos_tag(word_tokenize(clear_text))\n",
    "    for token, tag in tagged:\n",
    "        pos = tag[0].lower()\n",
    "        if pos not in ['a','n','v','r']:\n",
    "            pos = 'n'\n",
    "        lemma = wordnet.lemmatize(token,pos)\n",
    "        if lemma not in stopwords:\n",
    "            lemmas.append(lemma)\n",
    "    return ' '.join(lemmas)"
   ]
  },
  {
   "cell_type": "markdown",
   "metadata": {},
   "source": [
    "Выполним пробную лемматизацию:"
   ]
  },
  {
   "cell_type": "code",
   "execution_count": 52,
   "metadata": {},
   "outputs": [],
   "source": [
    "sentence1 = \"The striped bats are hanging on their feet for best!!\"\n",
    "sentence2 = \"you should be ashamed of yourself went worked\"\n",
    "df_my = pd.DataFrame([sentence1, sentence2], columns = ['text'])"
   ]
  },
  {
   "cell_type": "code",
   "execution_count": 53,
   "metadata": {
    "scrolled": true
   },
   "outputs": [
    {
     "data": {
      "text/html": [
       "<div>\n",
       "<style scoped>\n",
       "    .dataframe tbody tr th:only-of-type {\n",
       "        vertical-align: middle;\n",
       "    }\n",
       "\n",
       "    .dataframe tbody tr th {\n",
       "        vertical-align: top;\n",
       "    }\n",
       "\n",
       "    .dataframe thead th {\n",
       "        text-align: right;\n",
       "    }\n",
       "</style>\n",
       "<table border=\"1\" class=\"dataframe\">\n",
       "  <thead>\n",
       "    <tr style=\"text-align: right;\">\n",
       "      <th></th>\n",
       "      <th>text</th>\n",
       "    </tr>\n",
       "  </thead>\n",
       "  <tbody>\n",
       "    <tr>\n",
       "      <th>0</th>\n",
       "      <td>dawa strip bat hang foot best</td>\n",
       "    </tr>\n",
       "    <tr>\n",
       "      <th>1</th>\n",
       "      <td>ashamed go work</td>\n",
       "    </tr>\n",
       "  </tbody>\n",
       "</table>\n",
       "</div>"
      ],
      "text/plain": [
       "                            text\n",
       "0  dawa strip bat hang foot best\n",
       "1                ashamed go work"
      ]
     },
     "execution_count": 53,
     "metadata": {},
     "output_type": "execute_result"
    }
   ],
   "source": [
    "df_my['text'] = df_my['text'].map(lemmatization)\n",
    "df_my"
   ]
  },
  {
   "cell_type": "markdown",
   "metadata": {},
   "source": [
    "Лемматизация выполнена успешно. Можно проводить лемматизацию на основном датасете."
   ]
  },
  {
   "cell_type": "code",
   "execution_count": 18,
   "metadata": {},
   "outputs": [
    {
     "name": "stdout",
     "output_type": "stream",
     "text": [
      "CPU times: user 9min 58s, sys: 3.91 s, total: 10min 2s\n",
      "Wall time: 10min 7s\n"
     ]
    }
   ],
   "source": [
    "%%time\n",
    "data['text_lemm'] = data['text'].map(lemmatization)"
   ]
  },
  {
   "cell_type": "code",
   "execution_count": 19,
   "metadata": {},
   "outputs": [
    {
     "data": {
      "text/plain": [
       "0    explanationwhy edits make username hardcore me...\n",
       "1    daww match background colour im seemingly stic...\n",
       "2    hey man im really try edit war guy constantly ...\n",
       "3    morei cant make real suggestion improvement wo...\n",
       "4                  sir hero chance remember page thats\n",
       "Name: text_lemm, dtype: object"
      ]
     },
     "execution_count": 19,
     "metadata": {},
     "output_type": "execute_result"
    }
   ],
   "source": [
    "data['text_lemm'].head(5)"
   ]
  },
  {
   "cell_type": "markdown",
   "metadata": {},
   "source": [
    "#### Анализ текста"
   ]
  },
  {
   "cell_type": "markdown",
   "metadata": {},
   "source": [
    "##### Количество слов в комментариях"
   ]
  },
  {
   "cell_type": "code",
   "execution_count": 20,
   "metadata": {},
   "outputs": [],
   "source": [
    "def num_words(text):\n",
    "    return len(text.split())"
   ]
  },
  {
   "cell_type": "markdown",
   "metadata": {},
   "source": [
    "Найдем число слов в каждом комментарии"
   ]
  },
  {
   "cell_type": "code",
   "execution_count": 21,
   "metadata": {},
   "outputs": [],
   "source": [
    "data['num_words'] = data['text_lemm'].map(num_words)"
   ]
  },
  {
   "cell_type": "markdown",
   "metadata": {},
   "source": [
    "Проверим наличие пустых комментариев после проведения лемматизации."
   ]
  },
  {
   "cell_type": "code",
   "execution_count": 22,
   "metadata": {},
   "outputs": [
    {
     "data": {
      "text/html": [
       "<div>\n",
       "<style scoped>\n",
       "    .dataframe tbody tr th:only-of-type {\n",
       "        vertical-align: middle;\n",
       "    }\n",
       "\n",
       "    .dataframe tbody tr th {\n",
       "        vertical-align: top;\n",
       "    }\n",
       "\n",
       "    .dataframe thead th {\n",
       "        text-align: right;\n",
       "    }\n",
       "</style>\n",
       "<table border=\"1\" class=\"dataframe\">\n",
       "  <thead>\n",
       "    <tr style=\"text-align: right;\">\n",
       "      <th></th>\n",
       "      <th>text</th>\n",
       "      <th>toxic</th>\n",
       "      <th>text_lemm</th>\n",
       "      <th>num_words</th>\n",
       "    </tr>\n",
       "  </thead>\n",
       "  <tbody>\n",
       "    <tr>\n",
       "      <th>2400</th>\n",
       "      <td>Here, here and here.</td>\n",
       "      <td>0</td>\n",
       "      <td></td>\n",
       "      <td>0</td>\n",
       "    </tr>\n",
       "    <tr>\n",
       "      <th>4475</th>\n",
       "      <td>1993\\n\\n1994\\n\\n1995\\n\\n1996\\n\\n1997\\n\\n1998\\n...</td>\n",
       "      <td>0</td>\n",
       "      <td></td>\n",
       "      <td>0</td>\n",
       "    </tr>\n",
       "    <tr>\n",
       "      <th>6289</th>\n",
       "      <td>193.61.111.53  15:00</td>\n",
       "      <td>0</td>\n",
       "      <td></td>\n",
       "      <td>0</td>\n",
       "    </tr>\n",
       "    <tr>\n",
       "      <th>8824</th>\n",
       "      <td>What is I 78.146.102.144</td>\n",
       "      <td>0</td>\n",
       "      <td></td>\n",
       "      <td>0</td>\n",
       "    </tr>\n",
       "    <tr>\n",
       "      <th>9373</th>\n",
       "      <td>They do too.  their ... -</td>\n",
       "      <td>0</td>\n",
       "      <td></td>\n",
       "      <td>0</td>\n",
       "    </tr>\n",
       "    <tr>\n",
       "      <th>10193</th>\n",
       "      <td>64.86.141.133\"</td>\n",
       "      <td>0</td>\n",
       "      <td></td>\n",
       "      <td>0</td>\n",
       "    </tr>\n",
       "    <tr>\n",
       "      <th>11979</th>\n",
       "      <td>(What I have done) (What have I done?)</td>\n",
       "      <td>0</td>\n",
       "      <td></td>\n",
       "      <td>0</td>\n",
       "    </tr>\n",
       "    <tr>\n",
       "      <th>17280</th>\n",
       "      <td>~ \\n\\n68.193.147.157</td>\n",
       "      <td>0</td>\n",
       "      <td></td>\n",
       "      <td>0</td>\n",
       "    </tr>\n",
       "    <tr>\n",
       "      <th>23051</th>\n",
       "      <td>Where was it before?</td>\n",
       "      <td>0</td>\n",
       "      <td></td>\n",
       "      <td>0</td>\n",
       "    </tr>\n",
       "    <tr>\n",
       "      <th>23485</th>\n",
       "      <td>between 1991 and 1999</td>\n",
       "      <td>0</td>\n",
       "      <td></td>\n",
       "      <td>0</td>\n",
       "    </tr>\n",
       "  </tbody>\n",
       "</table>\n",
       "</div>"
      ],
      "text/plain": [
       "                                                    text  toxic text_lemm  \\\n",
       "2400                                Here, here and here.      0             \n",
       "4475   1993\\n\\n1994\\n\\n1995\\n\\n1996\\n\\n1997\\n\\n1998\\n...      0             \n",
       "6289                                193.61.111.53  15:00      0             \n",
       "8824                            What is I 78.146.102.144      0             \n",
       "9373                           They do too.  their ... -      0             \n",
       "10193                                     64.86.141.133\"      0             \n",
       "11979             (What I have done) (What have I done?)      0             \n",
       "17280                               ~ \\n\\n68.193.147.157      0             \n",
       "23051                               Where was it before?      0             \n",
       "23485                              between 1991 and 1999      0             \n",
       "\n",
       "       num_words  \n",
       "2400           0  \n",
       "4475           0  \n",
       "6289           0  \n",
       "8824           0  \n",
       "9373           0  \n",
       "10193          0  \n",
       "11979          0  \n",
       "17280          0  \n",
       "23051          0  \n",
       "23485          0  "
      ]
     },
     "execution_count": 22,
     "metadata": {},
     "output_type": "execute_result"
    }
   ],
   "source": [
    "data[data['num_words'] == 0].head(10)"
   ]
  },
  {
   "cell_type": "code",
   "execution_count": 23,
   "metadata": {},
   "outputs": [
    {
     "data": {
      "text/plain": [
       "52"
      ]
     },
     "execution_count": 23,
     "metadata": {},
     "output_type": "execute_result"
    }
   ],
   "source": [
    "len(data[data['num_words'] == 0])"
   ]
  },
  {
   "cell_type": "markdown",
   "metadata": {},
   "source": [
    "После выполнения очистки от стоп-слов и лемматизации некоторые комментарии остались пустыми. Полный текст комментария также не позволяет назвать его особенно содержательным: не приводятся источники, в основном содержат оценочные суждения.\n",
    "От них можно избавиться, так как менее они не внесут полезных данных обучаемым моделям."
   ]
  },
  {
   "cell_type": "code",
   "execution_count": 24,
   "metadata": {},
   "outputs": [],
   "source": [
    "data = data.query('num_words > 0')"
   ]
  },
  {
   "cell_type": "code",
   "execution_count": 25,
   "metadata": {},
   "outputs": [
    {
     "data": {
      "text/html": [
       "<div>\n",
       "<style scoped>\n",
       "    .dataframe tbody tr th:only-of-type {\n",
       "        vertical-align: middle;\n",
       "    }\n",
       "\n",
       "    .dataframe tbody tr th {\n",
       "        vertical-align: top;\n",
       "    }\n",
       "\n",
       "    .dataframe thead tr th {\n",
       "        text-align: left;\n",
       "    }\n",
       "\n",
       "    .dataframe thead tr:last-of-type th {\n",
       "        text-align: right;\n",
       "    }\n",
       "</style>\n",
       "<table border=\"1\" class=\"dataframe\">\n",
       "  <thead>\n",
       "    <tr>\n",
       "      <th></th>\n",
       "      <th>max</th>\n",
       "      <th>mean</th>\n",
       "      <th>min</th>\n",
       "    </tr>\n",
       "    <tr>\n",
       "      <th></th>\n",
       "      <th>num_words</th>\n",
       "      <th>num_words</th>\n",
       "      <th>num_words</th>\n",
       "    </tr>\n",
       "    <tr>\n",
       "      <th>toxic</th>\n",
       "      <th></th>\n",
       "      <th></th>\n",
       "      <th></th>\n",
       "    </tr>\n",
       "  </thead>\n",
       "  <tbody>\n",
       "    <tr>\n",
       "      <th>0</th>\n",
       "      <td>1250</td>\n",
       "      <td>34.520898</td>\n",
       "      <td>1</td>\n",
       "    </tr>\n",
       "    <tr>\n",
       "      <th>1</th>\n",
       "      <td>1250</td>\n",
       "      <td>27.985048</td>\n",
       "      <td>1</td>\n",
       "    </tr>\n",
       "  </tbody>\n",
       "</table>\n",
       "</div>"
      ],
      "text/plain": [
       "            max       mean       min\n",
       "      num_words  num_words num_words\n",
       "toxic                               \n",
       "0          1250  34.520898         1\n",
       "1          1250  27.985048         1"
      ]
     },
     "execution_count": 25,
     "metadata": {},
     "output_type": "execute_result"
    }
   ],
   "source": [
    "data.pivot_table(\n",
    "    index = 'toxic',\n",
    "    values = 'num_words',\n",
    "    aggfunc = ['max','mean','min'])"
   ]
  },
  {
   "cell_type": "markdown",
   "metadata": {},
   "source": [
    "Анализ показывает, что в среднем нетоксичные комментарии длиннее, однако это не панацея: так максимальное количество слов зафиксировано в токсичном комментарии. "
   ]
  },
  {
   "cell_type": "markdown",
   "metadata": {},
   "source": [
    "##### Самые популярные слова"
   ]
  },
  {
   "cell_type": "code",
   "execution_count": 26,
   "metadata": {},
   "outputs": [],
   "source": [
    "def counter(text):\n",
    "    return Counter(text.split())"
   ]
  },
  {
   "cell_type": "code",
   "execution_count": 27,
   "metadata": {},
   "outputs": [
    {
     "data": {
      "text/plain": [
       "[('fuck', 10717),\n",
       " ('suck', 4280),\n",
       " ('go', 4193),\n",
       " ('like', 3891),\n",
       " ('dont', 3817),\n",
       " ('shit', 3394),\n",
       " ('nigger', 3386),\n",
       " ('wikipedia', 3365),\n",
       " ('get', 3306),\n",
       " ('u', 3030)]"
      ]
     },
     "execution_count": 27,
     "metadata": {},
     "output_type": "execute_result"
    }
   ],
   "source": [
    "data.query('toxic == 1')['text_lemm'].map(counter).sum().most_common(10)"
   ]
  },
  {
   "cell_type": "raw",
   "metadata": {},
   "source": [
    "data.query('toxic == 0')['text_lemm'].map(counter).sum().most_common(10)"
   ]
  },
  {
   "cell_type": "markdown",
   "metadata": {},
   "source": [
    "**Вывод:** выполнена загрузка и подготовка данных для дальнейшего обучения моделей: данные чистые, большинство комментариев не являются токсичными, в выгруженных данных обнаружен столбец с номером строки, не несущий полезной информации. Выполнена лемматизация и очистка текста для лучшего обучения, добавлен признак - количество лемматизированных слов в комментарии."
   ]
  },
  {
   "cell_type": "markdown",
   "metadata": {},
   "source": [
    "## Обучение"
   ]
  },
  {
   "cell_type": "markdown",
   "metadata": {},
   "source": [
    "Разделим на тренировочную, валидационную и тестовую выборки"
   ]
  },
  {
   "cell_type": "code",
   "execution_count": 28,
   "metadata": {},
   "outputs": [],
   "source": [
    "X_train,X_test,y_train,y_test = train_test_split(\n",
    "    data.drop(['text','toxic'], axis = 1),\n",
    "    data['toxic'],\n",
    "    test_size = TEST_SIZE,\n",
    "    random_state = RANDOM_STATE,\n",
    "    stratify = data['toxic'])"
   ]
  },
  {
   "cell_type": "markdown",
   "metadata": {},
   "source": [
    "### Дерево классификации"
   ]
  },
  {
   "cell_type": "code",
   "execution_count": 29,
   "metadata": {},
   "outputs": [],
   "source": [
    "def tree_objective(trial):\n",
    "    \n",
    "    ngram_range = trial.suggest_categorical('ngram_range', [(1,1),(2,2),(3,3)])\n",
    "    \n",
    "    preprocessor = ColumnTransformer(\n",
    "    [\n",
    "    ('tf', TfidfVectorizer(stop_words = stopwords, ngram_range = ngram_range), 'text_lemm')\n",
    "    ], remainder = 'passthrough')\n",
    "    \n",
    "    max_depth = trial.suggest_int('max_depth', 20, 35)\n",
    "    min_samples_split = trial.suggest_int('min_samples_split', 10, 25)\n",
    "    min_samples_leaf = trial.suggest_int('min_samples_leaf', 3, 10)\n",
    "    \n",
    "    model =  model = Pipeline(steps=[\n",
    "        ('preprocessor', preprocessor),\n",
    "        ('classifier', DecisionTreeClassifier(max_depth=max_depth,\n",
    "                                              min_samples_split=min_samples_split,\n",
    "                                              min_samples_leaf=min_samples_leaf,\n",
    "                                              random_state=RANDOM_STATE))\n",
    "    ])\n",
    "    \n",
    "        \n",
    "    return cross_val_score(model, X_train, y_train, scoring = 'f1', cv = 3, n_jobs = -1).mean()"
   ]
  },
  {
   "cell_type": "code",
   "execution_count": 30,
   "metadata": {
    "collapsed": true,
    "jupyter": {
     "outputs_hidden": true
    }
   },
   "outputs": [
    {
     "name": "stderr",
     "output_type": "stream",
     "text": [
      "[I 2025-06-25 18:55:02,958] A new study created in memory with name: no-name-d0bc138d-4091-4d77-9ddc-36796ec1dc58\n",
      "[I 2025-06-25 18:57:57,501] Trial 0 finished with value: 0.21366438769135096 and parameters: {'ngram_range': (2, 2), 'max_depth': 29, 'min_samples_split': 12, 'min_samples_leaf': 4}. Best is trial 0 with value: 0.21366438769135096.\n",
      "[I 2025-06-25 19:00:56,313] Trial 1 finished with value: 0.21065223469853997 and parameters: {'ngram_range': (2, 2), 'max_depth': 31, 'min_samples_split': 10, 'min_samples_leaf': 10}. Best is trial 0 with value: 0.21366438769135096.\n",
      "[I 2025-06-25 19:01:39,672] Trial 2 finished with value: 0.6449470388502485 and parameters: {'ngram_range': (1, 1), 'max_depth': 22, 'min_samples_split': 14, 'min_samples_leaf': 7}. Best is trial 2 with value: 0.6449470388502485.\n",
      "[I 2025-06-25 19:04:45,257] Trial 3 finished with value: 0.030181249263562762 and parameters: {'ngram_range': (3, 3), 'max_depth': 22, 'min_samples_split': 14, 'min_samples_leaf': 5}. Best is trial 2 with value: 0.6449470388502485.\n",
      "[I 2025-06-25 19:07:30,600] Trial 4 finished with value: 0.20788008986212578 and parameters: {'ngram_range': (2, 2), 'max_depth': 28, 'min_samples_split': 19, 'min_samples_leaf': 3}. Best is trial 2 with value: 0.6449470388502485.\n",
      "[I 2025-06-25 19:08:26,836] Trial 5 finished with value: 0.6721227179601302 and parameters: {'ngram_range': (1, 1), 'max_depth': 35, 'min_samples_split': 25, 'min_samples_leaf': 9}. Best is trial 5 with value: 0.6721227179601302.\n",
      "[I 2025-06-25 19:12:07,893] Trial 6 finished with value: 0.027566527087367117 and parameters: {'ngram_range': (3, 3), 'max_depth': 27, 'min_samples_split': 11, 'min_samples_leaf': 6}. Best is trial 5 with value: 0.6721227179601302.\n",
      "[I 2025-06-25 19:15:03,567] Trial 7 finished with value: 0.21674458752703182 and parameters: {'ngram_range': (2, 2), 'max_depth': 30, 'min_samples_split': 14, 'min_samples_leaf': 7}. Best is trial 5 with value: 0.6721227179601302.\n",
      "[I 2025-06-25 19:19:03,752] Trial 8 finished with value: 0.019606172668859584 and parameters: {'ngram_range': (3, 3), 'max_depth': 32, 'min_samples_split': 25, 'min_samples_leaf': 10}. Best is trial 5 with value: 0.6721227179601302.\n",
      "[I 2025-06-25 19:21:37,719] Trial 9 finished with value: 0.19020027378291934 and parameters: {'ngram_range': (2, 2), 'max_depth': 23, 'min_samples_split': 10, 'min_samples_leaf': 5}. Best is trial 5 with value: 0.6721227179601302.\n",
      "[I 2025-06-25 19:22:33,584] Trial 10 finished with value: 0.6733493002600143 and parameters: {'ngram_range': (1, 1), 'max_depth': 34, 'min_samples_split': 25, 'min_samples_leaf': 9}. Best is trial 10 with value: 0.6733493002600143.\n",
      "[I 2025-06-25 19:23:29,103] Trial 11 finished with value: 0.6733493002600143 and parameters: {'ngram_range': (1, 1), 'max_depth': 34, 'min_samples_split': 25, 'min_samples_leaf': 9}. Best is trial 10 with value: 0.6733493002600143.\n",
      "[I 2025-06-25 19:24:26,316] Trial 12 finished with value: 0.6718092293455054 and parameters: {'ngram_range': (1, 1), 'max_depth': 35, 'min_samples_split': 22, 'min_samples_leaf': 8}. Best is trial 10 with value: 0.6733493002600143.\n",
      "[I 2025-06-25 19:25:21,415] Trial 13 finished with value: 0.6718286064564545 and parameters: {'ngram_range': (1, 1), 'max_depth': 33, 'min_samples_split': 22, 'min_samples_leaf': 9}. Best is trial 10 with value: 0.6733493002600143.\n",
      "[I 2025-06-25 19:26:07,794] Trial 14 finished with value: 0.655060821786453 and parameters: {'ngram_range': (1, 1), 'max_depth': 26, 'min_samples_split': 21, 'min_samples_leaf': 8}. Best is trial 10 with value: 0.6733493002600143.\n"
     ]
    }
   ],
   "source": [
    "tree_study = optuna.create_study(direction='maximize',\n",
    "                            sampler=optuna.samplers.TPESampler(seed=RANDOM_STATE))  \n",
    "tree_study.optimize(tree_objective, n_trials=15)"
   ]
  },
  {
   "cell_type": "markdown",
   "metadata": {},
   "source": [
    "Достигнутое значение метрики f1 на модели дерева классификации равно:"
   ]
  },
  {
   "cell_type": "code",
   "execution_count": 31,
   "metadata": {},
   "outputs": [
    {
     "data": {
      "text/plain": [
       "'Достигнутое значение кросс-валидационной метрики f1 на модели дерева классификации равно:0.673'"
      ]
     },
     "execution_count": 31,
     "metadata": {},
     "output_type": "execute_result"
    }
   ],
   "source": [
    "tree_f1 = round(tree_study.best_value, 3)\n",
    "f'Достигнутое значение кросс-валидационной метрики f1 на модели дерева классификации равно:{tree_f1:.3f}'"
   ]
  },
  {
   "cell_type": "markdown",
   "metadata": {},
   "source": [
    "При этом параметры модели следующие:"
   ]
  },
  {
   "cell_type": "code",
   "execution_count": 32,
   "metadata": {},
   "outputs": [
    {
     "data": {
      "text/plain": [
       "{'ngram_range': (1, 1),\n",
       " 'max_depth': 34,\n",
       " 'min_samples_split': 25,\n",
       " 'min_samples_leaf': 9}"
      ]
     },
     "execution_count": 32,
     "metadata": {},
     "output_type": "execute_result"
    }
   ],
   "source": [
    "best_params_tree = tree_study.best_params\n",
    "best_params_tree"
   ]
  },
  {
   "cell_type": "markdown",
   "metadata": {},
   "source": [
    "### Логистическая регрессия"
   ]
  },
  {
   "cell_type": "code",
   "execution_count": 33,
   "metadata": {
    "scrolled": true
   },
   "outputs": [],
   "source": [
    "def log_objective(trial):\n",
    "      \n",
    "    \n",
    "    preprocessor = ColumnTransformer(\n",
    "    [\n",
    "    ('tf', TfidfVectorizer(stop_words = stopwords), 'text_lemm')\n",
    "    ], remainder = 'passthrough')\n",
    "    \n",
    "    C = trial.suggest_float('C', 3, 10)\n",
    "    \n",
    "    model = Pipeline(steps=[\n",
    "        ('preprocessor', preprocessor),\n",
    "        ('classifier', LogisticRegression(C=C, random_state=RANDOM_STATE))\n",
    "    ])\n",
    "    \n",
    "\n",
    "    return cross_val_score(model, X_train, y_train, scoring = 'f1', cv = 3, n_jobs = -1).mean()"
   ]
  },
  {
   "cell_type": "code",
   "execution_count": 34,
   "metadata": {},
   "outputs": [
    {
     "name": "stderr",
     "output_type": "stream",
     "text": [
      "[I 2025-06-25 19:26:07,856] A new study created in memory with name: no-name-995ade6d-9963-4510-b976-642c3ae282d2\n",
      "[I 2025-06-25 19:28:53,025] Trial 0 finished with value: 0.758312189289307 and parameters: {'C': 5.621780831931537}. Best is trial 0 with value: 0.758312189289307.\n",
      "[I 2025-06-25 19:31:30,397] Trial 1 finished with value: 0.7559488730679468 and parameters: {'C': 9.655000144869414}. Best is trial 0 with value: 0.758312189289307.\n",
      "[I 2025-06-25 19:34:03,161] Trial 2 finished with value: 0.7599513374944143 and parameters: {'C': 8.123957592679837}. Best is trial 2 with value: 0.7599513374944143.\n",
      "[I 2025-06-25 19:36:42,085] Trial 3 finished with value: 0.7502897166118981 and parameters: {'C': 7.190609389379256}. Best is trial 2 with value: 0.7599513374944143.\n",
      "[I 2025-06-25 19:39:26,952] Trial 4 finished with value: 0.7543245864398492 and parameters: {'C': 4.092130483097056}. Best is trial 2 with value: 0.7599513374944143.\n",
      "[I 2025-06-25 19:41:48,661] Trial 5 finished with value: 0.7504727597822646 and parameters: {'C': 4.091961642353418}. Best is trial 2 with value: 0.7599513374944143.\n",
      "[I 2025-06-25 19:44:04,515] Trial 6 finished with value: 0.7395617577609662 and parameters: {'C': 3.406585285177396}. Best is trial 2 with value: 0.7599513374944143.\n",
      "[I 2025-06-25 19:46:35,353] Trial 7 finished with value: 0.7624430859931927 and parameters: {'C': 9.063233020424546}. Best is trial 7 with value: 0.7624430859931927.\n",
      "[I 2025-06-25 19:49:02,726] Trial 8 finished with value: 0.7623362921441684 and parameters: {'C': 7.207805082202461}. Best is trial 7 with value: 0.7624430859931927.\n",
      "[I 2025-06-25 19:51:34,138] Trial 9 finished with value: 0.7601986886427349 and parameters: {'C': 7.956508044572319}. Best is trial 7 with value: 0.7624430859931927.\n"
     ]
    }
   ],
   "source": [
    "log_study = optuna.create_study(direction='maximize',\n",
    "                            sampler=optuna.samplers.TPESampler(seed=RANDOM_STATE))  \n",
    "log_study.optimize(log_objective, n_trials=10)"
   ]
  },
  {
   "cell_type": "code",
   "execution_count": 35,
   "metadata": {},
   "outputs": [
    {
     "data": {
      "text/plain": [
       "'Достигнутое значение кросс-валидационной метрики f1 на модели логистической регрессии равно:0.762'"
      ]
     },
     "execution_count": 35,
     "metadata": {},
     "output_type": "execute_result"
    }
   ],
   "source": [
    "log_f1 = round(log_study.best_value, 3)\n",
    "f'Достигнутое значение кросс-валидационной метрики f1 на модели логистической регрессии равно:{log_f1:.3f}'"
   ]
  },
  {
   "cell_type": "markdown",
   "metadata": {},
   "source": [
    "При этом параметры модели следующие:"
   ]
  },
  {
   "cell_type": "code",
   "execution_count": 36,
   "metadata": {},
   "outputs": [
    {
     "data": {
      "text/plain": [
       "{'C': 9.063233020424546}"
      ]
     },
     "execution_count": 36,
     "metadata": {},
     "output_type": "execute_result"
    }
   ],
   "source": [
    "best_params_log = log_study.best_params\n",
    "best_params_log"
   ]
  },
  {
   "cell_type": "markdown",
   "metadata": {},
   "source": [
    "### Пассивно-агрессивная классификация"
   ]
  },
  {
   "cell_type": "code",
   "execution_count": 37,
   "metadata": {
    "scrolled": true
   },
   "outputs": [],
   "source": [
    "def pac_objective(trial):\n",
    "        \n",
    "    ngram_range = trial.suggest_categorical('ngram_range', [(1,1),(2,2),(3,3)])\n",
    "    \n",
    "    preprocessor = ColumnTransformer(\n",
    "    [\n",
    "    ('tf', TfidfVectorizer(stop_words = stopwords, ngram_range = ngram_range), 'text_lemm')\n",
    "    ], remainder = 'passthrough')\n",
    "    \n",
    "    C = trial.suggest_float('C', 0, 5)\n",
    "    \n",
    "    model = Pipeline(steps=[\n",
    "        ('preprocessor', preprocessor),\n",
    "        ('classifier', PassiveAggressiveClassifier(C=C,\n",
    "                                                   max_iter=50,\n",
    "                                                   random_state=RANDOM_STATE))\n",
    "    ])\n",
    "    \n",
    "\n",
    "    return cross_val_score(model, X_train, y_train, scoring = 'f1', cv = 3, n_jobs = -1).mean()"
   ]
  },
  {
   "cell_type": "code",
   "execution_count": 38,
   "metadata": {},
   "outputs": [
    {
     "name": "stderr",
     "output_type": "stream",
     "text": [
      "[I 2025-06-25 19:51:34,197] A new study created in memory with name: no-name-fafa352d-af97-4e36-8ddd-237e401be4ab\n",
      "[I 2025-06-25 19:52:22,971] Trial 0 finished with value: 0.2958237368645487 and parameters: {'ngram_range': (2, 2), 'C': 2.993292420985183}. Best is trial 0 with value: 0.2958237368645487.\n",
      "[I 2025-06-25 19:52:40,483] Trial 1 finished with value: 0.6545812426434966 and parameters: {'ngram_range': (1, 1), 'C': 4.330880728874676}. Best is trial 1 with value: 0.6545812426434966.\n",
      "[I 2025-06-25 19:53:30,280] Trial 2 finished with value: 0.2958237368645487 and parameters: {'ngram_range': (2, 2), 'C': 4.8495492608099715}. Best is trial 1 with value: 0.6545812426434966.\n",
      "[I 2025-06-25 19:53:47,353] Trial 3 finished with value: 0.6546527903284405 and parameters: {'ngram_range': (1, 1), 'C': 0.9170225492671691}. Best is trial 3 with value: 0.6546527903284405.\n",
      "[I 2025-06-25 19:54:36,906] Trial 4 finished with value: 0.2951075589383842 and parameters: {'ngram_range': (2, 2), 'C': 1.4561457009902097}. Best is trial 3 with value: 0.6546527903284405.\n",
      "[I 2025-06-25 19:54:53,809] Trial 5 finished with value: 0.6545812426434966 and parameters: {'ngram_range': (1, 1), 'C': 1.8318092164684585}. Best is trial 3 with value: 0.6546527903284405.\n",
      "[I 2025-06-25 19:55:42,051] Trial 6 finished with value: 0.2958237368645487 and parameters: {'ngram_range': (2, 2), 'C': 2.571172192068058}. Best is trial 3 with value: 0.6546527903284405.\n",
      "[I 2025-06-25 19:56:41,214] Trial 7 finished with value: 0.03421191660735643 and parameters: {'ngram_range': (3, 3), 'C': 0.8526206184364576}. Best is trial 3 with value: 0.6546527903284405.\n",
      "[I 2025-06-25 19:57:40,979] Trial 8 finished with value: 0.03291118328259473 and parameters: {'ngram_range': (3, 3), 'C': 4.041986740582305}. Best is trial 3 with value: 0.6546527903284405.\n",
      "[I 2025-06-25 19:58:42,284] Trial 9 finished with value: 0.03291118328259473 and parameters: {'ngram_range': (3, 3), 'C': 2.2007624686980067}. Best is trial 3 with value: 0.6546527903284405.\n",
      "[I 2025-06-25 19:58:58,983] Trial 10 finished with value: 0.6900114658988601 and parameters: {'ngram_range': (1, 1), 'C': 0.029985914779086187}. Best is trial 10 with value: 0.6900114658988601.\n",
      "[I 2025-06-25 19:59:16,093] Trial 11 finished with value: 0.7003663813499847 and parameters: {'ngram_range': (1, 1), 'C': 0.026485604069959676}. Best is trial 11 with value: 0.7003663813499847.\n",
      "[I 2025-06-25 19:59:32,986] Trial 12 finished with value: 0.6559106688753437 and parameters: {'ngram_range': (1, 1), 'C': 0.19362599980591444}. Best is trial 11 with value: 0.7003663813499847.\n",
      "[I 2025-06-25 19:59:50,004] Trial 13 finished with value: 0.6627582862051047 and parameters: {'ngram_range': (1, 1), 'C': 0.054463306024510494}. Best is trial 11 with value: 0.7003663813499847.\n",
      "[I 2025-06-25 20:00:06,841] Trial 14 finished with value: 0.6545916523731313 and parameters: {'ngram_range': (1, 1), 'C': 0.8993392648738556}. Best is trial 11 with value: 0.7003663813499847.\n"
     ]
    }
   ],
   "source": [
    "pac_study = optuna.create_study(direction='maximize',\n",
    "                            sampler=optuna.samplers.TPESampler(seed=RANDOM_STATE))  \n",
    "pac_study.optimize(pac_objective, n_trials=15)"
   ]
  },
  {
   "cell_type": "code",
   "execution_count": 39,
   "metadata": {},
   "outputs": [
    {
     "data": {
      "text/plain": [
       "'Достигнутое значение кросс-валидационной метрики f1 на модели пассивно-агрессивной классификации равно:0.700'"
      ]
     },
     "execution_count": 39,
     "metadata": {},
     "output_type": "execute_result"
    }
   ],
   "source": [
    "pac_f1 = round(pac_study.best_value, 3)\n",
    "f'Достигнутое значение кросс-валидационной метрики f1 на модели пассивно-агрессивной классификации равно:{pac_f1:.3f}'"
   ]
  },
  {
   "cell_type": "markdown",
   "metadata": {},
   "source": [
    "При этом параметры модели следующие:"
   ]
  },
  {
   "cell_type": "code",
   "execution_count": 40,
   "metadata": {
    "scrolled": true
   },
   "outputs": [
    {
     "data": {
      "text/plain": [
       "{'ngram_range': (1, 1), 'C': 0.026485604069959676}"
      ]
     },
     "execution_count": 40,
     "metadata": {},
     "output_type": "execute_result"
    }
   ],
   "source": [
    "best_params_pac = pac_study.best_params\n",
    "best_params_pac"
   ]
  },
  {
   "cell_type": "markdown",
   "metadata": {},
   "source": [
    "### Анализ"
   ]
  },
  {
   "cell_type": "code",
   "execution_count": 41,
   "metadata": {},
   "outputs": [
    {
     "data": {
      "text/html": [
       "<div>\n",
       "<style scoped>\n",
       "    .dataframe tbody tr th:only-of-type {\n",
       "        vertical-align: middle;\n",
       "    }\n",
       "\n",
       "    .dataframe tbody tr th {\n",
       "        vertical-align: top;\n",
       "    }\n",
       "\n",
       "    .dataframe thead th {\n",
       "        text-align: right;\n",
       "    }\n",
       "</style>\n",
       "<table border=\"1\" class=\"dataframe\">\n",
       "  <thead>\n",
       "    <tr style=\"text-align: right;\">\n",
       "      <th></th>\n",
       "      <th>tree</th>\n",
       "      <th>log</th>\n",
       "      <th>pac</th>\n",
       "    </tr>\n",
       "  </thead>\n",
       "  <tbody>\n",
       "    <tr>\n",
       "      <th>f1_cross_val</th>\n",
       "      <td>0.673</td>\n",
       "      <td>0.762</td>\n",
       "      <td>0.7</td>\n",
       "    </tr>\n",
       "  </tbody>\n",
       "</table>\n",
       "</div>"
      ],
      "text/plain": [
       "               tree    log  pac\n",
       "f1_cross_val  0.673  0.762  0.7"
      ]
     },
     "execution_count": 41,
     "metadata": {},
     "output_type": "execute_result"
    }
   ],
   "source": [
    "results = pd.DataFrame(data = {'tree': [tree_f1],\n",
    "                               'log':[log_f1],\n",
    "                               'pac':[pac_f1]},\n",
    "                       index = ['f1_cross_val'])\n",
    "\n",
    "results"
   ]
  },
  {
   "cell_type": "markdown",
   "metadata": {},
   "source": [
    "**Вывод:** наибольшее значение метрики f1 на валидационной выборке 0.762, что удовлетворяет условию F1 не меньше 0.75, достигнуто моделью логистической регрессии. Гиперпараметр модели: 'С': 9.06. Поскольку моделью дерева классификации, пассивно-агрессивной классификацией не достигнуто требуемое значение метрики, необходимо выбрать логистическую регрессию."
   ]
  },
  {
   "cell_type": "markdown",
   "metadata": {},
   "source": [
    "## Тестирование и Выводы"
   ]
  },
  {
   "cell_type": "code",
   "execution_count": 43,
   "metadata": {},
   "outputs": [],
   "source": [
    "preprocessor = ColumnTransformer(\n",
    "    [\n",
    "    ('tf', TfidfVectorizer(stop_words = stopwords), 'text_lemm')\n",
    "    ], remainder = 'passthrough')\n",
    "        \n",
    "model = Pipeline(steps=[\n",
    "    ('preprocessor', preprocessor),\n",
    "        ('classifier', LogisticRegression(C=best_params_log['C'],\n",
    "                               random_state=RANDOM_STATE))\n",
    "    ])"
   ]
  },
  {
   "cell_type": "code",
   "execution_count": 44,
   "metadata": {},
   "outputs": [],
   "source": [
    "model.fit(X_train,y_train)\n",
    "\n",
    "preds = model.predict(X_test)"
   ]
  },
  {
   "cell_type": "code",
   "execution_count": 45,
   "metadata": {},
   "outputs": [
    {
     "data": {
      "text/plain": [
       "'Достигнутое значение метрики f1 на тестовых данных моделью логистической регрессии равно: 0.767'"
      ]
     },
     "execution_count": 45,
     "metadata": {},
     "output_type": "execute_result"
    }
   ],
   "source": [
    "f'Достигнутое значение метрики f1 на тестовых данных моделью логистической регрессии равно: {f1_score(y_test,preds):.3f}'"
   ]
  },
  {
   "cell_type": "markdown",
   "metadata": {},
   "source": [
    "**Анализ наиболее значимых слов для отнесения комментария к токсичному**"
   ]
  },
  {
   "cell_type": "code",
   "execution_count": 46,
   "metadata": {},
   "outputs": [
    {
     "data": {
      "image/png": "[encoded data removed]",
      "text/plain": [
       "<Figure size 1080x864 with 1 Axes>"
      ]
     },
     "metadata": {
      "needs_background": "light"
     },
     "output_type": "display_data"
    }
   ],
   "source": [
    "# [:-1] - срез, неучитывающий признак \"число слов в комментарие\"\n",
    "\n",
    "f_imp = pd.Series(index = model.named_steps['preprocessor'].get_feature_names_out()[:-1],\n",
    "                  data = abs(model.named_steps['classifier'].coef_[0][:-1]))\n",
    "\n",
    "\n",
    "(f_imp\n",
    "     .sort_values(ascending = False)\n",
    "     .head(10)\n",
    "     .sort_values()\n",
    "     .plot.barh(figsize = (15,12))\n",
    ")\n",
    "\n",
    "plt.title('Анализ токсичности слов', size = 15)\n",
    "plt.xlabel('TF-IDF', size = 12)\n",
    "plt.ylabel('Элемент комментария', size = 12)\n",
    "\n",
    "plt.show()"
   ]
  },
  {
   "cell_type": "code",
   "execution_count": 47,
   "metadata": {},
   "outputs": [
    {
     "data": {
      "text/plain": [
       "tf__fuck          50.674622\n",
       "tf__shit          22.552160\n",
       "tf__idiot         21.895110\n",
       "tf__fucking       19.593338\n",
       "tf__asshole       19.200189\n",
       "                    ...    \n",
       "tf__ecosystem      0.000031\n",
       "tf__orlando        0.000015\n",
       "tf__pt             0.000014\n",
       "tf__peacefully     0.000002\n",
       "tf__oligarchy      0.000001\n",
       "Length: 211922, dtype: float64"
      ]
     },
     "execution_count": 47,
     "metadata": {},
     "output_type": "execute_result"
    }
   ],
   "source": [
    "f_imp.sort_values(ascending = False)"
   ]
  },
  {
   "cell_type": "markdown",
   "metadata": {},
   "source": [
    "Анализ показал, что модель работает логично, отсортировывая наиболее негативнонастроенные комментарии."
   ]
  },
  {
   "cell_type": "markdown",
   "metadata": {},
   "source": [
    "Был проведен анализ комментариев и правок интернет-магазина «Викишоп» и создание модели классификации комментариев на позитивные и негативные.\n",
    "\n",
    "**В первой части работы** была выполнена загрузка и предобработка данных при которой был выявлен столбец, не несущий полезной информации, установлено, что пропуски и дубликаты отсутствуют, большинство комментариев не являются токсичными.\n",
    "\n",
    "Дополнительно проведена очистка от символов и лемматизация комментариев.\n",
    "\n",
    "**Во второй части работы** было проведено обучение моделей, классифицирующих комментарии на позитивные и негативные. \n",
    "\n",
    "*Для дерева классификации* были найдены оптимальные гиперпараметры: 'max_depth': 30, 'min_samples_split': 10, 'min_samples_leaf': 10, - предсказан целевой признак для валидационной выборки, а также вычислена метрика f1 модели = 0.672.\n",
    "\n",
    "*Для модели логистической регрессии* аналогично найден оптимальный гиперпараметр:   'C': 9.06 - предсказан целевой признак для валидационной выборки, а также вычислена метрика f1 модели = 0.762.\n",
    "\n",
    "Только модель логистичесокй регрессии удовлетворяют условию, поставленному бизнесом: f1 > 0.75.\n",
    "\n",
    "**Анализ моделей** показал, что логистическая регрессия точнее предсказывает целевой показатель на валидационной выборке, нежели дерево классификации и пассивно-агрессивная классификация. Рекомендуется к внедрению система логистической регрессии.\n",
    "\n",
    "Для выбранной модели предсказан целевой признак и вычислена метрика f1 на тестовых данных: 0.767."
   ]
  }
 ],
 "metadata": {
  "ExecuteTimeLog": [
   {
    "duration": 28188,
    "start_time": "2025-06-17T18:19:58.909Z"
   },
   {
    "duration": 1990,
    "start_time": "2025-06-17T18:23:10.109Z"
   },
   {
    "duration": 32,
    "start_time": "2025-06-17T18:23:19.860Z"
   },
   {
    "duration": 1032,
    "start_time": "2025-06-17T18:23:23.850Z"
   },
   {
    "duration": 3,
    "start_time": "2025-06-17T18:23:29.131Z"
   },
   {
    "duration": 72,
    "start_time": "2025-06-17T18:23:29.758Z"
   },
   {
    "duration": 53,
    "start_time": "2025-06-18T18:34:06.409Z"
   },
   {
    "duration": 1751,
    "start_time": "2025-06-18T18:50:42.657Z"
   },
   {
    "duration": 3,
    "start_time": "2025-06-18T18:50:55.021Z"
   },
   {
    "duration": 978,
    "start_time": "2025-06-18T18:50:58.092Z"
   },
   {
    "duration": 14,
    "start_time": "2025-06-18T18:51:02.190Z"
   },
   {
    "duration": 14,
    "start_time": "2025-06-18T18:51:06.285Z"
   },
   {
    "duration": 81,
    "start_time": "2025-06-18T18:51:35.367Z"
   },
   {
    "duration": 1281,
    "start_time": "2025-06-18T18:51:45.300Z"
   },
   {
    "duration": 11,
    "start_time": "2025-06-18T18:51:53.901Z"
   },
   {
    "duration": 722,
    "start_time": "2025-06-18T18:52:03.840Z"
   },
   {
    "duration": 7,
    "start_time": "2025-06-18T18:55:18.906Z"
   },
   {
    "duration": 4,
    "start_time": "2025-06-18T18:55:31.297Z"
   },
   {
    "duration": 15,
    "start_time": "2025-06-18T18:55:48.925Z"
   },
   {
    "duration": 15,
    "start_time": "2025-06-18T18:55:54.030Z"
   },
   {
    "duration": 11,
    "start_time": "2025-06-18T18:56:38.063Z"
   },
   {
    "duration": 10,
    "start_time": "2025-06-18T18:56:55.983Z"
   },
   {
    "duration": 3,
    "start_time": "2025-06-18T18:58:59.478Z"
   },
   {
    "duration": 9,
    "start_time": "2025-06-18T18:59:07.261Z"
   },
   {
    "duration": 8,
    "start_time": "2025-06-18T18:59:29.650Z"
   },
   {
    "duration": 10,
    "start_time": "2025-06-18T18:59:46.581Z"
   },
   {
    "duration": 8,
    "start_time": "2025-06-18T18:59:52.214Z"
   },
   {
    "duration": 3,
    "start_time": "2025-06-18T19:16:08.970Z"
   },
   {
    "duration": 9,
    "start_time": "2025-06-18T19:16:09.978Z"
   },
   {
    "duration": 10,
    "start_time": "2025-06-18T19:16:36.317Z"
   },
   {
    "duration": 4,
    "start_time": "2025-06-18T19:16:45.903Z"
   },
   {
    "duration": 9,
    "start_time": "2025-06-18T19:16:46.448Z"
   },
   {
    "duration": 4,
    "start_time": "2025-06-18T19:16:51.051Z"
   },
   {
    "duration": 4,
    "start_time": "2025-06-18T19:16:55.767Z"
   },
   {
    "duration": 9,
    "start_time": "2025-06-18T19:17:03.032Z"
   },
   {
    "duration": 14,
    "start_time": "2025-06-18T19:17:09.592Z"
   },
   {
    "duration": 9,
    "start_time": "2025-06-18T19:18:19.443Z"
   },
   {
    "duration": 5,
    "start_time": "2025-06-18T19:18:56.002Z"
   },
   {
    "duration": 9,
    "start_time": "2025-06-18T19:18:59.828Z"
   },
   {
    "duration": 10,
    "start_time": "2025-06-18T19:19:38.958Z"
   },
   {
    "duration": 4,
    "start_time": "2025-06-18T19:19:56.949Z"
   },
   {
    "duration": 4,
    "start_time": "2025-06-18T19:20:06.493Z"
   },
   {
    "duration": 4,
    "start_time": "2025-06-18T19:20:07.527Z"
   },
   {
    "duration": 3,
    "start_time": "2025-06-18T19:22:49.980Z"
   },
   {
    "duration": 100569,
    "start_time": "2025-06-18T19:23:41.124Z"
   },
   {
    "duration": 5,
    "start_time": "2025-06-18T19:26:01.263Z"
   },
   {
    "duration": 5,
    "start_time": "2025-06-18T19:26:26.026Z"
   },
   {
    "duration": 24,
    "start_time": "2025-06-18T19:26:55.534Z"
   },
   {
    "duration": 4,
    "start_time": "2025-06-18T19:26:56.157Z"
   },
   {
    "duration": 727,
    "start_time": "2025-06-18T19:26:56.579Z"
   },
   {
    "duration": 8,
    "start_time": "2025-06-18T19:27:42.064Z"
   },
   {
    "duration": 5,
    "start_time": "2025-06-18T19:28:09.201Z"
   },
   {
    "duration": 5,
    "start_time": "2025-06-18T19:28:14.271Z"
   },
   {
    "duration": 55,
    "start_time": "2025-06-18T19:29:57.910Z"
   },
   {
    "duration": 1802,
    "start_time": "2025-06-18T19:30:03.071Z"
   },
   {
    "duration": 1131,
    "start_time": "2025-06-18T19:30:04.874Z"
   },
   {
    "duration": 15,
    "start_time": "2025-06-18T19:30:07.690Z"
   },
   {
    "duration": 4,
    "start_time": "2025-06-18T19:30:11.226Z"
   },
   {
    "duration": 54,
    "start_time": "2025-06-18T19:30:54.582Z"
   },
   {
    "duration": 1889,
    "start_time": "2025-06-18T19:31:02.568Z"
   },
   {
    "duration": 1029,
    "start_time": "2025-06-18T19:31:04.459Z"
   },
   {
    "duration": 14,
    "start_time": "2025-06-18T19:31:07.006Z"
   },
   {
    "duration": 4,
    "start_time": "2025-06-18T19:31:09.698Z"
   },
   {
    "duration": 69835,
    "start_time": "2025-06-18T19:31:10.678Z"
   },
   {
    "duration": 0,
    "start_time": "2025-06-18T19:32:20.515Z"
   },
   {
    "duration": 4,
    "start_time": "2025-06-18T19:32:24.289Z"
   },
   {
    "duration": 1013,
    "start_time": "2025-06-18T19:32:25.836Z"
   },
   {
    "duration": 3,
    "start_time": "2025-06-18T19:32:30.437Z"
   },
   {
    "duration": 12565,
    "start_time": "2025-06-18T19:34:43.051Z"
   },
   {
    "duration": 1305,
    "start_time": "2025-06-18T19:34:55.619Z"
   },
   {
    "duration": 4,
    "start_time": "2025-06-18T19:34:57.997Z"
   },
   {
    "duration": 1017,
    "start_time": "2025-06-18T19:35:00.584Z"
   },
   {
    "duration": 14,
    "start_time": "2025-06-18T19:35:04.120Z"
   },
   {
    "duration": 2208,
    "start_time": "2025-06-18T19:35:06.942Z"
   },
   {
    "duration": 4,
    "start_time": "2025-06-18T19:35:11.627Z"
   },
   {
    "duration": 105747,
    "start_time": "2025-06-18T19:35:14.092Z"
   },
   {
    "duration": 5,
    "start_time": "2025-06-18T19:37:18.783Z"
   },
   {
    "duration": 12,
    "start_time": "2025-06-18T19:37:19.804Z"
   },
   {
    "duration": 924,
    "start_time": "2025-06-18T19:37:20.724Z"
   },
   {
    "duration": 13,
    "start_time": "2025-06-18T19:37:44.175Z"
   },
   {
    "duration": 3,
    "start_time": "2025-06-18T19:38:47.356Z"
   },
   {
    "duration": 4,
    "start_time": "2025-06-18T19:38:50.531Z"
   },
   {
    "duration": 6,
    "start_time": "2025-06-18T19:39:17.052Z"
   },
   {
    "duration": 6,
    "start_time": "2025-06-18T19:39:45.929Z"
   },
   {
    "duration": 4,
    "start_time": "2025-06-18T19:40:06.921Z"
   },
   {
    "duration": 4,
    "start_time": "2025-06-18T19:41:33.654Z"
   },
   {
    "duration": 4,
    "start_time": "2025-06-18T19:41:34.897Z"
   },
   {
    "duration": 5,
    "start_time": "2025-06-18T19:41:35.190Z"
   },
   {
    "duration": 4,
    "start_time": "2025-06-18T19:41:35.805Z"
   },
   {
    "duration": 5,
    "start_time": "2025-06-18T19:41:36.726Z"
   },
   {
    "duration": 3,
    "start_time": "2025-06-18T19:42:48.612Z"
   },
   {
    "duration": 9,
    "start_time": "2025-06-18T19:42:51.480Z"
   },
   {
    "duration": 4,
    "start_time": "2025-06-18T19:42:58.456Z"
   },
   {
    "duration": 131,
    "start_time": "2025-06-18T19:43:16.979Z"
   },
   {
    "duration": 148,
    "start_time": "2025-06-18T19:43:24.247Z"
   },
   {
    "duration": 5,
    "start_time": "2025-06-18T19:54:38.554Z"
   },
   {
    "duration": 4,
    "start_time": "2025-06-18T19:54:46.746Z"
   },
   {
    "duration": 7,
    "start_time": "2025-06-18T19:55:13.882Z"
   },
   {
    "duration": 3,
    "start_time": "2025-06-18T19:55:37.434Z"
   },
   {
    "duration": 5,
    "start_time": "2025-06-18T19:55:39.379Z"
   },
   {
    "duration": 6,
    "start_time": "2025-06-18T19:55:45.012Z"
   },
   {
    "duration": 5,
    "start_time": "2025-06-18T19:55:53.818Z"
   },
   {
    "duration": 6,
    "start_time": "2025-06-18T19:56:03.751Z"
   },
   {
    "duration": 6,
    "start_time": "2025-06-18T19:56:12.660Z"
   },
   {
    "duration": 10,
    "start_time": "2025-06-18T19:56:33.037Z"
   },
   {
    "duration": 3,
    "start_time": "2025-06-18T19:57:08.878Z"
   },
   {
    "duration": 10,
    "start_time": "2025-06-18T19:57:36.833Z"
   },
   {
    "duration": 102,
    "start_time": "2025-06-18T19:57:42.875Z"
   },
   {
    "duration": 4,
    "start_time": "2025-06-18T19:57:59.669Z"
   },
   {
    "duration": 4,
    "start_time": "2025-06-18T19:58:03.662Z"
   },
   {
    "duration": 87,
    "start_time": "2025-06-18T19:58:05.300Z"
   },
   {
    "duration": 80,
    "start_time": "2025-06-18T19:58:26.907Z"
   },
   {
    "duration": 15898,
    "start_time": "2025-06-19T14:41:17.432Z"
   },
   {
    "duration": 1836,
    "start_time": "2025-06-19T14:41:33.332Z"
   },
   {
    "duration": 995,
    "start_time": "2025-06-19T14:41:35.169Z"
   },
   {
    "duration": 4,
    "start_time": "2025-06-19T14:41:36.165Z"
   },
   {
    "duration": 91,
    "start_time": "2025-06-19T14:41:36.171Z"
   },
   {
    "duration": 13,
    "start_time": "2025-06-19T14:41:36.263Z"
   },
   {
    "duration": 37,
    "start_time": "2025-06-19T14:41:36.278Z"
   },
   {
    "duration": 175,
    "start_time": "2025-06-19T14:41:53.681Z"
   },
   {
    "duration": 138,
    "start_time": "2025-06-19T14:42:38.227Z"
   },
   {
    "duration": 249,
    "start_time": "2025-06-19T14:42:49.586Z"
   },
   {
    "duration": 4,
    "start_time": "2025-06-19T14:42:58.811Z"
   },
   {
    "duration": 3,
    "start_time": "2025-06-19T14:43:27.578Z"
   },
   {
    "duration": 6,
    "start_time": "2025-06-19T14:44:05.685Z"
   },
   {
    "duration": 4,
    "start_time": "2025-06-19T14:45:56.062Z"
   },
   {
    "duration": 148,
    "start_time": "2025-06-19T14:47:09.582Z"
   },
   {
    "duration": 7,
    "start_time": "2025-06-19T15:11:32.374Z"
   },
   {
    "duration": 5,
    "start_time": "2025-06-19T15:11:39.238Z"
   },
   {
    "duration": 7345,
    "start_time": "2025-06-19T15:11:52.698Z"
   },
   {
    "duration": 4,
    "start_time": "2025-06-19T15:12:04.527Z"
   },
   {
    "duration": 13,
    "start_time": "2025-06-19T15:12:34.433Z"
   },
   {
    "duration": 12,
    "start_time": "2025-06-19T15:12:43.644Z"
   },
   {
    "duration": 11,
    "start_time": "2025-06-19T15:12:47.842Z"
   },
   {
    "duration": 11,
    "start_time": "2025-06-19T15:12:52.155Z"
   },
   {
    "duration": 52,
    "start_time": "2025-06-19T15:13:57.891Z"
   },
   {
    "duration": 7,
    "start_time": "2025-06-19T15:46:40.726Z"
   },
   {
    "duration": 5123,
    "start_time": "2025-06-19T15:46:52.240Z"
   },
   {
    "duration": 2526,
    "start_time": "2025-06-19T15:46:57.366Z"
   },
   {
    "duration": 989,
    "start_time": "2025-06-19T15:46:59.894Z"
   },
   {
    "duration": 13,
    "start_time": "2025-06-19T15:47:00.885Z"
   },
   {
    "duration": 72,
    "start_time": "2025-06-19T15:47:00.900Z"
   },
   {
    "duration": 31,
    "start_time": "2025-06-19T15:47:00.973Z"
   },
   {
    "duration": 47,
    "start_time": "2025-06-19T15:47:01.006Z"
   },
   {
    "duration": 93627,
    "start_time": "2025-06-19T15:47:06.309Z"
   },
   {
    "duration": 7,
    "start_time": "2025-06-19T15:48:39.938Z"
   },
   {
    "duration": 26,
    "start_time": "2025-06-19T15:49:55.203Z"
   },
   {
    "duration": 102199,
    "start_time": "2025-06-19T15:49:56.803Z"
   },
   {
    "duration": 18,
    "start_time": "2025-06-19T15:51:39.005Z"
   },
   {
    "duration": 29,
    "start_time": "2025-06-19T15:54:25.621Z"
   },
   {
    "duration": 1256,
    "start_time": "2025-06-19T15:54:25.889Z"
   },
   {
    "duration": 0,
    "start_time": "2025-06-19T15:54:27.147Z"
   },
   {
    "duration": 42,
    "start_time": "2025-06-19T15:54:44.486Z"
   },
   {
    "duration": 115563,
    "start_time": "2025-06-19T15:54:44.894Z"
   },
   {
    "duration": 5,
    "start_time": "2025-06-19T15:56:40.459Z"
   },
   {
    "duration": 3,
    "start_time": "2025-06-19T15:58:19.292Z"
   },
   {
    "duration": 229,
    "start_time": "2025-06-19T15:58:20.618Z"
   },
   {
    "duration": 161,
    "start_time": "2025-06-19T15:58:22.326Z"
   },
   {
    "duration": 15,
    "start_time": "2025-06-19T15:58:24.750Z"
   },
   {
    "duration": 29,
    "start_time": "2025-06-19T15:58:32.295Z"
   },
   {
    "duration": 3,
    "start_time": "2025-06-19T15:58:36.592Z"
   },
   {
    "duration": 11,
    "start_time": "2025-06-19T16:02:57.648Z"
   },
   {
    "duration": 9988,
    "start_time": "2025-06-19T16:03:00.187Z"
   },
   {
    "duration": 270,
    "start_time": "2025-06-19T16:03:10.178Z"
   },
   {
    "duration": 7034,
    "start_time": "2025-06-19T16:21:02.179Z"
   },
   {
    "duration": 1682,
    "start_time": "2025-06-19T16:21:09.216Z"
   },
   {
    "duration": 813,
    "start_time": "2025-06-19T16:21:10.899Z"
   },
   {
    "duration": 3,
    "start_time": "2025-06-19T16:21:11.713Z"
   },
   {
    "duration": 63,
    "start_time": "2025-06-19T16:21:11.718Z"
   },
   {
    "duration": 25,
    "start_time": "2025-06-19T16:21:11.783Z"
   },
   {
    "duration": 9,
    "start_time": "2025-06-19T16:21:11.810Z"
   },
   {
    "duration": 88853,
    "start_time": "2025-06-19T16:21:11.821Z"
   },
   {
    "duration": 3,
    "start_time": "2025-06-19T16:22:40.677Z"
   },
   {
    "duration": 258,
    "start_time": "2025-06-19T16:22:40.681Z"
   },
   {
    "duration": 132,
    "start_time": "2025-06-19T16:22:40.941Z"
   },
   {
    "duration": 4,
    "start_time": "2025-06-19T16:22:41.075Z"
   },
   {
    "duration": 6,
    "start_time": "2025-06-19T16:22:41.081Z"
   },
   {
    "duration": 236,
    "start_time": "2025-06-19T16:22:41.099Z"
   },
   {
    "duration": 0,
    "start_time": "2025-06-19T16:22:41.336Z"
   },
   {
    "duration": 0,
    "start_time": "2025-06-19T16:22:41.337Z"
   },
   {
    "duration": 0,
    "start_time": "2025-06-19T16:22:41.338Z"
   },
   {
    "duration": 0,
    "start_time": "2025-06-19T16:22:41.339Z"
   },
   {
    "duration": 0,
    "start_time": "2025-06-19T16:22:41.340Z"
   },
   {
    "duration": 0,
    "start_time": "2025-06-19T16:22:41.341Z"
   },
   {
    "duration": 0,
    "start_time": "2025-06-19T16:22:41.342Z"
   },
   {
    "duration": 5,
    "start_time": "2025-06-19T16:23:39.693Z"
   },
   {
    "duration": 8,
    "start_time": "2025-06-19T16:23:50.789Z"
   },
   {
    "duration": 87,
    "start_time": "2025-06-19T16:24:37.257Z"
   },
   {
    "duration": 108,
    "start_time": "2025-06-19T16:24:47.438Z"
   },
   {
    "duration": 3,
    "start_time": "2025-06-19T16:24:48.259Z"
   },
   {
    "duration": 6,
    "start_time": "2025-06-19T16:24:56.571Z"
   },
   {
    "duration": 47,
    "start_time": "2025-06-19T16:24:58.043Z"
   },
   {
    "duration": 4,
    "start_time": "2025-06-19T16:25:52.620Z"
   },
   {
    "duration": 48,
    "start_time": "2025-06-19T16:25:53.373Z"
   },
   {
    "duration": 4,
    "start_time": "2025-06-19T16:29:59.368Z"
   },
   {
    "duration": 8,
    "start_time": "2025-06-19T16:32:33.443Z"
   },
   {
    "duration": 15,
    "start_time": "2025-06-19T16:32:49.102Z"
   },
   {
    "duration": 3,
    "start_time": "2025-06-19T16:34:30.141Z"
   },
   {
    "duration": 9,
    "start_time": "2025-06-19T16:38:35.766Z"
   },
   {
    "duration": 44,
    "start_time": "2025-06-19T16:38:36.758Z"
   },
   {
    "duration": 3,
    "start_time": "2025-06-19T16:42:10.582Z"
   },
   {
    "duration": 54,
    "start_time": "2025-06-19T16:42:10.990Z"
   },
   {
    "duration": 11,
    "start_time": "2025-06-19T16:43:39.308Z"
   },
   {
    "duration": 30,
    "start_time": "2025-06-19T16:43:40.736Z"
   },
   {
    "duration": 10,
    "start_time": "2025-06-19T16:44:23.981Z"
   },
   {
    "duration": 4,
    "start_time": "2025-06-19T16:44:27.434Z"
   },
   {
    "duration": 6,
    "start_time": "2025-06-19T16:44:33.615Z"
   },
   {
    "duration": 5,
    "start_time": "2025-06-19T16:47:50.252Z"
   },
   {
    "duration": 56,
    "start_time": "2025-06-19T16:47:50.982Z"
   },
   {
    "duration": 8,
    "start_time": "2025-06-19T16:48:09.348Z"
   },
   {
    "duration": 2618,
    "start_time": "2025-06-19T16:48:19.686Z"
   },
   {
    "duration": 4,
    "start_time": "2025-06-19T16:48:35.374Z"
   },
   {
    "duration": 3598,
    "start_time": "2025-06-19T16:48:36.236Z"
   },
   {
    "duration": 4,
    "start_time": "2025-06-19T16:48:53.776Z"
   },
   {
    "duration": 53,
    "start_time": "2025-06-19T16:48:54.276Z"
   },
   {
    "duration": 7966,
    "start_time": "2025-06-19T16:51:40.479Z"
   },
   {
    "duration": 3214,
    "start_time": "2025-06-19T16:51:48.448Z"
   },
   {
    "duration": 968,
    "start_time": "2025-06-19T16:51:51.663Z"
   },
   {
    "duration": 4,
    "start_time": "2025-06-19T16:51:52.632Z"
   },
   {
    "duration": 108,
    "start_time": "2025-06-19T16:51:52.638Z"
   },
   {
    "duration": 13,
    "start_time": "2025-06-19T16:51:52.748Z"
   },
   {
    "duration": 33,
    "start_time": "2025-06-19T16:51:52.763Z"
   },
   {
    "duration": 98370,
    "start_time": "2025-06-19T16:51:52.798Z"
   },
   {
    "duration": 4,
    "start_time": "2025-06-19T16:53:31.170Z"
   },
   {
    "duration": 155,
    "start_time": "2025-06-19T16:53:31.175Z"
   },
   {
    "duration": 61,
    "start_time": "2025-06-19T16:53:50.597Z"
   },
   {
    "duration": 3556,
    "start_time": "2025-06-19T16:54:29.663Z"
   },
   {
    "duration": 8755,
    "start_time": "2025-06-19T16:56:16.388Z"
   },
   {
    "duration": 18,
    "start_time": "2025-06-19T16:56:25.145Z"
   },
   {
    "duration": 0,
    "start_time": "2025-06-19T16:56:25.164Z"
   },
   {
    "duration": 0,
    "start_time": "2025-06-19T16:56:25.165Z"
   },
   {
    "duration": 0,
    "start_time": "2025-06-19T16:56:25.166Z"
   },
   {
    "duration": 0,
    "start_time": "2025-06-19T16:56:25.168Z"
   },
   {
    "duration": 1,
    "start_time": "2025-06-19T16:56:25.168Z"
   },
   {
    "duration": 0,
    "start_time": "2025-06-19T16:56:25.170Z"
   },
   {
    "duration": 0,
    "start_time": "2025-06-19T16:56:25.171Z"
   },
   {
    "duration": 0,
    "start_time": "2025-06-19T16:56:25.172Z"
   },
   {
    "duration": 0,
    "start_time": "2025-06-19T16:56:25.173Z"
   },
   {
    "duration": 0,
    "start_time": "2025-06-19T16:56:25.174Z"
   },
   {
    "duration": 0,
    "start_time": "2025-06-19T16:56:25.175Z"
   },
   {
    "duration": 0,
    "start_time": "2025-06-19T16:56:25.176Z"
   },
   {
    "duration": 214,
    "start_time": "2025-06-19T16:56:28.531Z"
   },
   {
    "duration": 940,
    "start_time": "2025-06-19T16:56:32.328Z"
   },
   {
    "duration": 3,
    "start_time": "2025-06-19T16:56:33.269Z"
   },
   {
    "duration": 75,
    "start_time": "2025-06-19T16:56:33.274Z"
   },
   {
    "duration": 85,
    "start_time": "2025-06-19T16:56:33.350Z"
   },
   {
    "duration": 78,
    "start_time": "2025-06-19T16:56:33.437Z"
   },
   {
    "duration": 100727,
    "start_time": "2025-06-19T16:56:33.516Z"
   },
   {
    "duration": 3,
    "start_time": "2025-06-19T16:58:14.246Z"
   },
   {
    "duration": 174,
    "start_time": "2025-06-19T16:58:14.251Z"
   },
   {
    "duration": 132,
    "start_time": "2025-06-19T16:58:14.426Z"
   },
   {
    "duration": 4,
    "start_time": "2025-06-19T16:58:14.560Z"
   },
   {
    "duration": 6,
    "start_time": "2025-06-19T16:58:14.566Z"
   },
   {
    "duration": 13,
    "start_time": "2025-06-19T16:58:14.573Z"
   },
   {
    "duration": 62,
    "start_time": "2025-06-19T16:58:44.175Z"
   },
   {
    "duration": 76,
    "start_time": "2025-06-19T17:00:07.137Z"
   },
   {
    "duration": 11,
    "start_time": "2025-06-19T17:00:28.735Z"
   },
   {
    "duration": 3,
    "start_time": "2025-06-19T17:00:40.526Z"
   },
   {
    "duration": 18,
    "start_time": "2025-06-19T17:00:46.617Z"
   },
   {
    "duration": 24,
    "start_time": "2025-06-19T17:01:13.782Z"
   },
   {
    "duration": 6,
    "start_time": "2025-06-19T17:02:08.306Z"
   },
   {
    "duration": 6,
    "start_time": "2025-06-19T17:02:21.358Z"
   },
   {
    "duration": 4,
    "start_time": "2025-06-19T17:03:07.207Z"
   },
   {
    "duration": 28,
    "start_time": "2025-06-19T17:03:30.765Z"
   },
   {
    "duration": 4437,
    "start_time": "2025-06-19T17:04:20.710Z"
   },
   {
    "duration": 50580,
    "start_time": "2025-06-19T17:04:35.341Z"
   },
   {
    "duration": 37,
    "start_time": "2025-06-19T17:06:09.718Z"
   },
   {
    "duration": 1429,
    "start_time": "2025-06-19T17:06:19.656Z"
   },
   {
    "duration": 3,
    "start_time": "2025-06-19T17:10:03.566Z"
   },
   {
    "duration": 4,
    "start_time": "2025-06-19T17:10:04.346Z"
   },
   {
    "duration": 3,
    "start_time": "2025-06-19T17:10:04.872Z"
   },
   {
    "duration": 3,
    "start_time": "2025-06-19T17:10:05.362Z"
   },
   {
    "duration": 4,
    "start_time": "2025-06-19T17:10:14.963Z"
   },
   {
    "duration": 29,
    "start_time": "2025-06-19T17:10:15.358Z"
   },
   {
    "duration": 4,
    "start_time": "2025-06-19T17:10:37.366Z"
   },
   {
    "duration": 258327,
    "start_time": "2025-06-19T17:10:37.755Z"
   },
   {
    "duration": 4,
    "start_time": "2025-06-19T17:17:21.224Z"
   },
   {
    "duration": 3,
    "start_time": "2025-06-19T17:17:22.430Z"
   },
   {
    "duration": 3,
    "start_time": "2025-06-19T17:17:24.091Z"
   },
   {
    "duration": 27,
    "start_time": "2025-06-19T17:17:24.784Z"
   },
   {
    "duration": 4,
    "start_time": "2025-06-19T17:18:23.604Z"
   },
   {
    "duration": 20,
    "start_time": "2025-06-19T17:18:23.853Z"
   },
   {
    "duration": 9,
    "start_time": "2025-06-19T17:18:46.396Z"
   },
   {
    "duration": 419048,
    "start_time": "2025-06-19T17:18:46.786Z"
   },
   {
    "duration": 8668,
    "start_time": "2025-06-19T17:25:52.335Z"
   },
   {
    "duration": 1973,
    "start_time": "2025-06-19T17:26:01.007Z"
   },
   {
    "duration": 894,
    "start_time": "2025-06-19T17:26:02.982Z"
   },
   {
    "duration": 3,
    "start_time": "2025-06-19T17:26:03.878Z"
   },
   {
    "duration": 80,
    "start_time": "2025-06-19T17:26:03.883Z"
   },
   {
    "duration": 12,
    "start_time": "2025-06-19T17:26:03.964Z"
   },
   {
    "duration": 40,
    "start_time": "2025-06-19T17:26:03.978Z"
   },
   {
    "duration": 97506,
    "start_time": "2025-06-19T17:26:04.020Z"
   },
   {
    "duration": 2,
    "start_time": "2025-06-19T17:27:41.528Z"
   },
   {
    "duration": 163,
    "start_time": "2025-06-19T17:27:41.532Z"
   },
   {
    "duration": 122,
    "start_time": "2025-06-19T17:27:41.697Z"
   },
   {
    "duration": 2,
    "start_time": "2025-06-19T17:27:41.821Z"
   },
   {
    "duration": 15,
    "start_time": "2025-06-19T17:27:41.825Z"
   },
   {
    "duration": 320009,
    "start_time": "2025-06-19T17:27:41.841Z"
   },
   {
    "duration": 4,
    "start_time": "2025-06-19T17:33:01.852Z"
   },
   {
    "duration": 22,
    "start_time": "2025-06-19T17:33:01.858Z"
   },
   {
    "duration": 13,
    "start_time": "2025-06-19T17:33:01.882Z"
   },
   {
    "duration": 729814,
    "start_time": "2025-06-19T17:33:01.897Z"
   },
   {
    "duration": 5,
    "start_time": "2025-06-19T17:45:11.712Z"
   },
   {
    "duration": 59,
    "start_time": "2025-06-19T17:45:11.719Z"
   },
   {
    "duration": 11,
    "start_time": "2025-06-19T17:45:11.780Z"
   },
   {
    "duration": 4,
    "start_time": "2025-06-19T18:56:41.251Z"
   },
   {
    "duration": 129,
    "start_time": "2025-06-19T19:08:46.041Z"
   },
   {
    "duration": 4,
    "start_time": "2025-06-19T19:08:54.033Z"
   },
   {
    "duration": 216722,
    "start_time": "2025-06-19T19:09:01.611Z"
   },
   {
    "duration": 7171,
    "start_time": "2025-06-19T19:13:56.027Z"
   },
   {
    "duration": 1738,
    "start_time": "2025-06-19T19:14:03.202Z"
   },
   {
    "duration": 833,
    "start_time": "2025-06-19T19:14:04.941Z"
   },
   {
    "duration": 4,
    "start_time": "2025-06-19T19:14:05.776Z"
   },
   {
    "duration": 111,
    "start_time": "2025-06-19T19:14:05.781Z"
   },
   {
    "duration": 130,
    "start_time": "2025-06-19T19:14:05.894Z"
   },
   {
    "duration": 54,
    "start_time": "2025-06-19T19:14:06.026Z"
   },
   {
    "duration": 96326,
    "start_time": "2025-06-19T19:14:06.081Z"
   },
   {
    "duration": 3,
    "start_time": "2025-06-19T19:15:42.408Z"
   },
   {
    "duration": 131,
    "start_time": "2025-06-19T19:15:42.414Z"
   },
   {
    "duration": 105,
    "start_time": "2025-06-19T19:15:42.546Z"
   },
   {
    "duration": 3,
    "start_time": "2025-06-19T19:15:42.652Z"
   },
   {
    "duration": 11,
    "start_time": "2025-06-19T19:15:42.656Z"
   },
   {
    "duration": 267390,
    "start_time": "2025-06-19T19:15:42.669Z"
   },
   {
    "duration": 4,
    "start_time": "2025-06-19T19:20:10.060Z"
   },
   {
    "duration": 21,
    "start_time": "2025-06-19T19:20:10.066Z"
   },
   {
    "duration": 6,
    "start_time": "2025-06-19T19:20:10.088Z"
   },
   {
    "duration": 129099,
    "start_time": "2025-06-19T19:20:10.095Z"
   },
   {
    "duration": 3,
    "start_time": "2025-06-19T19:22:19.199Z"
   },
   {
    "duration": 4,
    "start_time": "2025-06-19T19:22:19.204Z"
   },
   {
    "duration": 4,
    "start_time": "2025-06-19T19:22:19.209Z"
   },
   {
    "duration": 641198,
    "start_time": "2025-06-19T19:22:19.214Z"
   },
   {
    "duration": 3,
    "start_time": "2025-06-19T19:33:00.414Z"
   },
   {
    "duration": 78,
    "start_time": "2025-06-19T19:33:00.419Z"
   },
   {
    "duration": 30,
    "start_time": "2025-06-19T19:33:00.499Z"
   },
   {
    "duration": 3,
    "start_time": "2025-06-19T19:33:24.918Z"
   },
   {
    "duration": 28810,
    "start_time": "2025-06-19T19:33:25.429Z"
   },
   {
    "duration": 8,
    "start_time": "2025-06-19T19:39:42.775Z"
   },
   {
    "duration": 6908,
    "start_time": "2025-06-19T19:40:56.204Z"
   },
   {
    "duration": 2428,
    "start_time": "2025-06-19T19:41:03.115Z"
   },
   {
    "duration": 838,
    "start_time": "2025-06-19T19:41:05.544Z"
   },
   {
    "duration": 3,
    "start_time": "2025-06-19T19:41:06.384Z"
   },
   {
    "duration": 76,
    "start_time": "2025-06-19T19:41:06.389Z"
   },
   {
    "duration": 24,
    "start_time": "2025-06-19T19:41:06.467Z"
   },
   {
    "duration": 46,
    "start_time": "2025-06-19T19:41:06.493Z"
   },
   {
    "duration": 86263,
    "start_time": "2025-06-19T19:41:06.541Z"
   },
   {
    "duration": 2,
    "start_time": "2025-06-19T19:42:32.806Z"
   },
   {
    "duration": 181,
    "start_time": "2025-06-19T19:42:32.811Z"
   },
   {
    "duration": 113,
    "start_time": "2025-06-19T19:42:32.994Z"
   },
   {
    "duration": 3,
    "start_time": "2025-06-19T19:42:33.108Z"
   },
   {
    "duration": 74,
    "start_time": "2025-06-19T19:42:33.113Z"
   },
   {
    "duration": 30,
    "start_time": "2025-06-19T19:42:33.189Z"
   },
   {
    "duration": 160,
    "start_time": "2025-06-19T19:42:33.221Z"
   },
   {
    "duration": 0,
    "start_time": "2025-06-19T19:42:33.383Z"
   },
   {
    "duration": 0,
    "start_time": "2025-06-19T19:42:33.384Z"
   },
   {
    "duration": 0,
    "start_time": "2025-06-19T19:42:33.385Z"
   },
   {
    "duration": 0,
    "start_time": "2025-06-19T19:42:33.386Z"
   },
   {
    "duration": 0,
    "start_time": "2025-06-19T19:42:33.387Z"
   },
   {
    "duration": 0,
    "start_time": "2025-06-19T19:42:33.388Z"
   },
   {
    "duration": 0,
    "start_time": "2025-06-19T19:42:33.389Z"
   },
   {
    "duration": 0,
    "start_time": "2025-06-19T19:42:33.398Z"
   },
   {
    "duration": 0,
    "start_time": "2025-06-19T19:42:33.399Z"
   },
   {
    "duration": 0,
    "start_time": "2025-06-19T19:42:33.400Z"
   },
   {
    "duration": 0,
    "start_time": "2025-06-19T19:42:33.401Z"
   },
   {
    "duration": 13,
    "start_time": "2025-06-19T19:43:13.610Z"
   },
   {
    "duration": 4,
    "start_time": "2025-06-19T19:43:33.912Z"
   },
   {
    "duration": 13,
    "start_time": "2025-06-19T19:43:40.848Z"
   },
   {
    "duration": 103,
    "start_time": "2025-06-19T19:43:49.257Z"
   },
   {
    "duration": 6247,
    "start_time": "2025-06-19T19:43:51.293Z"
   },
   {
    "duration": 4,
    "start_time": "2025-06-19T19:43:57.541Z"
   },
   {
    "duration": 149741,
    "start_time": "2025-06-19T19:44:01.273Z"
   },
   {
    "duration": 4,
    "start_time": "2025-06-19T19:46:31.016Z"
   },
   {
    "duration": 25,
    "start_time": "2025-06-19T19:46:31.022Z"
   },
   {
    "duration": 24,
    "start_time": "2025-06-19T19:46:31.050Z"
   },
   {
    "duration": 313617,
    "start_time": "2025-06-19T19:46:31.075Z"
   },
   {
    "duration": 7,
    "start_time": "2025-06-19T19:51:44.693Z"
   },
   {
    "duration": 14,
    "start_time": "2025-06-19T19:51:44.702Z"
   },
   {
    "duration": 5,
    "start_time": "2025-06-19T19:51:44.718Z"
   },
   {
    "duration": 591883,
    "start_time": "2025-06-19T19:51:44.725Z"
   },
   {
    "duration": 4,
    "start_time": "2025-06-19T20:01:36.610Z"
   },
   {
    "duration": 17,
    "start_time": "2025-06-19T20:01:36.615Z"
   },
   {
    "duration": 12,
    "start_time": "2025-06-19T20:05:02.085Z"
   },
   {
    "duration": 19498,
    "start_time": "2025-06-19T20:05:16.242Z"
   },
   {
    "duration": 13,
    "start_time": "2025-06-19T20:05:53.388Z"
   },
   {
    "duration": 8,
    "start_time": "2025-06-19T20:06:07.541Z"
   },
   {
    "duration": 5445,
    "start_time": "2025-06-19T20:06:20.932Z"
   },
   {
    "duration": 5308,
    "start_time": "2025-06-19T20:06:40.670Z"
   },
   {
    "duration": 13389,
    "start_time": "2025-06-19T20:07:00.562Z"
   },
   {
    "duration": 8,
    "start_time": "2025-06-19T20:07:37.324Z"
   },
   {
    "duration": 13,
    "start_time": "2025-06-19T20:07:41.112Z"
   },
   {
    "duration": 11,
    "start_time": "2025-06-19T20:14:20.986Z"
   },
   {
    "duration": 3,
    "start_time": "2025-06-19T20:14:27.265Z"
   },
   {
    "duration": 39792,
    "start_time": "2025-06-19T20:15:42.707Z"
   },
   {
    "duration": 14,
    "start_time": "2025-06-19T20:16:22.501Z"
   },
   {
    "duration": 16,
    "start_time": "2025-06-19T20:16:36.667Z"
   },
   {
    "duration": 2,
    "start_time": "2025-06-19T20:17:11.382Z"
   },
   {
    "duration": 8,
    "start_time": "2025-06-19T20:17:22.235Z"
   },
   {
    "duration": 908,
    "start_time": "2025-06-19T20:21:54.113Z"
   },
   {
    "duration": 15,
    "start_time": "2025-06-19T20:21:59.030Z"
   },
   {
    "duration": 14,
    "start_time": "2025-06-19T20:22:09.372Z"
   },
   {
    "duration": 13,
    "start_time": "2025-06-19T20:22:14.696Z"
   },
   {
    "duration": 231,
    "start_time": "2025-06-19T20:22:20.430Z"
   },
   {
    "duration": 230,
    "start_time": "2025-06-19T20:22:24.628Z"
   },
   {
    "duration": 4,
    "start_time": "2025-06-19T20:34:18.888Z"
   },
   {
    "duration": 24,
    "start_time": "2025-06-19T20:34:19.892Z"
   },
   {
    "duration": 4,
    "start_time": "2025-06-19T20:35:00.136Z"
   },
   {
    "duration": 5,
    "start_time": "2025-06-19T20:35:02.904Z"
   },
   {
    "duration": 7657,
    "start_time": "2025-06-19T20:35:34.775Z"
   },
   {
    "duration": 3723,
    "start_time": "2025-06-19T20:35:42.435Z"
   },
   {
    "duration": 917,
    "start_time": "2025-06-19T20:35:46.160Z"
   },
   {
    "duration": 3,
    "start_time": "2025-06-19T20:35:47.079Z"
   },
   {
    "duration": 80,
    "start_time": "2025-06-19T20:35:47.084Z"
   },
   {
    "duration": 14,
    "start_time": "2025-06-19T20:35:47.166Z"
   },
   {
    "duration": 247,
    "start_time": "2025-06-19T20:35:47.182Z"
   },
   {
    "duration": 3,
    "start_time": "2025-06-19T20:35:47.431Z"
   },
   {
    "duration": 95432,
    "start_time": "2025-06-19T20:35:47.436Z"
   },
   {
    "duration": 3,
    "start_time": "2025-06-19T20:37:22.870Z"
   },
   {
    "duration": 237,
    "start_time": "2025-06-19T20:37:22.874Z"
   },
   {
    "duration": 116,
    "start_time": "2025-06-19T20:37:23.112Z"
   },
   {
    "duration": 7785,
    "start_time": "2025-06-19T20:37:23.230Z"
   },
   {
    "duration": 4,
    "start_time": "2025-06-19T20:37:31.017Z"
   },
   {
    "duration": 168521,
    "start_time": "2025-06-19T20:37:31.023Z"
   },
   {
    "duration": 5,
    "start_time": "2025-06-19T20:40:19.545Z"
   },
   {
    "duration": 5,
    "start_time": "2025-06-19T20:40:19.551Z"
   },
   {
    "duration": 7,
    "start_time": "2025-06-19T20:40:19.558Z"
   },
   {
    "duration": 7319,
    "start_time": "2025-06-19T20:43:46.309Z"
   },
   {
    "duration": 2736,
    "start_time": "2025-06-19T20:43:53.630Z"
   },
   {
    "duration": 905,
    "start_time": "2025-06-19T20:43:56.367Z"
   },
   {
    "duration": 4,
    "start_time": "2025-06-19T20:43:57.273Z"
   },
   {
    "duration": 71,
    "start_time": "2025-06-19T20:43:57.279Z"
   },
   {
    "duration": 58,
    "start_time": "2025-06-19T20:43:57.352Z"
   },
   {
    "duration": 237,
    "start_time": "2025-06-19T20:43:57.411Z"
   },
   {
    "duration": 4,
    "start_time": "2025-06-19T20:43:57.649Z"
   },
   {
    "duration": 96511,
    "start_time": "2025-06-19T20:43:57.654Z"
   },
   {
    "duration": 2,
    "start_time": "2025-06-19T20:45:34.167Z"
   },
   {
    "duration": 223,
    "start_time": "2025-06-19T20:45:34.171Z"
   },
   {
    "duration": 118,
    "start_time": "2025-06-19T20:45:34.395Z"
   },
   {
    "duration": 6840,
    "start_time": "2025-06-19T20:45:34.514Z"
   },
   {
    "duration": 4,
    "start_time": "2025-06-19T20:45:41.356Z"
   },
   {
    "duration": 161655,
    "start_time": "2025-06-19T20:45:41.361Z"
   },
   {
    "duration": 4,
    "start_time": "2025-06-19T20:48:23.018Z"
   },
   {
    "duration": 8,
    "start_time": "2025-06-19T20:48:23.024Z"
   },
   {
    "duration": 18,
    "start_time": "2025-06-19T20:48:23.034Z"
   },
   {
    "duration": 592964,
    "start_time": "2025-06-19T20:48:23.053Z"
   },
   {
    "duration": 4,
    "start_time": "2025-06-19T20:58:16.019Z"
   },
   {
    "duration": 9,
    "start_time": "2025-06-19T20:58:16.025Z"
   },
   {
    "duration": 63,
    "start_time": "2025-06-19T20:58:16.036Z"
   },
   {
    "duration": 3,
    "start_time": "2025-06-19T20:58:16.101Z"
   },
   {
    "duration": 39805,
    "start_time": "2025-06-19T20:58:16.105Z"
   },
   {
    "duration": 92,
    "start_time": "2025-06-19T20:58:55.914Z"
   },
   {
    "duration": 4,
    "start_time": "2025-06-19T20:59:04.086Z"
   },
   {
    "duration": 4,
    "start_time": "2025-06-19T20:59:10.153Z"
   },
   {
    "duration": 5,
    "start_time": "2025-06-19T20:59:15.452Z"
   },
   {
    "duration": 4,
    "start_time": "2025-06-19T20:59:19.044Z"
   },
   {
    "duration": 603,
    "start_time": "2025-06-19T20:59:25.098Z"
   },
   {
    "duration": 434,
    "start_time": "2025-06-19T21:01:31.454Z"
   },
   {
    "duration": 998,
    "start_time": "2025-06-19T21:02:33.303Z"
   },
   {
    "duration": 43,
    "start_time": "2025-06-19T21:02:53.579Z"
   },
   {
    "duration": 65,
    "start_time": "2025-06-19T21:03:15.275Z"
   },
   {
    "duration": 492,
    "start_time": "2025-06-19T21:05:44.677Z"
   },
   {
    "duration": 466,
    "start_time": "2025-06-19T21:06:41.722Z"
   },
   {
    "duration": 464,
    "start_time": "2025-06-19T21:06:57.239Z"
   },
   {
    "duration": 461,
    "start_time": "2025-06-19T21:07:43.053Z"
   },
   {
    "duration": 454,
    "start_time": "2025-06-19T21:08:43.576Z"
   },
   {
    "duration": 518,
    "start_time": "2025-06-19T21:09:34.696Z"
   },
   {
    "duration": 7520,
    "start_time": "2025-06-19T21:15:18.759Z"
   },
   {
    "duration": 1903,
    "start_time": "2025-06-19T21:15:26.281Z"
   },
   {
    "duration": 873,
    "start_time": "2025-06-19T21:15:28.186Z"
   },
   {
    "duration": 3,
    "start_time": "2025-06-19T21:15:29.061Z"
   },
   {
    "duration": 74,
    "start_time": "2025-06-19T21:15:29.066Z"
   },
   {
    "duration": 13,
    "start_time": "2025-06-19T21:15:29.141Z"
   },
   {
    "duration": 244,
    "start_time": "2025-06-19T21:15:29.156Z"
   },
   {
    "duration": 4,
    "start_time": "2025-06-19T21:15:29.401Z"
   },
   {
    "duration": 93671,
    "start_time": "2025-06-19T21:15:29.407Z"
   },
   {
    "duration": 3,
    "start_time": "2025-06-19T21:17:03.080Z"
   },
   {
    "duration": 225,
    "start_time": "2025-06-19T21:17:03.085Z"
   },
   {
    "duration": 121,
    "start_time": "2025-06-19T21:17:03.312Z"
   },
   {
    "duration": 7173,
    "start_time": "2025-06-19T21:17:03.435Z"
   },
   {
    "duration": 4,
    "start_time": "2025-06-19T21:17:10.611Z"
   },
   {
    "duration": 169198,
    "start_time": "2025-06-19T21:17:10.616Z"
   },
   {
    "duration": 4,
    "start_time": "2025-06-19T21:19:59.816Z"
   },
   {
    "duration": 7,
    "start_time": "2025-06-19T21:19:59.822Z"
   },
   {
    "duration": 8,
    "start_time": "2025-06-19T21:19:59.830Z"
   },
   {
    "duration": 637479,
    "start_time": "2025-06-19T21:19:59.839Z"
   },
   {
    "duration": 5,
    "start_time": "2025-06-19T21:30:37.321Z"
   },
   {
    "duration": 15,
    "start_time": "2025-06-19T21:30:37.329Z"
   },
   {
    "duration": 55,
    "start_time": "2025-06-19T21:30:37.345Z"
   },
   {
    "duration": 4,
    "start_time": "2025-06-19T21:30:37.402Z"
   },
   {
    "duration": 47312,
    "start_time": "2025-06-19T21:30:37.410Z"
   },
   {
    "duration": 103,
    "start_time": "2025-06-19T21:31:24.725Z"
   },
   {
    "duration": 673,
    "start_time": "2025-06-19T21:31:24.830Z"
   },
   {
    "duration": 60,
    "start_time": "2025-06-19T21:31:25.506Z"
   },
   {
    "duration": 48,
    "start_time": "2025-06-22T11:59:08.709Z"
   },
   {
    "duration": 19760,
    "start_time": "2025-06-22T11:59:13.484Z"
   },
   {
    "duration": 2066,
    "start_time": "2025-06-22T11:59:33.247Z"
   },
   {
    "duration": 4,
    "start_time": "2025-06-22T11:59:35.315Z"
   },
   {
    "duration": 995,
    "start_time": "2025-06-22T11:59:35.322Z"
   },
   {
    "duration": 4,
    "start_time": "2025-06-22T11:59:36.319Z"
   },
   {
    "duration": 101,
    "start_time": "2025-06-22T11:59:36.325Z"
   },
   {
    "duration": 15,
    "start_time": "2025-06-22T11:59:36.427Z"
   },
   {
    "duration": 395,
    "start_time": "2025-06-22T11:59:36.444Z"
   },
   {
    "duration": 227561,
    "start_time": "2025-06-22T11:59:42.496Z"
   },
   {
    "duration": 7,
    "start_time": "2025-06-22T12:03:30.059Z"
   },
   {
    "duration": 232,
    "start_time": "2025-06-22T12:03:30.067Z"
   },
   {
    "duration": 199,
    "start_time": "2025-06-22T12:03:32.815Z"
   },
   {
    "duration": 7,
    "start_time": "2025-06-22T12:03:36.896Z"
   },
   {
    "duration": 442,
    "start_time": "2025-06-22T12:03:37.915Z"
   },
   {
    "duration": 134,
    "start_time": "2025-06-22T12:04:54.511Z"
   },
   {
    "duration": 637,
    "start_time": "2025-06-22T12:23:31.803Z"
   },
   {
    "duration": 65,
    "start_time": "2025-06-22T12:27:29.285Z"
   },
   {
    "duration": 66,
    "start_time": "2025-06-22T12:27:34.492Z"
   },
   {
    "duration": 40,
    "start_time": "2025-06-22T12:27:46.883Z"
   },
   {
    "duration": 4,
    "start_time": "2025-06-22T12:32:45.584Z"
   },
   {
    "duration": 3,
    "start_time": "2025-06-22T12:33:04.840Z"
   },
   {
    "duration": 3,
    "start_time": "2025-06-22T12:33:06.212Z"
   },
   {
    "duration": 3,
    "start_time": "2025-06-22T12:33:12.516Z"
   },
   {
    "duration": 4,
    "start_time": "2025-06-22T12:33:21.118Z"
   },
   {
    "duration": 4,
    "start_time": "2025-06-22T12:33:48.968Z"
   },
   {
    "duration": 3,
    "start_time": "2025-06-22T12:34:30.468Z"
   },
   {
    "duration": 4,
    "start_time": "2025-06-22T12:34:31.262Z"
   },
   {
    "duration": 4,
    "start_time": "2025-06-22T12:34:32.285Z"
   },
   {
    "duration": 2,
    "start_time": "2025-06-22T12:44:00.813Z"
   },
   {
    "duration": 11,
    "start_time": "2025-06-22T12:44:58.362Z"
   },
   {
    "duration": 12,
    "start_time": "2025-06-22T12:45:09.319Z"
   },
   {
    "duration": 4,
    "start_time": "2025-06-22T12:45:21.825Z"
   },
   {
    "duration": 5,
    "start_time": "2025-06-22T12:46:28.883Z"
   },
   {
    "duration": 13,
    "start_time": "2025-06-22T12:46:37.382Z"
   },
   {
    "duration": 5,
    "start_time": "2025-06-22T12:47:26.222Z"
   },
   {
    "duration": 4,
    "start_time": "2025-06-22T12:47:49.686Z"
   },
   {
    "duration": 4,
    "start_time": "2025-06-22T13:41:03.842Z"
   },
   {
    "duration": 3,
    "start_time": "2025-06-22T13:41:29.699Z"
   },
   {
    "duration": 3,
    "start_time": "2025-06-22T13:41:32.029Z"
   },
   {
    "duration": 2368,
    "start_time": "2025-06-22T13:54:58.625Z"
   },
   {
    "duration": 570,
    "start_time": "2025-06-22T13:55:38.050Z"
   },
   {
    "duration": 19,
    "start_time": "2025-06-22T13:56:42.972Z"
   },
   {
    "duration": 17,
    "start_time": "2025-06-22T13:56:54.036Z"
   },
   {
    "duration": 17,
    "start_time": "2025-06-22T13:57:00.995Z"
   },
   {
    "duration": 68,
    "start_time": "2025-06-22T13:58:18.614Z"
   },
   {
    "duration": 215,
    "start_time": "2025-06-22T14:00:13.200Z"
   },
   {
    "duration": 29,
    "start_time": "2025-06-22T14:00:16.067Z"
   },
   {
    "duration": 12,
    "start_time": "2025-06-22T14:01:25.392Z"
   },
   {
    "duration": 3,
    "start_time": "2025-06-22T14:01:31.127Z"
   },
   {
    "duration": 13,
    "start_time": "2025-06-22T14:01:51.801Z"
   },
   {
    "duration": 29,
    "start_time": "2025-06-22T14:03:40.267Z"
   },
   {
    "duration": 29,
    "start_time": "2025-06-22T14:03:43.941Z"
   },
   {
    "duration": 20,
    "start_time": "2025-06-22T14:04:02.788Z"
   },
   {
    "duration": 15,
    "start_time": "2025-06-22T14:06:15.608Z"
   },
   {
    "duration": 7705,
    "start_time": "2025-06-22T14:31:52.337Z"
   },
   {
    "duration": 7074,
    "start_time": "2025-06-22T14:32:00.044Z"
   },
   {
    "duration": 7,
    "start_time": "2025-06-22T14:32:07.119Z"
   },
   {
    "duration": 1009,
    "start_time": "2025-06-22T14:32:07.129Z"
   },
   {
    "duration": 4,
    "start_time": "2025-06-22T14:32:08.140Z"
   },
   {
    "duration": 98,
    "start_time": "2025-06-22T14:32:08.146Z"
   },
   {
    "duration": 16,
    "start_time": "2025-06-22T14:32:08.245Z"
   },
   {
    "duration": 256,
    "start_time": "2025-06-22T14:32:08.263Z"
   },
   {
    "duration": 6,
    "start_time": "2025-06-22T14:32:08.521Z"
   },
   {
    "duration": 304,
    "start_time": "2025-06-22T14:32:08.539Z"
   },
   {
    "duration": 222,
    "start_time": "2025-06-22T14:32:08.845Z"
   },
   {
    "duration": 4,
    "start_time": "2025-06-22T14:32:09.069Z"
   },
   {
    "duration": 564,
    "start_time": "2025-06-22T14:32:09.074Z"
   },
   {
    "duration": 359,
    "start_time": "2025-06-22T14:32:09.639Z"
   },
   {
    "duration": 0,
    "start_time": "2025-06-22T14:32:10.000Z"
   },
   {
    "duration": 0,
    "start_time": "2025-06-22T14:32:10.001Z"
   },
   {
    "duration": 0,
    "start_time": "2025-06-22T14:32:10.002Z"
   },
   {
    "duration": 14,
    "start_time": "2025-06-22T14:32:19.589Z"
   },
   {
    "duration": 4,
    "start_time": "2025-06-22T14:32:20.953Z"
   },
   {
    "duration": 310,
    "start_time": "2025-06-22T14:32:21.823Z"
   },
   {
    "duration": 4,
    "start_time": "2025-06-22T14:33:32.390Z"
   },
   {
    "duration": 16,
    "start_time": "2025-06-22T14:33:38.679Z"
   },
   {
    "duration": 6,
    "start_time": "2025-06-22T14:33:46.415Z"
   },
   {
    "duration": 12,
    "start_time": "2025-06-22T14:34:18.262Z"
   },
   {
    "duration": 4,
    "start_time": "2025-06-22T14:34:19.127Z"
   },
   {
    "duration": 4,
    "start_time": "2025-06-22T14:34:39.308Z"
   },
   {
    "duration": 4,
    "start_time": "2025-06-22T14:34:40.019Z"
   },
   {
    "duration": 317,
    "start_time": "2025-06-22T14:34:44.556Z"
   },
   {
    "duration": 12,
    "start_time": "2025-06-22T14:35:08.217Z"
   },
   {
    "duration": 4,
    "start_time": "2025-06-22T14:35:09.667Z"
   },
   {
    "duration": 22,
    "start_time": "2025-06-22T14:35:33.932Z"
   },
   {
    "duration": 5,
    "start_time": "2025-06-22T14:36:30.417Z"
   },
   {
    "duration": 13,
    "start_time": "2025-06-22T14:36:56.047Z"
   },
   {
    "duration": 4,
    "start_time": "2025-06-22T14:36:56.519Z"
   },
   {
    "duration": 4,
    "start_time": "2025-06-22T14:37:05.967Z"
   },
   {
    "duration": 12,
    "start_time": "2025-06-22T14:37:41.422Z"
   },
   {
    "duration": 5,
    "start_time": "2025-06-22T14:37:41.857Z"
   },
   {
    "duration": 3,
    "start_time": "2025-06-22T14:38:14.735Z"
   },
   {
    "duration": 4,
    "start_time": "2025-06-22T14:38:17.522Z"
   },
   {
    "duration": 20,
    "start_time": "2025-06-22T14:38:21.335Z"
   },
   {
    "duration": 2646663,
    "start_time": "2025-06-22T14:54:06.651Z"
   },
   {
    "duration": 6,
    "start_time": "2025-06-22T17:10:58.711Z"
   },
   {
    "duration": 34,
    "start_time": "2025-06-22T17:14:27.448Z"
   },
   {
    "duration": 19,
    "start_time": "2025-06-22T17:15:04.683Z"
   },
   {
    "duration": 16,
    "start_time": "2025-06-22T17:15:14.419Z"
   },
   {
    "duration": 15,
    "start_time": "2025-06-22T17:15:32.703Z"
   },
   {
    "duration": 7880,
    "start_time": "2025-06-22T17:15:58.871Z"
   },
   {
    "duration": 6,
    "start_time": "2025-06-22T17:16:06.754Z"
   },
   {
    "duration": 20,
    "start_time": "2025-06-22T17:16:06.761Z"
   },
   {
    "duration": 941,
    "start_time": "2025-06-22T17:16:06.784Z"
   },
   {
    "duration": 3,
    "start_time": "2025-06-22T17:16:07.727Z"
   },
   {
    "duration": 68,
    "start_time": "2025-06-22T17:16:07.738Z"
   },
   {
    "duration": 42,
    "start_time": "2025-06-22T17:16:07.808Z"
   },
   {
    "duration": 246,
    "start_time": "2025-06-22T17:16:07.852Z"
   },
   {
    "duration": 8,
    "start_time": "2025-06-22T17:16:08.100Z"
   },
   {
    "duration": 249,
    "start_time": "2025-06-22T17:16:08.111Z"
   },
   {
    "duration": 202,
    "start_time": "2025-06-22T17:16:08.362Z"
   },
   {
    "duration": 4,
    "start_time": "2025-06-22T17:16:08.565Z"
   },
   {
    "duration": 543,
    "start_time": "2025-06-22T17:16:08.570Z"
   },
   {
    "duration": 14,
    "start_time": "2025-06-22T17:16:09.115Z"
   },
   {
    "duration": 8,
    "start_time": "2025-06-22T17:16:09.130Z"
   },
   {
    "duration": 10,
    "start_time": "2025-06-22T17:16:09.140Z"
   },
   {
    "duration": 22,
    "start_time": "2025-06-22T17:16:09.151Z"
   },
   {
    "duration": 4,
    "start_time": "2025-06-22T17:16:09.175Z"
   },
   {
    "duration": 21,
    "start_time": "2025-06-22T17:16:09.180Z"
   },
   {
    "duration": 171982,
    "start_time": "2025-06-22T17:16:09.203Z"
   },
   {
    "duration": 0,
    "start_time": "2025-06-22T17:19:01.187Z"
   },
   {
    "duration": 15,
    "start_time": "2025-06-22T17:19:08.310Z"
   },
   {
    "duration": 14,
    "start_time": "2025-06-22T17:19:13.060Z"
   },
   {
    "duration": 14,
    "start_time": "2025-06-22T17:19:23.164Z"
   },
   {
    "duration": 14,
    "start_time": "2025-06-22T17:19:42.136Z"
   },
   {
    "duration": 5,
    "start_time": "2025-06-22T17:19:44.979Z"
   },
   {
    "duration": 4,
    "start_time": "2025-06-22T17:20:02.480Z"
   },
   {
    "duration": 24,
    "start_time": "2025-06-22T17:20:04.696Z"
   },
   {
    "duration": 717440,
    "start_time": "2025-06-22T17:20:20.344Z"
   },
   {
    "duration": 0,
    "start_time": "2025-06-22T17:32:17.786Z"
   },
   {
    "duration": 4,
    "start_time": "2025-06-22T17:32:36.842Z"
   },
   {
    "duration": 336,
    "start_time": "2025-06-22T17:32:40.529Z"
   },
   {
    "duration": 4,
    "start_time": "2025-06-22T17:32:47.799Z"
   },
   {
    "duration": 21,
    "start_time": "2025-06-22T17:32:49.335Z"
   },
   {
    "duration": 14,
    "start_time": "2025-06-22T17:34:17.471Z"
   },
   {
    "duration": 3,
    "start_time": "2025-06-22T17:34:48.612Z"
   },
   {
    "duration": 13,
    "start_time": "2025-06-22T17:34:53.039Z"
   },
   {
    "duration": 5,
    "start_time": "2025-06-22T17:35:00.217Z"
   },
   {
    "duration": 24,
    "start_time": "2025-06-22T17:35:04.622Z"
   },
   {
    "duration": 4,
    "start_time": "2025-06-22T17:35:47.107Z"
   },
   {
    "duration": 23,
    "start_time": "2025-06-22T17:35:49.816Z"
   },
   {
    "duration": 3,
    "start_time": "2025-06-22T17:36:27.516Z"
   },
   {
    "duration": 22,
    "start_time": "2025-06-22T17:39:17.646Z"
   },
   {
    "duration": 15,
    "start_time": "2025-06-22T17:39:22.767Z"
   },
   {
    "duration": 13,
    "start_time": "2025-06-22T17:40:03.732Z"
   },
   {
    "duration": 4,
    "start_time": "2025-06-22T17:40:49.812Z"
   },
   {
    "duration": 15,
    "start_time": "2025-06-22T17:40:56.059Z"
   },
   {
    "duration": 15,
    "start_time": "2025-06-22T17:41:39.975Z"
   },
   {
    "duration": 4,
    "start_time": "2025-06-22T17:42:18.375Z"
   },
   {
    "duration": 23,
    "start_time": "2025-06-22T17:42:22.676Z"
   },
   {
    "duration": 4,
    "start_time": "2025-06-22T17:43:43.060Z"
   },
   {
    "duration": 22,
    "start_time": "2025-06-22T17:43:45.018Z"
   },
   {
    "duration": 4,
    "start_time": "2025-06-22T17:43:52.940Z"
   },
   {
    "duration": 3,
    "start_time": "2025-06-22T17:44:12.142Z"
   },
   {
    "duration": 331,
    "start_time": "2025-06-22T17:44:13.678Z"
   },
   {
    "duration": 4,
    "start_time": "2025-06-22T17:44:41.326Z"
   },
   {
    "duration": 4,
    "start_time": "2025-06-22T17:44:41.666Z"
   },
   {
    "duration": 15,
    "start_time": "2025-06-22T17:44:41.940Z"
   },
   {
    "duration": 22,
    "start_time": "2025-06-22T17:44:42.367Z"
   },
   {
    "duration": 3549,
    "start_time": "2025-06-22T17:44:43.578Z"
   },
   {
    "duration": 14,
    "start_time": "2025-06-22T17:45:21.057Z"
   },
   {
    "duration": 16,
    "start_time": "2025-06-22T17:45:30.581Z"
   },
   {
    "duration": 15,
    "start_time": "2025-06-22T17:45:34.063Z"
   },
   {
    "duration": 4,
    "start_time": "2025-06-22T17:46:13.486Z"
   },
   {
    "duration": 23,
    "start_time": "2025-06-22T17:46:15.739Z"
   },
   {
    "duration": 4,
    "start_time": "2025-06-22T17:46:38.882Z"
   },
   {
    "duration": 22,
    "start_time": "2025-06-22T17:46:40.623Z"
   },
   {
    "duration": 3,
    "start_time": "2025-06-22T17:46:57.314Z"
   },
   {
    "duration": 21,
    "start_time": "2025-06-22T17:46:59.590Z"
   },
   {
    "duration": 7776,
    "start_time": "2025-06-22T17:47:44.535Z"
   },
   {
    "duration": 6,
    "start_time": "2025-06-22T17:47:52.313Z"
   },
   {
    "duration": 9,
    "start_time": "2025-06-22T17:47:52.320Z"
   },
   {
    "duration": 920,
    "start_time": "2025-06-22T17:47:52.330Z"
   },
   {
    "duration": 4,
    "start_time": "2025-06-22T17:47:53.252Z"
   },
   {
    "duration": 81,
    "start_time": "2025-06-22T17:47:53.258Z"
   },
   {
    "duration": 16,
    "start_time": "2025-06-22T17:47:53.341Z"
   },
   {
    "duration": 254,
    "start_time": "2025-06-22T17:47:53.358Z"
   },
   {
    "duration": 7,
    "start_time": "2025-06-22T17:47:53.615Z"
   },
   {
    "duration": 237,
    "start_time": "2025-06-22T17:47:53.624Z"
   },
   {
    "duration": 5,
    "start_time": "2025-06-22T17:47:53.862Z"
   },
   {
    "duration": 6,
    "start_time": "2025-06-22T17:47:53.868Z"
   },
   {
    "duration": 543,
    "start_time": "2025-06-22T17:47:53.876Z"
   },
   {
    "duration": 3,
    "start_time": "2025-06-22T17:47:54.422Z"
   },
   {
    "duration": 11,
    "start_time": "2025-06-22T17:47:54.427Z"
   },
   {
    "duration": 27,
    "start_time": "2025-06-22T17:47:54.439Z"
   },
   {
    "duration": 2321460,
    "start_time": "2025-06-22T17:47:54.468Z"
   },
   {
    "duration": 11,
    "start_time": "2025-06-22T18:26:35.930Z"
   },
   {
    "duration": 4,
    "start_time": "2025-06-22T18:27:53.610Z"
   },
   {
    "duration": 23,
    "start_time": "2025-06-22T18:27:56.521Z"
   },
   {
    "duration": 3,
    "start_time": "2025-06-22T18:28:21.836Z"
   },
   {
    "duration": 21,
    "start_time": "2025-06-22T18:28:26.152Z"
   },
   {
    "duration": 4,
    "start_time": "2025-06-22T18:28:39.369Z"
   },
   {
    "duration": 21,
    "start_time": "2025-06-22T18:28:41.519Z"
   },
   {
    "duration": 124,
    "start_time": "2025-06-22T18:29:03.142Z"
   },
   {
    "duration": 3,
    "start_time": "2025-06-22T18:29:13.060Z"
   },
   {
    "duration": 22,
    "start_time": "2025-06-22T18:29:17.016Z"
   },
   {
    "duration": 3,
    "start_time": "2025-06-22T18:29:32.016Z"
   },
   {
    "duration": 19115,
    "start_time": "2025-06-23T04:59:33.461Z"
   },
   {
    "duration": 4960,
    "start_time": "2025-06-23T04:59:52.579Z"
   },
   {
    "duration": 6,
    "start_time": "2025-06-23T04:59:57.541Z"
   },
   {
    "duration": 934,
    "start_time": "2025-06-23T04:59:57.549Z"
   },
   {
    "duration": 3,
    "start_time": "2025-06-23T04:59:58.485Z"
   },
   {
    "duration": 89,
    "start_time": "2025-06-23T04:59:58.490Z"
   },
   {
    "duration": 15,
    "start_time": "2025-06-23T04:59:58.581Z"
   },
   {
    "duration": 264,
    "start_time": "2025-06-23T04:59:58.598Z"
   },
   {
    "duration": 7,
    "start_time": "2025-06-23T04:59:58.864Z"
   },
   {
    "duration": 323,
    "start_time": "2025-06-23T04:59:58.877Z"
   },
   {
    "duration": 335,
    "start_time": "2025-06-23T04:59:59.202Z"
   },
   {
    "duration": 4,
    "start_time": "2025-06-23T04:59:59.539Z"
   },
   {
    "duration": 525,
    "start_time": "2025-06-23T04:59:59.544Z"
   },
   {
    "duration": 4,
    "start_time": "2025-06-23T05:00:00.076Z"
   },
   {
    "duration": 38,
    "start_time": "2025-06-23T05:00:00.082Z"
   },
   {
    "duration": 82,
    "start_time": "2025-06-23T05:00:00.122Z"
   },
   {
    "duration": 3,
    "start_time": "2025-06-23T05:00:17.799Z"
   },
   {
    "duration": 24,
    "start_time": "2025-06-23T05:00:19.232Z"
   },
   {
    "duration": 3,
    "start_time": "2025-06-23T05:00:47.700Z"
   },
   {
    "duration": 22,
    "start_time": "2025-06-23T05:00:50.259Z"
   },
   {
    "duration": 4,
    "start_time": "2025-06-23T05:01:14.389Z"
   },
   {
    "duration": 23,
    "start_time": "2025-06-23T05:01:16.212Z"
   },
   {
    "duration": 3,
    "start_time": "2025-06-23T05:02:14.708Z"
   },
   {
    "duration": 20094,
    "start_time": "2025-06-23T15:06:31.477Z"
   },
   {
    "duration": 5384,
    "start_time": "2025-06-23T15:06:51.580Z"
   },
   {
    "duration": 12,
    "start_time": "2025-06-23T15:06:56.966Z"
   },
   {
    "duration": 935,
    "start_time": "2025-06-23T15:06:56.982Z"
   },
   {
    "duration": 4,
    "start_time": "2025-06-23T15:06:57.918Z"
   },
   {
    "duration": 172,
    "start_time": "2025-06-23T15:06:57.923Z"
   },
   {
    "duration": 14,
    "start_time": "2025-06-23T15:06:58.097Z"
   },
   {
    "duration": 274,
    "start_time": "2025-06-23T15:06:58.113Z"
   },
   {
    "duration": 8,
    "start_time": "2025-06-23T15:06:58.389Z"
   },
   {
    "duration": 291,
    "start_time": "2025-06-23T15:06:58.400Z"
   },
   {
    "duration": 366,
    "start_time": "2025-06-23T15:06:58.695Z"
   },
   {
    "duration": 4,
    "start_time": "2025-06-23T15:06:59.063Z"
   },
   {
    "duration": 582,
    "start_time": "2025-06-23T15:06:59.070Z"
   },
   {
    "duration": 3,
    "start_time": "2025-06-23T15:06:59.654Z"
   },
   {
    "duration": 90,
    "start_time": "2025-06-23T15:06:59.659Z"
   },
   {
    "duration": 35,
    "start_time": "2025-06-23T15:06:59.751Z"
   },
   {
    "duration": 2409436,
    "start_time": "2025-06-23T15:06:59.788Z"
   },
   {
    "duration": 6,
    "start_time": "2025-06-23T15:47:09.227Z"
   },
   {
    "duration": 4,
    "start_time": "2025-06-23T16:04:11.183Z"
   },
   {
    "duration": 48,
    "start_time": "2025-06-23T16:04:15.482Z"
   },
   {
    "duration": 9,
    "start_time": "2025-06-23T16:10:28.534Z"
   },
   {
    "duration": 23,
    "start_time": "2025-06-23T16:11:09.856Z"
   },
   {
    "duration": 6,
    "start_time": "2025-06-23T16:11:12.660Z"
   },
   {
    "duration": 22,
    "start_time": "2025-06-23T16:11:20.381Z"
   },
   {
    "duration": 5,
    "start_time": "2025-06-23T16:11:56.084Z"
   },
   {
    "duration": 5,
    "start_time": "2025-06-23T16:12:09.358Z"
   },
   {
    "duration": 378,
    "start_time": "2025-06-23T16:15:45.149Z"
   },
   {
    "duration": 4,
    "start_time": "2025-06-23T16:16:05.117Z"
   },
   {
    "duration": 5,
    "start_time": "2025-06-23T16:16:10.257Z"
   },
   {
    "duration": 5,
    "start_time": "2025-06-23T16:16:24.164Z"
   },
   {
    "duration": 4,
    "start_time": "2025-06-23T16:17:03.185Z"
   },
   {
    "duration": 22,
    "start_time": "2025-06-23T16:17:33.318Z"
   },
   {
    "duration": 7,
    "start_time": "2025-06-23T16:18:12.004Z"
   },
   {
    "duration": 6,
    "start_time": "2025-06-23T16:18:22.440Z"
   },
   {
    "duration": 3,
    "start_time": "2025-06-23T16:18:32.292Z"
   },
   {
    "duration": 5,
    "start_time": "2025-06-23T16:18:33.714Z"
   },
   {
    "duration": 8207,
    "start_time": "2025-06-23T16:19:57.375Z"
   },
   {
    "duration": 7,
    "start_time": "2025-06-23T16:20:05.585Z"
   },
   {
    "duration": 42,
    "start_time": "2025-06-23T16:20:05.594Z"
   },
   {
    "duration": 988,
    "start_time": "2025-06-23T16:20:05.639Z"
   },
   {
    "duration": 3,
    "start_time": "2025-06-23T16:20:06.629Z"
   },
   {
    "duration": 100,
    "start_time": "2025-06-23T16:20:06.634Z"
   },
   {
    "duration": 28,
    "start_time": "2025-06-23T16:20:06.735Z"
   },
   {
    "duration": 256,
    "start_time": "2025-06-23T16:20:06.765Z"
   },
   {
    "duration": 7,
    "start_time": "2025-06-23T16:20:07.023Z"
   },
   {
    "duration": 259,
    "start_time": "2025-06-23T16:20:07.033Z"
   },
   {
    "duration": 174,
    "start_time": "2025-06-23T16:20:07.294Z"
   },
   {
    "duration": 11,
    "start_time": "2025-06-23T16:20:07.470Z"
   },
   {
    "duration": 688,
    "start_time": "2025-06-23T16:20:07.483Z"
   },
   {
    "duration": 6,
    "start_time": "2025-06-23T16:20:08.183Z"
   },
   {
    "duration": 46,
    "start_time": "2025-06-23T16:20:08.191Z"
   },
   {
    "duration": 2337306,
    "start_time": "2025-06-23T16:20:08.239Z"
   },
   {
    "duration": 0,
    "start_time": "2025-06-23T16:59:05.547Z"
   },
   {
    "duration": 402,
    "start_time": "2025-06-23T16:59:46.979Z"
   },
   {
    "duration": 4,
    "start_time": "2025-06-23T16:59:54.762Z"
   },
   {
    "duration": 399,
    "start_time": "2025-06-23T16:59:54.864Z"
   },
   {
    "duration": 395,
    "start_time": "2025-06-23T17:02:12.798Z"
   },
   {
    "duration": 3,
    "start_time": "2025-06-23T17:02:15.051Z"
   },
   {
    "duration": 531,
    "start_time": "2025-06-23T17:02:15.665Z"
   },
   {
    "duration": 4,
    "start_time": "2025-06-23T17:02:36.560Z"
   },
   {
    "duration": 23,
    "start_time": "2025-06-23T17:02:37.988Z"
   },
   {
    "duration": 4,
    "start_time": "2025-06-23T17:03:12.600Z"
   },
   {
    "duration": 35,
    "start_time": "2025-06-23T17:03:13.129Z"
   },
   {
    "duration": 4,
    "start_time": "2025-06-23T17:03:26.769Z"
   },
   {
    "duration": 4,
    "start_time": "2025-06-23T17:03:27.447Z"
   },
   {
    "duration": 31,
    "start_time": "2025-06-23T17:03:28.984Z"
   },
   {
    "duration": 5,
    "start_time": "2025-06-23T17:03:32.260Z"
   },
   {
    "duration": 4,
    "start_time": "2025-06-23T17:03:33.285Z"
   },
   {
    "duration": 29,
    "start_time": "2025-06-23T17:03:33.899Z"
   },
   {
    "duration": 404,
    "start_time": "2025-06-23T17:03:46.391Z"
   },
   {
    "duration": 4,
    "start_time": "2025-06-23T17:03:47.968Z"
   },
   {
    "duration": 384,
    "start_time": "2025-06-23T17:03:48.446Z"
   },
   {
    "duration": 4,
    "start_time": "2025-06-23T17:03:50.411Z"
   },
   {
    "duration": 24,
    "start_time": "2025-06-23T17:03:51.511Z"
   },
   {
    "duration": 19,
    "start_time": "2025-06-23T17:04:17.215Z"
   },
   {
    "duration": 3,
    "start_time": "2025-06-23T17:04:21.617Z"
   },
   {
    "duration": 5,
    "start_time": "2025-06-23T17:04:22.436Z"
   },
   {
    "duration": 8121,
    "start_time": "2025-06-23T17:05:07.338Z"
   },
   {
    "duration": 4965,
    "start_time": "2025-06-23T17:05:15.461Z"
   },
   {
    "duration": 6,
    "start_time": "2025-06-23T17:05:20.427Z"
   },
   {
    "duration": 986,
    "start_time": "2025-06-23T17:05:20.435Z"
   },
   {
    "duration": 3,
    "start_time": "2025-06-23T17:05:21.423Z"
   },
   {
    "duration": 90,
    "start_time": "2025-06-23T17:05:21.428Z"
   },
   {
    "duration": 15,
    "start_time": "2025-06-23T17:05:21.519Z"
   },
   {
    "duration": 253,
    "start_time": "2025-06-23T17:05:21.536Z"
   },
   {
    "duration": 7,
    "start_time": "2025-06-23T17:05:21.791Z"
   },
   {
    "duration": 186,
    "start_time": "2025-06-23T17:05:21.800Z"
   },
   {
    "duration": 176,
    "start_time": "2025-06-23T17:05:21.989Z"
   },
   {
    "duration": 4,
    "start_time": "2025-06-23T17:05:22.166Z"
   },
   {
    "duration": 595,
    "start_time": "2025-06-23T17:05:22.172Z"
   },
   {
    "duration": 6,
    "start_time": "2025-06-23T17:05:22.772Z"
   },
   {
    "duration": 86,
    "start_time": "2025-06-23T17:05:22.780Z"
   },
   {
    "duration": 2381269,
    "start_time": "2025-06-23T17:05:22.868Z"
   },
   {
    "duration": 6,
    "start_time": "2025-06-23T17:45:04.139Z"
   },
   {
    "duration": 17,
    "start_time": "2025-06-23T17:45:04.147Z"
   },
   {
    "duration": 671,
    "start_time": "2025-06-23T17:45:04.166Z"
   },
   {
    "duration": 376,
    "start_time": "2025-06-23T17:45:04.839Z"
   },
   {
    "duration": 0,
    "start_time": "2025-06-23T17:45:05.217Z"
   },
   {
    "duration": 1,
    "start_time": "2025-06-23T17:45:05.218Z"
   },
   {
    "duration": 0,
    "start_time": "2025-06-23T17:45:05.220Z"
   },
   {
    "duration": 0,
    "start_time": "2025-06-23T17:45:05.221Z"
   },
   {
    "duration": 0,
    "start_time": "2025-06-23T17:45:05.222Z"
   },
   {
    "duration": 0,
    "start_time": "2025-06-23T17:45:05.223Z"
   },
   {
    "duration": 0,
    "start_time": "2025-06-23T17:45:05.224Z"
   },
   {
    "duration": 0,
    "start_time": "2025-06-23T17:45:05.225Z"
   },
   {
    "duration": 0,
    "start_time": "2025-06-23T17:45:05.226Z"
   },
   {
    "duration": 0,
    "start_time": "2025-06-23T17:45:05.227Z"
   },
   {
    "duration": 0,
    "start_time": "2025-06-23T17:45:05.228Z"
   },
   {
    "duration": 0,
    "start_time": "2025-06-23T17:45:05.229Z"
   },
   {
    "duration": 0,
    "start_time": "2025-06-23T17:45:05.231Z"
   },
   {
    "duration": 0,
    "start_time": "2025-06-23T17:45:05.232Z"
   },
   {
    "duration": 0,
    "start_time": "2025-06-23T17:45:05.233Z"
   },
   {
    "duration": 0,
    "start_time": "2025-06-23T17:45:05.234Z"
   },
   {
    "duration": 0,
    "start_time": "2025-06-23T17:45:05.235Z"
   },
   {
    "duration": 0,
    "start_time": "2025-06-23T17:45:05.236Z"
   },
   {
    "duration": 0,
    "start_time": "2025-06-23T17:45:05.237Z"
   },
   {
    "duration": 0,
    "start_time": "2025-06-23T17:45:05.270Z"
   },
   {
    "duration": 0,
    "start_time": "2025-06-23T17:45:05.271Z"
   },
   {
    "duration": 0,
    "start_time": "2025-06-23T17:45:05.278Z"
   },
   {
    "duration": 0,
    "start_time": "2025-06-23T17:45:05.279Z"
   },
   {
    "duration": 0,
    "start_time": "2025-06-23T17:45:05.280Z"
   },
   {
    "duration": 0,
    "start_time": "2025-06-23T17:45:05.281Z"
   },
   {
    "duration": 0,
    "start_time": "2025-06-23T17:45:05.284Z"
   },
   {
    "duration": 0,
    "start_time": "2025-06-23T17:45:05.285Z"
   },
   {
    "duration": 0,
    "start_time": "2025-06-23T17:45:05.286Z"
   },
   {
    "duration": 0,
    "start_time": "2025-06-23T17:45:05.286Z"
   },
   {
    "duration": 5,
    "start_time": "2025-06-23T17:51:20.296Z"
   },
   {
    "duration": 21,
    "start_time": "2025-06-23T17:51:21.935Z"
   },
   {
    "duration": 46,
    "start_time": "2025-06-23T17:51:44.872Z"
   },
   {
    "duration": 2,
    "start_time": "2025-06-23T17:52:55.119Z"
   },
   {
    "duration": 44,
    "start_time": "2025-06-23T17:52:57.990Z"
   },
   {
    "duration": 188785,
    "start_time": "2025-06-23T17:53:07.515Z"
   },
   {
    "duration": 47,
    "start_time": "2025-06-23T17:56:16.302Z"
   },
   {
    "duration": 48,
    "start_time": "2025-06-23T17:56:44.395Z"
   },
   {
    "duration": 10,
    "start_time": "2025-06-23T17:56:59.636Z"
   },
   {
    "duration": 10,
    "start_time": "2025-06-23T17:57:20.643Z"
   },
   {
    "duration": 36,
    "start_time": "2025-06-23T18:00:04.101Z"
   },
   {
    "duration": 6,
    "start_time": "2025-06-23T18:01:23.332Z"
   },
   {
    "duration": 4,
    "start_time": "2025-06-23T18:02:39.314Z"
   },
   {
    "duration": 25,
    "start_time": "2025-06-23T18:02:43.205Z"
   },
   {
    "duration": 4,
    "start_time": "2025-06-23T18:03:26.520Z"
   },
   {
    "duration": 24,
    "start_time": "2025-06-23T18:03:26.824Z"
   },
   {
    "duration": 4,
    "start_time": "2025-06-23T18:04:05.842Z"
   },
   {
    "duration": 5,
    "start_time": "2025-06-23T18:04:12.191Z"
   },
   {
    "duration": 4,
    "start_time": "2025-06-23T18:04:46.393Z"
   },
   {
    "duration": 4,
    "start_time": "2025-06-23T18:04:50.399Z"
   },
   {
    "duration": 4,
    "start_time": "2025-06-23T18:04:52.037Z"
   },
   {
    "duration": 9,
    "start_time": "2025-06-23T18:04:54.178Z"
   },
   {
    "duration": 87,
    "start_time": "2025-06-23T18:05:16.943Z"
   },
   {
    "duration": 6,
    "start_time": "2025-06-23T18:05:22.468Z"
   },
   {
    "duration": 8,
    "start_time": "2025-06-23T18:05:40.972Z"
   },
   {
    "duration": 6,
    "start_time": "2025-06-23T18:05:49.369Z"
   },
   {
    "duration": 4,
    "start_time": "2025-06-23T18:05:55.543Z"
   },
   {
    "duration": 28,
    "start_time": "2025-06-23T18:06:24.186Z"
   },
   {
    "duration": 24,
    "start_time": "2025-06-23T18:06:32.684Z"
   },
   {
    "duration": 34,
    "start_time": "2025-06-23T18:07:47.949Z"
   },
   {
    "duration": 14,
    "start_time": "2025-06-23T18:08:40.041Z"
   },
   {
    "duration": 19,
    "start_time": "2025-06-23T18:08:46.433Z"
   },
   {
    "duration": 13,
    "start_time": "2025-06-23T18:08:51.130Z"
   },
   {
    "duration": 5,
    "start_time": "2025-06-23T18:09:10.284Z"
   },
   {
    "duration": 4,
    "start_time": "2025-06-23T18:09:35.284Z"
   },
   {
    "duration": 28,
    "start_time": "2025-06-23T18:09:43.560Z"
   },
   {
    "duration": 23,
    "start_time": "2025-06-23T18:10:21.038Z"
   },
   {
    "duration": 3,
    "start_time": "2025-06-23T18:10:26.278Z"
   },
   {
    "duration": 23,
    "start_time": "2025-06-23T18:10:26.704Z"
   },
   {
    "duration": 13,
    "start_time": "2025-06-23T18:10:40.289Z"
   },
   {
    "duration": 4,
    "start_time": "2025-06-23T18:10:47.384Z"
   },
   {
    "duration": 22,
    "start_time": "2025-06-23T18:11:05.071Z"
   },
   {
    "duration": 23,
    "start_time": "2025-06-23T18:11:10.630Z"
   },
   {
    "duration": 16,
    "start_time": "2025-06-23T18:11:45.581Z"
   },
   {
    "duration": 4,
    "start_time": "2025-06-23T18:11:48.591Z"
   },
   {
    "duration": 5,
    "start_time": "2025-06-23T18:12:22.075Z"
   },
   {
    "duration": 35,
    "start_time": "2025-06-23T18:12:59.041Z"
   },
   {
    "duration": 4,
    "start_time": "2025-06-23T18:13:49.116Z"
   },
   {
    "duration": 25,
    "start_time": "2025-06-23T18:14:16.559Z"
   },
   {
    "duration": 5,
    "start_time": "2025-06-23T18:14:24.244Z"
   },
   {
    "duration": 2,
    "start_time": "2025-06-23T18:14:25.365Z"
   },
   {
    "duration": 23,
    "start_time": "2025-06-23T18:14:25.802Z"
   },
   {
    "duration": 4,
    "start_time": "2025-06-23T18:14:40.944Z"
   },
   {
    "duration": 28,
    "start_time": "2025-06-23T18:14:54.152Z"
   },
   {
    "duration": 38,
    "start_time": "2025-06-23T18:15:52.918Z"
   },
   {
    "duration": 15,
    "start_time": "2025-06-23T18:16:18.649Z"
   },
   {
    "duration": 28,
    "start_time": "2025-06-23T18:16:24.151Z"
   },
   {
    "duration": 20,
    "start_time": "2025-06-23T18:20:01.393Z"
   },
   {
    "duration": 21,
    "start_time": "2025-06-23T18:20:12.708Z"
   },
   {
    "duration": 20,
    "start_time": "2025-06-23T18:20:52.747Z"
   },
   {
    "duration": 4,
    "start_time": "2025-06-23T18:21:35.857Z"
   },
   {
    "duration": 4,
    "start_time": "2025-06-23T18:21:49.886Z"
   },
   {
    "duration": 4,
    "start_time": "2025-06-23T18:22:30.847Z"
   },
   {
    "duration": 5,
    "start_time": "2025-06-23T18:22:36.478Z"
   },
   {
    "duration": 4,
    "start_time": "2025-06-23T18:22:46.518Z"
   },
   {
    "duration": 96,
    "start_time": "2025-06-23T18:25:09.977Z"
   },
   {
    "duration": 4,
    "start_time": "2025-06-23T18:32:30.095Z"
   },
   {
    "duration": 17,
    "start_time": "2025-06-23T18:32:37.569Z"
   },
   {
    "duration": 3,
    "start_time": "2025-06-23T18:32:52.827Z"
   },
   {
    "duration": 121,
    "start_time": "2025-06-23T18:33:35.540Z"
   },
   {
    "duration": 87,
    "start_time": "2025-06-23T18:33:50.274Z"
   },
   {
    "duration": 94,
    "start_time": "2025-06-23T18:33:54.785Z"
   },
   {
    "duration": 84,
    "start_time": "2025-06-23T18:34:03.893Z"
   },
   {
    "duration": 154,
    "start_time": "2025-06-23T18:34:09.147Z"
   },
   {
    "duration": 119,
    "start_time": "2025-06-23T18:34:11.983Z"
   },
   {
    "duration": 29,
    "start_time": "2025-06-23T18:34:29.493Z"
   },
   {
    "duration": 12,
    "start_time": "2025-06-23T18:34:38.812Z"
   },
   {
    "duration": 13,
    "start_time": "2025-06-23T18:34:49.885Z"
   },
   {
    "duration": 35,
    "start_time": "2025-06-23T18:35:19.164Z"
   },
   {
    "duration": 13,
    "start_time": "2025-06-23T18:35:30.217Z"
   },
   {
    "duration": 14,
    "start_time": "2025-06-23T18:39:19.091Z"
   },
   {
    "duration": 14,
    "start_time": "2025-06-23T18:39:22.117Z"
   },
   {
    "duration": 13,
    "start_time": "2025-06-23T18:39:31.330Z"
   },
   {
    "duration": 3,
    "start_time": "2025-06-23T18:39:39.074Z"
   },
   {
    "duration": 25,
    "start_time": "2025-06-23T18:39:40.813Z"
   },
   {
    "duration": 4,
    "start_time": "2025-06-23T18:39:43.934Z"
   },
   {
    "duration": 4,
    "start_time": "2025-06-23T18:39:45.255Z"
   },
   {
    "duration": 5,
    "start_time": "2025-06-23T18:39:50.003Z"
   },
   {
    "duration": 3,
    "start_time": "2025-06-23T18:39:55.823Z"
   },
   {
    "duration": 14,
    "start_time": "2025-06-23T18:39:57.605Z"
   },
   {
    "duration": 14,
    "start_time": "2025-06-23T18:40:02.326Z"
   },
   {
    "duration": 3,
    "start_time": "2025-06-23T18:41:39.789Z"
   },
   {
    "duration": 23,
    "start_time": "2025-06-23T18:41:42.262Z"
   },
   {
    "duration": 5,
    "start_time": "2025-06-23T18:44:52.614Z"
   },
   {
    "duration": 5,
    "start_time": "2025-06-23T18:45:24.278Z"
   },
   {
    "duration": 5,
    "start_time": "2025-06-23T18:45:41.875Z"
   },
   {
    "duration": 7584,
    "start_time": "2025-06-23T18:47:09.195Z"
   },
   {
    "duration": 4883,
    "start_time": "2025-06-23T18:47:16.782Z"
   },
   {
    "duration": 6,
    "start_time": "2025-06-23T18:47:21.667Z"
   },
   {
    "duration": 975,
    "start_time": "2025-06-23T18:47:21.674Z"
   },
   {
    "duration": 3,
    "start_time": "2025-06-23T18:47:22.652Z"
   },
   {
    "duration": 62,
    "start_time": "2025-06-23T18:47:22.656Z"
   },
   {
    "duration": 42,
    "start_time": "2025-06-23T18:47:22.720Z"
   },
   {
    "duration": 257,
    "start_time": "2025-06-23T18:47:22.764Z"
   },
   {
    "duration": 7,
    "start_time": "2025-06-23T18:47:23.022Z"
   },
   {
    "duration": 166,
    "start_time": "2025-06-23T18:47:23.030Z"
   },
   {
    "duration": 240,
    "start_time": "2025-06-23T18:47:23.197Z"
   },
   {
    "duration": 4,
    "start_time": "2025-06-23T18:47:23.439Z"
   },
   {
    "duration": 539,
    "start_time": "2025-06-23T18:47:23.444Z"
   },
   {
    "duration": 4,
    "start_time": "2025-06-23T18:47:23.986Z"
   },
   {
    "duration": 49,
    "start_time": "2025-06-23T18:47:23.992Z"
   },
   {
    "duration": 2247605,
    "start_time": "2025-06-23T18:47:24.043Z"
   },
   {
    "duration": 5,
    "start_time": "2025-06-23T19:24:51.650Z"
   },
   {
    "duration": 15,
    "start_time": "2025-06-23T19:24:51.657Z"
   },
   {
    "duration": 357,
    "start_time": "2025-06-23T19:24:51.674Z"
   },
   {
    "duration": 45,
    "start_time": "2025-06-23T19:24:52.033Z"
   },
   {
    "duration": 25,
    "start_time": "2025-06-23T19:24:52.080Z"
   },
   {
    "duration": 31,
    "start_time": "2025-06-23T19:24:52.107Z"
   },
   {
    "duration": 3,
    "start_time": "2025-06-23T19:24:52.140Z"
   },
   {
    "duration": 144871,
    "start_time": "2025-06-23T19:24:52.144Z"
   },
   {
    "duration": 3048446,
    "start_time": "2025-06-23T19:27:17.017Z"
   },
   {
    "duration": 0,
    "start_time": "2025-06-23T20:18:05.465Z"
   },
   {
    "duration": 0,
    "start_time": "2025-06-23T20:18:05.472Z"
   },
   {
    "duration": 0,
    "start_time": "2025-06-23T20:18:05.474Z"
   },
   {
    "duration": 0,
    "start_time": "2025-06-23T20:18:05.475Z"
   },
   {
    "duration": 0,
    "start_time": "2025-06-23T20:18:05.477Z"
   },
   {
    "duration": 0,
    "start_time": "2025-06-23T20:18:05.478Z"
   },
   {
    "duration": 0,
    "start_time": "2025-06-23T20:18:05.480Z"
   },
   {
    "duration": 0,
    "start_time": "2025-06-23T20:18:05.481Z"
   },
   {
    "duration": 0,
    "start_time": "2025-06-23T20:18:05.483Z"
   },
   {
    "duration": 0,
    "start_time": "2025-06-23T20:18:05.484Z"
   },
   {
    "duration": 0,
    "start_time": "2025-06-23T20:18:05.486Z"
   },
   {
    "duration": 0,
    "start_time": "2025-06-23T20:18:05.488Z"
   },
   {
    "duration": 0,
    "start_time": "2025-06-23T20:18:05.490Z"
   },
   {
    "duration": 0,
    "start_time": "2025-06-23T20:18:05.492Z"
   },
   {
    "duration": 0,
    "start_time": "2025-06-23T20:18:05.493Z"
   },
   {
    "duration": 0,
    "start_time": "2025-06-23T20:18:05.495Z"
   },
   {
    "duration": 0,
    "start_time": "2025-06-23T20:18:05.496Z"
   },
   {
    "duration": 0,
    "start_time": "2025-06-23T20:18:05.498Z"
   },
   {
    "duration": 0,
    "start_time": "2025-06-23T20:18:05.499Z"
   },
   {
    "duration": 3,
    "start_time": "2025-06-23T20:18:15.243Z"
   },
   {
    "duration": 3,
    "start_time": "2025-06-23T20:18:16.369Z"
   },
   {
    "duration": 200,
    "start_time": "2025-06-23T20:18:43.198Z"
   },
   {
    "duration": 22,
    "start_time": "2025-06-23T20:18:52.311Z"
   },
   {
    "duration": 26,
    "start_time": "2025-06-23T20:19:19.039Z"
   },
   {
    "duration": 23,
    "start_time": "2025-06-23T20:19:24.568Z"
   },
   {
    "duration": 6,
    "start_time": "2025-06-23T20:19:36.243Z"
   },
   {
    "duration": 5,
    "start_time": "2025-06-23T20:20:07.989Z"
   },
   {
    "duration": 3,
    "start_time": "2025-06-23T20:20:16.684Z"
   },
   {
    "duration": 3,
    "start_time": "2025-06-23T20:20:23.340Z"
   },
   {
    "duration": 3,
    "start_time": "2025-06-23T20:20:31.336Z"
   },
   {
    "duration": 4,
    "start_time": "2025-06-23T20:20:43.308Z"
   },
   {
    "duration": 3,
    "start_time": "2025-06-23T20:20:44.025Z"
   },
   {
    "duration": 4,
    "start_time": "2025-06-23T20:20:54.491Z"
   },
   {
    "duration": 3,
    "start_time": "2025-06-23T20:20:55.085Z"
   },
   {
    "duration": 3,
    "start_time": "2025-06-23T20:22:11.388Z"
   },
   {
    "duration": 4,
    "start_time": "2025-06-23T20:22:12.601Z"
   },
   {
    "duration": 4,
    "start_time": "2025-06-23T20:22:15.367Z"
   },
   {
    "duration": 3,
    "start_time": "2025-06-23T20:22:15.878Z"
   },
   {
    "duration": 20,
    "start_time": "2025-06-23T20:22:23.457Z"
   },
   {
    "duration": 3,
    "start_time": "2025-06-23T20:22:24.275Z"
   },
   {
    "duration": 21,
    "start_time": "2025-06-23T20:22:29.703Z"
   },
   {
    "duration": 4,
    "start_time": "2025-06-23T20:22:44.653Z"
   },
   {
    "duration": 6,
    "start_time": "2025-06-23T20:22:56.737Z"
   },
   {
    "duration": 4,
    "start_time": "2025-06-23T20:23:13.427Z"
   },
   {
    "duration": 3,
    "start_time": "2025-06-23T20:23:23.566Z"
   },
   {
    "duration": 21,
    "start_time": "2025-06-23T20:24:02.171Z"
   },
   {
    "duration": 23,
    "start_time": "2025-06-23T20:24:08.417Z"
   },
   {
    "duration": 22,
    "start_time": "2025-06-23T20:24:59.412Z"
   },
   {
    "duration": 4,
    "start_time": "2025-06-23T20:25:09.222Z"
   },
   {
    "duration": 2,
    "start_time": "2025-06-23T20:25:12.111Z"
   },
   {
    "duration": 21,
    "start_time": "2025-06-23T20:25:29.313Z"
   },
   {
    "duration": 3,
    "start_time": "2025-06-23T20:25:36.482Z"
   },
   {
    "duration": 21,
    "start_time": "2025-06-23T20:25:59.228Z"
   },
   {
    "duration": 8,
    "start_time": "2025-06-23T20:26:08.309Z"
   },
   {
    "duration": 3,
    "start_time": "2025-06-23T20:26:17.033Z"
   },
   {
    "duration": 4,
    "start_time": "2025-06-23T20:26:27.067Z"
   },
   {
    "duration": 4,
    "start_time": "2025-06-23T20:26:29.021Z"
   },
   {
    "duration": 6,
    "start_time": "2025-06-23T20:27:29.327Z"
   },
   {
    "duration": 3,
    "start_time": "2025-06-23T20:27:40.387Z"
   },
   {
    "duration": 5,
    "start_time": "2025-06-23T20:27:47.862Z"
   },
   {
    "duration": 4,
    "start_time": "2025-06-23T20:28:00.368Z"
   },
   {
    "duration": 6,
    "start_time": "2025-06-23T20:28:10.697Z"
   },
   {
    "duration": 4,
    "start_time": "2025-06-23T20:30:58.134Z"
   },
   {
    "duration": 4,
    "start_time": "2025-06-23T20:31:16.226Z"
   },
   {
    "duration": 20,
    "start_time": "2025-06-23T20:31:24.951Z"
   },
   {
    "duration": 21,
    "start_time": "2025-06-23T20:31:29.149Z"
   },
   {
    "duration": 4,
    "start_time": "2025-06-23T20:31:44.919Z"
   },
   {
    "duration": 1464,
    "start_time": "2025-06-23T20:34:02.955Z"
   },
   {
    "duration": 3,
    "start_time": "2025-06-23T20:34:14.219Z"
   },
   {
    "duration": 163941,
    "start_time": "2025-06-23T20:34:14.936Z"
   },
   {
    "duration": 150092,
    "start_time": "2025-06-23T20:39:26.848Z"
   },
   {
    "duration": 826719,
    "start_time": "2025-06-23T20:42:42.843Z"
   },
   {
    "duration": 3,
    "start_time": "2025-06-23T20:59:22.067Z"
   },
   {
    "duration": 8612,
    "start_time": "2025-06-23T20:59:25.139Z"
   },
   {
    "duration": 3,
    "start_time": "2025-06-23T20:59:52.998Z"
   },
   {
    "duration": 8400,
    "start_time": "2025-06-23T20:59:53.503Z"
   },
   {
    "duration": 2,
    "start_time": "2025-06-23T21:02:38.061Z"
   },
   {
    "duration": 3,
    "start_time": "2025-06-23T21:02:51.987Z"
   },
   {
    "duration": 3,
    "start_time": "2025-06-23T21:02:56.902Z"
   },
   {
    "duration": 10010,
    "start_time": "2025-06-23T21:03:00.454Z"
   },
   {
    "duration": 79,
    "start_time": "2025-06-23T21:23:22.333Z"
   },
   {
    "duration": 10,
    "start_time": "2025-06-23T21:23:27.965Z"
   },
   {
    "duration": 5,
    "start_time": "2025-06-23T21:23:41.994Z"
   },
   {
    "duration": 42,
    "start_time": "2025-06-23T21:23:44.760Z"
   },
   {
    "duration": 22,
    "start_time": "2025-06-23T21:24:10.051Z"
   },
   {
    "duration": 2,
    "start_time": "2025-06-23T21:24:15.275Z"
   },
   {
    "duration": 43,
    "start_time": "2025-06-23T21:24:17.228Z"
   },
   {
    "duration": 3,
    "start_time": "2025-06-23T21:24:51.423Z"
   },
   {
    "duration": 62768,
    "start_time": "2025-06-23T21:24:51.947Z"
   },
   {
    "duration": 6,
    "start_time": "2025-06-23T21:29:27.422Z"
   },
   {
    "duration": 3,
    "start_time": "2025-06-23T21:29:28.619Z"
   },
   {
    "duration": 3,
    "start_time": "2025-06-23T21:29:29.336Z"
   },
   {
    "duration": 213,
    "start_time": "2025-06-23T21:29:30.063Z"
   },
   {
    "duration": 6,
    "start_time": "2025-06-23T21:30:21.187Z"
   },
   {
    "duration": 178,
    "start_time": "2025-06-23T21:30:23.311Z"
   },
   {
    "duration": 6,
    "start_time": "2025-06-23T21:31:13.064Z"
   },
   {
    "duration": 8125,
    "start_time": "2025-06-23T21:36:08.804Z"
   },
   {
    "duration": 5657,
    "start_time": "2025-06-23T21:36:16.931Z"
   },
   {
    "duration": 6,
    "start_time": "2025-06-23T21:36:22.590Z"
   },
   {
    "duration": 899,
    "start_time": "2025-06-23T21:36:22.597Z"
   },
   {
    "duration": 3,
    "start_time": "2025-06-23T21:36:23.499Z"
   },
   {
    "duration": 74,
    "start_time": "2025-06-23T21:36:23.504Z"
   },
   {
    "duration": 28,
    "start_time": "2025-06-23T21:36:23.580Z"
   },
   {
    "duration": 227,
    "start_time": "2025-06-23T21:36:23.609Z"
   },
   {
    "duration": 6,
    "start_time": "2025-06-23T21:36:23.838Z"
   },
   {
    "duration": 229,
    "start_time": "2025-06-23T21:36:23.845Z"
   },
   {
    "duration": 225,
    "start_time": "2025-06-23T21:36:24.075Z"
   },
   {
    "duration": 4,
    "start_time": "2025-06-23T21:36:24.302Z"
   },
   {
    "duration": 4,
    "start_time": "2025-06-23T21:36:24.307Z"
   },
   {
    "duration": 17,
    "start_time": "2025-06-23T21:36:24.314Z"
   },
   {
    "duration": 553,
    "start_time": "2025-06-23T21:36:24.333Z"
   },
   {
    "duration": 3,
    "start_time": "2025-06-23T21:36:24.888Z"
   },
   {
    "duration": 102,
    "start_time": "2025-06-23T21:36:24.893Z"
   },
   {
    "duration": 2231102,
    "start_time": "2025-06-23T21:36:24.996Z"
   },
   {
    "duration": 6,
    "start_time": "2025-06-23T22:13:36.100Z"
   },
   {
    "duration": 11,
    "start_time": "2025-06-23T22:13:36.108Z"
   },
   {
    "duration": 403,
    "start_time": "2025-06-23T22:13:36.120Z"
   },
   {
    "duration": 47,
    "start_time": "2025-06-23T22:13:36.525Z"
   },
   {
    "duration": 28,
    "start_time": "2025-06-23T22:13:36.574Z"
   },
   {
    "duration": 35,
    "start_time": "2025-06-23T22:13:36.603Z"
   },
   {
    "duration": 3,
    "start_time": "2025-06-23T22:13:36.639Z"
   },
   {
    "duration": 144483,
    "start_time": "2025-06-23T22:13:36.644Z"
   },
   {
    "duration": 82,
    "start_time": "2025-06-23T22:16:01.128Z"
   },
   {
    "duration": 5,
    "start_time": "2025-06-23T22:16:01.212Z"
   },
   {
    "duration": 63608,
    "start_time": "2025-06-23T22:16:01.219Z"
   },
   {
    "duration": 4,
    "start_time": "2025-06-23T22:17:42.877Z"
   },
   {
    "duration": 3,
    "start_time": "2025-06-23T22:17:46.652Z"
   },
   {
    "duration": 5,
    "start_time": "2025-06-23T22:17:49.123Z"
   },
   {
    "duration": 17514,
    "start_time": "2025-06-23T22:17:50.446Z"
   },
   {
    "duration": 3,
    "start_time": "2025-06-23T22:18:35.104Z"
   },
   {
    "duration": 3,
    "start_time": "2025-06-23T22:18:49.424Z"
   },
   {
    "duration": 4,
    "start_time": "2025-06-23T22:18:51.272Z"
   },
   {
    "duration": 1517381,
    "start_time": "2025-06-23T22:18:52.918Z"
   },
   {
    "duration": 7,
    "start_time": "2025-06-23T22:44:22.770Z"
   },
   {
    "duration": 4,
    "start_time": "2025-06-23T22:44:25.953Z"
   },
   {
    "duration": 5,
    "start_time": "2025-06-23T22:46:16.537Z"
   },
   {
    "duration": 20061,
    "start_time": "2025-06-24T05:21:51.490Z"
   },
   {
    "duration": 5078,
    "start_time": "2025-06-24T05:22:11.554Z"
   },
   {
    "duration": 6,
    "start_time": "2025-06-24T05:22:16.634Z"
   },
   {
    "duration": 997,
    "start_time": "2025-06-24T05:22:16.642Z"
   },
   {
    "duration": 4,
    "start_time": "2025-06-24T05:22:17.641Z"
   },
   {
    "duration": 93,
    "start_time": "2025-06-24T05:22:17.647Z"
   },
   {
    "duration": 15,
    "start_time": "2025-06-24T05:22:17.742Z"
   },
   {
    "duration": 233,
    "start_time": "2025-06-24T05:22:17.759Z"
   },
   {
    "duration": 8,
    "start_time": "2025-06-24T05:22:17.994Z"
   },
   {
    "duration": 278,
    "start_time": "2025-06-24T05:22:18.006Z"
   },
   {
    "duration": 284,
    "start_time": "2025-06-24T05:22:18.286Z"
   },
   {
    "duration": 4,
    "start_time": "2025-06-24T05:22:18.571Z"
   },
   {
    "duration": 5,
    "start_time": "2025-06-24T05:22:18.576Z"
   },
   {
    "duration": 6,
    "start_time": "2025-06-24T05:22:18.582Z"
   },
   {
    "duration": 558,
    "start_time": "2025-06-24T05:22:18.589Z"
   },
   {
    "duration": 11,
    "start_time": "2025-06-24T05:22:19.149Z"
   },
   {
    "duration": 39,
    "start_time": "2025-06-24T05:22:19.162Z"
   },
   {
    "duration": 2389140,
    "start_time": "2025-06-24T05:22:19.203Z"
   },
   {
    "duration": 6,
    "start_time": "2025-06-24T06:02:08.344Z"
   },
   {
    "duration": 9,
    "start_time": "2025-06-24T06:02:08.352Z"
   },
   {
    "duration": 399,
    "start_time": "2025-06-24T06:02:08.363Z"
   },
   {
    "duration": 35,
    "start_time": "2025-06-24T06:02:08.764Z"
   },
   {
    "duration": 24,
    "start_time": "2025-06-24T06:02:08.801Z"
   },
   {
    "duration": 57,
    "start_time": "2025-06-24T06:02:08.827Z"
   },
   {
    "duration": 3,
    "start_time": "2025-06-24T06:02:08.886Z"
   },
   {
    "duration": 159428,
    "start_time": "2025-06-24T06:02:08.891Z"
   },
   {
    "duration": 88,
    "start_time": "2025-06-24T06:04:48.321Z"
   },
   {
    "duration": 3,
    "start_time": "2025-06-24T06:04:48.412Z"
   },
   {
    "duration": 5,
    "start_time": "2025-06-24T06:04:48.417Z"
   },
   {
    "duration": 70,
    "start_time": "2025-06-24T14:56:05.016Z"
   },
   {
    "duration": 51,
    "start_time": "2025-06-24T15:53:19.728Z"
   },
   {
    "duration": 19993,
    "start_time": "2025-06-24T15:53:37.751Z"
   },
   {
    "duration": 4756,
    "start_time": "2025-06-24T15:53:57.747Z"
   },
   {
    "duration": 6,
    "start_time": "2025-06-24T15:54:02.504Z"
   },
   {
    "duration": 879,
    "start_time": "2025-06-24T15:54:02.512Z"
   },
   {
    "duration": 2,
    "start_time": "2025-06-24T15:54:03.393Z"
   },
   {
    "duration": 67,
    "start_time": "2025-06-24T15:54:03.397Z"
   },
   {
    "duration": 14,
    "start_time": "2025-06-24T15:54:03.465Z"
   },
   {
    "duration": 231,
    "start_time": "2025-06-24T15:54:03.480Z"
   },
   {
    "duration": 6,
    "start_time": "2025-06-24T15:54:03.713Z"
   },
   {
    "duration": 258,
    "start_time": "2025-06-24T15:54:03.720Z"
   },
   {
    "duration": 258,
    "start_time": "2025-06-24T15:54:03.980Z"
   },
   {
    "duration": 4,
    "start_time": "2025-06-24T15:54:04.239Z"
   },
   {
    "duration": 12,
    "start_time": "2025-06-24T15:54:04.245Z"
   },
   {
    "duration": 16,
    "start_time": "2025-06-24T15:54:04.260Z"
   },
   {
    "duration": 598,
    "start_time": "2025-06-24T15:54:04.278Z"
   },
   {
    "duration": 4,
    "start_time": "2025-06-24T15:54:04.878Z"
   },
   {
    "duration": 51,
    "start_time": "2025-06-24T15:54:04.884Z"
   },
   {
    "duration": 2176802,
    "start_time": "2025-06-24T15:54:04.936Z"
   },
   {
    "duration": 7,
    "start_time": "2025-06-24T16:30:21.740Z"
   },
   {
    "duration": 12,
    "start_time": "2025-06-24T16:30:21.748Z"
   },
   {
    "duration": 384,
    "start_time": "2025-06-24T16:30:21.762Z"
   },
   {
    "duration": 42,
    "start_time": "2025-06-24T16:30:22.147Z"
   },
   {
    "duration": 26,
    "start_time": "2025-06-24T16:30:22.191Z"
   },
   {
    "duration": 59,
    "start_time": "2025-06-24T16:30:22.219Z"
   },
   {
    "duration": 3,
    "start_time": "2025-06-24T16:30:22.279Z"
   },
   {
    "duration": 135698,
    "start_time": "2025-06-24T16:30:22.283Z"
   },
   {
    "duration": 78,
    "start_time": "2025-06-24T16:32:37.983Z"
   },
   {
    "duration": 5,
    "start_time": "2025-06-24T16:32:38.062Z"
   },
   {
    "duration": 1984289,
    "start_time": "2025-06-24T16:32:38.069Z"
   },
   {
    "duration": 5,
    "start_time": "2025-06-24T17:19:32.086Z"
   },
   {
    "duration": 4,
    "start_time": "2025-06-24T17:19:38.436Z"
   },
   {
    "duration": 73,
    "start_time": "2025-06-24T17:21:15.951Z"
   },
   {
    "duration": 64,
    "start_time": "2025-06-24T17:21:25.546Z"
   },
   {
    "duration": 5,
    "start_time": "2025-06-24T17:21:50.910Z"
   },
   {
    "duration": 0,
    "start_time": "2025-06-24T17:39:50.662Z"
   },
   {
    "duration": 7319,
    "start_time": "2025-06-24T17:40:15.080Z"
   },
   {
    "duration": 4516,
    "start_time": "2025-06-24T17:40:22.402Z"
   },
   {
    "duration": 227,
    "start_time": "2025-06-24T17:40:26.919Z"
   },
   {
    "duration": 0,
    "start_time": "2025-06-24T17:40:27.148Z"
   },
   {
    "duration": 0,
    "start_time": "2025-06-24T17:40:27.150Z"
   },
   {
    "duration": 0,
    "start_time": "2025-06-24T17:40:27.151Z"
   },
   {
    "duration": 0,
    "start_time": "2025-06-24T17:40:27.152Z"
   },
   {
    "duration": 0,
    "start_time": "2025-06-24T17:40:27.153Z"
   },
   {
    "duration": 0,
    "start_time": "2025-06-24T17:40:27.155Z"
   },
   {
    "duration": 0,
    "start_time": "2025-06-24T17:40:27.156Z"
   },
   {
    "duration": 0,
    "start_time": "2025-06-24T17:40:27.157Z"
   },
   {
    "duration": 0,
    "start_time": "2025-06-24T17:40:27.158Z"
   },
   {
    "duration": 0,
    "start_time": "2025-06-24T17:40:27.159Z"
   },
   {
    "duration": 0,
    "start_time": "2025-06-24T17:40:27.160Z"
   },
   {
    "duration": 0,
    "start_time": "2025-06-24T17:40:27.161Z"
   },
   {
    "duration": 0,
    "start_time": "2025-06-24T17:40:27.163Z"
   },
   {
    "duration": 0,
    "start_time": "2025-06-24T17:40:27.164Z"
   },
   {
    "duration": 0,
    "start_time": "2025-06-24T17:40:27.165Z"
   },
   {
    "duration": 0,
    "start_time": "2025-06-24T17:40:27.166Z"
   },
   {
    "duration": 0,
    "start_time": "2025-06-24T17:40:27.167Z"
   },
   {
    "duration": 0,
    "start_time": "2025-06-24T17:40:27.168Z"
   },
   {
    "duration": 0,
    "start_time": "2025-06-24T17:40:27.169Z"
   },
   {
    "duration": 0,
    "start_time": "2025-06-24T17:40:27.170Z"
   },
   {
    "duration": 0,
    "start_time": "2025-06-24T17:40:27.171Z"
   },
   {
    "duration": 0,
    "start_time": "2025-06-24T17:40:27.172Z"
   },
   {
    "duration": 0,
    "start_time": "2025-06-24T17:40:27.173Z"
   },
   {
    "duration": 0,
    "start_time": "2025-06-24T17:40:27.174Z"
   },
   {
    "duration": 0,
    "start_time": "2025-06-24T17:40:27.175Z"
   },
   {
    "duration": 0,
    "start_time": "2025-06-24T17:40:27.176Z"
   },
   {
    "duration": 0,
    "start_time": "2025-06-24T17:40:27.177Z"
   },
   {
    "duration": 0,
    "start_time": "2025-06-24T17:40:27.178Z"
   },
   {
    "duration": 0,
    "start_time": "2025-06-24T17:40:27.179Z"
   },
   {
    "duration": 0,
    "start_time": "2025-06-24T17:40:27.180Z"
   },
   {
    "duration": 0,
    "start_time": "2025-06-24T17:40:27.181Z"
   },
   {
    "duration": 0,
    "start_time": "2025-06-24T17:40:27.182Z"
   },
   {
    "duration": 0,
    "start_time": "2025-06-24T17:40:27.183Z"
   },
   {
    "duration": 0,
    "start_time": "2025-06-24T17:40:27.184Z"
   },
   {
    "duration": 0,
    "start_time": "2025-06-24T17:40:27.185Z"
   },
   {
    "duration": 0,
    "start_time": "2025-06-24T17:40:27.186Z"
   },
   {
    "duration": 0,
    "start_time": "2025-06-24T17:40:27.187Z"
   },
   {
    "duration": 0,
    "start_time": "2025-06-24T17:40:27.188Z"
   },
   {
    "duration": 0,
    "start_time": "2025-06-24T17:40:27.190Z"
   },
   {
    "duration": 0,
    "start_time": "2025-06-24T17:40:27.191Z"
   },
   {
    "duration": 2,
    "start_time": "2025-06-24T17:40:40.408Z"
   },
   {
    "duration": 921,
    "start_time": "2025-06-24T17:40:41.106Z"
   },
   {
    "duration": 3,
    "start_time": "2025-06-24T17:40:42.029Z"
   },
   {
    "duration": 50,
    "start_time": "2025-06-24T17:40:42.353Z"
   },
   {
    "duration": 15,
    "start_time": "2025-06-24T17:40:42.821Z"
   },
   {
    "duration": 227,
    "start_time": "2025-06-24T17:40:43.191Z"
   },
   {
    "duration": 6,
    "start_time": "2025-06-24T17:40:44.472Z"
   },
   {
    "duration": 141,
    "start_time": "2025-06-24T17:40:44.731Z"
   },
   {
    "duration": 122,
    "start_time": "2025-06-24T17:40:45.835Z"
   },
   {
    "duration": 5,
    "start_time": "2025-06-24T17:40:46.039Z"
   },
   {
    "duration": 3,
    "start_time": "2025-06-24T17:40:46.267Z"
   },
   {
    "duration": 3,
    "start_time": "2025-06-24T17:40:53.614Z"
   },
   {
    "duration": 3,
    "start_time": "2025-06-24T17:40:54.540Z"
   },
   {
    "duration": 4,
    "start_time": "2025-06-24T17:40:55.154Z"
   },
   {
    "duration": 660,
    "start_time": "2025-06-24T17:41:05.953Z"
   },
   {
    "duration": 387,
    "start_time": "2025-06-24T17:41:28.027Z"
   },
   {
    "duration": 1414,
    "start_time": "2025-06-24T17:41:34.722Z"
   },
   {
    "duration": 519256,
    "start_time": "2025-06-24T17:41:38.571Z"
   },
   {
    "duration": 257,
    "start_time": "2025-06-24T17:50:17.829Z"
   },
   {
    "duration": 8,
    "start_time": "2025-06-24T17:50:18.088Z"
   },
   {
    "duration": 371,
    "start_time": "2025-06-24T17:50:18.098Z"
   },
   {
    "duration": 31,
    "start_time": "2025-06-24T17:50:18.471Z"
   },
   {
    "duration": 5,
    "start_time": "2025-06-24T17:50:18.503Z"
   },
   {
    "duration": 25,
    "start_time": "2025-06-24T17:50:18.510Z"
   },
   {
    "duration": 60,
    "start_time": "2025-06-24T17:50:18.537Z"
   },
   {
    "duration": 2,
    "start_time": "2025-06-24T17:50:18.599Z"
   },
   {
    "duration": 74,
    "start_time": "2025-06-24T17:50:18.604Z"
   },
   {
    "duration": 5,
    "start_time": "2025-06-24T17:50:18.680Z"
   },
   {
    "duration": 2179874,
    "start_time": "2025-06-24T17:50:18.686Z"
   },
   {
    "duration": 77,
    "start_time": "2025-06-24T18:26:38.562Z"
   },
   {
    "duration": 0,
    "start_time": "2025-06-24T18:26:38.640Z"
   },
   {
    "duration": 0,
    "start_time": "2025-06-24T18:26:38.642Z"
   },
   {
    "duration": 0,
    "start_time": "2025-06-24T18:26:38.643Z"
   },
   {
    "duration": 0,
    "start_time": "2025-06-24T18:26:38.644Z"
   },
   {
    "duration": 0,
    "start_time": "2025-06-24T18:26:38.645Z"
   },
   {
    "duration": 0,
    "start_time": "2025-06-24T18:26:38.646Z"
   },
   {
    "duration": 4,
    "start_time": "2025-06-24T18:26:57.953Z"
   },
   {
    "duration": 4,
    "start_time": "2025-06-24T18:27:15.687Z"
   },
   {
    "duration": 5,
    "start_time": "2025-06-24T18:27:24.247Z"
   },
   {
    "duration": 4157147,
    "start_time": "2025-06-24T18:27:24.941Z"
   },
   {
    "duration": 65,
    "start_time": "2025-06-24T19:36:42.090Z"
   },
   {
    "duration": 5,
    "start_time": "2025-06-24T19:42:05.539Z"
   },
   {
    "duration": 4,
    "start_time": "2025-06-24T19:44:46.806Z"
   },
   {
    "duration": 5,
    "start_time": "2025-06-24T19:45:39.765Z"
   },
   {
    "duration": 12,
    "start_time": "2025-06-24T19:45:41.897Z"
   },
   {
    "duration": 4,
    "start_time": "2025-06-24T19:47:58.239Z"
   },
   {
    "duration": 2,
    "start_time": "2025-06-24T19:48:02.547Z"
   },
   {
    "duration": 39,
    "start_time": "2025-06-24T19:48:03.903Z"
   },
   {
    "duration": 4,
    "start_time": "2025-06-24T19:48:32.307Z"
   },
   {
    "duration": 60026,
    "start_time": "2025-06-24T19:48:32.943Z"
   },
   {
    "duration": 16,
    "start_time": "2025-06-24T19:49:32.971Z"
   },
   {
    "duration": 21,
    "start_time": "2025-06-24T19:49:35.083Z"
   },
   {
    "duration": 12,
    "start_time": "2025-06-24T19:49:39.685Z"
   },
   {
    "duration": 20,
    "start_time": "2025-06-24T19:49:48.063Z"
   },
   {
    "duration": 19,
    "start_time": "2025-06-24T19:50:07.617Z"
   },
   {
    "duration": 358,
    "start_time": "2025-06-24T19:50:44.388Z"
   },
   {
    "duration": 373,
    "start_time": "2025-06-24T19:51:25.734Z"
   },
   {
    "duration": 416,
    "start_time": "2025-06-24T19:51:41.239Z"
   },
   {
    "duration": 392,
    "start_time": "2025-06-24T19:52:06.976Z"
   },
   {
    "duration": 74,
    "start_time": "2025-06-24T19:52:13.823Z"
   },
   {
    "duration": 696,
    "start_time": "2025-06-24T19:52:18.081Z"
   },
   {
    "duration": 127,
    "start_time": "2025-06-24T19:52:34.420Z"
   },
   {
    "duration": 709,
    "start_time": "2025-06-24T19:53:04.304Z"
   },
   {
    "duration": 732,
    "start_time": "2025-06-24T19:53:57.535Z"
   },
   {
    "duration": 15,
    "start_time": "2025-06-24T19:55:22.015Z"
   },
   {
    "duration": 15,
    "start_time": "2025-06-24T19:55:29.690Z"
   },
   {
    "duration": 4,
    "start_time": "2025-06-24T20:00:45.740Z"
   },
   {
    "duration": 35,
    "start_time": "2025-06-24T20:00:50.457Z"
   },
   {
    "duration": 67,
    "start_time": "2025-06-24T20:01:24.667Z"
   },
   {
    "duration": 18,
    "start_time": "2025-06-24T20:01:37.823Z"
   },
   {
    "duration": 4,
    "start_time": "2025-06-24T20:02:12.053Z"
   },
   {
    "duration": 5,
    "start_time": "2025-06-24T20:02:17.845Z"
   },
   {
    "duration": 461210,
    "start_time": "2025-06-24T20:02:18.575Z"
   },
   {
    "duration": 4,
    "start_time": "2025-06-24T20:10:16.439Z"
   },
   {
    "duration": 4,
    "start_time": "2025-06-24T20:10:17.939Z"
   },
   {
    "duration": 62,
    "start_time": "2025-06-24T20:18:17.741Z"
   },
   {
    "duration": 3,
    "start_time": "2025-06-24T20:19:38.643Z"
   },
   {
    "duration": 69,
    "start_time": "2025-06-24T20:19:41.788Z"
   },
   {
    "duration": 5,
    "start_time": "2025-06-24T20:20:53.754Z"
   },
   {
    "duration": 34,
    "start_time": "2025-06-24T20:20:57.909Z"
   },
   {
    "duration": 5,
    "start_time": "2025-06-24T20:21:39.863Z"
   },
   {
    "duration": 33,
    "start_time": "2025-06-24T20:21:40.492Z"
   },
   {
    "duration": 5,
    "start_time": "2025-06-24T20:21:59.497Z"
   },
   {
    "duration": 4083368,
    "start_time": "2025-06-24T20:22:00.182Z"
   },
   {
    "duration": 0,
    "start_time": "2025-06-24T21:30:03.552Z"
   },
   {
    "duration": 8054,
    "start_time": "2025-06-24T21:30:15.590Z"
   },
   {
    "duration": 4955,
    "start_time": "2025-06-24T21:30:23.647Z"
   },
   {
    "duration": 5,
    "start_time": "2025-06-24T21:30:28.603Z"
   },
   {
    "duration": 983,
    "start_time": "2025-06-24T21:30:28.610Z"
   },
   {
    "duration": 3,
    "start_time": "2025-06-24T21:30:29.594Z"
   },
   {
    "duration": 79,
    "start_time": "2025-06-24T21:30:29.598Z"
   },
   {
    "duration": 15,
    "start_time": "2025-06-24T21:30:29.680Z"
   },
   {
    "duration": 295,
    "start_time": "2025-06-24T21:30:29.697Z"
   },
   {
    "duration": 6,
    "start_time": "2025-06-24T21:30:29.993Z"
   },
   {
    "duration": 276,
    "start_time": "2025-06-24T21:30:30.001Z"
   },
   {
    "duration": 285,
    "start_time": "2025-06-24T21:30:30.279Z"
   },
   {
    "duration": 8,
    "start_time": "2025-06-24T21:30:30.570Z"
   },
   {
    "duration": 21,
    "start_time": "2025-06-24T21:30:30.580Z"
   },
   {
    "duration": 25,
    "start_time": "2025-06-24T21:30:30.603Z"
   },
   {
    "duration": 28,
    "start_time": "2025-06-24T21:30:30.629Z"
   },
   {
    "duration": 20,
    "start_time": "2025-06-24T21:30:30.665Z"
   },
   {
    "duration": 1654,
    "start_time": "2025-06-24T21:30:30.686Z"
   },
   {
    "duration": 571741,
    "start_time": "2025-06-24T21:30:32.341Z"
   },
   {
    "duration": 6,
    "start_time": "2025-06-24T21:40:04.083Z"
   },
   {
    "duration": 4,
    "start_time": "2025-06-24T21:40:04.091Z"
   },
   {
    "duration": 626,
    "start_time": "2025-06-24T21:40:04.096Z"
   },
   {
    "duration": 49,
    "start_time": "2025-06-24T21:40:04.723Z"
   },
   {
    "duration": 6,
    "start_time": "2025-06-24T21:40:04.774Z"
   },
   {
    "duration": 127,
    "start_time": "2025-06-24T21:40:04.782Z"
   },
   {
    "duration": 37,
    "start_time": "2025-06-24T21:40:04.911Z"
   },
   {
    "duration": 57,
    "start_time": "2025-06-24T21:40:04.950Z"
   },
   {
    "duration": 158142,
    "start_time": "2025-06-24T21:40:05.009Z"
   },
   {
    "duration": 74,
    "start_time": "2025-06-24T21:42:43.155Z"
   },
   {
    "duration": 5,
    "start_time": "2025-06-24T21:42:43.231Z"
   },
   {
    "duration": 195345,
    "start_time": "2025-06-24T21:42:43.238Z"
   },
   {
    "duration": 0,
    "start_time": "2025-06-24T21:45:58.585Z"
   },
   {
    "duration": 0,
    "start_time": "2025-06-24T21:45:58.587Z"
   },
   {
    "duration": 0,
    "start_time": "2025-06-24T21:45:58.588Z"
   },
   {
    "duration": 0,
    "start_time": "2025-06-24T21:45:58.589Z"
   },
   {
    "duration": 0,
    "start_time": "2025-06-24T21:45:58.590Z"
   },
   {
    "duration": 0,
    "start_time": "2025-06-24T21:45:58.592Z"
   },
   {
    "duration": 0,
    "start_time": "2025-06-24T21:45:58.593Z"
   },
   {
    "duration": 0,
    "start_time": "2025-06-24T21:45:58.594Z"
   },
   {
    "duration": 0,
    "start_time": "2025-06-24T21:45:58.595Z"
   },
   {
    "duration": 0,
    "start_time": "2025-06-24T21:45:58.596Z"
   },
   {
    "duration": 0,
    "start_time": "2025-06-24T21:45:58.598Z"
   },
   {
    "duration": 0,
    "start_time": "2025-06-24T21:45:58.599Z"
   },
   {
    "duration": 0,
    "start_time": "2025-06-24T21:45:58.601Z"
   },
   {
    "duration": 0,
    "start_time": "2025-06-24T21:45:58.602Z"
   },
   {
    "duration": 0,
    "start_time": "2025-06-24T21:45:58.604Z"
   },
   {
    "duration": 0,
    "start_time": "2025-06-24T21:45:58.606Z"
   },
   {
    "duration": 0,
    "start_time": "2025-06-24T21:45:58.607Z"
   },
   {
    "duration": 0,
    "start_time": "2025-06-24T21:45:58.610Z"
   },
   {
    "duration": 1,
    "start_time": "2025-06-24T21:45:58.611Z"
   },
   {
    "duration": 0,
    "start_time": "2025-06-24T21:45:58.660Z"
   },
   {
    "duration": 0,
    "start_time": "2025-06-24T21:45:58.663Z"
   },
   {
    "duration": 6,
    "start_time": "2025-06-24T21:46:01.537Z"
   },
   {
    "duration": 18842,
    "start_time": "2025-06-25T04:06:13.689Z"
   },
   {
    "duration": 5047,
    "start_time": "2025-06-25T04:06:32.534Z"
   },
   {
    "duration": 5,
    "start_time": "2025-06-25T04:06:37.583Z"
   },
   {
    "duration": 924,
    "start_time": "2025-06-25T04:06:37.590Z"
   },
   {
    "duration": 3,
    "start_time": "2025-06-25T04:06:38.516Z"
   },
   {
    "duration": 68,
    "start_time": "2025-06-25T04:06:38.521Z"
   },
   {
    "duration": 13,
    "start_time": "2025-06-25T04:06:38.591Z"
   },
   {
    "duration": 293,
    "start_time": "2025-06-25T04:06:38.606Z"
   },
   {
    "duration": 5,
    "start_time": "2025-06-25T04:06:38.901Z"
   },
   {
    "duration": 254,
    "start_time": "2025-06-25T04:06:38.908Z"
   },
   {
    "duration": 379,
    "start_time": "2025-06-25T04:06:39.164Z"
   },
   {
    "duration": 4,
    "start_time": "2025-06-25T04:06:39.546Z"
   },
   {
    "duration": 5,
    "start_time": "2025-06-25T04:06:39.552Z"
   },
   {
    "duration": 402,
    "start_time": "2025-06-25T04:06:39.561Z"
   },
   {
    "duration": 6,
    "start_time": "2025-06-25T04:06:39.965Z"
   },
   {
    "duration": 8,
    "start_time": "2025-06-25T04:06:39.973Z"
   },
   {
    "duration": 1688,
    "start_time": "2025-06-25T04:06:39.983Z"
   },
   {
    "duration": 493554,
    "start_time": "2025-06-25T04:06:41.673Z"
   },
   {
    "duration": 11,
    "start_time": "2025-06-25T04:14:55.229Z"
   },
   {
    "duration": 6,
    "start_time": "2025-06-25T04:14:55.242Z"
   },
   {
    "duration": 328,
    "start_time": "2025-06-25T04:14:55.249Z"
   },
   {
    "duration": 36,
    "start_time": "2025-06-25T04:14:55.579Z"
   },
   {
    "duration": 5,
    "start_time": "2025-06-25T04:14:55.617Z"
   },
   {
    "duration": 38,
    "start_time": "2025-06-25T04:14:55.624Z"
   },
   {
    "duration": 33,
    "start_time": "2025-06-25T04:14:55.664Z"
   },
   {
    "duration": 3,
    "start_time": "2025-06-25T04:14:55.699Z"
   },
   {
    "duration": 153836,
    "start_time": "2025-06-25T04:14:55.703Z"
   },
   {
    "duration": 73,
    "start_time": "2025-06-25T04:17:29.541Z"
   },
   {
    "duration": 5,
    "start_time": "2025-06-25T04:17:29.616Z"
   },
   {
    "duration": 1989479,
    "start_time": "2025-06-25T04:17:29.623Z"
   },
   {
    "duration": 5,
    "start_time": "2025-06-25T04:50:39.103Z"
   },
   {
    "duration": 11,
    "start_time": "2025-06-25T04:50:39.109Z"
   },
   {
    "duration": 21,
    "start_time": "2025-06-25T04:50:39.121Z"
   },
   {
    "duration": 2223027,
    "start_time": "2025-06-25T04:50:39.146Z"
   },
   {
    "duration": 5,
    "start_time": "2025-06-25T05:27:42.175Z"
   },
   {
    "duration": 21,
    "start_time": "2025-06-25T05:27:42.181Z"
   },
   {
    "duration": 5,
    "start_time": "2025-06-25T05:27:42.204Z"
   },
   {
    "duration": 524610,
    "start_time": "2025-06-25T05:27:42.211Z"
   },
   {
    "duration": 4,
    "start_time": "2025-06-25T05:36:26.823Z"
   },
   {
    "duration": 25,
    "start_time": "2025-06-25T05:36:26.829Z"
   },
   {
    "duration": 9,
    "start_time": "2025-06-25T05:36:26.858Z"
   },
   {
    "duration": 4934780,
    "start_time": "2025-06-25T05:36:26.868Z"
   },
   {
    "duration": 5,
    "start_time": "2025-06-25T06:58:41.656Z"
   },
   {
    "duration": 40,
    "start_time": "2025-06-25T06:58:41.663Z"
   },
   {
    "duration": 39,
    "start_time": "2025-06-25T06:58:41.705Z"
   },
   {
    "duration": 19798,
    "start_time": "2025-06-25T14:53:17.474Z"
   },
   {
    "duration": 5843,
    "start_time": "2025-06-25T14:53:37.274Z"
   },
   {
    "duration": 6,
    "start_time": "2025-06-25T14:53:43.119Z"
   },
   {
    "duration": 921,
    "start_time": "2025-06-25T14:53:43.126Z"
   },
   {
    "duration": 3,
    "start_time": "2025-06-25T14:53:44.048Z"
   },
   {
    "duration": 69,
    "start_time": "2025-06-25T14:53:44.053Z"
   },
   {
    "duration": 26,
    "start_time": "2025-06-25T14:53:44.124Z"
   },
   {
    "duration": 242,
    "start_time": "2025-06-25T14:53:44.152Z"
   },
   {
    "duration": 6,
    "start_time": "2025-06-25T14:53:44.396Z"
   },
   {
    "duration": 256,
    "start_time": "2025-06-25T14:53:44.404Z"
   },
   {
    "duration": 252,
    "start_time": "2025-06-25T14:53:44.662Z"
   },
   {
    "duration": 3,
    "start_time": "2025-06-25T14:53:44.916Z"
   },
   {
    "duration": 28,
    "start_time": "2025-06-25T14:53:44.921Z"
   },
   {
    "duration": 490,
    "start_time": "2025-06-25T14:53:44.951Z"
   },
   {
    "duration": 4,
    "start_time": "2025-06-25T14:53:45.443Z"
   },
   {
    "duration": 29,
    "start_time": "2025-06-25T14:53:45.449Z"
   },
   {
    "duration": 1771,
    "start_time": "2025-06-25T14:53:45.480Z"
   },
   {
    "duration": 514262,
    "start_time": "2025-06-25T14:53:47.253Z"
   },
   {
    "duration": 5,
    "start_time": "2025-06-25T15:02:21.517Z"
   },
   {
    "duration": 19,
    "start_time": "2025-06-25T15:02:21.524Z"
   },
   {
    "duration": 359,
    "start_time": "2025-06-25T15:02:21.545Z"
   },
   {
    "duration": 35,
    "start_time": "2025-06-25T15:02:21.906Z"
   },
   {
    "duration": 4,
    "start_time": "2025-06-25T15:02:21.943Z"
   },
   {
    "duration": 29,
    "start_time": "2025-06-25T15:02:21.949Z"
   },
   {
    "duration": 34,
    "start_time": "2025-06-25T15:02:21.980Z"
   },
   {
    "duration": 24,
    "start_time": "2025-06-25T15:02:22.015Z"
   },
   {
    "duration": 154884,
    "start_time": "2025-06-25T15:02:22.041Z"
   },
   {
    "duration": 76,
    "start_time": "2025-06-25T15:04:56.929Z"
   },
   {
    "duration": 5,
    "start_time": "2025-06-25T15:04:57.006Z"
   },
   {
    "duration": 7765,
    "start_time": "2025-06-25T15:27:09.756Z"
   },
   {
    "duration": 4755,
    "start_time": "2025-06-25T15:27:17.524Z"
   },
   {
    "duration": 6,
    "start_time": "2025-06-25T15:27:22.280Z"
   },
   {
    "duration": 926,
    "start_time": "2025-06-25T15:27:22.288Z"
   },
   {
    "duration": 3,
    "start_time": "2025-06-25T15:27:23.216Z"
   },
   {
    "duration": 111,
    "start_time": "2025-06-25T15:27:23.221Z"
   },
   {
    "duration": 14,
    "start_time": "2025-06-25T15:27:23.333Z"
   },
   {
    "duration": 318,
    "start_time": "2025-06-25T15:27:23.349Z"
   },
   {
    "duration": 6,
    "start_time": "2025-06-25T15:27:23.669Z"
   },
   {
    "duration": 174,
    "start_time": "2025-06-25T15:27:23.677Z"
   },
   {
    "duration": 202,
    "start_time": "2025-06-25T15:27:23.853Z"
   },
   {
    "duration": 4,
    "start_time": "2025-06-25T15:27:24.057Z"
   },
   {
    "duration": 33,
    "start_time": "2025-06-25T15:27:24.062Z"
   },
   {
    "duration": 38,
    "start_time": "2025-06-25T15:27:24.097Z"
   },
   {
    "duration": 25,
    "start_time": "2025-06-25T15:27:24.137Z"
   },
   {
    "duration": 33,
    "start_time": "2025-06-25T15:27:24.164Z"
   },
   {
    "duration": 1535,
    "start_time": "2025-06-25T15:27:24.199Z"
   },
   {
    "duration": 524889,
    "start_time": "2025-06-25T15:27:25.738Z"
   },
   {
    "duration": 10,
    "start_time": "2025-06-25T15:36:10.629Z"
   },
   {
    "duration": 23,
    "start_time": "2025-06-25T15:36:10.640Z"
   },
   {
    "duration": 359,
    "start_time": "2025-06-25T15:36:10.664Z"
   },
   {
    "duration": 40,
    "start_time": "2025-06-25T15:36:11.025Z"
   },
   {
    "duration": 5,
    "start_time": "2025-06-25T15:36:11.067Z"
   },
   {
    "duration": 161,
    "start_time": "2025-06-25T15:36:11.074Z"
   },
   {
    "duration": 35,
    "start_time": "2025-06-25T15:36:11.237Z"
   },
   {
    "duration": 3,
    "start_time": "2025-06-25T15:36:11.273Z"
   },
   {
    "duration": 148066,
    "start_time": "2025-06-25T15:36:11.278Z"
   },
   {
    "duration": 71,
    "start_time": "2025-06-25T15:38:39.348Z"
   },
   {
    "duration": 19,
    "start_time": "2025-06-25T15:38:39.420Z"
   },
   {
    "duration": 1961217,
    "start_time": "2025-06-25T15:38:39.440Z"
   },
   {
    "duration": 4,
    "start_time": "2025-06-25T16:11:20.659Z"
   },
   {
    "duration": 13,
    "start_time": "2025-06-25T16:11:20.665Z"
   },
   {
    "duration": 5,
    "start_time": "2025-06-25T16:11:20.680Z"
   },
   {
    "duration": 1458616,
    "start_time": "2025-06-25T16:11:20.687Z"
   },
   {
    "duration": 4,
    "start_time": "2025-06-25T16:35:39.305Z"
   },
   {
    "duration": 30,
    "start_time": "2025-06-25T16:35:39.312Z"
   },
   {
    "duration": 8,
    "start_time": "2025-06-25T16:35:39.344Z"
   },
   {
    "duration": 513140,
    "start_time": "2025-06-25T16:35:39.353Z"
   },
   {
    "duration": 4,
    "start_time": "2025-06-25T16:44:12.495Z"
   },
   {
    "duration": 45,
    "start_time": "2025-06-25T16:44:12.502Z"
   },
   {
    "duration": 6,
    "start_time": "2025-06-25T16:44:12.549Z"
   },
   {
    "duration": 8353,
    "start_time": "2025-06-25T18:41:36.862Z"
   },
   {
    "duration": 5181,
    "start_time": "2025-06-25T18:41:45.217Z"
   },
   {
    "duration": 6,
    "start_time": "2025-06-25T18:41:50.400Z"
   },
   {
    "duration": 1057,
    "start_time": "2025-06-25T18:41:50.408Z"
   },
   {
    "duration": 3,
    "start_time": "2025-06-25T18:41:51.467Z"
   },
   {
    "duration": 77,
    "start_time": "2025-06-25T18:41:51.472Z"
   },
   {
    "duration": 20,
    "start_time": "2025-06-25T18:41:51.550Z"
   },
   {
    "duration": 246,
    "start_time": "2025-06-25T18:41:51.571Z"
   },
   {
    "duration": 6,
    "start_time": "2025-06-25T18:41:51.819Z"
   },
   {
    "duration": 231,
    "start_time": "2025-06-25T18:41:51.827Z"
   },
   {
    "duration": 303,
    "start_time": "2025-06-25T18:41:52.063Z"
   },
   {
    "duration": 5,
    "start_time": "2025-06-25T18:41:52.367Z"
   },
   {
    "duration": 10,
    "start_time": "2025-06-25T18:41:52.373Z"
   },
   {
    "duration": 10,
    "start_time": "2025-06-25T18:41:52.384Z"
   },
   {
    "duration": 4,
    "start_time": "2025-06-25T18:41:52.396Z"
   },
   {
    "duration": 6,
    "start_time": "2025-06-25T18:41:52.401Z"
   },
   {
    "duration": 1898,
    "start_time": "2025-06-25T18:41:52.408Z"
   },
   {
    "duration": 607224,
    "start_time": "2025-06-25T18:41:54.308Z"
   },
   {
    "duration": 6,
    "start_time": "2025-06-25T18:52:01.537Z"
   },
   {
    "duration": 14,
    "start_time": "2025-06-25T18:52:01.546Z"
   },
   {
    "duration": 427,
    "start_time": "2025-06-25T18:52:01.563Z"
   },
   {
    "duration": 32,
    "start_time": "2025-06-25T18:52:01.992Z"
   },
   {
    "duration": 66,
    "start_time": "2025-06-25T18:52:02.026Z"
   },
   {
    "duration": 57,
    "start_time": "2025-06-25T18:52:02.094Z"
   },
   {
    "duration": 54,
    "start_time": "2025-06-25T18:52:02.153Z"
   },
   {
    "duration": 3,
    "start_time": "2025-06-25T18:52:02.209Z"
   },
   {
    "duration": 180481,
    "start_time": "2025-06-25T18:52:02.214Z"
   },
   {
    "duration": 100,
    "start_time": "2025-06-25T18:55:02.700Z"
   },
   {
    "duration": 5,
    "start_time": "2025-06-25T18:55:02.801Z"
   },
   {
    "duration": 1864990,
    "start_time": "2025-06-25T18:55:02.807Z"
   },
   {
    "duration": 5,
    "start_time": "2025-06-25T19:26:07.798Z"
   },
   {
    "duration": 7,
    "start_time": "2025-06-25T19:26:07.805Z"
   },
   {
    "duration": 30,
    "start_time": "2025-06-25T19:26:07.813Z"
   },
   {
    "duration": 1526295,
    "start_time": "2025-06-25T19:26:07.846Z"
   },
   {
    "duration": 9,
    "start_time": "2025-06-25T19:51:34.145Z"
   },
   {
    "duration": 12,
    "start_time": "2025-06-25T19:51:34.156Z"
   },
   {
    "duration": 15,
    "start_time": "2025-06-25T19:51:34.170Z"
   },
   {
    "duration": 512656,
    "start_time": "2025-06-25T19:51:34.188Z"
   },
   {
    "duration": 5,
    "start_time": "2025-06-25T20:00:06.846Z"
   },
   {
    "duration": 31,
    "start_time": "2025-06-25T20:00:06.852Z"
   },
   {
    "duration": 32,
    "start_time": "2025-06-25T20:00:06.884Z"
   },
   {
    "duration": 367,
    "start_time": "2025-06-25T20:00:06.918Z"
   },
   {
    "duration": 0,
    "start_time": "2025-06-25T20:00:07.287Z"
   },
   {
    "duration": 0,
    "start_time": "2025-06-25T20:00:07.288Z"
   },
   {
    "duration": 0,
    "start_time": "2025-06-25T20:00:07.290Z"
   },
   {
    "duration": 0,
    "start_time": "2025-06-25T20:00:07.291Z"
   },
   {
    "duration": 3,
    "start_time": "2025-06-25T20:02:19.463Z"
   },
   {
    "duration": 66168,
    "start_time": "2025-06-25T20:02:20.793Z"
   },
   {
    "duration": 15,
    "start_time": "2025-06-25T20:04:09.855Z"
   },
   {
    "duration": 747,
    "start_time": "2025-06-25T20:04:15.416Z"
   },
   {
    "duration": 140,
    "start_time": "2025-06-25T20:04:20.914Z"
   },
   {
    "duration": 3,
    "start_time": "2025-06-25T20:06:47.444Z"
   },
   {
    "duration": 4,
    "start_time": "2025-06-25T20:20:27.468Z"
   },
   {
    "duration": 10,
    "start_time": "2025-06-25T20:20:29.660Z"
   },
   {
    "duration": 4,
    "start_time": "2025-06-25T20:20:39.039Z"
   },
   {
    "duration": 4,
    "start_time": "2025-06-25T20:20:40.780Z"
   },
   {
    "duration": 9,
    "start_time": "2025-06-25T20:20:41.804Z"
   }
  ],
  "celltoolbar": "Отсутствует",
  "kernelspec": {
   "display_name": "Python 3 (ipykernel)",
   "language": "python",
   "name": "python3"
  },
  "language_info": {
   "codemirror_mode": {
    "name": "ipython",
    "version": 3
   },
   "file_extension": ".py",
   "mimetype": "text/x-python",
   "name": "python",
   "nbconvert_exporter": "python",
   "pygments_lexer": "ipython3",
   "version": "3.12.7"
  },
  "toc": {
   "base_numbering": 1,
   "nav_menu": {
    "height": "60px",
    "width": "160px"
   },
   "number_sections": true,
   "sideBar": true,
   "skip_h1_title": true,
   "title_cell": "Содержание",
   "title_sidebar": "Contents",
   "toc_cell": true,
   "toc_position": {
    "height": "calc(100% - 180px)",
    "left": "10px",
    "top": "150px",
    "width": "302.344px"
   },
   "toc_section_display": true,
   "toc_window_display": true
  }
 },
 "nbformat": 4,
 "nbformat_minor": 4
}
