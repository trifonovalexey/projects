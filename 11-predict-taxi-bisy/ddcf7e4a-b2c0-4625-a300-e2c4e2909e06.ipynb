{
 "cells": [
  {
   "cell_type": "markdown",
   "metadata": {
    "toc": true
   },
   "source": [
    "<h1>Содержание<span class=\"tocSkip\"></span></h1>\n",
    "<div class=\"toc\"><ul class=\"toc-item\"><li><span><a href=\"#Подготовка-и-загрузка-данных\" data-toc-modified-id=\"Подготовка-и-загрузка-данных-1\"><span class=\"toc-item-num\">1&nbsp;&nbsp;</span>Подготовка и загрузка данных</a></span><ul class=\"toc-item\"><li><span><a href=\"#Загрузка-данных\" data-toc-modified-id=\"Загрузка-данных-1.1\"><span class=\"toc-item-num\">1.1&nbsp;&nbsp;</span>Загрузка данных</a></span></li><li><span><a href=\"#Подготовка\" data-toc-modified-id=\"Подготовка-1.2\"><span class=\"toc-item-num\">1.2&nbsp;&nbsp;</span>Подготовка</a></span><ul class=\"toc-item\"><li><span><a href=\"#Приведение-столбца-к-формату-datetime\" data-toc-modified-id=\"Приведение-столбца-к-формату-datetime-1.2.1\"><span class=\"toc-item-num\">1.2.1&nbsp;&nbsp;</span>Приведение столбца к формату datetime</a></span></li><li><span><a href=\"#Перемещение-столбца-в-индекс\" data-toc-modified-id=\"Перемещение-столбца-в-индекс-1.2.2\"><span class=\"toc-item-num\">1.2.2&nbsp;&nbsp;</span>Перемещение столбца в индекс</a></span></li><li><span><a href=\"#Ресемплирование\" data-toc-modified-id=\"Ресемплирование-1.2.3\"><span class=\"toc-item-num\">1.2.3&nbsp;&nbsp;</span>Ресемплирование</a></span></li></ul></li></ul></li><li><span><a href=\"#Анализ\" data-toc-modified-id=\"Анализ-2\"><span class=\"toc-item-num\">2&nbsp;&nbsp;</span>Анализ</a></span></li><li><span><a href=\"#Обучение\" data-toc-modified-id=\"Обучение-3\"><span class=\"toc-item-num\">3&nbsp;&nbsp;</span>Обучение</a></span><ul class=\"toc-item\"><li><span><a href=\"#Градиентный-бустинг\" data-toc-modified-id=\"Градиентный-бустинг-3.1\"><span class=\"toc-item-num\">3.1&nbsp;&nbsp;</span>Градиентный бустинг</a></span></li><li><span><a href=\"#Дерево-регрессии\" data-toc-modified-id=\"Дерево-регрессии-3.2\"><span class=\"toc-item-num\">3.2&nbsp;&nbsp;</span>Дерево регрессии</a></span></li><li><span><a href=\"#Анализ\" data-toc-modified-id=\"Анализ-3.3\"><span class=\"toc-item-num\">3.3&nbsp;&nbsp;</span>Анализ</a></span></li></ul></li><li><span><a href=\"#Тестирование\" data-toc-modified-id=\"Тестирование-4\"><span class=\"toc-item-num\">4&nbsp;&nbsp;</span>Тестирование</a></span></li><li><span><a href=\"#Вывод\" data-toc-modified-id=\"Вывод-5\"><span class=\"toc-item-num\">5&nbsp;&nbsp;</span>Вывод</a></span></li><li><span><a href=\"#Чек-лист-проверки\" data-toc-modified-id=\"Чек-лист-проверки-6\"><span class=\"toc-item-num\">6&nbsp;&nbsp;</span>Чек-лист проверки</a></span></li></ul></div>"
   ]
  },
  {
   "cell_type": "markdown",
   "metadata": {},
   "source": [
    "#  Прогнозирование заказов такси"
   ]
  },
  {
   "cell_type": "markdown",
   "metadata": {},
   "source": [
    "Компания «Чётенькое такси» собрала исторические данные о заказах такси в аэропортах. Чтобы привлекать больше водителей в период пиковой нагрузки, нужно спрогнозировать количество заказов такси на следующий час. Постройте модель для такого предсказания.\n",
    "\n",
    "Значение метрики *RMSE* на тестовой выборке должно быть не больше 48.\n",
    "\n",
    "Нужно:\n",
    "\n",
    "1. Загрузить данные и выполнить их ресемплирование по одному часу.\n",
    "2. Проанализировать данные.\n",
    "3. Обучить разные модели с различными гиперпараметрами. Сделать тестовую выборку размером 10% от исходных данных.\n",
    "4. Проверить данные на тестовой выборке и сделать выводы."
   ]
  },
  {
   "cell_type": "markdown",
   "metadata": {},
   "source": [
    "## Подготовка и загрузка данных"
   ]
  },
  {
   "cell_type": "markdown",
   "metadata": {},
   "source": [
    "Загрузим необходимые библиотеки"
   ]
  },
  {
   "cell_type": "code",
   "execution_count": 1,
   "metadata": {},
   "outputs": [],
   "source": [
    "!pip install scikit-learn==1.1.3 -q\n",
    "!pip install matplotlib==3.5.2 -q\n",
    "!pip install optuna -q\n",
    "!pip install lightgbm -q"
   ]
  },
  {
   "cell_type": "markdown",
   "metadata": {},
   "source": [
    "Импортируем библиотеки"
   ]
  },
  {
   "cell_type": "code",
   "execution_count": 2,
   "metadata": {},
   "outputs": [],
   "source": [
    "import pandas as pd\n",
    "import numpy as np\n",
    "import matplotlib.pyplot as plt\n",
    "import seaborn as sns\n",
    "import math\n",
    "import scipy.stats\n",
    "import optuna\n",
    "import lightgbm as lgb\n",
    "import time\n",
    "from sklearn.metrics import mean_squared_error\n",
    "from sklearn.preprocessing import StandardScaler, OneHotEncoder\n",
    "from sklearn.model_selection import train_test_split\n",
    "from sklearn.tree import DecisionTreeRegressor\n",
    "from sklearn.pipeline import Pipeline\n",
    "from sklearn.compose import ColumnTransformer\n",
    "from sklearn.inspection import permutation_importance\n",
    "from lightgbm import early_stopping\n",
    "from statsmodels.tsa.seasonal import seasonal_decompose\n",
    "\n",
    "import warnings\n",
    "warnings.filterwarnings(\"ignore\")"
   ]
  },
  {
   "cell_type": "markdown",
   "metadata": {},
   "source": [
    "### Загрузка данных"
   ]
  },
  {
   "cell_type": "code",
   "execution_count": 3,
   "metadata": {},
   "outputs": [],
   "source": [
    "try:\n",
    "    data = pd.read_csv('/datasets/taxi.csv')\n",
    "except:\n",
    "    data = pd.read_csv('F:\\\\Учеба яндекс\\\\projects\\\\11_taxi\\\\taxi.csv')"
   ]
  },
  {
   "cell_type": "markdown",
   "metadata": {},
   "source": [
    "### Подготовка"
   ]
  },
  {
   "cell_type": "code",
   "execution_count": 4,
   "metadata": {},
   "outputs": [],
   "source": [
    "def first_look(df):\n",
    "    df.info()\n",
    "    return display(df.describe(),'Первые 5 строк', df.head(5), 'Последние 5 строк', df.tail(5))"
   ]
  },
  {
   "cell_type": "markdown",
   "metadata": {},
   "source": [
    "Выполним первоначальный осмотр данных"
   ]
  },
  {
   "cell_type": "code",
   "execution_count": 5,
   "metadata": {},
   "outputs": [
    {
     "name": "stdout",
     "output_type": "stream",
     "text": [
      "<class 'pandas.core.frame.DataFrame'>\n",
      "RangeIndex: 26496 entries, 0 to 26495\n",
      "Data columns (total 2 columns):\n",
      " #   Column      Non-Null Count  Dtype \n",
      "---  ------      --------------  ----- \n",
      " 0   datetime    26496 non-null  object\n",
      " 1   num_orders  26496 non-null  int64 \n",
      "dtypes: int64(1), object(1)\n",
      "memory usage: 414.1+ KB\n"
     ]
    },
    {
     "data": {
      "text/html": [
       "<div>\n",
       "<style scoped>\n",
       "    .dataframe tbody tr th:only-of-type {\n",
       "        vertical-align: middle;\n",
       "    }\n",
       "\n",
       "    .dataframe tbody tr th {\n",
       "        vertical-align: top;\n",
       "    }\n",
       "\n",
       "    .dataframe thead th {\n",
       "        text-align: right;\n",
       "    }\n",
       "</style>\n",
       "<table border=\"1\" class=\"dataframe\">\n",
       "  <thead>\n",
       "    <tr style=\"text-align: right;\">\n",
       "      <th></th>\n",
       "      <th>num_orders</th>\n",
       "    </tr>\n",
       "  </thead>\n",
       "  <tbody>\n",
       "    <tr>\n",
       "      <th>count</th>\n",
       "      <td>26496.000000</td>\n",
       "    </tr>\n",
       "    <tr>\n",
       "      <th>mean</th>\n",
       "      <td>14.070463</td>\n",
       "    </tr>\n",
       "    <tr>\n",
       "      <th>std</th>\n",
       "      <td>9.211330</td>\n",
       "    </tr>\n",
       "    <tr>\n",
       "      <th>min</th>\n",
       "      <td>0.000000</td>\n",
       "    </tr>\n",
       "    <tr>\n",
       "      <th>25%</th>\n",
       "      <td>8.000000</td>\n",
       "    </tr>\n",
       "    <tr>\n",
       "      <th>50%</th>\n",
       "      <td>13.000000</td>\n",
       "    </tr>\n",
       "    <tr>\n",
       "      <th>75%</th>\n",
       "      <td>19.000000</td>\n",
       "    </tr>\n",
       "    <tr>\n",
       "      <th>max</th>\n",
       "      <td>119.000000</td>\n",
       "    </tr>\n",
       "  </tbody>\n",
       "</table>\n",
       "</div>"
      ],
      "text/plain": [
       "         num_orders\n",
       "count  26496.000000\n",
       "mean      14.070463\n",
       "std        9.211330\n",
       "min        0.000000\n",
       "25%        8.000000\n",
       "50%       13.000000\n",
       "75%       19.000000\n",
       "max      119.000000"
      ]
     },
     "metadata": {},
     "output_type": "display_data"
    },
    {
     "data": {
      "text/plain": [
       "'Первые 5 строк'"
      ]
     },
     "metadata": {},
     "output_type": "display_data"
    },
    {
     "data": {
      "text/html": [
       "<div>\n",
       "<style scoped>\n",
       "    .dataframe tbody tr th:only-of-type {\n",
       "        vertical-align: middle;\n",
       "    }\n",
       "\n",
       "    .dataframe tbody tr th {\n",
       "        vertical-align: top;\n",
       "    }\n",
       "\n",
       "    .dataframe thead th {\n",
       "        text-align: right;\n",
       "    }\n",
       "</style>\n",
       "<table border=\"1\" class=\"dataframe\">\n",
       "  <thead>\n",
       "    <tr style=\"text-align: right;\">\n",
       "      <th></th>\n",
       "      <th>datetime</th>\n",
       "      <th>num_orders</th>\n",
       "    </tr>\n",
       "  </thead>\n",
       "  <tbody>\n",
       "    <tr>\n",
       "      <th>0</th>\n",
       "      <td>2018-03-01 00:00:00</td>\n",
       "      <td>9</td>\n",
       "    </tr>\n",
       "    <tr>\n",
       "      <th>1</th>\n",
       "      <td>2018-03-01 00:10:00</td>\n",
       "      <td>14</td>\n",
       "    </tr>\n",
       "    <tr>\n",
       "      <th>2</th>\n",
       "      <td>2018-03-01 00:20:00</td>\n",
       "      <td>28</td>\n",
       "    </tr>\n",
       "    <tr>\n",
       "      <th>3</th>\n",
       "      <td>2018-03-01 00:30:00</td>\n",
       "      <td>20</td>\n",
       "    </tr>\n",
       "    <tr>\n",
       "      <th>4</th>\n",
       "      <td>2018-03-01 00:40:00</td>\n",
       "      <td>32</td>\n",
       "    </tr>\n",
       "  </tbody>\n",
       "</table>\n",
       "</div>"
      ],
      "text/plain": [
       "              datetime  num_orders\n",
       "0  2018-03-01 00:00:00           9\n",
       "1  2018-03-01 00:10:00          14\n",
       "2  2018-03-01 00:20:00          28\n",
       "3  2018-03-01 00:30:00          20\n",
       "4  2018-03-01 00:40:00          32"
      ]
     },
     "metadata": {},
     "output_type": "display_data"
    },
    {
     "data": {
      "text/plain": [
       "'Последние 5 строк'"
      ]
     },
     "metadata": {},
     "output_type": "display_data"
    },
    {
     "data": {
      "text/html": [
       "<div>\n",
       "<style scoped>\n",
       "    .dataframe tbody tr th:only-of-type {\n",
       "        vertical-align: middle;\n",
       "    }\n",
       "\n",
       "    .dataframe tbody tr th {\n",
       "        vertical-align: top;\n",
       "    }\n",
       "\n",
       "    .dataframe thead th {\n",
       "        text-align: right;\n",
       "    }\n",
       "</style>\n",
       "<table border=\"1\" class=\"dataframe\">\n",
       "  <thead>\n",
       "    <tr style=\"text-align: right;\">\n",
       "      <th></th>\n",
       "      <th>datetime</th>\n",
       "      <th>num_orders</th>\n",
       "    </tr>\n",
       "  </thead>\n",
       "  <tbody>\n",
       "    <tr>\n",
       "      <th>26491</th>\n",
       "      <td>2018-08-31 23:10:00</td>\n",
       "      <td>32</td>\n",
       "    </tr>\n",
       "    <tr>\n",
       "      <th>26492</th>\n",
       "      <td>2018-08-31 23:20:00</td>\n",
       "      <td>24</td>\n",
       "    </tr>\n",
       "    <tr>\n",
       "      <th>26493</th>\n",
       "      <td>2018-08-31 23:30:00</td>\n",
       "      <td>27</td>\n",
       "    </tr>\n",
       "    <tr>\n",
       "      <th>26494</th>\n",
       "      <td>2018-08-31 23:40:00</td>\n",
       "      <td>39</td>\n",
       "    </tr>\n",
       "    <tr>\n",
       "      <th>26495</th>\n",
       "      <td>2018-08-31 23:50:00</td>\n",
       "      <td>53</td>\n",
       "    </tr>\n",
       "  </tbody>\n",
       "</table>\n",
       "</div>"
      ],
      "text/plain": [
       "                  datetime  num_orders\n",
       "26491  2018-08-31 23:10:00          32\n",
       "26492  2018-08-31 23:20:00          24\n",
       "26493  2018-08-31 23:30:00          27\n",
       "26494  2018-08-31 23:40:00          39\n",
       "26495  2018-08-31 23:50:00          53"
      ]
     },
     "metadata": {},
     "output_type": "display_data"
    }
   ],
   "source": [
    "first_look(data)"
   ]
  },
  {
   "cell_type": "markdown",
   "metadata": {},
   "source": [
    "Видно, что пропусков в данных нет, требуется замена числового индекса столбцом с датой, приведение столбца к формату datetime."
   ]
  },
  {
   "cell_type": "markdown",
   "metadata": {},
   "source": [
    "#### Приведение столбца к формату datetime"
   ]
  },
  {
   "cell_type": "code",
   "execution_count": 6,
   "metadata": {},
   "outputs": [],
   "source": [
    "data['datetime'] = pd.to_datetime(data['datetime'])"
   ]
  },
  {
   "cell_type": "markdown",
   "metadata": {},
   "source": [
    "#### Перемещение столбца в индекс"
   ]
  },
  {
   "cell_type": "code",
   "execution_count": 7,
   "metadata": {},
   "outputs": [],
   "source": [
    "data.sort_values(by = 'datetime', inplace = True)\n",
    "data.set_index('datetime', inplace = True)"
   ]
  },
  {
   "cell_type": "markdown",
   "metadata": {},
   "source": [
    "#### Ресемплирование"
   ]
  },
  {
   "cell_type": "code",
   "execution_count": 8,
   "metadata": {},
   "outputs": [],
   "source": [
    "data = data.resample('1H').sum()"
   ]
  },
  {
   "cell_type": "markdown",
   "metadata": {},
   "source": [
    "**Вывод:** выполнена загрузка данных, знакомство с ними, столбец с информацией о дате приведен к формату datetime, а также переведен в индекс, выполнено ресемплирование по часу с суммированием количества заказов. Данные достаточно чистые, пропусков нет."
   ]
  },
  {
   "cell_type": "markdown",
   "metadata": {},
   "source": [
    "## Анализ"
   ]
  },
  {
   "cell_type": "markdown",
   "metadata": {},
   "source": [
    "Построим график количества поездок **без применения инструментов анализа**."
   ]
  },
  {
   "cell_type": "code",
   "execution_count": 9,
   "metadata": {},
   "outputs": [
    {
     "data": {
      "image/png": "[encoded data removed]",
      "text/plain": [
       "<Figure size 864x648 with 1 Axes>"
      ]
     },
     "metadata": {
      "needs_background": "light"
     },
     "output_type": "display_data"
    }
   ],
   "source": [
    "data.plot(kind = 'line', figsize = (12,9))\n",
    "\n",
    "plt.title('График зависимости количества поездок от даты', size = 12)\n",
    "plt.xlabel('Дата', size = 9)\n",
    "plt.ylabel('Количество поездок', size = 9)\n",
    "\n",
    "plt.show()"
   ]
  },
  {
   "cell_type": "markdown",
   "metadata": {},
   "source": [
    "Из такого графика сложно уловить наличие зависимостей. Необходимо воспользоваться инструментами для анализа временных рядов."
   ]
  },
  {
   "cell_type": "markdown",
   "metadata": {},
   "source": [
    "Для прослеживания зависимостей необходимо найти суточное скользящее среднее, недельный тренд, а также разложим данные на сезонные состовляющие."
   ]
  },
  {
   "cell_type": "code",
   "execution_count": 10,
   "metadata": {},
   "outputs": [],
   "source": [
    "decomposed = seasonal_decompose(data)"
   ]
  },
  {
   "cell_type": "markdown",
   "metadata": {},
   "source": [
    "Построим график количества заказов в сутки, недельное скользящее среднее, а также месячный тренд."
   ]
  },
  {
   "cell_type": "code",
   "execution_count": 11,
   "metadata": {},
   "outputs": [
    {
     "data": {
      "image/png": "[encoded data removed]",
      "text/plain": [
       "<Figure size 1080x648 with 1 Axes>"
      ]
     },
     "metadata": {
      "needs_background": "light"
     },
     "output_type": "display_data"
    }
   ],
   "source": [
    "plt.figure(figsize = (15,9))\n",
    "\n",
    "plt.plot(data, color = 'b', label = 'num_order_per_hour')\n",
    "plt.plot(data.rolling(24).mean(), color = 'g', label = 'rolling mean per day')\n",
    "plt.plot(decomposed.trend.resample('1w').mean(), color = 'r', label = 'month trend')\n",
    "\n",
    "plt.title('График зависимости количества поездок от даты', size = 15)\n",
    "plt.xlabel('Дата и время', size = 12)\n",
    "plt.ylabel('Количество поездок', size = 12)\n",
    "\n",
    "plt.ylim(0,250)\n",
    "\n",
    "plt.legend()\n",
    "plt.show()"
   ]
  },
  {
   "cell_type": "markdown",
   "metadata": {},
   "source": [
    "Из проведенного анализа четко видно увеличение количетсва поездок в день, намечена тенденция на увеличение загруженности водителей.\n",
    "\n",
    "Для дополнительного анализа выведем сезонную составляющую."
   ]
  },
  {
   "cell_type": "code",
   "execution_count": 12,
   "metadata": {},
   "outputs": [
    {
     "data": {
      "image/png": "[encoded data removed]",
      "text/plain": [
       "<Figure size 1080x360 with 1 Axes>"
      ]
     },
     "metadata": {
      "needs_background": "light"
     },
     "output_type": "display_data"
    }
   ],
   "source": [
    "plt.figure(figsize = (15,5))\n",
    "plt.plot(decomposed.seasonal['2018-05-04':'2018-05-06'], color = 'b', label = 'seasonal')\n",
    "plt.title('График зависимости количества поездок от даты', size = 15)\n",
    "plt.xlabel('Дата и время', size = 12)\n",
    "plt.ylabel('Количество поездок', size = 12)\n",
    "\n",
    "plt.legend()\n",
    "plt.show()"
   ]
  },
  {
   "cell_type": "markdown",
   "metadata": {},
   "source": [
    "Из приведенного графика видно, что сезонным периодом явялется один день."
   ]
  },
  {
   "cell_type": "markdown",
   "metadata": {},
   "source": [
    "Дополнительно проанализируем число заказов по дням недели, месяца, а также часам суток."
   ]
  },
  {
   "cell_type": "code",
   "execution_count": 13,
   "metadata": {},
   "outputs": [],
   "source": [
    "data_for_analize = data.copy()\n",
    "data_for_analize['dayofweek'] = data_for_analize.index.dayofweek\n",
    "data_for_analize['hour'] = data_for_analize.index.hour\n",
    "data_for_analize['day'] = data_for_analize.index.day"
   ]
  },
  {
   "cell_type": "markdown",
   "metadata": {},
   "source": [
    "**День недели**"
   ]
  },
  {
   "cell_type": "code",
   "execution_count": 14,
   "metadata": {},
   "outputs": [
    {
     "data": {
      "image/png": "[encoded data removed]",
      "text/plain": [
       "<Figure size 648x504 with 1 Axes>"
      ]
     },
     "metadata": {
      "needs_background": "light"
     },
     "output_type": "display_data"
    }
   ],
   "source": [
    "plt.figure(figsize = (9,7))\n",
    "data_for_analize.groupby('dayofweek')['num_orders'].sum().plot( kind = 'bar')\n",
    "\n",
    "plt.title('Столбчатая диаграмма распределения числа заказов в зависимости от дня недели', size = 15)\n",
    "plt.xlabel('День недели', size = 12)\n",
    "plt.xticks(rotation=0)\n",
    "plt.ylabel('Сумма поездок', size = 12)\n",
    "\n",
    "plt.legend()\n",
    "plt.show()"
   ]
  },
  {
   "cell_type": "markdown",
   "metadata": {},
   "source": [
    "**День месяца**"
   ]
  },
  {
   "cell_type": "code",
   "execution_count": 15,
   "metadata": {},
   "outputs": [
    {
     "data": {
      "image/png": "[encoded data removed]",
      "text/plain": [
       "<Figure size 1080x504 with 1 Axes>"
      ]
     },
     "metadata": {
      "needs_background": "light"
     },
     "output_type": "display_data"
    }
   ],
   "source": [
    "plt.figure(figsize = (15,7))\n",
    "data_for_analize.groupby('day')['num_orders'].sum().plot( kind = 'bar')\n",
    "\n",
    "plt.title('Столбчатая диаграмма распределения числа заказов в зависимости от дня месяца', size = 15)\n",
    "plt.xlabel('День', size = 12)\n",
    "plt.xticks(rotation=0)\n",
    "plt.ylabel('Сумма поездок', size = 12)\n",
    "\n",
    "plt.legend()\n",
    "plt.show()"
   ]
  },
  {
   "cell_type": "markdown",
   "metadata": {},
   "source": [
    "**Час**"
   ]
  },
  {
   "cell_type": "code",
   "execution_count": 16,
   "metadata": {},
   "outputs": [
    {
     "data": {
      "image/png": "[encoded data removed]",
      "text/plain": [
       "<Figure size 1080x504 with 1 Axes>"
      ]
     },
     "metadata": {
      "needs_background": "light"
     },
     "output_type": "display_data"
    }
   ],
   "source": [
    "plt.figure(figsize = (15,7))\n",
    "data_for_analize.groupby('hour')['num_orders'].sum().plot( kind = 'bar')\n",
    "\n",
    "plt.title('Столбчатая диаграмма распределения числа заказов в зависимости от часа', size = 15)\n",
    "plt.xlabel('Час', size = 12)\n",
    "plt.xticks(rotation=0)\n",
    "plt.ylabel('Сумма поездок', size = 12)\n",
    "\n",
    "plt.legend()\n",
    "plt.show()"
   ]
  },
  {
   "cell_type": "markdown",
   "metadata": {},
   "source": [
    "Построенные графики позволяют заметить, что самым полезным признаком может послужить час заказа такси, при этом минимальное количество заказов приходится на 6 часов утра, максимальное число приходится на 0 часов. Дополнительно стоит отметить, что число заказов растет от начала к концу месяца, максимально в пятницу, минимально во вторник."
   ]
  },
  {
   "cell_type": "markdown",
   "metadata": {},
   "source": [
    "**Вывод:** проведен анализ данных в ходе которого установлено, что количество поездок в день немонотонно, однако же в среднем, оно растет, что подтверждает тренд. Сезонный промежуток равен дню при семплировании данных по часу. Минимальное количество заказов приходится на 6 часов утра, максимальное - на 0 часов. Дополнительно стоит отметить, что число заказов растет от начала к концу месяца, максимально в пятницу, минимально во вторник."
   ]
  },
  {
   "cell_type": "markdown",
   "metadata": {},
   "source": [
    "## Обучение"
   ]
  },
  {
   "cell_type": "markdown",
   "metadata": {},
   "source": [
    "Создадим дополнительные признаки, которые помогут улучшить предсказание модели."
   ]
  },
  {
   "cell_type": "code",
   "execution_count": 17,
   "metadata": {},
   "outputs": [],
   "source": [
    "def make_features(df, max_lag, rolling_mean_size):\n",
    "    df['dayofweek'] = df.index.dayofweek\n",
    "    df['hour'] = df.index.hour\n",
    "    df['day'] = df.index.day\n",
    "    \n",
    "    for i in range(1, max_lag + 1):\n",
    "        df[f'lag_{i}'] = df['num_orders'].shift(i)\n",
    "\n",
    "    df['rolling_mean'] = df['num_orders'].shift(1).rolling(rolling_mean_size).mean()"
   ]
  },
  {
   "cell_type": "markdown",
   "metadata": {},
   "source": [
    "Закрепим необходимые константы"
   ]
  },
  {
   "cell_type": "code",
   "execution_count": 18,
   "metadata": {},
   "outputs": [],
   "source": [
    "RANDOM_STATE = 42"
   ]
  },
  {
   "cell_type": "markdown",
   "metadata": {},
   "source": [
    "Руководствуясь результатами, полученными при выполнении анализа данных, сформируем признаки исходя из дневной сезонности количества поездок в день."
   ]
  },
  {
   "cell_type": "raw",
   "metadata": {},
   "source": [
    "make_features(data, 24,12)"
   ]
  },
  {
   "cell_type": "markdown",
   "metadata": {},
   "source": [
    "### Градиентный бустинг"
   ]
  },
  {
   "cell_type": "code",
   "execution_count": 19,
   "metadata": {},
   "outputs": [],
   "source": [
    "def lgbm_objective(trial):\n",
    "    \n",
    "    data_study = data.copy()\n",
    "    \n",
    "    features = {\n",
    "        'df': data_study,\n",
    "                \n",
    "        # параметры для making_features\n",
    "        'max_lag': trial.suggest_int('max_lag', 6, 24),\n",
    "        'rolling_mean_size': trial.suggest_int('rolling_mean_size', 1, 12)\n",
    "    }\n",
    "    \n",
    "    make_features(**features)\n",
    "    \n",
    "    X_train,X_test,y_train,y_test = train_test_split(\n",
    "        data_study.drop('num_orders', axis = 1),\n",
    "        data_study['num_orders'],\n",
    "        test_size = 0.1,\n",
    "        random_state = RANDOM_STATE,\n",
    "        shuffle = False)\n",
    "    \n",
    "    X_train,X_valid,y_train,y_valid = train_test_split(\n",
    "        X_train,\n",
    "        y_train,\n",
    "        test_size = 0.1,\n",
    "        random_state = RANDOM_STATE,\n",
    "        shuffle = False)\n",
    "    \n",
    "    params = {\n",
    "        'objective': 'regression',\n",
    "        'verbosity': -1,\n",
    "        'boosting_type': 'gbdt',\n",
    "        'random_state': RANDOM_STATE,\n",
    "        'n_estimators': 10000,\n",
    "        \n",
    "        # параметры, которые будем отбирать для GB\n",
    "        'learning_rate': trial.suggest_float('learning_rate', 0.01, 0.3),\n",
    "        'num_leaves': trial.suggest_int('num_leaves', 5, 100),\n",
    "        'max_depth': trial.suggest_int('max_depth', 3, 10),\n",
    "        'min_child_samples': trial.suggest_int('min_child_samples', 2, 50),\n",
    "        'subsample': trial.suggest_float('subsample', 0.4, 1.0),\n",
    "        'colsample_bytree': trial.suggest_float('colsample_bytree', 0.4, 1.0)\n",
    "    }\n",
    "    \n",
    "    model = lgb.LGBMRegressor(**params)\n",
    "    model.fit(\n",
    "        X_train, y_train,\n",
    "        eval_set=[(X_valid, y_valid)],\n",
    "        eval_metric='rmse',\n",
    "        callbacks=[early_stopping(stopping_rounds=100)]\n",
    "        \n",
    "    )\n",
    "    \n",
    "    y_pred = model.predict(X_valid)\n",
    "    mse = mean_squared_error(y_valid, y_pred, squared=False)\n",
    "    return mse"
   ]
  },
  {
   "cell_type": "code",
   "execution_count": 20,
   "metadata": {},
   "outputs": [
    {
     "name": "stderr",
     "output_type": "stream",
     "text": [
      "[I 2025-06-11 17:35:55,630] A new study created in memory with name: no-name-52d37c48-b1a2-4a5e-b9bd-b5a4a4125533\n"
     ]
    },
    {
     "name": "stdout",
     "output_type": "stream",
     "text": [
      "Training until validation scores don't improve for 100 rounds\n"
     ]
    },
    {
     "name": "stderr",
     "output_type": "stream",
     "text": [
      "[I 2025-06-11 17:35:56,743] Trial 0 finished with value: 31.042565003451422 and parameters: {'max_lag': 13, 'rolling_mean_size': 12, 'learning_rate': 0.22227824312530747, 'num_leaves': 62, 'max_depth': 4, 'min_child_samples': 9, 'subsample': 0.4348501673009197, 'colsample_bytree': 0.9197056874649611}. Best is trial 0 with value: 31.042565003451422.\n"
     ]
    },
    {
     "name": "stdout",
     "output_type": "stream",
     "text": [
      "Early stopping, best iteration is:\n",
      "[116]\tvalid_0's rmse: 31.0426\tvalid_0's l2: 963.641\n",
      "Training until validation scores don't improve for 100 rounds\n",
      "Early stopping, best iteration is:\n",
      "[473]\tvalid_0's rmse: 31.6362\tvalid_0's l2: 1000.85\n"
     ]
    },
    {
     "name": "stderr",
     "output_type": "stream",
     "text": [
      "[I 2025-06-11 17:36:09,855] Trial 1 finished with value: 31.636203696015865 and parameters: {'max_lag': 17, 'rolling_mean_size': 9, 'learning_rate': 0.01596950334578271, 'num_leaves': 98, 'max_depth': 9, 'min_child_samples': 12, 'subsample': 0.5090949803242604, 'colsample_bytree': 0.5100427059120604}. Best is trial 0 with value: 31.042565003451422.\n"
     ]
    },
    {
     "name": "stdout",
     "output_type": "stream",
     "text": [
      "Training until validation scores don't improve for 100 rounds\n"
     ]
    },
    {
     "name": "stderr",
     "output_type": "stream",
     "text": [
      "[I 2025-06-11 17:36:11,438] Trial 2 finished with value: 32.5642863428894 and parameters: {'max_lag': 11, 'rolling_mean_size': 7, 'learning_rate': 0.13526405540621358, 'num_leaves': 32, 'max_depth': 7, 'min_child_samples': 8, 'subsample': 0.5752867891211308, 'colsample_bytree': 0.619817105976215}. Best is trial 0 with value: 31.042565003451422.\n"
     ]
    },
    {
     "name": "stdout",
     "output_type": "stream",
     "text": [
      "Early stopping, best iteration is:\n",
      "[61]\tvalid_0's rmse: 32.5643\tvalid_0's l2: 1060.43\n",
      "Training until validation scores don't improve for 100 rounds\n"
     ]
    },
    {
     "name": "stderr",
     "output_type": "stream",
     "text": [
      "[I 2025-06-11 17:36:15,339] Trial 3 finished with value: 31.627298395678164 and parameters: {'max_lag': 14, 'rolling_mean_size': 10, 'learning_rate': 0.06790539682592432, 'num_leaves': 54, 'max_depth': 7, 'min_child_samples': 4, 'subsample': 0.764526911140863, 'colsample_bytree': 0.502314474212375}. Best is trial 0 with value: 31.042565003451422.\n"
     ]
    },
    {
     "name": "stdout",
     "output_type": "stream",
     "text": [
      "Early stopping, best iteration is:\n",
      "[178]\tvalid_0's rmse: 31.6273\tvalid_0's l2: 1000.29\n",
      "Training until validation scores don't improve for 100 rounds\n"
     ]
    },
    {
     "name": "stderr",
     "output_type": "stream",
     "text": [
      "[I 2025-06-11 17:36:16,346] Trial 4 finished with value: 32.54242028067293 and parameters: {'max_lag': 7, 'rolling_mean_size': 12, 'learning_rate': 0.2900332895916222, 'num_leaves': 82, 'max_depth': 5, 'min_child_samples': 6, 'subsample': 0.8105398159072941, 'colsample_bytree': 0.6640914962437607}. Best is trial 0 with value: 31.042565003451422.\n"
     ]
    },
    {
     "name": "stdout",
     "output_type": "stream",
     "text": [
      "Early stopping, best iteration is:\n",
      "[47]\tvalid_0's rmse: 32.5424\tvalid_0's l2: 1059.01\n",
      "Training until validation scores don't improve for 100 rounds\n",
      "Early stopping, best iteration is:\n",
      "[882]\tvalid_0's rmse: 33.1827\tvalid_0's l2: 1101.09\n"
     ]
    },
    {
     "name": "stderr",
     "output_type": "stream",
     "text": [
      "[I 2025-06-11 17:36:22,741] Trial 5 finished with value: 33.1826895373271 and parameters: {'max_lag': 8, 'rolling_mean_size': 6, 'learning_rate': 0.019972671123413333, 'num_leaves': 92, 'max_depth': 5, 'min_child_samples': 34, 'subsample': 0.5870266456536466, 'colsample_bytree': 0.7120408127066865}. Best is trial 0 with value: 31.042565003451422.\n"
     ]
    },
    {
     "name": "stdout",
     "output_type": "stream",
     "text": [
      "Training until validation scores don't improve for 100 rounds\n"
     ]
    },
    {
     "name": "stderr",
     "output_type": "stream",
     "text": [
      "[I 2025-06-11 17:36:24,537] Trial 6 finished with value: 32.97028012602303 and parameters: {'max_lag': 16, 'rolling_mean_size': 3, 'learning_rate': 0.291179542051722, 'num_leaves': 79, 'max_depth': 10, 'min_child_samples': 45, 'subsample': 0.7587399872866512, 'colsample_bytree': 0.9531245410138701}. Best is trial 0 with value: 31.042565003451422.\n"
     ]
    },
    {
     "name": "stdout",
     "output_type": "stream",
     "text": [
      "Early stopping, best iteration is:\n",
      "[16]\tvalid_0's rmse: 32.9703\tvalid_0's l2: 1087.04\n",
      "Training until validation scores don't improve for 100 rounds\n",
      "Early stopping, best iteration is:\n",
      "[362]\tvalid_0's rmse: 33.4411\tvalid_0's l2: 1118.31\n"
     ]
    },
    {
     "name": "stderr",
     "output_type": "stream",
     "text": [
      "[I 2025-06-11 17:36:29,051] Trial 7 finished with value: 33.44111662336869 and parameters: {'max_lag': 7, 'rolling_mean_size': 3, 'learning_rate': 0.023115913784056037, 'num_leaves': 36, 'max_depth': 6, 'min_child_samples': 15, 'subsample': 0.8972425054911576, 'colsample_bytree': 0.6140519960161536}. Best is trial 0 with value: 31.042565003451422.\n"
     ]
    },
    {
     "name": "stdout",
     "output_type": "stream",
     "text": [
      "Training until validation scores don't improve for 100 rounds\n",
      "Early stopping, best iteration is:\n",
      "[1043]\tvalid_0's rmse: 31.6425\tvalid_0's l2: 1001.24\n"
     ]
    },
    {
     "name": "stderr",
     "output_type": "stream",
     "text": [
      "[I 2025-06-11 17:36:32,153] Trial 8 finished with value: 31.64245454590528 and parameters: {'max_lag': 11, 'rolling_mean_size': 7, 'learning_rate': 0.050868025242681164, 'num_leaves': 82, 'max_depth': 3, 'min_child_samples': 50, 'subsample': 0.8633468615779945, 'colsample_bytree': 0.5192294089205034}. Best is trial 0 with value: 31.042565003451422.\n"
     ]
    },
    {
     "name": "stdout",
     "output_type": "stream",
     "text": [
      "Training until validation scores don't improve for 100 rounds\n"
     ]
    },
    {
     "name": "stderr",
     "output_type": "stream",
     "text": [
      "[I 2025-06-11 17:36:34,339] Trial 9 finished with value: 34.18028946828302 and parameters: {'max_lag': 6, 'rolling_mean_size': 10, 'learning_rate': 0.21498862971580895, 'num_leaves': 74, 'max_depth': 9, 'min_child_samples': 5, 'subsample': 0.6150794371265635, 'colsample_bytree': 0.4695214357150779}. Best is trial 0 with value: 31.042565003451422.\n"
     ]
    },
    {
     "name": "stdout",
     "output_type": "stream",
     "text": [
      "Early stopping, best iteration is:\n",
      "[28]\tvalid_0's rmse: 34.1803\tvalid_0's l2: 1168.29\n",
      "Training until validation scores don't improve for 100 rounds\n"
     ]
    },
    {
     "name": "stderr",
     "output_type": "stream",
     "text": [
      "[I 2025-06-11 17:36:35,438] Trial 10 finished with value: 31.652661076180344 and parameters: {'max_lag': 23, 'rolling_mean_size': 12, 'learning_rate': 0.20028437880848377, 'num_leaves': 6, 'max_depth': 3, 'min_child_samples': 23, 'subsample': 0.40908654226165414, 'colsample_bytree': 0.9856839399147971}. Best is trial 0 with value: 31.042565003451422.\n"
     ]
    },
    {
     "name": "stdout",
     "output_type": "stream",
     "text": [
      "Early stopping, best iteration is:\n",
      "[180]\tvalid_0's rmse: 31.6527\tvalid_0's l2: 1001.89\n",
      "Training until validation scores don't improve for 100 rounds\n"
     ]
    },
    {
     "name": "stderr",
     "output_type": "stream",
     "text": [
      "[I 2025-06-11 17:36:37,339] Trial 11 finished with value: 31.186026892794377 and parameters: {'max_lag': 13, 'rolling_mean_size': 10, 'learning_rate': 0.11221980634745266, 'num_leaves': 58, 'max_depth': 7, 'min_child_samples': 21, 'subsample': 0.9693641950661773, 'colsample_bytree': 0.8468500116346949}. Best is trial 0 with value: 31.042565003451422.\n"
     ]
    },
    {
     "name": "stdout",
     "output_type": "stream",
     "text": [
      "Early stopping, best iteration is:\n",
      "[83]\tvalid_0's rmse: 31.186\tvalid_0's l2: 972.568\n",
      "Training until validation scores don't improve for 100 rounds\n"
     ]
    },
    {
     "name": "stderr",
     "output_type": "stream",
     "text": [
      "[I 2025-06-11 17:36:38,951] Trial 12 finished with value: 31.12207126658591 and parameters: {'max_lag': 20, 'rolling_mean_size': 12, 'learning_rate': 0.12633373867857195, 'num_leaves': 57, 'max_depth': 5, 'min_child_samples': 19, 'subsample': 0.9968331616162444, 'colsample_bytree': 0.8475971801379842}. Best is trial 0 with value: 31.042565003451422.\n"
     ]
    },
    {
     "name": "stdout",
     "output_type": "stream",
     "text": [
      "Early stopping, best iteration is:\n",
      "[104]\tvalid_0's rmse: 31.1221\tvalid_0's l2: 968.583\n",
      "Training until validation scores don't improve for 100 rounds\n"
     ]
    },
    {
     "name": "stderr",
     "output_type": "stream",
     "text": [
      "[I 2025-06-11 17:36:40,047] Trial 13 finished with value: 31.673541690850993 and parameters: {'max_lag': 20, 'rolling_mean_size': 12, 'learning_rate': 0.18030196160665224, 'num_leaves': 39, 'max_depth': 4, 'min_child_samples': 33, 'subsample': 0.9996174631849308, 'colsample_bytree': 0.8311518451315368}. Best is trial 0 with value: 31.042565003451422.\n"
     ]
    },
    {
     "name": "stdout",
     "output_type": "stream",
     "text": [
      "Early stopping, best iteration is:\n",
      "[88]\tvalid_0's rmse: 31.6735\tvalid_0's l2: 1003.21\n",
      "Training until validation scores don't improve for 100 rounds\n"
     ]
    },
    {
     "name": "stderr",
     "output_type": "stream",
     "text": [
      "[I 2025-06-11 17:36:41,538] Trial 14 finished with value: 31.883239774916245 and parameters: {'max_lag': 21, 'rolling_mean_size': 5, 'learning_rate': 0.24141851203291492, 'num_leaves': 65, 'max_depth': 5, 'min_child_samples': 16, 'subsample': 0.6772688550406769, 'colsample_bytree': 0.8555610625614984}. Best is trial 0 with value: 31.042565003451422.\n"
     ]
    },
    {
     "name": "stdout",
     "output_type": "stream",
     "text": [
      "Early stopping, best iteration is:\n",
      "[68]\tvalid_0's rmse: 31.8832\tvalid_0's l2: 1016.54\n",
      "Training until validation scores don't improve for 100 rounds\n"
     ]
    },
    {
     "name": "stderr",
     "output_type": "stream",
     "text": [
      "[I 2025-06-11 17:36:43,343] Trial 15 finished with value: 31.22834416508808 and parameters: {'max_lag': 18, 'rolling_mean_size': 1, 'learning_rate': 0.10643467279584748, 'num_leaves': 43, 'max_depth': 4, 'min_child_samples': 29, 'subsample': 0.41241881162228133, 'colsample_bytree': 0.7634222449905999}. Best is trial 0 with value: 31.042565003451422.\n"
     ]
    },
    {
     "name": "stdout",
     "output_type": "stream",
     "text": [
      "Early stopping, best iteration is:\n",
      "[246]\tvalid_0's rmse: 31.2283\tvalid_0's l2: 975.209\n",
      "Training until validation scores don't improve for 100 rounds\n"
     ]
    },
    {
     "name": "stderr",
     "output_type": "stream",
     "text": [
      "[I 2025-06-11 17:36:44,744] Trial 16 finished with value: 32.02034105072117 and parameters: {'max_lag': 19, 'rolling_mean_size': 9, 'learning_rate': 0.2510435295785099, 'num_leaves': 62, 'max_depth': 6, 'min_child_samples': 19, 'subsample': 0.6824634788258586, 'colsample_bytree': 0.9271825820808323}. Best is trial 0 with value: 31.042565003451422.\n"
     ]
    },
    {
     "name": "stdout",
     "output_type": "stream",
     "text": [
      "Early stopping, best iteration is:\n",
      "[22]\tvalid_0's rmse: 32.0203\tvalid_0's l2: 1025.3\n",
      "Training until validation scores don't improve for 100 rounds\n"
     ]
    },
    {
     "name": "stderr",
     "output_type": "stream",
     "text": [
      "[I 2025-06-11 17:36:46,246] Trial 17 finished with value: 31.596471595243486 and parameters: {'max_lag': 24, 'rolling_mean_size': 11, 'learning_rate': 0.15913694741493067, 'num_leaves': 21, 'max_depth': 4, 'min_child_samples': 11, 'subsample': 0.5025829736912527, 'colsample_bytree': 0.9033159542100373}. Best is trial 0 with value: 31.042565003451422.\n"
     ]
    },
    {
     "name": "stdout",
     "output_type": "stream",
     "text": [
      "Early stopping, best iteration is:\n",
      "[130]\tvalid_0's rmse: 31.5965\tvalid_0's l2: 998.337\n",
      "Training until validation scores don't improve for 100 rounds\n"
     ]
    },
    {
     "name": "stderr",
     "output_type": "stream",
     "text": [
      "[I 2025-06-11 17:36:47,654] Trial 18 finished with value: 31.94525831641935 and parameters: {'max_lag': 11, 'rolling_mean_size': 8, 'learning_rate': 0.15587194580738042, 'num_leaves': 47, 'max_depth': 3, 'min_child_samples': 27, 'subsample': 0.9083847228527203, 'colsample_bytree': 0.775866043088393}. Best is trial 0 with value: 31.042565003451422.\n"
     ]
    },
    {
     "name": "stdout",
     "output_type": "stream",
     "text": [
      "Early stopping, best iteration is:\n",
      "[283]\tvalid_0's rmse: 31.9453\tvalid_0's l2: 1020.5\n",
      "Training until validation scores don't improve for 100 rounds\n"
     ]
    },
    {
     "name": "stderr",
     "output_type": "stream",
     "text": [
      "[I 2025-06-11 17:36:48,739] Trial 19 finished with value: 32.312449122637545 and parameters: {'max_lag': 22, 'rolling_mean_size': 12, 'learning_rate': 0.24298024096928925, 'num_leaves': 68, 'max_depth': 5, 'min_child_samples': 38, 'subsample': 0.4664340477865215, 'colsample_bytree': 0.8894379023857256}. Best is trial 0 with value: 31.042565003451422.\n"
     ]
    },
    {
     "name": "stdout",
     "output_type": "stream",
     "text": [
      "Early stopping, best iteration is:\n",
      "[29]\tvalid_0's rmse: 32.3124\tvalid_0's l2: 1044.09\n",
      "Training until validation scores don't improve for 100 rounds\n"
     ]
    },
    {
     "name": "stderr",
     "output_type": "stream",
     "text": [
      "[I 2025-06-11 17:36:52,545] Trial 20 finished with value: 31.525715135818675 and parameters: {'max_lag': 15, 'rolling_mean_size': 11, 'learning_rate': 0.09937620155375605, 'num_leaves': 24, 'max_depth': 8, 'min_child_samples': 17, 'subsample': 0.7526490584295522, 'colsample_bytree': 0.7811210518056801}. Best is trial 0 with value: 31.042565003451422.\n"
     ]
    },
    {
     "name": "stdout",
     "output_type": "stream",
     "text": [
      "Early stopping, best iteration is:\n",
      "[270]\tvalid_0's rmse: 31.5257\tvalid_0's l2: 993.871\n",
      "Training until validation scores don't improve for 100 rounds\n"
     ]
    },
    {
     "name": "stderr",
     "output_type": "stream",
     "text": [
      "[I 2025-06-11 17:36:53,943] Trial 21 finished with value: 31.302951904419185 and parameters: {'max_lag': 13, 'rolling_mean_size': 10, 'learning_rate': 0.12078258565855271, 'num_leaves': 56, 'max_depth': 6, 'min_child_samples': 22, 'subsample': 0.999531399924316, 'colsample_bytree': 0.833146632701707}. Best is trial 0 with value: 31.042565003451422.\n"
     ]
    },
    {
     "name": "stdout",
     "output_type": "stream",
     "text": [
      "Early stopping, best iteration is:\n",
      "[57]\tvalid_0's rmse: 31.303\tvalid_0's l2: 979.875\n",
      "Training until validation scores don't improve for 100 rounds\n"
     ]
    },
    {
     "name": "stderr",
     "output_type": "stream",
     "text": [
      "[I 2025-06-11 17:36:56,638] Trial 22 finished with value: 31.822804290530776 and parameters: {'max_lag': 12, 'rolling_mean_size': 11, 'learning_rate': 0.07535377477592328, 'num_leaves': 52, 'max_depth': 7, 'min_child_samples': 22, 'subsample': 0.9244909845052713, 'colsample_bytree': 0.9882433727919857}. Best is trial 0 with value: 31.042565003451422.\n"
     ]
    },
    {
     "name": "stdout",
     "output_type": "stream",
     "text": [
      "Early stopping, best iteration is:\n",
      "[116]\tvalid_0's rmse: 31.8228\tvalid_0's l2: 1012.69\n",
      "Training until validation scores don't improve for 100 rounds\n"
     ]
    },
    {
     "name": "stderr",
     "output_type": "stream",
     "text": [
      "[I 2025-06-11 17:36:58,938] Trial 23 finished with value: 32.39955917519814 and parameters: {'max_lag': 9, 'rolling_mean_size': 9, 'learning_rate': 0.1344779068268377, 'num_leaves': 59, 'max_depth': 8, 'min_child_samples': 11, 'subsample': 0.9597980300318104, 'colsample_bytree': 0.8716384195014207}. Best is trial 0 with value: 31.042565003451422.\n"
     ]
    },
    {
     "name": "stdout",
     "output_type": "stream",
     "text": [
      "Early stopping, best iteration is:\n",
      "[60]\tvalid_0's rmse: 32.3996\tvalid_0's l2: 1049.73\n",
      "Training until validation scores don't improve for 100 rounds\n"
     ]
    },
    {
     "name": "stderr",
     "output_type": "stream",
     "text": [
      "[I 2025-06-11 17:37:00,140] Trial 24 finished with value: 32.44181435498629 and parameters: {'max_lag': 15, 'rolling_mean_size': 11, 'learning_rate': 0.17749917026697076, 'num_leaves': 71, 'max_depth': 4, 'min_child_samples': 20, 'subsample': 0.8428971241275693, 'colsample_bytree': 0.8052783677914537}. Best is trial 0 with value: 31.042565003451422.\n"
     ]
    },
    {
     "name": "stdout",
     "output_type": "stream",
     "text": [
      "Early stopping, best iteration is:\n",
      "[124]\tvalid_0's rmse: 32.4418\tvalid_0's l2: 1052.47\n"
     ]
    }
   ],
   "source": [
    "study = optuna.create_study(direction='minimize',\n",
    "                            sampler=optuna.samplers.TPESampler(seed=RANDOM_STATE))\n",
    "\n",
    "study.optimize(lgbm_objective, n_trials=25)"
   ]
  },
  {
   "cell_type": "markdown",
   "metadata": {},
   "source": [
    "Наименьшее достигнутое значение RMSE на валидационной выборке составило:"
   ]
  },
  {
   "cell_type": "code",
   "execution_count": 21,
   "metadata": {},
   "outputs": [
    {
     "data": {
      "text/plain": [
       "31.04"
      ]
     },
     "execution_count": 21,
     "metadata": {},
     "output_type": "execute_result"
    }
   ],
   "source": [
    "lgbm_rmse = round(study.best_value, 2)\n",
    "lgbm_rmse"
   ]
  },
  {
   "cell_type": "markdown",
   "metadata": {},
   "source": [
    "При этом параметры модели следующие:"
   ]
  },
  {
   "cell_type": "code",
   "execution_count": 22,
   "metadata": {},
   "outputs": [
    {
     "data": {
      "text/plain": [
       "{'max_lag': 13,\n",
       " 'rolling_mean_size': 12,\n",
       " 'learning_rate': 0.22227824312530747,\n",
       " 'num_leaves': 62,\n",
       " 'max_depth': 4,\n",
       " 'min_child_samples': 9,\n",
       " 'subsample': 0.4348501673009197,\n",
       " 'colsample_bytree': 0.9197056874649611}"
      ]
     },
     "execution_count": 22,
     "metadata": {},
     "output_type": "execute_result"
    }
   ],
   "source": [
    "best_params = study.best_params\n",
    "best_params"
   ]
  },
  {
   "cell_type": "markdown",
   "metadata": {},
   "source": [
    "### Дерево регрессии"
   ]
  },
  {
   "cell_type": "code",
   "execution_count": 23,
   "metadata": {},
   "outputs": [],
   "source": [
    "def reg_tree_objective(trial):\n",
    "    \n",
    "    data_study = data.copy()\n",
    "    \n",
    "    features = {\n",
    "        'df': data_study,\n",
    "                \n",
    "        # параметры для making_features\n",
    "        'max_lag': trial.suggest_int('max_lag', 6, 24),\n",
    "        'rolling_mean_size': trial.suggest_int('rolling_mean_size', 1, 12)\n",
    "    }\n",
    "    \n",
    "    make_features(**features)\n",
    "    data_study.dropna(inplace = True)\n",
    "    \n",
    "    X_train,X_test,y_train,y_test = train_test_split(\n",
    "        data_study.drop('num_orders', axis = 1),\n",
    "        data_study['num_orders'],\n",
    "        test_size = 0.1,\n",
    "        random_state = RANDOM_STATE,\n",
    "        shuffle = False)\n",
    "    \n",
    "    X_train,X_valid,y_train,y_valid = train_test_split(\n",
    "        X_train,\n",
    "        y_train,\n",
    "        test_size = 0.1,\n",
    "        random_state = RANDOM_STATE,\n",
    "        shuffle = False)\n",
    "    \n",
    "    max_depth = trial.suggest_int('max_depth', 5, 15)\n",
    "    min_samples_split = trial.suggest_int('min_samples_split', 10, 20)\n",
    "    min_samples_leaf = trial.suggest_int('min_samples_leaf', 5, 10)\n",
    "    \n",
    "    regressor = DecisionTreeRegressor(max_depth = max_depth,\n",
    "                                      min_samples_split = min_samples_split,\n",
    "                                      min_samples_leaf = min_samples_leaf,\n",
    "                                      random_state = RANDOM_STATE)\n",
    "    \n",
    "    regressor.fit(\n",
    "        X_train, y_train        \n",
    "    )\n",
    "    \n",
    "    y_pred = regressor.predict(X_valid)\n",
    "    mse = mean_squared_error(y_valid, y_pred, squared=False)\n",
    "    return mse"
   ]
  },
  {
   "cell_type": "code",
   "execution_count": 24,
   "metadata": {},
   "outputs": [
    {
     "name": "stderr",
     "output_type": "stream",
     "text": [
      "[I 2025-06-11 17:37:00,223] A new study created in memory with name: no-name-ad4998e3-d04a-4cd4-a540-6c7929a19175\n",
      "[I 2025-06-11 17:37:00,296] Trial 0 finished with value: 35.21123546054154 and parameters: {'max_lag': 13, 'rolling_mean_size': 12, 'max_depth': 13, 'min_samples_split': 16, 'min_samples_leaf': 5}. Best is trial 0 with value: 35.21123546054154.\n",
      "[I 2025-06-11 17:37:00,347] Trial 1 finished with value: 40.29794993383951 and parameters: {'max_lag': 8, 'rolling_mean_size': 1, 'max_depth': 14, 'min_samples_split': 16, 'min_samples_leaf': 9}. Best is trial 0 with value: 35.21123546054154.\n",
      "[I 2025-06-11 17:37:00,391] Trial 2 finished with value: 36.64924561231736 and parameters: {'max_lag': 6, 'rolling_mean_size': 12, 'max_depth': 14, 'min_samples_split': 12, 'min_samples_leaf': 6}. Best is trial 0 with value: 35.21123546054154.\n",
      "[I 2025-06-11 17:37:00,441] Trial 3 finished with value: 37.97320050303065 and parameters: {'max_lag': 9, 'rolling_mean_size': 4, 'max_depth': 10, 'min_samples_split': 14, 'min_samples_leaf': 6}. Best is trial 0 with value: 35.21123546054154.\n",
      "[I 2025-06-11 17:37:00,503] Trial 4 finished with value: 37.25430393665485 and parameters: {'max_lag': 17, 'rolling_mean_size': 2, 'max_depth': 8, 'min_samples_split': 14, 'min_samples_leaf': 7}. Best is trial 0 with value: 35.21123546054154.\n",
      "[I 2025-06-11 17:37:00,580] Trial 5 finished with value: 42.138748735260144 and parameters: {'max_lag': 20, 'rolling_mean_size': 3, 'max_depth': 10, 'min_samples_split': 16, 'min_samples_leaf': 5}. Best is trial 0 with value: 35.21123546054154.\n",
      "[I 2025-06-11 17:37:00,629] Trial 6 finished with value: 42.627871621809305 and parameters: {'max_lag': 17, 'rolling_mean_size': 3, 'max_depth': 5, 'min_samples_split': 20, 'min_samples_leaf': 10}. Best is trial 0 with value: 35.21123546054154.\n",
      "[I 2025-06-11 17:37:00,693] Trial 7 finished with value: 41.87794199987943 and parameters: {'max_lag': 21, 'rolling_mean_size': 4, 'max_depth': 6, 'min_samples_split': 17, 'min_samples_leaf': 7}. Best is trial 0 with value: 35.21123546054154.\n",
      "[I 2025-06-11 17:37:00,727] Trial 8 finished with value: 41.481082721500016 and parameters: {'max_lag': 8, 'rolling_mean_size': 6, 'max_depth': 5, 'min_samples_split': 20, 'min_samples_leaf': 6}. Best is trial 0 with value: 35.21123546054154.\n",
      "[I 2025-06-11 17:37:00,801] Trial 9 finished with value: 39.19999062468796 and parameters: {'max_lag': 18, 'rolling_mean_size': 4, 'max_depth': 10, 'min_samples_split': 16, 'min_samples_leaf': 6}. Best is trial 0 with value: 35.21123546054154.\n",
      "[I 2025-06-11 17:37:00,892] Trial 10 finished with value: 34.51105773166386 and parameters: {'max_lag': 13, 'rolling_mean_size': 12, 'max_depth': 15, 'min_samples_split': 10, 'min_samples_leaf': 8}. Best is trial 10 with value: 34.51105773166386.\n",
      "[I 2025-06-11 17:37:00,982] Trial 11 finished with value: 34.51105773166386 and parameters: {'max_lag': 13, 'rolling_mean_size': 12, 'max_depth': 15, 'min_samples_split': 10, 'min_samples_leaf': 8}. Best is trial 10 with value: 34.51105773166386.\n",
      "[I 2025-06-11 17:37:01,064] Trial 12 finished with value: 34.33003308829815 and parameters: {'max_lag': 13, 'rolling_mean_size': 10, 'max_depth': 15, 'min_samples_split': 10, 'min_samples_leaf': 8}. Best is trial 12 with value: 34.33003308829815.\n",
      "[I 2025-06-11 17:37:01,147] Trial 13 finished with value: 34.89580774154668 and parameters: {'max_lag': 12, 'rolling_mean_size': 9, 'max_depth': 12, 'min_samples_split': 10, 'min_samples_leaf': 8}. Best is trial 12 with value: 34.33003308829815.\n",
      "[I 2025-06-11 17:37:01,224] Trial 14 finished with value: 34.73063190059566 and parameters: {'max_lag': 11, 'rolling_mean_size': 9, 'max_depth': 12, 'min_samples_split': 12, 'min_samples_leaf': 9}. Best is trial 12 with value: 34.33003308829815.\n",
      "[I 2025-06-11 17:37:01,348] Trial 15 finished with value: 38.7988546015669 and parameters: {'max_lag': 24, 'rolling_mean_size': 10, 'max_depth': 15, 'min_samples_split': 12, 'min_samples_leaf': 9}. Best is trial 12 with value: 34.33003308829815.\n",
      "[I 2025-06-11 17:37:01,440] Trial 16 finished with value: 34.15487321496217 and parameters: {'max_lag': 15, 'rolling_mean_size': 10, 'max_depth': 12, 'min_samples_split': 11, 'min_samples_leaf': 8}. Best is trial 16 with value: 34.15487321496217.\n",
      "[I 2025-06-11 17:37:01,528] Trial 17 finished with value: 34.601113668185775 and parameters: {'max_lag': 15, 'rolling_mean_size': 7, 'max_depth': 12, 'min_samples_split': 11, 'min_samples_leaf': 10}. Best is trial 16 with value: 34.15487321496217.\n",
      "[I 2025-06-11 17:37:01,622] Trial 18 finished with value: 34.64352016957966 and parameters: {'max_lag': 16, 'rolling_mean_size': 10, 'max_depth': 11, 'min_samples_split': 13, 'min_samples_leaf': 7}. Best is trial 16 with value: 34.15487321496217.\n",
      "[I 2025-06-11 17:37:01,700] Trial 19 finished with value: 35.439998667419225 and parameters: {'max_lag': 10, 'rolling_mean_size': 7, 'max_depth': 8, 'min_samples_split': 11, 'min_samples_leaf': 9}. Best is trial 16 with value: 34.15487321496217.\n",
      "[I 2025-06-11 17:37:01,789] Trial 20 finished with value: 34.38366260686085 and parameters: {'max_lag': 15, 'rolling_mean_size': 10, 'max_depth': 13, 'min_samples_split': 14, 'min_samples_leaf': 8}. Best is trial 16 with value: 34.15487321496217.\n",
      "[I 2025-06-11 17:37:01,882] Trial 21 finished with value: 34.01856979007272 and parameters: {'max_lag': 15, 'rolling_mean_size': 10, 'max_depth': 13, 'min_samples_split': 18, 'min_samples_leaf': 8}. Best is trial 21 with value: 34.01856979007272.\n",
      "[I 2025-06-11 17:37:01,986] Trial 22 finished with value: 36.02116437918756 and parameters: {'max_lag': 19, 'rolling_mean_size': 8, 'max_depth': 13, 'min_samples_split': 18, 'min_samples_leaf': 8}. Best is trial 21 with value: 34.01856979007272.\n",
      "[I 2025-06-11 17:37:02,071] Trial 23 finished with value: 37.89274507342651 and parameters: {'max_lag': 14, 'rolling_mean_size': 11, 'max_depth': 14, 'min_samples_split': 18, 'min_samples_leaf': 7}. Best is trial 21 with value: 34.01856979007272.\n",
      "[I 2025-06-11 17:37:02,165] Trial 24 finished with value: 35.019656235998845 and parameters: {'max_lag': 16, 'rolling_mean_size': 9, 'max_depth': 11, 'min_samples_split': 18, 'min_samples_leaf': 9}. Best is trial 21 with value: 34.01856979007272.\n"
     ]
    }
   ],
   "source": [
    "tree_study = optuna.create_study(direction='minimize',\n",
    "                            sampler=optuna.samplers.TPESampler(seed=RANDOM_STATE))\n",
    "\n",
    "tree_study.optimize(reg_tree_objective, n_trials=25)"
   ]
  },
  {
   "cell_type": "markdown",
   "metadata": {},
   "source": [
    "Наименьшее достигнутое значение RMSE на валидационной выборке составило:"
   ]
  },
  {
   "cell_type": "code",
   "execution_count": 25,
   "metadata": {},
   "outputs": [
    {
     "data": {
      "text/plain": [
       "34.02"
      ]
     },
     "execution_count": 25,
     "metadata": {},
     "output_type": "execute_result"
    }
   ],
   "source": [
    "tree_rmse = round(tree_study.best_value, 2)\n",
    "tree_rmse"
   ]
  },
  {
   "cell_type": "markdown",
   "metadata": {},
   "source": [
    "При этом параметры модели следующие:"
   ]
  },
  {
   "cell_type": "code",
   "execution_count": 26,
   "metadata": {
    "scrolled": true
   },
   "outputs": [
    {
     "data": {
      "text/plain": [
       "{'max_lag': 15,\n",
       " 'rolling_mean_size': 10,\n",
       " 'max_depth': 13,\n",
       " 'min_samples_split': 18,\n",
       " 'min_samples_leaf': 8}"
      ]
     },
     "execution_count": 26,
     "metadata": {},
     "output_type": "execute_result"
    }
   ],
   "source": [
    "best_tree_params = tree_study.best_params\n",
    "best_tree_params"
   ]
  },
  {
   "cell_type": "markdown",
   "metadata": {},
   "source": [
    "### Анализ"
   ]
  },
  {
   "cell_type": "code",
   "execution_count": 27,
   "metadata": {
    "scrolled": true
   },
   "outputs": [
    {
     "data": {
      "text/html": [
       "<div>\n",
       "<style scoped>\n",
       "    .dataframe tbody tr th:only-of-type {\n",
       "        vertical-align: middle;\n",
       "    }\n",
       "\n",
       "    .dataframe tbody tr th {\n",
       "        vertical-align: top;\n",
       "    }\n",
       "\n",
       "    .dataframe thead th {\n",
       "        text-align: right;\n",
       "    }\n",
       "</style>\n",
       "<table border=\"1\" class=\"dataframe\">\n",
       "  <thead>\n",
       "    <tr style=\"text-align: right;\">\n",
       "      <th></th>\n",
       "      <th>lgbm</th>\n",
       "      <th>tree</th>\n",
       "      <th>%diff</th>\n",
       "    </tr>\n",
       "  </thead>\n",
       "  <tbody>\n",
       "    <tr>\n",
       "      <th>rmse_val</th>\n",
       "      <td>31.04</td>\n",
       "      <td>34.02</td>\n",
       "      <td>9.6</td>\n",
       "    </tr>\n",
       "  </tbody>\n",
       "</table>\n",
       "</div>"
      ],
      "text/plain": [
       "           lgbm   tree  %diff\n",
       "rmse_val  31.04  34.02    9.6"
      ]
     },
     "execution_count": 27,
     "metadata": {},
     "output_type": "execute_result"
    }
   ],
   "source": [
    "results = pd.DataFrame(data = {'lgbm': [lgbm_rmse],\n",
    "                             'tree':[tree_rmse]},\n",
    "                      index = ['rmse_val'])\n",
    "results['%diff'] = round(abs((results['lgbm'] - results['tree'])/results['lgbm'] * 100),2)\n",
    "results"
   ]
  },
  {
   "cell_type": "markdown",
   "metadata": {},
   "source": [
    "Поскольку заказчиком не были озвучены требования по времени обучения и предсказания модели, стоит выбрать наиболее точную, а именно, модель градиентного бустинга"
   ]
  },
  {
   "cell_type": "code",
   "execution_count": 28,
   "metadata": {},
   "outputs": [
    {
     "data": {
      "text/plain": [
       "{'max_lag': 13,\n",
       " 'rolling_mean_size': 12,\n",
       " 'learning_rate': 0.22227824312530747,\n",
       " 'num_leaves': 62,\n",
       " 'max_depth': 4,\n",
       " 'min_child_samples': 9,\n",
       " 'subsample': 0.4348501673009197,\n",
       " 'colsample_bytree': 0.9197056874649611}"
      ]
     },
     "execution_count": 28,
     "metadata": {},
     "output_type": "execute_result"
    }
   ],
   "source": [
    "best_params"
   ]
  },
  {
   "cell_type": "markdown",
   "metadata": {},
   "source": [
    "**Вывод:**  Наименьшее значение RMSE на валидационной выборке 31.04 достигнуто моделью градиентного бустинга. Параметры для формирования новых признаков: 'max_lag': 13, 'rolling_mean_size': 12. Гиперпараметры модели: 'learning_rate': 0.22, 'num_leaves': 62,  'max_depth': 4,  'min_child_samples': 9, 'subsample': 0.43, 'colsample_bytree': 0.92.\n",
    "Поскольку заказчиком не были озвучены требования по времени обучения и предсказания модели, стоит выбрать наиболее точную, а именно, модель градиентного бустинга."
   ]
  },
  {
   "cell_type": "markdown",
   "metadata": {},
   "source": [
    "## Тестирование"
   ]
  },
  {
   "cell_type": "code",
   "execution_count": 29,
   "metadata": {},
   "outputs": [],
   "source": [
    "make_features(data, best_params['max_lag'], best_params['rolling_mean_size'])\n",
    "X_train,X_test,y_train,y_test = train_test_split(\n",
    "    data.drop('num_orders', axis = 1),\n",
    "    data['num_orders'],\n",
    "    test_size = 0.1,\n",
    "    random_state = RANDOM_STATE,\n",
    "    shuffle = False)"
   ]
  },
  {
   "cell_type": "markdown",
   "metadata": {},
   "source": [
    "Обучиим модель градиентного бустинга с оптимальными гиперпараметрами."
   ]
  },
  {
   "cell_type": "code",
   "execution_count": 30,
   "metadata": {},
   "outputs": [],
   "source": [
    "lgbm_reg = lgb.LGBMRegressor(objective = 'regression',\n",
    "                         verbosity = -1,\n",
    "                         boosting_type = 'gbdt',\n",
    "                         random_state = RANDOM_STATE,\n",
    "                         n_estimators = 10000,\n",
    "                        \n",
    "                        learning_rate = best_params['learning_rate'],\n",
    "                        num_leaves = best_params['num_leaves'],\n",
    "                        max_depth = best_params['max_depth'],\n",
    "                        min_child_samples = best_params['min_child_samples'],\n",
    "                        subsample = best_params['subsample'],\n",
    "                        colsample_bytree = best_params['colsample_bytree'])"
   ]
  },
  {
   "cell_type": "code",
   "execution_count": 31,
   "metadata": {},
   "outputs": [
    {
     "data": {
      "text/html": [
       "<style>#sk-container-id-1 {color: black;background-color: white;}#sk-container-id-1 pre{padding: 0;}#sk-container-id-1 div.sk-toggleable {background-color: white;}#sk-container-id-1 label.sk-toggleable__label {cursor: pointer;display: block;width: 100%;margin-bottom: 0;padding: 0.3em;box-sizing: border-box;text-align: center;}#sk-container-id-1 label.sk-toggleable__label-arrow:before {content: \"▸\";float: left;margin-right: 0.25em;color: #696969;}#sk-container-id-1 label.sk-toggleable__label-arrow:hover:before {color: black;}#sk-container-id-1 div.sk-estimator:hover label.sk-toggleable__label-arrow:before {color: black;}#sk-container-id-1 div.sk-toggleable__content {max-height: 0;max-width: 0;overflow: hidden;text-align: left;background-color: #f0f8ff;}#sk-container-id-1 div.sk-toggleable__content pre {margin: 0.2em;color: black;border-radius: 0.25em;background-color: #f0f8ff;}#sk-container-id-1 input.sk-toggleable__control:checked~div.sk-toggleable__content {max-height: 200px;max-width: 100%;overflow: auto;}#sk-container-id-1 input.sk-toggleable__control:checked~label.sk-toggleable__label-arrow:before {content: \"▾\";}#sk-container-id-1 div.sk-estimator input.sk-toggleable__control:checked~label.sk-toggleable__label {background-color: #d4ebff;}#sk-container-id-1 div.sk-label input.sk-toggleable__control:checked~label.sk-toggleable__label {background-color: #d4ebff;}#sk-container-id-1 input.sk-hidden--visually {border: 0;clip: rect(1px 1px 1px 1px);clip: rect(1px, 1px, 1px, 1px);height: 1px;margin: -1px;overflow: hidden;padding: 0;position: absolute;width: 1px;}#sk-container-id-1 div.sk-estimator {font-family: monospace;background-color: #f0f8ff;border: 1px dotted black;border-radius: 0.25em;box-sizing: border-box;margin-bottom: 0.5em;}#sk-container-id-1 div.sk-estimator:hover {background-color: #d4ebff;}#sk-container-id-1 div.sk-parallel-item::after {content: \"\";width: 100%;border-bottom: 1px solid gray;flex-grow: 1;}#sk-container-id-1 div.sk-label:hover label.sk-toggleable__label {background-color: #d4ebff;}#sk-container-id-1 div.sk-serial::before {content: \"\";position: absolute;border-left: 1px solid gray;box-sizing: border-box;top: 0;bottom: 0;left: 50%;z-index: 0;}#sk-container-id-1 div.sk-serial {display: flex;flex-direction: column;align-items: center;background-color: white;padding-right: 0.2em;padding-left: 0.2em;position: relative;}#sk-container-id-1 div.sk-item {position: relative;z-index: 1;}#sk-container-id-1 div.sk-parallel {display: flex;align-items: stretch;justify-content: center;background-color: white;position: relative;}#sk-container-id-1 div.sk-item::before, #sk-container-id-1 div.sk-parallel-item::before {content: \"\";position: absolute;border-left: 1px solid gray;box-sizing: border-box;top: 0;bottom: 0;left: 50%;z-index: -1;}#sk-container-id-1 div.sk-parallel-item {display: flex;flex-direction: column;z-index: 1;position: relative;background-color: white;}#sk-container-id-1 div.sk-parallel-item:first-child::after {align-self: flex-end;width: 50%;}#sk-container-id-1 div.sk-parallel-item:last-child::after {align-self: flex-start;width: 50%;}#sk-container-id-1 div.sk-parallel-item:only-child::after {width: 0;}#sk-container-id-1 div.sk-dashed-wrapped {border: 1px dashed gray;margin: 0 0.4em 0.5em 0.4em;box-sizing: border-box;padding-bottom: 0.4em;background-color: white;}#sk-container-id-1 div.sk-label label {font-family: monospace;font-weight: bold;display: inline-block;line-height: 1.2em;}#sk-container-id-1 div.sk-label-container {text-align: center;}#sk-container-id-1 div.sk-container {/* jupyter's `normalize.less` sets `[hidden] { display: none; }` but bootstrap.min.css set `[hidden] { display: none !important; }` so we also need the `!important` here to be able to override the default hidden behavior on the sphinx rendered scikit-learn.org. See: https://github.com/scikit-learn/scikit-learn/issues/21755 */display: inline-block !important;position: relative;}#sk-container-id-1 div.sk-text-repr-fallback {display: none;}</style><div id=\"sk-container-id-1\" class=\"sk-top-container\"><div class=\"sk-text-repr-fallback\"><pre>LGBMRegressor(colsample_bytree=0.9197056874649611,\n",
       "              learning_rate=0.22227824312530747, max_depth=4,\n",
       "              min_child_samples=9, n_estimators=10000, num_leaves=62,\n",
       "              objective=&#x27;regression&#x27;, random_state=42,\n",
       "              subsample=0.4348501673009197, verbosity=-1)</pre><b>In a Jupyter environment, please rerun this cell to show the HTML representation or trust the notebook. <br />On GitHub, the HTML representation is unable to render, please try loading this page with nbviewer.org.</b></div><div class=\"sk-container\" hidden><div class=\"sk-item\"><div class=\"sk-estimator sk-toggleable\"><input class=\"sk-toggleable__control sk-hidden--visually\" id=\"sk-estimator-id-1\" type=\"checkbox\" checked><label for=\"sk-estimator-id-1\" class=\"sk-toggleable__label sk-toggleable__label-arrow\">LGBMRegressor</label><div class=\"sk-toggleable__content\"><pre>LGBMRegressor(colsample_bytree=0.9197056874649611,\n",
       "              learning_rate=0.22227824312530747, max_depth=4,\n",
       "              min_child_samples=9, n_estimators=10000, num_leaves=62,\n",
       "              objective=&#x27;regression&#x27;, random_state=42,\n",
       "              subsample=0.4348501673009197, verbosity=-1)</pre></div></div></div></div></div>"
      ],
      "text/plain": [
       "LGBMRegressor(colsample_bytree=0.9197056874649611,\n",
       "              learning_rate=0.22227824312530747, max_depth=4,\n",
       "              min_child_samples=9, n_estimators=10000, num_leaves=62,\n",
       "              objective='regression', random_state=42,\n",
       "              subsample=0.4348501673009197, verbosity=-1)"
      ]
     },
     "execution_count": 31,
     "metadata": {},
     "output_type": "execute_result"
    }
   ],
   "source": [
    "lgbm_reg.fit(X_train, y_train)"
   ]
  },
  {
   "cell_type": "markdown",
   "metadata": {},
   "source": [
    "Вычислим значение RMSE на тестовой выборке:"
   ]
  },
  {
   "cell_type": "code",
   "execution_count": 32,
   "metadata": {},
   "outputs": [
    {
     "data": {
      "text/plain": [
       "44.54"
      ]
     },
     "execution_count": 32,
     "metadata": {},
     "output_type": "execute_result"
    }
   ],
   "source": [
    "round(mean_squared_error(y_test, lgbm_reg.predict(X_test), squared = False), 2)"
   ]
  },
  {
   "cell_type": "markdown",
   "metadata": {},
   "source": [
    "**Вывод:** проведено тестирование разработанной модели: RMSE на тестовых данных равно 44.54, что удовлетворяет условию RMSE < 48. Модель пригодня для использования бизнесом."
   ]
  },
  {
   "cell_type": "markdown",
   "metadata": {},
   "source": [
    "## Вывод"
   ]
  },
  {
   "cell_type": "markdown",
   "metadata": {},
   "source": [
    "Был проведен исследовательский анализ данных заказов такси из аэропорта сервиса «Чётенькое такси».\n",
    "\n",
    "**В первой части работы** была выполнена загрузка и предобработка данных при которой столбец с информацией о дате приведен к формату datetime, переведен в индекс, выполнено ресемплирование по часу с суммированием количества заказов. Данные чистые, пропуски отсутствуют.\n",
    "\n",
    "**Во второй части работы** был проведен анализ данных, в ходе которого построены графики суточной потребности в такси, дневной скользящей средней, а также размечен месячный тренд. \n",
    "\n",
    "**В третьей части** проведено обучение модели градиентного бустинга и дерева решений посредством модуля поиска гиперпараметров optuna. Наименьшее значение RMSE на валидационной выборке 31.95 достигнуто моделью градиентного бустинга. Параметры для формирования новых признаков: 'max_lag': 24, 'rolling_mean_size': 5. Гиперпараметры модели: 'learning_rate': 0.17, 'num_leaves': 5, 'max_depth': 8, 'min_child_samples': 29, 'subsample': 1, 'colsample_bytree': 0.81.\n",
    "\n",
    "**В четвертой части** проведено тестирование полученной модели, которое показало, что она удовлетворяет условию заказчика: RMSE на тестовых данных < 48 c результатом: 44.54."
   ]
  }
 ],
 "metadata": {
  "ExecuteTimeLog": [
   {
    "duration": 50,
    "start_time": "2025-06-05T16:27:23.522Z"
   },
   {
    "duration": 9271,
    "start_time": "2025-06-05T16:32:53.771Z"
   },
   {
    "duration": 5,
    "start_time": "2025-06-05T16:33:03.044Z"
   },
   {
    "duration": 40,
    "start_time": "2025-06-05T16:37:16.522Z"
   },
   {
    "duration": 3,
    "start_time": "2025-06-05T16:37:17.443Z"
   },
   {
    "duration": 31,
    "start_time": "2025-06-05T16:37:25.635Z"
   },
   {
    "duration": 32,
    "start_time": "2025-06-05T16:43:17.688Z"
   },
   {
    "duration": 3,
    "start_time": "2025-06-05T16:43:18.405Z"
   },
   {
    "duration": 23,
    "start_time": "2025-06-05T16:43:19.122Z"
   },
   {
    "duration": 34,
    "start_time": "2025-06-05T16:43:23.935Z"
   },
   {
    "duration": 3,
    "start_time": "2025-06-05T16:43:25.163Z"
   },
   {
    "duration": 22,
    "start_time": "2025-06-05T16:43:29.362Z"
   },
   {
    "duration": 90,
    "start_time": "2025-06-05T16:46:59.181Z"
   },
   {
    "duration": 8,
    "start_time": "2025-06-05T16:47:52.737Z"
   },
   {
    "duration": 22,
    "start_time": "2025-06-05T16:47:55.296Z"
   },
   {
    "duration": 9,
    "start_time": "2025-06-05T16:48:44.153Z"
   },
   {
    "duration": 4,
    "start_time": "2025-06-05T16:48:53.358Z"
   },
   {
    "duration": 22,
    "start_time": "2025-06-05T17:50:48.042Z"
   },
   {
    "duration": 4,
    "start_time": "2025-06-05T17:51:27.671Z"
   },
   {
    "duration": 845,
    "start_time": "2025-06-05T17:52:15.185Z"
   },
   {
    "duration": 652,
    "start_time": "2025-06-05T17:52:24.401Z"
   },
   {
    "duration": 23,
    "start_time": "2025-06-05T17:53:30.859Z"
   },
   {
    "duration": 1226,
    "start_time": "2025-06-05T17:53:48.177Z"
   },
   {
    "duration": 1929,
    "start_time": "2025-06-05T17:54:11.717Z"
   },
   {
    "duration": 15763,
    "start_time": "2025-06-05T17:55:15.922Z"
   },
   {
    "duration": 12,
    "start_time": "2025-06-05T17:56:33.849Z"
   },
   {
    "duration": 4001,
    "start_time": "2025-06-05T17:57:06.417Z"
   },
   {
    "duration": 287,
    "start_time": "2025-06-05T17:57:35.715Z"
   },
   {
    "duration": 353,
    "start_time": "2025-06-05T17:57:42.662Z"
   },
   {
    "duration": 673,
    "start_time": "2025-06-05T17:58:46.361Z"
   },
   {
    "duration": 721,
    "start_time": "2025-06-05T17:59:31.923Z"
   },
   {
    "duration": 826,
    "start_time": "2025-06-05T17:59:40.525Z"
   },
   {
    "duration": 688,
    "start_time": "2025-06-05T17:59:48.643Z"
   },
   {
    "duration": 751,
    "start_time": "2025-06-05T18:00:37.256Z"
   },
   {
    "duration": 837,
    "start_time": "2025-06-05T18:01:49.080Z"
   },
   {
    "duration": 4,
    "start_time": "2025-06-05T18:02:37.022Z"
   },
   {
    "duration": 758,
    "start_time": "2025-06-05T18:02:44.441Z"
   },
   {
    "duration": 3,
    "start_time": "2025-06-05T18:09:57.387Z"
   },
   {
    "duration": 26,
    "start_time": "2025-06-05T18:09:58.411Z"
   },
   {
    "duration": 3,
    "start_time": "2025-06-05T18:10:10.494Z"
   },
   {
    "duration": 28,
    "start_time": "2025-06-05T18:10:11.723Z"
   },
   {
    "duration": 3,
    "start_time": "2025-06-05T18:10:18.685Z"
   },
   {
    "duration": 24,
    "start_time": "2025-06-05T18:10:20.222Z"
   },
   {
    "duration": 3,
    "start_time": "2025-06-05T18:10:29.131Z"
   },
   {
    "duration": 24,
    "start_time": "2025-06-05T18:10:30.769Z"
   },
   {
    "duration": 3,
    "start_time": "2025-06-05T18:10:39.166Z"
   },
   {
    "duration": 25,
    "start_time": "2025-06-05T18:10:40.394Z"
   },
   {
    "duration": 3,
    "start_time": "2025-06-05T18:10:44.593Z"
   },
   {
    "duration": 25,
    "start_time": "2025-06-05T18:10:45.310Z"
   },
   {
    "duration": 3,
    "start_time": "2025-06-05T18:10:55.038Z"
   },
   {
    "duration": 28,
    "start_time": "2025-06-05T18:10:55.959Z"
   },
   {
    "duration": 3,
    "start_time": "2025-06-05T18:11:19.414Z"
   },
   {
    "duration": 25,
    "start_time": "2025-06-05T18:11:20.126Z"
   },
   {
    "duration": 6,
    "start_time": "2025-06-05T18:11:55.250Z"
   },
   {
    "duration": 22,
    "start_time": "2025-06-05T18:11:55.997Z"
   },
   {
    "duration": 3,
    "start_time": "2025-06-05T18:12:12.044Z"
   },
   {
    "duration": 24,
    "start_time": "2025-06-05T18:12:12.465Z"
   },
   {
    "duration": 10,
    "start_time": "2025-06-05T18:13:05.292Z"
   },
   {
    "duration": 12,
    "start_time": "2025-06-05T18:13:16.146Z"
   },
   {
    "duration": 29,
    "start_time": "2025-06-05T18:13:27.615Z"
   },
   {
    "duration": 3,
    "start_time": "2025-06-05T18:13:29.259Z"
   },
   {
    "duration": 30,
    "start_time": "2025-06-05T18:13:33.452Z"
   },
   {
    "duration": 8,
    "start_time": "2025-06-05T18:13:37.240Z"
   },
   {
    "duration": 5,
    "start_time": "2025-06-05T18:13:38.879Z"
   },
   {
    "duration": 27,
    "start_time": "2025-06-05T18:13:40.620Z"
   },
   {
    "duration": 24,
    "start_time": "2025-06-05T18:13:50.489Z"
   },
   {
    "duration": 10,
    "start_time": "2025-06-05T18:14:03.148Z"
   },
   {
    "duration": 7,
    "start_time": "2025-06-05T18:14:07.756Z"
   },
   {
    "duration": 26,
    "start_time": "2025-06-05T18:14:09.401Z"
   },
   {
    "duration": 5,
    "start_time": "2025-06-05T18:14:40.631Z"
   },
   {
    "duration": 9,
    "start_time": "2025-06-05T18:14:48.307Z"
   },
   {
    "duration": 10,
    "start_time": "2025-06-05T18:15:00.937Z"
   },
   {
    "duration": 5,
    "start_time": "2025-06-05T18:15:05.203Z"
   },
   {
    "duration": 9,
    "start_time": "2025-06-05T18:15:07.182Z"
   },
   {
    "duration": 11,
    "start_time": "2025-06-05T18:15:23.347Z"
   },
   {
    "duration": 5,
    "start_time": "2025-06-05T18:15:34.187Z"
   },
   {
    "duration": 8,
    "start_time": "2025-06-05T18:15:36.230Z"
   },
   {
    "duration": 718,
    "start_time": "2025-06-05T18:15:43.095Z"
   },
   {
    "duration": 23446,
    "start_time": "2025-06-05T18:16:00.499Z"
   },
   {
    "duration": 337,
    "start_time": "2025-06-05T18:16:38.412Z"
   },
   {
    "duration": 1337,
    "start_time": "2025-06-05T18:20:25.516Z"
   },
   {
    "duration": 1146,
    "start_time": "2025-06-05T18:20:36.674Z"
   },
   {
    "duration": 1180,
    "start_time": "2025-06-05T18:24:16.755Z"
   },
   {
    "duration": 247,
    "start_time": "2025-06-05T18:26:21.970Z"
   },
   {
    "duration": 277,
    "start_time": "2025-06-05T18:26:28.524Z"
   },
   {
    "duration": 212,
    "start_time": "2025-06-05T18:26:48.901Z"
   },
   {
    "duration": 271,
    "start_time": "2025-06-05T18:27:21.464Z"
   },
   {
    "duration": 258,
    "start_time": "2025-06-05T18:27:29.963Z"
   },
   {
    "duration": 283,
    "start_time": "2025-06-05T18:27:43.378Z"
   },
   {
    "duration": 274,
    "start_time": "2025-06-05T18:27:49.176Z"
   },
   {
    "duration": 331,
    "start_time": "2025-06-05T18:28:06.836Z"
   },
   {
    "duration": 275,
    "start_time": "2025-06-05T18:28:12.689Z"
   },
   {
    "duration": 264,
    "start_time": "2025-06-05T18:28:47.275Z"
   },
   {
    "duration": 244,
    "start_time": "2025-06-05T18:28:51.679Z"
   },
   {
    "duration": 263,
    "start_time": "2025-06-05T18:29:10.827Z"
   },
   {
    "duration": 271,
    "start_time": "2025-06-05T18:30:54.456Z"
   },
   {
    "duration": 265,
    "start_time": "2025-06-05T18:30:58.452Z"
   },
   {
    "duration": 269,
    "start_time": "2025-06-05T18:31:05.548Z"
   },
   {
    "duration": 241,
    "start_time": "2025-06-05T18:31:16.782Z"
   },
   {
    "duration": 321,
    "start_time": "2025-06-05T18:36:05.032Z"
   },
   {
    "duration": 352,
    "start_time": "2025-06-05T18:36:20.699Z"
   },
   {
    "duration": 360,
    "start_time": "2025-06-05T18:36:29.198Z"
   },
   {
    "duration": 264,
    "start_time": "2025-06-05T18:36:41.999Z"
   },
   {
    "duration": 409,
    "start_time": "2025-06-05T18:36:47.630Z"
   },
   {
    "duration": 374,
    "start_time": "2025-06-05T18:36:55.311Z"
   },
   {
    "duration": 405,
    "start_time": "2025-06-05T18:37:24.513Z"
   },
   {
    "duration": 388,
    "start_time": "2025-06-05T18:37:31.866Z"
   },
   {
    "duration": 372,
    "start_time": "2025-06-05T18:37:37.704Z"
   },
   {
    "duration": 393,
    "start_time": "2025-06-05T18:38:08.449Z"
   },
   {
    "duration": 367,
    "start_time": "2025-06-05T18:38:20.610Z"
   },
   {
    "duration": 351,
    "start_time": "2025-06-05T18:38:40.783Z"
   },
   {
    "duration": 420,
    "start_time": "2025-06-05T18:38:57.683Z"
   },
   {
    "duration": 652,
    "start_time": "2025-06-05T18:39:07.100Z"
   },
   {
    "duration": 502,
    "start_time": "2025-06-05T18:39:17.453Z"
   },
   {
    "duration": 406,
    "start_time": "2025-06-05T18:39:24.302Z"
   },
   {
    "duration": 334,
    "start_time": "2025-06-05T18:40:11.186Z"
   },
   {
    "duration": 415,
    "start_time": "2025-06-05T18:41:05.065Z"
   },
   {
    "duration": 335,
    "start_time": "2025-06-05T18:41:29.590Z"
   },
   {
    "duration": 351,
    "start_time": "2025-06-05T18:41:54.221Z"
   },
   {
    "duration": 417,
    "start_time": "2025-06-05T18:42:02.712Z"
   },
   {
    "duration": 316,
    "start_time": "2025-06-05T18:42:14.090Z"
   },
   {
    "duration": 314,
    "start_time": "2025-06-05T18:42:50.618Z"
   },
   {
    "duration": 296,
    "start_time": "2025-06-05T18:43:04.293Z"
   },
   {
    "duration": 307,
    "start_time": "2025-06-05T18:43:44.004Z"
   },
   {
    "duration": 346,
    "start_time": "2025-06-05T18:43:54.124Z"
   },
   {
    "duration": 352,
    "start_time": "2025-06-05T18:44:03.438Z"
   },
   {
    "duration": 313,
    "start_time": "2025-06-05T18:44:13.119Z"
   },
   {
    "duration": 271,
    "start_time": "2025-06-05T18:44:34.942Z"
   },
   {
    "duration": 307,
    "start_time": "2025-06-05T18:44:42.217Z"
   },
   {
    "duration": 396,
    "start_time": "2025-06-05T18:44:49.284Z"
   },
   {
    "duration": 5,
    "start_time": "2025-06-05T18:46:19.592Z"
   },
   {
    "duration": 335,
    "start_time": "2025-06-05T18:46:35.070Z"
   },
   {
    "duration": 7,
    "start_time": "2025-06-05T18:46:44.837Z"
   },
   {
    "duration": 295,
    "start_time": "2025-06-05T18:46:50.299Z"
   },
   {
    "duration": 295,
    "start_time": "2025-06-05T18:47:01.979Z"
   },
   {
    "duration": 320,
    "start_time": "2025-06-05T18:47:12.236Z"
   },
   {
    "duration": 318,
    "start_time": "2025-06-05T18:47:20.745Z"
   },
   {
    "duration": 27,
    "start_time": "2025-06-05T18:50:34.773Z"
   },
   {
    "duration": 15,
    "start_time": "2025-06-05T18:51:03.254Z"
   },
   {
    "duration": 5,
    "start_time": "2025-06-05T18:52:18.308Z"
   },
   {
    "duration": 305,
    "start_time": "2025-06-05T18:53:09.712Z"
   },
   {
    "duration": 296,
    "start_time": "2025-06-05T18:53:51.979Z"
   },
   {
    "duration": 301,
    "start_time": "2025-06-05T18:54:24.383Z"
   },
   {
    "duration": 298,
    "start_time": "2025-06-05T18:54:34.789Z"
   },
   {
    "duration": 13,
    "start_time": "2025-06-05T18:55:14.246Z"
   },
   {
    "duration": 265,
    "start_time": "2025-06-05T18:55:24.687Z"
   },
   {
    "duration": 269,
    "start_time": "2025-06-05T18:56:57.701Z"
   },
   {
    "duration": 383,
    "start_time": "2025-06-05T18:57:08.946Z"
   },
   {
    "duration": 339,
    "start_time": "2025-06-05T18:57:38.158Z"
   },
   {
    "duration": 277,
    "start_time": "2025-06-05T18:58:11.558Z"
   },
   {
    "duration": 281,
    "start_time": "2025-06-05T18:58:16.044Z"
   },
   {
    "duration": 258,
    "start_time": "2025-06-05T18:58:20.780Z"
   },
   {
    "duration": 531,
    "start_time": "2025-06-05T19:00:43.345Z"
   },
   {
    "duration": 295,
    "start_time": "2025-06-05T19:01:58.820Z"
   },
   {
    "duration": 733,
    "start_time": "2025-06-05T19:03:06.683Z"
   },
   {
    "duration": 301,
    "start_time": "2025-06-05T19:04:27.876Z"
   },
   {
    "duration": 330,
    "start_time": "2025-06-05T19:04:36.770Z"
   },
   {
    "duration": 276,
    "start_time": "2025-06-05T19:04:43.207Z"
   },
   {
    "duration": 305,
    "start_time": "2025-06-05T19:04:48.774Z"
   },
   {
    "duration": 701,
    "start_time": "2025-06-05T19:09:29.126Z"
   },
   {
    "duration": 737,
    "start_time": "2025-06-05T19:09:41.373Z"
   },
   {
    "duration": 902,
    "start_time": "2025-06-05T19:09:44.533Z"
   },
   {
    "duration": 721,
    "start_time": "2025-06-05T19:10:01.413Z"
   },
   {
    "duration": 3,
    "start_time": "2025-06-05T19:30:38.034Z"
   },
   {
    "duration": 3,
    "start_time": "2025-06-05T19:31:11.337Z"
   },
   {
    "duration": 10,
    "start_time": "2025-06-05T19:31:23.476Z"
   },
   {
    "duration": 13,
    "start_time": "2025-06-05T19:31:33.447Z"
   },
   {
    "duration": 13,
    "start_time": "2025-06-05T19:34:11.299Z"
   },
   {
    "duration": 3,
    "start_time": "2025-06-05T19:34:17.316Z"
   },
   {
    "duration": 2,
    "start_time": "2025-06-05T19:34:19.921Z"
   },
   {
    "duration": 11,
    "start_time": "2025-06-05T19:34:20.815Z"
   },
   {
    "duration": 12,
    "start_time": "2025-06-05T19:34:25.254Z"
   },
   {
    "duration": 6,
    "start_time": "2025-06-05T19:34:29.969Z"
   },
   {
    "duration": 5,
    "start_time": "2025-06-05T19:35:31.976Z"
   },
   {
    "duration": 12,
    "start_time": "2025-06-05T19:36:15.030Z"
   },
   {
    "duration": 10,
    "start_time": "2025-06-05T19:36:17.994Z"
   },
   {
    "duration": 5,
    "start_time": "2025-06-05T19:38:36.564Z"
   },
   {
    "duration": 69,
    "start_time": "2025-06-05T19:38:37.809Z"
   },
   {
    "duration": 7,
    "start_time": "2025-06-05T19:39:09.318Z"
   },
   {
    "duration": 14773,
    "start_time": "2025-06-05T19:39:09.896Z"
   },
   {
    "duration": 10,
    "start_time": "2025-06-05T19:39:46.413Z"
   },
   {
    "duration": 10,
    "start_time": "2025-06-05T19:39:48.883Z"
   },
   {
    "duration": 10,
    "start_time": "2025-06-05T19:41:55.205Z"
   },
   {
    "duration": 10,
    "start_time": "2025-06-05T19:42:02.289Z"
   },
   {
    "duration": 9,
    "start_time": "2025-06-05T19:42:10.943Z"
   },
   {
    "duration": 4,
    "start_time": "2025-06-05T19:42:14.532Z"
   },
   {
    "duration": 4,
    "start_time": "2025-06-05T19:42:27.406Z"
   },
   {
    "duration": 9,
    "start_time": "2025-06-05T19:42:55.654Z"
   },
   {
    "duration": 3,
    "start_time": "2025-06-05T19:43:44.038Z"
   },
   {
    "duration": 10,
    "start_time": "2025-06-05T19:44:37.924Z"
   },
   {
    "duration": 10,
    "start_time": "2025-06-05T19:45:17.916Z"
   },
   {
    "duration": 37270,
    "start_time": "2025-06-05T19:45:24.307Z"
   },
   {
    "duration": 1506,
    "start_time": "2025-06-05T19:46:01.579Z"
   },
   {
    "duration": 22230,
    "start_time": "2025-06-10T16:09:13.497Z"
   },
   {
    "duration": 1971,
    "start_time": "2025-06-10T16:09:35.730Z"
   },
   {
    "duration": 37,
    "start_time": "2025-06-10T16:09:37.703Z"
   },
   {
    "duration": 3,
    "start_time": "2025-06-10T16:09:37.742Z"
   },
   {
    "duration": 60,
    "start_time": "2025-06-10T16:09:37.747Z"
   },
   {
    "duration": 11,
    "start_time": "2025-06-10T16:09:37.809Z"
   },
   {
    "duration": 36,
    "start_time": "2025-06-10T16:09:37.822Z"
   },
   {
    "duration": 18,
    "start_time": "2025-06-10T16:09:37.859Z"
   },
   {
    "duration": 499,
    "start_time": "2025-06-10T16:09:44.141Z"
   },
   {
    "duration": 7,
    "start_time": "2025-06-10T16:09:48.505Z"
   },
   {
    "duration": 5,
    "start_time": "2025-06-10T16:09:50.524Z"
   },
   {
    "duration": 492,
    "start_time": "2025-06-10T16:09:53.021Z"
   },
   {
    "duration": 300,
    "start_time": "2025-06-10T16:09:56.049Z"
   },
   {
    "duration": 4,
    "start_time": "2025-06-10T16:09:59.655Z"
   },
   {
    "duration": 3,
    "start_time": "2025-06-10T16:10:00.598Z"
   },
   {
    "duration": 12,
    "start_time": "2025-06-10T16:10:01.826Z"
   },
   {
    "duration": 6,
    "start_time": "2025-06-10T16:10:02.952Z"
   },
   {
    "duration": 5,
    "start_time": "2025-06-10T16:10:28.046Z"
   },
   {
    "duration": 5,
    "start_time": "2025-06-10T16:10:29.066Z"
   },
   {
    "duration": 11982,
    "start_time": "2025-06-10T16:10:33.366Z"
   },
   {
    "duration": 5,
    "start_time": "2025-06-10T16:10:57.225Z"
   },
   {
    "duration": 4,
    "start_time": "2025-06-10T16:10:59.068Z"
   },
   {
    "duration": 5,
    "start_time": "2025-06-10T16:11:02.448Z"
   },
   {
    "duration": 24612,
    "start_time": "2025-06-10T16:11:03.472Z"
   },
   {
    "duration": 362,
    "start_time": "2025-06-10T16:11:28.086Z"
   },
   {
    "duration": 10016,
    "start_time": "2025-06-10T16:15:15.189Z"
   },
   {
    "duration": 1751,
    "start_time": "2025-06-10T16:15:25.209Z"
   },
   {
    "duration": 35,
    "start_time": "2025-06-10T16:15:26.962Z"
   },
   {
    "duration": 3,
    "start_time": "2025-06-10T16:15:26.999Z"
   },
   {
    "duration": 46,
    "start_time": "2025-06-10T16:15:27.004Z"
   },
   {
    "duration": 9,
    "start_time": "2025-06-10T16:15:27.051Z"
   },
   {
    "duration": 48,
    "start_time": "2025-06-10T16:15:27.062Z"
   },
   {
    "duration": 8,
    "start_time": "2025-06-10T16:15:27.112Z"
   },
   {
    "duration": 416,
    "start_time": "2025-06-10T16:15:27.121Z"
   },
   {
    "duration": 10,
    "start_time": "2025-06-10T16:15:27.542Z"
   },
   {
    "duration": 12,
    "start_time": "2025-06-10T16:15:27.554Z"
   },
   {
    "duration": 514,
    "start_time": "2025-06-10T16:15:27.569Z"
   },
   {
    "duration": 368,
    "start_time": "2025-06-10T16:15:28.085Z"
   },
   {
    "duration": 3,
    "start_time": "2025-06-10T16:15:28.455Z"
   },
   {
    "duration": 153,
    "start_time": "2025-06-10T16:15:28.460Z"
   },
   {
    "duration": 17,
    "start_time": "2025-06-10T16:15:28.615Z"
   },
   {
    "duration": 7,
    "start_time": "2025-06-10T16:15:28.634Z"
   },
   {
    "duration": 6,
    "start_time": "2025-06-10T16:15:28.642Z"
   },
   {
    "duration": 6,
    "start_time": "2025-06-10T16:15:28.649Z"
   },
   {
    "duration": 37494,
    "start_time": "2025-06-10T16:15:28.656Z"
   },
   {
    "duration": 4,
    "start_time": "2025-06-10T16:16:06.152Z"
   },
   {
    "duration": 82,
    "start_time": "2025-06-10T16:16:06.158Z"
   },
   {
    "duration": 77,
    "start_time": "2025-06-10T16:16:06.242Z"
   },
   {
    "duration": 52177,
    "start_time": "2025-06-10T16:16:06.321Z"
   },
   {
    "duration": 654,
    "start_time": "2025-06-10T16:16:58.500Z"
   },
   {
    "duration": 10157,
    "start_time": "2025-06-10T16:17:52.986Z"
   },
   {
    "duration": 1720,
    "start_time": "2025-06-10T16:18:03.146Z"
   },
   {
    "duration": 35,
    "start_time": "2025-06-10T16:18:04.868Z"
   },
   {
    "duration": 13,
    "start_time": "2025-06-10T16:18:04.906Z"
   },
   {
    "duration": 57,
    "start_time": "2025-06-10T16:18:04.920Z"
   },
   {
    "duration": 10,
    "start_time": "2025-06-10T16:18:04.979Z"
   },
   {
    "duration": 28,
    "start_time": "2025-06-10T16:18:04.991Z"
   },
   {
    "duration": 31,
    "start_time": "2025-06-10T16:18:05.020Z"
   },
   {
    "duration": 447,
    "start_time": "2025-06-10T16:18:05.053Z"
   },
   {
    "duration": 6,
    "start_time": "2025-06-10T16:18:05.503Z"
   },
   {
    "duration": 37,
    "start_time": "2025-06-10T16:18:05.510Z"
   },
   {
    "duration": 543,
    "start_time": "2025-06-10T16:18:05.549Z"
   },
   {
    "duration": 300,
    "start_time": "2025-06-10T16:18:06.094Z"
   },
   {
    "duration": 4,
    "start_time": "2025-06-10T16:18:06.396Z"
   },
   {
    "duration": 34,
    "start_time": "2025-06-10T16:18:06.401Z"
   },
   {
    "duration": 40,
    "start_time": "2025-06-10T16:18:06.437Z"
   },
   {
    "duration": 8,
    "start_time": "2025-06-10T16:18:06.479Z"
   },
   {
    "duration": 5,
    "start_time": "2025-06-10T16:18:06.488Z"
   },
   {
    "duration": 20,
    "start_time": "2025-06-10T16:18:06.495Z"
   },
   {
    "duration": 58529,
    "start_time": "2025-06-10T16:18:06.517Z"
   },
   {
    "duration": 4,
    "start_time": "2025-06-10T16:19:05.047Z"
   },
   {
    "duration": 16,
    "start_time": "2025-06-10T16:19:05.053Z"
   },
   {
    "duration": 9,
    "start_time": "2025-06-10T16:19:05.071Z"
   },
   {
    "duration": 37172,
    "start_time": "2025-06-10T16:19:05.082Z"
   },
   {
    "duration": 490,
    "start_time": "2025-06-10T16:19:42.255Z"
   },
   {
    "duration": 5,
    "start_time": "2025-06-10T16:22:56.085Z"
   },
   {
    "duration": 47040,
    "start_time": "2025-06-10T16:22:57.204Z"
   },
   {
    "duration": 4,
    "start_time": "2025-06-10T16:23:44.246Z"
   },
   {
    "duration": 7,
    "start_time": "2025-06-10T16:23:44.252Z"
   },
   {
    "duration": 4,
    "start_time": "2025-06-10T16:23:50.701Z"
   },
   {
    "duration": 36359,
    "start_time": "2025-06-10T16:23:51.088Z"
   },
   {
    "duration": 504,
    "start_time": "2025-06-10T16:24:27.449Z"
   },
   {
    "duration": 63037,
    "start_time": "2025-06-10T16:26:17.806Z"
   },
   {
    "duration": 4,
    "start_time": "2025-06-10T16:27:20.845Z"
   },
   {
    "duration": 29,
    "start_time": "2025-06-10T16:27:20.851Z"
   },
   {
    "duration": 4,
    "start_time": "2025-06-10T16:27:25.711Z"
   },
   {
    "duration": 25773,
    "start_time": "2025-06-10T16:27:26.108Z"
   },
   {
    "duration": 460,
    "start_time": "2025-06-10T16:27:51.883Z"
   },
   {
    "duration": 3,
    "start_time": "2025-06-10T16:28:06.632Z"
   },
   {
    "duration": 3,
    "start_time": "2025-06-10T16:28:07.092Z"
   },
   {
    "duration": 8,
    "start_time": "2025-06-10T16:28:26.759Z"
   },
   {
    "duration": 6,
    "start_time": "2025-06-10T16:28:27.241Z"
   },
   {
    "duration": 5,
    "start_time": "2025-06-10T16:28:27.957Z"
   },
   {
    "duration": 5,
    "start_time": "2025-06-10T16:28:28.380Z"
   },
   {
    "duration": 127660,
    "start_time": "2025-06-10T16:28:28.981Z"
   },
   {
    "duration": 4,
    "start_time": "2025-06-10T16:30:36.642Z"
   },
   {
    "duration": 98,
    "start_time": "2025-06-10T16:30:36.648Z"
   },
   {
    "duration": 4,
    "start_time": "2025-06-10T16:30:51.830Z"
   },
   {
    "duration": 93069,
    "start_time": "2025-06-10T16:30:52.295Z"
   },
   {
    "duration": 1075,
    "start_time": "2025-06-10T16:32:25.366Z"
   },
   {
    "duration": 15,
    "start_time": "2025-06-10T16:33:29.527Z"
   },
   {
    "duration": 7,
    "start_time": "2025-06-10T16:33:29.834Z"
   },
   {
    "duration": 6,
    "start_time": "2025-06-10T16:33:30.551Z"
   },
   {
    "duration": 6,
    "start_time": "2025-06-10T16:33:30.773Z"
   },
   {
    "duration": 160485,
    "start_time": "2025-06-10T16:33:31.064Z"
   },
   {
    "duration": 4,
    "start_time": "2025-06-10T16:36:11.551Z"
   },
   {
    "duration": 68,
    "start_time": "2025-06-10T16:36:11.557Z"
   },
   {
    "duration": 5,
    "start_time": "2025-06-10T16:36:31.726Z"
   },
   {
    "duration": 123854,
    "start_time": "2025-06-10T16:36:39.993Z"
   },
   {
    "duration": 1105,
    "start_time": "2025-06-10T16:38:43.849Z"
   },
   {
    "duration": 10072,
    "start_time": "2025-06-10T16:39:41.373Z"
   },
   {
    "duration": 1698,
    "start_time": "2025-06-10T16:39:51.448Z"
   },
   {
    "duration": 34,
    "start_time": "2025-06-10T16:39:53.148Z"
   },
   {
    "duration": 17,
    "start_time": "2025-06-10T16:39:53.185Z"
   },
   {
    "duration": 69,
    "start_time": "2025-06-10T16:39:53.204Z"
   },
   {
    "duration": 9,
    "start_time": "2025-06-10T16:39:53.275Z"
   },
   {
    "duration": 26,
    "start_time": "2025-06-10T16:39:53.285Z"
   },
   {
    "duration": 20,
    "start_time": "2025-06-10T16:39:53.313Z"
   },
   {
    "duration": 430,
    "start_time": "2025-06-10T16:39:53.334Z"
   },
   {
    "duration": 6,
    "start_time": "2025-06-10T16:39:53.767Z"
   },
   {
    "duration": 26,
    "start_time": "2025-06-10T16:39:53.775Z"
   },
   {
    "duration": 484,
    "start_time": "2025-06-10T16:39:53.802Z"
   },
   {
    "duration": 281,
    "start_time": "2025-06-10T16:39:54.288Z"
   },
   {
    "duration": 4,
    "start_time": "2025-06-10T16:39:54.571Z"
   },
   {
    "duration": 17,
    "start_time": "2025-06-10T16:39:54.577Z"
   },
   {
    "duration": 40,
    "start_time": "2025-06-10T16:39:54.596Z"
   },
   {
    "duration": 57,
    "start_time": "2025-06-10T16:39:54.638Z"
   },
   {
    "duration": 5,
    "start_time": "2025-06-10T16:39:54.697Z"
   },
   {
    "duration": 9,
    "start_time": "2025-06-10T16:39:54.704Z"
   },
   {
    "duration": 157532,
    "start_time": "2025-06-10T16:39:54.714Z"
   },
   {
    "duration": 5,
    "start_time": "2025-06-10T16:42:32.247Z"
   },
   {
    "duration": 64,
    "start_time": "2025-06-10T16:42:32.253Z"
   },
   {
    "duration": 22,
    "start_time": "2025-06-10T16:42:32.319Z"
   },
   {
    "duration": 171614,
    "start_time": "2025-06-10T16:42:32.343Z"
   },
   {
    "duration": 1292,
    "start_time": "2025-06-10T16:45:23.959Z"
   },
   {
    "duration": 4,
    "start_time": "2025-06-10T16:51:41.935Z"
   },
   {
    "duration": 8,
    "start_time": "2025-06-10T16:51:43.382Z"
   },
   {
    "duration": 152,
    "start_time": "2025-06-10T16:51:47.567Z"
   },
   {
    "duration": 6,
    "start_time": "2025-06-10T16:53:37.445Z"
   },
   {
    "duration": 3,
    "start_time": "2025-06-10T16:53:38.466Z"
   },
   {
    "duration": 7,
    "start_time": "2025-06-10T16:53:44.304Z"
   },
   {
    "duration": 998348,
    "start_time": "2025-06-10T16:53:48.912Z"
   },
   {
    "duration": 0,
    "start_time": "2025-06-10T17:10:27.262Z"
   },
   {
    "duration": 0,
    "start_time": "2025-06-10T17:10:27.264Z"
   },
   {
    "duration": 9968,
    "start_time": "2025-06-10T17:11:07.132Z"
   },
   {
    "duration": 1738,
    "start_time": "2025-06-10T17:11:17.103Z"
   },
   {
    "duration": 45,
    "start_time": "2025-06-10T17:11:18.842Z"
   },
   {
    "duration": 3,
    "start_time": "2025-06-10T17:11:18.889Z"
   },
   {
    "duration": 46,
    "start_time": "2025-06-10T17:11:18.894Z"
   },
   {
    "duration": 10,
    "start_time": "2025-06-10T17:11:18.941Z"
   },
   {
    "duration": 21,
    "start_time": "2025-06-10T17:11:18.952Z"
   },
   {
    "duration": 10,
    "start_time": "2025-06-10T17:11:18.974Z"
   },
   {
    "duration": 422,
    "start_time": "2025-06-10T17:11:18.986Z"
   },
   {
    "duration": 6,
    "start_time": "2025-06-10T17:11:19.410Z"
   },
   {
    "duration": 15,
    "start_time": "2025-06-10T17:11:19.418Z"
   },
   {
    "duration": 479,
    "start_time": "2025-06-10T17:11:19.434Z"
   },
   {
    "duration": 307,
    "start_time": "2025-06-10T17:11:19.915Z"
   },
   {
    "duration": 14,
    "start_time": "2025-06-10T17:11:20.225Z"
   },
   {
    "duration": 90,
    "start_time": "2025-06-10T17:11:20.241Z"
   },
   {
    "duration": 70,
    "start_time": "2025-06-10T17:11:20.333Z"
   },
   {
    "duration": 90439,
    "start_time": "2025-06-10T17:11:20.405Z"
   },
   {
    "duration": 4,
    "start_time": "2025-06-10T17:12:50.845Z"
   },
   {
    "duration": 52,
    "start_time": "2025-06-10T17:12:50.851Z"
   },
   {
    "duration": 7,
    "start_time": "2025-06-10T17:12:50.905Z"
   },
   {
    "duration": 146,
    "start_time": "2025-06-10T17:12:50.914Z"
   },
   {
    "duration": 0,
    "start_time": "2025-06-10T17:12:51.062Z"
   },
   {
    "duration": 7,
    "start_time": "2025-06-10T17:13:45.470Z"
   },
   {
    "duration": 4,
    "start_time": "2025-06-10T17:13:46.644Z"
   },
   {
    "duration": 6,
    "start_time": "2025-06-10T17:15:05.859Z"
   },
   {
    "duration": 12,
    "start_time": "2025-06-10T17:15:07.903Z"
   },
   {
    "duration": 27518,
    "start_time": "2025-06-10T17:15:08.836Z"
   },
   {
    "duration": 388,
    "start_time": "2025-06-10T17:15:36.355Z"
   },
   {
    "duration": 9822,
    "start_time": "2025-06-10T17:16:45.680Z"
   },
   {
    "duration": 1719,
    "start_time": "2025-06-10T17:16:55.504Z"
   },
   {
    "duration": 44,
    "start_time": "2025-06-10T17:16:57.224Z"
   },
   {
    "duration": 3,
    "start_time": "2025-06-10T17:16:57.270Z"
   },
   {
    "duration": 46,
    "start_time": "2025-06-10T17:16:57.275Z"
   },
   {
    "duration": 9,
    "start_time": "2025-06-10T17:16:57.323Z"
   },
   {
    "duration": 9,
    "start_time": "2025-06-10T17:16:57.334Z"
   },
   {
    "duration": 11,
    "start_time": "2025-06-10T17:16:57.344Z"
   },
   {
    "duration": 464,
    "start_time": "2025-06-10T17:16:57.356Z"
   },
   {
    "duration": 6,
    "start_time": "2025-06-10T17:16:57.823Z"
   },
   {
    "duration": 7,
    "start_time": "2025-06-10T17:16:57.831Z"
   },
   {
    "duration": 491,
    "start_time": "2025-06-10T17:16:57.840Z"
   },
   {
    "duration": 314,
    "start_time": "2025-06-10T17:16:58.333Z"
   },
   {
    "duration": 4,
    "start_time": "2025-06-10T17:16:58.649Z"
   },
   {
    "duration": 31,
    "start_time": "2025-06-10T17:16:58.655Z"
   },
   {
    "duration": 38,
    "start_time": "2025-06-10T17:16:58.688Z"
   },
   {
    "duration": 84023,
    "start_time": "2025-06-10T17:16:58.728Z"
   },
   {
    "duration": 4,
    "start_time": "2025-06-10T17:18:22.753Z"
   },
   {
    "duration": 14,
    "start_time": "2025-06-10T17:18:22.758Z"
   },
   {
    "duration": 12,
    "start_time": "2025-06-10T17:18:22.839Z"
   },
   {
    "duration": 24,
    "start_time": "2025-06-10T17:18:22.853Z"
   },
   {
    "duration": 28111,
    "start_time": "2025-06-10T17:18:22.879Z"
   },
   {
    "duration": 362,
    "start_time": "2025-06-10T17:18:50.991Z"
   },
   {
    "duration": 13,
    "start_time": "2025-06-10T17:33:51.223Z"
   },
   {
    "duration": 4,
    "start_time": "2025-06-10T17:33:52.729Z"
   },
   {
    "duration": 27399,
    "start_time": "2025-06-10T17:33:53.288Z"
   },
   {
    "duration": 362,
    "start_time": "2025-06-10T17:34:20.689Z"
   },
   {
    "duration": 9749,
    "start_time": "2025-06-10T17:37:13.649Z"
   },
   {
    "duration": 1629,
    "start_time": "2025-06-10T17:37:23.401Z"
   },
   {
    "duration": 33,
    "start_time": "2025-06-10T17:37:25.032Z"
   },
   {
    "duration": 30,
    "start_time": "2025-06-10T17:37:25.066Z"
   },
   {
    "duration": 75,
    "start_time": "2025-06-10T17:37:25.098Z"
   },
   {
    "duration": 9,
    "start_time": "2025-06-10T17:37:25.174Z"
   },
   {
    "duration": 23,
    "start_time": "2025-06-10T17:37:25.184Z"
   },
   {
    "duration": 43,
    "start_time": "2025-06-10T17:37:25.209Z"
   },
   {
    "duration": 474,
    "start_time": "2025-06-10T17:37:25.254Z"
   },
   {
    "duration": 6,
    "start_time": "2025-06-10T17:37:25.730Z"
   },
   {
    "duration": 41,
    "start_time": "2025-06-10T17:37:25.737Z"
   },
   {
    "duration": 502,
    "start_time": "2025-06-10T17:37:25.780Z"
   },
   {
    "duration": 270,
    "start_time": "2025-06-10T17:37:26.283Z"
   },
   {
    "duration": 3,
    "start_time": "2025-06-10T17:37:26.556Z"
   },
   {
    "duration": 10,
    "start_time": "2025-06-10T17:37:26.560Z"
   },
   {
    "duration": 8,
    "start_time": "2025-06-10T17:37:26.571Z"
   },
   {
    "duration": 164,
    "start_time": "2025-06-10T17:37:26.580Z"
   },
   {
    "duration": 0,
    "start_time": "2025-06-10T17:37:26.746Z"
   },
   {
    "duration": 0,
    "start_time": "2025-06-10T17:37:26.747Z"
   },
   {
    "duration": 0,
    "start_time": "2025-06-10T17:37:26.748Z"
   },
   {
    "duration": 0,
    "start_time": "2025-06-10T17:37:26.749Z"
   },
   {
    "duration": 0,
    "start_time": "2025-06-10T17:37:26.750Z"
   },
   {
    "duration": 0,
    "start_time": "2025-06-10T17:37:26.751Z"
   },
   {
    "duration": 27,
    "start_time": "2025-06-10T17:41:27.492Z"
   },
   {
    "duration": 28,
    "start_time": "2025-06-10T17:41:31.284Z"
   },
   {
    "duration": 6,
    "start_time": "2025-06-10T17:42:13.074Z"
   },
   {
    "duration": 133763,
    "start_time": "2025-06-10T17:42:14.689Z"
   },
   {
    "duration": 31,
    "start_time": "2025-06-10T17:44:51.289Z"
   },
   {
    "duration": 6,
    "start_time": "2025-06-10T17:46:06.109Z"
   },
   {
    "duration": 4,
    "start_time": "2025-06-10T17:46:23.132Z"
   },
   {
    "duration": 4,
    "start_time": "2025-06-10T17:46:24.265Z"
   },
   {
    "duration": 13,
    "start_time": "2025-06-10T17:46:42.133Z"
   },
   {
    "duration": 35,
    "start_time": "2025-06-10T17:46:46.599Z"
   },
   {
    "duration": 3,
    "start_time": "2025-06-10T17:47:38.860Z"
   },
   {
    "duration": 7,
    "start_time": "2025-06-10T17:47:45.881Z"
   },
   {
    "duration": 126939,
    "start_time": "2025-06-10T17:47:46.606Z"
   },
   {
    "duration": 5,
    "start_time": "2025-06-10T17:49:56.966Z"
   },
   {
    "duration": 4,
    "start_time": "2025-06-10T17:49:58.629Z"
   },
   {
    "duration": 11,
    "start_time": "2025-06-10T17:50:00.448Z"
   },
   {
    "duration": 33,
    "start_time": "2025-06-10T17:50:01.785Z"
   },
   {
    "duration": 10064,
    "start_time": "2025-06-10T17:50:12.798Z"
   },
   {
    "duration": 1678,
    "start_time": "2025-06-10T17:50:22.866Z"
   },
   {
    "duration": 35,
    "start_time": "2025-06-10T17:50:24.546Z"
   },
   {
    "duration": 3,
    "start_time": "2025-06-10T17:50:24.583Z"
   },
   {
    "duration": 55,
    "start_time": "2025-06-10T17:50:24.588Z"
   },
   {
    "duration": 9,
    "start_time": "2025-06-10T17:50:24.645Z"
   },
   {
    "duration": 38,
    "start_time": "2025-06-10T17:50:24.656Z"
   },
   {
    "duration": 12,
    "start_time": "2025-06-10T17:50:24.696Z"
   },
   {
    "duration": 427,
    "start_time": "2025-06-10T17:50:24.709Z"
   },
   {
    "duration": 7,
    "start_time": "2025-06-10T17:50:25.137Z"
   },
   {
    "duration": 44,
    "start_time": "2025-06-10T17:50:25.145Z"
   },
   {
    "duration": 500,
    "start_time": "2025-06-10T17:50:25.190Z"
   },
   {
    "duration": 288,
    "start_time": "2025-06-10T17:50:25.692Z"
   },
   {
    "duration": 4,
    "start_time": "2025-06-10T17:50:25.982Z"
   },
   {
    "duration": 15,
    "start_time": "2025-06-10T17:50:25.988Z"
   },
   {
    "duration": 7,
    "start_time": "2025-06-10T17:50:26.005Z"
   },
   {
    "duration": 10,
    "start_time": "2025-06-10T17:50:26.013Z"
   },
   {
    "duration": 91123,
    "start_time": "2025-06-10T17:50:26.025Z"
   },
   {
    "duration": 4,
    "start_time": "2025-06-10T17:51:57.150Z"
   },
   {
    "duration": 13,
    "start_time": "2025-06-10T17:51:57.155Z"
   },
   {
    "duration": 82,
    "start_time": "2025-06-10T17:51:57.170Z"
   },
   {
    "duration": 33,
    "start_time": "2025-06-10T17:51:57.254Z"
   },
   {
    "duration": 4,
    "start_time": "2025-06-10T17:51:57.289Z"
   },
   {
    "duration": 28290,
    "start_time": "2025-06-10T17:51:57.294Z"
   },
   {
    "duration": 455,
    "start_time": "2025-06-10T17:52:25.585Z"
   },
   {
    "duration": 37,
    "start_time": "2025-06-10T17:52:49.431Z"
   },
   {
    "duration": 135,
    "start_time": "2025-06-10T17:53:06.502Z"
   },
   {
    "duration": 4,
    "start_time": "2025-06-10T17:53:16.239Z"
   },
   {
    "duration": 13,
    "start_time": "2025-06-10T17:54:41.262Z"
   },
   {
    "duration": 3,
    "start_time": "2025-06-10T17:54:42.943Z"
   },
   {
    "duration": 27482,
    "start_time": "2025-06-10T17:54:43.585Z"
   },
   {
    "duration": 372,
    "start_time": "2025-06-10T17:55:11.069Z"
   },
   {
    "duration": 9999,
    "start_time": "2025-06-10T18:08:37.984Z"
   },
   {
    "duration": 1656,
    "start_time": "2025-06-10T18:08:47.985Z"
   },
   {
    "duration": 34,
    "start_time": "2025-06-10T18:08:49.643Z"
   },
   {
    "duration": 3,
    "start_time": "2025-06-10T18:08:49.679Z"
   },
   {
    "duration": 44,
    "start_time": "2025-06-10T18:08:49.684Z"
   },
   {
    "duration": 10,
    "start_time": "2025-06-10T18:08:49.739Z"
   },
   {
    "duration": 10,
    "start_time": "2025-06-10T18:08:49.751Z"
   },
   {
    "duration": 11,
    "start_time": "2025-06-10T18:08:49.763Z"
   },
   {
    "duration": 440,
    "start_time": "2025-06-10T18:08:49.776Z"
   },
   {
    "duration": 6,
    "start_time": "2025-06-10T18:08:50.218Z"
   },
   {
    "duration": 20,
    "start_time": "2025-06-10T18:08:50.226Z"
   },
   {
    "duration": 520,
    "start_time": "2025-06-10T18:08:50.248Z"
   },
   {
    "duration": 296,
    "start_time": "2025-06-10T18:08:50.770Z"
   },
   {
    "duration": 4,
    "start_time": "2025-06-10T18:08:51.069Z"
   },
   {
    "duration": 9,
    "start_time": "2025-06-10T18:08:51.074Z"
   },
   {
    "duration": 16,
    "start_time": "2025-06-10T18:08:51.085Z"
   },
   {
    "duration": 8,
    "start_time": "2025-06-10T18:08:51.103Z"
   },
   {
    "duration": 101331,
    "start_time": "2025-06-10T18:08:51.113Z"
   },
   {
    "duration": 5,
    "start_time": "2025-06-10T18:10:32.445Z"
   },
   {
    "duration": 42,
    "start_time": "2025-06-10T18:10:32.451Z"
   },
   {
    "duration": 59,
    "start_time": "2025-06-10T18:10:32.495Z"
   },
   {
    "duration": 63,
    "start_time": "2025-06-10T18:10:32.556Z"
   },
   {
    "duration": 27560,
    "start_time": "2025-06-10T18:10:32.621Z"
   },
   {
    "duration": 364,
    "start_time": "2025-06-10T18:11:00.182Z"
   },
   {
    "duration": 21868,
    "start_time": "2025-06-10T19:31:22.186Z"
   },
   {
    "duration": 1740,
    "start_time": "2025-06-10T19:31:44.057Z"
   },
   {
    "duration": 34,
    "start_time": "2025-06-10T19:31:45.799Z"
   },
   {
    "duration": 3,
    "start_time": "2025-06-10T19:31:45.834Z"
   },
   {
    "duration": 38,
    "start_time": "2025-06-10T19:31:45.839Z"
   },
   {
    "duration": 9,
    "start_time": "2025-06-10T19:31:45.879Z"
   },
   {
    "duration": 28,
    "start_time": "2025-06-10T19:31:45.890Z"
   },
   {
    "duration": 25,
    "start_time": "2025-06-10T19:31:45.920Z"
   },
   {
    "duration": 442,
    "start_time": "2025-06-10T19:31:45.948Z"
   },
   {
    "duration": 6,
    "start_time": "2025-06-10T19:31:46.392Z"
   },
   {
    "duration": 12,
    "start_time": "2025-06-10T19:31:46.400Z"
   },
   {
    "duration": 516,
    "start_time": "2025-06-10T19:31:46.415Z"
   },
   {
    "duration": 319,
    "start_time": "2025-06-10T19:31:46.933Z"
   },
   {
    "duration": 4,
    "start_time": "2025-06-10T19:31:47.255Z"
   },
   {
    "duration": 13,
    "start_time": "2025-06-10T19:31:47.261Z"
   },
   {
    "duration": 4,
    "start_time": "2025-06-10T19:31:47.276Z"
   },
   {
    "duration": 31,
    "start_time": "2025-06-10T19:31:47.281Z"
   },
   {
    "duration": 7,
    "start_time": "2025-06-10T19:31:47.314Z"
   },
   {
    "duration": 22,
    "start_time": "2025-06-10T19:31:47.323Z"
   },
   {
    "duration": 5,
    "start_time": "2025-06-10T19:32:26.180Z"
   },
   {
    "duration": 21916,
    "start_time": "2025-06-11T14:42:15.595Z"
   },
   {
    "duration": 1948,
    "start_time": "2025-06-11T14:42:37.514Z"
   },
   {
    "duration": 45,
    "start_time": "2025-06-11T14:42:39.463Z"
   },
   {
    "duration": 3,
    "start_time": "2025-06-11T14:42:39.509Z"
   },
   {
    "duration": 38,
    "start_time": "2025-06-11T14:42:39.514Z"
   },
   {
    "duration": 8,
    "start_time": "2025-06-11T14:42:39.554Z"
   },
   {
    "duration": 18,
    "start_time": "2025-06-11T14:42:39.564Z"
   },
   {
    "duration": 8,
    "start_time": "2025-06-11T14:42:39.584Z"
   },
   {
    "duration": 487,
    "start_time": "2025-06-11T14:42:39.594Z"
   },
   {
    "duration": 125,
    "start_time": "2025-06-11T14:42:40.083Z"
   },
   {
    "duration": 0,
    "start_time": "2025-06-11T14:42:40.209Z"
   },
   {
    "duration": 8,
    "start_time": "2025-06-11T14:42:56.550Z"
   },
   {
    "duration": 535,
    "start_time": "2025-06-11T14:42:57.677Z"
   },
   {
    "duration": 317,
    "start_time": "2025-06-11T14:43:15.797Z"
   },
   {
    "duration": 297,
    "start_time": "2025-06-11T14:43:46.039Z"
   },
   {
    "duration": 257,
    "start_time": "2025-06-11T14:44:05.269Z"
   },
   {
    "duration": 266,
    "start_time": "2025-06-11T14:44:26.889Z"
   },
   {
    "duration": 258,
    "start_time": "2025-06-11T14:44:53.181Z"
   },
   {
    "duration": 382,
    "start_time": "2025-06-11T14:45:28.509Z"
   },
   {
    "duration": 339,
    "start_time": "2025-06-11T14:45:52.881Z"
   },
   {
    "duration": 434,
    "start_time": "2025-06-11T14:47:06.711Z"
   },
   {
    "duration": 383,
    "start_time": "2025-06-11T14:47:25.769Z"
   },
   {
    "duration": 141,
    "start_time": "2025-06-11T15:10:44.962Z"
   },
   {
    "duration": 14,
    "start_time": "2025-06-11T15:10:50.999Z"
   },
   {
    "duration": 94,
    "start_time": "2025-06-11T15:10:59.722Z"
   },
   {
    "duration": 11,
    "start_time": "2025-06-11T15:11:04.550Z"
   },
   {
    "duration": 12,
    "start_time": "2025-06-11T15:11:21.929Z"
   },
   {
    "duration": 14,
    "start_time": "2025-06-11T15:11:28.176Z"
   },
   {
    "duration": 16,
    "start_time": "2025-06-11T15:11:33.905Z"
   },
   {
    "duration": 11,
    "start_time": "2025-06-11T15:13:50.098Z"
   },
   {
    "duration": 11,
    "start_time": "2025-06-11T15:13:59.345Z"
   },
   {
    "duration": 102,
    "start_time": "2025-06-11T15:14:12.937Z"
   },
   {
    "duration": 6,
    "start_time": "2025-06-11T15:14:22.666Z"
   },
   {
    "duration": 6,
    "start_time": "2025-06-11T15:14:43.248Z"
   },
   {
    "duration": 11,
    "start_time": "2025-06-11T15:15:06.510Z"
   },
   {
    "duration": 10,
    "start_time": "2025-06-11T15:15:57.893Z"
   },
   {
    "duration": 11,
    "start_time": "2025-06-11T15:16:24.211Z"
   },
   {
    "duration": 12,
    "start_time": "2025-06-11T15:16:28.818Z"
   },
   {
    "duration": 10,
    "start_time": "2025-06-11T15:18:47.679Z"
   },
   {
    "duration": 11,
    "start_time": "2025-06-11T15:18:57.831Z"
   },
   {
    "duration": 4,
    "start_time": "2025-06-11T15:19:03.243Z"
   },
   {
    "duration": 65,
    "start_time": "2025-06-11T15:19:08.158Z"
   },
   {
    "duration": 10,
    "start_time": "2025-06-11T15:19:13.822Z"
   },
   {
    "duration": 10,
    "start_time": "2025-06-11T15:19:34.676Z"
   },
   {
    "duration": 279,
    "start_time": "2025-06-11T15:20:17.383Z"
   },
   {
    "duration": 10,
    "start_time": "2025-06-11T15:20:32.839Z"
   },
   {
    "duration": 7,
    "start_time": "2025-06-11T15:23:25.695Z"
   },
   {
    "duration": 6,
    "start_time": "2025-06-11T15:23:54.470Z"
   },
   {
    "duration": 11,
    "start_time": "2025-06-11T15:23:55.609Z"
   },
   {
    "duration": 12,
    "start_time": "2025-06-11T15:24:49.470Z"
   },
   {
    "duration": 12,
    "start_time": "2025-06-11T15:24:52.530Z"
   },
   {
    "duration": 317,
    "start_time": "2025-06-11T15:25:05.946Z"
   },
   {
    "duration": 289,
    "start_time": "2025-06-11T15:25:29.088Z"
   },
   {
    "duration": 269,
    "start_time": "2025-06-11T15:27:37.397Z"
   },
   {
    "duration": 246,
    "start_time": "2025-06-11T15:28:14.462Z"
   },
   {
    "duration": 244,
    "start_time": "2025-06-11T15:28:22.768Z"
   },
   {
    "duration": 243,
    "start_time": "2025-06-11T15:28:27.772Z"
   },
   {
    "duration": 287,
    "start_time": "2025-06-11T15:28:30.718Z"
   },
   {
    "duration": 357,
    "start_time": "2025-06-11T15:31:59.332Z"
   },
   {
    "duration": 449,
    "start_time": "2025-06-11T15:33:39.992Z"
   },
   {
    "duration": 6,
    "start_time": "2025-06-11T15:34:29.452Z"
   },
   {
    "duration": 14,
    "start_time": "2025-06-11T15:34:36.721Z"
   },
   {
    "duration": 14,
    "start_time": "2025-06-11T15:34:45.118Z"
   },
   {
    "duration": 429,
    "start_time": "2025-06-11T15:35:01.912Z"
   },
   {
    "duration": 495,
    "start_time": "2025-06-11T15:37:04.895Z"
   },
   {
    "duration": 415,
    "start_time": "2025-06-11T15:37:13.803Z"
   },
   {
    "duration": 276,
    "start_time": "2025-06-11T15:37:24.146Z"
   },
   {
    "duration": 321,
    "start_time": "2025-06-11T15:52:08.989Z"
   },
   {
    "duration": 5,
    "start_time": "2025-06-11T15:56:56.734Z"
   },
   {
    "duration": 10161,
    "start_time": "2025-06-11T16:09:04.291Z"
   },
   {
    "duration": 6,
    "start_time": "2025-06-11T16:09:14.456Z"
   },
   {
    "duration": 50,
    "start_time": "2025-06-11T16:09:14.463Z"
   },
   {
    "duration": 3,
    "start_time": "2025-06-11T16:09:14.515Z"
   },
   {
    "duration": 95,
    "start_time": "2025-06-11T16:09:14.520Z"
   },
   {
    "duration": 21,
    "start_time": "2025-06-11T16:09:14.617Z"
   },
   {
    "duration": 68,
    "start_time": "2025-06-11T16:09:14.640Z"
   },
   {
    "duration": 18,
    "start_time": "2025-06-11T16:09:14.709Z"
   },
   {
    "duration": 502,
    "start_time": "2025-06-11T16:09:14.728Z"
   },
   {
    "duration": 11,
    "start_time": "2025-06-11T16:09:15.231Z"
   },
   {
    "duration": 400,
    "start_time": "2025-06-11T16:09:15.243Z"
   },
   {
    "duration": 285,
    "start_time": "2025-06-11T16:09:15.645Z"
   },
   {
    "duration": 7,
    "start_time": "2025-06-11T16:09:15.936Z"
   },
   {
    "duration": 276,
    "start_time": "2025-06-11T16:09:15.945Z"
   },
   {
    "duration": 520,
    "start_time": "2025-06-11T16:09:16.222Z"
   },
   {
    "duration": 355,
    "start_time": "2025-06-11T16:09:16.744Z"
   },
   {
    "duration": 4,
    "start_time": "2025-06-11T16:09:17.101Z"
   },
   {
    "duration": 89,
    "start_time": "2025-06-11T16:09:17.106Z"
   },
   {
    "duration": 18,
    "start_time": "2025-06-11T16:09:17.197Z"
   },
   {
    "duration": 104824,
    "start_time": "2025-06-11T16:09:17.217Z"
   },
   {
    "duration": 5,
    "start_time": "2025-06-11T16:11:02.042Z"
   },
   {
    "duration": 107,
    "start_time": "2025-06-11T16:11:02.048Z"
   },
   {
    "duration": 10586,
    "start_time": "2025-06-11T16:22:32.333Z"
   },
   {
    "duration": 6,
    "start_time": "2025-06-11T16:22:42.923Z"
   },
   {
    "duration": 38,
    "start_time": "2025-06-11T16:22:42.931Z"
   },
   {
    "duration": 4,
    "start_time": "2025-06-11T16:22:42.971Z"
   },
   {
    "duration": 43,
    "start_time": "2025-06-11T16:22:42.977Z"
   },
   {
    "duration": 14,
    "start_time": "2025-06-11T16:22:43.022Z"
   },
   {
    "duration": 8,
    "start_time": "2025-06-11T16:22:43.038Z"
   },
   {
    "duration": 9,
    "start_time": "2025-06-11T16:22:43.047Z"
   },
   {
    "duration": 489,
    "start_time": "2025-06-11T16:22:43.058Z"
   },
   {
    "duration": 8,
    "start_time": "2025-06-11T16:22:43.549Z"
   },
   {
    "duration": 394,
    "start_time": "2025-06-11T16:22:43.558Z"
   },
   {
    "duration": 286,
    "start_time": "2025-06-11T16:22:43.954Z"
   },
   {
    "duration": 6,
    "start_time": "2025-06-11T16:22:44.242Z"
   },
   {
    "duration": 274,
    "start_time": "2025-06-11T16:22:44.251Z"
   },
   {
    "duration": 411,
    "start_time": "2025-06-11T16:22:44.527Z"
   },
   {
    "duration": 363,
    "start_time": "2025-06-11T16:22:44.939Z"
   },
   {
    "duration": 4,
    "start_time": "2025-06-11T16:22:45.303Z"
   },
   {
    "duration": 36,
    "start_time": "2025-06-11T16:22:45.309Z"
   },
   {
    "duration": 16,
    "start_time": "2025-06-11T16:22:45.347Z"
   },
   {
    "duration": 69987,
    "start_time": "2025-06-11T16:22:45.365Z"
   },
   {
    "duration": 5,
    "start_time": "2025-06-11T16:23:55.354Z"
   },
   {
    "duration": 80,
    "start_time": "2025-06-11T16:23:55.360Z"
   },
   {
    "duration": 13,
    "start_time": "2025-06-11T16:23:55.442Z"
   },
   {
    "duration": 43,
    "start_time": "2025-06-11T16:23:55.456Z"
   },
   {
    "duration": 0,
    "start_time": "2025-06-11T16:23:55.500Z"
   },
   {
    "duration": 0,
    "start_time": "2025-06-11T16:23:55.501Z"
   },
   {
    "duration": 0,
    "start_time": "2025-06-11T16:23:55.502Z"
   },
   {
    "duration": 6,
    "start_time": "2025-06-11T16:24:40.040Z"
   },
   {
    "duration": 38,
    "start_time": "2025-06-11T16:24:40.679Z"
   },
   {
    "duration": 6,
    "start_time": "2025-06-11T16:25:07.885Z"
   },
   {
    "duration": 39,
    "start_time": "2025-06-11T16:25:08.395Z"
   },
   {
    "duration": 6,
    "start_time": "2025-06-11T16:27:16.191Z"
   },
   {
    "duration": 38,
    "start_time": "2025-06-11T16:27:16.805Z"
   },
   {
    "duration": 6,
    "start_time": "2025-06-11T16:33:52.480Z"
   },
   {
    "duration": 49,
    "start_time": "2025-06-11T16:33:52.685Z"
   },
   {
    "duration": 6,
    "start_time": "2025-06-11T16:37:08.780Z"
   },
   {
    "duration": 78,
    "start_time": "2025-06-11T16:37:09.393Z"
   },
   {
    "duration": 6,
    "start_time": "2025-06-11T16:37:24.036Z"
   },
   {
    "duration": 1867,
    "start_time": "2025-06-11T16:37:24.650Z"
   },
   {
    "duration": 4,
    "start_time": "2025-06-11T16:39:19.646Z"
   },
   {
    "duration": 4,
    "start_time": "2025-06-11T16:39:21.185Z"
   },
   {
    "duration": 11,
    "start_time": "2025-06-11T16:39:24.873Z"
   },
   {
    "duration": 10117,
    "start_time": "2025-06-11T16:45:34.048Z"
   },
   {
    "duration": 1772,
    "start_time": "2025-06-11T16:45:44.167Z"
   },
   {
    "duration": 34,
    "start_time": "2025-06-11T16:45:45.944Z"
   },
   {
    "duration": 3,
    "start_time": "2025-06-11T16:45:45.980Z"
   },
   {
    "duration": 52,
    "start_time": "2025-06-11T16:45:45.985Z"
   },
   {
    "duration": 8,
    "start_time": "2025-06-11T16:45:46.039Z"
   },
   {
    "duration": 12,
    "start_time": "2025-06-11T16:45:46.049Z"
   },
   {
    "duration": 12,
    "start_time": "2025-06-11T16:45:46.062Z"
   },
   {
    "duration": 438,
    "start_time": "2025-06-11T16:45:46.076Z"
   },
   {
    "duration": 11,
    "start_time": "2025-06-11T16:45:46.516Z"
   },
   {
    "duration": 569,
    "start_time": "2025-06-11T16:45:46.528Z"
   },
   {
    "duration": 320,
    "start_time": "2025-06-11T16:45:47.099Z"
   },
   {
    "duration": 6,
    "start_time": "2025-06-11T16:45:47.420Z"
   },
   {
    "duration": 276,
    "start_time": "2025-06-11T16:45:47.437Z"
   },
   {
    "duration": 410,
    "start_time": "2025-06-11T16:45:47.715Z"
   },
   {
    "duration": 377,
    "start_time": "2025-06-11T16:45:48.126Z"
   },
   {
    "duration": 5,
    "start_time": "2025-06-11T16:45:48.504Z"
   },
   {
    "duration": 52,
    "start_time": "2025-06-11T16:45:48.510Z"
   },
   {
    "duration": 14,
    "start_time": "2025-06-11T16:45:48.563Z"
   },
   {
    "duration": 74866,
    "start_time": "2025-06-11T16:45:48.578Z"
   },
   {
    "duration": 5,
    "start_time": "2025-06-11T16:47:03.446Z"
   },
   {
    "duration": 28,
    "start_time": "2025-06-11T16:47:03.453Z"
   },
   {
    "duration": 55,
    "start_time": "2025-06-11T16:47:03.482Z"
   },
   {
    "duration": 1919,
    "start_time": "2025-06-11T16:47:03.538Z"
   },
   {
    "duration": 5,
    "start_time": "2025-06-11T16:47:05.458Z"
   },
   {
    "duration": 19,
    "start_time": "2025-06-11T16:47:05.464Z"
   },
   {
    "duration": 28,
    "start_time": "2025-06-11T16:47:05.486Z"
   },
   {
    "duration": 31,
    "start_time": "2025-06-11T16:47:05.515Z"
   },
   {
    "duration": 4,
    "start_time": "2025-06-11T16:47:05.548Z"
   },
   {
    "duration": 90115,
    "start_time": "2025-06-11T16:47:05.553Z"
   },
   {
    "duration": 480,
    "start_time": "2025-06-11T16:48:35.670Z"
   },
   {
    "duration": 4,
    "start_time": "2025-06-11T16:53:26.192Z"
   },
   {
    "duration": 10128,
    "start_time": "2025-06-11T16:57:50.602Z"
   },
   {
    "duration": 1708,
    "start_time": "2025-06-11T16:58:00.733Z"
   },
   {
    "duration": 36,
    "start_time": "2025-06-11T16:58:02.442Z"
   },
   {
    "duration": 4,
    "start_time": "2025-06-11T16:58:02.480Z"
   },
   {
    "duration": 69,
    "start_time": "2025-06-11T16:58:02.487Z"
   },
   {
    "duration": 9,
    "start_time": "2025-06-11T16:58:02.558Z"
   },
   {
    "duration": 61,
    "start_time": "2025-06-11T16:58:02.569Z"
   },
   {
    "duration": 8,
    "start_time": "2025-06-11T16:58:02.632Z"
   },
   {
    "duration": 455,
    "start_time": "2025-06-11T16:58:02.642Z"
   },
   {
    "duration": 7,
    "start_time": "2025-06-11T16:58:03.099Z"
   },
   {
    "duration": 543,
    "start_time": "2025-06-11T16:58:03.108Z"
   },
   {
    "duration": 297,
    "start_time": "2025-06-11T16:58:03.652Z"
   },
   {
    "duration": 6,
    "start_time": "2025-06-11T16:58:03.951Z"
   },
   {
    "duration": 280,
    "start_time": "2025-06-11T16:58:03.960Z"
   },
   {
    "duration": 397,
    "start_time": "2025-06-11T16:58:04.242Z"
   },
   {
    "duration": 350,
    "start_time": "2025-06-11T16:58:04.641Z"
   },
   {
    "duration": 4,
    "start_time": "2025-06-11T16:58:04.992Z"
   },
   {
    "duration": 7,
    "start_time": "2025-06-11T16:58:04.997Z"
   },
   {
    "duration": 7,
    "start_time": "2025-06-11T16:58:05.006Z"
   },
   {
    "duration": 61429,
    "start_time": "2025-06-11T16:58:05.014Z"
   },
   {
    "duration": 4,
    "start_time": "2025-06-11T16:59:06.445Z"
   },
   {
    "duration": 20,
    "start_time": "2025-06-11T16:59:06.451Z"
   },
   {
    "duration": 39,
    "start_time": "2025-06-11T16:59:06.473Z"
   },
   {
    "duration": 1884,
    "start_time": "2025-06-11T16:59:06.514Z"
   },
   {
    "duration": 5,
    "start_time": "2025-06-11T16:59:08.400Z"
   },
   {
    "duration": 4,
    "start_time": "2025-06-11T16:59:08.407Z"
   },
   {
    "duration": 29,
    "start_time": "2025-06-11T16:59:08.412Z"
   },
   {
    "duration": 12,
    "start_time": "2025-06-11T16:59:08.442Z"
   },
   {
    "duration": 20,
    "start_time": "2025-06-11T16:59:08.456Z"
   },
   {
    "duration": 4,
    "start_time": "2025-06-11T16:59:08.477Z"
   },
   {
    "duration": 45767,
    "start_time": "2025-06-11T16:59:08.482Z"
   },
   {
    "duration": 506,
    "start_time": "2025-06-11T16:59:54.250Z"
   },
   {
    "duration": 10467,
    "start_time": "2025-06-11T17:35:40.639Z"
   },
   {
    "duration": 1776,
    "start_time": "2025-06-11T17:35:51.108Z"
   },
   {
    "duration": 34,
    "start_time": "2025-06-11T17:35:52.885Z"
   },
   {
    "duration": 3,
    "start_time": "2025-06-11T17:35:52.922Z"
   },
   {
    "duration": 53,
    "start_time": "2025-06-11T17:35:52.927Z"
   },
   {
    "duration": 10,
    "start_time": "2025-06-11T17:35:52.981Z"
   },
   {
    "duration": 21,
    "start_time": "2025-06-11T17:35:52.992Z"
   },
   {
    "duration": 21,
    "start_time": "2025-06-11T17:35:53.015Z"
   },
   {
    "duration": 576,
    "start_time": "2025-06-11T17:35:53.037Z"
   },
   {
    "duration": 7,
    "start_time": "2025-06-11T17:35:53.616Z"
   },
   {
    "duration": 552,
    "start_time": "2025-06-11T17:35:53.625Z"
   },
   {
    "duration": 310,
    "start_time": "2025-06-11T17:35:54.180Z"
   },
   {
    "duration": 7,
    "start_time": "2025-06-11T17:35:54.493Z"
   },
   {
    "duration": 307,
    "start_time": "2025-06-11T17:35:54.502Z"
   },
   {
    "duration": 421,
    "start_time": "2025-06-11T17:35:54.811Z"
   },
   {
    "duration": 365,
    "start_time": "2025-06-11T17:35:55.233Z"
   },
   {
    "duration": 4,
    "start_time": "2025-06-11T17:35:55.599Z"
   },
   {
    "duration": 6,
    "start_time": "2025-06-11T17:35:55.605Z"
   },
   {
    "duration": 8,
    "start_time": "2025-06-11T17:35:55.613Z"
   },
   {
    "duration": 64521,
    "start_time": "2025-06-11T17:35:55.622Z"
   },
   {
    "duration": 4,
    "start_time": "2025-06-11T17:37:00.145Z"
   },
   {
    "duration": 32,
    "start_time": "2025-06-11T17:37:00.151Z"
   },
   {
    "duration": 30,
    "start_time": "2025-06-11T17:37:00.184Z"
   },
   {
    "duration": 1951,
    "start_time": "2025-06-11T17:37:00.216Z"
   },
   {
    "duration": 4,
    "start_time": "2025-06-11T17:37:02.169Z"
   },
   {
    "duration": 32,
    "start_time": "2025-06-11T17:37:02.174Z"
   },
   {
    "duration": 39,
    "start_time": "2025-06-11T17:37:02.208Z"
   },
   {
    "duration": 65,
    "start_time": "2025-06-11T17:37:02.250Z"
   },
   {
    "duration": 48,
    "start_time": "2025-06-11T17:37:02.317Z"
   },
   {
    "duration": 11,
    "start_time": "2025-06-11T17:37:02.366Z"
   },
   {
    "duration": 53818,
    "start_time": "2025-06-11T17:37:02.378Z"
   },
   {
    "duration": 549,
    "start_time": "2025-06-11T17:37:56.198Z"
   }
  ],
  "kernelspec": {
   "display_name": "Python 3 (ipykernel)",
   "language": "python",
   "name": "python3"
  },
  "language_info": {
   "codemirror_mode": {
    "name": "ipython",
    "version": 3
   },
   "file_extension": ".py",
   "mimetype": "text/x-python",
   "name": "python",
   "nbconvert_exporter": "python",
   "pygments_lexer": "ipython3",
   "version": "3.12.7"
  },
  "toc": {
   "base_numbering": 1,
   "nav_menu": {},
   "number_sections": true,
   "sideBar": true,
   "skip_h1_title": true,
   "title_cell": "Содержание",
   "title_sidebar": "Contents",
   "toc_cell": true,
   "toc_position": {
    "height": "calc(100% - 180px)",
    "left": "10px",
    "top": "150px",
    "width": "260.781px"
   },
   "toc_section_display": true,
   "toc_window_display": true
  }
 },
 "nbformat": 4,
 "nbformat_minor": 4
}
